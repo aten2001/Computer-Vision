{
 "cells": [
  {
   "cell_type": "code",
   "execution_count": 161,
   "metadata": {},
   "outputs": [],
   "source": [
    "import numpy as np\n",
    "import requests\n",
    "import pandas as pd\n",
    "import os\n",
    "import bs4 as bs\n",
    "import numpy as np\n",
    "import pickle\n",
    "from scipy.stats import linregress\n",
    "import matplotlib.pyplot as plt\n",
    "from collections import Counter\n",
    "from sklearn import svm, neighbors\n",
    "from sklearn.model_selection import train_test_split\n",
    "from sklearn.ensemble import VotingClassifier, RandomForestClassifier"
   ]
  },
  {
   "cell_type": "code",
   "execution_count": 3,
   "metadata": {},
   "outputs": [],
   "source": [
    "def get_sp500():\n",
    "    url = \"http://en.wikipedia.org/wiki/List_of_S%26P_500_companies\"\n",
    "    resp = requests.get(url)\n",
    "    soup = bs.BeautifulSoup(resp.text, 'lxml')\n",
    "    table = soup.find('table', {'class': 'wikitable sortable'})\n",
    "    tickers = []\n",
    "    for row in table.findAll('tr')[1:]:\n",
    "        ticker = row.findAll('td')[0].text.strip()\n",
    "        tickers.append(ticker)  \n",
    "    #with open(\"sp500tickers.pickle\",\"wb\") as f:\n",
    "    #    pickle.dump(tickers,f)  \n",
    "    return tickers"
   ]
  },
  {
   "cell_type": "code",
   "execution_count": 23,
   "metadata": {},
   "outputs": [],
   "source": [
    "def compile_data():\n",
    "    tickers = get_sp500()\n",
    "    main_df = pd.DataFrame()\n",
    "    for num, ticker in enumerate(tickers):\n",
    "        if not os.path.exists(\"data/{}.csv\".format(ticker)):\n",
    "            continue\n",
    "        df = pd.read_csv(\"data/{}.csv\".format(ticker))\n",
    "        df.set_index('Date', inplace=True)\n",
    "        df.rename(columns = {'Adj Close': ticker}, inplace=True)\n",
    "        df.drop(['Open', 'High', 'Low', 'Close', 'Volume'], 1, inplace=True)\n",
    "        \n",
    "        if main_df.empty:\n",
    "            main_df = df\n",
    "        else:\n",
    "            main_df = main_df.join(df, how='outer')\n",
    "            \n",
    "        if num % 10 == 0:\n",
    "            print(\"{} csvs done\".format(num))\n",
    "        \n",
    "    print(main_df.head())\n",
    "    main_df.to_csv('data/joined/sp500_joined_closes.csv')\n",
    "\n",
    "    "
   ]
  },
  {
   "cell_type": "code",
   "execution_count": 25,
   "metadata": {
    "scrolled": true
   },
   "outputs": [
    {
     "name": "stdout",
     "output_type": "stream",
     "text": [
      "0 csvs done\n",
      "10 csvs done\n",
      "20 csvs done\n",
      "30 csvs done\n",
      "40 csvs done\n",
      "50 csvs done\n",
      "60 csvs done\n",
      "70 csvs done\n",
      "80 csvs done\n",
      "90 csvs done\n",
      "100 csvs done\n",
      "110 csvs done\n",
      "120 csvs done\n",
      "130 csvs done\n",
      "140 csvs done\n",
      "150 csvs done\n",
      "160 csvs done\n",
      "170 csvs done\n",
      "180 csvs done\n",
      "190 csvs done\n",
      "200 csvs done\n",
      "210 csvs done\n",
      "220 csvs done\n",
      "230 csvs done\n",
      "240 csvs done\n",
      "250 csvs done\n",
      "260 csvs done\n",
      "270 csvs done\n",
      "280 csvs done\n",
      "290 csvs done\n",
      "300 csvs done\n",
      "310 csvs done\n",
      "320 csvs done\n",
      "330 csvs done\n",
      "340 csvs done\n",
      "350 csvs done\n",
      "360 csvs done\n",
      "370 csvs done\n",
      "380 csvs done\n",
      "390 csvs done\n",
      "400 csvs done\n",
      "410 csvs done\n",
      "420 csvs done\n",
      "430 csvs done\n",
      "440 csvs done\n",
      "450 csvs done\n",
      "460 csvs done\n",
      "470 csvs done\n",
      "480 csvs done\n",
      "490 csvs done\n",
      "500 csvs done\n",
      "                   MMM        ABT       ABBV        ABMD         ACN  \\\n",
      "Date                                                                   \n",
      "2018-01-02  223.990814  56.790066  89.650261  192.490005  149.871857   \n",
      "2018-01-03  223.981308  56.915638  91.053162  195.820007  150.563538   \n",
      "2018-01-04  226.909073  56.819042  90.533905  199.250000  152.346329   \n",
      "2018-01-05  228.677124  56.983257  92.109917  202.320007  153.603058   \n",
      "2018-01-08  227.935654  56.819042  90.634102  207.800003  154.830551   \n",
      "\n",
      "                 ATVI        ADBE    AMD         AAP        AES  ...  \\\n",
      "Date                                                             ...   \n",
      "2018-01-02  63.470295  177.699997  10.98  105.789520  10.196932  ...   \n",
      "2018-01-03  64.457237  181.039993  11.55  106.746803  10.187559  ...   \n",
      "2018-01-04  63.815731  183.220001  12.12  110.685616  10.150070  ...   \n",
      "2018-01-05  65.503403  185.339996  11.88  111.862274  10.187559  ...   \n",
      "2018-01-08  65.760002  185.039993  12.28  111.074501  10.187559  ...   \n",
      "\n",
      "                  WLTW        WYNN        XEL        XRX       XLNX  \\\n",
      "Date                                                                  \n",
      "2018-01-02  143.120529  157.335983  45.309055  27.542782  65.902611   \n",
      "2018-01-03  145.798157  155.631454  45.005795  27.505270  67.222992   \n",
      "2018-01-04  147.278137  156.474106  44.655148  27.842875  68.436569   \n",
      "2018-01-05  148.222595  157.517929  44.342415  28.049187  71.989967   \n",
      "2018-01-08  147.424210  155.420746  44.674107  28.377413  72.465683   \n",
      "\n",
      "                  XYL        YUM         ZBH       ZION        ZTS  \n",
      "Date                                                                \n",
      "2018-01-02  66.618118  79.217018  122.292923  48.687260  70.983826  \n",
      "2018-01-03  67.430420  79.149078  123.140678  48.629650  71.310211  \n",
      "2018-01-04  67.880608  79.954826  122.963242  48.831310  71.735512  \n",
      "2018-01-05  67.753387  80.420807  124.185585  48.850513  72.556412  \n",
      "2018-01-08  67.998055  80.556732  124.422165  48.610439  73.426773  \n",
      "\n",
      "[5 rows x 503 columns]\n"
     ]
    }
   ],
   "source": [
    "compile_data()"
   ]
  },
  {
   "cell_type": "code",
   "execution_count": 51,
   "metadata": {},
   "outputs": [],
   "source": [
    "def visualize_data():\n",
    "    df = pd.read_csv('data/joined/sp500_joined_closes.csv')\n",
    "    #df['AAPL'].plot()\n",
    "    #plt.show()\n",
    "    df_corr = df.corr()\n",
    "    data = df_corr.values\n",
    "    fig = plt.figure()\n",
    "    ax = fig.add_subplot(1,1,1)\n",
    "    \n",
    "    heatmap = ax.pcolor(data, cmap=plt.cm.RdYlGn)\n",
    "    fig.colorbar(heatmap)\n",
    "    ax.set_xticks(np.arange(data.shape[0]) + 0.5, minor = False)\n",
    "    ax.set_xticks(np.arange(data.shape[0]) + 0.5, minor = False)\n",
    "    ax.invert_yaxis()\n",
    "    ax.xaxis.tick_top()\n",
    "    \n",
    "    column_labels=df_corr.columns\n",
    "    row_labels = df_corr.index\n",
    "    \n",
    "    ax.set_xticklabels(column_labels)\n",
    "    ax.set_yticklabels(row_labels)\n",
    "    \n",
    "    plt.xticks(rotation=90)\n",
    "    heatmap.set_clim(-1,1)\n",
    "    plt.tight_layout()\n",
    "    plt.show()\n",
    "\n",
    "    \n",
    "    \n",
    "    "
   ]
  },
  {
   "cell_type": "code",
   "execution_count": 50,
   "metadata": {
    "scrolled": true
   },
   "outputs": [
    {
     "data": {
      "image/png": "[encoded data removed]",
      "text/plain": [
       "<Figure size 432x288 with 2 Axes>"
      ]
     },
     "metadata": {},
     "output_type": "display_data"
    },
    {
     "data": {
      "text/plain": [
       "<Figure size 432x288 with 0 Axes>"
      ]
     },
     "metadata": {},
     "output_type": "display_data"
    }
   ],
   "source": [
    "visualize_data()"
   ]
  },
  {
   "cell_type": "code",
   "execution_count": 54,
   "metadata": {},
   "outputs": [
    {
     "data": {
      "text/plain": [
       "0      223.990814\n",
       "1      223.981308\n",
       "2      226.909073\n",
       "3      228.677124\n",
       "4      227.935654\n",
       "5      229.352005\n",
       "6      229.218918\n",
       "7      230.331116\n",
       "8      232.384293\n",
       "9      232.640945\n",
       "10     235.844360\n",
       "11     233.753143\n",
       "12     235.910889\n",
       "13     235.074387\n",
       "14     234.133331\n",
       "15     235.445114\n",
       "16     239.884247\n",
       "17     245.844299\n",
       "18     243.353821\n",
       "19     239.104782\n",
       "20     238.116196\n",
       "21     235.682770\n",
       "22     233.049698\n",
       "23     219.998459\n",
       "24     222.080185\n",
       "25     221.661942\n",
       "26     211.871140\n",
       "27     214.076462\n",
       "28     217.859695\n",
       "29     219.922424\n",
       "          ...    \n",
       "418    161.720001\n",
       "419    158.639999\n",
       "420    160.070007\n",
       "421    164.229996\n",
       "422    163.940002\n",
       "423    165.940002\n",
       "424    168.860001\n",
       "425    168.080002\n",
       "426    170.580002\n",
       "427    171.440002\n",
       "428    169.669998\n",
       "429    168.070007\n",
       "430    167.440002\n",
       "431    167.070007\n",
       "432    166.759995\n",
       "433    166.759995\n",
       "434    164.740005\n",
       "435    164.000000\n",
       "436    163.830002\n",
       "437    164.529999\n",
       "438    164.399994\n",
       "439    158.380005\n",
       "440    155.649994\n",
       "441    155.229996\n",
       "442    155.820007\n",
       "443    153.520004\n",
       "444    150.740005\n",
       "445    150.990005\n",
       "446    152.309998\n",
       "447    158.100006\n",
       "Name: MMM, Length: 448, dtype: float64"
      ]
     },
     "execution_count": 54,
     "metadata": {},
     "output_type": "execute_result"
    }
   ],
   "source": [
    "df = pd.read_csv('data/joined/sp500_joined_closes.csv')\n",
    "df['MMM']"
   ]
  },
  {
   "cell_type": "code",
   "execution_count": 95,
   "metadata": {},
   "outputs": [],
   "source": [
    "def process_data_for_labels(ticker):\n",
    "    days = 7\n",
    "    df = pd.read_csv('data/joined/sp500_joined_closes.csv', index_col=0)\n",
    "    tickers = df.columns.values.tolist()\n",
    "    df.fillna(0, inplace=True)\n",
    "    for i in range(1, days + 1):\n",
    "        df['{}_{}d'.format(ticker, i)] = ((df[ticker].shift(-i) - df[ticker]) / df[ticker])\n",
    "    \n",
    "    df.fillna(0, inplace=True)\n",
    "    return tickers, df\n",
    "    "
   ]
  },
  {
   "cell_type": "code",
   "execution_count": 152,
   "metadata": {},
   "outputs": [],
   "source": [
    "def buy_sell_hold(*args):\n",
    "    cols = [c for c in args]\n",
    "    req = 0.02\n",
    "    for col in cols:\n",
    "        if col > 0.02:\n",
    "            return 1\n",
    "        if col < -0.035:\n",
    "            return -1\n",
    "    return 0\n",
    "    "
   ]
  },
  {
   "cell_type": "code",
   "execution_count": 153,
   "metadata": {},
   "outputs": [],
   "source": [
    "def extract_featuresets(ticker):\n",
    "    tickers, df = process_data_for_labels(ticker)\n",
    "    \n",
    "    df['{}_target'.format(ticker)] = list(map(buy_sell_hold,\n",
    "                                                 df['{}_1d'.format(ticker)],\n",
    "                                                 df['{}_2d'.format(ticker)],\n",
    "                                                 df['{}_3d'.format(ticker)],\n",
    "                                                 df['{}_4d'.format(ticker)],\n",
    "                                                 df['{}_5d'.format(ticker)],\n",
    "                                                 df['{}_6d'.format(ticker)],\n",
    "                                                 df['{}_7d'.format(ticker)]))\n",
    "   \n",
    "    vals = df['{}_target'.format(ticker)].values.tolist()\n",
    "    str_vals = [str(i) for i in vals]\n",
    "    print('Data spread: ', Counter(str_vals))\n",
    "    \n",
    "    df.fillna(0, inplace=True)\n",
    "    df= df.replace([np.inf, -np.inf], np.nan)\n",
    "    df.dropna(inplace=True)\n",
    "    \n",
    "    df_vals = df[[ticker for ticker in tickers]].pct_change()\n",
    "    df_vals = df_vals.replace([np.inf, -np.inf], 0)\n",
    "    df_vals.fillna(0,inplace=True)\n",
    "    \n",
    "    X = df_vals.values\n",
    "    y = df['{}_target'.format(ticker)].values\n",
    "    \n",
    "    return X, y, df\n",
    "    "
   ]
  },
  {
   "cell_type": "code",
   "execution_count": 154,
   "metadata": {
    "scrolled": false
   },
   "outputs": [
    {
     "name": "stdout",
     "output_type": "stream",
     "text": [
      "Data spread:  Counter({'1': 253, '0': 101, '-1': 94})\n"
     ]
    }
   ],
   "source": [
    "X, y, df = extract_featuresets('AAPL')"
   ]
  },
  {
   "cell_type": "code",
   "execution_count": 182,
   "metadata": {},
   "outputs": [],
   "source": [
    "def train_test(ticker):\n",
    "    X, y, df = extract_featuresets(ticker)\n",
    "    \n",
    "    X_train, X_test, y_train, y_test = train_test_split(X, y, test_size=0.25)\n",
    "    clf = VotingClassifier([('lsvc', svm.LinearSVC()),\n",
    "                            ('knn', neighbors.KNeighborsClassifier()),\n",
    "                            ('rfor', RandomForestClassifier())])\n",
    "    \n",
    "    clf.fit(X_train, y_train)\n",
    "    confidence = clf.score(X_test, y_test)\n",
    "    print('accuracy:', confidence)\n",
    "    predictions = clf.predict(X_test)\n",
    "    print('predicted class counts:', Counter(predictions))\n",
    "    print()\n",
    "    print()\n",
    "    \n",
    "    \n",
    "    \n",
    "    #with open(\"clf.pickle\",\"wb\") as f:\n",
    "    #    pickle.dump(clf,f)\n",
    "    return predictions[-1], confidence"
   ]
  },
  {
   "cell_type": "code",
   "execution_count": 201,
   "metadata": {
    "scrolled": true
   },
   "outputs": [
    {
     "name": "stdout",
     "output_type": "stream",
     "text": [
      "Data spread:  Counter({'1': 253, '0': 101, '-1': 94})\n",
      "accuracy: 0.45535714285714285\n",
      "predicted class counts: Counter({1: 94, -1: 11, 0: 7})\n",
      "\n",
      "\n",
      "[ 1  1  1 -1  0  1  1 -1  1  1  1  1  0  1  1  1  1  1  1  1  1  1  1  1\n",
      "  1  1  1  1 -1  0  1  1  1  1 -1  1 -1  1  1  1  1  1  1  1  1  1  1  1\n",
      "  1  1  1  1  1  1  1  1  0  0  0  1  1  1  1 -1  1 -1 -1 -1  1  1  0  1\n",
      "  1  1  1  1  1 -1  1  1  1  1  1  1  1  1  1  1  1  1  1  1  1  1  1 -1\n",
      "  1  1  1  1  1  1  1  1  1  1  1  1  1  1  1  1]\n",
      "1\n"
     ]
    },
    {
     "name": "stderr",
     "output_type": "stream",
     "text": [
      "/home/seb/anaconda3/lib/python3.7/site-packages/sklearn/ensemble/forest.py:245: FutureWarning: The default value of n_estimators will change from 10 in version 0.20 to 100 in 0.22.\n",
      "  \"10 in version 0.20 to 100 in 0.22.\", FutureWarning)\n"
     ]
    }
   ],
   "source": [
    "bsh, acc, p = train_test('AAPL')\n",
    "\n"
   ]
  },
  {
   "cell_type": "code",
   "execution_count": 198,
   "metadata": {},
   "outputs": [],
   "source": [
    "def test_all():\n",
    "    from statistics import mean\n",
    "\n",
    "    tickers = get_sp500()\n",
    "\n",
    "    accuracies = []\n",
    "    for count,ticker in enumerate(tickers):\n",
    "        if not os.path.exists(\"data/{}.csv\".format(ticker)):\n",
    "            continue\n",
    "\n",
    "        if count%10==0:\n",
    "            print(count)\n",
    "\n",
    "        accuracy = predict(ticker)\n",
    "        accuracies.append(accuracy)\n",
    "        print(\"{} accuracy: {}. Average accuracy:{}\".format(ticker,accuracy,mean(accuracies)))"
   ]
  },
  {
   "cell_type": "code",
   "execution_count": 158,
   "metadata": {
    "collapsed": true
   },
   "outputs": [
    {
     "name": "stdout",
     "output_type": "stream",
     "text": [
      "0\n",
      "Data spread:  Counter({'1': 199, '0': 126, '-1': 123})\n"
     ]
    },
    {
     "name": "stderr",
     "output_type": "stream",
     "text": [
      "/home/seb/anaconda3/lib/python3.7/site-packages/sklearn/ensemble/forest.py:245: FutureWarning: The default value of n_estimators will change from 10 in version 0.20 to 100 in 0.22.\n",
      "  \"10 in version 0.20 to 100 in 0.22.\", FutureWarning)\n"
     ]
    },
    {
     "name": "stdout",
     "output_type": "stream",
     "text": [
      "accuracy: 0.4642857142857143\n",
      "predicted class counts: Counter({1: 73, -1: 24, 0: 15})\n",
      "\n",
      "\n",
      "MMM accuracy: 0.4642857142857143. Average accuracy:0.4642857142857143\n",
      "Data spread:  Counter({'1': 201, '0': 171, '-1': 76})\n"
     ]
    },
    {
     "name": "stderr",
     "output_type": "stream",
     "text": [
      "/home/seb/anaconda3/lib/python3.7/site-packages/sklearn/ensemble/forest.py:245: FutureWarning: The default value of n_estimators will change from 10 in version 0.20 to 100 in 0.22.\n",
      "  \"10 in version 0.20 to 100 in 0.22.\", FutureWarning)\n"
     ]
    },
    {
     "name": "stdout",
     "output_type": "stream",
     "text": [
      "accuracy: 0.375\n",
      "predicted class counts: Counter({1: 51, 0: 44, -1: 17})\n",
      "\n",
      "\n",
      "ABT accuracy: 0.375. Average accuracy:0.41964285714285715\n",
      "Data spread:  Counter({'1': 206, '0': 122, '-1': 120})\n"
     ]
    },
    {
     "name": "stderr",
     "output_type": "stream",
     "text": [
      "/home/seb/anaconda3/lib/python3.7/site-packages/sklearn/ensemble/forest.py:245: FutureWarning: The default value of n_estimators will change from 10 in version 0.20 to 100 in 0.22.\n",
      "  \"10 in version 0.20 to 100 in 0.22.\", FutureWarning)\n"
     ]
    },
    {
     "name": "stdout",
     "output_type": "stream",
     "text": [
      "accuracy: 0.42857142857142855\n",
      "predicted class counts: Counter({1: 74, -1: 32, 0: 6})\n",
      "\n",
      "\n",
      "ABBV accuracy: 0.42857142857142855. Average accuracy:0.4226190476190476\n",
      "Data spread:  Counter({'1': 243, '-1': 158, '0': 47})\n"
     ]
    },
    {
     "name": "stderr",
     "output_type": "stream",
     "text": [
      "/home/seb/anaconda3/lib/python3.7/site-packages/sklearn/ensemble/forest.py:245: FutureWarning: The default value of n_estimators will change from 10 in version 0.20 to 100 in 0.22.\n",
      "  \"10 in version 0.20 to 100 in 0.22.\", FutureWarning)\n"
     ]
    },
    {
     "name": "stdout",
     "output_type": "stream",
     "text": [
      "accuracy: 0.45535714285714285\n",
      "predicted class counts: Counter({1: 102, -1: 8, 0: 2})\n",
      "\n",
      "\n",
      "ABMD accuracy: 0.45535714285714285. Average accuracy:0.4308035714285714\n",
      "Data spread:  Counter({'1': 194, '0': 170, '-1': 84})\n"
     ]
    },
    {
     "name": "stderr",
     "output_type": "stream",
     "text": [
      "/home/seb/anaconda3/lib/python3.7/site-packages/sklearn/ensemble/forest.py:245: FutureWarning: The default value of n_estimators will change from 10 in version 0.20 to 100 in 0.22.\n",
      "  \"10 in version 0.20 to 100 in 0.22.\", FutureWarning)\n"
     ]
    },
    {
     "name": "stdout",
     "output_type": "stream",
     "text": [
      "accuracy: 0.4642857142857143\n",
      "predicted class counts: Counter({0: 55, 1: 46, -1: 11})\n",
      "\n",
      "\n",
      "ACN accuracy: 0.4642857142857143. Average accuracy:0.4375\n",
      "Data spread:  Counter({'1': 257, '-1': 135, '0': 56})\n"
     ]
    },
    {
     "name": "stderr",
     "output_type": "stream",
     "text": [
      "/home/seb/anaconda3/lib/python3.7/site-packages/sklearn/ensemble/forest.py:245: FutureWarning: The default value of n_estimators will change from 10 in version 0.20 to 100 in 0.22.\n",
      "  \"10 in version 0.20 to 100 in 0.22.\", FutureWarning)\n"
     ]
    },
    {
     "name": "stdout",
     "output_type": "stream",
     "text": [
      "accuracy: 0.625\n",
      "predicted class counts: Counter({1: 105, -1: 6, 0: 1})\n",
      "\n",
      "\n",
      "ATVI accuracy: 0.625. Average accuracy:0.46875\n",
      "Data spread:  Counter({'1': 245, '-1': 105, '0': 98})\n"
     ]
    },
    {
     "name": "stderr",
     "output_type": "stream",
     "text": [
      "/home/seb/anaconda3/lib/python3.7/site-packages/sklearn/ensemble/forest.py:245: FutureWarning: The default value of n_estimators will change from 10 in version 0.20 to 100 in 0.22.\n",
      "  \"10 in version 0.20 to 100 in 0.22.\", FutureWarning)\n"
     ]
    },
    {
     "name": "stdout",
     "output_type": "stream",
     "text": [
      "accuracy: 0.5089285714285714\n",
      "predicted class counts: Counter({1: 90, -1: 16, 0: 6})\n",
      "\n",
      "\n",
      "ADBE accuracy: 0.5089285714285714. Average accuracy:0.4744897959183673\n",
      "Data spread:  Counter({'1': 271, '-1': 159, '0': 18})\n"
     ]
    },
    {
     "name": "stderr",
     "output_type": "stream",
     "text": [
      "/home/seb/anaconda3/lib/python3.7/site-packages/sklearn/ensemble/forest.py:245: FutureWarning: The default value of n_estimators will change from 10 in version 0.20 to 100 in 0.22.\n",
      "  \"10 in version 0.20 to 100 in 0.22.\", FutureWarning)\n"
     ]
    },
    {
     "name": "stdout",
     "output_type": "stream",
     "text": [
      "accuracy: 0.5982142857142857\n",
      "predicted class counts: Counter({1: 102, -1: 10})\n",
      "\n",
      "\n",
      "AMD accuracy: 0.5982142857142857. Average accuracy:0.48995535714285715\n",
      "Data spread:  Counter({'1': 246, '-1': 119, '0': 83})\n"
     ]
    },
    {
     "name": "stderr",
     "output_type": "stream",
     "text": [
      "/home/seb/anaconda3/lib/python3.7/site-packages/sklearn/ensemble/forest.py:245: FutureWarning: The default value of n_estimators will change from 10 in version 0.20 to 100 in 0.22.\n",
      "  \"10 in version 0.20 to 100 in 0.22.\", FutureWarning)\n"
     ]
    },
    {
     "name": "stdout",
     "output_type": "stream",
     "text": [
      "accuracy: 0.4375\n",
      "predicted class counts: Counter({1: 106, -1: 5, 0: 1})\n",
      "\n",
      "\n",
      "AAP accuracy: 0.4375. Average accuracy:0.48412698412698413\n",
      "Data spread:  Counter({'1': 235, '0': 135, '-1': 78})\n"
     ]
    },
    {
     "name": "stderr",
     "output_type": "stream",
     "text": [
      "/home/seb/anaconda3/lib/python3.7/site-packages/sklearn/ensemble/forest.py:245: FutureWarning: The default value of n_estimators will change from 10 in version 0.20 to 100 in 0.22.\n",
      "  \"10 in version 0.20 to 100 in 0.22.\", FutureWarning)\n"
     ]
    },
    {
     "name": "stdout",
     "output_type": "stream",
     "text": [
      "accuracy: 0.4107142857142857\n",
      "predicted class counts: Counter({1: 63, 0: 35, -1: 14})\n",
      "\n",
      "\n",
      "AES accuracy: 0.4107142857142857. Average accuracy:0.47678571428571426\n",
      "10\n",
      "Data spread:  Counter({'1': 178, '-1': 175, '0': 95})\n"
     ]
    },
    {
     "name": "stderr",
     "output_type": "stream",
     "text": [
      "/home/seb/anaconda3/lib/python3.7/site-packages/sklearn/ensemble/forest.py:245: FutureWarning: The default value of n_estimators will change from 10 in version 0.20 to 100 in 0.22.\n",
      "  \"10 in version 0.20 to 100 in 0.22.\", FutureWarning)\n"
     ]
    },
    {
     "name": "stdout",
     "output_type": "stream",
     "text": [
      "accuracy: 0.36607142857142855\n",
      "predicted class counts: Counter({-1: 56, 1: 52, 0: 4})\n",
      "\n",
      "\n",
      "AMG accuracy: 0.36607142857142855. Average accuracy:0.4667207792207792\n",
      "Data spread:  Counter({'0': 238, '1': 150, '-1': 60})\n"
     ]
    },
    {
     "name": "stderr",
     "output_type": "stream",
     "text": [
      "/home/seb/anaconda3/lib/python3.7/site-packages/sklearn/ensemble/forest.py:245: FutureWarning: The default value of n_estimators will change from 10 in version 0.20 to 100 in 0.22.\n",
      "  \"10 in version 0.20 to 100 in 0.22.\", FutureWarning)\n"
     ]
    },
    {
     "name": "stdout",
     "output_type": "stream",
     "text": [
      "accuracy: 0.5178571428571429\n",
      "predicted class counts: Counter({0: 103, 1: 8, -1: 1})\n",
      "\n",
      "\n",
      "AFL accuracy: 0.5178571428571429. Average accuracy:0.47098214285714285\n",
      "Data spread:  Counter({'1': 231, '-1': 123, '0': 94})\n"
     ]
    },
    {
     "name": "stderr",
     "output_type": "stream",
     "text": [
      "/home/seb/anaconda3/lib/python3.7/site-packages/sklearn/ensemble/forest.py:245: FutureWarning: The default value of n_estimators will change from 10 in version 0.20 to 100 in 0.22.\n",
      "  \"10 in version 0.20 to 100 in 0.22.\", FutureWarning)\n"
     ]
    },
    {
     "name": "stdout",
     "output_type": "stream",
     "text": [
      "accuracy: 0.5\n",
      "predicted class counts: Counter({1: 96, -1: 12, 0: 4})\n",
      "\n",
      "\n",
      "A accuracy: 0.5. Average accuracy:0.4732142857142857\n",
      "Data spread:  Counter({'1': 210, '0': 170, '-1': 68})\n"
     ]
    },
    {
     "name": "stderr",
     "output_type": "stream",
     "text": [
      "/home/seb/anaconda3/lib/python3.7/site-packages/sklearn/ensemble/forest.py:245: FutureWarning: The default value of n_estimators will change from 10 in version 0.20 to 100 in 0.22.\n",
      "  \"10 in version 0.20 to 100 in 0.22.\", FutureWarning)\n"
     ]
    },
    {
     "name": "stdout",
     "output_type": "stream",
     "text": [
      "accuracy: 0.41964285714285715\n",
      "predicted class counts: Counter({1: 67, 0: 40, -1: 5})\n",
      "\n",
      "\n",
      "APD accuracy: 0.41964285714285715. Average accuracy:0.46938775510204084\n",
      "Data spread:  Counter({'1': 233, '-1': 117, '0': 98})\n"
     ]
    },
    {
     "name": "stderr",
     "output_type": "stream",
     "text": [
      "/home/seb/anaconda3/lib/python3.7/site-packages/sklearn/ensemble/forest.py:245: FutureWarning: The default value of n_estimators will change from 10 in version 0.20 to 100 in 0.22.\n",
      "  \"10 in version 0.20 to 100 in 0.22.\", FutureWarning)\n"
     ]
    },
    {
     "name": "stdout",
     "output_type": "stream",
     "text": [
      "accuracy: 0.4375\n",
      "predicted class counts: Counter({1: 93, -1: 12, 0: 7})\n",
      "\n",
      "\n",
      "AKAM accuracy: 0.4375. Average accuracy:0.46726190476190477\n",
      "Data spread:  Counter({'1': 225, '-1': 140, '0': 83})\n"
     ]
    },
    {
     "name": "stderr",
     "output_type": "stream",
     "text": [
      "/home/seb/anaconda3/lib/python3.7/site-packages/sklearn/ensemble/forest.py:245: FutureWarning: The default value of n_estimators will change from 10 in version 0.20 to 100 in 0.22.\n",
      "  \"10 in version 0.20 to 100 in 0.22.\", FutureWarning)\n"
     ]
    },
    {
     "name": "stdout",
     "output_type": "stream",
     "text": [
      "accuracy: 0.49107142857142855\n",
      "predicted class counts: Counter({1: 85, -1: 26, 0: 1})\n",
      "\n",
      "\n",
      "ALK accuracy: 0.49107142857142855. Average accuracy:0.46875\n",
      "Data spread:  Counter({'1': 211, '-1': 167, '0': 70})\n"
     ]
    },
    {
     "name": "stderr",
     "output_type": "stream",
     "text": [
      "/home/seb/anaconda3/lib/python3.7/site-packages/sklearn/ensemble/forest.py:245: FutureWarning: The default value of n_estimators will change from 10 in version 0.20 to 100 in 0.22.\n",
      "  \"10 in version 0.20 to 100 in 0.22.\", FutureWarning)\n"
     ]
    },
    {
     "name": "stdout",
     "output_type": "stream",
     "text": [
      "accuracy: 0.4107142857142857\n",
      "predicted class counts: Counter({1: 84, -1: 26, 0: 2})\n",
      "\n",
      "\n",
      "ALB accuracy: 0.4107142857142857. Average accuracy:0.4653361344537815\n",
      "Data spread:  Counter({'0': 212, '1': 182, '-1': 54})\n"
     ]
    },
    {
     "name": "stderr",
     "output_type": "stream",
     "text": [
      "/home/seb/anaconda3/lib/python3.7/site-packages/sklearn/ensemble/forest.py:245: FutureWarning: The default value of n_estimators will change from 10 in version 0.20 to 100 in 0.22.\n",
      "  \"10 in version 0.20 to 100 in 0.22.\", FutureWarning)\n"
     ]
    },
    {
     "name": "stdout",
     "output_type": "stream",
     "text": [
      "accuracy: 0.5267857142857143\n",
      "predicted class counts: Counter({0: 66, 1: 33, -1: 13})\n",
      "\n",
      "\n",
      "ARE accuracy: 0.5267857142857143. Average accuracy:0.46875\n",
      "Data spread:  Counter({'1': 228, '-1': 161, '0': 59})\n"
     ]
    },
    {
     "name": "stderr",
     "output_type": "stream",
     "text": [
      "/home/seb/anaconda3/lib/python3.7/site-packages/sklearn/ensemble/forest.py:245: FutureWarning: The default value of n_estimators will change from 10 in version 0.20 to 100 in 0.22.\n",
      "  \"10 in version 0.20 to 100 in 0.22.\", FutureWarning)\n"
     ]
    },
    {
     "name": "stdout",
     "output_type": "stream",
     "text": [
      "accuracy: 0.5\n",
      "predicted class counts: Counter({1: 83, -1: 28, 0: 1})\n",
      "\n",
      "\n",
      "ALXN accuracy: 0.5. Average accuracy:0.47039473684210525\n",
      "Data spread:  Counter({'1': 263, '-1': 160, '0': 25})\n"
     ]
    },
    {
     "name": "stderr",
     "output_type": "stream",
     "text": [
      "/home/seb/anaconda3/lib/python3.7/site-packages/sklearn/ensemble/forest.py:245: FutureWarning: The default value of n_estimators will change from 10 in version 0.20 to 100 in 0.22.\n",
      "  \"10 in version 0.20 to 100 in 0.22.\", FutureWarning)\n"
     ]
    },
    {
     "name": "stdout",
     "output_type": "stream",
     "text": [
      "accuracy: 0.5357142857142857\n",
      "predicted class counts: Counter({1: 107, -1: 5})\n",
      "\n",
      "\n",
      "ALGN accuracy: 0.5357142857142857. Average accuracy:0.47366071428571427\n",
      "20\n",
      "Data spread:  Counter({'1': 212, '0': 149, '-1': 87})\n"
     ]
    },
    {
     "name": "stderr",
     "output_type": "stream",
     "text": [
      "/home/seb/anaconda3/lib/python3.7/site-packages/sklearn/ensemble/forest.py:245: FutureWarning: The default value of n_estimators will change from 10 in version 0.20 to 100 in 0.22.\n",
      "  \"10 in version 0.20 to 100 in 0.22.\", FutureWarning)\n"
     ]
    },
    {
     "name": "stdout",
     "output_type": "stream",
     "text": [
      "accuracy: 0.39285714285714285\n",
      "predicted class counts: Counter({1: 82, 0: 21, -1: 9})\n",
      "\n",
      "\n",
      "ALLE accuracy: 0.39285714285714285. Average accuracy:0.469812925170068\n",
      "Data spread:  Counter({'1': 190, '0': 136, '-1': 122})\n"
     ]
    },
    {
     "name": "stderr",
     "output_type": "stream",
     "text": [
      "/home/seb/anaconda3/lib/python3.7/site-packages/sklearn/ensemble/forest.py:245: FutureWarning: The default value of n_estimators will change from 10 in version 0.20 to 100 in 0.22.\n",
      "  \"10 in version 0.20 to 100 in 0.22.\", FutureWarning)\n"
     ]
    },
    {
     "name": "stdout",
     "output_type": "stream",
     "text": [
      "accuracy: 0.42857142857142855\n",
      "predicted class counts: Counter({1: 68, 0: 31, -1: 13})\n",
      "\n",
      "\n",
      "AGN accuracy: 0.42857142857142855. Average accuracy:0.4679383116883117\n",
      "Data spread:  Counter({'1': 198, '-1': 169, '0': 81})\n"
     ]
    },
    {
     "name": "stderr",
     "output_type": "stream",
     "text": [
      "/home/seb/anaconda3/lib/python3.7/site-packages/sklearn/ensemble/forest.py:245: FutureWarning: The default value of n_estimators will change from 10 in version 0.20 to 100 in 0.22.\n",
      "  \"10 in version 0.20 to 100 in 0.22.\", FutureWarning)\n"
     ]
    },
    {
     "name": "stdout",
     "output_type": "stream",
     "text": [
      "accuracy: 0.375\n",
      "predicted class counts: Counter({1: 57, -1: 52, 0: 3})\n",
      "\n",
      "\n",
      "ADS accuracy: 0.375. Average accuracy:0.46389751552795033\n",
      "Data spread:  Counter({'0': 223, '1': 178, '-1': 47})\n"
     ]
    },
    {
     "name": "stderr",
     "output_type": "stream",
     "text": [
      "/home/seb/anaconda3/lib/python3.7/site-packages/sklearn/ensemble/forest.py:245: FutureWarning: The default value of n_estimators will change from 10 in version 0.20 to 100 in 0.22.\n",
      "  \"10 in version 0.20 to 100 in 0.22.\", FutureWarning)\n"
     ]
    },
    {
     "name": "stdout",
     "output_type": "stream",
     "text": [
      "accuracy: 0.41964285714285715\n",
      "predicted class counts: Counter({0: 74, 1: 28, -1: 10})\n",
      "\n",
      "\n",
      "LNT accuracy: 0.41964285714285715. Average accuracy:0.4620535714285714\n",
      "Data spread:  Counter({'0': 210, '1': 169, '-1': 69})\n"
     ]
    },
    {
     "name": "stderr",
     "output_type": "stream",
     "text": [
      "/home/seb/anaconda3/lib/python3.7/site-packages/sklearn/ensemble/forest.py:245: FutureWarning: The default value of n_estimators will change from 10 in version 0.20 to 100 in 0.22.\n",
      "  \"10 in version 0.20 to 100 in 0.22.\", FutureWarning)\n"
     ]
    },
    {
     "name": "stdout",
     "output_type": "stream",
     "text": [
      "accuracy: 0.42857142857142855\n",
      "predicted class counts: Counter({0: 95, 1: 15, -1: 2})\n",
      "\n",
      "\n",
      "ALL accuracy: 0.42857142857142855. Average accuracy:0.4607142857142857\n",
      "Data spread:  Counter({'1': 234, '-1': 111, '0': 103})\n"
     ]
    },
    {
     "name": "stderr",
     "output_type": "stream",
     "text": [
      "/home/seb/anaconda3/lib/python3.7/site-packages/sklearn/ensemble/forest.py:245: FutureWarning: The default value of n_estimators will change from 10 in version 0.20 to 100 in 0.22.\n",
      "  \"10 in version 0.20 to 100 in 0.22.\", FutureWarning)\n"
     ]
    },
    {
     "name": "stdout",
     "output_type": "stream",
     "text": [
      "accuracy: 0.4375\n",
      "predicted class counts: Counter({1: 90, -1: 15, 0: 7})\n",
      "\n",
      "\n",
      "GOOGL accuracy: 0.4375. Average accuracy:0.45982142857142855\n",
      "Data spread:  Counter({'1': 229, '-1': 112, '0': 107})\n"
     ]
    },
    {
     "name": "stderr",
     "output_type": "stream",
     "text": [
      "/home/seb/anaconda3/lib/python3.7/site-packages/sklearn/ensemble/forest.py:245: FutureWarning: The default value of n_estimators will change from 10 in version 0.20 to 100 in 0.22.\n",
      "  \"10 in version 0.20 to 100 in 0.22.\", FutureWarning)\n"
     ]
    },
    {
     "name": "stdout",
     "output_type": "stream",
     "text": [
      "accuracy: 0.44642857142857145\n",
      "predicted class counts: Counter({1: 95, -1: 11, 0: 6})\n",
      "\n",
      "\n",
      "GOOG accuracy: 0.44642857142857145. Average accuracy:0.4593253968253968\n",
      "Data spread:  Counter({'1': 171, '0': 156, '-1': 121})\n"
     ]
    },
    {
     "name": "stderr",
     "output_type": "stream",
     "text": [
      "/home/seb/anaconda3/lib/python3.7/site-packages/sklearn/ensemble/forest.py:245: FutureWarning: The default value of n_estimators will change from 10 in version 0.20 to 100 in 0.22.\n",
      "  \"10 in version 0.20 to 100 in 0.22.\", FutureWarning)\n"
     ]
    },
    {
     "name": "stdout",
     "output_type": "stream",
     "text": [
      "accuracy: 0.36607142857142855\n",
      "predicted class counts: Counter({1: 57, 0: 36, -1: 19})\n",
      "\n",
      "\n",
      "MO accuracy: 0.36607142857142855. Average accuracy:0.4559948979591837\n",
      "Data spread:  Counter({'1': 234, '-1': 109, '0': 105})\n"
     ]
    },
    {
     "name": "stderr",
     "output_type": "stream",
     "text": [
      "/home/seb/anaconda3/lib/python3.7/site-packages/sklearn/ensemble/forest.py:245: FutureWarning: The default value of n_estimators will change from 10 in version 0.20 to 100 in 0.22.\n",
      "  \"10 in version 0.20 to 100 in 0.22.\", FutureWarning)\n"
     ]
    },
    {
     "name": "stdout",
     "output_type": "stream",
     "text": [
      "accuracy: 0.5267857142857143\n",
      "predicted class counts: Counter({1: 88, -1: 18, 0: 6})\n",
      "\n",
      "\n",
      "AMZN accuracy: 0.5267857142857143. Average accuracy:0.458435960591133\n",
      "Data spread:  Counter({'0': 215, '1': 143, '-1': 90})\n"
     ]
    },
    {
     "name": "stderr",
     "output_type": "stream",
     "text": [
      "/home/seb/anaconda3/lib/python3.7/site-packages/sklearn/ensemble/forest.py:245: FutureWarning: The default value of n_estimators will change from 10 in version 0.20 to 100 in 0.22.\n",
      "  \"10 in version 0.20 to 100 in 0.22.\", FutureWarning)\n"
     ]
    },
    {
     "name": "stdout",
     "output_type": "stream",
     "text": [
      "accuracy: 0.42857142857142855\n",
      "predicted class counts: Counter({0: 87, 1: 13, -1: 12})\n",
      "\n",
      "\n",
      "AMCR accuracy: 0.42857142857142855. Average accuracy:0.4574404761904762\n",
      "30\n",
      "Data spread:  Counter({'0': 207, '1': 189, '-1': 52})\n"
     ]
    },
    {
     "name": "stderr",
     "output_type": "stream",
     "text": [
      "/home/seb/anaconda3/lib/python3.7/site-packages/sklearn/ensemble/forest.py:245: FutureWarning: The default value of n_estimators will change from 10 in version 0.20 to 100 in 0.22.\n",
      "  \"10 in version 0.20 to 100 in 0.22.\", FutureWarning)\n"
     ]
    },
    {
     "name": "stdout",
     "output_type": "stream",
     "text": [
      "accuracy: 0.41964285714285715\n",
      "predicted class counts: Counter({0: 86, 1: 24, -1: 2})\n",
      "\n",
      "\n",
      "AEE accuracy: 0.41964285714285715. Average accuracy:0.45622119815668205\n",
      "Data spread:  Counter({'1': 227, '-1': 180, '0': 41})\n"
     ]
    },
    {
     "name": "stderr",
     "output_type": "stream",
     "text": [
      "/home/seb/anaconda3/lib/python3.7/site-packages/sklearn/ensemble/forest.py:245: FutureWarning: The default value of n_estimators will change from 10 in version 0.20 to 100 in 0.22.\n",
      "  \"10 in version 0.20 to 100 in 0.22.\", FutureWarning)\n"
     ]
    },
    {
     "name": "stdout",
     "output_type": "stream",
     "text": [
      "accuracy: 0.44642857142857145\n",
      "predicted class counts: Counter({1: 85, -1: 27})\n",
      "\n",
      "\n",
      "AAL accuracy: 0.44642857142857145. Average accuracy:0.45591517857142855\n",
      "Data spread:  Counter({'0': 213, '1': 194, '-1': 41})\n"
     ]
    },
    {
     "name": "stderr",
     "output_type": "stream",
     "text": [
      "/home/seb/anaconda3/lib/python3.7/site-packages/sklearn/ensemble/forest.py:245: FutureWarning: The default value of n_estimators will change from 10 in version 0.20 to 100 in 0.22.\n",
      "  \"10 in version 0.20 to 100 in 0.22.\", FutureWarning)\n"
     ]
    },
    {
     "name": "stdout",
     "output_type": "stream",
     "text": [
      "accuracy: 0.4107142857142857\n",
      "predicted class counts: Counter({0: 97, 1: 14, -1: 1})\n",
      "\n",
      "\n",
      "AEP accuracy: 0.4107142857142857. Average accuracy:0.45454545454545453\n",
      "Data spread:  Counter({'1': 203, '0': 167, '-1': 78})\n"
     ]
    },
    {
     "name": "stderr",
     "output_type": "stream",
     "text": [
      "/home/seb/anaconda3/lib/python3.7/site-packages/sklearn/ensemble/forest.py:245: FutureWarning: The default value of n_estimators will change from 10 in version 0.20 to 100 in 0.22.\n",
      "  \"10 in version 0.20 to 100 in 0.22.\", FutureWarning)\n"
     ]
    },
    {
     "name": "stdout",
     "output_type": "stream",
     "text": [
      "accuracy: 0.42857142857142855\n",
      "predicted class counts: Counter({1: 85, 0: 24, -1: 3})\n",
      "\n",
      "\n",
      "AXP accuracy: 0.42857142857142855. Average accuracy:0.453781512605042\n",
      "Data spread:  Counter({'1': 214, '0': 132, '-1': 102})\n"
     ]
    },
    {
     "name": "stderr",
     "output_type": "stream",
     "text": [
      "/home/seb/anaconda3/lib/python3.7/site-packages/sklearn/ensemble/forest.py:245: FutureWarning: The default value of n_estimators will change from 10 in version 0.20 to 100 in 0.22.\n",
      "  \"10 in version 0.20 to 100 in 0.22.\", FutureWarning)\n"
     ]
    },
    {
     "name": "stdout",
     "output_type": "stream",
     "text": [
      "accuracy: 0.44642857142857145\n",
      "predicted class counts: Counter({1: 86, 0: 14, -1: 12})\n",
      "\n",
      "\n",
      "AIG accuracy: 0.44642857142857145. Average accuracy:0.45357142857142857\n",
      "Data spread:  Counter({'1': 213, '0': 190, '-1': 45})\n"
     ]
    },
    {
     "name": "stderr",
     "output_type": "stream",
     "text": [
      "/home/seb/anaconda3/lib/python3.7/site-packages/sklearn/ensemble/forest.py:245: FutureWarning: The default value of n_estimators will change from 10 in version 0.20 to 100 in 0.22.\n",
      "  \"10 in version 0.20 to 100 in 0.22.\", FutureWarning)\n"
     ]
    },
    {
     "name": "stdout",
     "output_type": "stream",
     "text": [
      "accuracy: 0.5089285714285714\n",
      "predicted class counts: Counter({0: 64, 1: 45, -1: 3})\n",
      "\n",
      "\n",
      "AMT accuracy: 0.5089285714285714. Average accuracy:0.455109126984127\n",
      "Data spread:  Counter({'1': 209, '0': 185, '-1': 54})\n"
     ]
    },
    {
     "name": "stderr",
     "output_type": "stream",
     "text": [
      "/home/seb/anaconda3/lib/python3.7/site-packages/sklearn/ensemble/forest.py:245: FutureWarning: The default value of n_estimators will change from 10 in version 0.20 to 100 in 0.22.\n",
      "  \"10 in version 0.20 to 100 in 0.22.\", FutureWarning)\n"
     ]
    },
    {
     "name": "stdout",
     "output_type": "stream",
     "text": [
      "accuracy: 0.39285714285714285\n",
      "predicted class counts: Counter({0: 64, 1: 41, -1: 7})\n",
      "\n",
      "\n",
      "AWK accuracy: 0.39285714285714285. Average accuracy:0.4534266409266409\n",
      "Data spread:  Counter({'1': 214, '-1': 139, '0': 95})\n"
     ]
    },
    {
     "name": "stderr",
     "output_type": "stream",
     "text": [
      "/home/seb/anaconda3/lib/python3.7/site-packages/sklearn/ensemble/forest.py:245: FutureWarning: The default value of n_estimators will change from 10 in version 0.20 to 100 in 0.22.\n",
      "  \"10 in version 0.20 to 100 in 0.22.\", FutureWarning)\n"
     ]
    },
    {
     "name": "stdout",
     "output_type": "stream",
     "text": [
      "accuracy: 0.4642857142857143\n",
      "predicted class counts: Counter({1: 95, -1: 13, 0: 4})\n",
      "\n",
      "\n",
      "AMP accuracy: 0.4642857142857143. Average accuracy:0.4537124060150376\n",
      "Data spread:  Counter({'1': 229, '-1': 138, '0': 81})\n"
     ]
    },
    {
     "name": "stderr",
     "output_type": "stream",
     "text": [
      "/home/seb/anaconda3/lib/python3.7/site-packages/sklearn/ensemble/forest.py:245: FutureWarning: The default value of n_estimators will change from 10 in version 0.20 to 100 in 0.22.\n",
      "  \"10 in version 0.20 to 100 in 0.22.\", FutureWarning)\n"
     ]
    },
    {
     "name": "stdout",
     "output_type": "stream",
     "text": [
      "accuracy: 0.49107142857142855\n",
      "predicted class counts: Counter({1: 85, -1: 22, 0: 5})\n",
      "\n",
      "\n",
      "ABC accuracy: 0.49107142857142855. Average accuracy:0.45467032967032966\n",
      "Data spread:  Counter({'1': 200, '0': 173, '-1': 75})\n"
     ]
    },
    {
     "name": "stderr",
     "output_type": "stream",
     "text": [
      "/home/seb/anaconda3/lib/python3.7/site-packages/sklearn/ensemble/forest.py:245: FutureWarning: The default value of n_estimators will change from 10 in version 0.20 to 100 in 0.22.\n",
      "  \"10 in version 0.20 to 100 in 0.22.\", FutureWarning)\n"
     ]
    },
    {
     "name": "stdout",
     "output_type": "stream",
     "text": [
      "accuracy: 0.36607142857142855\n",
      "predicted class counts: Counter({1: 64, 0: 38, -1: 10})\n",
      "\n",
      "\n",
      "AME accuracy: 0.36607142857142855. Average accuracy:0.4524553571428571\n",
      "40\n",
      "Data spread:  Counter({'1': 216, '0': 139, '-1': 93})\n"
     ]
    },
    {
     "name": "stderr",
     "output_type": "stream",
     "text": [
      "/home/seb/anaconda3/lib/python3.7/site-packages/sklearn/ensemble/forest.py:245: FutureWarning: The default value of n_estimators will change from 10 in version 0.20 to 100 in 0.22.\n",
      "  \"10 in version 0.20 to 100 in 0.22.\", FutureWarning)\n"
     ]
    },
    {
     "name": "stdout",
     "output_type": "stream",
     "text": [
      "accuracy: 0.41964285714285715\n",
      "predicted class counts: Counter({1: 73, 0: 22, -1: 17})\n",
      "\n",
      "\n",
      "AMGN accuracy: 0.41964285714285715. Average accuracy:0.45165505226480834\n",
      "Data spread:  Counter({'1': 191, '0': 159, '-1': 98})\n"
     ]
    },
    {
     "name": "stderr",
     "output_type": "stream",
     "text": [
      "/home/seb/anaconda3/lib/python3.7/site-packages/sklearn/ensemble/forest.py:245: FutureWarning: The default value of n_estimators will change from 10 in version 0.20 to 100 in 0.22.\n",
      "  \"10 in version 0.20 to 100 in 0.22.\", FutureWarning)\n"
     ]
    },
    {
     "name": "stdout",
     "output_type": "stream",
     "text": [
      "accuracy: 0.4375\n",
      "predicted class counts: Counter({0: 60, 1: 38, -1: 14})\n",
      "\n",
      "\n",
      "APH accuracy: 0.4375. Average accuracy:0.4513180272108844\n",
      "Data spread:  Counter({'1': 241, '-1': 127, '0': 80})\n"
     ]
    },
    {
     "name": "stderr",
     "output_type": "stream",
     "text": [
      "/home/seb/anaconda3/lib/python3.7/site-packages/sklearn/ensemble/forest.py:245: FutureWarning: The default value of n_estimators will change from 10 in version 0.20 to 100 in 0.22.\n",
      "  \"10 in version 0.20 to 100 in 0.22.\", FutureWarning)\n"
     ]
    },
    {
     "name": "stdout",
     "output_type": "stream",
     "text": [
      "accuracy: 0.5089285714285714\n",
      "predicted class counts: Counter({1: 75, -1: 36, 0: 1})\n",
      "\n",
      "\n",
      "ADI accuracy: 0.5089285714285714. Average accuracy:0.4526578073089701\n",
      "Data spread:  Counter({'1': 227, '0': 118, '-1': 103})\n"
     ]
    },
    {
     "name": "stderr",
     "output_type": "stream",
     "text": [
      "/home/seb/anaconda3/lib/python3.7/site-packages/sklearn/ensemble/forest.py:245: FutureWarning: The default value of n_estimators will change from 10 in version 0.20 to 100 in 0.22.\n",
      "  \"10 in version 0.20 to 100 in 0.22.\", FutureWarning)\n"
     ]
    },
    {
     "name": "stdout",
     "output_type": "stream",
     "text": [
      "accuracy: 0.41964285714285715\n",
      "predicted class counts: Counter({1: 84, 0: 17, -1: 11})\n",
      "\n",
      "\n",
      "ANSS accuracy: 0.41964285714285715. Average accuracy:0.4519074675324675\n",
      "Data spread:  Counter({'1': 202, '0': 128, '-1': 118})\n"
     ]
    },
    {
     "name": "stderr",
     "output_type": "stream",
     "text": [
      "/home/seb/anaconda3/lib/python3.7/site-packages/sklearn/ensemble/forest.py:245: FutureWarning: The default value of n_estimators will change from 10 in version 0.20 to 100 in 0.22.\n",
      "  \"10 in version 0.20 to 100 in 0.22.\", FutureWarning)\n"
     ]
    },
    {
     "name": "stdout",
     "output_type": "stream",
     "text": [
      "accuracy: 0.39285714285714285\n",
      "predicted class counts: Counter({1: 58, -1: 40, 0: 14})\n",
      "\n",
      "\n",
      "ANTM accuracy: 0.39285714285714285. Average accuracy:0.4505952380952381\n",
      "Data spread:  Counter({'0': 198, '1': 188, '-1': 62})\n"
     ]
    },
    {
     "name": "stderr",
     "output_type": "stream",
     "text": [
      "/home/seb/anaconda3/lib/python3.7/site-packages/sklearn/ensemble/forest.py:245: FutureWarning: The default value of n_estimators will change from 10 in version 0.20 to 100 in 0.22.\n",
      "  \"10 in version 0.20 to 100 in 0.22.\", FutureWarning)\n"
     ]
    },
    {
     "name": "stdout",
     "output_type": "stream",
     "text": [
      "accuracy: 0.4107142857142857\n",
      "predicted class counts: Counter({0: 56, 1: 52, -1: 4})\n",
      "\n",
      "\n",
      "AON accuracy: 0.4107142857142857. Average accuracy:0.4497282608695652\n",
      "Data spread:  Counter({'1': 203, '-1': 130, '0': 115})\n"
     ]
    },
    {
     "name": "stderr",
     "output_type": "stream",
     "text": [
      "/home/seb/anaconda3/lib/python3.7/site-packages/sklearn/ensemble/forest.py:245: FutureWarning: The default value of n_estimators will change from 10 in version 0.20 to 100 in 0.22.\n",
      "  \"10 in version 0.20 to 100 in 0.22.\", FutureWarning)\n"
     ]
    },
    {
     "name": "stdout",
     "output_type": "stream",
     "text": [
      "accuracy: 0.42857142857142855\n",
      "predicted class counts: Counter({1: 68, -1: 26, 0: 18})\n",
      "\n",
      "\n",
      "AOS accuracy: 0.42857142857142855. Average accuracy:0.44927811550151975\n",
      "Data spread:  Counter({'1': 234, '-1': 186, '0': 28})\n"
     ]
    },
    {
     "name": "stderr",
     "output_type": "stream",
     "text": [
      "/home/seb/anaconda3/lib/python3.7/site-packages/sklearn/ensemble/forest.py:245: FutureWarning: The default value of n_estimators will change from 10 in version 0.20 to 100 in 0.22.\n",
      "  \"10 in version 0.20 to 100 in 0.22.\", FutureWarning)\n"
     ]
    },
    {
     "name": "stdout",
     "output_type": "stream",
     "text": [
      "accuracy: 0.44642857142857145\n",
      "predicted class counts: Counter({1: 101, -1: 11})\n",
      "\n",
      "\n",
      "APA accuracy: 0.44642857142857145. Average accuracy:0.44921875\n",
      "Data spread:  Counter({'0': 229, '1': 159, '-1': 60})\n"
     ]
    },
    {
     "name": "stderr",
     "output_type": "stream",
     "text": [
      "/home/seb/anaconda3/lib/python3.7/site-packages/sklearn/ensemble/forest.py:245: FutureWarning: The default value of n_estimators will change from 10 in version 0.20 to 100 in 0.22.\n",
      "  \"10 in version 0.20 to 100 in 0.22.\", FutureWarning)\n"
     ]
    },
    {
     "name": "stdout",
     "output_type": "stream",
     "text": [
      "accuracy: 0.5178571428571429\n",
      "predicted class counts: Counter({0: 90, 1: 14, -1: 8})\n",
      "\n",
      "\n",
      "AIV accuracy: 0.5178571428571429. Average accuracy:0.4506195335276968\n",
      "Data spread:  Counter({'1': 253, '0': 101, '-1': 94})\n"
     ]
    },
    {
     "name": "stderr",
     "output_type": "stream",
     "text": [
      "/home/seb/anaconda3/lib/python3.7/site-packages/sklearn/ensemble/forest.py:245: FutureWarning: The default value of n_estimators will change from 10 in version 0.20 to 100 in 0.22.\n",
      "  \"10 in version 0.20 to 100 in 0.22.\", FutureWarning)\n"
     ]
    },
    {
     "name": "stdout",
     "output_type": "stream",
     "text": [
      "accuracy: 0.5267857142857143\n",
      "predicted class counts: Counter({1: 96, -1: 11, 0: 5})\n",
      "\n",
      "\n",
      "AAPL accuracy: 0.5267857142857143. Average accuracy:0.4521428571428571\n",
      "50\n",
      "Data spread:  Counter({'1': 235, '-1': 153, '0': 60})\n"
     ]
    },
    {
     "name": "stderr",
     "output_type": "stream",
     "text": [
      "/home/seb/anaconda3/lib/python3.7/site-packages/sklearn/ensemble/forest.py:245: FutureWarning: The default value of n_estimators will change from 10 in version 0.20 to 100 in 0.22.\n",
      "  \"10 in version 0.20 to 100 in 0.22.\", FutureWarning)\n"
     ]
    },
    {
     "name": "stdout",
     "output_type": "stream",
     "text": [
      "accuracy: 0.5089285714285714\n",
      "predicted class counts: Counter({1: 99, -1: 13})\n",
      "\n",
      "\n",
      "AMAT accuracy: 0.5089285714285714. Average accuracy:0.4532563025210084\n",
      "Data spread:  Counter({'1': 231, '-1': 150, '0': 67})\n"
     ]
    },
    {
     "name": "stderr",
     "output_type": "stream",
     "text": [
      "/home/seb/anaconda3/lib/python3.7/site-packages/sklearn/ensemble/forest.py:245: FutureWarning: The default value of n_estimators will change from 10 in version 0.20 to 100 in 0.22.\n",
      "  \"10 in version 0.20 to 100 in 0.22.\", FutureWarning)\n"
     ]
    },
    {
     "name": "stdout",
     "output_type": "stream",
     "text": [
      "accuracy: 0.4107142857142857\n",
      "predicted class counts: Counter({1: 91, -1: 21})\n",
      "\n",
      "\n",
      "APTV accuracy: 0.4107142857142857. Average accuracy:0.4524381868131868\n",
      "Data spread:  Counter({'0': 193, '1': 164, '-1': 91})\n"
     ]
    },
    {
     "name": "stderr",
     "output_type": "stream",
     "text": [
      "/home/seb/anaconda3/lib/python3.7/site-packages/sklearn/ensemble/forest.py:245: FutureWarning: The default value of n_estimators will change from 10 in version 0.20 to 100 in 0.22.\n",
      "  \"10 in version 0.20 to 100 in 0.22.\", FutureWarning)\n"
     ]
    },
    {
     "name": "stdout",
     "output_type": "stream",
     "text": [
      "accuracy: 0.41964285714285715\n",
      "predicted class counts: Counter({0: 64, 1: 33, -1: 15})\n",
      "\n",
      "\n",
      "ADM accuracy: 0.41964285714285715. Average accuracy:0.45181940700808626\n",
      "Data spread:  Counter({'1': 222, '-1': 126, '0': 100})\n"
     ]
    },
    {
     "name": "stderr",
     "output_type": "stream",
     "text": [
      "/home/seb/anaconda3/lib/python3.7/site-packages/sklearn/ensemble/forest.py:245: FutureWarning: The default value of n_estimators will change from 10 in version 0.20 to 100 in 0.22.\n",
      "  \"10 in version 0.20 to 100 in 0.22.\", FutureWarning)\n"
     ]
    },
    {
     "name": "stdout",
     "output_type": "stream",
     "text": [
      "accuracy: 0.5\n",
      "predicted class counts: Counter({1: 90, -1: 13, 0: 9})\n",
      "\n",
      "\n",
      "ARNC accuracy: 0.5. Average accuracy:0.45271164021164023\n",
      "Data spread:  Counter({'1': 256, '-1': 142, '0': 50})\n"
     ]
    },
    {
     "name": "stderr",
     "output_type": "stream",
     "text": [
      "/home/seb/anaconda3/lib/python3.7/site-packages/sklearn/ensemble/forest.py:245: FutureWarning: The default value of n_estimators will change from 10 in version 0.20 to 100 in 0.22.\n",
      "  \"10 in version 0.20 to 100 in 0.22.\", FutureWarning)\n"
     ]
    },
    {
     "name": "stdout",
     "output_type": "stream",
     "text": [
      "accuracy: 0.5714285714285714\n",
      "predicted class counts: Counter({1: 105, -1: 7})\n",
      "\n",
      "\n",
      "ANET accuracy: 0.5714285714285714. Average accuracy:0.45487012987012987\n",
      "Data spread:  Counter({'0': 243, '1': 163, '-1': 42})\n"
     ]
    },
    {
     "name": "stderr",
     "output_type": "stream",
     "text": [
      "/home/seb/anaconda3/lib/python3.7/site-packages/sklearn/ensemble/forest.py:245: FutureWarning: The default value of n_estimators will change from 10 in version 0.20 to 100 in 0.22.\n",
      "  \"10 in version 0.20 to 100 in 0.22.\", FutureWarning)\n"
     ]
    },
    {
     "name": "stdout",
     "output_type": "stream",
     "text": [
      "accuracy: 0.5178571428571429\n",
      "predicted class counts: Counter({0: 89, 1: 20, -1: 3})\n",
      "\n",
      "\n",
      "AJG accuracy: 0.5178571428571429. Average accuracy:0.4559948979591837\n",
      "Data spread:  Counter({'1': 189, '0': 173, '-1': 86})\n"
     ]
    },
    {
     "name": "stderr",
     "output_type": "stream",
     "text": [
      "/home/seb/anaconda3/lib/python3.7/site-packages/sklearn/ensemble/forest.py:245: FutureWarning: The default value of n_estimators will change from 10 in version 0.20 to 100 in 0.22.\n",
      "  \"10 in version 0.20 to 100 in 0.22.\", FutureWarning)\n"
     ]
    },
    {
     "name": "stdout",
     "output_type": "stream",
     "text": [
      "accuracy: 0.35714285714285715\n",
      "predicted class counts: Counter({1: 58, 0: 50, -1: 4})\n",
      "\n",
      "\n",
      "AIZ accuracy: 0.35714285714285715. Average accuracy:0.4542606516290727\n",
      "Data spread:  Counter({'0': 224, '1': 177, '-1': 47})\n"
     ]
    },
    {
     "name": "stderr",
     "output_type": "stream",
     "text": [
      "/home/seb/anaconda3/lib/python3.7/site-packages/sklearn/ensemble/forest.py:245: FutureWarning: The default value of n_estimators will change from 10 in version 0.20 to 100 in 0.22.\n",
      "  \"10 in version 0.20 to 100 in 0.22.\", FutureWarning)\n"
     ]
    },
    {
     "name": "stdout",
     "output_type": "stream",
     "text": [
      "accuracy: 0.5267857142857143\n",
      "predicted class counts: Counter({0: 94, 1: 17, -1: 1})\n",
      "\n",
      "\n",
      "ATO accuracy: 0.5267857142857143. Average accuracy:0.45551108374384236\n",
      "Data spread:  Counter({'1': 178, '0': 175, '-1': 95})\n"
     ]
    },
    {
     "name": "stderr",
     "output_type": "stream",
     "text": [
      "/home/seb/anaconda3/lib/python3.7/site-packages/sklearn/ensemble/forest.py:245: FutureWarning: The default value of n_estimators will change from 10 in version 0.20 to 100 in 0.22.\n",
      "  \"10 in version 0.20 to 100 in 0.22.\", FutureWarning)\n"
     ]
    },
    {
     "name": "stdout",
     "output_type": "stream",
     "text": [
      "accuracy: 0.3125\n",
      "predicted class counts: Counter({0: 54, 1: 39, -1: 19})\n",
      "\n",
      "\n",
      "T accuracy: 0.3125. Average accuracy:0.4530871670702179\n",
      "Data spread:  Counter({'1': 241, '-1': 138, '0': 69})\n"
     ]
    },
    {
     "name": "stderr",
     "output_type": "stream",
     "text": [
      "/home/seb/anaconda3/lib/python3.7/site-packages/sklearn/ensemble/forest.py:245: FutureWarning: The default value of n_estimators will change from 10 in version 0.20 to 100 in 0.22.\n",
      "  \"10 in version 0.20 to 100 in 0.22.\", FutureWarning)\n"
     ]
    },
    {
     "name": "stdout",
     "output_type": "stream",
     "text": [
      "accuracy: 0.5178571428571429\n",
      "predicted class counts: Counter({1: 74, -1: 36, 0: 2})\n",
      "\n",
      "\n",
      "ADSK accuracy: 0.5178571428571429. Average accuracy:0.45416666666666666\n",
      "60\n",
      "Data spread:  Counter({'1': 217, '0': 153, '-1': 78})\n"
     ]
    },
    {
     "name": "stderr",
     "output_type": "stream",
     "text": [
      "/home/seb/anaconda3/lib/python3.7/site-packages/sklearn/ensemble/forest.py:245: FutureWarning: The default value of n_estimators will change from 10 in version 0.20 to 100 in 0.22.\n",
      "  \"10 in version 0.20 to 100 in 0.22.\", FutureWarning)\n"
     ]
    },
    {
     "name": "stdout",
     "output_type": "stream",
     "text": [
      "accuracy: 0.4107142857142857\n",
      "predicted class counts: Counter({1: 70, 0: 36, -1: 6})\n",
      "\n",
      "\n",
      "ADP accuracy: 0.4107142857142857. Average accuracy:0.4534543325526932\n",
      "Data spread:  Counter({'1': 222, '0': 155, '-1': 71})\n"
     ]
    },
    {
     "name": "stderr",
     "output_type": "stream",
     "text": [
      "/home/seb/anaconda3/lib/python3.7/site-packages/sklearn/ensemble/forest.py:245: FutureWarning: The default value of n_estimators will change from 10 in version 0.20 to 100 in 0.22.\n",
      "  \"10 in version 0.20 to 100 in 0.22.\", FutureWarning)\n"
     ]
    },
    {
     "name": "stdout",
     "output_type": "stream",
     "text": [
      "accuracy: 0.4375\n",
      "predicted class counts: Counter({1: 88, 0: 20, -1: 4})\n",
      "\n",
      "\n",
      "AZO accuracy: 0.4375. Average accuracy:0.45319700460829493\n",
      "Data spread:  Counter({'0': 226, '1': 163, '-1': 59})\n"
     ]
    },
    {
     "name": "stderr",
     "output_type": "stream",
     "text": [
      "/home/seb/anaconda3/lib/python3.7/site-packages/sklearn/ensemble/forest.py:245: FutureWarning: The default value of n_estimators will change from 10 in version 0.20 to 100 in 0.22.\n",
      "  \"10 in version 0.20 to 100 in 0.22.\", FutureWarning)\n"
     ]
    },
    {
     "name": "stdout",
     "output_type": "stream",
     "text": [
      "accuracy: 0.44642857142857145\n",
      "predicted class counts: Counter({0: 92, -1: 12, 1: 8})\n",
      "\n",
      "\n",
      "AVB accuracy: 0.44642857142857145. Average accuracy:0.45308956916099774\n",
      "Data spread:  Counter({'1': 206, '0': 148, '-1': 94})\n"
     ]
    },
    {
     "name": "stderr",
     "output_type": "stream",
     "text": [
      "/home/seb/anaconda3/lib/python3.7/site-packages/sklearn/ensemble/forest.py:245: FutureWarning: The default value of n_estimators will change from 10 in version 0.20 to 100 in 0.22.\n",
      "  \"10 in version 0.20 to 100 in 0.22.\", FutureWarning)\n"
     ]
    },
    {
     "name": "stdout",
     "output_type": "stream",
     "text": [
      "accuracy: 0.4017857142857143\n",
      "predicted class counts: Counter({1: 88, 0: 15, -1: 9})\n",
      "\n",
      "\n",
      "AVY accuracy: 0.4017857142857143. Average accuracy:0.45228794642857145\n",
      "Data spread:  Counter({'1': 241, '-1': 159, '0': 48})\n"
     ]
    },
    {
     "name": "stderr",
     "output_type": "stream",
     "text": [
      "/home/seb/anaconda3/lib/python3.7/site-packages/sklearn/ensemble/forest.py:245: FutureWarning: The default value of n_estimators will change from 10 in version 0.20 to 100 in 0.22.\n",
      "  \"10 in version 0.20 to 100 in 0.22.\", FutureWarning)\n"
     ]
    },
    {
     "name": "stdout",
     "output_type": "stream",
     "text": [
      "accuracy: 0.5\n",
      "predicted class counts: Counter({1: 93, -1: 19})\n",
      "\n",
      "\n",
      "BHGE accuracy: 0.5. Average accuracy:0.453021978021978\n",
      "Data spread:  Counter({'1': 236, '0': 136, '-1': 76})\n"
     ]
    },
    {
     "name": "stderr",
     "output_type": "stream",
     "text": [
      "/home/seb/anaconda3/lib/python3.7/site-packages/sklearn/ensemble/forest.py:245: FutureWarning: The default value of n_estimators will change from 10 in version 0.20 to 100 in 0.22.\n",
      "  \"10 in version 0.20 to 100 in 0.22.\", FutureWarning)\n"
     ]
    },
    {
     "name": "stdout",
     "output_type": "stream",
     "text": [
      "accuracy: 0.42857142857142855\n",
      "predicted class counts: Counter({1: 90, 0: 20, -1: 2})\n",
      "\n",
      "\n",
      "BLL accuracy: 0.42857142857142855. Average accuracy:0.45265151515151514\n",
      "Data spread:  Counter({'1': 189, '0': 143, '-1': 116})\n"
     ]
    },
    {
     "name": "stderr",
     "output_type": "stream",
     "text": [
      "/home/seb/anaconda3/lib/python3.7/site-packages/sklearn/ensemble/forest.py:245: FutureWarning: The default value of n_estimators will change from 10 in version 0.20 to 100 in 0.22.\n",
      "  \"10 in version 0.20 to 100 in 0.22.\", FutureWarning)\n"
     ]
    },
    {
     "name": "stdout",
     "output_type": "stream",
     "text": [
      "accuracy: 0.33035714285714285\n",
      "predicted class counts: Counter({1: 71, 0: 30, -1: 11})\n",
      "\n",
      "\n",
      "BAC accuracy: 0.33035714285714285. Average accuracy:0.45082622601279315\n",
      "Data spread:  Counter({'1': 191, '0': 131, '-1': 126})\n"
     ]
    },
    {
     "name": "stderr",
     "output_type": "stream",
     "text": [
      "/home/seb/anaconda3/lib/python3.7/site-packages/sklearn/ensemble/forest.py:245: FutureWarning: The default value of n_estimators will change from 10 in version 0.20 to 100 in 0.22.\n",
      "  \"10 in version 0.20 to 100 in 0.22.\", FutureWarning)\n"
     ]
    },
    {
     "name": "stdout",
     "output_type": "stream",
     "text": [
      "accuracy: 0.3392857142857143\n",
      "predicted class counts: Counter({1: 54, -1: 38, 0: 20})\n",
      "\n",
      "\n",
      "BK accuracy: 0.3392857142857143. Average accuracy:0.4491859243697479\n",
      "Data spread:  Counter({'1': 211, '0': 167, '-1': 70})\n"
     ]
    },
    {
     "name": "stderr",
     "output_type": "stream",
     "text": [
      "/home/seb/anaconda3/lib/python3.7/site-packages/sklearn/ensemble/forest.py:245: FutureWarning: The default value of n_estimators will change from 10 in version 0.20 to 100 in 0.22.\n",
      "  \"10 in version 0.20 to 100 in 0.22.\", FutureWarning)\n"
     ]
    },
    {
     "name": "stdout",
     "output_type": "stream",
     "text": [
      "accuracy: 0.48214285714285715\n",
      "predicted class counts: Counter({1: 81, 0: 28, -1: 3})\n",
      "\n",
      "\n",
      "BAX accuracy: 0.48214285714285715. Average accuracy:0.44966356107660455\n",
      "Data spread:  Counter({'1': 186, '0': 155, '-1': 107})\n"
     ]
    },
    {
     "name": "stderr",
     "output_type": "stream",
     "text": [
      "/home/seb/anaconda3/lib/python3.7/site-packages/sklearn/ensemble/forest.py:245: FutureWarning: The default value of n_estimators will change from 10 in version 0.20 to 100 in 0.22.\n",
      "  \"10 in version 0.20 to 100 in 0.22.\", FutureWarning)\n"
     ]
    },
    {
     "name": "stdout",
     "output_type": "stream",
     "text": [
      "accuracy: 0.4017857142857143\n",
      "predicted class counts: Counter({1: 54, 0: 41, -1: 17})\n",
      "\n",
      "\n",
      "BBT accuracy: 0.4017857142857143. Average accuracy:0.4489795918367347\n",
      "70\n",
      "Data spread:  Counter({'1': 197, '0': 162, '-1': 89})\n"
     ]
    },
    {
     "name": "stderr",
     "output_type": "stream",
     "text": [
      "/home/seb/anaconda3/lib/python3.7/site-packages/sklearn/ensemble/forest.py:245: FutureWarning: The default value of n_estimators will change from 10 in version 0.20 to 100 in 0.22.\n",
      "  \"10 in version 0.20 to 100 in 0.22.\", FutureWarning)\n"
     ]
    },
    {
     "name": "stdout",
     "output_type": "stream",
     "text": [
      "accuracy: 0.35714285714285715\n",
      "predicted class counts: Counter({1: 73, 0: 24, -1: 15})\n",
      "\n",
      "\n",
      "BDX accuracy: 0.35714285714285715. Average accuracy:0.4476861167002012\n",
      "Data spread:  Counter({'1': 257, '-1': 110, '0': 81})\n"
     ]
    },
    {
     "name": "stderr",
     "output_type": "stream",
     "text": [
      "/home/seb/anaconda3/lib/python3.7/site-packages/sklearn/ensemble/forest.py:245: FutureWarning: The default value of n_estimators will change from 10 in version 0.20 to 100 in 0.22.\n",
      "  \"10 in version 0.20 to 100 in 0.22.\", FutureWarning)\n"
     ]
    },
    {
     "name": "stdout",
     "output_type": "stream",
     "text": [
      "accuracy: 0.5982142857142857\n",
      "predicted class counts: Counter({1: 111, -1: 1})\n",
      "\n",
      "\n",
      "BBY accuracy: 0.5982142857142857. Average accuracy:0.4497767857142857\n",
      "Data spread:  Counter({'1': 211, '-1': 122, '0': 115})\n"
     ]
    },
    {
     "name": "stderr",
     "output_type": "stream",
     "text": [
      "/home/seb/anaconda3/lib/python3.7/site-packages/sklearn/ensemble/forest.py:245: FutureWarning: The default value of n_estimators will change from 10 in version 0.20 to 100 in 0.22.\n",
      "  \"10 in version 0.20 to 100 in 0.22.\", FutureWarning)\n"
     ]
    },
    {
     "name": "stdout",
     "output_type": "stream",
     "text": [
      "accuracy: 0.38392857142857145\n",
      "predicted class counts: Counter({1: 85, -1: 20, 0: 7})\n",
      "\n",
      "\n",
      "BIIB accuracy: 0.38392857142857145. Average accuracy:0.4488747553816047\n",
      "Data spread:  Counter({'1': 200, '0': 128, '-1': 120})\n"
     ]
    },
    {
     "name": "stderr",
     "output_type": "stream",
     "text": [
      "/home/seb/anaconda3/lib/python3.7/site-packages/sklearn/ensemble/forest.py:245: FutureWarning: The default value of n_estimators will change from 10 in version 0.20 to 100 in 0.22.\n",
      "  \"10 in version 0.20 to 100 in 0.22.\", FutureWarning)\n"
     ]
    },
    {
     "name": "stdout",
     "output_type": "stream",
     "text": [
      "accuracy: 0.3392857142857143\n",
      "predicted class counts: Counter({1: 81, -1: 22, 0: 9})\n",
      "\n",
      "\n",
      "BLK accuracy: 0.3392857142857143. Average accuracy:0.4473938223938224\n",
      "Data spread:  Counter({'1': 200, '0': 159, '-1': 89})\n"
     ]
    },
    {
     "name": "stderr",
     "output_type": "stream",
     "text": [
      "/home/seb/anaconda3/lib/python3.7/site-packages/sklearn/ensemble/forest.py:245: FutureWarning: The default value of n_estimators will change from 10 in version 0.20 to 100 in 0.22.\n",
      "  \"10 in version 0.20 to 100 in 0.22.\", FutureWarning)\n"
     ]
    },
    {
     "name": "stdout",
     "output_type": "stream",
     "text": [
      "accuracy: 0.36607142857142855\n",
      "predicted class counts: Counter({0: 49, 1: 43, -1: 20})\n",
      "\n",
      "\n",
      "HRB accuracy: 0.36607142857142855. Average accuracy:0.4463095238095238\n",
      "Data spread:  Counter({'1': 236, '-1': 120, '0': 92})\n"
     ]
    },
    {
     "name": "stderr",
     "output_type": "stream",
     "text": [
      "/home/seb/anaconda3/lib/python3.7/site-packages/sklearn/ensemble/forest.py:245: FutureWarning: The default value of n_estimators will change from 10 in version 0.20 to 100 in 0.22.\n",
      "  \"10 in version 0.20 to 100 in 0.22.\", FutureWarning)\n"
     ]
    },
    {
     "name": "stdout",
     "output_type": "stream",
     "text": [
      "accuracy: 0.5178571428571429\n",
      "predicted class counts: Counter({1: 102, -1: 7, 0: 3})\n",
      "\n",
      "\n",
      "BA accuracy: 0.5178571428571429. Average accuracy:0.44725093984962405\n",
      "Data spread:  Counter({'1': 217, '0': 117, '-1': 114})\n"
     ]
    },
    {
     "name": "stderr",
     "output_type": "stream",
     "text": [
      "/home/seb/anaconda3/lib/python3.7/site-packages/sklearn/ensemble/forest.py:245: FutureWarning: The default value of n_estimators will change from 10 in version 0.20 to 100 in 0.22.\n",
      "  \"10 in version 0.20 to 100 in 0.22.\", FutureWarning)\n"
     ]
    },
    {
     "name": "stdout",
     "output_type": "stream",
     "text": [
      "accuracy: 0.41964285714285715\n",
      "predicted class counts: Counter({1: 80, -1: 25, 0: 7})\n",
      "\n",
      "\n",
      "BKNG accuracy: 0.41964285714285715. Average accuracy:0.44689239332096475\n",
      "Data spread:  Counter({'1': 208, '-1': 180, '0': 60})\n"
     ]
    },
    {
     "name": "stderr",
     "output_type": "stream",
     "text": [
      "/home/seb/anaconda3/lib/python3.7/site-packages/sklearn/ensemble/forest.py:245: FutureWarning: The default value of n_estimators will change from 10 in version 0.20 to 100 in 0.22.\n",
      "  \"10 in version 0.20 to 100 in 0.22.\", FutureWarning)\n"
     ]
    },
    {
     "name": "stdout",
     "output_type": "stream",
     "text": [
      "accuracy: 0.44642857142857145\n",
      "predicted class counts: Counter({1: 73, -1: 38, 0: 1})\n",
      "\n",
      "\n",
      "BWA accuracy: 0.44642857142857145. Average accuracy:0.4468864468864469\n",
      "Data spread:  Counter({'0': 204, '1': 169, '-1': 75})\n"
     ]
    },
    {
     "name": "stderr",
     "output_type": "stream",
     "text": [
      "/home/seb/anaconda3/lib/python3.7/site-packages/sklearn/ensemble/forest.py:245: FutureWarning: The default value of n_estimators will change from 10 in version 0.20 to 100 in 0.22.\n",
      "  \"10 in version 0.20 to 100 in 0.22.\", FutureWarning)\n"
     ]
    },
    {
     "name": "stdout",
     "output_type": "stream",
     "text": [
      "accuracy: 0.44642857142857145\n",
      "predicted class counts: Counter({0: 92, 1: 15, -1: 5})\n",
      "\n",
      "\n",
      "BXP accuracy: 0.44642857142857145. Average accuracy:0.446880650994575\n",
      "80\n",
      "Data spread:  Counter({'1': 234, '0': 129, '-1': 85})\n"
     ]
    },
    {
     "name": "stderr",
     "output_type": "stream",
     "text": [
      "/home/seb/anaconda3/lib/python3.7/site-packages/sklearn/ensemble/forest.py:245: FutureWarning: The default value of n_estimators will change from 10 in version 0.20 to 100 in 0.22.\n",
      "  \"10 in version 0.20 to 100 in 0.22.\", FutureWarning)\n"
     ]
    },
    {
     "name": "stdout",
     "output_type": "stream",
     "text": [
      "accuracy: 0.45535714285714285\n",
      "predicted class counts: Counter({1: 88, -1: 15, 0: 9})\n",
      "\n",
      "\n",
      "BSX accuracy: 0.45535714285714285. Average accuracy:0.44698660714285715\n",
      "Data spread:  Counter({'1': 203, '0': 158, '-1': 87})\n"
     ]
    },
    {
     "name": "stderr",
     "output_type": "stream",
     "text": [
      "/home/seb/anaconda3/lib/python3.7/site-packages/sklearn/ensemble/forest.py:245: FutureWarning: The default value of n_estimators will change from 10 in version 0.20 to 100 in 0.22.\n",
      "  \"10 in version 0.20 to 100 in 0.22.\", FutureWarning)\n"
     ]
    },
    {
     "name": "stdout",
     "output_type": "stream",
     "text": [
      "accuracy: 0.3392857142857143\n",
      "predicted class counts: Counter({0: 54, 1: 41, -1: 17})\n",
      "\n",
      "\n",
      "BMY accuracy: 0.3392857142857143. Average accuracy:0.44565696649029984\n",
      "Data spread:  Counter({'1': 249, '-1': 134, '0': 65})\n"
     ]
    },
    {
     "name": "stderr",
     "output_type": "stream",
     "text": [
      "/home/seb/anaconda3/lib/python3.7/site-packages/sklearn/ensemble/forest.py:245: FutureWarning: The default value of n_estimators will change from 10 in version 0.20 to 100 in 0.22.\n",
      "  \"10 in version 0.20 to 100 in 0.22.\", FutureWarning)\n"
     ]
    },
    {
     "name": "stdout",
     "output_type": "stream",
     "text": [
      "accuracy: 0.5178571428571429\n",
      "predicted class counts: Counter({1: 98, -1: 13, 0: 1})\n",
      "\n",
      "\n",
      "AVGO accuracy: 0.5178571428571429. Average accuracy:0.446537456445993\n",
      "Data spread:  Counter({'1': 207, '0': 156, '-1': 85})\n"
     ]
    },
    {
     "name": "stderr",
     "output_type": "stream",
     "text": [
      "/home/seb/anaconda3/lib/python3.7/site-packages/sklearn/ensemble/forest.py:245: FutureWarning: The default value of n_estimators will change from 10 in version 0.20 to 100 in 0.22.\n",
      "  \"10 in version 0.20 to 100 in 0.22.\", FutureWarning)\n"
     ]
    },
    {
     "name": "stdout",
     "output_type": "stream",
     "text": [
      "accuracy: 0.36607142857142855\n",
      "predicted class counts: Counter({1: 75, 0: 28, -1: 9})\n",
      "\n",
      "\n",
      "BR accuracy: 0.36607142857142855. Average accuracy:0.4455679862306368\n",
      "Data spread:  Counter({'1': 198, '0': 155, '-1': 95})\n"
     ]
    },
    {
     "name": "stderr",
     "output_type": "stream",
     "text": [
      "/home/seb/anaconda3/lib/python3.7/site-packages/sklearn/ensemble/forest.py:245: FutureWarning: The default value of n_estimators will change from 10 in version 0.20 to 100 in 0.22.\n",
      "  \"10 in version 0.20 to 100 in 0.22.\", FutureWarning)\n"
     ]
    },
    {
     "name": "stdout",
     "output_type": "stream",
     "text": [
      "accuracy: 0.39285714285714285\n",
      "predicted class counts: Counter({1: 71, 0: 29, -1: 12})\n",
      "\n",
      "\n",
      "CHRW accuracy: 0.39285714285714285. Average accuracy:0.44494047619047616\n",
      "Data spread:  Counter({'1': 205, '-1': 147, '0': 96})\n"
     ]
    },
    {
     "name": "stderr",
     "output_type": "stream",
     "text": [
      "/home/seb/anaconda3/lib/python3.7/site-packages/sklearn/ensemble/forest.py:245: FutureWarning: The default value of n_estimators will change from 10 in version 0.20 to 100 in 0.22.\n",
      "  \"10 in version 0.20 to 100 in 0.22.\", FutureWarning)\n"
     ]
    },
    {
     "name": "stdout",
     "output_type": "stream",
     "text": [
      "accuracy: 0.3392857142857143\n",
      "predicted class counts: Counter({1: 64, -1: 43, 0: 5})\n",
      "\n",
      "\n",
      "COG accuracy: 0.3392857142857143. Average accuracy:0.4436974789915966\n",
      "Data spread:  Counter({'1': 243, '0': 104, '-1': 101})\n"
     ]
    },
    {
     "name": "stderr",
     "output_type": "stream",
     "text": [
      "/home/seb/anaconda3/lib/python3.7/site-packages/sklearn/ensemble/forest.py:245: FutureWarning: The default value of n_estimators will change from 10 in version 0.20 to 100 in 0.22.\n",
      "  \"10 in version 0.20 to 100 in 0.22.\", FutureWarning)\n"
     ]
    },
    {
     "name": "stdout",
     "output_type": "stream",
     "text": [
      "accuracy: 0.4017857142857143\n",
      "predicted class counts: Counter({1: 85, 0: 20, -1: 7})\n",
      "\n",
      "\n",
      "CDNS accuracy: 0.4017857142857143. Average accuracy:0.4432101328903654\n",
      "Data spread:  Counter({'1': 191, '0': 150, '-1': 107})\n"
     ]
    },
    {
     "name": "stderr",
     "output_type": "stream",
     "text": [
      "/home/seb/anaconda3/lib/python3.7/site-packages/sklearn/ensemble/forest.py:245: FutureWarning: The default value of n_estimators will change from 10 in version 0.20 to 100 in 0.22.\n",
      "  \"10 in version 0.20 to 100 in 0.22.\", FutureWarning)\n"
     ]
    },
    {
     "name": "stdout",
     "output_type": "stream",
     "text": [
      "accuracy: 0.4017857142857143\n",
      "predicted class counts: Counter({1: 49, 0: 45, -1: 18})\n",
      "\n",
      "\n",
      "CPB accuracy: 0.4017857142857143. Average accuracy:0.44273399014778325\n",
      "Data spread:  Counter({'1': 200, '0': 125, '-1': 123})\n"
     ]
    },
    {
     "name": "stderr",
     "output_type": "stream",
     "text": [
      "/home/seb/anaconda3/lib/python3.7/site-packages/sklearn/ensemble/forest.py:245: FutureWarning: The default value of n_estimators will change from 10 in version 0.20 to 100 in 0.22.\n",
      "  \"10 in version 0.20 to 100 in 0.22.\", FutureWarning)\n"
     ]
    },
    {
     "name": "stdout",
     "output_type": "stream",
     "text": [
      "accuracy: 0.4107142857142857\n",
      "predicted class counts: Counter({1: 78, 0: 18, -1: 16})\n",
      "\n",
      "\n",
      "COF accuracy: 0.4107142857142857. Average accuracy:0.44237012987012986\n",
      "90\n",
      "Data spread:  Counter({'1': 208, '-1': 161, '0': 79})\n"
     ]
    },
    {
     "name": "stderr",
     "output_type": "stream",
     "text": [
      "/home/seb/anaconda3/lib/python3.7/site-packages/sklearn/ensemble/forest.py:245: FutureWarning: The default value of n_estimators will change from 10 in version 0.20 to 100 in 0.22.\n",
      "  \"10 in version 0.20 to 100 in 0.22.\", FutureWarning)\n"
     ]
    },
    {
     "name": "stdout",
     "output_type": "stream",
     "text": [
      "accuracy: 0.39285714285714285\n",
      "predicted class counts: Counter({1: 79, -1: 33})\n",
      "\n",
      "\n",
      "CPRI accuracy: 0.39285714285714285. Average accuracy:0.44181380417335475\n",
      "Data spread:  Counter({'1': 233, '-1': 129, '0': 86})\n"
     ]
    },
    {
     "name": "stderr",
     "output_type": "stream",
     "text": [
      "/home/seb/anaconda3/lib/python3.7/site-packages/sklearn/ensemble/forest.py:245: FutureWarning: The default value of n_estimators will change from 10 in version 0.20 to 100 in 0.22.\n",
      "  \"10 in version 0.20 to 100 in 0.22.\", FutureWarning)\n"
     ]
    },
    {
     "name": "stdout",
     "output_type": "stream",
     "text": [
      "accuracy: 0.4375\n",
      "predicted class counts: Counter({1: 93, -1: 14, 0: 5})\n",
      "\n",
      "\n",
      "CAH accuracy: 0.4375. Average accuracy:0.441765873015873\n",
      "Data spread:  Counter({'1': 240, '-1': 113, '0': 95})\n"
     ]
    },
    {
     "name": "stderr",
     "output_type": "stream",
     "text": [
      "/home/seb/anaconda3/lib/python3.7/site-packages/sklearn/ensemble/forest.py:245: FutureWarning: The default value of n_estimators will change from 10 in version 0.20 to 100 in 0.22.\n",
      "  \"10 in version 0.20 to 100 in 0.22.\", FutureWarning)\n"
     ]
    },
    {
     "name": "stdout",
     "output_type": "stream",
     "text": [
      "accuracy: 0.5357142857142857\n",
      "predicted class counts: Counter({1: 107, -1: 4, 0: 1})\n",
      "\n",
      "\n",
      "KMX accuracy: 0.5357142857142857. Average accuracy:0.44279827315541603\n",
      "Data spread:  Counter({'1': 192, '-1': 131, '0': 125})\n"
     ]
    },
    {
     "name": "stderr",
     "output_type": "stream",
     "text": [
      "/home/seb/anaconda3/lib/python3.7/site-packages/sklearn/ensemble/forest.py:245: FutureWarning: The default value of n_estimators will change from 10 in version 0.20 to 100 in 0.22.\n",
      "  \"10 in version 0.20 to 100 in 0.22.\", FutureWarning)\n"
     ]
    },
    {
     "name": "stdout",
     "output_type": "stream",
     "text": [
      "accuracy: 0.3125\n",
      "predicted class counts: Counter({1: 54, -1: 38, 0: 20})\n",
      "\n",
      "\n",
      "CCL accuracy: 0.3125. Average accuracy:0.44138198757763975\n",
      "Data spread:  Counter({'1': 232, '-1': 138, '0': 78})\n"
     ]
    },
    {
     "name": "stderr",
     "output_type": "stream",
     "text": [
      "/home/seb/anaconda3/lib/python3.7/site-packages/sklearn/ensemble/forest.py:245: FutureWarning: The default value of n_estimators will change from 10 in version 0.20 to 100 in 0.22.\n",
      "  \"10 in version 0.20 to 100 in 0.22.\", FutureWarning)\n"
     ]
    },
    {
     "name": "stdout",
     "output_type": "stream",
     "text": [
      "accuracy: 0.5178571428571429\n",
      "predicted class counts: Counter({1: 88, -1: 24})\n",
      "\n",
      "\n",
      "CAT accuracy: 0.5178571428571429. Average accuracy:0.4422043010752688\n",
      "Data spread:  Counter({'1': 189, '0': 152, '-1': 107})\n"
     ]
    },
    {
     "name": "stderr",
     "output_type": "stream",
     "text": [
      "/home/seb/anaconda3/lib/python3.7/site-packages/sklearn/ensemble/forest.py:245: FutureWarning: The default value of n_estimators will change from 10 in version 0.20 to 100 in 0.22.\n",
      "  \"10 in version 0.20 to 100 in 0.22.\", FutureWarning)\n"
     ]
    },
    {
     "name": "stdout",
     "output_type": "stream",
     "text": [
      "accuracy: 0.45535714285714285\n",
      "predicted class counts: Counter({1: 77, -1: 19, 0: 16})\n",
      "\n",
      "\n",
      "CBOE accuracy: 0.45535714285714285. Average accuracy:0.44234422492401215\n",
      "Data spread:  Counter({'1': 198, '0': 146, '-1': 104})\n"
     ]
    },
    {
     "name": "stderr",
     "output_type": "stream",
     "text": [
      "/home/seb/anaconda3/lib/python3.7/site-packages/sklearn/ensemble/forest.py:245: FutureWarning: The default value of n_estimators will change from 10 in version 0.20 to 100 in 0.22.\n",
      "  \"10 in version 0.20 to 100 in 0.22.\", FutureWarning)\n"
     ]
    },
    {
     "name": "stdout",
     "output_type": "stream",
     "text": [
      "accuracy: 0.4107142857142857\n",
      "predicted class counts: Counter({1: 49, -1: 33, 0: 30})\n",
      "\n",
      "\n",
      "CBRE accuracy: 0.4107142857142857. Average accuracy:0.44201127819548874\n",
      "Data spread:  Counter({'1': 195, '-1': 146, '0': 107})\n"
     ]
    },
    {
     "name": "stderr",
     "output_type": "stream",
     "text": [
      "/home/seb/anaconda3/lib/python3.7/site-packages/sklearn/ensemble/forest.py:245: FutureWarning: The default value of n_estimators will change from 10 in version 0.20 to 100 in 0.22.\n",
      "  \"10 in version 0.20 to 100 in 0.22.\", FutureWarning)\n"
     ]
    },
    {
     "name": "stdout",
     "output_type": "stream",
     "text": [
      "accuracy: 0.48214285714285715\n",
      "predicted class counts: Counter({1: 77, -1: 35})\n",
      "\n",
      "\n",
      "CBS accuracy: 0.48214285714285715. Average accuracy:0.44242931547619047\n",
      "Data spread:  Counter({'1': 238, '0': 131, '-1': 79})\n"
     ]
    },
    {
     "name": "stderr",
     "output_type": "stream",
     "text": [
      "/home/seb/anaconda3/lib/python3.7/site-packages/sklearn/ensemble/forest.py:245: FutureWarning: The default value of n_estimators will change from 10 in version 0.20 to 100 in 0.22.\n",
      "  \"10 in version 0.20 to 100 in 0.22.\", FutureWarning)\n"
     ]
    },
    {
     "name": "stdout",
     "output_type": "stream",
     "text": [
      "accuracy: 0.5089285714285714\n",
      "predicted class counts: Counter({1: 96, 0: 9, -1: 7})\n",
      "\n",
      "\n",
      "CDW accuracy: 0.5089285714285714. Average accuracy:0.4431148748159057\n",
      "Data spread:  Counter({'1': 216, '0': 128, '-1': 104})\n"
     ]
    },
    {
     "name": "stderr",
     "output_type": "stream",
     "text": [
      "/home/seb/anaconda3/lib/python3.7/site-packages/sklearn/ensemble/forest.py:245: FutureWarning: The default value of n_estimators will change from 10 in version 0.20 to 100 in 0.22.\n",
      "  \"10 in version 0.20 to 100 in 0.22.\", FutureWarning)\n"
     ]
    },
    {
     "name": "stdout",
     "output_type": "stream",
     "text": [
      "accuracy: 0.4017857142857143\n",
      "predicted class counts: Counter({1: 71, -1: 27, 0: 14})\n",
      "\n",
      "\n",
      "CE accuracy: 0.4017857142857143. Average accuracy:0.44269314868804666\n",
      "100\n",
      "Data spread:  Counter({'1': 181, '0': 167, '-1': 100})\n"
     ]
    },
    {
     "name": "stderr",
     "output_type": "stream",
     "text": [
      "/home/seb/anaconda3/lib/python3.7/site-packages/sklearn/ensemble/forest.py:245: FutureWarning: The default value of n_estimators will change from 10 in version 0.20 to 100 in 0.22.\n",
      "  \"10 in version 0.20 to 100 in 0.22.\", FutureWarning)\n"
     ]
    },
    {
     "name": "stdout",
     "output_type": "stream",
     "text": [
      "accuracy: 0.44642857142857145\n",
      "predicted class counts: Counter({1: 69, 0: 33, -1: 10})\n",
      "\n",
      "\n",
      "CELG accuracy: 0.44642857142857145. Average accuracy:0.44273088023088025\n",
      "Data spread:  Counter({'1': 224, '-1': 125, '0': 99})\n"
     ]
    },
    {
     "name": "stderr",
     "output_type": "stream",
     "text": [
      "/home/seb/anaconda3/lib/python3.7/site-packages/sklearn/ensemble/forest.py:245: FutureWarning: The default value of n_estimators will change from 10 in version 0.20 to 100 in 0.22.\n",
      "  \"10 in version 0.20 to 100 in 0.22.\", FutureWarning)\n"
     ]
    },
    {
     "name": "stdout",
     "output_type": "stream",
     "text": [
      "accuracy: 0.41964285714285715\n",
      "predicted class counts: Counter({1: 90, -1: 18, 0: 4})\n",
      "\n",
      "\n",
      "CNC accuracy: 0.41964285714285715. Average accuracy:0.4425\n",
      "Data spread:  Counter({'0': 218, '1': 165, '-1': 65})\n"
     ]
    },
    {
     "name": "stderr",
     "output_type": "stream",
     "text": [
      "/home/seb/anaconda3/lib/python3.7/site-packages/sklearn/ensemble/forest.py:245: FutureWarning: The default value of n_estimators will change from 10 in version 0.20 to 100 in 0.22.\n",
      "  \"10 in version 0.20 to 100 in 0.22.\", FutureWarning)\n"
     ]
    },
    {
     "name": "stdout",
     "output_type": "stream",
     "text": [
      "accuracy: 0.5178571428571429\n",
      "predicted class counts: Counter({0: 98, 1: 13, -1: 1})\n",
      "\n",
      "\n",
      "CNP accuracy: 0.5178571428571429. Average accuracy:0.44324611032531824\n",
      "Data spread:  Counter({'1': 218, '-1': 171, '0': 59})\n"
     ]
    },
    {
     "name": "stderr",
     "output_type": "stream",
     "text": [
      "/home/seb/anaconda3/lib/python3.7/site-packages/sklearn/ensemble/forest.py:245: FutureWarning: The default value of n_estimators will change from 10 in version 0.20 to 100 in 0.22.\n",
      "  \"10 in version 0.20 to 100 in 0.22.\", FutureWarning)\n"
     ]
    },
    {
     "name": "stdout",
     "output_type": "stream",
     "text": [
      "accuracy: 0.42857142857142855\n",
      "predicted class counts: Counter({1: 69, -1: 42, 0: 1})\n",
      "\n",
      "\n",
      "CTL accuracy: 0.42857142857142855. Average accuracy:0.4431022408963585\n",
      "Data spread:  Counter({'0': 183, '1': 172, '-1': 93})\n"
     ]
    },
    {
     "name": "stderr",
     "output_type": "stream",
     "text": [
      "/home/seb/anaconda3/lib/python3.7/site-packages/sklearn/ensemble/forest.py:245: FutureWarning: The default value of n_estimators will change from 10 in version 0.20 to 100 in 0.22.\n",
      "  \"10 in version 0.20 to 100 in 0.22.\", FutureWarning)\n"
     ]
    },
    {
     "name": "stdout",
     "output_type": "stream",
     "text": [
      "accuracy: 0.33035714285714285\n",
      "predicted class counts: Counter({0: 61, 1: 38, -1: 13})\n",
      "\n",
      "\n",
      "CERN accuracy: 0.33035714285714285. Average accuracy:0.44200762829403606\n",
      "Data spread:  Counter({'1': 248, '-1': 121, '0': 79})\n"
     ]
    },
    {
     "name": "stderr",
     "output_type": "stream",
     "text": [
      "/home/seb/anaconda3/lib/python3.7/site-packages/sklearn/ensemble/forest.py:245: FutureWarning: The default value of n_estimators will change from 10 in version 0.20 to 100 in 0.22.\n",
      "  \"10 in version 0.20 to 100 in 0.22.\", FutureWarning)\n"
     ]
    },
    {
     "name": "stdout",
     "output_type": "stream",
     "text": [
      "accuracy: 0.5446428571428571\n",
      "predicted class counts: Counter({1: 92, -1: 15, 0: 5})\n",
      "\n",
      "\n",
      "CF accuracy: 0.5446428571428571. Average accuracy:0.4429945054945055\n",
      "Data spread:  Counter({'1': 192, '-1': 166, '0': 90})\n"
     ]
    },
    {
     "name": "stderr",
     "output_type": "stream",
     "text": [
      "/home/seb/anaconda3/lib/python3.7/site-packages/sklearn/ensemble/forest.py:245: FutureWarning: The default value of n_estimators will change from 10 in version 0.20 to 100 in 0.22.\n",
      "  \"10 in version 0.20 to 100 in 0.22.\", FutureWarning)\n"
     ]
    },
    {
     "name": "stdout",
     "output_type": "stream",
     "text": [
      "accuracy: 0.4107142857142857\n",
      "predicted class counts: Counter({1: 76, -1: 36})\n",
      "\n",
      "\n",
      "SCHW accuracy: 0.4107142857142857. Average accuracy:0.44268707482993197\n",
      "Data spread:  Counter({'1': 212, '0': 143, '-1': 93})\n"
     ]
    },
    {
     "name": "stderr",
     "output_type": "stream",
     "text": [
      "/home/seb/anaconda3/lib/python3.7/site-packages/sklearn/ensemble/forest.py:245: FutureWarning: The default value of n_estimators will change from 10 in version 0.20 to 100 in 0.22.\n",
      "  \"10 in version 0.20 to 100 in 0.22.\", FutureWarning)\n"
     ]
    },
    {
     "name": "stdout",
     "output_type": "stream",
     "text": [
      "accuracy: 0.38392857142857145\n",
      "predicted class counts: Counter({1: 95, 0: 10, -1: 7})\n",
      "\n",
      "\n",
      "CHTR accuracy: 0.38392857142857145. Average accuracy:0.44213274932614555\n",
      "Data spread:  Counter({'1': 190, '0': 158, '-1': 100})\n"
     ]
    },
    {
     "name": "stderr",
     "output_type": "stream",
     "text": [
      "/home/seb/anaconda3/lib/python3.7/site-packages/sklearn/ensemble/forest.py:245: FutureWarning: The default value of n_estimators will change from 10 in version 0.20 to 100 in 0.22.\n",
      "  \"10 in version 0.20 to 100 in 0.22.\", FutureWarning)\n"
     ]
    },
    {
     "name": "stdout",
     "output_type": "stream",
     "text": [
      "accuracy: 0.3125\n",
      "predicted class counts: Counter({1: 48, -1: 35, 0: 29})\n",
      "\n",
      "\n",
      "CVX accuracy: 0.3125. Average accuracy:0.4409212283044059\n",
      "Data spread:  Counter({'1': 236, '0': 107, '-1': 105})\n"
     ]
    },
    {
     "name": "stderr",
     "output_type": "stream",
     "text": [
      "/home/seb/anaconda3/lib/python3.7/site-packages/sklearn/ensemble/forest.py:245: FutureWarning: The default value of n_estimators will change from 10 in version 0.20 to 100 in 0.22.\n",
      "  \"10 in version 0.20 to 100 in 0.22.\", FutureWarning)\n"
     ]
    },
    {
     "name": "stdout",
     "output_type": "stream",
     "text": [
      "accuracy: 0.49107142857142855\n",
      "predicted class counts: Counter({1: 98, -1: 10, 0: 4})\n",
      "\n",
      "\n",
      "CMG accuracy: 0.49107142857142855. Average accuracy:0.44138558201058203\n",
      "110\n",
      "Data spread:  Counter({'0': 235, '1': 153, '-1': 60})\n"
     ]
    },
    {
     "name": "stderr",
     "output_type": "stream",
     "text": [
      "/home/seb/anaconda3/lib/python3.7/site-packages/sklearn/ensemble/forest.py:245: FutureWarning: The default value of n_estimators will change from 10 in version 0.20 to 100 in 0.22.\n",
      "  \"10 in version 0.20 to 100 in 0.22.\", FutureWarning)\n"
     ]
    },
    {
     "name": "stdout",
     "output_type": "stream",
     "text": [
      "accuracy: 0.5803571428571429\n",
      "predicted class counts: Counter({0: 102, 1: 8, -1: 2})\n",
      "\n",
      "\n",
      "CB accuracy: 0.5803571428571429. Average accuracy:0.4426605504587156\n",
      "Data spread:  Counter({'1': 211, '0': 179, '-1': 58})\n"
     ]
    },
    {
     "name": "stderr",
     "output_type": "stream",
     "text": [
      "/home/seb/anaconda3/lib/python3.7/site-packages/sklearn/ensemble/forest.py:245: FutureWarning: The default value of n_estimators will change from 10 in version 0.20 to 100 in 0.22.\n",
      "  \"10 in version 0.20 to 100 in 0.22.\", FutureWarning)\n"
     ]
    },
    {
     "name": "stdout",
     "output_type": "stream",
     "text": [
      "accuracy: 0.48214285714285715\n",
      "predicted class counts: Counter({1: 63, 0: 44, -1: 5})\n",
      "\n",
      "\n",
      "CHD accuracy: 0.48214285714285715. Average accuracy:0.44301948051948054\n",
      "Data spread:  Counter({'1': 220, '-1': 121, '0': 107})\n"
     ]
    },
    {
     "name": "stderr",
     "output_type": "stream",
     "text": [
      "/home/seb/anaconda3/lib/python3.7/site-packages/sklearn/ensemble/forest.py:245: FutureWarning: The default value of n_estimators will change from 10 in version 0.20 to 100 in 0.22.\n",
      "  \"10 in version 0.20 to 100 in 0.22.\", FutureWarning)\n"
     ]
    },
    {
     "name": "stdout",
     "output_type": "stream",
     "text": [
      "accuracy: 0.49107142857142855\n",
      "predicted class counts: Counter({1: 83, -1: 25, 0: 4})\n",
      "\n",
      "\n",
      "CI accuracy: 0.49107142857142855. Average accuracy:0.44345238095238093\n",
      "Data spread:  Counter({'1': 207, '-1': 194, '0': 47})\n"
     ]
    },
    {
     "name": "stderr",
     "output_type": "stream",
     "text": [
      "/home/seb/anaconda3/lib/python3.7/site-packages/sklearn/ensemble/forest.py:245: FutureWarning: The default value of n_estimators will change from 10 in version 0.20 to 100 in 0.22.\n",
      "  \"10 in version 0.20 to 100 in 0.22.\", FutureWarning)\n"
     ]
    },
    {
     "name": "stdout",
     "output_type": "stream",
     "text": [
      "accuracy: 0.4017857142857143\n",
      "predicted class counts: Counter({1: 70, -1: 42})\n",
      "\n",
      "\n",
      "XEC accuracy: 0.4017857142857143. Average accuracy:0.44308035714285715\n",
      "Data spread:  Counter({'0': 202, '1': 198, '-1': 48})\n"
     ]
    },
    {
     "name": "stderr",
     "output_type": "stream",
     "text": [
      "/home/seb/anaconda3/lib/python3.7/site-packages/sklearn/ensemble/forest.py:245: FutureWarning: The default value of n_estimators will change from 10 in version 0.20 to 100 in 0.22.\n",
      "  \"10 in version 0.20 to 100 in 0.22.\", FutureWarning)\n"
     ]
    },
    {
     "name": "stdout",
     "output_type": "stream",
     "text": [
      "accuracy: 0.45535714285714285\n",
      "predicted class counts: Counter({0: 72, 1: 38, -1: 2})\n",
      "\n",
      "\n",
      "CINF accuracy: 0.45535714285714285. Average accuracy:0.4431890012642225\n",
      "Data spread:  Counter({'1': 210, '0': 161, '-1': 77})\n"
     ]
    },
    {
     "name": "stderr",
     "output_type": "stream",
     "text": [
      "/home/seb/anaconda3/lib/python3.7/site-packages/sklearn/ensemble/forest.py:245: FutureWarning: The default value of n_estimators will change from 10 in version 0.20 to 100 in 0.22.\n",
      "  \"10 in version 0.20 to 100 in 0.22.\", FutureWarning)\n"
     ]
    },
    {
     "name": "stdout",
     "output_type": "stream",
     "text": [
      "accuracy: 0.5\n",
      "predicted class counts: Counter({1: 65, 0: 41, -1: 6})\n",
      "\n",
      "\n",
      "CTAS accuracy: 0.5. Average accuracy:0.443687343358396\n",
      "Data spread:  Counter({'1': 224, '0': 116, '-1': 108})\n"
     ]
    },
    {
     "name": "stderr",
     "output_type": "stream",
     "text": [
      "/home/seb/anaconda3/lib/python3.7/site-packages/sklearn/ensemble/forest.py:245: FutureWarning: The default value of n_estimators will change from 10 in version 0.20 to 100 in 0.22.\n",
      "  \"10 in version 0.20 to 100 in 0.22.\", FutureWarning)\n"
     ]
    },
    {
     "name": "stdout",
     "output_type": "stream",
     "text": [
      "accuracy: 0.44642857142857145\n",
      "predicted class counts: Counter({1: 86, 0: 15, -1: 11})\n",
      "\n",
      "\n",
      "CSCO accuracy: 0.44642857142857145. Average accuracy:0.4437111801242236\n",
      "Data spread:  Counter({'1': 207, '-1': 124, '0': 117})\n"
     ]
    },
    {
     "name": "stderr",
     "output_type": "stream",
     "text": [
      "/home/seb/anaconda3/lib/python3.7/site-packages/sklearn/ensemble/forest.py:245: FutureWarning: The default value of n_estimators will change from 10 in version 0.20 to 100 in 0.22.\n",
      "  \"10 in version 0.20 to 100 in 0.22.\", FutureWarning)\n"
     ]
    },
    {
     "name": "stdout",
     "output_type": "stream",
     "text": [
      "accuracy: 0.39285714285714285\n",
      "predicted class counts: Counter({1: 70, -1: 26, 0: 16})\n",
      "\n",
      "\n",
      "C accuracy: 0.39285714285714285. Average accuracy:0.44327278325123154\n",
      "Data spread:  Counter({'1': 200, '-1': 141, '0': 107})\n"
     ]
    },
    {
     "name": "stderr",
     "output_type": "stream",
     "text": [
      "/home/seb/anaconda3/lib/python3.7/site-packages/sklearn/ensemble/forest.py:245: FutureWarning: The default value of n_estimators will change from 10 in version 0.20 to 100 in 0.22.\n",
      "  \"10 in version 0.20 to 100 in 0.22.\", FutureWarning)\n"
     ]
    },
    {
     "name": "stdout",
     "output_type": "stream",
     "text": [
      "accuracy: 0.38392857142857145\n",
      "predicted class counts: Counter({1: 83, -1: 20, 0: 9})\n",
      "\n",
      "\n",
      "CFG accuracy: 0.38392857142857145. Average accuracy:0.44276556776556775\n",
      "Data spread:  Counter({'0': 230, '1': 157, '-1': 61})\n"
     ]
    },
    {
     "name": "stderr",
     "output_type": "stream",
     "text": [
      "/home/seb/anaconda3/lib/python3.7/site-packages/sklearn/ensemble/forest.py:245: FutureWarning: The default value of n_estimators will change from 10 in version 0.20 to 100 in 0.22.\n",
      "  \"10 in version 0.20 to 100 in 0.22.\", FutureWarning)\n"
     ]
    },
    {
     "name": "stdout",
     "output_type": "stream",
     "text": [
      "accuracy: 0.48214285714285715\n",
      "predicted class counts: Counter({0: 102, 1: 6, -1: 4})\n",
      "\n",
      "\n",
      "CTXS accuracy: 0.48214285714285715. Average accuracy:0.4430992736077482\n",
      "120\n",
      "Data spread:  Counter({'1': 192, '0': 189, '-1': 67})\n"
     ]
    },
    {
     "name": "stderr",
     "output_type": "stream",
     "text": [
      "/home/seb/anaconda3/lib/python3.7/site-packages/sklearn/ensemble/forest.py:245: FutureWarning: The default value of n_estimators will change from 10 in version 0.20 to 100 in 0.22.\n",
      "  \"10 in version 0.20 to 100 in 0.22.\", FutureWarning)\n"
     ]
    },
    {
     "name": "stdout",
     "output_type": "stream",
     "text": [
      "accuracy: 0.36607142857142855\n",
      "predicted class counts: Counter({0: 74, 1: 34, -1: 4})\n",
      "\n",
      "\n",
      "CLX accuracy: 0.36607142857142855. Average accuracy:0.4424519807923169\n",
      "Data spread:  Counter({'1': 216, '0': 164, '-1': 68})\n"
     ]
    },
    {
     "name": "stderr",
     "output_type": "stream",
     "text": [
      "/home/seb/anaconda3/lib/python3.7/site-packages/sklearn/ensemble/forest.py:245: FutureWarning: The default value of n_estimators will change from 10 in version 0.20 to 100 in 0.22.\n",
      "  \"10 in version 0.20 to 100 in 0.22.\", FutureWarning)\n"
     ]
    },
    {
     "name": "stdout",
     "output_type": "stream",
     "text": [
      "accuracy: 0.4017857142857143\n",
      "predicted class counts: Counter({1: 77, 0: 32, -1: 3})\n",
      "\n",
      "\n",
      "CME accuracy: 0.4017857142857143. Average accuracy:0.4421130952380952\n",
      "Data spread:  Counter({'0': 202, '1': 199, '-1': 47})\n"
     ]
    },
    {
     "name": "stderr",
     "output_type": "stream",
     "text": [
      "/home/seb/anaconda3/lib/python3.7/site-packages/sklearn/ensemble/forest.py:245: FutureWarning: The default value of n_estimators will change from 10 in version 0.20 to 100 in 0.22.\n",
      "  \"10 in version 0.20 to 100 in 0.22.\", FutureWarning)\n"
     ]
    },
    {
     "name": "stdout",
     "output_type": "stream",
     "text": [
      "accuracy: 0.5089285714285714\n",
      "predicted class counts: Counter({0: 68, 1: 40, -1: 4})\n",
      "\n",
      "\n",
      "CMS accuracy: 0.5089285714285714. Average accuracy:0.44266528925619836\n",
      "Data spread:  Counter({'0': 252, '1': 160, '-1': 36})\n"
     ]
    },
    {
     "name": "stderr",
     "output_type": "stream",
     "text": [
      "/home/seb/anaconda3/lib/python3.7/site-packages/sklearn/ensemble/forest.py:245: FutureWarning: The default value of n_estimators will change from 10 in version 0.20 to 100 in 0.22.\n",
      "  \"10 in version 0.20 to 100 in 0.22.\", FutureWarning)\n"
     ]
    },
    {
     "name": "stdout",
     "output_type": "stream",
     "text": [
      "accuracy: 0.5803571428571429\n",
      "predicted class counts: Counter({0: 103, 1: 9})\n",
      "\n",
      "\n",
      "KO accuracy: 0.5803571428571429. Average accuracy:0.44379391100702575\n",
      "Data spread:  Counter({'1': 175, '0': 171, '-1': 102})\n"
     ]
    },
    {
     "name": "stderr",
     "output_type": "stream",
     "text": [
      "/home/seb/anaconda3/lib/python3.7/site-packages/sklearn/ensemble/forest.py:245: FutureWarning: The default value of n_estimators will change from 10 in version 0.20 to 100 in 0.22.\n",
      "  \"10 in version 0.20 to 100 in 0.22.\", FutureWarning)\n"
     ]
    },
    {
     "name": "stdout",
     "output_type": "stream",
     "text": [
      "accuracy: 0.44642857142857145\n",
      "predicted class counts: Counter({1: 60, 0: 37, -1: 15})\n",
      "\n",
      "\n",
      "CTSH accuracy: 0.44642857142857145. Average accuracy:0.44381533101045295\n",
      "Data spread:  Counter({'0': 221, '1': 164, '-1': 63})\n"
     ]
    },
    {
     "name": "stderr",
     "output_type": "stream",
     "text": [
      "/home/seb/anaconda3/lib/python3.7/site-packages/sklearn/ensemble/forest.py:245: FutureWarning: The default value of n_estimators will change from 10 in version 0.20 to 100 in 0.22.\n",
      "  \"10 in version 0.20 to 100 in 0.22.\", FutureWarning)\n"
     ]
    },
    {
     "name": "stdout",
     "output_type": "stream",
     "text": [
      "accuracy: 0.48214285714285715\n",
      "predicted class counts: Counter({0: 95, 1: 14, -1: 3})\n",
      "\n",
      "\n",
      "CL accuracy: 0.48214285714285715. Average accuracy:0.4441244239631336\n",
      "Data spread:  Counter({'1': 211, '0': 134, '-1': 103})\n"
     ]
    },
    {
     "name": "stderr",
     "output_type": "stream",
     "text": [
      "/home/seb/anaconda3/lib/python3.7/site-packages/sklearn/ensemble/forest.py:245: FutureWarning: The default value of n_estimators will change from 10 in version 0.20 to 100 in 0.22.\n",
      "  \"10 in version 0.20 to 100 in 0.22.\", FutureWarning)\n"
     ]
    },
    {
     "name": "stdout",
     "output_type": "stream",
     "text": [
      "accuracy: 0.45535714285714285\n",
      "predicted class counts: Counter({1: 90, 0: 14, -1: 8})\n",
      "\n",
      "\n",
      "CMCSA accuracy: 0.45535714285714285. Average accuracy:0.44421428571428573\n",
      "Data spread:  Counter({'1': 176, '-1': 144, '0': 128})\n"
     ]
    },
    {
     "name": "stderr",
     "output_type": "stream",
     "text": [
      "/home/seb/anaconda3/lib/python3.7/site-packages/sklearn/ensemble/forest.py:245: FutureWarning: The default value of n_estimators will change from 10 in version 0.20 to 100 in 0.22.\n",
      "  \"10 in version 0.20 to 100 in 0.22.\", FutureWarning)\n"
     ]
    },
    {
     "name": "stdout",
     "output_type": "stream",
     "text": [
      "accuracy: 0.35714285714285715\n",
      "predicted class counts: Counter({1: 53, -1: 36, 0: 23})\n",
      "\n",
      "\n",
      "CMA accuracy: 0.35714285714285715. Average accuracy:0.4435232426303855\n",
      "Data spread:  Counter({'1': 202, '0': 140, '-1': 106})\n"
     ]
    },
    {
     "name": "stderr",
     "output_type": "stream",
     "text": [
      "/home/seb/anaconda3/lib/python3.7/site-packages/sklearn/ensemble/forest.py:245: FutureWarning: The default value of n_estimators will change from 10 in version 0.20 to 100 in 0.22.\n",
      "  \"10 in version 0.20 to 100 in 0.22.\", FutureWarning)\n"
     ]
    },
    {
     "name": "stdout",
     "output_type": "stream",
     "text": [
      "accuracy: 0.38392857142857145\n",
      "predicted class counts: Counter({1: 73, 0: 22, -1: 17})\n",
      "\n",
      "\n",
      "CAG accuracy: 0.38392857142857145. Average accuracy:0.44305399325084366\n",
      "Data spread:  Counter({'1': 231, '-1': 168, '0': 49})\n"
     ]
    },
    {
     "name": "stderr",
     "output_type": "stream",
     "text": [
      "/home/seb/anaconda3/lib/python3.7/site-packages/sklearn/ensemble/forest.py:245: FutureWarning: The default value of n_estimators will change from 10 in version 0.20 to 100 in 0.22.\n",
      "  \"10 in version 0.20 to 100 in 0.22.\", FutureWarning)\n"
     ]
    },
    {
     "name": "stdout",
     "output_type": "stream",
     "text": [
      "accuracy: 0.41964285714285715\n",
      "predicted class counts: Counter({1: 103, -1: 9})\n",
      "\n",
      "\n",
      "CXO accuracy: 0.41964285714285715. Average accuracy:0.44287109375\n",
      "130\n",
      "Data spread:  Counter({'1': 220, '-1': 143, '0': 85})\n"
     ]
    },
    {
     "name": "stderr",
     "output_type": "stream",
     "text": [
      "/home/seb/anaconda3/lib/python3.7/site-packages/sklearn/ensemble/forest.py:245: FutureWarning: The default value of n_estimators will change from 10 in version 0.20 to 100 in 0.22.\n",
      "  \"10 in version 0.20 to 100 in 0.22.\", FutureWarning)\n"
     ]
    },
    {
     "name": "stdout",
     "output_type": "stream",
     "text": [
      "accuracy: 0.49107142857142855\n",
      "predicted class counts: Counter({1: 94, -1: 12, 0: 6})\n",
      "\n",
      "\n",
      "COP accuracy: 0.49107142857142855. Average accuracy:0.4432447397563677\n",
      "Data spread:  Counter({'0': 228, '1': 172, '-1': 48})\n"
     ]
    },
    {
     "name": "stderr",
     "output_type": "stream",
     "text": [
      "/home/seb/anaconda3/lib/python3.7/site-packages/sklearn/ensemble/forest.py:245: FutureWarning: The default value of n_estimators will change from 10 in version 0.20 to 100 in 0.22.\n",
      "  \"10 in version 0.20 to 100 in 0.22.\", FutureWarning)\n"
     ]
    },
    {
     "name": "stdout",
     "output_type": "stream",
     "text": [
      "accuracy: 0.49107142857142855\n",
      "predicted class counts: Counter({0: 96, 1: 15, -1: 1})\n",
      "\n",
      "\n",
      "ED accuracy: 0.49107142857142855. Average accuracy:0.44361263736263734\n",
      "Data spread:  Counter({'1': 199, '0': 148, '-1': 101})\n"
     ]
    },
    {
     "name": "stderr",
     "output_type": "stream",
     "text": [
      "/home/seb/anaconda3/lib/python3.7/site-packages/sklearn/ensemble/forest.py:245: FutureWarning: The default value of n_estimators will change from 10 in version 0.20 to 100 in 0.22.\n",
      "  \"10 in version 0.20 to 100 in 0.22.\", FutureWarning)\n"
     ]
    },
    {
     "name": "stdout",
     "output_type": "stream",
     "text": [
      "accuracy: 0.4732142857142857\n",
      "predicted class counts: Counter({1: 70, 0: 37, -1: 5})\n",
      "\n",
      "\n",
      "STZ accuracy: 0.4732142857142857. Average accuracy:0.44383860414394766\n",
      "Data spread:  Counter({'1': 211, '0': 163, '-1': 74})\n"
     ]
    },
    {
     "name": "stderr",
     "output_type": "stream",
     "text": [
      "/home/seb/anaconda3/lib/python3.7/site-packages/sklearn/ensemble/forest.py:245: FutureWarning: The default value of n_estimators will change from 10 in version 0.20 to 100 in 0.22.\n",
      "  \"10 in version 0.20 to 100 in 0.22.\", FutureWarning)\n"
     ]
    },
    {
     "name": "stdout",
     "output_type": "stream",
     "text": [
      "accuracy: 0.4107142857142857\n",
      "predicted class counts: Counter({1: 56, 0: 50, -1: 6})\n",
      "\n",
      "\n",
      "COO accuracy: 0.4107142857142857. Average accuracy:0.44358766233766234\n",
      "Data spread:  Counter({'1': 252, '0': 118, '-1': 78})\n"
     ]
    },
    {
     "name": "stderr",
     "output_type": "stream",
     "text": [
      "/home/seb/anaconda3/lib/python3.7/site-packages/sklearn/ensemble/forest.py:245: FutureWarning: The default value of n_estimators will change from 10 in version 0.20 to 100 in 0.22.\n",
      "  \"10 in version 0.20 to 100 in 0.22.\", FutureWarning)\n"
     ]
    },
    {
     "name": "stdout",
     "output_type": "stream",
     "text": [
      "accuracy: 0.5803571428571429\n",
      "predicted class counts: Counter({1: 100, 0: 7, -1: 5})\n",
      "\n",
      "\n",
      "CPRT accuracy: 0.5803571428571429. Average accuracy:0.4446160042964554\n",
      "Data spread:  Counter({'1': 187, '0': 142, '-1': 119})\n"
     ]
    },
    {
     "name": "stderr",
     "output_type": "stream",
     "text": [
      "/home/seb/anaconda3/lib/python3.7/site-packages/sklearn/ensemble/forest.py:245: FutureWarning: The default value of n_estimators will change from 10 in version 0.20 to 100 in 0.22.\n",
      "  \"10 in version 0.20 to 100 in 0.22.\", FutureWarning)\n"
     ]
    },
    {
     "name": "stdout",
     "output_type": "stream",
     "text": [
      "accuracy: 0.38392857142857145\n",
      "predicted class counts: Counter({1: 81, -1: 19, 0: 12})\n",
      "\n",
      "\n",
      "GLW accuracy: 0.38392857142857145. Average accuracy:0.4441631130063966\n",
      "Data spread:  Counter({'0': 349, '1': 52, '-1': 47})\n"
     ]
    },
    {
     "name": "stderr",
     "output_type": "stream",
     "text": [
      "/home/seb/anaconda3/lib/python3.7/site-packages/sklearn/ensemble/forest.py:245: FutureWarning: The default value of n_estimators will change from 10 in version 0.20 to 100 in 0.22.\n",
      "  \"10 in version 0.20 to 100 in 0.22.\", FutureWarning)\n"
     ]
    },
    {
     "name": "stdout",
     "output_type": "stream",
     "text": [
      "accuracy: 0.8108108108108109\n",
      "predicted class counts: Counter({0: 110, -1: 1})\n",
      "\n",
      "\n",
      "CTVA accuracy: 0.8108108108108109. Average accuracy:0.4468790218790219\n",
      "Data spread:  Counter({'1': 202, '0': 188, '-1': 58})\n"
     ]
    },
    {
     "name": "stderr",
     "output_type": "stream",
     "text": [
      "/home/seb/anaconda3/lib/python3.7/site-packages/sklearn/ensemble/forest.py:245: FutureWarning: The default value of n_estimators will change from 10 in version 0.20 to 100 in 0.22.\n",
      "  \"10 in version 0.20 to 100 in 0.22.\", FutureWarning)\n"
     ]
    },
    {
     "name": "stdout",
     "output_type": "stream",
     "text": [
      "accuracy: 0.4375\n",
      "predicted class counts: Counter({1: 67, 0: 41, -1: 4})\n",
      "\n",
      "\n",
      "COST accuracy: 0.4375. Average accuracy:0.4468100584828526\n",
      "Data spread:  Counter({'-1': 184, '1': 174, '0': 90})\n"
     ]
    },
    {
     "name": "stderr",
     "output_type": "stream",
     "text": [
      "/home/seb/anaconda3/lib/python3.7/site-packages/sklearn/ensemble/forest.py:245: FutureWarning: The default value of n_estimators will change from 10 in version 0.20 to 100 in 0.22.\n",
      "  \"10 in version 0.20 to 100 in 0.22.\", FutureWarning)\n"
     ]
    },
    {
     "name": "stdout",
     "output_type": "stream",
     "text": [
      "accuracy: 0.3125\n",
      "predicted class counts: Counter({1: 56, -1: 54, 0: 2})\n",
      "\n",
      "\n",
      "COTY accuracy: 0.3125. Average accuracy:0.44582969309246684\n",
      "Data spread:  Counter({'1': 203, '0': 176, '-1': 69})\n"
     ]
    },
    {
     "name": "stderr",
     "output_type": "stream",
     "text": [
      "/home/seb/anaconda3/lib/python3.7/site-packages/sklearn/ensemble/forest.py:245: FutureWarning: The default value of n_estimators will change from 10 in version 0.20 to 100 in 0.22.\n",
      "  \"10 in version 0.20 to 100 in 0.22.\", FutureWarning)\n"
     ]
    },
    {
     "name": "stdout",
     "output_type": "stream",
     "text": [
      "accuracy: 0.41964285714285715\n",
      "predicted class counts: Counter({0: 80, 1: 25, -1: 7})\n",
      "\n",
      "\n",
      "CCI accuracy: 0.41964285714285715. Average accuracy:0.4456399334116725\n",
      "140\n",
      "Data spread:  Counter({'1': 216, '0': 149, '-1': 83})\n"
     ]
    },
    {
     "name": "stderr",
     "output_type": "stream",
     "text": [
      "/home/seb/anaconda3/lib/python3.7/site-packages/sklearn/ensemble/forest.py:245: FutureWarning: The default value of n_estimators will change from 10 in version 0.20 to 100 in 0.22.\n",
      "  \"10 in version 0.20 to 100 in 0.22.\", FutureWarning)\n"
     ]
    },
    {
     "name": "stdout",
     "output_type": "stream",
     "text": [
      "accuracy: 0.48214285714285715\n",
      "predicted class counts: Counter({1: 82, 0: 23, -1: 7})\n",
      "\n",
      "\n",
      "CSX accuracy: 0.48214285714285715. Average accuracy:0.4459025443737674\n",
      "Data spread:  Counter({'1': 212, '0': 127, '-1': 109})\n"
     ]
    },
    {
     "name": "stderr",
     "output_type": "stream",
     "text": [
      "/home/seb/anaconda3/lib/python3.7/site-packages/sklearn/ensemble/forest.py:245: FutureWarning: The default value of n_estimators will change from 10 in version 0.20 to 100 in 0.22.\n",
      "  \"10 in version 0.20 to 100 in 0.22.\", FutureWarning)\n"
     ]
    },
    {
     "name": "stdout",
     "output_type": "stream",
     "text": [
      "accuracy: 0.45535714285714285\n",
      "predicted class counts: Counter({1: 84, -1: 19, 0: 9})\n",
      "\n",
      "\n",
      "CMI accuracy: 0.45535714285714285. Average accuracy:0.4459700772200772\n",
      "Data spread:  Counter({'1': 216, '-1': 121, '0': 111})\n"
     ]
    },
    {
     "name": "stderr",
     "output_type": "stream",
     "text": [
      "/home/seb/anaconda3/lib/python3.7/site-packages/sklearn/ensemble/forest.py:245: FutureWarning: The default value of n_estimators will change from 10 in version 0.20 to 100 in 0.22.\n",
      "  \"10 in version 0.20 to 100 in 0.22.\", FutureWarning)\n"
     ]
    },
    {
     "name": "stdout",
     "output_type": "stream",
     "text": [
      "accuracy: 0.45535714285714285\n",
      "predicted class counts: Counter({1: 87, -1: 15, 0: 10})\n",
      "\n",
      "\n",
      "CVS accuracy: 0.45535714285714285. Average accuracy:0.44603665215367344\n",
      "Data spread:  Counter({'1': 224, '-1': 127, '0': 97})\n"
     ]
    },
    {
     "name": "stderr",
     "output_type": "stream",
     "text": [
      "/home/seb/anaconda3/lib/python3.7/site-packages/sklearn/ensemble/forest.py:245: FutureWarning: The default value of n_estimators will change from 10 in version 0.20 to 100 in 0.22.\n",
      "  \"10 in version 0.20 to 100 in 0.22.\", FutureWarning)\n"
     ]
    },
    {
     "name": "stdout",
     "output_type": "stream",
     "text": [
      "accuracy: 0.44642857142857145\n",
      "predicted class counts: Counter({1: 90, -1: 19, 0: 3})\n",
      "\n",
      "\n",
      "DHI accuracy: 0.44642857142857145. Average accuracy:0.44603941214856707\n",
      "Data spread:  Counter({'1': 197, '0': 172, '-1': 79})\n"
     ]
    },
    {
     "name": "stderr",
     "output_type": "stream",
     "text": [
      "/home/seb/anaconda3/lib/python3.7/site-packages/sklearn/ensemble/forest.py:245: FutureWarning: The default value of n_estimators will change from 10 in version 0.20 to 100 in 0.22.\n",
      "  \"10 in version 0.20 to 100 in 0.22.\", FutureWarning)\n"
     ]
    },
    {
     "name": "stdout",
     "output_type": "stream",
     "text": [
      "accuracy: 0.48214285714285715\n",
      "predicted class counts: Counter({1: 71, 0: 33, -1: 8})\n",
      "\n",
      "\n",
      "DHR accuracy: 0.48214285714285715. Average accuracy:0.4462918837918838\n",
      "Data spread:  Counter({'1': 207, '0': 155, '-1': 86})\n"
     ]
    },
    {
     "name": "stderr",
     "output_type": "stream",
     "text": [
      "/home/seb/anaconda3/lib/python3.7/site-packages/sklearn/ensemble/forest.py:245: FutureWarning: The default value of n_estimators will change from 10 in version 0.20 to 100 in 0.22.\n",
      "  \"10 in version 0.20 to 100 in 0.22.\", FutureWarning)\n"
     ]
    },
    {
     "name": "stdout",
     "output_type": "stream",
     "text": [
      "accuracy: 0.5267857142857143\n",
      "predicted class counts: Counter({1: 76, 0: 30, -1: 6})\n",
      "\n",
      "\n",
      "DRI accuracy: 0.5267857142857143. Average accuracy:0.4468508687258687\n",
      "Data spread:  Counter({'1': 197, '-1': 131, '0': 120})\n"
     ]
    },
    {
     "name": "stderr",
     "output_type": "stream",
     "text": [
      "/home/seb/anaconda3/lib/python3.7/site-packages/sklearn/ensemble/forest.py:245: FutureWarning: The default value of n_estimators will change from 10 in version 0.20 to 100 in 0.22.\n",
      "  \"10 in version 0.20 to 100 in 0.22.\", FutureWarning)\n"
     ]
    },
    {
     "name": "stdout",
     "output_type": "stream",
     "text": [
      "accuracy: 0.33035714285714285\n",
      "predicted class counts: Counter({1: 80, -1: 28, 0: 4})\n",
      "\n",
      "\n",
      "DVA accuracy: 0.33035714285714285. Average accuracy:0.4460474637198775\n",
      "Data spread:  Counter({'1': 228, '-1': 121, '0': 99})\n"
     ]
    },
    {
     "name": "stderr",
     "output_type": "stream",
     "text": [
      "/home/seb/anaconda3/lib/python3.7/site-packages/sklearn/ensemble/forest.py:245: FutureWarning: The default value of n_estimators will change from 10 in version 0.20 to 100 in 0.22.\n",
      "  \"10 in version 0.20 to 100 in 0.22.\", FutureWarning)\n"
     ]
    },
    {
     "name": "stdout",
     "output_type": "stream",
     "text": [
      "accuracy: 0.41964285714285715\n",
      "predicted class counts: Counter({1: 100, -1: 7, 0: 5})\n",
      "\n",
      "\n",
      "DE accuracy: 0.41964285714285715. Average accuracy:0.4458666102501719\n",
      "Data spread:  Counter({'1': 206, '-1': 124, '0': 118})\n"
     ]
    },
    {
     "name": "stderr",
     "output_type": "stream",
     "text": [
      "/home/seb/anaconda3/lib/python3.7/site-packages/sklearn/ensemble/forest.py:245: FutureWarning: The default value of n_estimators will change from 10 in version 0.20 to 100 in 0.22.\n",
      "  \"10 in version 0.20 to 100 in 0.22.\", FutureWarning)\n"
     ]
    },
    {
     "name": "stdout",
     "output_type": "stream",
     "text": [
      "accuracy: 0.41964285714285715\n",
      "predicted class counts: Counter({1: 66, -1: 35, 0: 11})\n",
      "\n",
      "\n",
      "DAL accuracy: 0.41964285714285715. Average accuracy:0.44568821737189085\n",
      "Data spread:  Counter({'1': 187, '0': 166, '-1': 95})\n"
     ]
    },
    {
     "name": "stderr",
     "output_type": "stream",
     "text": [
      "/home/seb/anaconda3/lib/python3.7/site-packages/sklearn/ensemble/forest.py:245: FutureWarning: The default value of n_estimators will change from 10 in version 0.20 to 100 in 0.22.\n",
      "  \"10 in version 0.20 to 100 in 0.22.\", FutureWarning)\n"
     ]
    },
    {
     "name": "stdout",
     "output_type": "stream",
     "text": [
      "accuracy: 0.4107142857142857\n",
      "predicted class counts: Counter({0: 40, 1: 39, -1: 33})\n",
      "\n",
      "\n",
      "XRAY accuracy: 0.4107142857142857. Average accuracy:0.445451907022853\n",
      "150\n",
      "Data spread:  Counter({'1': 228, '-1': 186, '0': 34})\n"
     ]
    },
    {
     "name": "stderr",
     "output_type": "stream",
     "text": [
      "/home/seb/anaconda3/lib/python3.7/site-packages/sklearn/ensemble/forest.py:245: FutureWarning: The default value of n_estimators will change from 10 in version 0.20 to 100 in 0.22.\n",
      "  \"10 in version 0.20 to 100 in 0.22.\", FutureWarning)\n"
     ]
    },
    {
     "name": "stdout",
     "output_type": "stream",
     "text": [
      "accuracy: 0.48214285714285715\n",
      "predicted class counts: Counter({-1: 59, 1: 53})\n",
      "\n",
      "\n",
      "DVN accuracy: 0.48214285714285715. Average accuracy:0.4456981550102356\n",
      "Data spread:  Counter({'1': 227, '-1': 166, '0': 55})\n"
     ]
    },
    {
     "name": "stderr",
     "output_type": "stream",
     "text": [
      "/home/seb/anaconda3/lib/python3.7/site-packages/sklearn/ensemble/forest.py:245: FutureWarning: The default value of n_estimators will change from 10 in version 0.20 to 100 in 0.22.\n",
      "  \"10 in version 0.20 to 100 in 0.22.\", FutureWarning)\n"
     ]
    },
    {
     "name": "stdout",
     "output_type": "stream",
     "text": [
      "accuracy: 0.49107142857142855\n",
      "predicted class counts: Counter({1: 95, -1: 17})\n",
      "\n",
      "\n",
      "FANG accuracy: 0.49107142857142855. Average accuracy:0.4460006435006435\n",
      "Data spread:  Counter({'1': 199, '0': 172, '-1': 77})\n"
     ]
    },
    {
     "name": "stderr",
     "output_type": "stream",
     "text": [
      "/home/seb/anaconda3/lib/python3.7/site-packages/sklearn/ensemble/forest.py:245: FutureWarning: The default value of n_estimators will change from 10 in version 0.20 to 100 in 0.22.\n",
      "  \"10 in version 0.20 to 100 in 0.22.\", FutureWarning)\n"
     ]
    },
    {
     "name": "stdout",
     "output_type": "stream",
     "text": [
      "accuracy: 0.38392857142857145\n",
      "predicted class counts: Counter({0: 70, 1: 34, -1: 8})\n",
      "\n",
      "\n",
      "DLR accuracy: 0.38392857142857145. Average accuracy:0.4455895701756629\n",
      "Data spread:  Counter({'1': 196, '0': 139, '-1': 113})\n"
     ]
    },
    {
     "name": "stderr",
     "output_type": "stream",
     "text": [
      "/home/seb/anaconda3/lib/python3.7/site-packages/sklearn/ensemble/forest.py:245: FutureWarning: The default value of n_estimators will change from 10 in version 0.20 to 100 in 0.22.\n",
      "  \"10 in version 0.20 to 100 in 0.22.\", FutureWarning)\n"
     ]
    },
    {
     "name": "stdout",
     "output_type": "stream",
     "text": [
      "accuracy: 0.39285714285714285\n",
      "predicted class counts: Counter({1: 65, 0: 32, -1: 15})\n",
      "\n",
      "\n",
      "DFS accuracy: 0.39285714285714285. Average accuracy:0.4452426463117253\n",
      "Data spread:  Counter({'1': 231, '-1': 150, '0': 67})\n"
     ]
    },
    {
     "name": "stderr",
     "output_type": "stream",
     "text": [
      "/home/seb/anaconda3/lib/python3.7/site-packages/sklearn/ensemble/forest.py:245: FutureWarning: The default value of n_estimators will change from 10 in version 0.20 to 100 in 0.22.\n",
      "  \"10 in version 0.20 to 100 in 0.22.\", FutureWarning)\n"
     ]
    },
    {
     "name": "stdout",
     "output_type": "stream",
     "text": [
      "accuracy: 0.38392857142857145\n",
      "predicted class counts: Counter({1: 79, -1: 32, 0: 1})\n",
      "\n",
      "\n",
      "DISCA accuracy: 0.38392857142857145. Average accuracy:0.44484190072425367\n",
      "Data spread:  Counter({'1': 232, '-1': 148, '0': 68})\n"
     ]
    },
    {
     "name": "stderr",
     "output_type": "stream",
     "text": [
      "/home/seb/anaconda3/lib/python3.7/site-packages/sklearn/ensemble/forest.py:245: FutureWarning: The default value of n_estimators will change from 10 in version 0.20 to 100 in 0.22.\n",
      "  \"10 in version 0.20 to 100 in 0.22.\", FutureWarning)\n"
     ]
    },
    {
     "name": "stdout",
     "output_type": "stream",
     "text": [
      "accuracy: 0.5089285714285714\n",
      "predicted class counts: Counter({1: 89, -1: 23})\n",
      "\n",
      "\n",
      "DISCK accuracy: 0.5089285714285714. Average accuracy:0.4452580479366194\n",
      "Data spread:  Counter({'1': 225, '-1': 162, '0': 61})\n"
     ]
    },
    {
     "name": "stderr",
     "output_type": "stream",
     "text": [
      "/home/seb/anaconda3/lib/python3.7/site-packages/sklearn/ensemble/forest.py:245: FutureWarning: The default value of n_estimators will change from 10 in version 0.20 to 100 in 0.22.\n",
      "  \"10 in version 0.20 to 100 in 0.22.\", FutureWarning)\n"
     ]
    },
    {
     "name": "stdout",
     "output_type": "stream",
     "text": [
      "accuracy: 0.48214285714285715\n",
      "predicted class counts: Counter({1: 85, -1: 27})\n",
      "\n",
      "\n",
      "DISH accuracy: 0.48214285714285715. Average accuracy:0.4454960144476274\n",
      "Data spread:  Counter({'1': 224, '0': 134, '-1': 90})\n"
     ]
    },
    {
     "name": "stderr",
     "output_type": "stream",
     "text": [
      "/home/seb/anaconda3/lib/python3.7/site-packages/sklearn/ensemble/forest.py:245: FutureWarning: The default value of n_estimators will change from 10 in version 0.20 to 100 in 0.22.\n",
      "  \"10 in version 0.20 to 100 in 0.22.\", FutureWarning)\n"
     ]
    },
    {
     "name": "stdout",
     "output_type": "stream",
     "text": [
      "accuracy: 0.45535714285714285\n",
      "predicted class counts: Counter({1: 100, 0: 8, -1: 4})\n",
      "\n",
      "\n",
      "DG accuracy: 0.45535714285714285. Average accuracy:0.4455592268092268\n",
      "Data spread:  Counter({'1': 219, '0': 131, '-1': 98})\n"
     ]
    },
    {
     "name": "stderr",
     "output_type": "stream",
     "text": [
      "/home/seb/anaconda3/lib/python3.7/site-packages/sklearn/ensemble/forest.py:245: FutureWarning: The default value of n_estimators will change from 10 in version 0.20 to 100 in 0.22.\n",
      "  \"10 in version 0.20 to 100 in 0.22.\", FutureWarning)\n"
     ]
    },
    {
     "name": "stdout",
     "output_type": "stream",
     "text": [
      "accuracy: 0.5178571428571429\n",
      "predicted class counts: Counter({1: 89, 0: 14, -1: 9})\n",
      "\n",
      "\n",
      "DLTR accuracy: 0.5178571428571429. Average accuracy:0.44601972308978677\n",
      "Data spread:  Counter({'0': 219, '1': 178, '-1': 51})\n"
     ]
    },
    {
     "name": "stderr",
     "output_type": "stream",
     "text": [
      "/home/seb/anaconda3/lib/python3.7/site-packages/sklearn/ensemble/forest.py:245: FutureWarning: The default value of n_estimators will change from 10 in version 0.20 to 100 in 0.22.\n",
      "  \"10 in version 0.20 to 100 in 0.22.\", FutureWarning)\n"
     ]
    },
    {
     "name": "stdout",
     "output_type": "stream",
     "text": [
      "accuracy: 0.41964285714285715\n",
      "predicted class counts: Counter({0: 77, 1: 26, -1: 9})\n",
      "\n",
      "\n",
      "D accuracy: 0.41964285714285715. Average accuracy:0.44585278090024927\n",
      "160\n",
      "Data spread:  Counter({'1': 214, '0': 140, '-1': 94})\n"
     ]
    },
    {
     "name": "stderr",
     "output_type": "stream",
     "text": [
      "/home/seb/anaconda3/lib/python3.7/site-packages/sklearn/ensemble/forest.py:245: FutureWarning: The default value of n_estimators will change from 10 in version 0.20 to 100 in 0.22.\n",
      "  \"10 in version 0.20 to 100 in 0.22.\", FutureWarning)\n"
     ]
    },
    {
     "name": "stdout",
     "output_type": "stream",
     "text": [
      "accuracy: 0.41964285714285715\n",
      "predicted class counts: Counter({1: 93, -1: 13, 0: 6})\n",
      "\n",
      "\n",
      "DOV accuracy: 0.41964285714285715. Average accuracy:0.4456879386124669\n",
      "Data spread:  Counter({'0': 306, '1': 83, '-1': 59})\n"
     ]
    },
    {
     "name": "stderr",
     "output_type": "stream",
     "text": [
      "/home/seb/anaconda3/lib/python3.7/site-packages/sklearn/ensemble/forest.py:245: FutureWarning: The default value of n_estimators will change from 10 in version 0.20 to 100 in 0.22.\n",
      "  \"10 in version 0.20 to 100 in 0.22.\", FutureWarning)\n"
     ]
    },
    {
     "name": "stdout",
     "output_type": "stream",
     "text": [
      "accuracy: 0.6756756756756757\n",
      "predicted class counts: Counter({0: 109, -1: 2})\n",
      "\n",
      "\n",
      "DOW accuracy: 0.6756756756756757. Average accuracy:0.44712536196911196\n",
      "Data spread:  Counter({'0': 240, '1': 162, '-1': 46})\n"
     ]
    },
    {
     "name": "stderr",
     "output_type": "stream",
     "text": [
      "/home/seb/anaconda3/lib/python3.7/site-packages/sklearn/ensemble/forest.py:245: FutureWarning: The default value of n_estimators will change from 10 in version 0.20 to 100 in 0.22.\n",
      "  \"10 in version 0.20 to 100 in 0.22.\", FutureWarning)\n"
     ]
    },
    {
     "name": "stdout",
     "output_type": "stream",
     "text": [
      "accuracy: 0.5625\n",
      "predicted class counts: Counter({0: 99, 1: 10, -1: 3})\n",
      "\n",
      "\n",
      "DTE accuracy: 0.5625. Average accuracy:0.44784197462768893\n",
      "Data spread:  Counter({'0': 238, '1': 164, '-1': 46})\n"
     ]
    },
    {
     "name": "stderr",
     "output_type": "stream",
     "text": [
      "/home/seb/anaconda3/lib/python3.7/site-packages/sklearn/ensemble/forest.py:245: FutureWarning: The default value of n_estimators will change from 10 in version 0.20 to 100 in 0.22.\n",
      "  \"10 in version 0.20 to 100 in 0.22.\", FutureWarning)\n"
     ]
    },
    {
     "name": "stdout",
     "output_type": "stream",
     "text": [
      "accuracy: 0.5535714285714286\n",
      "predicted class counts: Counter({0: 91, 1: 19, -1: 2})\n",
      "\n",
      "\n",
      "DUK accuracy: 0.5535714285714286. Average accuracy:0.44849462557795894\n",
      "Data spread:  Counter({'0': 224, '1': 173, '-1': 51})\n"
     ]
    },
    {
     "name": "stderr",
     "output_type": "stream",
     "text": [
      "/home/seb/anaconda3/lib/python3.7/site-packages/sklearn/ensemble/forest.py:245: FutureWarning: The default value of n_estimators will change from 10 in version 0.20 to 100 in 0.22.\n",
      "  \"10 in version 0.20 to 100 in 0.22.\", FutureWarning)\n"
     ]
    },
    {
     "name": "stdout",
     "output_type": "stream",
     "text": [
      "accuracy: 0.5357142857142857\n",
      "predicted class counts: Counter({0: 86, 1: 23, -1: 3})\n",
      "\n",
      "\n",
      "DRE accuracy: 0.5357142857142857. Average accuracy:0.4490297155174456\n",
      "Data spread:  Counter({'1': 203, '-1': 148, '0': 97})\n"
     ]
    },
    {
     "name": "stderr",
     "output_type": "stream",
     "text": [
      "/home/seb/anaconda3/lib/python3.7/site-packages/sklearn/ensemble/forest.py:245: FutureWarning: The default value of n_estimators will change from 10 in version 0.20 to 100 in 0.22.\n",
      "  \"10 in version 0.20 to 100 in 0.22.\", FutureWarning)\n"
     ]
    },
    {
     "name": "stdout",
     "output_type": "stream",
     "text": [
      "accuracy: 0.4375\n",
      "predicted class counts: Counter({1: 88, -1: 22, 0: 2})\n",
      "\n",
      "\n",
      "DD accuracy: 0.4375. Average accuracy:0.4489594123740465\n",
      "Data spread:  Counter({'1': 195, '-1': 142, '0': 111})\n"
     ]
    },
    {
     "name": "stderr",
     "output_type": "stream",
     "text": [
      "/home/seb/anaconda3/lib/python3.7/site-packages/sklearn/ensemble/forest.py:245: FutureWarning: The default value of n_estimators will change from 10 in version 0.20 to 100 in 0.22.\n",
      "  \"10 in version 0.20 to 100 in 0.22.\", FutureWarning)\n"
     ]
    },
    {
     "name": "stdout",
     "output_type": "stream",
     "text": [
      "accuracy: 0.36607142857142855\n",
      "predicted class counts: Counter({1: 77, -1: 33, 0: 2})\n",
      "\n",
      "\n",
      "DXC accuracy: 0.36607142857142855. Average accuracy:0.44845706095706095\n",
      "Data spread:  Counter({'1': 224, '-1': 141, '0': 83})\n"
     ]
    },
    {
     "name": "stderr",
     "output_type": "stream",
     "text": [
      "/home/seb/anaconda3/lib/python3.7/site-packages/sklearn/ensemble/forest.py:245: FutureWarning: The default value of n_estimators will change from 10 in version 0.20 to 100 in 0.22.\n",
      "  \"10 in version 0.20 to 100 in 0.22.\", FutureWarning)\n"
     ]
    },
    {
     "name": "stdout",
     "output_type": "stream",
     "text": [
      "accuracy: 0.38392857142857145\n",
      "predicted class counts: Counter({1: 76, -1: 35, 0: 1})\n",
      "\n",
      "\n",
      "ETFC accuracy: 0.38392857142857145. Average accuracy:0.4480683351165279\n",
      "Data spread:  Counter({'1': 204, '-1': 149, '0': 95})\n"
     ]
    },
    {
     "name": "stderr",
     "output_type": "stream",
     "text": [
      "/home/seb/anaconda3/lib/python3.7/site-packages/sklearn/ensemble/forest.py:245: FutureWarning: The default value of n_estimators will change from 10 in version 0.20 to 100 in 0.22.\n",
      "  \"10 in version 0.20 to 100 in 0.22.\", FutureWarning)\n"
     ]
    },
    {
     "name": "stdout",
     "output_type": "stream",
     "text": [
      "accuracy: 0.48214285714285715\n",
      "predicted class counts: Counter({1: 88, -1: 21, 0: 3})\n",
      "\n",
      "\n",
      "EMN accuracy: 0.48214285714285715. Average accuracy:0.44827237417057775\n",
      "Data spread:  Counter({'1': 208, '0': 135, '-1': 105})\n"
     ]
    },
    {
     "name": "stderr",
     "output_type": "stream",
     "text": [
      "/home/seb/anaconda3/lib/python3.7/site-packages/sklearn/ensemble/forest.py:245: FutureWarning: The default value of n_estimators will change from 10 in version 0.20 to 100 in 0.22.\n",
      "  \"10 in version 0.20 to 100 in 0.22.\", FutureWarning)\n"
     ]
    },
    {
     "name": "stdout",
     "output_type": "stream",
     "text": [
      "accuracy: 0.375\n",
      "predicted class counts: Counter({1: 74, 0: 22, -1: 16})\n",
      "\n",
      "\n",
      "ETN accuracy: 0.375. Average accuracy:0.4478362290862291\n",
      "170\n",
      "Data spread:  Counter({'1': 188, '0': 142, '-1': 118})\n"
     ]
    },
    {
     "name": "stderr",
     "output_type": "stream",
     "text": [
      "/home/seb/anaconda3/lib/python3.7/site-packages/sklearn/ensemble/forest.py:245: FutureWarning: The default value of n_estimators will change from 10 in version 0.20 to 100 in 0.22.\n",
      "  \"10 in version 0.20 to 100 in 0.22.\", FutureWarning)\n"
     ]
    },
    {
     "name": "stdout",
     "output_type": "stream",
     "text": [
      "accuracy: 0.375\n",
      "predicted class counts: Counter({1: 56, -1: 37, 0: 19})\n",
      "\n",
      "\n",
      "EBAY accuracy: 0.375. Average accuracy:0.44740524548216853\n",
      "Data spread:  Counter({'0': 213, '1': 176, '-1': 59})\n"
     ]
    },
    {
     "name": "stderr",
     "output_type": "stream",
     "text": [
      "/home/seb/anaconda3/lib/python3.7/site-packages/sklearn/ensemble/forest.py:245: FutureWarning: The default value of n_estimators will change from 10 in version 0.20 to 100 in 0.22.\n",
      "  \"10 in version 0.20 to 100 in 0.22.\", FutureWarning)\n"
     ]
    },
    {
     "name": "stdout",
     "output_type": "stream",
     "text": [
      "accuracy: 0.4642857142857143\n",
      "predicted class counts: Counter({0: 77, 1: 29, -1: 6})\n",
      "\n",
      "\n",
      "ECL accuracy: 0.4642857142857143. Average accuracy:0.44750454235748355\n",
      "Data spread:  Counter({'1': 209, '0': 170, '-1': 69})\n"
     ]
    },
    {
     "name": "stderr",
     "output_type": "stream",
     "text": [
      "/home/seb/anaconda3/lib/python3.7/site-packages/sklearn/ensemble/forest.py:245: FutureWarning: The default value of n_estimators will change from 10 in version 0.20 to 100 in 0.22.\n",
      "  \"10 in version 0.20 to 100 in 0.22.\", FutureWarning)\n"
     ]
    },
    {
     "name": "stdout",
     "output_type": "stream",
     "text": [
      "accuracy: 0.4642857142857143\n",
      "predicted class counts: Counter({1: 62, 0: 48, -1: 2})\n",
      "\n",
      "\n",
      "EIX accuracy: 0.4642857142857143. Average accuracy:0.44760267786583574\n",
      "Data spread:  Counter({'1': 246, '0': 113, '-1': 89})\n"
     ]
    },
    {
     "name": "stderr",
     "output_type": "stream",
     "text": [
      "/home/seb/anaconda3/lib/python3.7/site-packages/sklearn/ensemble/forest.py:245: FutureWarning: The default value of n_estimators will change from 10 in version 0.20 to 100 in 0.22.\n",
      "  \"10 in version 0.20 to 100 in 0.22.\", FutureWarning)\n"
     ]
    },
    {
     "name": "stdout",
     "output_type": "stream",
     "text": [
      "accuracy: 0.48214285714285715\n",
      "predicted class counts: Counter({1: 106, -1: 4, 0: 2})\n",
      "\n",
      "\n",
      "EW accuracy: 0.48214285714285715. Average accuracy:0.4478034928616324\n",
      "Data spread:  Counter({'1': 217, '-1': 135, '0': 96})\n"
     ]
    },
    {
     "name": "stderr",
     "output_type": "stream",
     "text": [
      "/home/seb/anaconda3/lib/python3.7/site-packages/sklearn/ensemble/forest.py:245: FutureWarning: The default value of n_estimators will change from 10 in version 0.20 to 100 in 0.22.\n",
      "  \"10 in version 0.20 to 100 in 0.22.\", FutureWarning)\n"
     ]
    },
    {
     "name": "stdout",
     "output_type": "stream",
     "text": [
      "accuracy: 0.41964285714285715\n",
      "predicted class counts: Counter({1: 87, -1: 22, 0: 3})\n",
      "\n",
      "\n",
      "EA accuracy: 0.41964285714285715. Average accuracy:0.4476407146204834\n",
      "Data spread:  Counter({'1': 218, '0': 123, '-1': 107})\n"
     ]
    },
    {
     "name": "stderr",
     "output_type": "stream",
     "text": [
      "/home/seb/anaconda3/lib/python3.7/site-packages/sklearn/ensemble/forest.py:245: FutureWarning: The default value of n_estimators will change from 10 in version 0.20 to 100 in 0.22.\n",
      "  \"10 in version 0.20 to 100 in 0.22.\", FutureWarning)\n"
     ]
    },
    {
     "name": "stdout",
     "output_type": "stream",
     "text": [
      "accuracy: 0.45535714285714285\n",
      "predicted class counts: Counter({1: 87, 0: 19, -1: 6})\n",
      "\n",
      "\n",
      "EMR accuracy: 0.45535714285714285. Average accuracy:0.4476850619091998\n",
      "Data spread:  Counter({'0': 211, '1': 202, '-1': 35})\n"
     ]
    },
    {
     "name": "stderr",
     "output_type": "stream",
     "text": [
      "/home/seb/anaconda3/lib/python3.7/site-packages/sklearn/ensemble/forest.py:245: FutureWarning: The default value of n_estimators will change from 10 in version 0.20 to 100 in 0.22.\n",
      "  \"10 in version 0.20 to 100 in 0.22.\", FutureWarning)\n"
     ]
    },
    {
     "name": "stdout",
     "output_type": "stream",
     "text": [
      "accuracy: 0.49107142857142855\n",
      "predicted class counts: Counter({0: 57, 1: 48, -1: 7})\n",
      "\n",
      "\n",
      "ETR accuracy: 0.49107142857142855. Average accuracy:0.44793298400441256\n",
      "Data spread:  Counter({'1': 229, '-1': 156, '0': 63})\n"
     ]
    },
    {
     "name": "stderr",
     "output_type": "stream",
     "text": [
      "/home/seb/anaconda3/lib/python3.7/site-packages/sklearn/ensemble/forest.py:245: FutureWarning: The default value of n_estimators will change from 10 in version 0.20 to 100 in 0.22.\n",
      "  \"10 in version 0.20 to 100 in 0.22.\", FutureWarning)\n"
     ]
    },
    {
     "name": "stdout",
     "output_type": "stream",
     "text": [
      "accuracy: 0.5178571428571429\n",
      "predicted class counts: Counter({1: 99, -1: 13})\n",
      "\n",
      "\n",
      "EOG accuracy: 0.5178571428571429. Average accuracy:0.4483302803615304\n",
      "Data spread:  Counter({'1': 202, '0': 162, '-1': 84})\n"
     ]
    },
    {
     "name": "stderr",
     "output_type": "stream",
     "text": [
      "/home/seb/anaconda3/lib/python3.7/site-packages/sklearn/ensemble/forest.py:245: FutureWarning: The default value of n_estimators will change from 10 in version 0.20 to 100 in 0.22.\n",
      "  \"10 in version 0.20 to 100 in 0.22.\", FutureWarning)\n"
     ]
    },
    {
     "name": "stdout",
     "output_type": "stream",
     "text": [
      "accuracy: 0.42857142857142855\n",
      "predicted class counts: Counter({1: 76, 0: 33, -1: 3})\n",
      "\n",
      "\n",
      "EFX accuracy: 0.42857142857142855. Average accuracy:0.44821864843051284\n",
      "Data spread:  Counter({'1': 206, '0': 158, '-1': 84})\n"
     ]
    },
    {
     "name": "stderr",
     "output_type": "stream",
     "text": [
      "/home/seb/anaconda3/lib/python3.7/site-packages/sklearn/ensemble/forest.py:245: FutureWarning: The default value of n_estimators will change from 10 in version 0.20 to 100 in 0.22.\n",
      "  \"10 in version 0.20 to 100 in 0.22.\", FutureWarning)\n"
     ]
    },
    {
     "name": "stdout",
     "output_type": "stream",
     "text": [
      "accuracy: 0.41964285714285715\n",
      "predicted class counts: Counter({1: 59, 0: 47, -1: 6})\n",
      "\n",
      "\n",
      "EQIX accuracy: 0.41964285714285715. Average accuracy:0.44805811027721143\n",
      "180\n",
      "Data spread:  Counter({'0': 225, '1': 174, '-1': 49})\n"
     ]
    },
    {
     "name": "stderr",
     "output_type": "stream",
     "text": [
      "/home/seb/anaconda3/lib/python3.7/site-packages/sklearn/ensemble/forest.py:245: FutureWarning: The default value of n_estimators will change from 10 in version 0.20 to 100 in 0.22.\n",
      "  \"10 in version 0.20 to 100 in 0.22.\", FutureWarning)\n"
     ]
    },
    {
     "name": "stdout",
     "output_type": "stream",
     "text": [
      "accuracy: 0.5178571428571429\n",
      "predicted class counts: Counter({0: 91, 1: 19, -1: 2})\n",
      "\n",
      "\n",
      "EQR accuracy: 0.5178571428571429. Average accuracy:0.4484480490067082\n",
      "Data spread:  Counter({'0': 203, '1': 178, '-1': 67})\n"
     ]
    },
    {
     "name": "stderr",
     "output_type": "stream",
     "text": [
      "/home/seb/anaconda3/lib/python3.7/site-packages/sklearn/ensemble/forest.py:245: FutureWarning: The default value of n_estimators will change from 10 in version 0.20 to 100 in 0.22.\n",
      "  \"10 in version 0.20 to 100 in 0.22.\", FutureWarning)\n"
     ]
    },
    {
     "name": "stdout",
     "output_type": "stream",
     "text": [
      "accuracy: 0.44642857142857145\n",
      "predicted class counts: Counter({0: 73, 1: 29, -1: 10})\n",
      "\n",
      "\n",
      "ESS accuracy: 0.44642857142857145. Average accuracy:0.4484368296868297\n",
      "Data spread:  Counter({'1': 224, '0': 151, '-1': 73})\n"
     ]
    },
    {
     "name": "stderr",
     "output_type": "stream",
     "text": [
      "/home/seb/anaconda3/lib/python3.7/site-packages/sklearn/ensemble/forest.py:245: FutureWarning: The default value of n_estimators will change from 10 in version 0.20 to 100 in 0.22.\n",
      "  \"10 in version 0.20 to 100 in 0.22.\", FutureWarning)\n"
     ]
    },
    {
     "name": "stdout",
     "output_type": "stream",
     "text": [
      "accuracy: 0.36607142857142855\n",
      "predicted class counts: Counter({1: 75, 0: 32, -1: 5})\n",
      "\n",
      "\n",
      "EL accuracy: 0.36607142857142855. Average accuracy:0.4479817722221037\n",
      "Data spread:  Counter({'0': 243, '1': 164, '-1': 41})\n"
     ]
    },
    {
     "name": "stderr",
     "output_type": "stream",
     "text": [
      "/home/seb/anaconda3/lib/python3.7/site-packages/sklearn/ensemble/forest.py:245: FutureWarning: The default value of n_estimators will change from 10 in version 0.20 to 100 in 0.22.\n",
      "  \"10 in version 0.20 to 100 in 0.22.\", FutureWarning)\n"
     ]
    },
    {
     "name": "stdout",
     "output_type": "stream",
     "text": [
      "accuracy: 0.4732142857142857\n",
      "predicted class counts: Counter({0: 93, 1: 12, -1: 7})\n",
      "\n",
      "\n",
      "EVRG accuracy: 0.4732142857142857. Average accuracy:0.4481204124061267\n",
      "Data spread:  Counter({'0': 228, '1': 185, '-1': 35})\n"
     ]
    },
    {
     "name": "stderr",
     "output_type": "stream",
     "text": [
      "/home/seb/anaconda3/lib/python3.7/site-packages/sklearn/ensemble/forest.py:245: FutureWarning: The default value of n_estimators will change from 10 in version 0.20 to 100 in 0.22.\n",
      "  \"10 in version 0.20 to 100 in 0.22.\", FutureWarning)\n"
     ]
    },
    {
     "name": "stdout",
     "output_type": "stream",
     "text": [
      "accuracy: 0.5357142857142857\n",
      "predicted class counts: Counter({0: 85, 1: 26, -1: 1})\n",
      "\n",
      "\n",
      "ES accuracy: 0.5357142857142857. Average accuracy:0.44859906745152645\n",
      "Data spread:  Counter({'0': 204, '1': 160, '-1': 84})\n"
     ]
    },
    {
     "name": "stderr",
     "output_type": "stream",
     "text": [
      "/home/seb/anaconda3/lib/python3.7/site-packages/sklearn/ensemble/forest.py:245: FutureWarning: The default value of n_estimators will change from 10 in version 0.20 to 100 in 0.22.\n",
      "  \"10 in version 0.20 to 100 in 0.22.\", FutureWarning)\n"
     ]
    },
    {
     "name": "stdout",
     "output_type": "stream",
     "text": [
      "accuracy: 0.39285714285714285\n",
      "predicted class counts: Counter({0: 91, -1: 11, 1: 10})\n",
      "\n",
      "\n",
      "RE accuracy: 0.39285714285714285. Average accuracy:0.4482961222091657\n",
      "Data spread:  Counter({'0': 241, '1': 168, '-1': 39})\n"
     ]
    },
    {
     "name": "stderr",
     "output_type": "stream",
     "text": [
      "/home/seb/anaconda3/lib/python3.7/site-packages/sklearn/ensemble/forest.py:245: FutureWarning: The default value of n_estimators will change from 10 in version 0.20 to 100 in 0.22.\n",
      "  \"10 in version 0.20 to 100 in 0.22.\", FutureWarning)\n"
     ]
    },
    {
     "name": "stdout",
     "output_type": "stream",
     "text": [
      "accuracy: 0.49107142857142855\n",
      "predicted class counts: Counter({0: 95, 1: 13, -1: 4})\n",
      "\n",
      "\n",
      "EXC accuracy: 0.49107142857142855. Average accuracy:0.4485273400813941\n",
      "Data spread:  Counter({'1': 225, '0': 127, '-1': 96})\n"
     ]
    },
    {
     "name": "stderr",
     "output_type": "stream",
     "text": [
      "/home/seb/anaconda3/lib/python3.7/site-packages/sklearn/ensemble/forest.py:245: FutureWarning: The default value of n_estimators will change from 10 in version 0.20 to 100 in 0.22.\n",
      "  \"10 in version 0.20 to 100 in 0.22.\", FutureWarning)\n"
     ]
    },
    {
     "name": "stdout",
     "output_type": "stream",
     "text": [
      "accuracy: 0.375\n",
      "predicted class counts: Counter({1: 74, 0: 24, -1: 14})\n",
      "\n",
      "\n",
      "EXPE accuracy: 0.375. Average accuracy:0.44813203180138667\n",
      "Data spread:  Counter({'1': 204, '0': 139, '-1': 105})\n"
     ]
    },
    {
     "name": "stderr",
     "output_type": "stream",
     "text": [
      "/home/seb/anaconda3/lib/python3.7/site-packages/sklearn/ensemble/forest.py:245: FutureWarning: The default value of n_estimators will change from 10 in version 0.20 to 100 in 0.22.\n",
      "  \"10 in version 0.20 to 100 in 0.22.\", FutureWarning)\n"
     ]
    },
    {
     "name": "stdout",
     "output_type": "stream",
     "text": [
      "accuracy: 0.3125\n",
      "predicted class counts: Counter({1: 88, -1: 19, 0: 5})\n",
      "\n",
      "\n",
      "EXPD accuracy: 0.3125. Average accuracy:0.44740672681849153\n",
      "Data spread:  Counter({'1': 204, '0': 185, '-1': 59})\n"
     ]
    },
    {
     "name": "stderr",
     "output_type": "stream",
     "text": [
      "/home/seb/anaconda3/lib/python3.7/site-packages/sklearn/ensemble/forest.py:245: FutureWarning: The default value of n_estimators will change from 10 in version 0.20 to 100 in 0.22.\n",
      "  \"10 in version 0.20 to 100 in 0.22.\", FutureWarning)\n"
     ]
    },
    {
     "name": "stdout",
     "output_type": "stream",
     "text": [
      "accuracy: 0.4107142857142857\n",
      "predicted class counts: Counter({0: 65, 1: 38, -1: 9})\n",
      "\n",
      "\n",
      "EXR accuracy: 0.4107142857142857. Average accuracy:0.4472115542594266\n",
      "190\n",
      "Data spread:  Counter({'0': 178, '1': 175, '-1': 95})\n"
     ]
    },
    {
     "name": "stderr",
     "output_type": "stream",
     "text": [
      "/home/seb/anaconda3/lib/python3.7/site-packages/sklearn/ensemble/forest.py:245: FutureWarning: The default value of n_estimators will change from 10 in version 0.20 to 100 in 0.22.\n",
      "  \"10 in version 0.20 to 100 in 0.22.\", FutureWarning)\n"
     ]
    },
    {
     "name": "stdout",
     "output_type": "stream",
     "text": [
      "accuracy: 0.36607142857142855\n",
      "predicted class counts: Counter({0: 64, 1: 39, -1: 9})\n",
      "\n",
      "\n",
      "XOM accuracy: 0.36607142857142855. Average accuracy:0.4467822414250986\n",
      "Data spread:  Counter({'1': 214, '-1': 135, '0': 99})\n"
     ]
    },
    {
     "name": "stderr",
     "output_type": "stream",
     "text": [
      "/home/seb/anaconda3/lib/python3.7/site-packages/sklearn/ensemble/forest.py:245: FutureWarning: The default value of n_estimators will change from 10 in version 0.20 to 100 in 0.22.\n",
      "  \"10 in version 0.20 to 100 in 0.22.\", FutureWarning)\n"
     ]
    },
    {
     "name": "stdout",
     "output_type": "stream",
     "text": [
      "accuracy: 0.42857142857142855\n",
      "predicted class counts: Counter({1: 76, -1: 25, 0: 11})\n",
      "\n",
      "\n",
      "FFIV accuracy: 0.42857142857142855. Average accuracy:0.4466863950416582\n",
      "Data spread:  Counter({'1': 245, '-1': 129, '0': 74})\n"
     ]
    },
    {
     "name": "stderr",
     "output_type": "stream",
     "text": [
      "/home/seb/anaconda3/lib/python3.7/site-packages/sklearn/ensemble/forest.py:245: FutureWarning: The default value of n_estimators will change from 10 in version 0.20 to 100 in 0.22.\n",
      "  \"10 in version 0.20 to 100 in 0.22.\", FutureWarning)\n"
     ]
    },
    {
     "name": "stdout",
     "output_type": "stream",
     "text": [
      "accuracy: 0.5089285714285714\n",
      "predicted class counts: Counter({1: 109, -1: 3})\n",
      "\n",
      "\n",
      "FB accuracy: 0.5089285714285714. Average accuracy:0.4470122703106996\n",
      "Data spread:  Counter({'1': 220, '-1': 124, '0': 104})\n"
     ]
    },
    {
     "name": "stderr",
     "output_type": "stream",
     "text": [
      "/home/seb/anaconda3/lib/python3.7/site-packages/sklearn/ensemble/forest.py:245: FutureWarning: The default value of n_estimators will change from 10 in version 0.20 to 100 in 0.22.\n",
      "  \"10 in version 0.20 to 100 in 0.22.\", FutureWarning)\n"
     ]
    },
    {
     "name": "stdout",
     "output_type": "stream",
     "text": [
      "accuracy: 0.4017857142857143\n",
      "predicted class counts: Counter({1: 68, -1: 35, 0: 9})\n",
      "\n",
      "\n",
      "FAST accuracy: 0.4017857142857143. Average accuracy:0.44677671533140284\n",
      "Data spread:  Counter({'0': 224, '1': 155, '-1': 69})\n"
     ]
    },
    {
     "name": "stderr",
     "output_type": "stream",
     "text": [
      "/home/seb/anaconda3/lib/python3.7/site-packages/sklearn/ensemble/forest.py:245: FutureWarning: The default value of n_estimators will change from 10 in version 0.20 to 100 in 0.22.\n",
      "  \"10 in version 0.20 to 100 in 0.22.\", FutureWarning)\n"
     ]
    },
    {
     "name": "stdout",
     "output_type": "stream",
     "text": [
      "accuracy: 0.4732142857142857\n",
      "predicted class counts: Counter({0: 100, 1: 7, -1: 5})\n",
      "\n",
      "\n",
      "FRT accuracy: 0.4732142857142857. Average accuracy:0.44691369756136595\n",
      "Data spread:  Counter({'1': 212, '-1': 147, '0': 89})\n"
     ]
    },
    {
     "name": "stderr",
     "output_type": "stream",
     "text": [
      "/home/seb/anaconda3/lib/python3.7/site-packages/sklearn/ensemble/forest.py:245: FutureWarning: The default value of n_estimators will change from 10 in version 0.20 to 100 in 0.22.\n",
      "  \"10 in version 0.20 to 100 in 0.22.\", FutureWarning)\n"
     ]
    },
    {
     "name": "stdout",
     "output_type": "stream",
     "text": [
      "accuracy: 0.4375\n",
      "predicted class counts: Counter({1: 102, -1: 10})\n",
      "\n",
      "\n",
      "FDX accuracy: 0.4375. Average accuracy:0.4468651733471321\n",
      "Data spread:  Counter({'1': 193, '0': 189, '-1': 66})\n"
     ]
    },
    {
     "name": "stderr",
     "output_type": "stream",
     "text": [
      "/home/seb/anaconda3/lib/python3.7/site-packages/sklearn/ensemble/forest.py:245: FutureWarning: The default value of n_estimators will change from 10 in version 0.20 to 100 in 0.22.\n",
      "  \"10 in version 0.20 to 100 in 0.22.\", FutureWarning)\n"
     ]
    },
    {
     "name": "stdout",
     "output_type": "stream",
     "text": [
      "accuracy: 0.49107142857142855\n",
      "predicted class counts: Counter({0: 67, 1: 38, -1: 7})\n",
      "\n",
      "\n",
      "FIS accuracy: 0.49107142857142855. Average accuracy:0.44709187209187207\n",
      "Data spread:  Counter({'1': 204, '0': 133, '-1': 111})\n"
     ]
    },
    {
     "name": "stderr",
     "output_type": "stream",
     "text": [
      "/home/seb/anaconda3/lib/python3.7/site-packages/sklearn/ensemble/forest.py:245: FutureWarning: The default value of n_estimators will change from 10 in version 0.20 to 100 in 0.22.\n",
      "  \"10 in version 0.20 to 100 in 0.22.\", FutureWarning)\n"
     ]
    },
    {
     "name": "stdout",
     "output_type": "stream",
     "text": [
      "accuracy: 0.33035714285714285\n",
      "predicted class counts: Counter({1: 74, -1: 20, 0: 18})\n",
      "\n",
      "\n",
      "FITB accuracy: 0.33035714285714285. Average accuracy:0.4464962867386337\n",
      "Data spread:  Counter({'1': 211, '0': 189, '-1': 48})\n"
     ]
    },
    {
     "name": "stderr",
     "output_type": "stream",
     "text": [
      "/home/seb/anaconda3/lib/python3.7/site-packages/sklearn/ensemble/forest.py:245: FutureWarning: The default value of n_estimators will change from 10 in version 0.20 to 100 in 0.22.\n",
      "  \"10 in version 0.20 to 100 in 0.22.\", FutureWarning)\n"
     ]
    },
    {
     "name": "stdout",
     "output_type": "stream",
     "text": [
      "accuracy: 0.4642857142857143\n",
      "predicted class counts: Counter({0: 61, 1: 50, -1: 1})\n",
      "\n",
      "\n",
      "FE accuracy: 0.4642857142857143. Average accuracy:0.4465865884013092\n",
      "Data spread:  Counter({'1': 194, '0': 154, '-1': 100})\n"
     ]
    },
    {
     "name": "stderr",
     "output_type": "stream",
     "text": [
      "/home/seb/anaconda3/lib/python3.7/site-packages/sklearn/ensemble/forest.py:245: FutureWarning: The default value of n_estimators will change from 10 in version 0.20 to 100 in 0.22.\n",
      "  \"10 in version 0.20 to 100 in 0.22.\", FutureWarning)\n"
     ]
    },
    {
     "name": "stdout",
     "output_type": "stream",
     "text": [
      "accuracy: 0.36607142857142855\n",
      "predicted class counts: Counter({1: 56, 0: 35, -1: 21})\n",
      "\n",
      "\n",
      "FRC accuracy: 0.36607142857142855. Average accuracy:0.44617994617994616\n",
      "200\n",
      "Data spread:  Counter({'1': 196, '0': 173, '-1': 79})\n"
     ]
    },
    {
     "name": "stderr",
     "output_type": "stream",
     "text": [
      "/home/seb/anaconda3/lib/python3.7/site-packages/sklearn/ensemble/forest.py:245: FutureWarning: The default value of n_estimators will change from 10 in version 0.20 to 100 in 0.22.\n",
      "  \"10 in version 0.20 to 100 in 0.22.\", FutureWarning)\n"
     ]
    },
    {
     "name": "stdout",
     "output_type": "stream",
     "text": [
      "accuracy: 0.33035714285714285\n",
      "predicted class counts: Counter({1: 57, 0: 44, -1: 11})\n",
      "\n",
      "\n",
      "FISV accuracy: 0.33035714285714285. Average accuracy:0.44559792204264564\n",
      "Data spread:  Counter({'1': 227, '0': 128, '-1': 93})\n"
     ]
    },
    {
     "name": "stderr",
     "output_type": "stream",
     "text": [
      "/home/seb/anaconda3/lib/python3.7/site-packages/sklearn/ensemble/forest.py:245: FutureWarning: The default value of n_estimators will change from 10 in version 0.20 to 100 in 0.22.\n",
      "  \"10 in version 0.20 to 100 in 0.22.\", FutureWarning)\n"
     ]
    },
    {
     "name": "stdout",
     "output_type": "stream",
     "text": [
      "accuracy: 0.42857142857142855\n",
      "predicted class counts: Counter({1: 90, 0: 15, -1: 7})\n",
      "\n",
      "\n",
      "FLT accuracy: 0.42857142857142855. Average accuracy:0.44551278957528956\n",
      "Data spread:  Counter({'1': 223, '0': 127, '-1': 98})\n"
     ]
    },
    {
     "name": "stderr",
     "output_type": "stream",
     "text": [
      "/home/seb/anaconda3/lib/python3.7/site-packages/sklearn/ensemble/forest.py:245: FutureWarning: The default value of n_estimators will change from 10 in version 0.20 to 100 in 0.22.\n",
      "  \"10 in version 0.20 to 100 in 0.22.\", FutureWarning)\n"
     ]
    },
    {
     "name": "stdout",
     "output_type": "stream",
     "text": [
      "accuracy: 0.39285714285714285\n",
      "predicted class counts: Counter({1: 94, 0: 11, -1: 7})\n",
      "\n",
      "\n",
      "FLIR accuracy: 0.39285714285714285. Average accuracy:0.445250821183657\n",
      "Data spread:  Counter({'1': 256, '-1': 134, '0': 58})\n"
     ]
    },
    {
     "name": "stderr",
     "output_type": "stream",
     "text": [
      "/home/seb/anaconda3/lib/python3.7/site-packages/sklearn/ensemble/forest.py:245: FutureWarning: The default value of n_estimators will change from 10 in version 0.20 to 100 in 0.22.\n",
      "  \"10 in version 0.20 to 100 in 0.22.\", FutureWarning)\n"
     ]
    },
    {
     "name": "stdout",
     "output_type": "stream",
     "text": [
      "accuracy: 0.5892857142857143\n",
      "predicted class counts: Counter({1: 91, -1: 19, 0: 2})\n",
      "\n",
      "\n",
      "FLS accuracy: 0.5892857142857143. Average accuracy:0.44596386520891473\n",
      "Data spread:  Counter({'1': 212, '-1': 137, '0': 99})\n"
     ]
    },
    {
     "name": "stderr",
     "output_type": "stream",
     "text": [
      "/home/seb/anaconda3/lib/python3.7/site-packages/sklearn/ensemble/forest.py:245: FutureWarning: The default value of n_estimators will change from 10 in version 0.20 to 100 in 0.22.\n",
      "  \"10 in version 0.20 to 100 in 0.22.\", FutureWarning)\n"
     ]
    },
    {
     "name": "stdout",
     "output_type": "stream",
     "text": [
      "accuracy: 0.4732142857142857\n",
      "predicted class counts: Counter({1: 81, -1: 24, 0: 7})\n",
      "\n",
      "\n",
      "FMC accuracy: 0.4732142857142857. Average accuracy:0.4460981037335717\n",
      "Data spread:  Counter({'1': 180, '-1': 135, '0': 133})\n"
     ]
    },
    {
     "name": "stderr",
     "output_type": "stream",
     "text": [
      "/home/seb/anaconda3/lib/python3.7/site-packages/sklearn/ensemble/forest.py:245: FutureWarning: The default value of n_estimators will change from 10 in version 0.20 to 100 in 0.22.\n",
      "  \"10 in version 0.20 to 100 in 0.22.\", FutureWarning)\n"
     ]
    },
    {
     "name": "stdout",
     "output_type": "stream",
     "text": [
      "accuracy: 0.36607142857142855\n",
      "predicted class counts: Counter({1: 74, -1: 25, 0: 13})\n",
      "\n",
      "\n",
      "F accuracy: 0.36607142857142855. Average accuracy:0.44570581611022786\n",
      "Data spread:  Counter({'1': 257, '-1': 125, '0': 66})\n"
     ]
    },
    {
     "name": "stderr",
     "output_type": "stream",
     "text": [
      "/home/seb/anaconda3/lib/python3.7/site-packages/sklearn/ensemble/forest.py:245: FutureWarning: The default value of n_estimators will change from 10 in version 0.20 to 100 in 0.22.\n",
      "  \"10 in version 0.20 to 100 in 0.22.\", FutureWarning)\n"
     ]
    },
    {
     "name": "stdout",
     "output_type": "stream",
     "text": [
      "accuracy: 0.5446428571428571\n",
      "predicted class counts: Counter({1: 102, -1: 9, 0: 1})\n",
      "\n",
      "\n",
      "FTNT accuracy: 0.5446428571428571. Average accuracy:0.44618843582258216\n",
      "Data spread:  Counter({'1': 194, '0': 136, '-1': 118})\n"
     ]
    },
    {
     "name": "stderr",
     "output_type": "stream",
     "text": [
      "/home/seb/anaconda3/lib/python3.7/site-packages/sklearn/ensemble/forest.py:245: FutureWarning: The default value of n_estimators will change from 10 in version 0.20 to 100 in 0.22.\n",
      "  \"10 in version 0.20 to 100 in 0.22.\", FutureWarning)\n"
     ]
    },
    {
     "name": "stdout",
     "output_type": "stream",
     "text": [
      "accuracy: 0.39285714285714285\n",
      "predicted class counts: Counter({1: 60, 0: 33, -1: 19})\n",
      "\n",
      "\n",
      "FTV accuracy: 0.39285714285714285. Average accuracy:0.4459295460509053\n",
      "Data spread:  Counter({'1': 203, '-1': 140, '0': 105})\n"
     ]
    },
    {
     "name": "stderr",
     "output_type": "stream",
     "text": [
      "/home/seb/anaconda3/lib/python3.7/site-packages/sklearn/ensemble/forest.py:245: FutureWarning: The default value of n_estimators will change from 10 in version 0.20 to 100 in 0.22.\n",
      "  \"10 in version 0.20 to 100 in 0.22.\", FutureWarning)\n"
     ]
    },
    {
     "name": "stdout",
     "output_type": "stream",
     "text": [
      "accuracy: 0.4732142857142857\n",
      "predicted class counts: Counter({1: 71, -1: 29, 0: 12})\n",
      "\n",
      "\n",
      "FBHS accuracy: 0.4732142857142857. Average accuracy:0.4460613563874433\n",
      "Data spread:  Counter({'0': 321, '1': 76, '-1': 51})\n"
     ]
    },
    {
     "name": "stderr",
     "output_type": "stream",
     "text": [
      "/home/seb/anaconda3/lib/python3.7/site-packages/sklearn/ensemble/forest.py:245: FutureWarning: The default value of n_estimators will change from 10 in version 0.20 to 100 in 0.22.\n",
      "  \"10 in version 0.20 to 100 in 0.22.\", FutureWarning)\n"
     ]
    },
    {
     "name": "stdout",
     "output_type": "stream",
     "text": [
      "accuracy: 0.7027027027027027\n",
      "predicted class counts: Counter({0: 108, -1: 2, 1: 1})\n",
      "\n",
      "\n",
      "FOXA accuracy: 0.7027027027027027. Average accuracy:0.447295209013959\n",
      "210\n",
      "Data spread:  Counter({'0': 318, '1': 79, '-1': 51})\n"
     ]
    },
    {
     "name": "stderr",
     "output_type": "stream",
     "text": [
      "/home/seb/anaconda3/lib/python3.7/site-packages/sklearn/ensemble/forest.py:245: FutureWarning: The default value of n_estimators will change from 10 in version 0.20 to 100 in 0.22.\n",
      "  \"10 in version 0.20 to 100 in 0.22.\", FutureWarning)\n"
     ]
    },
    {
     "name": "stdout",
     "output_type": "stream",
     "text": [
      "accuracy: 0.8108108108108109\n",
      "predicted class counts: Counter({0: 108, -1: 3})\n",
      "\n",
      "\n",
      "FOX accuracy: 0.8108108108108109. Average accuracy:0.4490345181134655\n",
      "Data spread:  Counter({'1': 196, '-1': 143, '0': 109})\n"
     ]
    },
    {
     "name": "stderr",
     "output_type": "stream",
     "text": [
      "/home/seb/anaconda3/lib/python3.7/site-packages/sklearn/ensemble/forest.py:245: FutureWarning: The default value of n_estimators will change from 10 in version 0.20 to 100 in 0.22.\n",
      "  \"10 in version 0.20 to 100 in 0.22.\", FutureWarning)\n"
     ]
    },
    {
     "name": "stdout",
     "output_type": "stream",
     "text": [
      "accuracy: 0.42857142857142855\n",
      "predicted class counts: Counter({-1: 57, 1: 48, 0: 7})\n",
      "\n",
      "\n",
      "BEN accuracy: 0.42857142857142855. Average accuracy:0.44893707482993195\n",
      "Data spread:  Counter({'1': 225, '-1': 201, '0': 22})\n"
     ]
    },
    {
     "name": "stderr",
     "output_type": "stream",
     "text": [
      "/home/seb/anaconda3/lib/python3.7/site-packages/sklearn/ensemble/forest.py:245: FutureWarning: The default value of n_estimators will change from 10 in version 0.20 to 100 in 0.22.\n",
      "  \"10 in version 0.20 to 100 in 0.22.\", FutureWarning)\n"
     ]
    },
    {
     "name": "stdout",
     "output_type": "stream",
     "text": [
      "accuracy: 0.5446428571428571\n",
      "predicted class counts: Counter({1: 63, -1: 49})\n",
      "\n",
      "\n",
      "FCX accuracy: 0.5446428571428571. Average accuracy:0.4493906567366283\n",
      "Data spread:  Counter({'1': 203, '-1': 182, '0': 63})\n"
     ]
    },
    {
     "name": "stderr",
     "output_type": "stream",
     "text": [
      "/home/seb/anaconda3/lib/python3.7/site-packages/sklearn/ensemble/forest.py:245: FutureWarning: The default value of n_estimators will change from 10 in version 0.20 to 100 in 0.22.\n",
      "  \"10 in version 0.20 to 100 in 0.22.\", FutureWarning)\n"
     ]
    },
    {
     "name": "stdout",
     "output_type": "stream",
     "text": [
      "accuracy: 0.4642857142857143\n",
      "predicted class counts: Counter({-1: 63, 1: 49})\n",
      "\n",
      "\n",
      "GPS accuracy: 0.4642857142857143. Average accuracy:0.4494609164420485\n",
      "Data spread:  Counter({'1': 201, '0': 194, '-1': 53})\n"
     ]
    },
    {
     "name": "stderr",
     "output_type": "stream",
     "text": [
      "/home/seb/anaconda3/lib/python3.7/site-packages/sklearn/ensemble/forest.py:245: FutureWarning: The default value of n_estimators will change from 10 in version 0.20 to 100 in 0.22.\n",
      "  \"10 in version 0.20 to 100 in 0.22.\", FutureWarning)\n"
     ]
    },
    {
     "name": "stdout",
     "output_type": "stream",
     "text": [
      "accuracy: 0.4642857142857143\n",
      "predicted class counts: Counter({1: 80, 0: 31, -1: 1})\n",
      "\n",
      "\n",
      "GRMN accuracy: 0.4642857142857143. Average accuracy:0.4495305164319249\n",
      "Data spread:  Counter({'1': 216, '0': 150, '-1': 82})\n"
     ]
    },
    {
     "name": "stderr",
     "output_type": "stream",
     "text": [
      "/home/seb/anaconda3/lib/python3.7/site-packages/sklearn/ensemble/forest.py:245: FutureWarning: The default value of n_estimators will change from 10 in version 0.20 to 100 in 0.22.\n",
      "  \"10 in version 0.20 to 100 in 0.22.\", FutureWarning)\n"
     ]
    },
    {
     "name": "stdout",
     "output_type": "stream",
     "text": [
      "accuracy: 0.4107142857142857\n",
      "predicted class counts: Counter({1: 88, 0: 21, -1: 3})\n",
      "\n",
      "\n",
      "IT accuracy: 0.4107142857142857. Average accuracy:0.44934913217623496\n",
      "Data spread:  Counter({'1': 199, '0': 160, '-1': 89})\n"
     ]
    },
    {
     "name": "stderr",
     "output_type": "stream",
     "text": [
      "/home/seb/anaconda3/lib/python3.7/site-packages/sklearn/ensemble/forest.py:245: FutureWarning: The default value of n_estimators will change from 10 in version 0.20 to 100 in 0.22.\n",
      "  \"10 in version 0.20 to 100 in 0.22.\", FutureWarning)\n"
     ]
    },
    {
     "name": "stdout",
     "output_type": "stream",
     "text": [
      "accuracy: 0.42857142857142855\n",
      "predicted class counts: Counter({1: 68, 0: 38, -1: 6})\n",
      "\n",
      "\n",
      "GD accuracy: 0.42857142857142855. Average accuracy:0.44925249169435216\n",
      "Data spread:  Counter({'1': 233, '-1': 170, '0': 45})\n"
     ]
    },
    {
     "name": "stderr",
     "output_type": "stream",
     "text": [
      "/home/seb/anaconda3/lib/python3.7/site-packages/sklearn/ensemble/forest.py:245: FutureWarning: The default value of n_estimators will change from 10 in version 0.20 to 100 in 0.22.\n",
      "  \"10 in version 0.20 to 100 in 0.22.\", FutureWarning)\n"
     ]
    },
    {
     "name": "stdout",
     "output_type": "stream",
     "text": [
      "accuracy: 0.4642857142857143\n",
      "predicted class counts: Counter({1: 81, -1: 31})\n",
      "\n",
      "\n",
      "GE accuracy: 0.4642857142857143. Average accuracy:0.44932208994708994\n",
      "Data spread:  Counter({'1': 191, '0': 158, '-1': 99})\n"
     ]
    },
    {
     "name": "stderr",
     "output_type": "stream",
     "text": [
      "/home/seb/anaconda3/lib/python3.7/site-packages/sklearn/ensemble/forest.py:245: FutureWarning: The default value of n_estimators will change from 10 in version 0.20 to 100 in 0.22.\n",
      "  \"10 in version 0.20 to 100 in 0.22.\", FutureWarning)\n"
     ]
    },
    {
     "name": "stdout",
     "output_type": "stream",
     "text": [
      "accuracy: 0.35714285714285715\n",
      "predicted class counts: Counter({0: 52, 1: 49, -1: 11})\n",
      "\n",
      "\n",
      "GIS accuracy: 0.35714285714285715. Average accuracy:0.4488973008558262\n",
      "Data spread:  Counter({'1': 185, '-1': 156, '0': 107})\n"
     ]
    },
    {
     "name": "stderr",
     "output_type": "stream",
     "text": [
      "/home/seb/anaconda3/lib/python3.7/site-packages/sklearn/ensemble/forest.py:245: FutureWarning: The default value of n_estimators will change from 10 in version 0.20 to 100 in 0.22.\n",
      "  \"10 in version 0.20 to 100 in 0.22.\", FutureWarning)\n"
     ]
    },
    {
     "name": "stdout",
     "output_type": "stream",
     "text": [
      "accuracy: 0.35714285714285715\n",
      "predicted class counts: Counter({1: 53, -1: 49, 0: 10})\n",
      "\n",
      "\n",
      "GM accuracy: 0.35714285714285715. Average accuracy:0.4484764089121887\n",
      "220\n",
      "Data spread:  Counter({'0': 191, '1': 186, '-1': 71})\n"
     ]
    },
    {
     "name": "stderr",
     "output_type": "stream",
     "text": [
      "/home/seb/anaconda3/lib/python3.7/site-packages/sklearn/ensemble/forest.py:245: FutureWarning: The default value of n_estimators will change from 10 in version 0.20 to 100 in 0.22.\n",
      "  \"10 in version 0.20 to 100 in 0.22.\", FutureWarning)\n"
     ]
    },
    {
     "name": "stdout",
     "output_type": "stream",
     "text": [
      "accuracy: 0.3482142857142857\n",
      "predicted class counts: Counter({1: 58, 0: 51, -1: 3})\n",
      "\n",
      "\n",
      "GPC accuracy: 0.3482142857142857. Average accuracy:0.44801859099804303\n",
      "Data spread:  Counter({'1': 196, '0': 127, '-1': 125})\n"
     ]
    },
    {
     "name": "stderr",
     "output_type": "stream",
     "text": [
      "/home/seb/anaconda3/lib/python3.7/site-packages/sklearn/ensemble/forest.py:245: FutureWarning: The default value of n_estimators will change from 10 in version 0.20 to 100 in 0.22.\n",
      "  \"10 in version 0.20 to 100 in 0.22.\", FutureWarning)\n"
     ]
    },
    {
     "name": "stdout",
     "output_type": "stream",
     "text": [
      "accuracy: 0.38392857142857145\n",
      "predicted class counts: Counter({1: 81, -1: 21, 0: 10})\n",
      "\n",
      "\n",
      "GILD accuracy: 0.38392857142857145. Average accuracy:0.44772727272727275\n",
      "Data spread:  Counter({'0': 213, '1': 161, '-1': 74})\n"
     ]
    },
    {
     "name": "stderr",
     "output_type": "stream",
     "text": [
      "/home/seb/anaconda3/lib/python3.7/site-packages/sklearn/ensemble/forest.py:245: FutureWarning: The default value of n_estimators will change from 10 in version 0.20 to 100 in 0.22.\n",
      "  \"10 in version 0.20 to 100 in 0.22.\", FutureWarning)\n"
     ]
    },
    {
     "name": "stdout",
     "output_type": "stream",
     "text": [
      "accuracy: 0.5089285714285714\n",
      "predicted class counts: Counter({0: 77, 1: 31, -1: 4})\n",
      "\n",
      "\n",
      "GL accuracy: 0.5089285714285714. Average accuracy:0.4480042016806723\n",
      "Data spread:  Counter({'1': 221, '0': 130, '-1': 97})\n"
     ]
    },
    {
     "name": "stderr",
     "output_type": "stream",
     "text": [
      "/home/seb/anaconda3/lib/python3.7/site-packages/sklearn/ensemble/forest.py:245: FutureWarning: The default value of n_estimators will change from 10 in version 0.20 to 100 in 0.22.\n",
      "  \"10 in version 0.20 to 100 in 0.22.\", FutureWarning)\n"
     ]
    },
    {
     "name": "stdout",
     "output_type": "stream",
     "text": [
      "accuracy: 0.49107142857142855\n",
      "predicted class counts: Counter({1: 90, 0: 12, -1: 10})\n",
      "\n",
      "\n",
      "GPN accuracy: 0.49107142857142855. Average accuracy:0.44819819819819817\n",
      "Data spread:  Counter({'1': 205, '-1': 135, '0': 108})\n"
     ]
    },
    {
     "name": "stderr",
     "output_type": "stream",
     "text": [
      "/home/seb/anaconda3/lib/python3.7/site-packages/sklearn/ensemble/forest.py:245: FutureWarning: The default value of n_estimators will change from 10 in version 0.20 to 100 in 0.22.\n",
      "  \"10 in version 0.20 to 100 in 0.22.\", FutureWarning)\n"
     ]
    },
    {
     "name": "stdout",
     "output_type": "stream",
     "text": [
      "accuracy: 0.38392857142857145\n",
      "predicted class counts: Counter({1: 87, -1: 17, 0: 8})\n",
      "\n",
      "\n",
      "GS accuracy: 0.38392857142857145. Average accuracy:0.4479099935938501\n",
      "Data spread:  Counter({'1': 221, '0': 119, '-1': 108})\n"
     ]
    },
    {
     "name": "stderr",
     "output_type": "stream",
     "text": [
      "/home/seb/anaconda3/lib/python3.7/site-packages/sklearn/ensemble/forest.py:245: FutureWarning: The default value of n_estimators will change from 10 in version 0.20 to 100 in 0.22.\n",
      "  \"10 in version 0.20 to 100 in 0.22.\", FutureWarning)\n"
     ]
    },
    {
     "name": "stdout",
     "output_type": "stream",
     "text": [
      "accuracy: 0.5535714285714286\n",
      "predicted class counts: Counter({1: 63, -1: 33, 0: 16})\n",
      "\n",
      "\n",
      "GWW accuracy: 0.5535714285714286. Average accuracy:0.44838169642857145\n",
      "Data spread:  Counter({'1': 204, '-1': 178, '0': 66})\n"
     ]
    },
    {
     "name": "stderr",
     "output_type": "stream",
     "text": [
      "/home/seb/anaconda3/lib/python3.7/site-packages/sklearn/ensemble/forest.py:245: FutureWarning: The default value of n_estimators will change from 10 in version 0.20 to 100 in 0.22.\n",
      "  \"10 in version 0.20 to 100 in 0.22.\", FutureWarning)\n"
     ]
    },
    {
     "name": "stdout",
     "output_type": "stream",
     "text": [
      "accuracy: 0.45535714285714285\n",
      "predicted class counts: Counter({1: 63, -1: 46, 0: 3})\n",
      "\n",
      "\n",
      "HAL accuracy: 0.45535714285714285. Average accuracy:0.44841269841269843\n",
      "Data spread:  Counter({'1': 226, '-1': 168, '0': 54})\n"
     ]
    },
    {
     "name": "stderr",
     "output_type": "stream",
     "text": [
      "/home/seb/anaconda3/lib/python3.7/site-packages/sklearn/ensemble/forest.py:245: FutureWarning: The default value of n_estimators will change from 10 in version 0.20 to 100 in 0.22.\n",
      "  \"10 in version 0.20 to 100 in 0.22.\", FutureWarning)\n"
     ]
    },
    {
     "name": "stdout",
     "output_type": "stream",
     "text": [
      "accuracy: 0.48214285714285715\n",
      "predicted class counts: Counter({1: 69, -1: 43})\n",
      "\n",
      "\n",
      "HBI accuracy: 0.48214285714285715. Average accuracy:0.4485619469026549\n",
      "Data spread:  Counter({'1': 203, '-1': 156, '0': 89})\n"
     ]
    },
    {
     "name": "stderr",
     "output_type": "stream",
     "text": [
      "/home/seb/anaconda3/lib/python3.7/site-packages/sklearn/ensemble/forest.py:245: FutureWarning: The default value of n_estimators will change from 10 in version 0.20 to 100 in 0.22.\n",
      "  \"10 in version 0.20 to 100 in 0.22.\", FutureWarning)\n"
     ]
    },
    {
     "name": "stdout",
     "output_type": "stream",
     "text": [
      "accuracy: 0.41964285714285715\n",
      "predicted class counts: Counter({1: 64, -1: 45, 0: 3})\n",
      "\n",
      "\n",
      "HOG accuracy: 0.41964285714285715. Average accuracy:0.4484345500314663\n",
      "Data spread:  Counter({'0': 227, '1': 159, '-1': 62})\n"
     ]
    },
    {
     "name": "stderr",
     "output_type": "stream",
     "text": [
      "/home/seb/anaconda3/lib/python3.7/site-packages/sklearn/ensemble/forest.py:245: FutureWarning: The default value of n_estimators will change from 10 in version 0.20 to 100 in 0.22.\n",
      "  \"10 in version 0.20 to 100 in 0.22.\", FutureWarning)\n"
     ]
    },
    {
     "name": "stdout",
     "output_type": "stream",
     "text": [
      "accuracy: 0.38392857142857145\n",
      "predicted class counts: Counter({0: 106, -1: 3, 1: 3})\n",
      "\n",
      "\n",
      "HIG accuracy: 0.38392857142857145. Average accuracy:0.4481516290726817\n",
      "230\n",
      "Data spread:  Counter({'1': 210, '0': 147, '-1': 91})\n"
     ]
    },
    {
     "name": "stderr",
     "output_type": "stream",
     "text": [
      "/home/seb/anaconda3/lib/python3.7/site-packages/sklearn/ensemble/forest.py:245: FutureWarning: The default value of n_estimators will change from 10 in version 0.20 to 100 in 0.22.\n",
      "  \"10 in version 0.20 to 100 in 0.22.\", FutureWarning)\n"
     ]
    },
    {
     "name": "stdout",
     "output_type": "stream",
     "text": [
      "accuracy: 0.45535714285714285\n",
      "predicted class counts: Counter({1: 85, 0: 18, -1: 9})\n",
      "\n",
      "\n",
      "HAS accuracy: 0.45535714285714285. Average accuracy:0.44818309419837804\n",
      "Data spread:  Counter({'1': 233, '0': 116, '-1': 99})\n"
     ]
    },
    {
     "name": "stderr",
     "output_type": "stream",
     "text": [
      "/home/seb/anaconda3/lib/python3.7/site-packages/sklearn/ensemble/forest.py:245: FutureWarning: The default value of n_estimators will change from 10 in version 0.20 to 100 in 0.22.\n",
      "  \"10 in version 0.20 to 100 in 0.22.\", FutureWarning)\n"
     ]
    },
    {
     "name": "stdout",
     "output_type": "stream",
     "text": [
      "accuracy: 0.375\n",
      "predicted class counts: Counter({1: 76, -1: 29, 0: 7})\n",
      "\n",
      "\n",
      "HCA accuracy: 0.375. Average accuracy:0.4478649068322981\n",
      "Data spread:  Counter({'1': 210, '0': 179, '-1': 59})\n"
     ]
    },
    {
     "name": "stderr",
     "output_type": "stream",
     "text": [
      "/home/seb/anaconda3/lib/python3.7/site-packages/sklearn/ensemble/forest.py:245: FutureWarning: The default value of n_estimators will change from 10 in version 0.20 to 100 in 0.22.\n",
      "  \"10 in version 0.20 to 100 in 0.22.\", FutureWarning)\n"
     ]
    },
    {
     "name": "stdout",
     "output_type": "stream",
     "text": [
      "accuracy: 0.35714285714285715\n",
      "predicted class counts: Counter({0: 60, 1: 44, -1: 8})\n",
      "\n",
      "\n",
      "HCP accuracy: 0.35714285714285715. Average accuracy:0.4474721706864564\n",
      "Data spread:  Counter({'1': 235, '-1': 160, '0': 53})\n"
     ]
    },
    {
     "name": "stderr",
     "output_type": "stream",
     "text": [
      "/home/seb/anaconda3/lib/python3.7/site-packages/sklearn/ensemble/forest.py:245: FutureWarning: The default value of n_estimators will change from 10 in version 0.20 to 100 in 0.22.\n",
      "  \"10 in version 0.20 to 100 in 0.22.\", FutureWarning)\n"
     ]
    },
    {
     "name": "stdout",
     "output_type": "stream",
     "text": [
      "accuracy: 0.5\n",
      "predicted class counts: Counter({1: 96, -1: 16})\n",
      "\n",
      "\n",
      "HP accuracy: 0.5. Average accuracy:0.44769858374384236\n",
      "Data spread:  Counter({'1': 223, '0': 114, '-1': 111})\n"
     ]
    },
    {
     "name": "stderr",
     "output_type": "stream",
     "text": [
      "/home/seb/anaconda3/lib/python3.7/site-packages/sklearn/ensemble/forest.py:245: FutureWarning: The default value of n_estimators will change from 10 in version 0.20 to 100 in 0.22.\n",
      "  \"10 in version 0.20 to 100 in 0.22.\", FutureWarning)\n"
     ]
    },
    {
     "name": "stdout",
     "output_type": "stream",
     "text": [
      "accuracy: 0.4107142857142857\n",
      "predicted class counts: Counter({1: 77, -1: 20, 0: 15})\n",
      "\n",
      "\n",
      "HSIC accuracy: 0.4107142857142857. Average accuracy:0.44753985285101167\n",
      "Data spread:  Counter({'0': 205, '1': 193, '-1': 50})\n"
     ]
    },
    {
     "name": "stderr",
     "output_type": "stream",
     "text": [
      "/home/seb/anaconda3/lib/python3.7/site-packages/sklearn/ensemble/forest.py:245: FutureWarning: The default value of n_estimators will change from 10 in version 0.20 to 100 in 0.22.\n",
      "  \"10 in version 0.20 to 100 in 0.22.\", FutureWarning)\n"
     ]
    },
    {
     "name": "stdout",
     "output_type": "stream",
     "text": [
      "accuracy: 0.5089285714285714\n",
      "predicted class counts: Counter({0: 76, 1: 33, -1: 3})\n",
      "\n",
      "\n",
      "HSY accuracy: 0.5089285714285714. Average accuracy:0.4478021978021978\n",
      "Data spread:  Counter({'1': 276, '-1': 131, '0': 41})\n"
     ]
    },
    {
     "name": "stderr",
     "output_type": "stream",
     "text": [
      "/home/seb/anaconda3/lib/python3.7/site-packages/sklearn/ensemble/forest.py:245: FutureWarning: The default value of n_estimators will change from 10 in version 0.20 to 100 in 0.22.\n",
      "  \"10 in version 0.20 to 100 in 0.22.\", FutureWarning)\n"
     ]
    },
    {
     "name": "stdout",
     "output_type": "stream",
     "text": [
      "accuracy: 0.6160714285714286\n",
      "predicted class counts: Counter({1: 106, -1: 6})\n",
      "\n",
      "\n",
      "HES accuracy: 0.6160714285714286. Average accuracy:0.4485182370820669\n",
      "Data spread:  Counter({'1': 235, '-1': 129, '0': 84})\n"
     ]
    },
    {
     "name": "stderr",
     "output_type": "stream",
     "text": [
      "/home/seb/anaconda3/lib/python3.7/site-packages/sklearn/ensemble/forest.py:245: FutureWarning: The default value of n_estimators will change from 10 in version 0.20 to 100 in 0.22.\n",
      "  \"10 in version 0.20 to 100 in 0.22.\", FutureWarning)\n"
     ]
    },
    {
     "name": "stdout",
     "output_type": "stream",
     "text": [
      "accuracy: 0.44642857142857145\n",
      "predicted class counts: Counter({1: 102, -1: 6, 0: 4})\n",
      "\n",
      "\n",
      "HPE accuracy: 0.44642857142857145. Average accuracy:0.44850938256658596\n",
      "Data spread:  Counter({'1': 203, '0': 133, '-1': 112})\n"
     ]
    },
    {
     "name": "stderr",
     "output_type": "stream",
     "text": [
      "/home/seb/anaconda3/lib/python3.7/site-packages/sklearn/ensemble/forest.py:245: FutureWarning: The default value of n_estimators will change from 10 in version 0.20 to 100 in 0.22.\n",
      "  \"10 in version 0.20 to 100 in 0.22.\", FutureWarning)\n"
     ]
    },
    {
     "name": "stdout",
     "output_type": "stream",
     "text": [
      "accuracy: 0.45535714285714285\n",
      "predicted class counts: Counter({1: 67, 0: 34, -1: 11})\n",
      "\n",
      "\n",
      "HLT accuracy: 0.45535714285714285. Average accuracy:0.44853827606992164\n",
      "Data spread:  Counter({'1': 255, '-1': 154, '0': 39})\n"
     ]
    },
    {
     "name": "stderr",
     "output_type": "stream",
     "text": [
      "/home/seb/anaconda3/lib/python3.7/site-packages/sklearn/ensemble/forest.py:245: FutureWarning: The default value of n_estimators will change from 10 in version 0.20 to 100 in 0.22.\n",
      "  \"10 in version 0.20 to 100 in 0.22.\", FutureWarning)\n"
     ]
    },
    {
     "name": "stdout",
     "output_type": "stream",
     "text": [
      "accuracy: 0.5\n",
      "predicted class counts: Counter({1: 104, -1: 8})\n",
      "\n",
      "\n",
      "HFC accuracy: 0.5. Average accuracy:0.4487545018007203\n",
      "240\n",
      "Data spread:  Counter({'1': 192, '0': 181, '-1': 75})\n"
     ]
    },
    {
     "name": "stderr",
     "output_type": "stream",
     "text": [
      "/home/seb/anaconda3/lib/python3.7/site-packages/sklearn/ensemble/forest.py:245: FutureWarning: The default value of n_estimators will change from 10 in version 0.20 to 100 in 0.22.\n",
      "  \"10 in version 0.20 to 100 in 0.22.\", FutureWarning)\n"
     ]
    },
    {
     "name": "stdout",
     "output_type": "stream",
     "text": [
      "accuracy: 0.44642857142857145\n",
      "predicted class counts: Counter({0: 62, 1: 41, -1: 9})\n",
      "\n",
      "\n",
      "HOLX accuracy: 0.44642857142857145. Average accuracy:0.448744769874477\n",
      "Data spread:  Counter({'1': 209, '0': 156, '-1': 83})\n"
     ]
    },
    {
     "name": "stderr",
     "output_type": "stream",
     "text": [
      "/home/seb/anaconda3/lib/python3.7/site-packages/sklearn/ensemble/forest.py:245: FutureWarning: The default value of n_estimators will change from 10 in version 0.20 to 100 in 0.22.\n",
      "  \"10 in version 0.20 to 100 in 0.22.\", FutureWarning)\n"
     ]
    },
    {
     "name": "stdout",
     "output_type": "stream",
     "text": [
      "accuracy: 0.4732142857142857\n",
      "predicted class counts: Counter({1: 104, 0: 7, -1: 1})\n",
      "\n",
      "\n",
      "HD accuracy: 0.4732142857142857. Average accuracy:0.44884672619047616\n",
      "Data spread:  Counter({'1': 193, '0': 177, '-1': 78})\n"
     ]
    },
    {
     "name": "stderr",
     "output_type": "stream",
     "text": [
      "/home/seb/anaconda3/lib/python3.7/site-packages/sklearn/ensemble/forest.py:245: FutureWarning: The default value of n_estimators will change from 10 in version 0.20 to 100 in 0.22.\n",
      "  \"10 in version 0.20 to 100 in 0.22.\", FutureWarning)\n"
     ]
    },
    {
     "name": "stdout",
     "output_type": "stream",
     "text": [
      "accuracy: 0.41964285714285715\n",
      "predicted class counts: Counter({1: 69, 0: 34, -1: 9})\n",
      "\n",
      "\n",
      "HON accuracy: 0.41964285714285715. Average accuracy:0.44872554831061057\n",
      "Data spread:  Counter({'0': 206, '1': 176, '-1': 66})\n"
     ]
    },
    {
     "name": "stderr",
     "output_type": "stream",
     "text": [
      "/home/seb/anaconda3/lib/python3.7/site-packages/sklearn/ensemble/forest.py:245: FutureWarning: The default value of n_estimators will change from 10 in version 0.20 to 100 in 0.22.\n",
      "  \"10 in version 0.20 to 100 in 0.22.\", FutureWarning)\n"
     ]
    },
    {
     "name": "stdout",
     "output_type": "stream",
     "text": [
      "accuracy: 0.41964285714285715\n",
      "predicted class counts: Counter({0: 79, 1: 22, -1: 11})\n",
      "\n",
      "\n",
      "HRL accuracy: 0.41964285714285715. Average accuracy:0.44860537190082644\n",
      "Data spread:  Counter({'0': 177, '1': 165, '-1': 106})\n"
     ]
    },
    {
     "name": "stderr",
     "output_type": "stream",
     "text": [
      "/home/seb/anaconda3/lib/python3.7/site-packages/sklearn/ensemble/forest.py:245: FutureWarning: The default value of n_estimators will change from 10 in version 0.20 to 100 in 0.22.\n",
      "  \"10 in version 0.20 to 100 in 0.22.\", FutureWarning)\n"
     ]
    },
    {
     "name": "stdout",
     "output_type": "stream",
     "text": [
      "accuracy: 0.32142857142857145\n",
      "predicted class counts: Counter({0: 60, 1: 40, -1: 12})\n",
      "\n",
      "\n",
      "HST accuracy: 0.32142857142857145. Average accuracy:0.4480820105820106\n",
      "Data spread:  Counter({'1': 233, '-1': 114, '0': 101})\n"
     ]
    },
    {
     "name": "stderr",
     "output_type": "stream",
     "text": [
      "/home/seb/anaconda3/lib/python3.7/site-packages/sklearn/ensemble/forest.py:245: FutureWarning: The default value of n_estimators will change from 10 in version 0.20 to 100 in 0.22.\n",
      "  \"10 in version 0.20 to 100 in 0.22.\", FutureWarning)\n"
     ]
    },
    {
     "name": "stdout",
     "output_type": "stream",
     "text": [
      "accuracy: 0.49107142857142855\n",
      "predicted class counts: Counter({1: 89, -1: 14, 0: 9})\n",
      "\n",
      "\n",
      "HPQ accuracy: 0.49107142857142855. Average accuracy:0.44825819672131145\n",
      "Data spread:  Counter({'1': 194, '0': 141, '-1': 113})\n"
     ]
    },
    {
     "name": "stderr",
     "output_type": "stream",
     "text": [
      "/home/seb/anaconda3/lib/python3.7/site-packages/sklearn/ensemble/forest.py:245: FutureWarning: The default value of n_estimators will change from 10 in version 0.20 to 100 in 0.22.\n",
      "  \"10 in version 0.20 to 100 in 0.22.\", FutureWarning)\n"
     ]
    },
    {
     "name": "stdout",
     "output_type": "stream",
     "text": [
      "accuracy: 0.4107142857142857\n",
      "predicted class counts: Counter({1: 86, -1: 14, 0: 12})\n",
      "\n",
      "\n",
      "HUM accuracy: 0.4107142857142857. Average accuracy:0.44810495626822155\n",
      "Data spread:  Counter({'1': 193, '0': 138, '-1': 117})\n"
     ]
    },
    {
     "name": "stderr",
     "output_type": "stream",
     "text": [
      "/home/seb/anaconda3/lib/python3.7/site-packages/sklearn/ensemble/forest.py:245: FutureWarning: The default value of n_estimators will change from 10 in version 0.20 to 100 in 0.22.\n",
      "  \"10 in version 0.20 to 100 in 0.22.\", FutureWarning)\n"
     ]
    },
    {
     "name": "stdout",
     "output_type": "stream",
     "text": [
      "accuracy: 0.2857142857142857\n",
      "predicted class counts: Counter({1: 63, 0: 29, -1: 20})\n",
      "\n",
      "\n",
      "HBAN accuracy: 0.2857142857142857. Average accuracy:0.44744483159117304\n",
      "Data spread:  Counter({'1': 230, '0': 110, '-1': 108})\n"
     ]
    },
    {
     "name": "stderr",
     "output_type": "stream",
     "text": [
      "/home/seb/anaconda3/lib/python3.7/site-packages/sklearn/ensemble/forest.py:245: FutureWarning: The default value of n_estimators will change from 10 in version 0.20 to 100 in 0.22.\n",
      "  \"10 in version 0.20 to 100 in 0.22.\", FutureWarning)\n"
     ]
    },
    {
     "name": "stdout",
     "output_type": "stream",
     "text": [
      "accuracy: 0.49107142857142855\n",
      "predicted class counts: Counter({1: 108, 0: 2, -1: 2})\n",
      "\n",
      "\n",
      "HII accuracy: 0.49107142857142855. Average accuracy:0.4476214574898785\n",
      "Data spread:  Counter({'1': 204, '0': 168, '-1': 76})\n"
     ]
    },
    {
     "name": "stderr",
     "output_type": "stream",
     "text": [
      "/home/seb/anaconda3/lib/python3.7/site-packages/sklearn/ensemble/forest.py:245: FutureWarning: The default value of n_estimators will change from 10 in version 0.20 to 100 in 0.22.\n",
      "  \"10 in version 0.20 to 100 in 0.22.\", FutureWarning)\n"
     ]
    },
    {
     "name": "stdout",
     "output_type": "stream",
     "text": [
      "accuracy: 0.38392857142857145\n",
      "predicted class counts: Counter({1: 51, 0: 48, -1: 13})\n",
      "\n",
      "\n",
      "IEX accuracy: 0.38392857142857145. Average accuracy:0.4473646313364055\n",
      "250\n",
      "Data spread:  Counter({'1': 257, '-1': 106, '0': 85})\n"
     ]
    },
    {
     "name": "stderr",
     "output_type": "stream",
     "text": [
      "/home/seb/anaconda3/lib/python3.7/site-packages/sklearn/ensemble/forest.py:245: FutureWarning: The default value of n_estimators will change from 10 in version 0.20 to 100 in 0.22.\n",
      "  \"10 in version 0.20 to 100 in 0.22.\", FutureWarning)\n"
     ]
    },
    {
     "name": "stdout",
     "output_type": "stream",
     "text": [
      "accuracy: 0.5446428571428571\n",
      "predicted class counts: Counter({1: 93, -1: 18, 0: 1})\n",
      "\n",
      "\n",
      "IDXX accuracy: 0.5446428571428571. Average accuracy:0.44775530694205395\n",
      "Data spread:  Counter({'0': 194, '1': 191, '-1': 63})\n"
     ]
    },
    {
     "name": "stderr",
     "output_type": "stream",
     "text": [
      "/home/seb/anaconda3/lib/python3.7/site-packages/sklearn/ensemble/forest.py:245: FutureWarning: The default value of n_estimators will change from 10 in version 0.20 to 100 in 0.22.\n",
      "  \"10 in version 0.20 to 100 in 0.22.\", FutureWarning)\n"
     ]
    },
    {
     "name": "stdout",
     "output_type": "stream",
     "text": [
      "accuracy: 0.4107142857142857\n",
      "predicted class counts: Counter({0: 71, 1: 35, -1: 6})\n",
      "\n",
      "\n",
      "INFO accuracy: 0.4107142857142857. Average accuracy:0.44760714285714287\n",
      "Data spread:  Counter({'1': 211, '0': 139, '-1': 98})\n"
     ]
    },
    {
     "name": "stderr",
     "output_type": "stream",
     "text": [
      "/home/seb/anaconda3/lib/python3.7/site-packages/sklearn/ensemble/forest.py:245: FutureWarning: The default value of n_estimators will change from 10 in version 0.20 to 100 in 0.22.\n",
      "  \"10 in version 0.20 to 100 in 0.22.\", FutureWarning)\n"
     ]
    },
    {
     "name": "stdout",
     "output_type": "stream",
     "text": [
      "accuracy: 0.4017857142857143\n",
      "predicted class counts: Counter({1: 92, 0: 14, -1: 6})\n",
      "\n",
      "\n",
      "ITW accuracy: 0.4017857142857143. Average accuracy:0.44742458736482643\n",
      "Data spread:  Counter({'1': 249, '-1': 129, '0': 70})\n"
     ]
    },
    {
     "name": "stderr",
     "output_type": "stream",
     "text": [
      "/home/seb/anaconda3/lib/python3.7/site-packages/sklearn/ensemble/forest.py:245: FutureWarning: The default value of n_estimators will change from 10 in version 0.20 to 100 in 0.22.\n",
      "  \"10 in version 0.20 to 100 in 0.22.\", FutureWarning)\n"
     ]
    },
    {
     "name": "stdout",
     "output_type": "stream",
     "text": [
      "accuracy: 0.5357142857142857\n",
      "predicted class counts: Counter({1: 95, -1: 13, 0: 4})\n",
      "\n",
      "\n",
      "ILMN accuracy: 0.5357142857142857. Average accuracy:0.4477749433106576\n",
      "Data spread:  Counter({'1': 211, '0': 172, '-1': 65})\n"
     ]
    },
    {
     "name": "stderr",
     "output_type": "stream",
     "text": [
      "/home/seb/anaconda3/lib/python3.7/site-packages/sklearn/ensemble/forest.py:245: FutureWarning: The default value of n_estimators will change from 10 in version 0.20 to 100 in 0.22.\n",
      "  \"10 in version 0.20 to 100 in 0.22.\", FutureWarning)\n"
     ]
    },
    {
     "name": "stdout",
     "output_type": "stream",
     "text": [
      "accuracy: 0.44642857142857145\n",
      "predicted class counts: Counter({1: 64, 0: 44, -1: 4})\n",
      "\n",
      "\n",
      "IR accuracy: 0.44642857142857145. Average accuracy:0.44776962168266515\n",
      "Data spread:  Counter({'1': 236, '-1': 128, '0': 84})\n"
     ]
    },
    {
     "name": "stderr",
     "output_type": "stream",
     "text": [
      "/home/seb/anaconda3/lib/python3.7/site-packages/sklearn/ensemble/forest.py:245: FutureWarning: The default value of n_estimators will change from 10 in version 0.20 to 100 in 0.22.\n",
      "  \"10 in version 0.20 to 100 in 0.22.\", FutureWarning)\n"
     ]
    },
    {
     "name": "stdout",
     "output_type": "stream",
     "text": [
      "accuracy: 0.5178571428571429\n",
      "predicted class counts: Counter({1: 90, -1: 20, 0: 2})\n",
      "\n",
      "\n",
      "INTC accuracy: 0.5178571428571429. Average accuracy:0.4480455568053993\n",
      "Data spread:  Counter({'0': 211, '1': 171, '-1': 66})\n"
     ]
    },
    {
     "name": "stderr",
     "output_type": "stream",
     "text": [
      "/home/seb/anaconda3/lib/python3.7/site-packages/sklearn/ensemble/forest.py:245: FutureWarning: The default value of n_estimators will change from 10 in version 0.20 to 100 in 0.22.\n",
      "  \"10 in version 0.20 to 100 in 0.22.\", FutureWarning)\n"
     ]
    },
    {
     "name": "stdout",
     "output_type": "stream",
     "text": [
      "accuracy: 0.4642857142857143\n",
      "predicted class counts: Counter({0: 84, 1: 25, -1: 3})\n",
      "\n",
      "\n",
      "ICE accuracy: 0.4642857142857143. Average accuracy:0.448109243697479\n",
      "Data spread:  Counter({'0': 186, '1': 174, '-1': 88})\n"
     ]
    },
    {
     "name": "stderr",
     "output_type": "stream",
     "text": [
      "/home/seb/anaconda3/lib/python3.7/site-packages/sklearn/ensemble/forest.py:245: FutureWarning: The default value of n_estimators will change from 10 in version 0.20 to 100 in 0.22.\n",
      "  \"10 in version 0.20 to 100 in 0.22.\", FutureWarning)\n"
     ]
    },
    {
     "name": "stdout",
     "output_type": "stream",
     "text": [
      "accuracy: 0.33035714285714285\n",
      "predicted class counts: Counter({1: 65, 0: 43, -1: 4})\n",
      "\n",
      "\n",
      "IBM accuracy: 0.33035714285714285. Average accuracy:0.44764927455357145\n",
      "Data spread:  Counter({'1': 230, '-1': 163, '0': 55})\n"
     ]
    },
    {
     "name": "stderr",
     "output_type": "stream",
     "text": [
      "/home/seb/anaconda3/lib/python3.7/site-packages/sklearn/ensemble/forest.py:245: FutureWarning: The default value of n_estimators will change from 10 in version 0.20 to 100 in 0.22.\n",
      "  \"10 in version 0.20 to 100 in 0.22.\", FutureWarning)\n"
     ]
    },
    {
     "name": "stdout",
     "output_type": "stream",
     "text": [
      "accuracy: 0.44642857142857145\n",
      "predicted class counts: Counter({1: 81, -1: 31})\n",
      "\n",
      "\n",
      "INCY accuracy: 0.44642857142857145. Average accuracy:0.44764452473596444\n",
      "Data spread:  Counter({'1': 193, '-1': 139, '0': 116})\n"
     ]
    },
    {
     "name": "stderr",
     "output_type": "stream",
     "text": [
      "/home/seb/anaconda3/lib/python3.7/site-packages/sklearn/ensemble/forest.py:245: FutureWarning: The default value of n_estimators will change from 10 in version 0.20 to 100 in 0.22.\n",
      "  \"10 in version 0.20 to 100 in 0.22.\", FutureWarning)\n"
     ]
    },
    {
     "name": "stdout",
     "output_type": "stream",
     "text": [
      "accuracy: 0.375\n",
      "predicted class counts: Counter({1: 73, -1: 28, 0: 11})\n",
      "\n",
      "\n",
      "IP accuracy: 0.375. Average accuracy:0.4473629568106312\n",
      "260\n",
      "Data spread:  Counter({'1': 205, '0': 123, '-1': 120})\n"
     ]
    },
    {
     "name": "stderr",
     "output_type": "stream",
     "text": [
      "/home/seb/anaconda3/lib/python3.7/site-packages/sklearn/ensemble/forest.py:245: FutureWarning: The default value of n_estimators will change from 10 in version 0.20 to 100 in 0.22.\n",
      "  \"10 in version 0.20 to 100 in 0.22.\", FutureWarning)\n"
     ]
    },
    {
     "name": "stdout",
     "output_type": "stream",
     "text": [
      "accuracy: 0.4107142857142857\n",
      "predicted class counts: Counter({1: 93, -1: 16, 0: 3})\n",
      "\n",
      "\n",
      "IPG accuracy: 0.4107142857142857. Average accuracy:0.44722145615002756\n",
      "Data spread:  Counter({'0': 218, '1': 152, '-1': 78})\n"
     ]
    },
    {
     "name": "stderr",
     "output_type": "stream",
     "text": [
      "/home/seb/anaconda3/lib/python3.7/site-packages/sklearn/ensemble/forest.py:245: FutureWarning: The default value of n_estimators will change from 10 in version 0.20 to 100 in 0.22.\n",
      "  \"10 in version 0.20 to 100 in 0.22.\", FutureWarning)\n"
     ]
    },
    {
     "name": "stdout",
     "output_type": "stream",
     "text": [
      "accuracy: 0.5446428571428571\n",
      "predicted class counts: Counter({0: 94, -1: 9, 1: 9})\n",
      "\n",
      "\n",
      "IFF accuracy: 0.5446428571428571. Average accuracy:0.44759615384615387\n",
      "Data spread:  Counter({'1': 240, '0': 110, '-1': 98})\n"
     ]
    },
    {
     "name": "stderr",
     "output_type": "stream",
     "text": [
      "/home/seb/anaconda3/lib/python3.7/site-packages/sklearn/ensemble/forest.py:245: FutureWarning: The default value of n_estimators will change from 10 in version 0.20 to 100 in 0.22.\n",
      "  \"10 in version 0.20 to 100 in 0.22.\", FutureWarning)\n"
     ]
    },
    {
     "name": "stdout",
     "output_type": "stream",
     "text": [
      "accuracy: 0.6071428571428571\n",
      "predicted class counts: Counter({1: 109, 0: 2, -1: 1})\n",
      "\n",
      "\n",
      "INTU accuracy: 0.6071428571428571. Average accuracy:0.44820744389709904\n",
      "Data spread:  Counter({'1': 238, '-1': 112, '0': 98})\n"
     ]
    },
    {
     "name": "stderr",
     "output_type": "stream",
     "text": [
      "/home/seb/anaconda3/lib/python3.7/site-packages/sklearn/ensemble/forest.py:245: FutureWarning: The default value of n_estimators will change from 10 in version 0.20 to 100 in 0.22.\n",
      "  \"10 in version 0.20 to 100 in 0.22.\", FutureWarning)\n"
     ]
    },
    {
     "name": "stdout",
     "output_type": "stream",
     "text": [
      "accuracy: 0.4642857142857143\n",
      "predicted class counts: Counter({1: 101, -1: 11})\n",
      "\n",
      "\n",
      "ISRG accuracy: 0.4642857142857143. Average accuracy:0.44826881134133045\n",
      "Data spread:  Counter({'1': 185, '-1': 157, '0': 106})\n"
     ]
    },
    {
     "name": "stderr",
     "output_type": "stream",
     "text": [
      "/home/seb/anaconda3/lib/python3.7/site-packages/sklearn/ensemble/forest.py:245: FutureWarning: The default value of n_estimators will change from 10 in version 0.20 to 100 in 0.22.\n",
      "  \"10 in version 0.20 to 100 in 0.22.\", FutureWarning)\n"
     ]
    },
    {
     "name": "stdout",
     "output_type": "stream",
     "text": [
      "accuracy: 0.4017857142857143\n",
      "predicted class counts: Counter({1: 69, -1: 39, 0: 4})\n",
      "\n",
      "\n",
      "IVZ accuracy: 0.4017857142857143. Average accuracy:0.44809206952743075\n",
      "Data spread:  Counter({'1': 233, '-1': 177, '0': 38})\n"
     ]
    },
    {
     "name": "stderr",
     "output_type": "stream",
     "text": [
      "/home/seb/anaconda3/lib/python3.7/site-packages/sklearn/ensemble/forest.py:245: FutureWarning: The default value of n_estimators will change from 10 in version 0.20 to 100 in 0.22.\n",
      "  \"10 in version 0.20 to 100 in 0.22.\", FutureWarning)\n"
     ]
    },
    {
     "name": "stdout",
     "output_type": "stream",
     "text": [
      "accuracy: 0.4375\n",
      "predicted class counts: Counter({1: 82, -1: 30})\n",
      "\n",
      "\n",
      "IPGP accuracy: 0.4375. Average accuracy:0.44805194805194803\n",
      "Data spread:  Counter({'1': 206, '0': 154, '-1': 88})\n"
     ]
    },
    {
     "name": "stderr",
     "output_type": "stream",
     "text": [
      "/home/seb/anaconda3/lib/python3.7/site-packages/sklearn/ensemble/forest.py:245: FutureWarning: The default value of n_estimators will change from 10 in version 0.20 to 100 in 0.22.\n",
      "  \"10 in version 0.20 to 100 in 0.22.\", FutureWarning)\n"
     ]
    },
    {
     "name": "stdout",
     "output_type": "stream",
     "text": [
      "accuracy: 0.36607142857142855\n",
      "predicted class counts: Counter({1: 56, 0: 41, -1: 15})\n",
      "\n",
      "\n",
      "IQV accuracy: 0.36607142857142855. Average accuracy:0.44774258760107816\n",
      "Data spread:  Counter({'1': 201, '0': 156, '-1': 91})\n"
     ]
    },
    {
     "name": "stderr",
     "output_type": "stream",
     "text": [
      "/home/seb/anaconda3/lib/python3.7/site-packages/sklearn/ensemble/forest.py:245: FutureWarning: The default value of n_estimators will change from 10 in version 0.20 to 100 in 0.22.\n",
      "  \"10 in version 0.20 to 100 in 0.22.\", FutureWarning)\n"
     ]
    },
    {
     "name": "stdout",
     "output_type": "stream",
     "text": [
      "accuracy: 0.4375\n",
      "predicted class counts: Counter({1: 61, 0: 43, -1: 8})\n",
      "\n",
      "\n",
      "IRM accuracy: 0.4375. Average accuracy:0.4477040816326531\n",
      "Data spread:  Counter({'0': 196, '1': 176, '-1': 76})\n"
     ]
    },
    {
     "name": "stderr",
     "output_type": "stream",
     "text": [
      "/home/seb/anaconda3/lib/python3.7/site-packages/sklearn/ensemble/forest.py:245: FutureWarning: The default value of n_estimators will change from 10 in version 0.20 to 100 in 0.22.\n",
      "  \"10 in version 0.20 to 100 in 0.22.\", FutureWarning)\n"
     ]
    },
    {
     "name": "stdout",
     "output_type": "stream",
     "text": [
      "accuracy: 0.4017857142857143\n",
      "predicted class counts: Counter({0: 65, 1: 42, -1: 5})\n",
      "\n",
      "\n",
      "JKHY accuracy: 0.4017857142857143. Average accuracy:0.44753210272873195\n",
      "Data spread:  Counter({'1': 212, '0': 153, '-1': 83})\n"
     ]
    },
    {
     "name": "stderr",
     "output_type": "stream",
     "text": [
      "/home/seb/anaconda3/lib/python3.7/site-packages/sklearn/ensemble/forest.py:245: FutureWarning: The default value of n_estimators will change from 10 in version 0.20 to 100 in 0.22.\n",
      "  \"10 in version 0.20 to 100 in 0.22.\", FutureWarning)\n"
     ]
    },
    {
     "name": "stdout",
     "output_type": "stream",
     "text": [
      "accuracy: 0.4642857142857143\n",
      "predicted class counts: Counter({1: 72, 0: 35, -1: 5})\n",
      "\n",
      "\n",
      "JEC accuracy: 0.4642857142857143. Average accuracy:0.4475946162046908\n",
      "270\n",
      "Data spread:  Counter({'1': 209, '-1': 134, '0': 105})\n"
     ]
    },
    {
     "name": "stderr",
     "output_type": "stream",
     "text": [
      "/home/seb/anaconda3/lib/python3.7/site-packages/sklearn/ensemble/forest.py:245: FutureWarning: The default value of n_estimators will change from 10 in version 0.20 to 100 in 0.22.\n",
      "  \"10 in version 0.20 to 100 in 0.22.\", FutureWarning)\n"
     ]
    },
    {
     "name": "stdout",
     "output_type": "stream",
     "text": [
      "accuracy: 0.39285714285714285\n",
      "predicted class counts: Counter({1: 74, -1: 28, 0: 10})\n",
      "\n",
      "\n",
      "JBHT accuracy: 0.39285714285714285. Average accuracy:0.44739113117365903\n",
      "Data spread:  Counter({'1': 195, '0': 151, '-1': 102})\n"
     ]
    },
    {
     "name": "stderr",
     "output_type": "stream",
     "text": [
      "/home/seb/anaconda3/lib/python3.7/site-packages/sklearn/ensemble/forest.py:245: FutureWarning: The default value of n_estimators will change from 10 in version 0.20 to 100 in 0.22.\n",
      "  \"10 in version 0.20 to 100 in 0.22.\", FutureWarning)\n"
     ]
    },
    {
     "name": "stdout",
     "output_type": "stream",
     "text": [
      "accuracy: 0.3392857142857143\n",
      "predicted class counts: Counter({1: 60, -1: 26, 0: 26})\n",
      "\n",
      "\n",
      "SJM accuracy: 0.3392857142857143. Average accuracy:0.44699074074074074\n",
      "Data spread:  Counter({'0': 223, '1': 164, '-1': 61})\n"
     ]
    },
    {
     "name": "stderr",
     "output_type": "stream",
     "text": [
      "/home/seb/anaconda3/lib/python3.7/site-packages/sklearn/ensemble/forest.py:245: FutureWarning: The default value of n_estimators will change from 10 in version 0.20 to 100 in 0.22.\n",
      "  \"10 in version 0.20 to 100 in 0.22.\", FutureWarning)\n"
     ]
    },
    {
     "name": "stdout",
     "output_type": "stream",
     "text": [
      "accuracy: 0.49107142857142855\n",
      "predicted class counts: Counter({0: 81, 1: 25, -1: 6})\n",
      "\n",
      "\n",
      "JNJ accuracy: 0.49107142857142855. Average accuracy:0.44715340010542964\n",
      "Data spread:  Counter({'1': 220, '0': 146, '-1': 82})\n"
     ]
    },
    {
     "name": "stderr",
     "output_type": "stream",
     "text": [
      "/home/seb/anaconda3/lib/python3.7/site-packages/sklearn/ensemble/forest.py:245: FutureWarning: The default value of n_estimators will change from 10 in version 0.20 to 100 in 0.22.\n",
      "  \"10 in version 0.20 to 100 in 0.22.\", FutureWarning)\n"
     ]
    },
    {
     "name": "stdout",
     "output_type": "stream",
     "text": [
      "accuracy: 0.4732142857142857\n",
      "predicted class counts: Counter({1: 81, 0: 22, -1: 9})\n",
      "\n",
      "\n",
      "JCI accuracy: 0.4732142857142857. Average accuracy:0.44724921218487396\n",
      "Data spread:  Counter({'1': 192, '0': 163, '-1': 93})\n"
     ]
    },
    {
     "name": "stderr",
     "output_type": "stream",
     "text": [
      "/home/seb/anaconda3/lib/python3.7/site-packages/sklearn/ensemble/forest.py:245: FutureWarning: The default value of n_estimators will change from 10 in version 0.20 to 100 in 0.22.\n",
      "  \"10 in version 0.20 to 100 in 0.22.\", FutureWarning)\n"
     ]
    },
    {
     "name": "stdout",
     "output_type": "stream",
     "text": [
      "accuracy: 0.4107142857142857\n",
      "predicted class counts: Counter({1: 74, 0: 29, -1: 9})\n",
      "\n",
      "\n",
      "JPM accuracy: 0.4107142857142857. Average accuracy:0.44711538461538464\n",
      "Data spread:  Counter({'1': 193, '0': 139, '-1': 116})\n"
     ]
    },
    {
     "name": "stderr",
     "output_type": "stream",
     "text": [
      "/home/seb/anaconda3/lib/python3.7/site-packages/sklearn/ensemble/forest.py:245: FutureWarning: The default value of n_estimators will change from 10 in version 0.20 to 100 in 0.22.\n",
      "  \"10 in version 0.20 to 100 in 0.22.\", FutureWarning)\n"
     ]
    },
    {
     "name": "stdout",
     "output_type": "stream",
     "text": [
      "accuracy: 0.35714285714285715\n",
      "predicted class counts: Counter({1: 62, -1: 26, 0: 24})\n",
      "\n",
      "\n",
      "JNPR accuracy: 0.35714285714285715. Average accuracy:0.44678701772679874\n",
      "Data spread:  Counter({'1': 212, '0': 135, '-1': 101})\n"
     ]
    },
    {
     "name": "stderr",
     "output_type": "stream",
     "text": [
      "/home/seb/anaconda3/lib/python3.7/site-packages/sklearn/ensemble/forest.py:245: FutureWarning: The default value of n_estimators will change from 10 in version 0.20 to 100 in 0.22.\n",
      "  \"10 in version 0.20 to 100 in 0.22.\", FutureWarning)\n"
     ]
    },
    {
     "name": "stdout",
     "output_type": "stream",
     "text": [
      "accuracy: 0.48214285714285715\n",
      "predicted class counts: Counter({1: 102, 0: 8, -1: 2})\n",
      "\n",
      "\n",
      "KSU accuracy: 0.48214285714285715. Average accuracy:0.44691558441558443\n",
      "Data spread:  Counter({'1': 184, '0': 160, '-1': 104})\n"
     ]
    },
    {
     "name": "stderr",
     "output_type": "stream",
     "text": [
      "/home/seb/anaconda3/lib/python3.7/site-packages/sklearn/ensemble/forest.py:245: FutureWarning: The default value of n_estimators will change from 10 in version 0.20 to 100 in 0.22.\n",
      "  \"10 in version 0.20 to 100 in 0.22.\", FutureWarning)\n"
     ]
    },
    {
     "name": "stdout",
     "output_type": "stream",
     "text": [
      "accuracy: 0.41964285714285715\n",
      "predicted class counts: Counter({0: 47, 1: 43, -1: 22})\n",
      "\n",
      "\n",
      "K accuracy: 0.41964285714285715. Average accuracy:0.4468167701863354\n",
      "Data spread:  Counter({'1': 201, '0': 125, '-1': 122})\n"
     ]
    },
    {
     "name": "stderr",
     "output_type": "stream",
     "text": [
      "/home/seb/anaconda3/lib/python3.7/site-packages/sklearn/ensemble/forest.py:245: FutureWarning: The default value of n_estimators will change from 10 in version 0.20 to 100 in 0.22.\n",
      "  \"10 in version 0.20 to 100 in 0.22.\", FutureWarning)\n"
     ]
    },
    {
     "name": "stdout",
     "output_type": "stream",
     "text": [
      "accuracy: 0.4375\n",
      "predicted class counts: Counter({1: 78, -1: 19, 0: 15})\n",
      "\n",
      "\n",
      "KEY accuracy: 0.4375. Average accuracy:0.44678313563692623\n",
      "Data spread:  Counter({'1': 232, '-1': 116, '0': 100})\n"
     ]
    },
    {
     "name": "stderr",
     "output_type": "stream",
     "text": [
      "/home/seb/anaconda3/lib/python3.7/site-packages/sklearn/ensemble/forest.py:245: FutureWarning: The default value of n_estimators will change from 10 in version 0.20 to 100 in 0.22.\n",
      "  \"10 in version 0.20 to 100 in 0.22.\", FutureWarning)\n"
     ]
    },
    {
     "name": "stdout",
     "output_type": "stream",
     "text": [
      "accuracy: 0.41964285714285715\n",
      "predicted class counts: Counter({1: 90, -1: 16, 0: 6})\n",
      "\n",
      "\n",
      "KEYS accuracy: 0.41964285714285715. Average accuracy:0.44668550873586843\n",
      "280\n",
      "Data spread:  Counter({'1': 195, '0': 174, '-1': 79})\n"
     ]
    },
    {
     "name": "stderr",
     "output_type": "stream",
     "text": [
      "/home/seb/anaconda3/lib/python3.7/site-packages/sklearn/ensemble/forest.py:245: FutureWarning: The default value of n_estimators will change from 10 in version 0.20 to 100 in 0.22.\n",
      "  \"10 in version 0.20 to 100 in 0.22.\", FutureWarning)\n"
     ]
    },
    {
     "name": "stdout",
     "output_type": "stream",
     "text": [
      "accuracy: 0.44642857142857145\n",
      "predicted class counts: Counter({0: 58, 1: 38, -1: 16})\n",
      "\n",
      "\n",
      "KMB accuracy: 0.44642857142857145. Average accuracy:0.4466845878136201\n",
      "Data spread:  Counter({'1': 208, '0': 133, '-1': 107})\n"
     ]
    },
    {
     "name": "stderr",
     "output_type": "stream",
     "text": [
      "/home/seb/anaconda3/lib/python3.7/site-packages/sklearn/ensemble/forest.py:245: FutureWarning: The default value of n_estimators will change from 10 in version 0.20 to 100 in 0.22.\n",
      "  \"10 in version 0.20 to 100 in 0.22.\", FutureWarning)\n"
     ]
    },
    {
     "name": "stdout",
     "output_type": "stream",
     "text": [
      "accuracy: 0.375\n",
      "predicted class counts: Counter({1: 69, 0: 25, -1: 18})\n",
      "\n",
      "\n",
      "KIM accuracy: 0.375. Average accuracy:0.44642857142857145\n",
      "Data spread:  Counter({'1': 196, '0': 177, '-1': 75})\n"
     ]
    },
    {
     "name": "stderr",
     "output_type": "stream",
     "text": [
      "/home/seb/anaconda3/lib/python3.7/site-packages/sklearn/ensemble/forest.py:245: FutureWarning: The default value of n_estimators will change from 10 in version 0.20 to 100 in 0.22.\n",
      "  \"10 in version 0.20 to 100 in 0.22.\", FutureWarning)\n"
     ]
    },
    {
     "name": "stdout",
     "output_type": "stream",
     "text": [
      "accuracy: 0.33035714285714285\n",
      "predicted class counts: Counter({0: 60, 1: 41, -1: 11})\n",
      "\n",
      "\n",
      "KMI accuracy: 0.33035714285714285. Average accuracy:0.4460155058464667\n",
      "Data spread:  Counter({'1': 244, '-1': 131, '0': 73})\n"
     ]
    },
    {
     "name": "stderr",
     "output_type": "stream",
     "text": [
      "/home/seb/anaconda3/lib/python3.7/site-packages/sklearn/ensemble/forest.py:245: FutureWarning: The default value of n_estimators will change from 10 in version 0.20 to 100 in 0.22.\n",
      "  \"10 in version 0.20 to 100 in 0.22.\", FutureWarning)\n"
     ]
    },
    {
     "name": "stdout",
     "output_type": "stream",
     "text": [
      "accuracy: 0.49107142857142855\n",
      "predicted class counts: Counter({1: 101, -1: 10, 0: 1})\n",
      "\n",
      "\n",
      "KLAC accuracy: 0.49107142857142855. Average accuracy:0.4461752786220871\n",
      "Data spread:  Counter({'1': 228, '-1': 164, '0': 56})\n"
     ]
    },
    {
     "name": "stderr",
     "output_type": "stream",
     "text": [
      "/home/seb/anaconda3/lib/python3.7/site-packages/sklearn/ensemble/forest.py:245: FutureWarning: The default value of n_estimators will change from 10 in version 0.20 to 100 in 0.22.\n",
      "  \"10 in version 0.20 to 100 in 0.22.\", FutureWarning)\n"
     ]
    },
    {
     "name": "stdout",
     "output_type": "stream",
     "text": [
      "accuracy: 0.5178571428571429\n",
      "predicted class counts: Counter({1: 83, -1: 29})\n",
      "\n",
      "\n",
      "KSS accuracy: 0.5178571428571429. Average accuracy:0.44642857142857145\n",
      "Data spread:  Counter({'0': 160, '1': 157, '-1': 131})\n"
     ]
    },
    {
     "name": "stderr",
     "output_type": "stream",
     "text": [
      "/home/seb/anaconda3/lib/python3.7/site-packages/sklearn/ensemble/forest.py:245: FutureWarning: The default value of n_estimators will change from 10 in version 0.20 to 100 in 0.22.\n",
      "  \"10 in version 0.20 to 100 in 0.22.\", FutureWarning)\n"
     ]
    },
    {
     "name": "stdout",
     "output_type": "stream",
     "text": [
      "accuracy: 0.30357142857142855\n",
      "predicted class counts: Counter({-1: 48, 0: 42, 1: 22})\n",
      "\n",
      "\n",
      "KHC accuracy: 0.30357142857142855. Average accuracy:0.4459255533199195\n",
      "Data spread:  Counter({'1': 221, '0': 115, '-1': 112})\n"
     ]
    },
    {
     "name": "stderr",
     "output_type": "stream",
     "text": [
      "/home/seb/anaconda3/lib/python3.7/site-packages/sklearn/ensemble/forest.py:245: FutureWarning: The default value of n_estimators will change from 10 in version 0.20 to 100 in 0.22.\n",
      "  \"10 in version 0.20 to 100 in 0.22.\", FutureWarning)\n"
     ]
    },
    {
     "name": "stdout",
     "output_type": "stream",
     "text": [
      "accuracy: 0.48214285714285715\n",
      "predicted class counts: Counter({1: 84, -1: 23, 0: 5})\n",
      "\n",
      "\n",
      "KR accuracy: 0.48214285714285715. Average accuracy:0.44605263157894737\n",
      "Data spread:  Counter({'1': 210, '-1': 189, '0': 49})\n"
     ]
    },
    {
     "name": "stderr",
     "output_type": "stream",
     "text": [
      "/home/seb/anaconda3/lib/python3.7/site-packages/sklearn/ensemble/forest.py:245: FutureWarning: The default value of n_estimators will change from 10 in version 0.20 to 100 in 0.22.\n",
      "  \"10 in version 0.20 to 100 in 0.22.\", FutureWarning)\n"
     ]
    },
    {
     "name": "stdout",
     "output_type": "stream",
     "text": [
      "accuracy: 0.4732142857142857\n",
      "predicted class counts: Counter({1: 57, -1: 55})\n",
      "\n",
      "\n",
      "LB accuracy: 0.4732142857142857. Average accuracy:0.44614760239760237\n",
      "Data spread:  Counter({'1': 214, '0': 159, '-1': 75})\n"
     ]
    },
    {
     "name": "stderr",
     "output_type": "stream",
     "text": [
      "/home/seb/anaconda3/lib/python3.7/site-packages/sklearn/ensemble/forest.py:245: FutureWarning: The default value of n_estimators will change from 10 in version 0.20 to 100 in 0.22.\n",
      "  \"10 in version 0.20 to 100 in 0.22.\", FutureWarning)\n"
     ]
    },
    {
     "name": "stdout",
     "output_type": "stream",
     "text": [
      "accuracy: 0.45535714285714285\n",
      "predicted class counts: Counter({1: 61, 0: 44, -1: 7})\n",
      "\n",
      "\n",
      "LHX accuracy: 0.45535714285714285. Average accuracy:0.44617969138875063\n",
      "Data spread:  Counter({'1': 199, '0': 169, '-1': 80})\n"
     ]
    },
    {
     "name": "stderr",
     "output_type": "stream",
     "text": [
      "/home/seb/anaconda3/lib/python3.7/site-packages/sklearn/ensemble/forest.py:245: FutureWarning: The default value of n_estimators will change from 10 in version 0.20 to 100 in 0.22.\n",
      "  \"10 in version 0.20 to 100 in 0.22.\", FutureWarning)\n"
     ]
    },
    {
     "name": "stdout",
     "output_type": "stream",
     "text": [
      "accuracy: 0.4107142857142857\n",
      "predicted class counts: Counter({1: 54, 0: 47, -1: 11})\n",
      "\n",
      "\n",
      "LH accuracy: 0.4107142857142857. Average accuracy:0.4460565476190476\n",
      "290\n",
      "Data spread:  Counter({'1': 232, '-1': 157, '0': 59})\n"
     ]
    },
    {
     "name": "stderr",
     "output_type": "stream",
     "text": [
      "/home/seb/anaconda3/lib/python3.7/site-packages/sklearn/ensemble/forest.py:245: FutureWarning: The default value of n_estimators will change from 10 in version 0.20 to 100 in 0.22.\n",
      "  \"10 in version 0.20 to 100 in 0.22.\", FutureWarning)\n"
     ]
    },
    {
     "name": "stdout",
     "output_type": "stream",
     "text": [
      "accuracy: 0.3392857142857143\n",
      "predicted class counts: Counter({1: 67, -1: 45})\n",
      "\n",
      "\n",
      "LRCX accuracy: 0.3392857142857143. Average accuracy:0.44568709836875925\n",
      "Data spread:  Counter({'1': 217, '0': 141, '-1': 90})\n"
     ]
    },
    {
     "name": "stderr",
     "output_type": "stream",
     "text": [
      "/home/seb/anaconda3/lib/python3.7/site-packages/sklearn/ensemble/forest.py:245: FutureWarning: The default value of n_estimators will change from 10 in version 0.20 to 100 in 0.22.\n",
      "  \"10 in version 0.20 to 100 in 0.22.\", FutureWarning)\n"
     ]
    },
    {
     "name": "stdout",
     "output_type": "stream",
     "text": [
      "accuracy: 0.4375\n",
      "predicted class counts: Counter({1: 73, 0: 28, -1: 11})\n",
      "\n",
      "\n",
      "LW accuracy: 0.4375. Average accuracy:0.4456588669950739\n",
      "Data spread:  Counter({'1': 202, '-1': 139, '0': 107})\n"
     ]
    },
    {
     "name": "stderr",
     "output_type": "stream",
     "text": [
      "/home/seb/anaconda3/lib/python3.7/site-packages/sklearn/ensemble/forest.py:245: FutureWarning: The default value of n_estimators will change from 10 in version 0.20 to 100 in 0.22.\n",
      "  \"10 in version 0.20 to 100 in 0.22.\", FutureWarning)\n"
     ]
    },
    {
     "name": "stdout",
     "output_type": "stream",
     "text": [
      "accuracy: 0.4017857142857143\n",
      "predicted class counts: Counter({1: 84, -1: 27, 0: 1})\n",
      "\n",
      "\n",
      "LVS accuracy: 0.4017857142857143. Average accuracy:0.44550810014727543\n",
      "Data spread:  Counter({'1': 173, '0': 144, '-1': 131})\n"
     ]
    },
    {
     "name": "stderr",
     "output_type": "stream",
     "text": [
      "/home/seb/anaconda3/lib/python3.7/site-packages/sklearn/ensemble/forest.py:245: FutureWarning: The default value of n_estimators will change from 10 in version 0.20 to 100 in 0.22.\n",
      "  \"10 in version 0.20 to 100 in 0.22.\", FutureWarning)\n"
     ]
    },
    {
     "name": "stdout",
     "output_type": "stream",
     "text": [
      "accuracy: 0.3392857142857143\n",
      "predicted class counts: Counter({0: 64, 1: 25, -1: 23})\n",
      "\n",
      "\n",
      "LEG accuracy: 0.3392857142857143. Average accuracy:0.44514432485322897\n",
      "Data spread:  Counter({'1': 204, '0': 158, '-1': 86})\n"
     ]
    },
    {
     "name": "stderr",
     "output_type": "stream",
     "text": [
      "/home/seb/anaconda3/lib/python3.7/site-packages/sklearn/ensemble/forest.py:245: FutureWarning: The default value of n_estimators will change from 10 in version 0.20 to 100 in 0.22.\n",
      "  \"10 in version 0.20 to 100 in 0.22.\", FutureWarning)\n"
     ]
    },
    {
     "name": "stdout",
     "output_type": "stream",
     "text": [
      "accuracy: 0.4017857142857143\n",
      "predicted class counts: Counter({1: 72, 0: 32, -1: 8})\n",
      "\n",
      "\n",
      "LDOS accuracy: 0.4017857142857143. Average accuracy:0.4449963432471965\n",
      "Data spread:  Counter({'1': 219, '-1': 144, '0': 85})\n"
     ]
    },
    {
     "name": "stderr",
     "output_type": "stream",
     "text": [
      "/home/seb/anaconda3/lib/python3.7/site-packages/sklearn/ensemble/forest.py:245: FutureWarning: The default value of n_estimators will change from 10 in version 0.20 to 100 in 0.22.\n",
      "  \"10 in version 0.20 to 100 in 0.22.\", FutureWarning)\n"
     ]
    },
    {
     "name": "stdout",
     "output_type": "stream",
     "text": [
      "accuracy: 0.4017857142857143\n",
      "predicted class counts: Counter({1: 83, -1: 29})\n",
      "\n",
      "\n",
      "LEN accuracy: 0.4017857142857143. Average accuracy:0.4448493683187561\n",
      "Data spread:  Counter({'1': 220, '0': 151, '-1': 77})\n"
     ]
    },
    {
     "name": "stderr",
     "output_type": "stream",
     "text": [
      "/home/seb/anaconda3/lib/python3.7/site-packages/sklearn/ensemble/forest.py:245: FutureWarning: The default value of n_estimators will change from 10 in version 0.20 to 100 in 0.22.\n",
      "  \"10 in version 0.20 to 100 in 0.22.\", FutureWarning)\n"
     ]
    },
    {
     "name": "stdout",
     "output_type": "stream",
     "text": [
      "accuracy: 0.42857142857142855\n",
      "predicted class counts: Counter({1: 61, 0: 37, -1: 14})\n",
      "\n",
      "\n",
      "LLY accuracy: 0.42857142857142855. Average accuracy:0.44479418886198546\n",
      "Data spread:  Counter({'1': 207, '-1': 152, '0': 89})\n"
     ]
    },
    {
     "name": "stderr",
     "output_type": "stream",
     "text": [
      "/home/seb/anaconda3/lib/python3.7/site-packages/sklearn/ensemble/forest.py:245: FutureWarning: The default value of n_estimators will change from 10 in version 0.20 to 100 in 0.22.\n",
      "  \"10 in version 0.20 to 100 in 0.22.\", FutureWarning)\n"
     ]
    },
    {
     "name": "stdout",
     "output_type": "stream",
     "text": [
      "accuracy: 0.4732142857142857\n",
      "predicted class counts: Counter({1: 71, -1: 37, 0: 4})\n",
      "\n",
      "\n",
      "LNC accuracy: 0.4732142857142857. Average accuracy:0.4448902027027027\n",
      "Data spread:  Counter({'1': 191, '0': 172, '-1': 85})\n"
     ]
    },
    {
     "name": "stderr",
     "output_type": "stream",
     "text": [
      "/home/seb/anaconda3/lib/python3.7/site-packages/sklearn/ensemble/forest.py:245: FutureWarning: The default value of n_estimators will change from 10 in version 0.20 to 100 in 0.22.\n",
      "  \"10 in version 0.20 to 100 in 0.22.\", FutureWarning)\n"
     ]
    },
    {
     "name": "stdout",
     "output_type": "stream",
     "text": [
      "accuracy: 0.42857142857142855\n",
      "predicted class counts: Counter({1: 59, 0: 49, -1: 4})\n",
      "\n",
      "\n",
      "LIN accuracy: 0.42857142857142855. Average accuracy:0.44483525733525736\n",
      "Data spread:  Counter({'1': 204, '-1': 129, '0': 115})\n"
     ]
    },
    {
     "name": "stderr",
     "output_type": "stream",
     "text": [
      "/home/seb/anaconda3/lib/python3.7/site-packages/sklearn/ensemble/forest.py:245: FutureWarning: The default value of n_estimators will change from 10 in version 0.20 to 100 in 0.22.\n",
      "  \"10 in version 0.20 to 100 in 0.22.\", FutureWarning)\n"
     ]
    },
    {
     "name": "stdout",
     "output_type": "stream",
     "text": [
      "accuracy: 0.4017857142857143\n",
      "predicted class counts: Counter({1: 79, -1: 28, 0: 5})\n",
      "\n",
      "\n",
      "LKQ accuracy: 0.4017857142857143. Average accuracy:0.4446907957813998\n",
      "300\n",
      "Data spread:  Counter({'1': 211, '0': 170, '-1': 67})\n"
     ]
    },
    {
     "name": "stderr",
     "output_type": "stream",
     "text": [
      "/home/seb/anaconda3/lib/python3.7/site-packages/sklearn/ensemble/forest.py:245: FutureWarning: The default value of n_estimators will change from 10 in version 0.20 to 100 in 0.22.\n",
      "  \"10 in version 0.20 to 100 in 0.22.\", FutureWarning)\n"
     ]
    },
    {
     "name": "stdout",
     "output_type": "stream",
     "text": [
      "accuracy: 0.48214285714285715\n",
      "predicted class counts: Counter({1: 83, 0: 27, -1: 2})\n",
      "\n",
      "\n",
      "LMT accuracy: 0.48214285714285715. Average accuracy:0.44481605351170567\n",
      "Data spread:  Counter({'0': 201, '1': 160, '-1': 87})\n"
     ]
    },
    {
     "name": "stderr",
     "output_type": "stream",
     "text": [
      "/home/seb/anaconda3/lib/python3.7/site-packages/sklearn/ensemble/forest.py:245: FutureWarning: The default value of n_estimators will change from 10 in version 0.20 to 100 in 0.22.\n",
      "  \"10 in version 0.20 to 100 in 0.22.\", FutureWarning)\n"
     ]
    },
    {
     "name": "stdout",
     "output_type": "stream",
     "text": [
      "accuracy: 0.49107142857142855\n",
      "predicted class counts: Counter({0: 73, 1: 32, -1: 7})\n",
      "\n",
      "\n",
      "L accuracy: 0.49107142857142855. Average accuracy:0.4449702380952381\n",
      "Data spread:  Counter({'1': 226, '0': 115, '-1': 107})\n"
     ]
    },
    {
     "name": "stderr",
     "output_type": "stream",
     "text": [
      "/home/seb/anaconda3/lib/python3.7/site-packages/sklearn/ensemble/forest.py:245: FutureWarning: The default value of n_estimators will change from 10 in version 0.20 to 100 in 0.22.\n",
      "  \"10 in version 0.20 to 100 in 0.22.\", FutureWarning)\n"
     ]
    },
    {
     "name": "stdout",
     "output_type": "stream",
     "text": [
      "accuracy: 0.44642857142857145\n",
      "predicted class counts: Counter({1: 101, 0: 6, -1: 5})\n",
      "\n",
      "\n",
      "LOW accuracy: 0.44642857142857145. Average accuracy:0.4449750830564784\n",
      "Data spread:  Counter({'1': 197, '-1': 154, '0': 97})\n"
     ]
    },
    {
     "name": "stderr",
     "output_type": "stream",
     "text": [
      "/home/seb/anaconda3/lib/python3.7/site-packages/sklearn/ensemble/forest.py:245: FutureWarning: The default value of n_estimators will change from 10 in version 0.20 to 100 in 0.22.\n",
      "  \"10 in version 0.20 to 100 in 0.22.\", FutureWarning)\n"
     ]
    },
    {
     "name": "stdout",
     "output_type": "stream",
     "text": [
      "accuracy: 0.4375\n",
      "predicted class counts: Counter({1: 69, -1: 40, 0: 3})\n",
      "\n",
      "\n",
      "LYB accuracy: 0.4375. Average accuracy:0.4449503311258278\n",
      "Data spread:  Counter({'1': 174, '0': 166, '-1': 108})\n"
     ]
    },
    {
     "name": "stderr",
     "output_type": "stream",
     "text": [
      "/home/seb/anaconda3/lib/python3.7/site-packages/sklearn/ensemble/forest.py:245: FutureWarning: The default value of n_estimators will change from 10 in version 0.20 to 100 in 0.22.\n",
      "  \"10 in version 0.20 to 100 in 0.22.\", FutureWarning)\n"
     ]
    },
    {
     "name": "stdout",
     "output_type": "stream",
     "text": [
      "accuracy: 0.36607142857142855\n",
      "predicted class counts: Counter({1: 57, 0: 42, -1: 13})\n",
      "\n",
      "\n",
      "MTB accuracy: 0.36607142857142855. Average accuracy:0.44469000471475717\n",
      "Data spread:  Counter({'-1': 150, '1': 150, '0': 148})\n"
     ]
    },
    {
     "name": "stderr",
     "output_type": "stream",
     "text": [
      "/home/seb/anaconda3/lib/python3.7/site-packages/sklearn/ensemble/forest.py:245: FutureWarning: The default value of n_estimators will change from 10 in version 0.20 to 100 in 0.22.\n",
      "  \"10 in version 0.20 to 100 in 0.22.\", FutureWarning)\n"
     ]
    },
    {
     "name": "stdout",
     "output_type": "stream",
     "text": [
      "accuracy: 0.375\n",
      "predicted class counts: Counter({-1: 75, 0: 22, 1: 15})\n",
      "\n",
      "\n",
      "MAC accuracy: 0.375. Average accuracy:0.4444607612781955\n",
      "Data spread:  Counter({'1': 220, '-1': 168, '0': 60})\n"
     ]
    },
    {
     "name": "stderr",
     "output_type": "stream",
     "text": [
      "/home/seb/anaconda3/lib/python3.7/site-packages/sklearn/ensemble/forest.py:245: FutureWarning: The default value of n_estimators will change from 10 in version 0.20 to 100 in 0.22.\n",
      "  \"10 in version 0.20 to 100 in 0.22.\", FutureWarning)\n"
     ]
    },
    {
     "name": "stdout",
     "output_type": "stream",
     "text": [
      "accuracy: 0.48214285714285715\n",
      "predicted class counts: Counter({1: 67, -1: 42, 0: 3})\n",
      "\n",
      "\n",
      "M accuracy: 0.48214285714285715. Average accuracy:0.44458430913348945\n",
      "Data spread:  Counter({'1': 245, '-1': 159, '0': 44})\n"
     ]
    },
    {
     "name": "stderr",
     "output_type": "stream",
     "text": [
      "/home/seb/anaconda3/lib/python3.7/site-packages/sklearn/ensemble/forest.py:245: FutureWarning: The default value of n_estimators will change from 10 in version 0.20 to 100 in 0.22.\n",
      "  \"10 in version 0.20 to 100 in 0.22.\", FutureWarning)\n"
     ]
    },
    {
     "name": "stdout",
     "output_type": "stream",
     "text": [
      "accuracy: 0.6160714285714286\n",
      "predicted class counts: Counter({1: 92, -1: 19, 0: 1})\n",
      "\n",
      "\n",
      "MRO accuracy: 0.6160714285714286. Average accuracy:0.44514472455648924\n",
      "Data spread:  Counter({'1': 229, '-1': 152, '0': 67})\n"
     ]
    },
    {
     "name": "stderr",
     "output_type": "stream",
     "text": [
      "/home/seb/anaconda3/lib/python3.7/site-packages/sklearn/ensemble/forest.py:245: FutureWarning: The default value of n_estimators will change from 10 in version 0.20 to 100 in 0.22.\n",
      "  \"10 in version 0.20 to 100 in 0.22.\", FutureWarning)\n"
     ]
    },
    {
     "name": "stdout",
     "output_type": "stream",
     "text": [
      "accuracy: 0.42857142857142855\n",
      "predicted class counts: Counter({1: 98, -1: 13, 0: 1})\n",
      "\n",
      "\n",
      "MPC accuracy: 0.42857142857142855. Average accuracy:0.4450907398790135\n",
      "Data spread:  Counter({'1': 256, '-1': 98, '0': 94})\n"
     ]
    },
    {
     "name": "stderr",
     "output_type": "stream",
     "text": [
      "/home/seb/anaconda3/lib/python3.7/site-packages/sklearn/ensemble/forest.py:245: FutureWarning: The default value of n_estimators will change from 10 in version 0.20 to 100 in 0.22.\n",
      "  \"10 in version 0.20 to 100 in 0.22.\", FutureWarning)\n"
     ]
    },
    {
     "name": "stdout",
     "output_type": "stream",
     "text": [
      "accuracy: 0.4642857142857143\n",
      "predicted class counts: Counter({1: 106, -1: 5, 0: 1})\n",
      "\n",
      "\n",
      "MKTX accuracy: 0.4642857142857143. Average accuracy:0.4451530612244898\n",
      "310\n",
      "Data spread:  Counter({'1': 201, '-1': 128, '0': 119})\n"
     ]
    },
    {
     "name": "stderr",
     "output_type": "stream",
     "text": [
      "/home/seb/anaconda3/lib/python3.7/site-packages/sklearn/ensemble/forest.py:245: FutureWarning: The default value of n_estimators will change from 10 in version 0.20 to 100 in 0.22.\n",
      "  \"10 in version 0.20 to 100 in 0.22.\", FutureWarning)\n"
     ]
    },
    {
     "name": "stdout",
     "output_type": "stream",
     "text": [
      "accuracy: 0.4107142857142857\n",
      "predicted class counts: Counter({1: 80, 0: 17, -1: 15})\n",
      "\n",
      "\n",
      "MAR accuracy: 0.4107142857142857. Average accuracy:0.44504160887656036\n",
      "Data spread:  Counter({'0': 214, '1': 169, '-1': 65})\n"
     ]
    },
    {
     "name": "stderr",
     "output_type": "stream",
     "text": [
      "/home/seb/anaconda3/lib/python3.7/site-packages/sklearn/ensemble/forest.py:245: FutureWarning: The default value of n_estimators will change from 10 in version 0.20 to 100 in 0.22.\n",
      "  \"10 in version 0.20 to 100 in 0.22.\", FutureWarning)\n"
     ]
    },
    {
     "name": "stdout",
     "output_type": "stream",
     "text": [
      "accuracy: 0.4017857142857143\n",
      "predicted class counts: Counter({0: 59, 1: 44, -1: 9})\n",
      "\n",
      "\n",
      "MMC accuracy: 0.4017857142857143. Average accuracy:0.4449020737327189\n",
      "Data spread:  Counter({'1': 206, '0': 141, '-1': 101})\n"
     ]
    },
    {
     "name": "stderr",
     "output_type": "stream",
     "text": [
      "/home/seb/anaconda3/lib/python3.7/site-packages/sklearn/ensemble/forest.py:245: FutureWarning: The default value of n_estimators will change from 10 in version 0.20 to 100 in 0.22.\n",
      "  \"10 in version 0.20 to 100 in 0.22.\", FutureWarning)\n"
     ]
    },
    {
     "name": "stdout",
     "output_type": "stream",
     "text": [
      "accuracy: 0.39285714285714285\n",
      "predicted class counts: Counter({1: 65, 0: 27, -1: 20})\n",
      "\n",
      "\n",
      "MLM accuracy: 0.39285714285714285. Average accuracy:0.4447347266881029\n",
      "Data spread:  Counter({'1': 181, '0': 149, '-1': 118})\n"
     ]
    },
    {
     "name": "stderr",
     "output_type": "stream",
     "text": [
      "/home/seb/anaconda3/lib/python3.7/site-packages/sklearn/ensemble/forest.py:245: FutureWarning: The default value of n_estimators will change from 10 in version 0.20 to 100 in 0.22.\n",
      "  \"10 in version 0.20 to 100 in 0.22.\", FutureWarning)\n"
     ]
    },
    {
     "name": "stdout",
     "output_type": "stream",
     "text": [
      "accuracy: 0.35714285714285715\n",
      "predicted class counts: Counter({1: 70, 0: 32, -1: 10})\n",
      "\n",
      "\n",
      "MAS accuracy: 0.35714285714285715. Average accuracy:0.4444539835164835\n",
      "Data spread:  Counter({'1': 231, '0': 137, '-1': 80})\n"
     ]
    },
    {
     "name": "stderr",
     "output_type": "stream",
     "text": [
      "/home/seb/anaconda3/lib/python3.7/site-packages/sklearn/ensemble/forest.py:245: FutureWarning: The default value of n_estimators will change from 10 in version 0.20 to 100 in 0.22.\n",
      "  \"10 in version 0.20 to 100 in 0.22.\", FutureWarning)\n"
     ]
    },
    {
     "name": "stdout",
     "output_type": "stream",
     "text": [
      "accuracy: 0.5178571428571429\n",
      "predicted class counts: Counter({1: 90, 0: 20, -1: 2})\n",
      "\n",
      "\n",
      "MA accuracy: 0.5178571428571429. Average accuracy:0.4446884984025559\n",
      "Data spread:  Counter({'1': 212, '0': 183, '-1': 53})\n"
     ]
    },
    {
     "name": "stderr",
     "output_type": "stream",
     "text": [
      "/home/seb/anaconda3/lib/python3.7/site-packages/sklearn/ensemble/forest.py:245: FutureWarning: The default value of n_estimators will change from 10 in version 0.20 to 100 in 0.22.\n",
      "  \"10 in version 0.20 to 100 in 0.22.\", FutureWarning)\n"
     ]
    },
    {
     "name": "stdout",
     "output_type": "stream",
     "text": [
      "accuracy: 0.39285714285714285\n",
      "predicted class counts: Counter({0: 62, 1: 49, -1: 1})\n",
      "\n",
      "\n",
      "MKC accuracy: 0.39285714285714285. Average accuracy:0.4445234303912648\n",
      "Data spread:  Counter({'1': 225, '-1': 129, '0': 94})\n"
     ]
    },
    {
     "name": "stderr",
     "output_type": "stream",
     "text": [
      "/home/seb/anaconda3/lib/python3.7/site-packages/sklearn/ensemble/forest.py:245: FutureWarning: The default value of n_estimators will change from 10 in version 0.20 to 100 in 0.22.\n",
      "  \"10 in version 0.20 to 100 in 0.22.\", FutureWarning)\n"
     ]
    },
    {
     "name": "stdout",
     "output_type": "stream",
     "text": [
      "accuracy: 0.4375\n",
      "predicted class counts: Counter({1: 80, -1: 27, 0: 5})\n",
      "\n",
      "\n",
      "MXIM accuracy: 0.4375. Average accuracy:0.4445011337868481\n",
      "Data spread:  Counter({'0': 234, '1': 157, '-1': 57})\n"
     ]
    },
    {
     "name": "stderr",
     "output_type": "stream",
     "text": [
      "/home/seb/anaconda3/lib/python3.7/site-packages/sklearn/ensemble/forest.py:245: FutureWarning: The default value of n_estimators will change from 10 in version 0.20 to 100 in 0.22.\n",
      "  \"10 in version 0.20 to 100 in 0.22.\", FutureWarning)\n"
     ]
    },
    {
     "name": "stdout",
     "output_type": "stream",
     "text": [
      "accuracy: 0.5089285714285714\n",
      "predicted class counts: Counter({0: 94, 1: 15, -1: 3})\n",
      "\n",
      "\n",
      "MCD accuracy: 0.5089285714285714. Average accuracy:0.44470501808318263\n",
      "Data spread:  Counter({'1': 235, '-1': 128, '0': 85})\n"
     ]
    },
    {
     "name": "stderr",
     "output_type": "stream",
     "text": [
      "/home/seb/anaconda3/lib/python3.7/site-packages/sklearn/ensemble/forest.py:245: FutureWarning: The default value of n_estimators will change from 10 in version 0.20 to 100 in 0.22.\n",
      "  \"10 in version 0.20 to 100 in 0.22.\", FutureWarning)\n"
     ]
    },
    {
     "name": "stdout",
     "output_type": "stream",
     "text": [
      "accuracy: 0.49107142857142855\n",
      "predicted class counts: Counter({1: 94, -1: 17, 0: 1})\n",
      "\n",
      "\n",
      "MCK accuracy: 0.49107142857142855. Average accuracy:0.44485128436232535\n",
      "Data spread:  Counter({'0': 220, '1': 168, '-1': 60})\n"
     ]
    },
    {
     "name": "stderr",
     "output_type": "stream",
     "text": [
      "/home/seb/anaconda3/lib/python3.7/site-packages/sklearn/ensemble/forest.py:245: FutureWarning: The default value of n_estimators will change from 10 in version 0.20 to 100 in 0.22.\n",
      "  \"10 in version 0.20 to 100 in 0.22.\", FutureWarning)\n"
     ]
    },
    {
     "name": "stdout",
     "output_type": "stream",
     "text": [
      "accuracy: 0.5\n",
      "predicted class counts: Counter({0: 93, 1: 17, -1: 2})\n",
      "\n",
      "\n",
      "MDT accuracy: 0.5. Average accuracy:0.4450247079964061\n",
      "320\n",
      "Data spread:  Counter({'1': 207, '0': 182, '-1': 59})\n"
     ]
    },
    {
     "name": "stderr",
     "output_type": "stream",
     "text": [
      "/home/seb/anaconda3/lib/python3.7/site-packages/sklearn/ensemble/forest.py:245: FutureWarning: The default value of n_estimators will change from 10 in version 0.20 to 100 in 0.22.\n",
      "  \"10 in version 0.20 to 100 in 0.22.\", FutureWarning)\n"
     ]
    },
    {
     "name": "stdout",
     "output_type": "stream",
     "text": [
      "accuracy: 0.45535714285714285\n",
      "predicted class counts: Counter({0: 57, 1: 45, -1: 10})\n",
      "\n",
      "\n",
      "MRK accuracy: 0.45535714285714285. Average accuracy:0.44505709807433946\n",
      "Data spread:  Counter({'1': 200, '0': 136, '-1': 112})\n"
     ]
    },
    {
     "name": "stderr",
     "output_type": "stream",
     "text": [
      "/home/seb/anaconda3/lib/python3.7/site-packages/sklearn/ensemble/forest.py:245: FutureWarning: The default value of n_estimators will change from 10 in version 0.20 to 100 in 0.22.\n",
      "  \"10 in version 0.20 to 100 in 0.22.\", FutureWarning)\n"
     ]
    },
    {
     "name": "stdout",
     "output_type": "stream",
     "text": [
      "accuracy: 0.375\n",
      "predicted class counts: Counter({1: 80, 0: 18, -1: 14})\n",
      "\n",
      "\n",
      "MET accuracy: 0.375. Average accuracy:0.44483816964285716\n",
      "Data spread:  Counter({'1': 228, '-1': 119, '0': 101})\n"
     ]
    },
    {
     "name": "stderr",
     "output_type": "stream",
     "text": [
      "/home/seb/anaconda3/lib/python3.7/site-packages/sklearn/ensemble/forest.py:245: FutureWarning: The default value of n_estimators will change from 10 in version 0.20 to 100 in 0.22.\n",
      "  \"10 in version 0.20 to 100 in 0.22.\", FutureWarning)\n"
     ]
    },
    {
     "name": "stdout",
     "output_type": "stream",
     "text": [
      "accuracy: 0.45535714285714285\n",
      "predicted class counts: Counter({1: 103, -1: 7, 0: 2})\n",
      "\n",
      "\n",
      "MTD accuracy: 0.45535714285714285. Average accuracy:0.44487093902981756\n",
      "Data spread:  Counter({'1': 221, '-1': 137, '0': 90})\n"
     ]
    },
    {
     "name": "stderr",
     "output_type": "stream",
     "text": [
      "/home/seb/anaconda3/lib/python3.7/site-packages/sklearn/ensemble/forest.py:245: FutureWarning: The default value of n_estimators will change from 10 in version 0.20 to 100 in 0.22.\n",
      "  \"10 in version 0.20 to 100 in 0.22.\", FutureWarning)\n"
     ]
    },
    {
     "name": "stdout",
     "output_type": "stream",
     "text": [
      "accuracy: 0.4732142857142857\n",
      "predicted class counts: Counter({1: 93, -1: 18, 0: 1})\n",
      "\n",
      "\n",
      "MGM accuracy: 0.4732142857142857. Average accuracy:0.4449589618456078\n",
      "Data spread:  Counter({'1': 239, '-1': 140, '0': 69})\n"
     ]
    },
    {
     "name": "stderr",
     "output_type": "stream",
     "text": [
      "/home/seb/anaconda3/lib/python3.7/site-packages/sklearn/ensemble/forest.py:245: FutureWarning: The default value of n_estimators will change from 10 in version 0.20 to 100 in 0.22.\n",
      "  \"10 in version 0.20 to 100 in 0.22.\", FutureWarning)\n"
     ]
    },
    {
     "name": "stdout",
     "output_type": "stream",
     "text": [
      "accuracy: 0.5089285714285714\n",
      "predicted class counts: Counter({1: 89, -1: 22, 0: 1})\n",
      "\n",
      "\n",
      "MCHP accuracy: 0.5089285714285714. Average accuracy:0.44515701017249004\n",
      "Data spread:  Counter({'1': 257, '-1': 165, '0': 26})\n"
     ]
    },
    {
     "name": "stderr",
     "output_type": "stream",
     "text": [
      "/home/seb/anaconda3/lib/python3.7/site-packages/sklearn/ensemble/forest.py:245: FutureWarning: The default value of n_estimators will change from 10 in version 0.20 to 100 in 0.22.\n",
      "  \"10 in version 0.20 to 100 in 0.22.\", FutureWarning)\n"
     ]
    },
    {
     "name": "stdout",
     "output_type": "stream",
     "text": [
      "accuracy: 0.5803571428571429\n",
      "predicted class counts: Counter({1: 106, -1: 6})\n",
      "\n",
      "\n",
      "MU accuracy: 0.5803571428571429. Average accuracy:0.44557429453262787\n",
      "Data spread:  Counter({'1': 225, '0': 139, '-1': 84})\n"
     ]
    },
    {
     "name": "stderr",
     "output_type": "stream",
     "text": [
      "/home/seb/anaconda3/lib/python3.7/site-packages/sklearn/ensemble/forest.py:245: FutureWarning: The default value of n_estimators will change from 10 in version 0.20 to 100 in 0.22.\n",
      "  \"10 in version 0.20 to 100 in 0.22.\", FutureWarning)\n"
     ]
    },
    {
     "name": "stdout",
     "output_type": "stream",
     "text": [
      "accuracy: 0.4107142857142857\n",
      "predicted class counts: Counter({1: 71, 0: 34, -1: 7})\n",
      "\n",
      "\n",
      "MSFT accuracy: 0.4107142857142857. Average accuracy:0.445467032967033\n",
      "Data spread:  Counter({'0': 233, '1': 167, '-1': 48})\n"
     ]
    },
    {
     "name": "stderr",
     "output_type": "stream",
     "text": [
      "/home/seb/anaconda3/lib/python3.7/site-packages/sklearn/ensemble/forest.py:245: FutureWarning: The default value of n_estimators will change from 10 in version 0.20 to 100 in 0.22.\n",
      "  \"10 in version 0.20 to 100 in 0.22.\", FutureWarning)\n"
     ]
    },
    {
     "name": "stdout",
     "output_type": "stream",
     "text": [
      "accuracy: 0.5535714285714286\n",
      "predicted class counts: Counter({0: 94, 1: 14, -1: 4})\n",
      "\n",
      "\n",
      "MAA accuracy: 0.5535714285714286. Average accuracy:0.4457986415425066\n",
      "Data spread:  Counter({'1': 184, '-1': 143, '0': 121})\n"
     ]
    },
    {
     "name": "stderr",
     "output_type": "stream",
     "text": [
      "/home/seb/anaconda3/lib/python3.7/site-packages/sklearn/ensemble/forest.py:245: FutureWarning: The default value of n_estimators will change from 10 in version 0.20 to 100 in 0.22.\n",
      "  \"10 in version 0.20 to 100 in 0.22.\", FutureWarning)\n"
     ]
    },
    {
     "name": "stdout",
     "output_type": "stream",
     "text": [
      "accuracy: 0.30357142857142855\n",
      "predicted class counts: Counter({1: 52, 0: 32, -1: 28})\n",
      "\n",
      "\n",
      "MHK accuracy: 0.30357142857142855. Average accuracy:0.4453636959370904\n",
      "Data spread:  Counter({'1': 188, '-1': 134, '0': 126})\n"
     ]
    },
    {
     "name": "stderr",
     "output_type": "stream",
     "text": [
      "/home/seb/anaconda3/lib/python3.7/site-packages/sklearn/ensemble/forest.py:245: FutureWarning: The default value of n_estimators will change from 10 in version 0.20 to 100 in 0.22.\n",
      "  \"10 in version 0.20 to 100 in 0.22.\", FutureWarning)\n"
     ]
    },
    {
     "name": "stdout",
     "output_type": "stream",
     "text": [
      "accuracy: 0.4107142857142857\n",
      "predicted class counts: Counter({1: 48, -1: 47, 0: 17})\n",
      "\n",
      "\n",
      "TAP accuracy: 0.4107142857142857. Average accuracy:0.4452580574912892\n",
      "330\n",
      "Data spread:  Counter({'0': 218, '1': 176, '-1': 54})\n"
     ]
    },
    {
     "name": "stderr",
     "output_type": "stream",
     "text": [
      "/home/seb/anaconda3/lib/python3.7/site-packages/sklearn/ensemble/forest.py:245: FutureWarning: The default value of n_estimators will change from 10 in version 0.20 to 100 in 0.22.\n",
      "  \"10 in version 0.20 to 100 in 0.22.\", FutureWarning)\n"
     ]
    },
    {
     "name": "stdout",
     "output_type": "stream",
     "text": [
      "accuracy: 0.5089285714285714\n",
      "predicted class counts: Counter({0: 98, 1: 10, -1: 4})\n",
      "\n",
      "\n",
      "MDLZ accuracy: 0.5089285714285714. Average accuracy:0.44545158488927483\n",
      "Data spread:  Counter({'1': 204, '0': 129, '-1': 115})\n"
     ]
    },
    {
     "name": "stderr",
     "output_type": "stream",
     "text": [
      "/home/seb/anaconda3/lib/python3.7/site-packages/sklearn/ensemble/forest.py:245: FutureWarning: The default value of n_estimators will change from 10 in version 0.20 to 100 in 0.22.\n",
      "  \"10 in version 0.20 to 100 in 0.22.\", FutureWarning)\n"
     ]
    },
    {
     "name": "stdout",
     "output_type": "stream",
     "text": [
      "accuracy: 0.3392857142857143\n",
      "predicted class counts: Counter({1: 62, -1: 27, 0: 23})\n",
      "\n",
      "\n",
      "MNST accuracy: 0.3392857142857143. Average accuracy:0.44512987012987015\n",
      "Data spread:  Counter({'1': 230, '0': 130, '-1': 88})\n"
     ]
    },
    {
     "name": "stderr",
     "output_type": "stream",
     "text": [
      "/home/seb/anaconda3/lib/python3.7/site-packages/sklearn/ensemble/forest.py:245: FutureWarning: The default value of n_estimators will change from 10 in version 0.20 to 100 in 0.22.\n",
      "  \"10 in version 0.20 to 100 in 0.22.\", FutureWarning)\n"
     ]
    },
    {
     "name": "stdout",
     "output_type": "stream",
     "text": [
      "accuracy: 0.5089285714285714\n",
      "predicted class counts: Counter({1: 101, 0: 7, -1: 4})\n",
      "\n",
      "\n",
      "MCO accuracy: 0.5089285714285714. Average accuracy:0.44532261545101426\n",
      "Data spread:  Counter({'1': 208, '-1': 143, '0': 97})\n"
     ]
    },
    {
     "name": "stderr",
     "output_type": "stream",
     "text": [
      "/home/seb/anaconda3/lib/python3.7/site-packages/sklearn/ensemble/forest.py:245: FutureWarning: The default value of n_estimators will change from 10 in version 0.20 to 100 in 0.22.\n",
      "  \"10 in version 0.20 to 100 in 0.22.\", FutureWarning)\n"
     ]
    },
    {
     "name": "stdout",
     "output_type": "stream",
     "text": [
      "accuracy: 0.4017857142857143\n",
      "predicted class counts: Counter({1: 94, -1: 15, 0: 3})\n",
      "\n",
      "\n",
      "MS accuracy: 0.4017857142857143. Average accuracy:0.4451914802065404\n",
      "Data spread:  Counter({'1': 230, '-1': 165, '0': 53})\n"
     ]
    },
    {
     "name": "stderr",
     "output_type": "stream",
     "text": [
      "/home/seb/anaconda3/lib/python3.7/site-packages/sklearn/ensemble/forest.py:245: FutureWarning: The default value of n_estimators will change from 10 in version 0.20 to 100 in 0.22.\n",
      "  \"10 in version 0.20 to 100 in 0.22.\", FutureWarning)\n"
     ]
    },
    {
     "name": "stdout",
     "output_type": "stream",
     "text": [
      "accuracy: 0.42857142857142855\n",
      "predicted class counts: Counter({1: 70, -1: 41, 0: 1})\n",
      "\n",
      "\n",
      "MOS accuracy: 0.42857142857142855. Average accuracy:0.44514157014157013\n",
      "Data spread:  Counter({'1': 228, '0': 159, '-1': 61})\n"
     ]
    },
    {
     "name": "stderr",
     "output_type": "stream",
     "text": [
      "/home/seb/anaconda3/lib/python3.7/site-packages/sklearn/ensemble/forest.py:245: FutureWarning: The default value of n_estimators will change from 10 in version 0.20 to 100 in 0.22.\n",
      "  \"10 in version 0.20 to 100 in 0.22.\", FutureWarning)\n"
     ]
    },
    {
     "name": "stdout",
     "output_type": "stream",
     "text": [
      "accuracy: 0.48214285714285715\n",
      "predicted class counts: Counter({1: 81, 0: 27, -1: 4})\n",
      "\n",
      "\n",
      "MSI accuracy: 0.48214285714285715. Average accuracy:0.44525235243798117\n",
      "Data spread:  Counter({'1': 264, '-1': 94, '0': 90})\n"
     ]
    },
    {
     "name": "stderr",
     "output_type": "stream",
     "text": [
      "/home/seb/anaconda3/lib/python3.7/site-packages/sklearn/ensemble/forest.py:245: FutureWarning: The default value of n_estimators will change from 10 in version 0.20 to 100 in 0.22.\n",
      "  \"10 in version 0.20 to 100 in 0.22.\", FutureWarning)\n"
     ]
    },
    {
     "name": "stdout",
     "output_type": "stream",
     "text": [
      "accuracy: 0.6160714285714286\n",
      "predicted class counts: Counter({1: 107, -1: 4, 0: 1})\n",
      "\n",
      "\n",
      "MSCI accuracy: 0.6160714285714286. Average accuracy:0.4457622601279318\n",
      "Data spread:  Counter({'1': 200, '-1': 176, '0': 72})\n"
     ]
    },
    {
     "name": "stderr",
     "output_type": "stream",
     "text": [
      "/home/seb/anaconda3/lib/python3.7/site-packages/sklearn/ensemble/forest.py:245: FutureWarning: The default value of n_estimators will change from 10 in version 0.20 to 100 in 0.22.\n",
      "  \"10 in version 0.20 to 100 in 0.22.\", FutureWarning)\n"
     ]
    },
    {
     "name": "stdout",
     "output_type": "stream",
     "text": [
      "accuracy: 0.4107142857142857\n",
      "predicted class counts: Counter({-1: 58, 1: 53, 0: 1})\n",
      "\n",
      "\n",
      "MYL accuracy: 0.4107142857142857. Average accuracy:0.4456579506802721\n",
      "Data spread:  Counter({'1': 206, '0': 163, '-1': 79})\n"
     ]
    },
    {
     "name": "stderr",
     "output_type": "stream",
     "text": [
      "/home/seb/anaconda3/lib/python3.7/site-packages/sklearn/ensemble/forest.py:245: FutureWarning: The default value of n_estimators will change from 10 in version 0.20 to 100 in 0.22.\n",
      "  \"10 in version 0.20 to 100 in 0.22.\", FutureWarning)\n"
     ]
    },
    {
     "name": "stdout",
     "output_type": "stream",
     "text": [
      "accuracy: 0.5\n",
      "predicted class counts: Counter({1: 70, 0: 25, -1: 17})\n",
      "\n",
      "\n",
      "NDAQ accuracy: 0.5. Average accuracy:0.44581920305214073\n",
      "Data spread:  Counter({'1': 222, '-1': 165, '0': 61})\n"
     ]
    },
    {
     "name": "stderr",
     "output_type": "stream",
     "text": [
      "/home/seb/anaconda3/lib/python3.7/site-packages/sklearn/ensemble/forest.py:245: FutureWarning: The default value of n_estimators will change from 10 in version 0.20 to 100 in 0.22.\n",
      "  \"10 in version 0.20 to 100 in 0.22.\", FutureWarning)\n"
     ]
    },
    {
     "name": "stdout",
     "output_type": "stream",
     "text": [
      "accuracy: 0.4375\n",
      "predicted class counts: Counter({1: 100, -1: 12})\n",
      "\n",
      "\n",
      "NOV accuracy: 0.4375. Average accuracy:0.44579459002535926\n",
      "340\n",
      "Data spread:  Counter({'1': 226, '-1': 140, '0': 82})\n"
     ]
    },
    {
     "name": "stderr",
     "output_type": "stream",
     "text": [
      "/home/seb/anaconda3/lib/python3.7/site-packages/sklearn/ensemble/forest.py:245: FutureWarning: The default value of n_estimators will change from 10 in version 0.20 to 100 in 0.22.\n",
      "  \"10 in version 0.20 to 100 in 0.22.\", FutureWarning)\n"
     ]
    },
    {
     "name": "stdout",
     "output_type": "stream",
     "text": [
      "accuracy: 0.49107142857142855\n",
      "predicted class counts: Counter({1: 84, -1: 26, 0: 2})\n",
      "\n",
      "\n",
      "NTAP accuracy: 0.49107142857142855. Average accuracy:0.4459281500210704\n",
      "Data spread:  Counter({'1': 246, '-1': 157, '0': 45})\n"
     ]
    },
    {
     "name": "stderr",
     "output_type": "stream",
     "text": [
      "/home/seb/anaconda3/lib/python3.7/site-packages/sklearn/ensemble/forest.py:245: FutureWarning: The default value of n_estimators will change from 10 in version 0.20 to 100 in 0.22.\n",
      "  \"10 in version 0.20 to 100 in 0.22.\", FutureWarning)\n"
     ]
    },
    {
     "name": "stdout",
     "output_type": "stream",
     "text": [
      "accuracy: 0.5357142857142857\n",
      "predicted class counts: Counter({1: 95, -1: 17})\n",
      "\n",
      "\n",
      "NFLX accuracy: 0.5357142857142857. Average accuracy:0.4461922268907563\n",
      "Data spread:  Counter({'1': 218, '-1': 166, '0': 64})\n"
     ]
    },
    {
     "name": "stderr",
     "output_type": "stream",
     "text": [
      "/home/seb/anaconda3/lib/python3.7/site-packages/sklearn/ensemble/forest.py:245: FutureWarning: The default value of n_estimators will change from 10 in version 0.20 to 100 in 0.22.\n",
      "  \"10 in version 0.20 to 100 in 0.22.\", FutureWarning)\n"
     ]
    },
    {
     "name": "stdout",
     "output_type": "stream",
     "text": [
      "accuracy: 0.38392857142857145\n",
      "predicted class counts: Counter({1: 65, -1: 46, 0: 1})\n",
      "\n",
      "\n",
      "NWL accuracy: 0.38392857142857145. Average accuracy:0.44600963552576456\n",
      "Data spread:  Counter({'1': 220, '0': 115, '-1': 113})\n"
     ]
    },
    {
     "name": "stderr",
     "output_type": "stream",
     "text": [
      "/home/seb/anaconda3/lib/python3.7/site-packages/sklearn/ensemble/forest.py:245: FutureWarning: The default value of n_estimators will change from 10 in version 0.20 to 100 in 0.22.\n",
      "  \"10 in version 0.20 to 100 in 0.22.\", FutureWarning)\n"
     ]
    },
    {
     "name": "stdout",
     "output_type": "stream",
     "text": [
      "accuracy: 0.41964285714285715\n",
      "predicted class counts: Counter({1: 62, -1: 34, 0: 16})\n",
      "\n",
      "\n",
      "NEM accuracy: 0.41964285714285715. Average accuracy:0.4459325396825397\n",
      "Data spread:  Counter({'1': 177, '0': 155, '-1': 116})\n"
     ]
    },
    {
     "name": "stderr",
     "output_type": "stream",
     "text": [
      "/home/seb/anaconda3/lib/python3.7/site-packages/sklearn/ensemble/forest.py:245: FutureWarning: The default value of n_estimators will change from 10 in version 0.20 to 100 in 0.22.\n",
      "  \"10 in version 0.20 to 100 in 0.22.\", FutureWarning)\n"
     ]
    },
    {
     "name": "stdout",
     "output_type": "stream",
     "text": [
      "accuracy: 0.39285714285714285\n",
      "predicted class counts: Counter({1: 58, 0: 29, -1: 25})\n",
      "\n",
      "\n",
      "NWSA accuracy: 0.39285714285714285. Average accuracy:0.4457778009162849\n",
      "Data spread:  Counter({'1': 171, '0': 166, '-1': 111})\n"
     ]
    },
    {
     "name": "stderr",
     "output_type": "stream",
     "text": [
      "/home/seb/anaconda3/lib/python3.7/site-packages/sklearn/ensemble/forest.py:245: FutureWarning: The default value of n_estimators will change from 10 in version 0.20 to 100 in 0.22.\n",
      "  \"10 in version 0.20 to 100 in 0.22.\", FutureWarning)\n"
     ]
    },
    {
     "name": "stdout",
     "output_type": "stream",
     "text": [
      "accuracy: 0.35714285714285715\n",
      "predicted class counts: Counter({0: 42, -1: 36, 1: 34})\n",
      "\n",
      "\n",
      "NWS accuracy: 0.35714285714285715. Average accuracy:0.4455201411960133\n",
      "Data spread:  Counter({'0': 234, '1': 183, '-1': 31})\n"
     ]
    },
    {
     "name": "stderr",
     "output_type": "stream",
     "text": [
      "/home/seb/anaconda3/lib/python3.7/site-packages/sklearn/ensemble/forest.py:245: FutureWarning: The default value of n_estimators will change from 10 in version 0.20 to 100 in 0.22.\n",
      "  \"10 in version 0.20 to 100 in 0.22.\", FutureWarning)\n"
     ]
    },
    {
     "name": "stdout",
     "output_type": "stream",
     "text": [
      "accuracy: 0.5178571428571429\n",
      "predicted class counts: Counter({0: 97, 1: 15})\n",
      "\n",
      "\n",
      "NEE accuracy: 0.5178571428571429. Average accuracy:0.4457298136645963\n",
      "Data spread:  Counter({'1': 202, '-1': 140, '0': 106})\n"
     ]
    },
    {
     "name": "stderr",
     "output_type": "stream",
     "text": [
      "/home/seb/anaconda3/lib/python3.7/site-packages/sklearn/ensemble/forest.py:245: FutureWarning: The default value of n_estimators will change from 10 in version 0.20 to 100 in 0.22.\n",
      "  \"10 in version 0.20 to 100 in 0.22.\", FutureWarning)\n"
     ]
    },
    {
     "name": "stdout",
     "output_type": "stream",
     "text": [
      "accuracy: 0.42857142857142855\n",
      "predicted class counts: Counter({1: 52, -1: 50, 0: 10})\n",
      "\n",
      "\n",
      "NLSN accuracy: 0.42857142857142855. Average accuracy:0.4456802229562345\n",
      "Data spread:  Counter({'1': 217, '0': 141, '-1': 90})\n"
     ]
    },
    {
     "name": "stderr",
     "output_type": "stream",
     "text": [
      "/home/seb/anaconda3/lib/python3.7/site-packages/sklearn/ensemble/forest.py:245: FutureWarning: The default value of n_estimators will change from 10 in version 0.20 to 100 in 0.22.\n",
      "  \"10 in version 0.20 to 100 in 0.22.\", FutureWarning)\n"
     ]
    },
    {
     "name": "stdout",
     "output_type": "stream",
     "text": [
      "accuracy: 0.375\n",
      "predicted class counts: Counter({1: 72, 0: 34, -1: 6})\n",
      "\n",
      "\n",
      "NKE accuracy: 0.375. Average accuracy:0.44547653355290245\n",
      "Data spread:  Counter({'0': 199, '1': 196, '-1': 53})\n"
     ]
    },
    {
     "name": "stderr",
     "output_type": "stream",
     "text": [
      "/home/seb/anaconda3/lib/python3.7/site-packages/sklearn/ensemble/forest.py:245: FutureWarning: The default value of n_estimators will change from 10 in version 0.20 to 100 in 0.22.\n",
      "  \"10 in version 0.20 to 100 in 0.22.\", FutureWarning)\n"
     ]
    },
    {
     "name": "stdout",
     "output_type": "stream",
     "text": [
      "accuracy: 0.41964285714285715\n",
      "predicted class counts: Counter({0: 91, 1: 21})\n",
      "\n",
      "\n",
      "NI accuracy: 0.41964285714285715. Average accuracy:0.4454022988505747\n",
      "350\n",
      "Data spread:  Counter({'1': 240, '-1': 178, '0': 30})\n"
     ]
    },
    {
     "name": "stderr",
     "output_type": "stream",
     "text": [
      "/home/seb/anaconda3/lib/python3.7/site-packages/sklearn/ensemble/forest.py:245: FutureWarning: The default value of n_estimators will change from 10 in version 0.20 to 100 in 0.22.\n",
      "  \"10 in version 0.20 to 100 in 0.22.\", FutureWarning)\n"
     ]
    },
    {
     "name": "stdout",
     "output_type": "stream",
     "text": [
      "accuracy: 0.4375\n",
      "predicted class counts: Counter({1: 88, -1: 24})\n",
      "\n",
      "\n",
      "NBL accuracy: 0.4375. Average accuracy:0.44537965616045844\n",
      "Data spread:  Counter({'1': 222, '-1': 158, '0': 68})\n"
     ]
    },
    {
     "name": "stderr",
     "output_type": "stream",
     "text": [
      "/home/seb/anaconda3/lib/python3.7/site-packages/sklearn/ensemble/forest.py:245: FutureWarning: The default value of n_estimators will change from 10 in version 0.20 to 100 in 0.22.\n",
      "  \"10 in version 0.20 to 100 in 0.22.\", FutureWarning)\n"
     ]
    },
    {
     "name": "stdout",
     "output_type": "stream",
     "text": [
      "accuracy: 0.45535714285714285\n",
      "predicted class counts: Counter({1: 78, -1: 33, 0: 1})\n",
      "\n",
      "\n",
      "JWN accuracy: 0.45535714285714285. Average accuracy:0.44540816326530613\n",
      "Data spread:  Counter({'1': 219, '0': 131, '-1': 98})\n"
     ]
    },
    {
     "name": "stderr",
     "output_type": "stream",
     "text": [
      "/home/seb/anaconda3/lib/python3.7/site-packages/sklearn/ensemble/forest.py:245: FutureWarning: The default value of n_estimators will change from 10 in version 0.20 to 100 in 0.22.\n",
      "  \"10 in version 0.20 to 100 in 0.22.\", FutureWarning)\n"
     ]
    },
    {
     "name": "stdout",
     "output_type": "stream",
     "text": [
      "accuracy: 0.44642857142857145\n",
      "predicted class counts: Counter({1: 89, 0: 16, -1: 7})\n",
      "\n",
      "\n",
      "NSC accuracy: 0.44642857142857145. Average accuracy:0.4454110704110704\n",
      "Data spread:  Counter({'1': 180, '0': 152, '-1': 116})\n"
     ]
    },
    {
     "name": "stderr",
     "output_type": "stream",
     "text": [
      "/home/seb/anaconda3/lib/python3.7/site-packages/sklearn/ensemble/forest.py:245: FutureWarning: The default value of n_estimators will change from 10 in version 0.20 to 100 in 0.22.\n",
      "  \"10 in version 0.20 to 100 in 0.22.\", FutureWarning)\n"
     ]
    },
    {
     "name": "stdout",
     "output_type": "stream",
     "text": [
      "accuracy: 0.3392857142857143\n",
      "predicted class counts: Counter({1: 51, 0: 39, -1: 22})\n",
      "\n",
      "\n",
      "NTRS accuracy: 0.3392857142857143. Average accuracy:0.44510957792207795\n",
      "Data spread:  Counter({'1': 214, '0': 141, '-1': 93})\n"
     ]
    },
    {
     "name": "stderr",
     "output_type": "stream",
     "text": [
      "/home/seb/anaconda3/lib/python3.7/site-packages/sklearn/ensemble/forest.py:245: FutureWarning: The default value of n_estimators will change from 10 in version 0.20 to 100 in 0.22.\n",
      "  \"10 in version 0.20 to 100 in 0.22.\", FutureWarning)\n"
     ]
    },
    {
     "name": "stdout",
     "output_type": "stream",
     "text": [
      "accuracy: 0.36607142857142855\n",
      "predicted class counts: Counter({1: 78, 0: 30, -1: 4})\n",
      "\n",
      "\n",
      "NOC accuracy: 0.36607142857142855. Average accuracy:0.4448856738162687\n",
      "Data spread:  Counter({'1': 215, '-1': 141, '0': 92})\n"
     ]
    },
    {
     "name": "stderr",
     "output_type": "stream",
     "text": [
      "/home/seb/anaconda3/lib/python3.7/site-packages/sklearn/ensemble/forest.py:245: FutureWarning: The default value of n_estimators will change from 10 in version 0.20 to 100 in 0.22.\n",
      "  \"10 in version 0.20 to 100 in 0.22.\", FutureWarning)\n"
     ]
    },
    {
     "name": "stdout",
     "output_type": "stream",
     "text": [
      "accuracy: 0.5178571428571429\n",
      "predicted class counts: Counter({1: 74, -1: 37, 0: 1})\n",
      "\n",
      "\n",
      "NCLH accuracy: 0.5178571428571429. Average accuracy:0.4450918079096045\n",
      "Data spread:  Counter({'1': 211, '0': 140, '-1': 97})\n"
     ]
    },
    {
     "name": "stderr",
     "output_type": "stream",
     "text": [
      "/home/seb/anaconda3/lib/python3.7/site-packages/sklearn/ensemble/forest.py:245: FutureWarning: The default value of n_estimators will change from 10 in version 0.20 to 100 in 0.22.\n",
      "  \"10 in version 0.20 to 100 in 0.22.\", FutureWarning)\n"
     ]
    },
    {
     "name": "stdout",
     "output_type": "stream",
     "text": [
      "accuracy: 0.4017857142857143\n",
      "predicted class counts: Counter({1: 69, 0: 26, -1: 17})\n",
      "\n",
      "\n",
      "NRG accuracy: 0.4017857142857143. Average accuracy:0.44496981891348086\n",
      "Data spread:  Counter({'1': 207, '-1': 148, '0': 93})\n"
     ]
    },
    {
     "name": "stderr",
     "output_type": "stream",
     "text": [
      "/home/seb/anaconda3/lib/python3.7/site-packages/sklearn/ensemble/forest.py:245: FutureWarning: The default value of n_estimators will change from 10 in version 0.20 to 100 in 0.22.\n",
      "  \"10 in version 0.20 to 100 in 0.22.\", FutureWarning)\n"
     ]
    },
    {
     "name": "stdout",
     "output_type": "stream",
     "text": [
      "accuracy: 0.42857142857142855\n",
      "predicted class counts: Counter({1: 81, -1: 30, 0: 1})\n",
      "\n",
      "\n",
      "NUE accuracy: 0.42857142857142855. Average accuracy:0.44492375601926165\n",
      "Data spread:  Counter({'1': 243, '-1': 160, '0': 45})\n"
     ]
    },
    {
     "name": "stderr",
     "output_type": "stream",
     "text": [
      "/home/seb/anaconda3/lib/python3.7/site-packages/sklearn/ensemble/forest.py:245: FutureWarning: The default value of n_estimators will change from 10 in version 0.20 to 100 in 0.22.\n",
      "  \"10 in version 0.20 to 100 in 0.22.\", FutureWarning)\n"
     ]
    },
    {
     "name": "stdout",
     "output_type": "stream",
     "text": [
      "accuracy: 0.5535714285714286\n",
      "predicted class counts: Counter({1: 95, -1: 17})\n",
      "\n",
      "\n",
      "NVDA accuracy: 0.5535714285714286. Average accuracy:0.4452280912364946\n",
      "Data spread:  Counter({'1': 238, '-1': 122, '0': 88})\n"
     ]
    },
    {
     "name": "stderr",
     "output_type": "stream",
     "text": [
      "/home/seb/anaconda3/lib/python3.7/site-packages/sklearn/ensemble/forest.py:245: FutureWarning: The default value of n_estimators will change from 10 in version 0.20 to 100 in 0.22.\n",
      "  \"10 in version 0.20 to 100 in 0.22.\", FutureWarning)\n"
     ]
    },
    {
     "name": "stdout",
     "output_type": "stream",
     "text": [
      "accuracy: 0.5089285714285714\n",
      "predicted class counts: Counter({1: 84, -1: 25, 0: 3})\n",
      "\n",
      "\n",
      "NVR accuracy: 0.5089285714285714. Average accuracy:0.4454060255387071\n",
      "360\n",
      "Data spread:  Counter({'1': 223, '0': 128, '-1': 97})\n"
     ]
    },
    {
     "name": "stderr",
     "output_type": "stream",
     "text": [
      "/home/seb/anaconda3/lib/python3.7/site-packages/sklearn/ensemble/forest.py:245: FutureWarning: The default value of n_estimators will change from 10 in version 0.20 to 100 in 0.22.\n",
      "  \"10 in version 0.20 to 100 in 0.22.\", FutureWarning)\n"
     ]
    },
    {
     "name": "stdout",
     "output_type": "stream",
     "text": [
      "accuracy: 0.38392857142857145\n",
      "predicted class counts: Counter({1: 87, 0: 19, -1: 6})\n",
      "\n",
      "\n",
      "ORLY accuracy: 0.38392857142857145. Average accuracy:0.4452347791484282\n",
      "Data spread:  Counter({'1': 189, '-1': 140, '0': 119})\n"
     ]
    },
    {
     "name": "stderr",
     "output_type": "stream",
     "text": [
      "/home/seb/anaconda3/lib/python3.7/site-packages/sklearn/ensemble/forest.py:245: FutureWarning: The default value of n_estimators will change from 10 in version 0.20 to 100 in 0.22.\n",
      "  \"10 in version 0.20 to 100 in 0.22.\", FutureWarning)\n"
     ]
    },
    {
     "name": "stdout",
     "output_type": "stream",
     "text": [
      "accuracy: 0.41964285714285715\n",
      "predicted class counts: Counter({1: 63, -1: 29, 0: 20})\n",
      "\n",
      "\n",
      "OXY accuracy: 0.41964285714285715. Average accuracy:0.4451636904761905\n",
      "Data spread:  Counter({'0': 204, '1': 166, '-1': 78})\n"
     ]
    },
    {
     "name": "stderr",
     "output_type": "stream",
     "text": [
      "/home/seb/anaconda3/lib/python3.7/site-packages/sklearn/ensemble/forest.py:245: FutureWarning: The default value of n_estimators will change from 10 in version 0.20 to 100 in 0.22.\n",
      "  \"10 in version 0.20 to 100 in 0.22.\", FutureWarning)\n"
     ]
    },
    {
     "name": "stdout",
     "output_type": "stream",
     "text": [
      "accuracy: 0.44642857142857145\n",
      "predicted class counts: Counter({0: 64, 1: 44, -1: 4})\n",
      "\n",
      "\n",
      "OMC accuracy: 0.44642857142857145. Average accuracy:0.44516719430154333\n",
      "Data spread:  Counter({'1': 204, '0': 166, '-1': 78})\n"
     ]
    },
    {
     "name": "stderr",
     "output_type": "stream",
     "text": [
      "/home/seb/anaconda3/lib/python3.7/site-packages/sklearn/ensemble/forest.py:245: FutureWarning: The default value of n_estimators will change from 10 in version 0.20 to 100 in 0.22.\n",
      "  \"10 in version 0.20 to 100 in 0.22.\", FutureWarning)\n"
     ]
    },
    {
     "name": "stdout",
     "output_type": "stream",
     "text": [
      "accuracy: 0.4375\n",
      "predicted class counts: Counter({1: 55, 0: 49, -1: 8})\n",
      "\n",
      "\n",
      "OKE accuracy: 0.4375. Average accuracy:0.4451460142067877\n",
      "Data spread:  Counter({'1': 206, '0': 168, '-1': 74})\n"
     ]
    },
    {
     "name": "stderr",
     "output_type": "stream",
     "text": [
      "/home/seb/anaconda3/lib/python3.7/site-packages/sklearn/ensemble/forest.py:245: FutureWarning: The default value of n_estimators will change from 10 in version 0.20 to 100 in 0.22.\n",
      "  \"10 in version 0.20 to 100 in 0.22.\", FutureWarning)\n"
     ]
    },
    {
     "name": "stdout",
     "output_type": "stream",
     "text": [
      "accuracy: 0.5178571428571429\n",
      "predicted class counts: Counter({1: 69, 0: 35, -1: 8})\n",
      "\n",
      "\n",
      "ORCL accuracy: 0.5178571428571429. Average accuracy:0.4453463203463203\n",
      "Data spread:  Counter({'1': 213, '0': 131, '-1': 104})\n"
     ]
    },
    {
     "name": "stderr",
     "output_type": "stream",
     "text": [
      "/home/seb/anaconda3/lib/python3.7/site-packages/sklearn/ensemble/forest.py:245: FutureWarning: The default value of n_estimators will change from 10 in version 0.20 to 100 in 0.22.\n",
      "  \"10 in version 0.20 to 100 in 0.22.\", FutureWarning)\n"
     ]
    },
    {
     "name": "stdout",
     "output_type": "stream",
     "text": [
      "accuracy: 0.4375\n",
      "predicted class counts: Counter({1: 93, -1: 13, 0: 6})\n",
      "\n",
      "\n",
      "PCAR accuracy: 0.4375. Average accuracy:0.4453247645211931\n",
      "Data spread:  Counter({'1': 191, '0': 145, '-1': 112})\n"
     ]
    },
    {
     "name": "stderr",
     "output_type": "stream",
     "text": [
      "/home/seb/anaconda3/lib/python3.7/site-packages/sklearn/ensemble/forest.py:245: FutureWarning: The default value of n_estimators will change from 10 in version 0.20 to 100 in 0.22.\n",
      "  \"10 in version 0.20 to 100 in 0.22.\", FutureWarning)\n"
     ]
    },
    {
     "name": "stdout",
     "output_type": "stream",
     "text": [
      "accuracy: 0.33035714285714285\n",
      "predicted class counts: Counter({1: 62, 0: 27, -1: 23})\n",
      "\n",
      "\n",
      "PKG accuracy: 0.33035714285714285. Average accuracy:0.44500978473581215\n",
      "Data spread:  Counter({'1': 220, '-1': 140, '0': 88})\n"
     ]
    },
    {
     "name": "stderr",
     "output_type": "stream",
     "text": [
      "/home/seb/anaconda3/lib/python3.7/site-packages/sklearn/ensemble/forest.py:245: FutureWarning: The default value of n_estimators will change from 10 in version 0.20 to 100 in 0.22.\n",
      "  \"10 in version 0.20 to 100 in 0.22.\", FutureWarning)\n"
     ]
    },
    {
     "name": "stdout",
     "output_type": "stream",
     "text": [
      "accuracy: 0.42857142857142855\n",
      "predicted class counts: Counter({1: 104, -1: 8})\n",
      "\n",
      "\n",
      "PH accuracy: 0.42857142857142855. Average accuracy:0.4449648711943794\n",
      "Data spread:  Counter({'1': 201, '0': 171, '-1': 76})\n"
     ]
    },
    {
     "name": "stderr",
     "output_type": "stream",
     "text": [
      "/home/seb/anaconda3/lib/python3.7/site-packages/sklearn/ensemble/forest.py:245: FutureWarning: The default value of n_estimators will change from 10 in version 0.20 to 100 in 0.22.\n",
      "  \"10 in version 0.20 to 100 in 0.22.\", FutureWarning)\n"
     ]
    },
    {
     "name": "stdout",
     "output_type": "stream",
     "text": [
      "accuracy: 0.4732142857142857\n",
      "predicted class counts: Counter({0: 53, 1: 52, -1: 7})\n",
      "\n",
      "\n",
      "PAYX accuracy: 0.4732142857142857. Average accuracy:0.445041845075905\n",
      "Data spread:  Counter({'1': 256, '-1': 111, '0': 81})\n"
     ]
    },
    {
     "name": "stderr",
     "output_type": "stream",
     "text": [
      "/home/seb/anaconda3/lib/python3.7/site-packages/sklearn/ensemble/forest.py:245: FutureWarning: The default value of n_estimators will change from 10 in version 0.20 to 100 in 0.22.\n",
      "  \"10 in version 0.20 to 100 in 0.22.\", FutureWarning)\n"
     ]
    },
    {
     "name": "stdout",
     "output_type": "stream",
     "text": [
      "accuracy: 0.49107142857142855\n",
      "predicted class counts: Counter({1: 109, -1: 3})\n",
      "\n",
      "\n",
      "PYPL accuracy: 0.49107142857142855. Average accuracy:0.4451669254658385\n",
      "370\n",
      "Data spread:  Counter({'1': 200, '0': 132, '-1': 116})\n"
     ]
    },
    {
     "name": "stderr",
     "output_type": "stream",
     "text": [
      "/home/seb/anaconda3/lib/python3.7/site-packages/sklearn/ensemble/forest.py:245: FutureWarning: The default value of n_estimators will change from 10 in version 0.20 to 100 in 0.22.\n",
      "  \"10 in version 0.20 to 100 in 0.22.\", FutureWarning)\n"
     ]
    },
    {
     "name": "stdout",
     "output_type": "stream",
     "text": [
      "accuracy: 0.375\n",
      "predicted class counts: Counter({1: 75, -1: 24, 0: 13})\n",
      "\n",
      "\n",
      "PNR accuracy: 0.375. Average accuracy:0.44497677119628337\n",
      "Data spread:  Counter({'1': 174, '0': 162, '-1': 112})\n"
     ]
    },
    {
     "name": "stderr",
     "output_type": "stream",
     "text": [
      "/home/seb/anaconda3/lib/python3.7/site-packages/sklearn/ensemble/forest.py:245: FutureWarning: The default value of n_estimators will change from 10 in version 0.20 to 100 in 0.22.\n",
      "  \"10 in version 0.20 to 100 in 0.22.\", FutureWarning)\n"
     ]
    },
    {
     "name": "stdout",
     "output_type": "stream",
     "text": [
      "accuracy: 0.39285714285714285\n",
      "predicted class counts: Counter({0: 41, 1: 39, -1: 32})\n",
      "\n",
      "\n",
      "PBCT accuracy: 0.39285714285714285. Average accuracy:0.44483590733590733\n",
      "Data spread:  Counter({'0': 224, '1': 168, '-1': 56})\n"
     ]
    },
    {
     "name": "stderr",
     "output_type": "stream",
     "text": [
      "/home/seb/anaconda3/lib/python3.7/site-packages/sklearn/ensemble/forest.py:245: FutureWarning: The default value of n_estimators will change from 10 in version 0.20 to 100 in 0.22.\n",
      "  \"10 in version 0.20 to 100 in 0.22.\", FutureWarning)\n"
     ]
    },
    {
     "name": "stdout",
     "output_type": "stream",
     "text": [
      "accuracy: 0.625\n",
      "predicted class counts: Counter({0: 78, 1: 27, -1: 7})\n",
      "\n",
      "\n",
      "PEP accuracy: 0.625. Average accuracy:0.4453215248363496\n",
      "Data spread:  Counter({'1': 221, '0': 116, '-1': 111})\n"
     ]
    },
    {
     "name": "stderr",
     "output_type": "stream",
     "text": [
      "/home/seb/anaconda3/lib/python3.7/site-packages/sklearn/ensemble/forest.py:245: FutureWarning: The default value of n_estimators will change from 10 in version 0.20 to 100 in 0.22.\n",
      "  \"10 in version 0.20 to 100 in 0.22.\", FutureWarning)\n"
     ]
    },
    {
     "name": "stdout",
     "output_type": "stream",
     "text": [
      "accuracy: 0.4375\n",
      "predicted class counts: Counter({1: 97, -1: 9, 0: 6})\n",
      "\n",
      "\n",
      "PKI accuracy: 0.4375. Average accuracy:0.44530049923195086\n",
      "Data spread:  Counter({'1': 216, '-1': 141, '0': 91})\n"
     ]
    },
    {
     "name": "stderr",
     "output_type": "stream",
     "text": [
      "/home/seb/anaconda3/lib/python3.7/site-packages/sklearn/ensemble/forest.py:245: FutureWarning: The default value of n_estimators will change from 10 in version 0.20 to 100 in 0.22.\n",
      "  \"10 in version 0.20 to 100 in 0.22.\", FutureWarning)\n"
     ]
    },
    {
     "name": "stdout",
     "output_type": "stream",
     "text": [
      "accuracy: 0.49107142857142855\n",
      "predicted class counts: Counter({1: 94, -1: 17, 0: 1})\n",
      "\n",
      "\n",
      "PRGO accuracy: 0.49107142857142855. Average accuracy:0.4454232094982765\n",
      "Data spread:  Counter({'0': 188, '1': 175, '-1': 85})\n"
     ]
    },
    {
     "name": "stderr",
     "output_type": "stream",
     "text": [
      "/home/seb/anaconda3/lib/python3.7/site-packages/sklearn/ensemble/forest.py:245: FutureWarning: The default value of n_estimators will change from 10 in version 0.20 to 100 in 0.22.\n",
      "  \"10 in version 0.20 to 100 in 0.22.\", FutureWarning)\n"
     ]
    },
    {
     "name": "stdout",
     "output_type": "stream",
     "text": [
      "accuracy: 0.36607142857142855\n",
      "predicted class counts: Counter({0: 85, 1: 21, -1: 6})\n",
      "\n",
      "\n",
      "PFE accuracy: 0.36607142857142855. Average accuracy:0.445211038961039\n",
      "Data spread:  Counter({'1': 217, '0': 142, '-1': 89})\n"
     ]
    },
    {
     "name": "stderr",
     "output_type": "stream",
     "text": [
      "/home/seb/anaconda3/lib/python3.7/site-packages/sklearn/ensemble/forest.py:245: FutureWarning: The default value of n_estimators will change from 10 in version 0.20 to 100 in 0.22.\n",
      "  \"10 in version 0.20 to 100 in 0.22.\", FutureWarning)\n"
     ]
    },
    {
     "name": "stdout",
     "output_type": "stream",
     "text": [
      "accuracy: 0.39285714285714285\n",
      "predicted class counts: Counter({1: 60, 0: 46, -1: 6})\n",
      "\n",
      "\n",
      "PM accuracy: 0.39285714285714285. Average accuracy:0.44507142857142856\n",
      "Data spread:  Counter({'1': 197, '0': 135, '-1': 116})\n"
     ]
    },
    {
     "name": "stderr",
     "output_type": "stream",
     "text": [
      "/home/seb/anaconda3/lib/python3.7/site-packages/sklearn/ensemble/forest.py:245: FutureWarning: The default value of n_estimators will change from 10 in version 0.20 to 100 in 0.22.\n",
      "  \"10 in version 0.20 to 100 in 0.22.\", FutureWarning)\n"
     ]
    },
    {
     "name": "stdout",
     "output_type": "stream",
     "text": [
      "accuracy: 0.35714285714285715\n",
      "predicted class counts: Counter({1: 57, -1: 39, 0: 16})\n",
      "\n",
      "\n",
      "PSX accuracy: 0.35714285714285715. Average accuracy:0.44483757598784196\n",
      "Data spread:  Counter({'0': 226, '1': 169, '-1': 53})\n"
     ]
    },
    {
     "name": "stderr",
     "output_type": "stream",
     "text": [
      "/home/seb/anaconda3/lib/python3.7/site-packages/sklearn/ensemble/forest.py:245: FutureWarning: The default value of n_estimators will change from 10 in version 0.20 to 100 in 0.22.\n",
      "  \"10 in version 0.20 to 100 in 0.22.\", FutureWarning)\n"
     ]
    },
    {
     "name": "stdout",
     "output_type": "stream",
     "text": [
      "accuracy: 0.49107142857142855\n",
      "predicted class counts: Counter({0: 91, 1: 15, -1: 6})\n",
      "\n",
      "\n",
      "PNW accuracy: 0.49107142857142855. Average accuracy:0.4449602122015915\n",
      "Data spread:  Counter({'1': 225, '-1': 164, '0': 59})\n"
     ]
    },
    {
     "name": "stderr",
     "output_type": "stream",
     "text": [
      "/home/seb/anaconda3/lib/python3.7/site-packages/sklearn/ensemble/forest.py:245: FutureWarning: The default value of n_estimators will change from 10 in version 0.20 to 100 in 0.22.\n",
      "  \"10 in version 0.20 to 100 in 0.22.\", FutureWarning)\n"
     ]
    },
    {
     "name": "stdout",
     "output_type": "stream",
     "text": [
      "accuracy: 0.44642857142857145\n",
      "predicted class counts: Counter({1: 95, -1: 17})\n",
      "\n",
      "\n",
      "PXD accuracy: 0.44642857142857145. Average accuracy:0.444964096749811\n",
      "380\n",
      "Data spread:  Counter({'1': 192, '0': 156, '-1': 100})\n"
     ]
    },
    {
     "name": "stderr",
     "output_type": "stream",
     "text": [
      "/home/seb/anaconda3/lib/python3.7/site-packages/sklearn/ensemble/forest.py:245: FutureWarning: The default value of n_estimators will change from 10 in version 0.20 to 100 in 0.22.\n",
      "  \"10 in version 0.20 to 100 in 0.22.\", FutureWarning)\n"
     ]
    },
    {
     "name": "stdout",
     "output_type": "stream",
     "text": [
      "accuracy: 0.4732142857142857\n",
      "predicted class counts: Counter({1: 58, 0: 38, -1: 16})\n",
      "\n",
      "\n",
      "PNC accuracy: 0.4732142857142857. Average accuracy:0.44503863550697326\n",
      "Data spread:  Counter({'1': 187, '0': 159, '-1': 102})\n"
     ]
    },
    {
     "name": "stderr",
     "output_type": "stream",
     "text": [
      "/home/seb/anaconda3/lib/python3.7/site-packages/sklearn/ensemble/forest.py:245: FutureWarning: The default value of n_estimators will change from 10 in version 0.20 to 100 in 0.22.\n",
      "  \"10 in version 0.20 to 100 in 0.22.\", FutureWarning)\n"
     ]
    },
    {
     "name": "stdout",
     "output_type": "stream",
     "text": [
      "accuracy: 0.35714285714285715\n",
      "predicted class counts: Counter({0: 50, 1: 45, -1: 17})\n",
      "\n",
      "\n",
      "PPG accuracy: 0.35714285714285715. Average accuracy:0.4448073308270677\n",
      "Data spread:  Counter({'0': 193, '1': 188, '-1': 67})\n"
     ]
    },
    {
     "name": "stderr",
     "output_type": "stream",
     "text": [
      "/home/seb/anaconda3/lib/python3.7/site-packages/sklearn/ensemble/forest.py:245: FutureWarning: The default value of n_estimators will change from 10 in version 0.20 to 100 in 0.22.\n",
      "  \"10 in version 0.20 to 100 in 0.22.\", FutureWarning)\n"
     ]
    },
    {
     "name": "stdout",
     "output_type": "stream",
     "text": [
      "accuracy: 0.39285714285714285\n",
      "predicted class counts: Counter({1: 67, 0: 38, -1: 7})\n",
      "\n",
      "\n",
      "PPL accuracy: 0.39285714285714285. Average accuracy:0.4446709786276715\n",
      "Data spread:  Counter({'1': 205, '-1': 129, '0': 114})\n"
     ]
    },
    {
     "name": "stderr",
     "output_type": "stream",
     "text": [
      "/home/seb/anaconda3/lib/python3.7/site-packages/sklearn/ensemble/forest.py:245: FutureWarning: The default value of n_estimators will change from 10 in version 0.20 to 100 in 0.22.\n",
      "  \"10 in version 0.20 to 100 in 0.22.\", FutureWarning)\n"
     ]
    },
    {
     "name": "stdout",
     "output_type": "stream",
     "text": [
      "accuracy: 0.41964285714285715\n",
      "predicted class counts: Counter({1: 91, -1: 14, 0: 7})\n",
      "\n",
      "\n",
      "PFG accuracy: 0.41964285714285715. Average accuracy:0.44460545998504114\n",
      "Data spread:  Counter({'0': 225, '1': 179, '-1': 44})\n"
     ]
    },
    {
     "name": "stderr",
     "output_type": "stream",
     "text": [
      "/home/seb/anaconda3/lib/python3.7/site-packages/sklearn/ensemble/forest.py:245: FutureWarning: The default value of n_estimators will change from 10 in version 0.20 to 100 in 0.22.\n",
      "  \"10 in version 0.20 to 100 in 0.22.\", FutureWarning)\n"
     ]
    },
    {
     "name": "stdout",
     "output_type": "stream",
     "text": [
      "accuracy: 0.5535714285714286\n",
      "predicted class counts: Counter({0: 88, 1: 23, -1: 1})\n",
      "\n",
      "\n",
      "PG accuracy: 0.5535714285714286. Average accuracy:0.4448899664304364\n",
      "Data spread:  Counter({'1': 193, '0': 167, '-1': 88})\n"
     ]
    },
    {
     "name": "stderr",
     "output_type": "stream",
     "text": [
      "/home/seb/anaconda3/lib/python3.7/site-packages/sklearn/ensemble/forest.py:245: FutureWarning: The default value of n_estimators will change from 10 in version 0.20 to 100 in 0.22.\n",
      "  \"10 in version 0.20 to 100 in 0.22.\", FutureWarning)\n"
     ]
    },
    {
     "name": "stdout",
     "output_type": "stream",
     "text": [
      "accuracy: 0.26785714285714285\n",
      "predicted class counts: Counter({0: 73, 1: 37, -1: 2})\n",
      "\n",
      "\n",
      "PGR accuracy: 0.26785714285714285. Average accuracy:0.44442894345238093\n",
      "Data spread:  Counter({'1': 215, '0': 173, '-1': 60})\n"
     ]
    },
    {
     "name": "stderr",
     "output_type": "stream",
     "text": [
      "/home/seb/anaconda3/lib/python3.7/site-packages/sklearn/ensemble/forest.py:245: FutureWarning: The default value of n_estimators will change from 10 in version 0.20 to 100 in 0.22.\n",
      "  \"10 in version 0.20 to 100 in 0.22.\", FutureWarning)\n"
     ]
    },
    {
     "name": "stdout",
     "output_type": "stream",
     "text": [
      "accuracy: 0.35714285714285715\n",
      "predicted class counts: Counter({0: 51, 1: 44, -1: 17})\n",
      "\n",
      "\n",
      "PLD accuracy: 0.35714285714285715. Average accuracy:0.4442022263450835\n",
      "Data spread:  Counter({'1': 196, '-1': 127, '0': 125})\n"
     ]
    },
    {
     "name": "stderr",
     "output_type": "stream",
     "text": [
      "/home/seb/anaconda3/lib/python3.7/site-packages/sklearn/ensemble/forest.py:245: FutureWarning: The default value of n_estimators will change from 10 in version 0.20 to 100 in 0.22.\n",
      "  \"10 in version 0.20 to 100 in 0.22.\", FutureWarning)\n"
     ]
    },
    {
     "name": "stdout",
     "output_type": "stream",
     "text": [
      "accuracy: 0.4017857142857143\n",
      "predicted class counts: Counter({1: 81, -1: 20, 0: 11})\n",
      "\n",
      "\n",
      "PRU accuracy: 0.4017857142857143. Average accuracy:0.4440923390081421\n",
      "Data spread:  Counter({'0': 215, '1': 181, '-1': 52})\n"
     ]
    },
    {
     "name": "stderr",
     "output_type": "stream",
     "text": [
      "/home/seb/anaconda3/lib/python3.7/site-packages/sklearn/ensemble/forest.py:245: FutureWarning: The default value of n_estimators will change from 10 in version 0.20 to 100 in 0.22.\n",
      "  \"10 in version 0.20 to 100 in 0.22.\", FutureWarning)\n"
     ]
    },
    {
     "name": "stdout",
     "output_type": "stream",
     "text": [
      "accuracy: 0.41964285714285715\n",
      "predicted class counts: Counter({0: 81, 1: 30, -1: 1})\n",
      "\n",
      "\n",
      "PEG accuracy: 0.41964285714285715. Average accuracy:0.4440291620524179\n",
      "Data spread:  Counter({'0': 211, '1': 180, '-1': 57})\n"
     ]
    },
    {
     "name": "stderr",
     "output_type": "stream",
     "text": [
      "/home/seb/anaconda3/lib/python3.7/site-packages/sklearn/ensemble/forest.py:245: FutureWarning: The default value of n_estimators will change from 10 in version 0.20 to 100 in 0.22.\n",
      "  \"10 in version 0.20 to 100 in 0.22.\", FutureWarning)\n"
     ]
    },
    {
     "name": "stdout",
     "output_type": "stream",
     "text": [
      "accuracy: 0.5089285714285714\n",
      "predicted class counts: Counter({0: 79, 1: 30, -1: 3})\n",
      "\n",
      "\n",
      "PSA accuracy: 0.5089285714285714. Average accuracy:0.44419642857142855\n",
      "390\n",
      "Data spread:  Counter({'1': 239, '-1': 122, '0': 87})\n"
     ]
    },
    {
     "name": "stderr",
     "output_type": "stream",
     "text": [
      "/home/seb/anaconda3/lib/python3.7/site-packages/sklearn/ensemble/forest.py:245: FutureWarning: The default value of n_estimators will change from 10 in version 0.20 to 100 in 0.22.\n",
      "  \"10 in version 0.20 to 100 in 0.22.\", FutureWarning)\n"
     ]
    },
    {
     "name": "stdout",
     "output_type": "stream",
     "text": [
      "accuracy: 0.4732142857142857\n",
      "predicted class counts: Counter({1: 90, -1: 18, 0: 4})\n",
      "\n",
      "\n",
      "PHM accuracy: 0.4732142857142857. Average accuracy:0.44427102460521484\n",
      "Data spread:  Counter({'1': 214, '-1': 163, '0': 71})\n"
     ]
    },
    {
     "name": "stderr",
     "output_type": "stream",
     "text": [
      "/home/seb/anaconda3/lib/python3.7/site-packages/sklearn/ensemble/forest.py:245: FutureWarning: The default value of n_estimators will change from 10 in version 0.20 to 100 in 0.22.\n",
      "  \"10 in version 0.20 to 100 in 0.22.\", FutureWarning)\n"
     ]
    },
    {
     "name": "stdout",
     "output_type": "stream",
     "text": [
      "accuracy: 0.48214285714285715\n",
      "predicted class counts: Counter({1: 76, -1: 36})\n",
      "\n",
      "\n",
      "PVH accuracy: 0.48214285714285715. Average accuracy:0.44436813186813184\n",
      "Data spread:  Counter({'1': 250, '-1': 123, '0': 75})\n"
     ]
    },
    {
     "name": "stderr",
     "output_type": "stream",
     "text": [
      "/home/seb/anaconda3/lib/python3.7/site-packages/sklearn/ensemble/forest.py:245: FutureWarning: The default value of n_estimators will change from 10 in version 0.20 to 100 in 0.22.\n",
      "  \"10 in version 0.20 to 100 in 0.22.\", FutureWarning)\n"
     ]
    },
    {
     "name": "stdout",
     "output_type": "stream",
     "text": [
      "accuracy: 0.5535714285714286\n",
      "predicted class counts: Counter({1: 97, -1: 14, 0: 1})\n",
      "\n",
      "\n",
      "QRVO accuracy: 0.5535714285714286. Average accuracy:0.44464742418706615\n",
      "Data spread:  Counter({'1': 208, '0': 138, '-1': 102})\n"
     ]
    },
    {
     "name": "stderr",
     "output_type": "stream",
     "text": [
      "/home/seb/anaconda3/lib/python3.7/site-packages/sklearn/ensemble/forest.py:245: FutureWarning: The default value of n_estimators will change from 10 in version 0.20 to 100 in 0.22.\n",
      "  \"10 in version 0.20 to 100 in 0.22.\", FutureWarning)\n"
     ]
    },
    {
     "name": "stdout",
     "output_type": "stream",
     "text": [
      "accuracy: 0.4375\n",
      "predicted class counts: Counter({1: 60, 0: 41, -1: 11})\n",
      "\n",
      "\n",
      "PWR accuracy: 0.4375. Average accuracy:0.44462919096209913\n",
      "Data spread:  Counter({'1': 222, '-1': 136, '0': 90})\n"
     ]
    },
    {
     "name": "stderr",
     "output_type": "stream",
     "text": [
      "/home/seb/anaconda3/lib/python3.7/site-packages/sklearn/ensemble/forest.py:245: FutureWarning: The default value of n_estimators will change from 10 in version 0.20 to 100 in 0.22.\n",
      "  \"10 in version 0.20 to 100 in 0.22.\", FutureWarning)\n"
     ]
    },
    {
     "name": "stdout",
     "output_type": "stream",
     "text": [
      "accuracy: 0.42857142857142855\n",
      "predicted class counts: Counter({1: 72, -1: 37, 0: 3})\n",
      "\n",
      "\n",
      "QCOM accuracy: 0.42857142857142855. Average accuracy:0.44458833151581245\n",
      "Data spread:  Counter({'0': 195, '1': 179, '-1': 74})\n"
     ]
    },
    {
     "name": "stderr",
     "output_type": "stream",
     "text": [
      "/home/seb/anaconda3/lib/python3.7/site-packages/sklearn/ensemble/forest.py:245: FutureWarning: The default value of n_estimators will change from 10 in version 0.20 to 100 in 0.22.\n",
      "  \"10 in version 0.20 to 100 in 0.22.\", FutureWarning)\n"
     ]
    },
    {
     "name": "stdout",
     "output_type": "stream",
     "text": [
      "accuracy: 0.4017857142857143\n",
      "predicted class counts: Counter({0: 73, 1: 32, -1: 7})\n",
      "\n",
      "\n",
      "DGX accuracy: 0.4017857142857143. Average accuracy:0.4444796954314721\n",
      "Data spread:  Counter({'1': 234, '-1': 134, '0': 80})\n"
     ]
    },
    {
     "name": "stderr",
     "output_type": "stream",
     "text": [
      "/home/seb/anaconda3/lib/python3.7/site-packages/sklearn/ensemble/forest.py:245: FutureWarning: The default value of n_estimators will change from 10 in version 0.20 to 100 in 0.22.\n",
      "  \"10 in version 0.20 to 100 in 0.22.\", FutureWarning)\n"
     ]
    },
    {
     "name": "stdout",
     "output_type": "stream",
     "text": [
      "accuracy: 0.41964285714285715\n",
      "predicted class counts: Counter({1: 91, -1: 18, 0: 3})\n",
      "\n",
      "\n",
      "RL accuracy: 0.41964285714285715. Average accuracy:0.44441681735985533\n",
      "Data spread:  Counter({'1': 215, '-1': 123, '0': 110})\n"
     ]
    },
    {
     "name": "stderr",
     "output_type": "stream",
     "text": [
      "/home/seb/anaconda3/lib/python3.7/site-packages/sklearn/ensemble/forest.py:245: FutureWarning: The default value of n_estimators will change from 10 in version 0.20 to 100 in 0.22.\n",
      "  \"10 in version 0.20 to 100 in 0.22.\", FutureWarning)\n"
     ]
    },
    {
     "name": "stdout",
     "output_type": "stream",
     "text": [
      "accuracy: 0.35714285714285715\n",
      "predicted class counts: Counter({1: 86, -1: 21, 0: 5})\n",
      "\n",
      "\n",
      "RJF accuracy: 0.35714285714285715. Average accuracy:0.44419642857142855\n",
      "Data spread:  Counter({'1': 212, '0': 138, '-1': 98})\n"
     ]
    },
    {
     "name": "stderr",
     "output_type": "stream",
     "text": [
      "/home/seb/anaconda3/lib/python3.7/site-packages/sklearn/ensemble/forest.py:245: FutureWarning: The default value of n_estimators will change from 10 in version 0.20 to 100 in 0.22.\n",
      "  \"10 in version 0.20 to 100 in 0.22.\", FutureWarning)\n"
     ]
    },
    {
     "name": "stdout",
     "output_type": "stream",
     "text": [
      "accuracy: 0.41964285714285715\n",
      "predicted class counts: Counter({1: 68, 0: 36, -1: 8})\n",
      "\n",
      "\n",
      "RTN accuracy: 0.41964285714285715. Average accuracy:0.44413458078445484\n",
      "Data spread:  Counter({'1': 196, '0': 195, '-1': 57})\n"
     ]
    },
    {
     "name": "stderr",
     "output_type": "stream",
     "text": [
      "/home/seb/anaconda3/lib/python3.7/site-packages/sklearn/ensemble/forest.py:245: FutureWarning: The default value of n_estimators will change from 10 in version 0.20 to 100 in 0.22.\n",
      "  \"10 in version 0.20 to 100 in 0.22.\", FutureWarning)\n"
     ]
    },
    {
     "name": "stdout",
     "output_type": "stream",
     "text": [
      "accuracy: 0.4642857142857143\n",
      "predicted class counts: Counter({0: 80, 1: 24, -1: 8})\n",
      "\n",
      "\n",
      "O accuracy: 0.4642857142857143. Average accuracy:0.44418521177315146\n",
      "400\n",
      "Data spread:  Counter({'0': 211, '1': 166, '-1': 71})\n"
     ]
    },
    {
     "name": "stderr",
     "output_type": "stream",
     "text": [
      "/home/seb/anaconda3/lib/python3.7/site-packages/sklearn/ensemble/forest.py:245: FutureWarning: The default value of n_estimators will change from 10 in version 0.20 to 100 in 0.22.\n",
      "  \"10 in version 0.20 to 100 in 0.22.\", FutureWarning)\n"
     ]
    },
    {
     "name": "stdout",
     "output_type": "stream",
     "text": [
      "accuracy: 0.4017857142857143\n",
      "predicted class counts: Counter({0: 87, 1: 15, -1: 10})\n",
      "\n",
      "\n",
      "REG accuracy: 0.4017857142857143. Average accuracy:0.4440789473684211\n",
      "Data spread:  Counter({'1': 238, '-1': 135, '0': 75})\n"
     ]
    },
    {
     "name": "stderr",
     "output_type": "stream",
     "text": [
      "/home/seb/anaconda3/lib/python3.7/site-packages/sklearn/ensemble/forest.py:245: FutureWarning: The default value of n_estimators will change from 10 in version 0.20 to 100 in 0.22.\n",
      "  \"10 in version 0.20 to 100 in 0.22.\", FutureWarning)\n"
     ]
    },
    {
     "name": "stdout",
     "output_type": "stream",
     "text": [
      "accuracy: 0.5267857142857143\n",
      "predicted class counts: Counter({1: 88, -1: 21, 0: 3})\n",
      "\n",
      "\n",
      "REGN accuracy: 0.5267857142857143. Average accuracy:0.4442857142857143\n",
      "Data spread:  Counter({'1': 207, '-1': 125, '0': 116})\n"
     ]
    },
    {
     "name": "stderr",
     "output_type": "stream",
     "text": [
      "/home/seb/anaconda3/lib/python3.7/site-packages/sklearn/ensemble/forest.py:245: FutureWarning: The default value of n_estimators will change from 10 in version 0.20 to 100 in 0.22.\n",
      "  \"10 in version 0.20 to 100 in 0.22.\", FutureWarning)\n"
     ]
    },
    {
     "name": "stdout",
     "output_type": "stream",
     "text": [
      "accuracy: 0.42857142857142855\n",
      "predicted class counts: Counter({1: 94, -1: 13, 0: 5})\n",
      "\n",
      "\n",
      "RF accuracy: 0.42857142857142855. Average accuracy:0.4442465265407909\n",
      "Data spread:  Counter({'0': 270, '1': 135, '-1': 43})\n"
     ]
    },
    {
     "name": "stderr",
     "output_type": "stream",
     "text": [
      "/home/seb/anaconda3/lib/python3.7/site-packages/sklearn/ensemble/forest.py:245: FutureWarning: The default value of n_estimators will change from 10 in version 0.20 to 100 in 0.22.\n",
      "  \"10 in version 0.20 to 100 in 0.22.\", FutureWarning)\n"
     ]
    },
    {
     "name": "stdout",
     "output_type": "stream",
     "text": [
      "accuracy: 0.625\n",
      "predicted class counts: Counter({0: 102, 1: 9, -1: 1})\n",
      "\n",
      "\n",
      "RSG accuracy: 0.625. Average accuracy:0.4446961620469083\n",
      "Data spread:  Counter({'1': 217, '0': 144, '-1': 87})\n"
     ]
    },
    {
     "name": "stderr",
     "output_type": "stream",
     "text": [
      "/home/seb/anaconda3/lib/python3.7/site-packages/sklearn/ensemble/forest.py:245: FutureWarning: The default value of n_estimators will change from 10 in version 0.20 to 100 in 0.22.\n",
      "  \"10 in version 0.20 to 100 in 0.22.\", FutureWarning)\n"
     ]
    },
    {
     "name": "stdout",
     "output_type": "stream",
     "text": [
      "accuracy: 0.4732142857142857\n",
      "predicted class counts: Counter({1: 76, 0: 19, -1: 17})\n",
      "\n",
      "\n",
      "RMD accuracy: 0.4732142857142857. Average accuracy:0.4447669266217653\n",
      "Data spread:  Counter({'1': 218, '-1': 123, '0': 107})\n"
     ]
    },
    {
     "name": "stderr",
     "output_type": "stream",
     "text": [
      "/home/seb/anaconda3/lib/python3.7/site-packages/sklearn/ensemble/forest.py:245: FutureWarning: The default value of n_estimators will change from 10 in version 0.20 to 100 in 0.22.\n",
      "  \"10 in version 0.20 to 100 in 0.22.\", FutureWarning)\n"
     ]
    },
    {
     "name": "stdout",
     "output_type": "stream",
     "text": [
      "accuracy: 0.44642857142857145\n",
      "predicted class counts: Counter({1: 76, -1: 28, 0: 8})\n",
      "\n",
      "\n",
      "RHI accuracy: 0.44642857142857145. Average accuracy:0.4447710396039604\n",
      "Data spread:  Counter({'1': 206, '-1': 141, '0': 101})\n"
     ]
    },
    {
     "name": "stderr",
     "output_type": "stream",
     "text": [
      "/home/seb/anaconda3/lib/python3.7/site-packages/sklearn/ensemble/forest.py:245: FutureWarning: The default value of n_estimators will change from 10 in version 0.20 to 100 in 0.22.\n",
      "  \"10 in version 0.20 to 100 in 0.22.\", FutureWarning)\n"
     ]
    },
    {
     "name": "stdout",
     "output_type": "stream",
     "text": [
      "accuracy: 0.36607142857142855\n",
      "predicted class counts: Counter({1: 97, -1: 13, 0: 2})\n",
      "\n",
      "\n",
      "ROK accuracy: 0.36607142857142855. Average accuracy:0.44457671957671957\n",
      "Data spread:  Counter({'1': 200, '0': 160, '-1': 88})\n"
     ]
    },
    {
     "name": "stderr",
     "output_type": "stream",
     "text": [
      "/home/seb/anaconda3/lib/python3.7/site-packages/sklearn/ensemble/forest.py:245: FutureWarning: The default value of n_estimators will change from 10 in version 0.20 to 100 in 0.22.\n",
      "  \"10 in version 0.20 to 100 in 0.22.\", FutureWarning)\n"
     ]
    },
    {
     "name": "stdout",
     "output_type": "stream",
     "text": [
      "accuracy: 0.44642857142857145\n",
      "predicted class counts: Counter({1: 77, 0: 28, -1: 7})\n",
      "\n",
      "\n",
      "ROL accuracy: 0.44642857142857145. Average accuracy:0.4445812807881773\n",
      "Data spread:  Counter({'1': 220, '0': 144, '-1': 84})\n"
     ]
    },
    {
     "name": "stderr",
     "output_type": "stream",
     "text": [
      "/home/seb/anaconda3/lib/python3.7/site-packages/sklearn/ensemble/forest.py:245: FutureWarning: The default value of n_estimators will change from 10 in version 0.20 to 100 in 0.22.\n",
      "  \"10 in version 0.20 to 100 in 0.22.\", FutureWarning)\n"
     ]
    },
    {
     "name": "stdout",
     "output_type": "stream",
     "text": [
      "accuracy: 0.45535714285714285\n",
      "predicted class counts: Counter({1: 76, 0: 27, -1: 9})\n",
      "\n",
      "\n",
      "ROP accuracy: 0.45535714285714285. Average accuracy:0.44460775710775713\n",
      "Data spread:  Counter({'1': 219, '0': 148, '-1': 81})\n"
     ]
    },
    {
     "name": "stderr",
     "output_type": "stream",
     "text": [
      "/home/seb/anaconda3/lib/python3.7/site-packages/sklearn/ensemble/forest.py:245: FutureWarning: The default value of n_estimators will change from 10 in version 0.20 to 100 in 0.22.\n",
      "  \"10 in version 0.20 to 100 in 0.22.\", FutureWarning)\n"
     ]
    },
    {
     "name": "stdout",
     "output_type": "stream",
     "text": [
      "accuracy: 0.4642857142857143\n",
      "predicted class counts: Counter({1: 105, 0: 5, -1: 2})\n",
      "\n",
      "\n",
      "ROST accuracy: 0.4642857142857143. Average accuracy:0.444655987394958\n",
      "410\n",
      "Data spread:  Counter({'1': 223, '-1': 131, '0': 94})\n"
     ]
    },
    {
     "name": "stderr",
     "output_type": "stream",
     "text": [
      "/home/seb/anaconda3/lib/python3.7/site-packages/sklearn/ensemble/forest.py:245: FutureWarning: The default value of n_estimators will change from 10 in version 0.20 to 100 in 0.22.\n",
      "  \"10 in version 0.20 to 100 in 0.22.\", FutureWarning)\n"
     ]
    },
    {
     "name": "stdout",
     "output_type": "stream",
     "text": [
      "accuracy: 0.4642857142857143\n",
      "predicted class counts: Counter({1: 89, -1: 19, 0: 4})\n",
      "\n",
      "\n",
      "RCL accuracy: 0.4642857142857143. Average accuracy:0.4447039818372337\n",
      "Data spread:  Counter({'1': 228, '-1': 119, '0': 101})\n"
     ]
    },
    {
     "name": "stderr",
     "output_type": "stream",
     "text": [
      "/home/seb/anaconda3/lib/python3.7/site-packages/sklearn/ensemble/forest.py:245: FutureWarning: The default value of n_estimators will change from 10 in version 0.20 to 100 in 0.22.\n",
      "  \"10 in version 0.20 to 100 in 0.22.\", FutureWarning)\n"
     ]
    },
    {
     "name": "stdout",
     "output_type": "stream",
     "text": [
      "accuracy: 0.42857142857142855\n",
      "predicted class counts: Counter({1: 96, -1: 12, 0: 4})\n",
      "\n",
      "\n",
      "CRM accuracy: 0.42857142857142855. Average accuracy:0.44466463414634144\n",
      "Data spread:  Counter({'1': 212, '0': 169, '-1': 67})\n"
     ]
    },
    {
     "name": "stderr",
     "output_type": "stream",
     "text": [
      "/home/seb/anaconda3/lib/python3.7/site-packages/sklearn/ensemble/forest.py:245: FutureWarning: The default value of n_estimators will change from 10 in version 0.20 to 100 in 0.22.\n",
      "  \"10 in version 0.20 to 100 in 0.22.\", FutureWarning)\n"
     ]
    },
    {
     "name": "stdout",
     "output_type": "stream",
     "text": [
      "accuracy: 0.375\n",
      "predicted class counts: Counter({0: 62, 1: 44, -1: 6})\n",
      "\n",
      "\n",
      "SBAC accuracy: 0.375. Average accuracy:0.4444951338199513\n",
      "Data spread:  Counter({'1': 210, '-1': 172, '0': 66})\n"
     ]
    },
    {
     "name": "stderr",
     "output_type": "stream",
     "text": [
      "/home/seb/anaconda3/lib/python3.7/site-packages/sklearn/ensemble/forest.py:245: FutureWarning: The default value of n_estimators will change from 10 in version 0.20 to 100 in 0.22.\n",
      "  \"10 in version 0.20 to 100 in 0.22.\", FutureWarning)\n"
     ]
    },
    {
     "name": "stdout",
     "output_type": "stream",
     "text": [
      "accuracy: 0.4375\n",
      "predicted class counts: Counter({1: 83, -1: 29})\n",
      "\n",
      "\n",
      "SLB accuracy: 0.4375. Average accuracy:0.44447815533980584\n",
      "Data spread:  Counter({'1': 251, '-1': 143, '0': 54})\n"
     ]
    },
    {
     "name": "stderr",
     "output_type": "stream",
     "text": [
      "/home/seb/anaconda3/lib/python3.7/site-packages/sklearn/ensemble/forest.py:245: FutureWarning: The default value of n_estimators will change from 10 in version 0.20 to 100 in 0.22.\n",
      "  \"10 in version 0.20 to 100 in 0.22.\", FutureWarning)\n"
     ]
    },
    {
     "name": "stdout",
     "output_type": "stream",
     "text": [
      "accuracy: 0.5267857142857143\n",
      "predicted class counts: Counter({1: 95, -1: 16, 0: 1})\n",
      "\n",
      "\n",
      "STX accuracy: 0.5267857142857143. Average accuracy:0.44467744725008646\n",
      "Data spread:  Counter({'1': 184, '0': 139, '-1': 125})\n"
     ]
    },
    {
     "name": "stderr",
     "output_type": "stream",
     "text": [
      "/home/seb/anaconda3/lib/python3.7/site-packages/sklearn/ensemble/forest.py:245: FutureWarning: The default value of n_estimators will change from 10 in version 0.20 to 100 in 0.22.\n",
      "  \"10 in version 0.20 to 100 in 0.22.\", FutureWarning)\n"
     ]
    },
    {
     "name": "stdout",
     "output_type": "stream",
     "text": [
      "accuracy: 0.36607142857142855\n",
      "predicted class counts: Counter({0: 50, 1: 36, -1: 26})\n",
      "\n",
      "\n",
      "SEE accuracy: 0.36607142857142855. Average accuracy:0.44448757763975155\n",
      "Data spread:  Counter({'0': 232, '1': 168, '-1': 48})\n"
     ]
    },
    {
     "name": "stderr",
     "output_type": "stream",
     "text": [
      "/home/seb/anaconda3/lib/python3.7/site-packages/sklearn/ensemble/forest.py:245: FutureWarning: The default value of n_estimators will change from 10 in version 0.20 to 100 in 0.22.\n",
      "  \"10 in version 0.20 to 100 in 0.22.\", FutureWarning)\n"
     ]
    },
    {
     "name": "stdout",
     "output_type": "stream",
     "text": [
      "accuracy: 0.4732142857142857\n",
      "predicted class counts: Counter({0: 92, 1: 19, -1: 1})\n",
      "\n",
      "\n",
      "SRE accuracy: 0.4732142857142857. Average accuracy:0.4445567986230637\n",
      "Data spread:  Counter({'1': 197, '0': 167, '-1': 84})\n"
     ]
    },
    {
     "name": "stderr",
     "output_type": "stream",
     "text": [
      "/home/seb/anaconda3/lib/python3.7/site-packages/sklearn/ensemble/forest.py:245: FutureWarning: The default value of n_estimators will change from 10 in version 0.20 to 100 in 0.22.\n",
      "  \"10 in version 0.20 to 100 in 0.22.\", FutureWarning)\n"
     ]
    },
    {
     "name": "stdout",
     "output_type": "stream",
     "text": [
      "accuracy: 0.4375\n",
      "predicted class counts: Counter({1: 57, 0: 46, -1: 9})\n",
      "\n",
      "\n",
      "SHW accuracy: 0.4375. Average accuracy:0.44453983516483514\n",
      "Data spread:  Counter({'0': 210, '1': 158, '-1': 80})\n"
     ]
    },
    {
     "name": "stderr",
     "output_type": "stream",
     "text": [
      "/home/seb/anaconda3/lib/python3.7/site-packages/sklearn/ensemble/forest.py:245: FutureWarning: The default value of n_estimators will change from 10 in version 0.20 to 100 in 0.22.\n",
      "  \"10 in version 0.20 to 100 in 0.22.\", FutureWarning)\n"
     ]
    },
    {
     "name": "stdout",
     "output_type": "stream",
     "text": [
      "accuracy: 0.44642857142857145\n",
      "predicted class counts: Counter({0: 87, 1: 18, -1: 7})\n",
      "\n",
      "\n",
      "SPG accuracy: 0.44642857142857145. Average accuracy:0.4445443645083933\n",
      "Data spread:  Counter({'1': 227, '-1': 131, '0': 90})\n"
     ]
    },
    {
     "name": "stderr",
     "output_type": "stream",
     "text": [
      "/home/seb/anaconda3/lib/python3.7/site-packages/sklearn/ensemble/forest.py:245: FutureWarning: The default value of n_estimators will change from 10 in version 0.20 to 100 in 0.22.\n",
      "  \"10 in version 0.20 to 100 in 0.22.\", FutureWarning)\n"
     ]
    },
    {
     "name": "stdout",
     "output_type": "stream",
     "text": [
      "accuracy: 0.4732142857142857\n",
      "predicted class counts: Counter({1: 83, -1: 27, 0: 2})\n",
      "\n",
      "\n",
      "SWKS accuracy: 0.4732142857142857. Average accuracy:0.44461295283663704\n",
      "420\n",
      "Data spread:  Counter({'0': 204, '1': 163, '-1': 81})\n"
     ]
    },
    {
     "name": "stderr",
     "output_type": "stream",
     "text": [
      "/home/seb/anaconda3/lib/python3.7/site-packages/sklearn/ensemble/forest.py:245: FutureWarning: The default value of n_estimators will change from 10 in version 0.20 to 100 in 0.22.\n",
      "  \"10 in version 0.20 to 100 in 0.22.\", FutureWarning)\n"
     ]
    },
    {
     "name": "stdout",
     "output_type": "stream",
     "text": [
      "accuracy: 0.375\n",
      "predicted class counts: Counter({0: 80, -1: 17, 1: 15})\n",
      "\n",
      "\n",
      "SLG accuracy: 0.375. Average accuracy:0.44444681213774295\n",
      "Data spread:  Counter({'1': 197, '0': 141, '-1': 110})\n"
     ]
    },
    {
     "name": "stderr",
     "output_type": "stream",
     "text": [
      "/home/seb/anaconda3/lib/python3.7/site-packages/sklearn/ensemble/forest.py:245: FutureWarning: The default value of n_estimators will change from 10 in version 0.20 to 100 in 0.22.\n",
      "  \"10 in version 0.20 to 100 in 0.22.\", FutureWarning)\n"
     ]
    },
    {
     "name": "stdout",
     "output_type": "stream",
     "text": [
      "accuracy: 0.32142857142857145\n",
      "predicted class counts: Counter({1: 101, -1: 6, 0: 5})\n",
      "\n",
      "\n",
      "SNA accuracy: 0.32142857142857145. Average accuracy:0.44415391156462586\n",
      "Data spread:  Counter({'0': 212, '1': 195, '-1': 41})\n"
     ]
    },
    {
     "name": "stderr",
     "output_type": "stream",
     "text": [
      "/home/seb/anaconda3/lib/python3.7/site-packages/sklearn/ensemble/forest.py:245: FutureWarning: The default value of n_estimators will change from 10 in version 0.20 to 100 in 0.22.\n",
      "  \"10 in version 0.20 to 100 in 0.22.\", FutureWarning)\n"
     ]
    },
    {
     "name": "stdout",
     "output_type": "stream",
     "text": [
      "accuracy: 0.4017857142857143\n",
      "predicted class counts: Counter({0: 81, 1: 27, -1: 4})\n",
      "\n",
      "\n",
      "SO accuracy: 0.4017857142857143. Average accuracy:0.44405327451645743\n",
      "Data spread:  Counter({'1': 206, '-1': 126, '0': 116})\n"
     ]
    },
    {
     "name": "stderr",
     "output_type": "stream",
     "text": [
      "/home/seb/anaconda3/lib/python3.7/site-packages/sklearn/ensemble/forest.py:245: FutureWarning: The default value of n_estimators will change from 10 in version 0.20 to 100 in 0.22.\n",
      "  \"10 in version 0.20 to 100 in 0.22.\", FutureWarning)\n"
     ]
    },
    {
     "name": "stdout",
     "output_type": "stream",
     "text": [
      "accuracy: 0.3392857142857143\n",
      "predicted class counts: Counter({1: 75, -1: 26, 0: 11})\n",
      "\n",
      "\n",
      "LUV accuracy: 0.3392857142857143. Average accuracy:0.44380501015572105\n",
      "Data spread:  Counter({'1': 207, '0': 164, '-1': 77})\n"
     ]
    },
    {
     "name": "stderr",
     "output_type": "stream",
     "text": [
      "/home/seb/anaconda3/lib/python3.7/site-packages/sklearn/ensemble/forest.py:245: FutureWarning: The default value of n_estimators will change from 10 in version 0.20 to 100 in 0.22.\n",
      "  \"10 in version 0.20 to 100 in 0.22.\", FutureWarning)\n"
     ]
    },
    {
     "name": "stdout",
     "output_type": "stream",
     "text": [
      "accuracy: 0.4375\n",
      "predicted class counts: Counter({1: 73, 0: 33, -1: 6})\n",
      "\n",
      "\n",
      "SPGI accuracy: 0.4375. Average accuracy:0.44379010469436003\n",
      "Data spread:  Counter({'1': 229, '-1': 144, '0': 75})\n"
     ]
    },
    {
     "name": "stderr",
     "output_type": "stream",
     "text": [
      "/home/seb/anaconda3/lib/python3.7/site-packages/sklearn/ensemble/forest.py:245: FutureWarning: The default value of n_estimators will change from 10 in version 0.20 to 100 in 0.22.\n",
      "  \"10 in version 0.20 to 100 in 0.22.\", FutureWarning)\n"
     ]
    },
    {
     "name": "stdout",
     "output_type": "stream",
     "text": [
      "accuracy: 0.4107142857142857\n",
      "predicted class counts: Counter({1: 84, -1: 26, 0: 2})\n",
      "\n",
      "\n",
      "SWK accuracy: 0.4107142857142857. Average accuracy:0.44371209568733155\n",
      "Data spread:  Counter({'1': 197, '0': 191, '-1': 60})\n"
     ]
    },
    {
     "name": "stderr",
     "output_type": "stream",
     "text": [
      "/home/seb/anaconda3/lib/python3.7/site-packages/sklearn/ensemble/forest.py:245: FutureWarning: The default value of n_estimators will change from 10 in version 0.20 to 100 in 0.22.\n",
      "  \"10 in version 0.20 to 100 in 0.22.\", FutureWarning)\n"
     ]
    },
    {
     "name": "stdout",
     "output_type": "stream",
     "text": [
      "accuracy: 0.4107142857142857\n",
      "predicted class counts: Counter({1: 68, 0: 36, -1: 8})\n",
      "\n",
      "\n",
      "SBUX accuracy: 0.4107142857142857. Average accuracy:0.4436344537815126\n",
      "Data spread:  Counter({'1': 195, '-1': 150, '0': 103})\n"
     ]
    },
    {
     "name": "stderr",
     "output_type": "stream",
     "text": [
      "/home/seb/anaconda3/lib/python3.7/site-packages/sklearn/ensemble/forest.py:245: FutureWarning: The default value of n_estimators will change from 10 in version 0.20 to 100 in 0.22.\n",
      "  \"10 in version 0.20 to 100 in 0.22.\", FutureWarning)\n"
     ]
    },
    {
     "name": "stdout",
     "output_type": "stream",
     "text": [
      "accuracy: 0.375\n",
      "predicted class counts: Counter({1: 77, -1: 32, 0: 3})\n",
      "\n",
      "\n",
      "STT accuracy: 0.375. Average accuracy:0.44347334004024147\n",
      "Data spread:  Counter({'1': 204, '0': 170, '-1': 74})\n"
     ]
    },
    {
     "name": "stderr",
     "output_type": "stream",
     "text": [
      "/home/seb/anaconda3/lib/python3.7/site-packages/sklearn/ensemble/forest.py:245: FutureWarning: The default value of n_estimators will change from 10 in version 0.20 to 100 in 0.22.\n",
      "  \"10 in version 0.20 to 100 in 0.22.\", FutureWarning)\n"
     ]
    },
    {
     "name": "stdout",
     "output_type": "stream",
     "text": [
      "accuracy: 0.4107142857142857\n",
      "predicted class counts: Counter({1: 53, 0: 52, -1: 7})\n",
      "\n",
      "\n",
      "SYK accuracy: 0.4107142857142857. Average accuracy:0.44339662094345933\n",
      "Data spread:  Counter({'1': 180, '0': 153, '-1': 115})\n"
     ]
    },
    {
     "name": "stderr",
     "output_type": "stream",
     "text": [
      "/home/seb/anaconda3/lib/python3.7/site-packages/sklearn/ensemble/forest.py:245: FutureWarning: The default value of n_estimators will change from 10 in version 0.20 to 100 in 0.22.\n",
      "  \"10 in version 0.20 to 100 in 0.22.\", FutureWarning)\n"
     ]
    },
    {
     "name": "stdout",
     "output_type": "stream",
     "text": [
      "accuracy: 0.4107142857142857\n",
      "predicted class counts: Counter({0: 48, 1: 43, -1: 21})\n",
      "\n",
      "\n",
      "STI accuracy: 0.4107142857142857. Average accuracy:0.4433202603471295\n",
      "430\n",
      "Data spread:  Counter({'1': 241, '-1': 139, '0': 68})\n"
     ]
    },
    {
     "name": "stderr",
     "output_type": "stream",
     "text": [
      "/home/seb/anaconda3/lib/python3.7/site-packages/sklearn/ensemble/forest.py:245: FutureWarning: The default value of n_estimators will change from 10 in version 0.20 to 100 in 0.22.\n",
      "  \"10 in version 0.20 to 100 in 0.22.\", FutureWarning)\n"
     ]
    },
    {
     "name": "stdout",
     "output_type": "stream",
     "text": [
      "accuracy: 0.5535714285714286\n",
      "predicted class counts: Counter({1: 92, -1: 19, 0: 1})\n",
      "\n",
      "\n",
      "SIVB accuracy: 0.5535714285714286. Average accuracy:0.44357725607725607\n",
      "Data spread:  Counter({'1': 216, '-1': 131, '0': 101})\n"
     ]
    },
    {
     "name": "stderr",
     "output_type": "stream",
     "text": [
      "/home/seb/anaconda3/lib/python3.7/site-packages/sklearn/ensemble/forest.py:245: FutureWarning: The default value of n_estimators will change from 10 in version 0.20 to 100 in 0.22.\n",
      "  \"10 in version 0.20 to 100 in 0.22.\", FutureWarning)\n"
     ]
    },
    {
     "name": "stdout",
     "output_type": "stream",
     "text": [
      "accuracy: 0.38392857142857145\n",
      "predicted class counts: Counter({1: 95, -1: 13, 0: 4})\n",
      "\n",
      "\n",
      "SYMC accuracy: 0.38392857142857145. Average accuracy:0.44343853820598006\n",
      "Data spread:  Counter({'1': 208, '-1': 127, '0': 113})\n"
     ]
    },
    {
     "name": "stderr",
     "output_type": "stream",
     "text": [
      "/home/seb/anaconda3/lib/python3.7/site-packages/sklearn/ensemble/forest.py:245: FutureWarning: The default value of n_estimators will change from 10 in version 0.20 to 100 in 0.22.\n",
      "  \"10 in version 0.20 to 100 in 0.22.\", FutureWarning)\n"
     ]
    },
    {
     "name": "stdout",
     "output_type": "stream",
     "text": [
      "accuracy: 0.39285714285714285\n",
      "predicted class counts: Counter({1: 92, -1: 19, 0: 1})\n",
      "\n",
      "\n",
      "SYF accuracy: 0.39285714285714285. Average accuracy:0.4433211799801127\n",
      "Data spread:  Counter({'1': 229, '0': 127, '-1': 92})\n"
     ]
    },
    {
     "name": "stderr",
     "output_type": "stream",
     "text": [
      "/home/seb/anaconda3/lib/python3.7/site-packages/sklearn/ensemble/forest.py:245: FutureWarning: The default value of n_estimators will change from 10 in version 0.20 to 100 in 0.22.\n",
      "  \"10 in version 0.20 to 100 in 0.22.\", FutureWarning)\n"
     ]
    },
    {
     "name": "stdout",
     "output_type": "stream",
     "text": [
      "accuracy: 0.48214285714285715\n",
      "predicted class counts: Counter({1: 78, 0: 23, -1: 11})\n",
      "\n",
      "\n",
      "SNPS accuracy: 0.48214285714285715. Average accuracy:0.443411044973545\n",
      "Data spread:  Counter({'0': 222, '1': 177, '-1': 49})\n"
     ]
    },
    {
     "name": "stderr",
     "output_type": "stream",
     "text": [
      "/home/seb/anaconda3/lib/python3.7/site-packages/sklearn/ensemble/forest.py:245: FutureWarning: The default value of n_estimators will change from 10 in version 0.20 to 100 in 0.22.\n",
      "  \"10 in version 0.20 to 100 in 0.22.\", FutureWarning)\n"
     ]
    },
    {
     "name": "stdout",
     "output_type": "stream",
     "text": [
      "accuracy: 0.4107142857142857\n",
      "predicted class counts: Counter({0: 86, 1: 24, -1: 2})\n",
      "\n",
      "\n",
      "SYY accuracy: 0.4107142857142857. Average accuracy:0.4433355328274497\n",
      "Data spread:  Counter({'1': 198, '0': 170, '-1': 80})\n"
     ]
    },
    {
     "name": "stderr",
     "output_type": "stream",
     "text": [
      "/home/seb/anaconda3/lib/python3.7/site-packages/sklearn/ensemble/forest.py:245: FutureWarning: The default value of n_estimators will change from 10 in version 0.20 to 100 in 0.22.\n",
      "  \"10 in version 0.20 to 100 in 0.22.\", FutureWarning)\n"
     ]
    },
    {
     "name": "stdout",
     "output_type": "stream",
     "text": [
      "accuracy: 0.375\n",
      "predicted class counts: Counter({1: 79, 0: 27, -1: 6})\n",
      "\n",
      "\n",
      "TMUS accuracy: 0.375. Average accuracy:0.44317807768268597\n",
      "Data spread:  Counter({'1': 215, '0': 118, '-1': 115})\n"
     ]
    },
    {
     "name": "stderr",
     "output_type": "stream",
     "text": [
      "/home/seb/anaconda3/lib/python3.7/site-packages/sklearn/ensemble/forest.py:245: FutureWarning: The default value of n_estimators will change from 10 in version 0.20 to 100 in 0.22.\n",
      "  \"10 in version 0.20 to 100 in 0.22.\", FutureWarning)\n"
     ]
    },
    {
     "name": "stdout",
     "output_type": "stream",
     "text": [
      "accuracy: 0.45535714285714285\n",
      "predicted class counts: Counter({1: 82, -1: 22, 0: 8})\n",
      "\n",
      "\n",
      "TROW accuracy: 0.45535714285714285. Average accuracy:0.44320607553366176\n",
      "Data spread:  Counter({'1': 235, '-1': 135, '0': 78})\n"
     ]
    },
    {
     "name": "stderr",
     "output_type": "stream",
     "text": [
      "/home/seb/anaconda3/lib/python3.7/site-packages/sklearn/ensemble/forest.py:245: FutureWarning: The default value of n_estimators will change from 10 in version 0.20 to 100 in 0.22.\n",
      "  \"10 in version 0.20 to 100 in 0.22.\", FutureWarning)\n"
     ]
    },
    {
     "name": "stdout",
     "output_type": "stream",
     "text": [
      "accuracy: 0.5357142857142857\n",
      "predicted class counts: Counter({1: 80, -1: 30, 0: 2})\n",
      "\n",
      "\n",
      "TTWO accuracy: 0.5357142857142857. Average accuracy:0.443418250327654\n",
      "Data spread:  Counter({'1': 202, '-1': 132, '0': 114})\n"
     ]
    },
    {
     "name": "stderr",
     "output_type": "stream",
     "text": [
      "/home/seb/anaconda3/lib/python3.7/site-packages/sklearn/ensemble/forest.py:245: FutureWarning: The default value of n_estimators will change from 10 in version 0.20 to 100 in 0.22.\n",
      "  \"10 in version 0.20 to 100 in 0.22.\", FutureWarning)\n"
     ]
    },
    {
     "name": "stdout",
     "output_type": "stream",
     "text": [
      "accuracy: 0.38392857142857145\n",
      "predicted class counts: Counter({1: 74, -1: 30, 0: 8})\n",
      "\n",
      "\n",
      "TPR accuracy: 0.38392857142857145. Average accuracy:0.44328211833932657\n",
      "Data spread:  Counter({'1': 218, '0': 145, '-1': 85})\n"
     ]
    },
    {
     "name": "stderr",
     "output_type": "stream",
     "text": [
      "/home/seb/anaconda3/lib/python3.7/site-packages/sklearn/ensemble/forest.py:245: FutureWarning: The default value of n_estimators will change from 10 in version 0.20 to 100 in 0.22.\n",
      "  \"10 in version 0.20 to 100 in 0.22.\", FutureWarning)\n"
     ]
    },
    {
     "name": "stdout",
     "output_type": "stream",
     "text": [
      "accuracy: 0.4375\n",
      "predicted class counts: Counter({1: 74, 0: 29, -1: 9})\n",
      "\n",
      "\n",
      "TGT accuracy: 0.4375. Average accuracy:0.44326891715590344\n",
      "440\n",
      "Data spread:  Counter({'1': 202, '0': 135, '-1': 111})\n"
     ]
    },
    {
     "name": "stderr",
     "output_type": "stream",
     "text": [
      "/home/seb/anaconda3/lib/python3.7/site-packages/sklearn/ensemble/forest.py:245: FutureWarning: The default value of n_estimators will change from 10 in version 0.20 to 100 in 0.22.\n",
      "  \"10 in version 0.20 to 100 in 0.22.\", FutureWarning)\n"
     ]
    },
    {
     "name": "stdout",
     "output_type": "stream",
     "text": [
      "accuracy: 0.4375\n",
      "predicted class counts: Counter({1: 69, 0: 22, -1: 21})\n",
      "\n",
      "\n",
      "TEL accuracy: 0.4375. Average accuracy:0.44325577611454603\n",
      "Data spread:  Counter({'1': 243, '-1': 163, '0': 42})\n"
     ]
    },
    {
     "name": "stderr",
     "output_type": "stream",
     "text": [
      "/home/seb/anaconda3/lib/python3.7/site-packages/sklearn/ensemble/forest.py:245: FutureWarning: The default value of n_estimators will change from 10 in version 0.20 to 100 in 0.22.\n",
      "  \"10 in version 0.20 to 100 in 0.22.\", FutureWarning)\n"
     ]
    },
    {
     "name": "stdout",
     "output_type": "stream",
     "text": [
      "accuracy: 0.5446428571428571\n",
      "predicted class counts: Counter({1: 90, -1: 22})\n",
      "\n",
      "\n",
      "FTI accuracy: 0.5446428571428571. Average accuracy:0.4434862012987013\n",
      "Data spread:  Counter({'1': 201, '0': 140, '-1': 107})\n"
     ]
    },
    {
     "name": "stderr",
     "output_type": "stream",
     "text": [
      "/home/seb/anaconda3/lib/python3.7/site-packages/sklearn/ensemble/forest.py:245: FutureWarning: The default value of n_estimators will change from 10 in version 0.20 to 100 in 0.22.\n",
      "  \"10 in version 0.20 to 100 in 0.22.\", FutureWarning)\n"
     ]
    },
    {
     "name": "stdout",
     "output_type": "stream",
     "text": [
      "accuracy: 0.44642857142857145\n",
      "predicted class counts: Counter({1: 70, -1: 22, 0: 20})\n",
      "\n",
      "\n",
      "TFX accuracy: 0.44642857142857145. Average accuracy:0.44349287333981213\n",
      "Data spread:  Counter({'1': 236, '-1': 106, '0': 106})\n"
     ]
    },
    {
     "name": "stderr",
     "output_type": "stream",
     "text": [
      "/home/seb/anaconda3/lib/python3.7/site-packages/sklearn/ensemble/forest.py:245: FutureWarning: The default value of n_estimators will change from 10 in version 0.20 to 100 in 0.22.\n",
      "  \"10 in version 0.20 to 100 in 0.22.\", FutureWarning)\n"
     ]
    },
    {
     "name": "stdout",
     "output_type": "stream",
     "text": [
      "accuracy: 0.5\n",
      "predicted class counts: Counter({1: 97, -1: 12, 0: 3})\n",
      "\n",
      "\n",
      "TXN accuracy: 0.5. Average accuracy:0.4436207175177763\n",
      "Data spread:  Counter({'1': 210, '0': 122, '-1': 116})\n"
     ]
    },
    {
     "name": "stderr",
     "output_type": "stream",
     "text": [
      "/home/seb/anaconda3/lib/python3.7/site-packages/sklearn/ensemble/forest.py:245: FutureWarning: The default value of n_estimators will change from 10 in version 0.20 to 100 in 0.22.\n",
      "  \"10 in version 0.20 to 100 in 0.22.\", FutureWarning)\n"
     ]
    },
    {
     "name": "stdout",
     "output_type": "stream",
     "text": [
      "accuracy: 0.39285714285714285\n",
      "predicted class counts: Counter({1: 84, 0: 17, -1: 11})\n",
      "\n",
      "\n",
      "TXT accuracy: 0.39285714285714285. Average accuracy:0.44350612705578846\n",
      "Data spread:  Counter({'1': 240, '0': 114, '-1': 94})\n"
     ]
    },
    {
     "name": "stderr",
     "output_type": "stream",
     "text": [
      "/home/seb/anaconda3/lib/python3.7/site-packages/sklearn/ensemble/forest.py:245: FutureWarning: The default value of n_estimators will change from 10 in version 0.20 to 100 in 0.22.\n",
      "  \"10 in version 0.20 to 100 in 0.22.\", FutureWarning)\n"
     ]
    },
    {
     "name": "stdout",
     "output_type": "stream",
     "text": [
      "accuracy: 0.5178571428571429\n",
      "predicted class counts: Counter({1: 91, 0: 12, -1: 9})\n",
      "\n",
      "\n",
      "TMO accuracy: 0.5178571428571429. Average accuracy:0.4436735842985843\n",
      "Data spread:  Counter({'1': 193, '0': 146, '-1': 109})\n"
     ]
    },
    {
     "name": "stderr",
     "output_type": "stream",
     "text": [
      "/home/seb/anaconda3/lib/python3.7/site-packages/sklearn/ensemble/forest.py:245: FutureWarning: The default value of n_estimators will change from 10 in version 0.20 to 100 in 0.22.\n",
      "  \"10 in version 0.20 to 100 in 0.22.\", FutureWarning)\n"
     ]
    },
    {
     "name": "stdout",
     "output_type": "stream",
     "text": [
      "accuracy: 0.35714285714285715\n",
      "predicted class counts: Counter({1: 68, 0: 23, -1: 21})\n",
      "\n",
      "\n",
      "TIF accuracy: 0.35714285714285715. Average accuracy:0.44347913322632426\n",
      "Data spread:  Counter({'1': 263, '-1': 142, '0': 43})\n"
     ]
    },
    {
     "name": "stderr",
     "output_type": "stream",
     "text": [
      "/home/seb/anaconda3/lib/python3.7/site-packages/sklearn/ensemble/forest.py:245: FutureWarning: The default value of n_estimators will change from 10 in version 0.20 to 100 in 0.22.\n",
      "  \"10 in version 0.20 to 100 in 0.22.\", FutureWarning)\n"
     ]
    },
    {
     "name": "stdout",
     "output_type": "stream",
     "text": [
      "accuracy: 0.5714285714285714\n",
      "predicted class counts: Counter({1: 89, -1: 23})\n",
      "\n",
      "\n",
      "TWTR accuracy: 0.5714285714285714. Average accuracy:0.4437660153747598\n",
      "Data spread:  Counter({'1': 216, '0': 172, '-1': 60})\n"
     ]
    },
    {
     "name": "stderr",
     "output_type": "stream",
     "text": [
      "/home/seb/anaconda3/lib/python3.7/site-packages/sklearn/ensemble/forest.py:245: FutureWarning: The default value of n_estimators will change from 10 in version 0.20 to 100 in 0.22.\n",
      "  \"10 in version 0.20 to 100 in 0.22.\", FutureWarning)\n"
     ]
    },
    {
     "name": "stdout",
     "output_type": "stream",
     "text": [
      "accuracy: 0.4017857142857143\n",
      "predicted class counts: Counter({1: 74, 0: 36, -1: 2})\n",
      "\n",
      "\n",
      "TJX accuracy: 0.4017857142857143. Average accuracy:0.44367209971236815\n",
      "Data spread:  Counter({'1': 231, '0': 110, '-1': 107})\n"
     ]
    },
    {
     "name": "stderr",
     "output_type": "stream",
     "text": [
      "/home/seb/anaconda3/lib/python3.7/site-packages/sklearn/ensemble/forest.py:245: FutureWarning: The default value of n_estimators will change from 10 in version 0.20 to 100 in 0.22.\n",
      "  \"10 in version 0.20 to 100 in 0.22.\", FutureWarning)\n"
     ]
    },
    {
     "name": "stdout",
     "output_type": "stream",
     "text": [
      "accuracy: 0.5357142857142857\n",
      "predicted class counts: Counter({1: 99, -1: 7, 0: 6})\n",
      "\n",
      "\n",
      "TSCO accuracy: 0.5357142857142857. Average accuracy:0.44387755102040816\n",
      "450\n",
      "Data spread:  Counter({'1': 230, '0': 132, '-1': 86})\n"
     ]
    },
    {
     "name": "stderr",
     "output_type": "stream",
     "text": [
      "/home/seb/anaconda3/lib/python3.7/site-packages/sklearn/ensemble/forest.py:245: FutureWarning: The default value of n_estimators will change from 10 in version 0.20 to 100 in 0.22.\n",
      "  \"10 in version 0.20 to 100 in 0.22.\", FutureWarning)\n"
     ]
    },
    {
     "name": "stdout",
     "output_type": "stream",
     "text": [
      "accuracy: 0.41964285714285715\n",
      "predicted class counts: Counter({1: 106, -1: 4, 0: 2})\n",
      "\n",
      "\n",
      "TDG accuracy: 0.41964285714285715. Average accuracy:0.44382357620108176\n",
      "Data spread:  Counter({'0': 216, '1': 157, '-1': 75})\n"
     ]
    },
    {
     "name": "stderr",
     "output_type": "stream",
     "text": [
      "/home/seb/anaconda3/lib/python3.7/site-packages/sklearn/ensemble/forest.py:245: FutureWarning: The default value of n_estimators will change from 10 in version 0.20 to 100 in 0.22.\n",
      "  \"10 in version 0.20 to 100 in 0.22.\", FutureWarning)\n"
     ]
    },
    {
     "name": "stdout",
     "output_type": "stream",
     "text": [
      "accuracy: 0.5089285714285714\n",
      "predicted class counts: Counter({0: 101, 1: 7, -1: 4})\n",
      "\n",
      "\n",
      "TRV accuracy: 0.5089285714285714. Average accuracy:0.44396825396825396\n",
      "Data spread:  Counter({'1': 229, '-1': 161, '0': 58})\n"
     ]
    },
    {
     "name": "stderr",
     "output_type": "stream",
     "text": [
      "/home/seb/anaconda3/lib/python3.7/site-packages/sklearn/ensemble/forest.py:245: FutureWarning: The default value of n_estimators will change from 10 in version 0.20 to 100 in 0.22.\n",
      "  \"10 in version 0.20 to 100 in 0.22.\", FutureWarning)\n"
     ]
    },
    {
     "name": "stdout",
     "output_type": "stream",
     "text": [
      "accuracy: 0.5089285714285714\n",
      "predicted class counts: Counter({1: 59, -1: 53})\n",
      "\n",
      "\n",
      "TRIP accuracy: 0.5089285714285714. Average accuracy:0.4441122901488755\n",
      "Data spread:  Counter({'1': 193, '0': 139, '-1': 116})\n"
     ]
    },
    {
     "name": "stderr",
     "output_type": "stream",
     "text": [
      "/home/seb/anaconda3/lib/python3.7/site-packages/sklearn/ensemble/forest.py:245: FutureWarning: The default value of n_estimators will change from 10 in version 0.20 to 100 in 0.22.\n",
      "  \"10 in version 0.20 to 100 in 0.22.\", FutureWarning)\n"
     ]
    },
    {
     "name": "stdout",
     "output_type": "stream",
     "text": [
      "accuracy: 0.4017857142857143\n",
      "predicted class counts: Counter({1: 72, 0: 25, -1: 15})\n",
      "\n",
      "\n",
      "TSN accuracy: 0.4017857142857143. Average accuracy:0.44401864728192164\n",
      "Data spread:  Counter({'0': 239, '1': 154, '-1': 55})\n"
     ]
    },
    {
     "name": "stderr",
     "output_type": "stream",
     "text": [
      "/home/seb/anaconda3/lib/python3.7/site-packages/sklearn/ensemble/forest.py:245: FutureWarning: The default value of n_estimators will change from 10 in version 0.20 to 100 in 0.22.\n",
      "  \"10 in version 0.20 to 100 in 0.22.\", FutureWarning)\n"
     ]
    },
    {
     "name": "stdout",
     "output_type": "stream",
     "text": [
      "accuracy: 0.5714285714285714\n",
      "predicted class counts: Counter({0: 94, 1: 17, -1: 1})\n",
      "\n",
      "\n",
      "UDR accuracy: 0.5714285714285714. Average accuracy:0.4442999053926206\n",
      "Data spread:  Counter({'1': 236, '-1': 114, '0': 98})\n"
     ]
    },
    {
     "name": "stderr",
     "output_type": "stream",
     "text": [
      "/home/seb/anaconda3/lib/python3.7/site-packages/sklearn/ensemble/forest.py:245: FutureWarning: The default value of n_estimators will change from 10 in version 0.20 to 100 in 0.22.\n",
      "  \"10 in version 0.20 to 100 in 0.22.\", FutureWarning)\n"
     ]
    },
    {
     "name": "stdout",
     "output_type": "stream",
     "text": [
      "accuracy: 0.4732142857142857\n",
      "predicted class counts: Counter({1: 107, -1: 4, 0: 1})\n",
      "\n",
      "\n",
      "ULTA accuracy: 0.4732142857142857. Average accuracy:0.44436359345500315\n",
      "Data spread:  Counter({'0': 197, '1': 168, '-1': 83})\n"
     ]
    },
    {
     "name": "stderr",
     "output_type": "stream",
     "text": [
      "/home/seb/anaconda3/lib/python3.7/site-packages/sklearn/ensemble/forest.py:245: FutureWarning: The default value of n_estimators will change from 10 in version 0.20 to 100 in 0.22.\n",
      "  \"10 in version 0.20 to 100 in 0.22.\", FutureWarning)\n"
     ]
    },
    {
     "name": "stdout",
     "output_type": "stream",
     "text": [
      "accuracy: 0.42857142857142855\n",
      "predicted class counts: Counter({0: 61, 1: 44, -1: 7})\n",
      "\n",
      "\n",
      "USB accuracy: 0.42857142857142855. Average accuracy:0.44432888540031396\n",
      "Data spread:  Counter({'1': 243, '-1': 174, '0': 31})\n"
     ]
    },
    {
     "name": "stderr",
     "output_type": "stream",
     "text": [
      "/home/seb/anaconda3/lib/python3.7/site-packages/sklearn/ensemble/forest.py:245: FutureWarning: The default value of n_estimators will change from 10 in version 0.20 to 100 in 0.22.\n",
      "  \"10 in version 0.20 to 100 in 0.22.\", FutureWarning)\n"
     ]
    },
    {
     "name": "stdout",
     "output_type": "stream",
     "text": [
      "accuracy: 0.5267857142857143\n",
      "predicted class counts: Counter({1: 94, -1: 18})\n",
      "\n",
      "\n",
      "UAA accuracy: 0.5267857142857143. Average accuracy:0.44450971177944865\n",
      "Data spread:  Counter({'1': 244, '-1': 174, '0': 30})\n"
     ]
    },
    {
     "name": "stderr",
     "output_type": "stream",
     "text": [
      "/home/seb/anaconda3/lib/python3.7/site-packages/sklearn/ensemble/forest.py:245: FutureWarning: The default value of n_estimators will change from 10 in version 0.20 to 100 in 0.22.\n",
      "  \"10 in version 0.20 to 100 in 0.22.\", FutureWarning)\n"
     ]
    },
    {
     "name": "stdout",
     "output_type": "stream",
     "text": [
      "accuracy: 0.5089285714285714\n",
      "predicted class counts: Counter({1: 92, -1: 20})\n",
      "\n",
      "\n",
      "UA accuracy: 0.5089285714285714. Average accuracy:0.44465067208502657\n",
      "Data spread:  Counter({'1': 196, '0': 155, '-1': 97})\n"
     ]
    },
    {
     "name": "stderr",
     "output_type": "stream",
     "text": [
      "/home/seb/anaconda3/lib/python3.7/site-packages/sklearn/ensemble/forest.py:245: FutureWarning: The default value of n_estimators will change from 10 in version 0.20 to 100 in 0.22.\n",
      "  \"10 in version 0.20 to 100 in 0.22.\", FutureWarning)\n"
     ]
    },
    {
     "name": "stdout",
     "output_type": "stream",
     "text": [
      "accuracy: 0.39285714285714285\n",
      "predicted class counts: Counter({1: 71, 0: 26, -1: 15})\n",
      "\n",
      "\n",
      "UNP accuracy: 0.39285714285714285. Average accuracy:0.44453758577666874\n",
      "460\n",
      "Data spread:  Counter({'1': 218, '-1': 126, '0': 104})\n"
     ]
    },
    {
     "name": "stderr",
     "output_type": "stream",
     "text": [
      "/home/seb/anaconda3/lib/python3.7/site-packages/sklearn/ensemble/forest.py:245: FutureWarning: The default value of n_estimators will change from 10 in version 0.20 to 100 in 0.22.\n",
      "  \"10 in version 0.20 to 100 in 0.22.\", FutureWarning)\n"
     ]
    },
    {
     "name": "stdout",
     "output_type": "stream",
     "text": [
      "accuracy: 0.44642857142857145\n",
      "predicted class counts: Counter({1: 84, -1: 18, 0: 10})\n",
      "\n",
      "\n",
      "UAL accuracy: 0.44642857142857145. Average accuracy:0.44454170557111733\n",
      "Data spread:  Counter({'1': 193, '0': 149, '-1': 106})\n"
     ]
    },
    {
     "name": "stderr",
     "output_type": "stream",
     "text": [
      "/home/seb/anaconda3/lib/python3.7/site-packages/sklearn/ensemble/forest.py:245: FutureWarning: The default value of n_estimators will change from 10 in version 0.20 to 100 in 0.22.\n",
      "  \"10 in version 0.20 to 100 in 0.22.\", FutureWarning)\n"
     ]
    },
    {
     "name": "stdout",
     "output_type": "stream",
     "text": [
      "accuracy: 0.3125\n",
      "predicted class counts: Counter({1: 57, 0: 32, -1: 23})\n",
      "\n",
      "\n",
      "UNH accuracy: 0.3125. Average accuracy:0.44425465838509315\n",
      "Data spread:  Counter({'1': 178, '0': 166, '-1': 104})\n"
     ]
    },
    {
     "name": "stderr",
     "output_type": "stream",
     "text": [
      "/home/seb/anaconda3/lib/python3.7/site-packages/sklearn/ensemble/forest.py:245: FutureWarning: The default value of n_estimators will change from 10 in version 0.20 to 100 in 0.22.\n",
      "  \"10 in version 0.20 to 100 in 0.22.\", FutureWarning)\n"
     ]
    },
    {
     "name": "stdout",
     "output_type": "stream",
     "text": [
      "accuracy: 0.39285714285714285\n",
      "predicted class counts: Counter({1: 51, 0: 51, -1: 10})\n",
      "\n",
      "\n",
      "UPS accuracy: 0.39285714285714285. Average accuracy:0.44414316702819956\n",
      "Data spread:  Counter({'1': 244, '-1': 166, '0': 38})\n"
     ]
    },
    {
     "name": "stderr",
     "output_type": "stream",
     "text": [
      "/home/seb/anaconda3/lib/python3.7/site-packages/sklearn/ensemble/forest.py:245: FutureWarning: The default value of n_estimators will change from 10 in version 0.20 to 100 in 0.22.\n",
      "  \"10 in version 0.20 to 100 in 0.22.\", FutureWarning)\n"
     ]
    },
    {
     "name": "stdout",
     "output_type": "stream",
     "text": [
      "accuracy: 0.5267857142857143\n",
      "predicted class counts: Counter({1: 72, -1: 40})\n",
      "\n",
      "\n",
      "URI accuracy: 0.5267857142857143. Average accuracy:0.44432204700061845\n",
      "Data spread:  Counter({'1': 197, '0': 160, '-1': 91})\n"
     ]
    },
    {
     "name": "stderr",
     "output_type": "stream",
     "text": [
      "/home/seb/anaconda3/lib/python3.7/site-packages/sklearn/ensemble/forest.py:245: FutureWarning: The default value of n_estimators will change from 10 in version 0.20 to 100 in 0.22.\n",
      "  \"10 in version 0.20 to 100 in 0.22.\", FutureWarning)\n"
     ]
    },
    {
     "name": "stdout",
     "output_type": "stream",
     "text": [
      "accuracy: 0.4017857142857143\n",
      "predicted class counts: Counter({1: 69, 0: 32, -1: 11})\n",
      "\n",
      "\n",
      "UTX accuracy: 0.4017857142857143. Average accuracy:0.44423017587164454\n",
      "Data spread:  Counter({'0': 189, '1': 183, '-1': 76})\n"
     ]
    },
    {
     "name": "stderr",
     "output_type": "stream",
     "text": [
      "/home/seb/anaconda3/lib/python3.7/site-packages/sklearn/ensemble/forest.py:245: FutureWarning: The default value of n_estimators will change from 10 in version 0.20 to 100 in 0.22.\n",
      "  \"10 in version 0.20 to 100 in 0.22.\", FutureWarning)\n"
     ]
    },
    {
     "name": "stdout",
     "output_type": "stream",
     "text": [
      "accuracy: 0.32142857142857145\n",
      "predicted class counts: Counter({0: 54, 1: 33, -1: 25})\n",
      "\n",
      "\n",
      "UHS accuracy: 0.32142857142857145. Average accuracy:0.44396551724137934\n",
      "Data spread:  Counter({'1': 181, '-1': 162, '0': 105})\n"
     ]
    },
    {
     "name": "stderr",
     "output_type": "stream",
     "text": [
      "/home/seb/anaconda3/lib/python3.7/site-packages/sklearn/ensemble/forest.py:245: FutureWarning: The default value of n_estimators will change from 10 in version 0.20 to 100 in 0.22.\n",
      "  \"10 in version 0.20 to 100 in 0.22.\", FutureWarning)\n"
     ]
    },
    {
     "name": "stdout",
     "output_type": "stream",
     "text": [
      "accuracy: 0.36607142857142855\n",
      "predicted class counts: Counter({-1: 57, 1: 49, 0: 6})\n",
      "\n",
      "\n",
      "UNM accuracy: 0.36607142857142855. Average accuracy:0.44379800307219663\n",
      "Data spread:  Counter({'1': 223, '0': 147, '-1': 78})\n"
     ]
    },
    {
     "name": "stderr",
     "output_type": "stream",
     "text": [
      "/home/seb/anaconda3/lib/python3.7/site-packages/sklearn/ensemble/forest.py:245: FutureWarning: The default value of n_estimators will change from 10 in version 0.20 to 100 in 0.22.\n",
      "  \"10 in version 0.20 to 100 in 0.22.\", FutureWarning)\n"
     ]
    },
    {
     "name": "stdout",
     "output_type": "stream",
     "text": [
      "accuracy: 0.4375\n",
      "predicted class counts: Counter({1: 76, 0: 31, -1: 5})\n",
      "\n",
      "\n",
      "VFC accuracy: 0.4375. Average accuracy:0.4437844880441447\n",
      "Data spread:  Counter({'1': 238, '-1': 130, '0': 80})\n"
     ]
    },
    {
     "name": "stderr",
     "output_type": "stream",
     "text": [
      "/home/seb/anaconda3/lib/python3.7/site-packages/sklearn/ensemble/forest.py:245: FutureWarning: The default value of n_estimators will change from 10 in version 0.20 to 100 in 0.22.\n",
      "  \"10 in version 0.20 to 100 in 0.22.\", FutureWarning)\n"
     ]
    },
    {
     "name": "stdout",
     "output_type": "stream",
     "text": [
      "accuracy: 0.49107142857142855\n",
      "predicted class counts: Counter({1: 98, -1: 10, 0: 4})\n",
      "\n",
      "\n",
      "VLO accuracy: 0.49107142857142855. Average accuracy:0.4438857448761089\n",
      "Data spread:  Counter({'1': 172, '0': 158, '-1': 118})\n"
     ]
    },
    {
     "name": "stderr",
     "output_type": "stream",
     "text": [
      "/home/seb/anaconda3/lib/python3.7/site-packages/sklearn/ensemble/forest.py:245: FutureWarning: The default value of n_estimators will change from 10 in version 0.20 to 100 in 0.22.\n",
      "  \"10 in version 0.20 to 100 in 0.22.\", FutureWarning)\n"
     ]
    },
    {
     "name": "stdout",
     "output_type": "stream",
     "text": [
      "accuracy: 0.2857142857142857\n",
      "predicted class counts: Counter({0: 50, -1: 38, 1: 24})\n",
      "\n",
      "\n",
      "VAR accuracy: 0.2857142857142857. Average accuracy:0.44354777167277165\n",
      "470\n",
      "Data spread:  Counter({'1': 212, '0': 153, '-1': 83})\n"
     ]
    },
    {
     "name": "stderr",
     "output_type": "stream",
     "text": [
      "/home/seb/anaconda3/lib/python3.7/site-packages/sklearn/ensemble/forest.py:245: FutureWarning: The default value of n_estimators will change from 10 in version 0.20 to 100 in 0.22.\n",
      "  \"10 in version 0.20 to 100 in 0.22.\", FutureWarning)\n"
     ]
    },
    {
     "name": "stdout",
     "output_type": "stream",
     "text": [
      "accuracy: 0.38392857142857145\n",
      "predicted class counts: Counter({1: 56, 0: 44, -1: 12})\n",
      "\n",
      "\n",
      "VTR accuracy: 0.38392857142857145. Average accuracy:0.4434206518428267\n",
      "Data spread:  Counter({'1': 215, '0': 147, '-1': 86})\n"
     ]
    },
    {
     "name": "stderr",
     "output_type": "stream",
     "text": [
      "/home/seb/anaconda3/lib/python3.7/site-packages/sklearn/ensemble/forest.py:245: FutureWarning: The default value of n_estimators will change from 10 in version 0.20 to 100 in 0.22.\n",
      "  \"10 in version 0.20 to 100 in 0.22.\", FutureWarning)\n"
     ]
    },
    {
     "name": "stdout",
     "output_type": "stream",
     "text": [
      "accuracy: 0.42857142857142855\n",
      "predicted class counts: Counter({1: 60, 0: 37, -1: 15})\n",
      "\n",
      "\n",
      "VRSN accuracy: 0.42857142857142855. Average accuracy:0.4433890577507599\n",
      "Data spread:  Counter({'0': 218, '1': 186, '-1': 44})\n"
     ]
    },
    {
     "name": "stderr",
     "output_type": "stream",
     "text": [
      "/home/seb/anaconda3/lib/python3.7/site-packages/sklearn/ensemble/forest.py:245: FutureWarning: The default value of n_estimators will change from 10 in version 0.20 to 100 in 0.22.\n",
      "  \"10 in version 0.20 to 100 in 0.22.\", FutureWarning)\n"
     ]
    },
    {
     "name": "stdout",
     "output_type": "stream",
     "text": [
      "accuracy: 0.5267857142857143\n",
      "predicted class counts: Counter({0: 87, 1: 24, -1: 1})\n",
      "\n",
      "\n",
      "VRSK accuracy: 0.5267857142857143. Average accuracy:0.44356612071580226\n",
      "Data spread:  Counter({'0': 198, '1': 188, '-1': 62})\n"
     ]
    },
    {
     "name": "stderr",
     "output_type": "stream",
     "text": [
      "/home/seb/anaconda3/lib/python3.7/site-packages/sklearn/ensemble/forest.py:245: FutureWarning: The default value of n_estimators will change from 10 in version 0.20 to 100 in 0.22.\n",
      "  \"10 in version 0.20 to 100 in 0.22.\", FutureWarning)\n"
     ]
    },
    {
     "name": "stdout",
     "output_type": "stream",
     "text": [
      "accuracy: 0.44642857142857145\n",
      "predicted class counts: Counter({0: 76, 1: 29, -1: 7})\n",
      "\n",
      "\n",
      "VZ accuracy: 0.44642857142857145. Average accuracy:0.44357218523002423\n",
      "Data spread:  Counter({'1': 221, '-1': 121, '0': 106})\n"
     ]
    },
    {
     "name": "stderr",
     "output_type": "stream",
     "text": [
      "/home/seb/anaconda3/lib/python3.7/site-packages/sklearn/ensemble/forest.py:245: FutureWarning: The default value of n_estimators will change from 10 in version 0.20 to 100 in 0.22.\n",
      "  \"10 in version 0.20 to 100 in 0.22.\", FutureWarning)\n"
     ]
    },
    {
     "name": "stdout",
     "output_type": "stream",
     "text": [
      "accuracy: 0.4375\n",
      "predicted class counts: Counter({1: 87, -1: 14, 0: 11})\n",
      "\n",
      "\n",
      "VRTX accuracy: 0.4375. Average accuracy:0.4435593476291151\n",
      "Data spread:  Counter({'1': 211, '-1': 154, '0': 83})\n"
     ]
    },
    {
     "name": "stderr",
     "output_type": "stream",
     "text": [
      "/home/seb/anaconda3/lib/python3.7/site-packages/sklearn/ensemble/forest.py:245: FutureWarning: The default value of n_estimators will change from 10 in version 0.20 to 100 in 0.22.\n",
      "  \"10 in version 0.20 to 100 in 0.22.\", FutureWarning)\n"
     ]
    },
    {
     "name": "stdout",
     "output_type": "stream",
     "text": [
      "accuracy: 0.39285714285714285\n",
      "predicted class counts: Counter({1: 82, -1: 28, 0: 2})\n",
      "\n",
      "\n",
      "VIAB accuracy: 0.39285714285714285. Average accuracy:0.44345238095238093\n",
      "Data spread:  Counter({'1': 200, '0': 181, '-1': 67})\n"
     ]
    },
    {
     "name": "stderr",
     "output_type": "stream",
     "text": [
      "/home/seb/anaconda3/lib/python3.7/site-packages/sklearn/ensemble/forest.py:245: FutureWarning: The default value of n_estimators will change from 10 in version 0.20 to 100 in 0.22.\n",
      "  \"10 in version 0.20 to 100 in 0.22.\", FutureWarning)\n"
     ]
    },
    {
     "name": "stdout",
     "output_type": "stream",
     "text": [
      "accuracy: 0.41964285714285715\n",
      "predicted class counts: Counter({0: 63, 1: 49})\n",
      "\n",
      "\n",
      "V accuracy: 0.41964285714285715. Average accuracy:0.44340225563909774\n",
      "Data spread:  Counter({'0': 214, '1': 156, '-1': 78})\n"
     ]
    },
    {
     "name": "stderr",
     "output_type": "stream",
     "text": [
      "/home/seb/anaconda3/lib/python3.7/site-packages/sklearn/ensemble/forest.py:245: FutureWarning: The default value of n_estimators will change from 10 in version 0.20 to 100 in 0.22.\n",
      "  \"10 in version 0.20 to 100 in 0.22.\", FutureWarning)\n"
     ]
    },
    {
     "name": "stdout",
     "output_type": "stream",
     "text": [
      "accuracy: 0.4642857142857143\n",
      "predicted class counts: Counter({0: 94, 1: 11, -1: 7})\n",
      "\n",
      "\n",
      "VNO accuracy: 0.4642857142857143. Average accuracy:0.44344612845138054\n",
      "Data spread:  Counter({'1': 201, '0': 143, '-1': 104})\n"
     ]
    },
    {
     "name": "stderr",
     "output_type": "stream",
     "text": [
      "/home/seb/anaconda3/lib/python3.7/site-packages/sklearn/ensemble/forest.py:245: FutureWarning: The default value of n_estimators will change from 10 in version 0.20 to 100 in 0.22.\n",
      "  \"10 in version 0.20 to 100 in 0.22.\", FutureWarning)\n"
     ]
    },
    {
     "name": "stdout",
     "output_type": "stream",
     "text": [
      "accuracy: 0.4017857142857143\n",
      "predicted class counts: Counter({1: 72, 0: 28, -1: 12})\n",
      "\n",
      "\n",
      "VMC accuracy: 0.4017857142857143. Average accuracy:0.44335879005690326\n",
      "Data spread:  Counter({'1': 230, '-1': 137, '0': 81})\n"
     ]
    },
    {
     "name": "stderr",
     "output_type": "stream",
     "text": [
      "/home/seb/anaconda3/lib/python3.7/site-packages/sklearn/ensemble/forest.py:245: FutureWarning: The default value of n_estimators will change from 10 in version 0.20 to 100 in 0.22.\n",
      "  \"10 in version 0.20 to 100 in 0.22.\", FutureWarning)\n"
     ]
    },
    {
     "name": "stdout",
     "output_type": "stream",
     "text": [
      "accuracy: 0.5267857142857143\n",
      "predicted class counts: Counter({1: 92, -1: 18, 0: 2})\n",
      "\n",
      "\n",
      "WAB accuracy: 0.5267857142857143. Average accuracy:0.4435333233711895\n",
      "480\n",
      "Data spread:  Counter({'0': 216, '1': 180, '-1': 52})\n"
     ]
    },
    {
     "name": "stderr",
     "output_type": "stream",
     "text": [
      "/home/seb/anaconda3/lib/python3.7/site-packages/sklearn/ensemble/forest.py:245: FutureWarning: The default value of n_estimators will change from 10 in version 0.20 to 100 in 0.22.\n",
      "  \"10 in version 0.20 to 100 in 0.22.\", FutureWarning)\n"
     ]
    },
    {
     "name": "stdout",
     "output_type": "stream",
     "text": [
      "accuracy: 0.39285714285714285\n",
      "predicted class counts: Counter({0: 62, 1: 49, -1: 1})\n",
      "\n",
      "\n",
      "WMT accuracy: 0.39285714285714285. Average accuracy:0.4434275275872353\n",
      "Data spread:  Counter({'1': 196, '0': 152, '-1': 100})\n"
     ]
    },
    {
     "name": "stderr",
     "output_type": "stream",
     "text": [
      "/home/seb/anaconda3/lib/python3.7/site-packages/sklearn/ensemble/forest.py:245: FutureWarning: The default value of n_estimators will change from 10 in version 0.20 to 100 in 0.22.\n",
      "  \"10 in version 0.20 to 100 in 0.22.\", FutureWarning)\n"
     ]
    },
    {
     "name": "stdout",
     "output_type": "stream",
     "text": [
      "accuracy: 0.36607142857142855\n",
      "predicted class counts: Counter({1: 66, 0: 29, -1: 17})\n",
      "\n",
      "\n",
      "WBA accuracy: 0.36607142857142855. Average accuracy:0.44326636904761907\n",
      "Data spread:  Counter({'0': 205, '1': 176, '-1': 67})\n"
     ]
    },
    {
     "name": "stderr",
     "output_type": "stream",
     "text": [
      "/home/seb/anaconda3/lib/python3.7/site-packages/sklearn/ensemble/forest.py:245: FutureWarning: The default value of n_estimators will change from 10 in version 0.20 to 100 in 0.22.\n",
      "  \"10 in version 0.20 to 100 in 0.22.\", FutureWarning)\n"
     ]
    },
    {
     "name": "stdout",
     "output_type": "stream",
     "text": [
      "accuracy: 0.4375\n",
      "predicted class counts: Counter({0: 82, 1: 28, -1: 2})\n",
      "\n",
      "\n",
      "DIS accuracy: 0.4375. Average accuracy:0.44325438075438073\n",
      "Data spread:  Counter({'0': 256, '1': 150, '-1': 42})\n"
     ]
    },
    {
     "name": "stderr",
     "output_type": "stream",
     "text": [
      "/home/seb/anaconda3/lib/python3.7/site-packages/sklearn/ensemble/forest.py:245: FutureWarning: The default value of n_estimators will change from 10 in version 0.20 to 100 in 0.22.\n",
      "  \"10 in version 0.20 to 100 in 0.22.\", FutureWarning)\n"
     ]
    },
    {
     "name": "stdout",
     "output_type": "stream",
     "text": [
      "accuracy: 0.5892857142857143\n",
      "predicted class counts: Counter({0: 102, 1: 9, -1: 1})\n",
      "\n",
      "\n",
      "WM accuracy: 0.5892857142857143. Average accuracy:0.4435573503260225\n",
      "Data spread:  Counter({'1': 193, '0': 149, '-1': 106})\n"
     ]
    },
    {
     "name": "stderr",
     "output_type": "stream",
     "text": [
      "/home/seb/anaconda3/lib/python3.7/site-packages/sklearn/ensemble/forest.py:245: FutureWarning: The default value of n_estimators will change from 10 in version 0.20 to 100 in 0.22.\n",
      "  \"10 in version 0.20 to 100 in 0.22.\", FutureWarning)\n"
     ]
    },
    {
     "name": "stdout",
     "output_type": "stream",
     "text": [
      "accuracy: 0.45535714285714285\n",
      "predicted class counts: Counter({1: 87, 0: 16, -1: 9})\n",
      "\n",
      "\n",
      "WAT accuracy: 0.45535714285714285. Average accuracy:0.4435817805383023\n",
      "Data spread:  Counter({'1': 218, '0': 188, '-1': 42})\n"
     ]
    },
    {
     "name": "stderr",
     "output_type": "stream",
     "text": [
      "/home/seb/anaconda3/lib/python3.7/site-packages/sklearn/ensemble/forest.py:245: FutureWarning: The default value of n_estimators will change from 10 in version 0.20 to 100 in 0.22.\n",
      "  \"10 in version 0.20 to 100 in 0.22.\", FutureWarning)\n"
     ]
    },
    {
     "name": "stdout",
     "output_type": "stream",
     "text": [
      "accuracy: 0.44642857142857145\n",
      "predicted class counts: Counter({0: 72, 1: 39, -1: 1})\n",
      "\n",
      "\n",
      "WEC accuracy: 0.44642857142857145. Average accuracy:0.44358766233766234\n",
      "Data spread:  Counter({'1': 224, '0': 135, '-1': 89})\n"
     ]
    },
    {
     "name": "stderr",
     "output_type": "stream",
     "text": [
      "/home/seb/anaconda3/lib/python3.7/site-packages/sklearn/ensemble/forest.py:245: FutureWarning: The default value of n_estimators will change from 10 in version 0.20 to 100 in 0.22.\n",
      "  \"10 in version 0.20 to 100 in 0.22.\", FutureWarning)\n"
     ]
    },
    {
     "name": "stdout",
     "output_type": "stream",
     "text": [
      "accuracy: 0.4375\n",
      "predicted class counts: Counter({1: 96, 0: 12, -1: 4})\n",
      "\n",
      "\n",
      "WCG accuracy: 0.4375. Average accuracy:0.44357511045655373\n",
      "Data spread:  Counter({'0': 178, '1': 171, '-1': 99})\n"
     ]
    },
    {
     "name": "stderr",
     "output_type": "stream",
     "text": [
      "/home/seb/anaconda3/lib/python3.7/site-packages/sklearn/ensemble/forest.py:245: FutureWarning: The default value of n_estimators will change from 10 in version 0.20 to 100 in 0.22.\n",
      "  \"10 in version 0.20 to 100 in 0.22.\", FutureWarning)\n"
     ]
    },
    {
     "name": "stdout",
     "output_type": "stream",
     "text": [
      "accuracy: 0.29464285714285715\n",
      "predicted class counts: Counter({1: 46, 0: 36, -1: 30})\n",
      "\n",
      "\n",
      "WFC accuracy: 0.29464285714285715. Average accuracy:0.4432686654908877\n",
      "Data spread:  Counter({'1': 215, '0': 157, '-1': 76})\n"
     ]
    },
    {
     "name": "stderr",
     "output_type": "stream",
     "text": [
      "/home/seb/anaconda3/lib/python3.7/site-packages/sklearn/ensemble/forest.py:245: FutureWarning: The default value of n_estimators will change from 10 in version 0.20 to 100 in 0.22.\n",
      "  \"10 in version 0.20 to 100 in 0.22.\", FutureWarning)\n"
     ]
    },
    {
     "name": "stdout",
     "output_type": "stream",
     "text": [
      "accuracy: 0.48214285714285715\n",
      "predicted class counts: Counter({1: 53, 0: 47, -1: 12})\n",
      "\n",
      "\n",
      "WELL accuracy: 0.48214285714285715. Average accuracy:0.4433484892930478\n",
      "Data spread:  Counter({'1': 210, '-1': 199, '0': 39})\n"
     ]
    },
    {
     "name": "stderr",
     "output_type": "stream",
     "text": [
      "/home/seb/anaconda3/lib/python3.7/site-packages/sklearn/ensemble/forest.py:245: FutureWarning: The default value of n_estimators will change from 10 in version 0.20 to 100 in 0.22.\n",
      "  \"10 in version 0.20 to 100 in 0.22.\", FutureWarning)\n"
     ]
    },
    {
     "name": "stdout",
     "output_type": "stream",
     "text": [
      "accuracy: 0.4107142857142857\n",
      "predicted class counts: Counter({-1: 75, 1: 37})\n",
      "\n",
      "\n",
      "WDC accuracy: 0.4107142857142857. Average accuracy:0.44328161592505855\n",
      "490\n",
      "Data spread:  Counter({'0': 204, '1': 186, '-1': 58})\n"
     ]
    },
    {
     "name": "stderr",
     "output_type": "stream",
     "text": [
      "/home/seb/anaconda3/lib/python3.7/site-packages/sklearn/ensemble/forest.py:245: FutureWarning: The default value of n_estimators will change from 10 in version 0.20 to 100 in 0.22.\n",
      "  \"10 in version 0.20 to 100 in 0.22.\", FutureWarning)\n"
     ]
    },
    {
     "name": "stdout",
     "output_type": "stream",
     "text": [
      "accuracy: 0.38392857142857145\n",
      "predicted class counts: Counter({0: 59, 1: 49, -1: 4})\n",
      "\n",
      "\n",
      "WU accuracy: 0.38392857142857145. Average accuracy:0.4431602395559451\n",
      "Data spread:  Counter({'1': 186, '-1': 161, '0': 101})\n"
     ]
    },
    {
     "name": "stderr",
     "output_type": "stream",
     "text": [
      "/home/seb/anaconda3/lib/python3.7/site-packages/sklearn/ensemble/forest.py:245: FutureWarning: The default value of n_estimators will change from 10 in version 0.20 to 100 in 0.22.\n",
      "  \"10 in version 0.20 to 100 in 0.22.\", FutureWarning)\n"
     ]
    },
    {
     "name": "stdout",
     "output_type": "stream",
     "text": [
      "accuracy: 0.38392857142857145\n",
      "predicted class counts: Counter({1: 60, -1: 45, 0: 7})\n",
      "\n",
      "\n",
      "WRK accuracy: 0.38392857142857145. Average accuracy:0.4430393586005831\n",
      "Data spread:  Counter({'1': 193, '0': 141, '-1': 114})\n"
     ]
    },
    {
     "name": "stderr",
     "output_type": "stream",
     "text": [
      "/home/seb/anaconda3/lib/python3.7/site-packages/sklearn/ensemble/forest.py:245: FutureWarning: The default value of n_estimators will change from 10 in version 0.20 to 100 in 0.22.\n",
      "  \"10 in version 0.20 to 100 in 0.22.\", FutureWarning)\n"
     ]
    },
    {
     "name": "stdout",
     "output_type": "stream",
     "text": [
      "accuracy: 0.35714285714285715\n",
      "predicted class counts: Counter({1: 45, 0: 37, -1: 30})\n",
      "\n",
      "\n",
      "WY accuracy: 0.35714285714285715. Average accuracy:0.4428644166424207\n",
      "Data spread:  Counter({'1': 225, '-1': 132, '0': 91})\n"
     ]
    },
    {
     "name": "stderr",
     "output_type": "stream",
     "text": [
      "/home/seb/anaconda3/lib/python3.7/site-packages/sklearn/ensemble/forest.py:245: FutureWarning: The default value of n_estimators will change from 10 in version 0.20 to 100 in 0.22.\n",
      "  \"10 in version 0.20 to 100 in 0.22.\", FutureWarning)\n"
     ]
    },
    {
     "name": "stdout",
     "output_type": "stream",
     "text": [
      "accuracy: 0.4642857142857143\n",
      "predicted class counts: Counter({1: 75, -1: 31, 0: 6})\n",
      "\n",
      "\n",
      "WHR accuracy: 0.4642857142857143. Average accuracy:0.44290795586527293\n",
      "Data spread:  Counter({'1': 182, '0': 138, '-1': 128})\n"
     ]
    },
    {
     "name": "stderr",
     "output_type": "stream",
     "text": [
      "/home/seb/anaconda3/lib/python3.7/site-packages/sklearn/ensemble/forest.py:245: FutureWarning: The default value of n_estimators will change from 10 in version 0.20 to 100 in 0.22.\n",
      "  \"10 in version 0.20 to 100 in 0.22.\", FutureWarning)\n"
     ]
    },
    {
     "name": "stdout",
     "output_type": "stream",
     "text": [
      "accuracy: 0.36607142857142855\n",
      "predicted class counts: Counter({1: 50, 0: 33, -1: 29})\n",
      "\n",
      "\n",
      "WMB accuracy: 0.36607142857142855. Average accuracy:0.4427521008403361\n",
      "Data spread:  Counter({'0': 206, '1': 175, '-1': 67})\n"
     ]
    },
    {
     "name": "stderr",
     "output_type": "stream",
     "text": [
      "/home/seb/anaconda3/lib/python3.7/site-packages/sklearn/ensemble/forest.py:245: FutureWarning: The default value of n_estimators will change from 10 in version 0.20 to 100 in 0.22.\n",
      "  \"10 in version 0.20 to 100 in 0.22.\", FutureWarning)\n"
     ]
    },
    {
     "name": "stdout",
     "output_type": "stream",
     "text": [
      "accuracy: 0.48214285714285715\n",
      "predicted class counts: Counter({0: 87, 1: 21, -1: 4})\n",
      "\n",
      "\n",
      "WLTW accuracy: 0.48214285714285715. Average accuracy:0.4428318392134182\n",
      "Data spread:  Counter({'1': 229, '-1': 172, '0': 47})\n"
     ]
    },
    {
     "name": "stderr",
     "output_type": "stream",
     "text": [
      "/home/seb/anaconda3/lib/python3.7/site-packages/sklearn/ensemble/forest.py:245: FutureWarning: The default value of n_estimators will change from 10 in version 0.20 to 100 in 0.22.\n",
      "  \"10 in version 0.20 to 100 in 0.22.\", FutureWarning)\n"
     ]
    },
    {
     "name": "stdout",
     "output_type": "stream",
     "text": [
      "accuracy: 0.5089285714285714\n",
      "predicted class counts: Counter({1: 63, -1: 49})\n",
      "\n",
      "\n",
      "WYNN accuracy: 0.5089285714285714. Average accuracy:0.44296536796536795\n",
      "Data spread:  Counter({'1': 209, '0': 189, '-1': 50})\n"
     ]
    },
    {
     "name": "stderr",
     "output_type": "stream",
     "text": [
      "/home/seb/anaconda3/lib/python3.7/site-packages/sklearn/ensemble/forest.py:245: FutureWarning: The default value of n_estimators will change from 10 in version 0.20 to 100 in 0.22.\n",
      "  \"10 in version 0.20 to 100 in 0.22.\", FutureWarning)\n"
     ]
    },
    {
     "name": "stdout",
     "output_type": "stream",
     "text": [
      "accuracy: 0.35714285714285715\n",
      "predicted class counts: Counter({0: 70, 1: 36, -1: 6})\n",
      "\n",
      "\n",
      "XEL accuracy: 0.35714285714285715. Average accuracy:0.44279233870967744\n",
      "Data spread:  Counter({'1': 237, '-1': 122, '0': 89})\n"
     ]
    },
    {
     "name": "stderr",
     "output_type": "stream",
     "text": [
      "/home/seb/anaconda3/lib/python3.7/site-packages/sklearn/ensemble/forest.py:245: FutureWarning: The default value of n_estimators will change from 10 in version 0.20 to 100 in 0.22.\n",
      "  \"10 in version 0.20 to 100 in 0.22.\", FutureWarning)\n"
     ]
    },
    {
     "name": "stdout",
     "output_type": "stream",
     "text": [
      "accuracy: 0.4107142857142857\n",
      "predicted class counts: Counter({1: 94, -1: 13, 0: 5})\n",
      "\n",
      "\n",
      "XRX accuracy: 0.4107142857142857. Average accuracy:0.4427277953434895\n",
      "Data spread:  Counter({'1': 268, '-1': 128, '0': 52})\n"
     ]
    },
    {
     "name": "stderr",
     "output_type": "stream",
     "text": [
      "/home/seb/anaconda3/lib/python3.7/site-packages/sklearn/ensemble/forest.py:245: FutureWarning: The default value of n_estimators will change from 10 in version 0.20 to 100 in 0.22.\n",
      "  \"10 in version 0.20 to 100 in 0.22.\", FutureWarning)\n"
     ]
    },
    {
     "name": "stdout",
     "output_type": "stream",
     "text": [
      "accuracy: 0.5446428571428571\n",
      "predicted class counts: Counter({1: 102, -1: 8, 0: 2})\n",
      "\n",
      "\n",
      "XLNX accuracy: 0.5446428571428571. Average accuracy:0.44293244406196214\n",
      "500\n",
      "Data spread:  Counter({'1': 229, '0': 128, '-1': 91})\n"
     ]
    },
    {
     "name": "stderr",
     "output_type": "stream",
     "text": [
      "/home/seb/anaconda3/lib/python3.7/site-packages/sklearn/ensemble/forest.py:245: FutureWarning: The default value of n_estimators will change from 10 in version 0.20 to 100 in 0.22.\n",
      "  \"10 in version 0.20 to 100 in 0.22.\", FutureWarning)\n"
     ]
    },
    {
     "name": "stdout",
     "output_type": "stream",
     "text": [
      "accuracy: 0.49107142857142855\n",
      "predicted class counts: Counter({1: 98, 0: 9, -1: 5})\n",
      "\n",
      "\n",
      "XYL accuracy: 0.49107142857142855. Average accuracy:0.4430289149728027\n",
      "Data spread:  Counter({'0': 248, '1': 161, '-1': 39})\n"
     ]
    },
    {
     "name": "stderr",
     "output_type": "stream",
     "text": [
      "/home/seb/anaconda3/lib/python3.7/site-packages/sklearn/ensemble/forest.py:245: FutureWarning: The default value of n_estimators will change from 10 in version 0.20 to 100 in 0.22.\n",
      "  \"10 in version 0.20 to 100 in 0.22.\", FutureWarning)\n"
     ]
    },
    {
     "name": "stdout",
     "output_type": "stream",
     "text": [
      "accuracy: 0.6517857142857143\n",
      "predicted class counts: Counter({0: 90, 1: 21, -1: 1})\n",
      "\n",
      "\n",
      "YUM accuracy: 0.6517857142857143. Average accuracy:0.4434464285714286\n",
      "Data spread:  Counter({'1': 183, '0': 170, '-1': 95})\n"
     ]
    },
    {
     "name": "stderr",
     "output_type": "stream",
     "text": [
      "/home/seb/anaconda3/lib/python3.7/site-packages/sklearn/ensemble/forest.py:245: FutureWarning: The default value of n_estimators will change from 10 in version 0.20 to 100 in 0.22.\n",
      "  \"10 in version 0.20 to 100 in 0.22.\", FutureWarning)\n"
     ]
    },
    {
     "name": "stdout",
     "output_type": "stream",
     "text": [
      "accuracy: 0.3125\n",
      "predicted class counts: Counter({0: 65, 1: 35, -1: 12})\n",
      "\n",
      "\n",
      "ZBH accuracy: 0.3125. Average accuracy:0.44318505845451955\n",
      "Data spread:  Counter({'1': 196, '0': 130, '-1': 122})\n"
     ]
    },
    {
     "name": "stderr",
     "output_type": "stream",
     "text": [
      "/home/seb/anaconda3/lib/python3.7/site-packages/sklearn/ensemble/forest.py:245: FutureWarning: The default value of n_estimators will change from 10 in version 0.20 to 100 in 0.22.\n",
      "  \"10 in version 0.20 to 100 in 0.22.\", FutureWarning)\n"
     ]
    },
    {
     "name": "stdout",
     "output_type": "stream",
     "text": [
      "accuracy: 0.41964285714285715\n",
      "predicted class counts: Counter({1: 70, -1: 23, 0: 19})\n",
      "\n",
      "\n",
      "ZION accuracy: 0.41964285714285715. Average accuracy:0.44313816163915765\n",
      "Data spread:  Counter({'1': 211, '0': 171, '-1': 66})\n",
      "accuracy: 0.4375\n",
      "predicted class counts: Counter({1: 56, 0: 53, -1: 3})\n",
      "\n",
      "\n",
      "ZTS accuracy: 0.4375. Average accuracy:0.44312695257029255\n"
     ]
    },
    {
     "name": "stderr",
     "output_type": "stream",
     "text": [
      "/home/seb/anaconda3/lib/python3.7/site-packages/sklearn/ensemble/forest.py:245: FutureWarning: The default value of n_estimators will change from 10 in version 0.20 to 100 in 0.22.\n",
      "  \"10 in version 0.20 to 100 in 0.22.\", FutureWarning)\n"
     ]
    }
   ],
   "source": [
    "test_all()\n",
    "#Avg Acc 10/14/2019 = 44%"
   ]
  },
  {
   "cell_type": "code",
   "execution_count": null,
   "metadata": {},
   "outputs": [],
   "source": []
  }
 ],
 "metadata": {
  "kernelspec": {
   "display_name": "Python 3",
   "language": "python",
   "name": "python3"
  },
  "language_info": {
   "codemirror_mode": {
    "name": "ipython",
    "version": 3
   },
   "file_extension": ".py",
   "mimetype": "text/x-python",
   "name": "python",
   "nbconvert_exporter": "python",
   "pygments_lexer": "ipython3",
   "version": "3.7.3"
  }
 },
 "nbformat": 4,
 "nbformat_minor": 2
}
