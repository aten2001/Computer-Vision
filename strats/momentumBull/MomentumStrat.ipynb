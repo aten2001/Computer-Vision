{
 "cells": [
  {
   "cell_type": "markdown",
   "metadata": {},
   "source": [
    "# Momentum Strategy - Weekly Rebalance"
   ]
  },
  {
   "cell_type": "markdown",
   "metadata": {},
   "source": [
    "\n",
    "1. Rank Stocks in SP500 based on momentum. Momentum: calculated by multiplying the annualized exponential regression slope of past 90 days by R^2 coeeffecient of regression calc\n",
    "2. Position Size: Calc using 20 day ATR of each stock, multiplied by 10 basis points of portfolio value\n",
    "3. Open new positions only if SP 500 is above 200 day moving avg\n",
    "4. Every week, sell stocks that are not in top 20% momentum ranking, or have fallen below their 100 day moving avg. Buy stocks in top 20% momentum rankings\n",
    "5. Every other week, rebalance exisitng positions with updated ATR values\n",
    "https://teddykoker.com/2019/05/momentum-strategy-from-stocks-on-the-move-in-python/\n",
    "\n",
    "\n",
    "Alpaca / Synthetic long short :\n",
    "https://www.theoptionsguide.com/synthetic-short-stock.aspx\n",
    "https://www.theoptionsguide.com/synthetic-long-stock.aspx?source=post_page-----25d580ccab0c----------------------\n",
    "https://www.investopedia.com/articles/optioninvestor/08/synthetic-options.asp\n",
    "\n",
    "https://medium.com/automation-generation/ultimate-list-of-automated-trading-strategies-you-should-know-part-3-25d580ccab0c"
   ]
  },
  {
   "cell_type": "markdown",
   "metadata": {},
   "source": [
    "DATA: \n",
    "* AlphaVantage: https://www.alphavantage.co/documentation/6a772cd25\n",
    "* QUANDL\n",
    "* Or just learn Quant Connect\n",
    "* Look into Kelly Edge"
   ]
  },
  {
   "cell_type": "markdown",
   "metadata": {},
   "source": [
    "### To Run\n",
    "* Run get_data.py from terminal\n",
    "* Run this notebook\n",
    "* To change % Thresholds, edit trainModel.py"
   ]
  },
  {
   "cell_type": "code",
   "execution_count": 1,
   "metadata": {},
   "outputs": [],
   "source": [
    "import requests\n",
    "import pandas as pd\n",
    "import os\n",
    "import bs4 as bs\n",
    "import numpy as np\n",
    "import trainModel\n",
    "from scipy.stats import linregress"
   ]
  },
  {
   "cell_type": "code",
   "execution_count": 2,
   "metadata": {},
   "outputs": [],
   "source": [
    "def get_sp500():\n",
    "    url = \"http://en.wikipedia.org/wiki/List_of_S%26P_500_companies\"\n",
    "    resp = requests.get(url)\n",
    "    soup = bs.BeautifulSoup(resp.text, 'lxml')\n",
    "    table = soup.find('table', {'class': 'wikitable sortable'})\n",
    "    tickers = []\n",
    "    for row in table.findAll('tr')[1:]:\n",
    "        ticker = row.findAll('td')[0].text.strip()\n",
    "        tickers.append(ticker)  \n",
    "    #with open(\"sp500tickers.pickle\",\"wb\") as f:\n",
    "    #    pickle.dump(tickers,f)  \n",
    "    return tickers"
   ]
  },
  {
   "cell_type": "code",
   "execution_count": 3,
   "metadata": {},
   "outputs": [],
   "source": [
    "def generate_massive_df(tickers):\n",
    "    stocks = (\n",
    "        (pd.concat(\n",
    "            [pd.read_csv(f\"data/{ticker}.csv\", index_col='Date', parse_dates=True)[\n",
    "                'Close'\n",
    "            ].rename(ticker)\n",
    "            for ticker in tickers if os.path.exists(\"data/{}.csv\".format(ticker))],\n",
    "            axis=1,\n",
    "            sort=True)\n",
    "        )\n",
    "    )\n",
    "    stocks = stocks.loc[:,~stocks.columns.duplicated()]\n",
    "    return stocks"
   ]
  },
  {
   "cell_type": "code",
<<<<<<< HEAD
   "execution_count": 13,
=======
   "execution_count": 4,
>>>>>>> f5732e50df470a54703b3c767973179f753873af
   "metadata": {},
   "outputs": [],
   "source": [
    "def compile_data():\n",
    "    tickers = get_sp500()\n",
    "    main_df = pd.DataFrame()\n",
    "    for num, ticker in enumerate(tickers):\n",
    "        if not os.path.exists(\"data/{}.csv\".format(ticker)):\n",
    "            continue\n",
    "        df = pd.read_csv(\"data/{}.csv\".format(ticker))\n",
    "        df.set_index('Date', inplace=True)\n",
    "        df.rename(columns = {'Adj Close': ticker}, inplace=True)\n",
    "        df.drop(['Open', 'High', 'Low', 'Close', 'Volume'], 1, inplace=True)\n",
    "        \n",
    "        if main_df.empty:\n",
    "            main_df = df\n",
    "        else:\n",
    "            main_df = main_df.join(df, how='outer')\n",
    "            \n",
    "        if num % 10 == 0:\n",
    "            print(\"{} csvs done\".format(num))\n",
    "    return main_df\n",
    "        \n",
    "    #print(main_df.head())\n",
    "    main_df.to_csv('data/joined/sp500_joined_closes.csv')"
   ]
  },
  {
   "cell_type": "code",
<<<<<<< HEAD
   "execution_count": 14,
   "metadata": {
    "scrolled": true
   },
   "outputs": [
    {
     "name": "stdout",
     "output_type": "stream",
     "text": [
      "0 csvs done\n",
      "10 csvs done\n",
      "20 csvs done\n",
      "30 csvs done\n",
      "40 csvs done\n",
      "50 csvs done\n",
      "60 csvs done\n",
      "70 csvs done\n",
      "80 csvs done\n",
      "90 csvs done\n",
      "100 csvs done\n",
      "110 csvs done\n",
      "120 csvs done\n",
      "130 csvs done\n",
      "140 csvs done\n",
      "150 csvs done\n",
      "160 csvs done\n",
      "170 csvs done\n",
      "180 csvs done\n",
      "190 csvs done\n",
      "200 csvs done\n",
      "210 csvs done\n",
      "220 csvs done\n",
      "230 csvs done\n",
      "240 csvs done\n",
      "250 csvs done\n",
      "260 csvs done\n",
      "270 csvs done\n",
      "280 csvs done\n",
      "290 csvs done\n",
      "300 csvs done\n",
      "310 csvs done\n",
      "320 csvs done\n",
      "330 csvs done\n",
      "340 csvs done\n",
      "350 csvs done\n",
      "360 csvs done\n",
      "370 csvs done\n",
      "380 csvs done\n",
      "390 csvs done\n",
      "400 csvs done\n",
      "410 csvs done\n",
      "420 csvs done\n",
      "430 csvs done\n",
      "440 csvs done\n",
      "450 csvs done\n",
      "460 csvs done\n",
      "470 csvs done\n",
      "480 csvs done\n",
      "490 csvs done\n",
      "500 csvs done\n"
     ]
    },
    {
     "data": {
      "text/html": [
       "<div>\n",
       "<style scoped>\n",
       "    .dataframe tbody tr th:only-of-type {\n",
       "        vertical-align: middle;\n",
       "    }\n",
       "\n",
       "    .dataframe tbody tr th {\n",
       "        vertical-align: top;\n",
       "    }\n",
       "\n",
       "    .dataframe thead th {\n",
       "        text-align: right;\n",
       "    }\n",
       "</style>\n",
       "<table border=\"1\" class=\"dataframe\">\n",
       "  <thead>\n",
       "    <tr style=\"text-align: right;\">\n",
       "      <th></th>\n",
       "      <th>MMM</th>\n",
       "      <th>ABT</th>\n",
       "      <th>ABBV</th>\n",
       "      <th>ABMD</th>\n",
       "      <th>ACN</th>\n",
       "      <th>ATVI</th>\n",
       "      <th>ADBE</th>\n",
       "      <th>AMD</th>\n",
       "      <th>AAP</th>\n",
       "      <th>AES</th>\n",
       "      <th>...</th>\n",
       "      <th>WLTW</th>\n",
       "      <th>WYNN</th>\n",
       "      <th>XEL</th>\n",
       "      <th>XRX</th>\n",
       "      <th>XLNX</th>\n",
       "      <th>XYL</th>\n",
       "      <th>YUM</th>\n",
       "      <th>ZBH</th>\n",
       "      <th>ZION</th>\n",
       "      <th>ZTS</th>\n",
       "    </tr>\n",
       "    <tr>\n",
       "      <th>Date</th>\n",
       "      <th></th>\n",
       "      <th></th>\n",
       "      <th></th>\n",
       "      <th></th>\n",
       "      <th></th>\n",
       "      <th></th>\n",
       "      <th></th>\n",
       "      <th></th>\n",
       "      <th></th>\n",
       "      <th></th>\n",
       "      <th></th>\n",
       "      <th></th>\n",
       "      <th></th>\n",
       "      <th></th>\n",
       "      <th></th>\n",
       "      <th></th>\n",
       "      <th></th>\n",
       "      <th></th>\n",
       "      <th></th>\n",
       "      <th></th>\n",
       "      <th></th>\n",
       "    </tr>\n",
       "  </thead>\n",
       "  <tbody>\n",
       "    <tr>\n",
       "      <th>2016-01-04</th>\n",
       "      <td>132.801498</td>\n",
       "      <td>39.534214</td>\n",
       "      <td>48.041336</td>\n",
       "      <td>85.239998</td>\n",
       "      <td>94.908531</td>\n",
       "      <td>36.604977</td>\n",
       "      <td>91.970001</td>\n",
       "      <td>2.770000</td>\n",
       "      <td>151.255829</td>\n",
       "      <td>7.977132</td>\n",
       "      <td>...</td>\n",
       "      <td>118.035591</td>\n",
       "      <td>63.333061</td>\n",
       "      <td>31.740282</td>\n",
       "      <td>24.642227</td>\n",
       "      <td>42.360394</td>\n",
       "      <td>34.274784</td>\n",
       "      <td>48.396500</td>\n",
       "      <td>98.715454</td>\n",
       "      <td>25.139048</td>\n",
       "      <td>45.972393</td>\n",
       "    </tr>\n",
       "    <tr>\n",
       "      <th>2016-01-05</th>\n",
       "      <td>133.380402</td>\n",
       "      <td>39.524998</td>\n",
       "      <td>47.841198</td>\n",
       "      <td>85.000000</td>\n",
       "      <td>95.402504</td>\n",
       "      <td>36.137928</td>\n",
       "      <td>92.339996</td>\n",
       "      <td>2.750000</td>\n",
       "      <td>150.222534</td>\n",
       "      <td>8.087104</td>\n",
       "      <td>...</td>\n",
       "      <td>118.847672</td>\n",
       "      <td>64.530273</td>\n",
       "      <td>32.060349</td>\n",
       "      <td>24.594379</td>\n",
       "      <td>42.989334</td>\n",
       "      <td>34.265278</td>\n",
       "      <td>48.275864</td>\n",
       "      <td>100.771027</td>\n",
       "      <td>24.866114</td>\n",
       "      <td>46.692066</td>\n",
       "    </tr>\n",
       "    <tr>\n",
       "      <th>2016-01-06</th>\n",
       "      <td>130.693954</td>\n",
       "      <td>39.193478</td>\n",
       "      <td>47.849529</td>\n",
       "      <td>85.300003</td>\n",
       "      <td>95.216103</td>\n",
       "      <td>35.797367</td>\n",
       "      <td>91.019997</td>\n",
       "      <td>2.510000</td>\n",
       "      <td>146.248398</td>\n",
       "      <td>7.807945</td>\n",
       "      <td>...</td>\n",
       "      <td>113.313286</td>\n",
       "      <td>61.187263</td>\n",
       "      <td>32.398201</td>\n",
       "      <td>24.283361</td>\n",
       "      <td>42.203171</td>\n",
       "      <td>33.837791</td>\n",
       "      <td>47.934059</td>\n",
       "      <td>101.207336</td>\n",
       "      <td>24.141399</td>\n",
       "      <td>46.701801</td>\n",
       "    </tr>\n",
       "    <tr>\n",
       "      <th>2016-01-07</th>\n",
       "      <td>127.510063</td>\n",
       "      <td>38.254166</td>\n",
       "      <td>47.707767</td>\n",
       "      <td>81.919998</td>\n",
       "      <td>92.420013</td>\n",
       "      <td>35.291401</td>\n",
       "      <td>89.110001</td>\n",
       "      <td>2.280000</td>\n",
       "      <td>147.867859</td>\n",
       "      <td>7.613383</td>\n",
       "      <td>...</td>\n",
       "      <td>108.562775</td>\n",
       "      <td>55.431393</td>\n",
       "      <td>32.522671</td>\n",
       "      <td>23.613476</td>\n",
       "      <td>40.538345</td>\n",
       "      <td>32.963821</td>\n",
       "      <td>46.298714</td>\n",
       "      <td>98.880272</td>\n",
       "      <td>23.416683</td>\n",
       "      <td>45.281872</td>\n",
       "    </tr>\n",
       "    <tr>\n",
       "      <th>2016-01-08</th>\n",
       "      <td>127.075912</td>\n",
       "      <td>37.452972</td>\n",
       "      <td>46.406876</td>\n",
       "      <td>84.580002</td>\n",
       "      <td>91.525261</td>\n",
       "      <td>34.746506</td>\n",
       "      <td>87.849998</td>\n",
       "      <td>2.140000</td>\n",
       "      <td>144.619003</td>\n",
       "      <td>7.723354</td>\n",
       "      <td>...</td>\n",
       "      <td>110.139984</td>\n",
       "      <td>53.175087</td>\n",
       "      <td>32.167038</td>\n",
       "      <td>22.943588</td>\n",
       "      <td>39.705929</td>\n",
       "      <td>32.650333</td>\n",
       "      <td>45.668716</td>\n",
       "      <td>98.463371</td>\n",
       "      <td>23.153151</td>\n",
       "      <td>44.620541</td>\n",
       "    </tr>\n",
       "    <tr>\n",
       "      <th>2016-01-11</th>\n",
       "      <td>127.048767</td>\n",
       "      <td>37.508224</td>\n",
       "      <td>44.930874</td>\n",
       "      <td>85.000000</td>\n",
       "      <td>92.485260</td>\n",
       "      <td>35.233021</td>\n",
       "      <td>89.379997</td>\n",
       "      <td>2.340000</td>\n",
       "      <td>146.099365</td>\n",
       "      <td>7.638759</td>\n",
       "      <td>...</td>\n",
       "      <td>108.581665</td>\n",
       "      <td>52.300198</td>\n",
       "      <td>32.424870</td>\n",
       "      <td>22.489025</td>\n",
       "      <td>39.881660</td>\n",
       "      <td>32.374844</td>\n",
       "      <td>45.588284</td>\n",
       "      <td>96.766548</td>\n",
       "      <td>22.691977</td>\n",
       "      <td>43.356224</td>\n",
       "    </tr>\n",
       "    <tr>\n",
       "      <th>2016-01-12</th>\n",
       "      <td>127.410568</td>\n",
       "      <td>38.180489</td>\n",
       "      <td>45.731422</td>\n",
       "      <td>88.320000</td>\n",
       "      <td>94.144272</td>\n",
       "      <td>36.118465</td>\n",
       "      <td>89.820000</td>\n",
       "      <td>2.390000</td>\n",
       "      <td>147.112762</td>\n",
       "      <td>7.401899</td>\n",
       "      <td>...</td>\n",
       "      <td>109.129448</td>\n",
       "      <td>51.222687</td>\n",
       "      <td>32.300404</td>\n",
       "      <td>22.800041</td>\n",
       "      <td>40.103638</td>\n",
       "      <td>32.555340</td>\n",
       "      <td>46.627125</td>\n",
       "      <td>99.743233</td>\n",
       "      <td>22.597857</td>\n",
       "      <td>43.735519</td>\n",
       "    </tr>\n",
       "    <tr>\n",
       "      <th>2016-01-13</th>\n",
       "      <td>125.474869</td>\n",
       "      <td>37.327915</td>\n",
       "      <td>43.127583</td>\n",
       "      <td>85.809998</td>\n",
       "      <td>92.513222</td>\n",
       "      <td>33.919445</td>\n",
       "      <td>88.300003</td>\n",
       "      <td>2.250000</td>\n",
       "      <td>141.240982</td>\n",
       "      <td>7.308847</td>\n",
       "      <td>...</td>\n",
       "      <td>106.579468</td>\n",
       "      <td>48.321732</td>\n",
       "      <td>32.104805</td>\n",
       "      <td>22.058382</td>\n",
       "      <td>38.762535</td>\n",
       "      <td>31.709867</td>\n",
       "      <td>46.573158</td>\n",
       "      <td>98.123993</td>\n",
       "      <td>21.543726</td>\n",
       "      <td>42.062733</td>\n",
       "    </tr>\n",
       "    <tr>\n",
       "      <th>2016-01-14</th>\n",
       "      <td>127.699997</td>\n",
       "      <td>38.087818</td>\n",
       "      <td>45.975784</td>\n",
       "      <td>87.879997</td>\n",
       "      <td>94.955132</td>\n",
       "      <td>34.444874</td>\n",
       "      <td>89.800003</td>\n",
       "      <td>2.210000</td>\n",
       "      <td>140.406418</td>\n",
       "      <td>7.486492</td>\n",
       "      <td>...</td>\n",
       "      <td>108.024445</td>\n",
       "      <td>47.428425</td>\n",
       "      <td>32.638248</td>\n",
       "      <td>21.962685</td>\n",
       "      <td>39.224983</td>\n",
       "      <td>31.890364</td>\n",
       "      <td>47.234341</td>\n",
       "      <td>99.578400</td>\n",
       "      <td>21.637846</td>\n",
       "      <td>42.918583</td>\n",
       "    </tr>\n",
       "    <tr>\n",
       "      <th>2016-01-15</th>\n",
       "      <td>125.447754</td>\n",
       "      <td>37.568867</td>\n",
       "      <td>48.318394</td>\n",
       "      <td>87.410004</td>\n",
       "      <td>92.522530</td>\n",
       "      <td>33.968090</td>\n",
       "      <td>89.169998</td>\n",
       "      <td>2.030000</td>\n",
       "      <td>143.357208</td>\n",
       "      <td>7.224254</td>\n",
       "      <td>...</td>\n",
       "      <td>106.277237</td>\n",
       "      <td>53.755280</td>\n",
       "      <td>32.451546</td>\n",
       "      <td>21.771286</td>\n",
       "      <td>39.594944</td>\n",
       "      <td>31.329878</td>\n",
       "      <td>45.264271</td>\n",
       "      <td>98.007645</td>\n",
       "      <td>21.026073</td>\n",
       "      <td>42.189171</td>\n",
       "    </tr>\n",
       "    <tr>\n",
       "      <th>2016-01-19</th>\n",
       "      <td>125.176384</td>\n",
       "      <td>37.466919</td>\n",
       "      <td>46.338135</td>\n",
       "      <td>86.250000</td>\n",
       "      <td>94.489113</td>\n",
       "      <td>34.201618</td>\n",
       "      <td>89.180000</td>\n",
       "      <td>1.950000</td>\n",
       "      <td>143.685059</td>\n",
       "      <td>7.376523</td>\n",
       "      <td>...</td>\n",
       "      <td>104.246712</td>\n",
       "      <td>54.455193</td>\n",
       "      <td>33.082790</td>\n",
       "      <td>21.316721</td>\n",
       "      <td>39.576443</td>\n",
       "      <td>31.310879</td>\n",
       "      <td>46.397739</td>\n",
       "      <td>96.223557</td>\n",
       "      <td>20.649601</td>\n",
       "      <td>42.096565</td>\n",
       "    </tr>\n",
       "    <tr>\n",
       "      <th>2016-01-20</th>\n",
       "      <td>123.882919</td>\n",
       "      <td>37.031364</td>\n",
       "      <td>48.158287</td>\n",
       "      <td>83.169998</td>\n",
       "      <td>92.326805</td>\n",
       "      <td>33.773491</td>\n",
       "      <td>87.940002</td>\n",
       "      <td>1.800000</td>\n",
       "      <td>142.462982</td>\n",
       "      <td>7.291928</td>\n",
       "      <td>...</td>\n",
       "      <td>103.226730</td>\n",
       "      <td>51.876556</td>\n",
       "      <td>32.558235</td>\n",
       "      <td>20.957855</td>\n",
       "      <td>39.844666</td>\n",
       "      <td>31.158890</td>\n",
       "      <td>45.871490</td>\n",
       "      <td>95.292740</td>\n",
       "      <td>20.207237</td>\n",
       "      <td>42.681385</td>\n",
       "    </tr>\n",
       "    <tr>\n",
       "      <th>2016-01-21</th>\n",
       "      <td>124.606537</td>\n",
       "      <td>36.586540</td>\n",
       "      <td>49.177906</td>\n",
       "      <td>82.940002</td>\n",
       "      <td>91.609154</td>\n",
       "      <td>33.627541</td>\n",
       "      <td>88.000000</td>\n",
       "      <td>2.090000</td>\n",
       "      <td>142.870377</td>\n",
       "      <td>7.706433</td>\n",
       "      <td>...</td>\n",
       "      <td>103.887817</td>\n",
       "      <td>52.198891</td>\n",
       "      <td>32.122589</td>\n",
       "      <td>21.627743</td>\n",
       "      <td>43.266792</td>\n",
       "      <td>31.567379</td>\n",
       "      <td>46.525928</td>\n",
       "      <td>95.195786</td>\n",
       "      <td>19.849590</td>\n",
       "      <td>41.989361</td>\n",
       "    </tr>\n",
       "    <tr>\n",
       "      <th>2016-01-22</th>\n",
       "      <td>126.198532</td>\n",
       "      <td>37.096233</td>\n",
       "      <td>49.573963</td>\n",
       "      <td>86.680000</td>\n",
       "      <td>95.290665</td>\n",
       "      <td>34.950840</td>\n",
       "      <td>89.629997</td>\n",
       "      <td>2.020000</td>\n",
       "      <td>143.496307</td>\n",
       "      <td>7.757191</td>\n",
       "      <td>...</td>\n",
       "      <td>105.729469</td>\n",
       "      <td>54.492031</td>\n",
       "      <td>32.567123</td>\n",
       "      <td>21.699514</td>\n",
       "      <td>44.136200</td>\n",
       "      <td>32.327343</td>\n",
       "      <td>46.539413</td>\n",
       "      <td>96.136307</td>\n",
       "      <td>20.244890</td>\n",
       "      <td>42.301258</td>\n",
       "    </tr>\n",
       "    <tr>\n",
       "      <th>2016-01-25</th>\n",
       "      <td>124.434715</td>\n",
       "      <td>36.753361</td>\n",
       "      <td>49.422283</td>\n",
       "      <td>89.290001</td>\n",
       "      <td>94.833969</td>\n",
       "      <td>33.792950</td>\n",
       "      <td>86.769997</td>\n",
       "      <td>2.120000</td>\n",
       "      <td>143.784424</td>\n",
       "      <td>7.393441</td>\n",
       "      <td>...</td>\n",
       "      <td>104.001152</td>\n",
       "      <td>56.177349</td>\n",
       "      <td>32.478218</td>\n",
       "      <td>21.771286</td>\n",
       "      <td>43.932728</td>\n",
       "      <td>32.051857</td>\n",
       "      <td>45.466675</td>\n",
       "      <td>96.049042</td>\n",
       "      <td>19.190763</td>\n",
       "      <td>42.106316</td>\n",
       "    </tr>\n",
       "    <tr>\n",
       "      <th>2016-01-26</th>\n",
       "      <td>130.956268</td>\n",
       "      <td>37.216709</td>\n",
       "      <td>49.093651</td>\n",
       "      <td>86.620003</td>\n",
       "      <td>95.560959</td>\n",
       "      <td>34.347572</td>\n",
       "      <td>86.889999</td>\n",
       "      <td>2.070000</td>\n",
       "      <td>150.490814</td>\n",
       "      <td>7.647221</td>\n",
       "      <td>...</td>\n",
       "      <td>104.832268</td>\n",
       "      <td>58.396816</td>\n",
       "      <td>32.691601</td>\n",
       "      <td>22.201931</td>\n",
       "      <td>44.718887</td>\n",
       "      <td>32.821327</td>\n",
       "      <td>47.139885</td>\n",
       "      <td>98.647591</td>\n",
       "      <td>20.000187</td>\n",
       "      <td>42.759357</td>\n",
       "    </tr>\n",
       "    <tr>\n",
       "      <th>2016-01-27</th>\n",
       "      <td>131.652756</td>\n",
       "      <td>37.503986</td>\n",
       "      <td>48.124584</td>\n",
       "      <td>83.349998</td>\n",
       "      <td>95.029709</td>\n",
       "      <td>33.150761</td>\n",
       "      <td>84.849998</td>\n",
       "      <td>2.130000</td>\n",
       "      <td>150.540466</td>\n",
       "      <td>7.681057</td>\n",
       "      <td>...</td>\n",
       "      <td>104.558365</td>\n",
       "      <td>57.310101</td>\n",
       "      <td>32.611588</td>\n",
       "      <td>22.082306</td>\n",
       "      <td>44.524658</td>\n",
       "      <td>33.144321</td>\n",
       "      <td>46.822784</td>\n",
       "      <td>98.550621</td>\n",
       "      <td>20.499010</td>\n",
       "      <td>42.057590</td>\n",
       "    </tr>\n",
       "    <tr>\n",
       "      <th>2016-01-28</th>\n",
       "      <td>133.253784</td>\n",
       "      <td>34.019558</td>\n",
       "      <td>47.062824</td>\n",
       "      <td>81.769997</td>\n",
       "      <td>96.073570</td>\n",
       "      <td>32.878311</td>\n",
       "      <td>84.519997</td>\n",
       "      <td>2.080000</td>\n",
       "      <td>147.599594</td>\n",
       "      <td>7.748732</td>\n",
       "      <td>...</td>\n",
       "      <td>106.324455</td>\n",
       "      <td>58.157379</td>\n",
       "      <td>33.402866</td>\n",
       "      <td>22.082306</td>\n",
       "      <td>44.395172</td>\n",
       "      <td>33.201313</td>\n",
       "      <td>47.504215</td>\n",
       "      <td>94.584938</td>\n",
       "      <td>20.847250</td>\n",
       "      <td>41.755428</td>\n",
       "    </tr>\n",
       "    <tr>\n",
       "      <th>2016-01-29</th>\n",
       "      <td>136.582382</td>\n",
       "      <td>35.076004</td>\n",
       "      <td>46.262287</td>\n",
       "      <td>85.330002</td>\n",
       "      <td>98.366348</td>\n",
       "      <td>33.880524</td>\n",
       "      <td>89.129997</td>\n",
       "      <td>2.200000</td>\n",
       "      <td>151.067047</td>\n",
       "      <td>8.134027</td>\n",
       "      <td>...</td>\n",
       "      <td>108.109459</td>\n",
       "      <td>62.016113</td>\n",
       "      <td>33.980778</td>\n",
       "      <td>23.326380</td>\n",
       "      <td>46.494690</td>\n",
       "      <td>34.151291</td>\n",
       "      <td>48.826591</td>\n",
       "      <td>96.242981</td>\n",
       "      <td>21.346081</td>\n",
       "      <td>41.960117</td>\n",
       "    </tr>\n",
       "    <tr>\n",
       "      <th>2016-02-01</th>\n",
       "      <td>134.529099</td>\n",
       "      <td>35.632038</td>\n",
       "      <td>45.832535</td>\n",
       "      <td>85.459999</td>\n",
       "      <td>99.056061</td>\n",
       "      <td>33.734566</td>\n",
       "      <td>89.610001</td>\n",
       "      <td>2.140000</td>\n",
       "      <td>153.888672</td>\n",
       "      <td>8.099776</td>\n",
       "      <td>...</td>\n",
       "      <td>108.137779</td>\n",
       "      <td>61.795082</td>\n",
       "      <td>34.283062</td>\n",
       "      <td>22.560795</td>\n",
       "      <td>46.152481</td>\n",
       "      <td>33.837791</td>\n",
       "      <td>49.319099</td>\n",
       "      <td>96.019951</td>\n",
       "      <td>21.176664</td>\n",
       "      <td>41.872395</td>\n",
       "    </tr>\n",
       "    <tr>\n",
       "      <th>2016-02-02</th>\n",
       "      <td>133.751221</td>\n",
       "      <td>35.103806</td>\n",
       "      <td>45.461765</td>\n",
       "      <td>84.480003</td>\n",
       "      <td>96.763268</td>\n",
       "      <td>32.518295</td>\n",
       "      <td>87.949997</td>\n",
       "      <td>1.990000</td>\n",
       "      <td>150.878250</td>\n",
       "      <td>7.954222</td>\n",
       "      <td>...</td>\n",
       "      <td>104.416702</td>\n",
       "      <td>57.098293</td>\n",
       "      <td>34.656460</td>\n",
       "      <td>21.412415</td>\n",
       "      <td>44.857624</td>\n",
       "      <td>33.115822</td>\n",
       "      <td>48.792854</td>\n",
       "      <td>95.060043</td>\n",
       "      <td>20.273125</td>\n",
       "      <td>40.663788</td>\n",
       "    </tr>\n",
       "    <tr>\n",
       "      <th>2016-02-03</th>\n",
       "      <td>137.957291</td>\n",
       "      <td>35.233547</td>\n",
       "      <td>47.897060</td>\n",
       "      <td>84.809998</td>\n",
       "      <td>95.160172</td>\n",
       "      <td>32.226387</td>\n",
       "      <td>87.989998</td>\n",
       "      <td>2.070000</td>\n",
       "      <td>146.983612</td>\n",
       "      <td>8.348081</td>\n",
       "      <td>...</td>\n",
       "      <td>107.712769</td>\n",
       "      <td>58.175785</td>\n",
       "      <td>34.896534</td>\n",
       "      <td>22.106232</td>\n",
       "      <td>44.903873</td>\n",
       "      <td>33.885284</td>\n",
       "      <td>48.880566</td>\n",
       "      <td>94.303764</td>\n",
       "      <td>20.499010</td>\n",
       "      <td>40.264168</td>\n",
       "    </tr>\n",
       "    <tr>\n",
       "      <th>2016-02-04</th>\n",
       "      <td>138.789413</td>\n",
       "      <td>35.224274</td>\n",
       "      <td>47.829643</td>\n",
       "      <td>92.000000</td>\n",
       "      <td>95.747360</td>\n",
       "      <td>31.078228</td>\n",
       "      <td>86.360001</td>\n",
       "      <td>2.090000</td>\n",
       "      <td>146.894196</td>\n",
       "      <td>8.390891</td>\n",
       "      <td>...</td>\n",
       "      <td>109.280540</td>\n",
       "      <td>58.737556</td>\n",
       "      <td>34.736488</td>\n",
       "      <td>22.417250</td>\n",
       "      <td>45.653038</td>\n",
       "      <td>35.224747</td>\n",
       "      <td>48.786106</td>\n",
       "      <td>94.584938</td>\n",
       "      <td>20.753130</td>\n",
       "      <td>40.488346</td>\n",
       "    </tr>\n",
       "    <tr>\n",
       "      <th>2016-02-05</th>\n",
       "      <td>138.816528</td>\n",
       "      <td>34.668262</td>\n",
       "      <td>44.762348</td>\n",
       "      <td>81.529999</td>\n",
       "      <td>92.242935</td>\n",
       "      <td>29.706270</td>\n",
       "      <td>79.199997</td>\n",
       "      <td>1.980000</td>\n",
       "      <td>143.009445</td>\n",
       "      <td>8.348081</td>\n",
       "      <td>...</td>\n",
       "      <td>107.684448</td>\n",
       "      <td>57.015404</td>\n",
       "      <td>35.145473</td>\n",
       "      <td>22.632568</td>\n",
       "      <td>44.459919</td>\n",
       "      <td>34.825760</td>\n",
       "      <td>47.065674</td>\n",
       "      <td>92.122154</td>\n",
       "      <td>20.357834</td>\n",
       "      <td>39.874302</td>\n",
       "    </tr>\n",
       "    <tr>\n",
       "      <th>2016-02-08</th>\n",
       "      <td>139.205444</td>\n",
       "      <td>34.714584</td>\n",
       "      <td>44.568535</td>\n",
       "      <td>71.160004</td>\n",
       "      <td>88.608017</td>\n",
       "      <td>27.945105</td>\n",
       "      <td>74.940002</td>\n",
       "      <td>1.930000</td>\n",
       "      <td>140.535553</td>\n",
       "      <td>8.082654</td>\n",
       "      <td>...</td>\n",
       "      <td>104.983376</td>\n",
       "      <td>54.151279</td>\n",
       "      <td>34.896534</td>\n",
       "      <td>21.651667</td>\n",
       "      <td>43.821739</td>\n",
       "      <td>34.407768</td>\n",
       "      <td>45.493664</td>\n",
       "      <td>89.232727</td>\n",
       "      <td>19.501358</td>\n",
       "      <td>39.172520</td>\n",
       "    </tr>\n",
       "    <tr>\n",
       "      <th>2016-02-09</th>\n",
       "      <td>139.965286</td>\n",
       "      <td>34.288303</td>\n",
       "      <td>45.065708</td>\n",
       "      <td>71.000000</td>\n",
       "      <td>86.976959</td>\n",
       "      <td>28.032679</td>\n",
       "      <td>73.849998</td>\n",
       "      <td>1.900000</td>\n",
       "      <td>140.585220</td>\n",
       "      <td>8.142591</td>\n",
       "      <td>...</td>\n",
       "      <td>104.501686</td>\n",
       "      <td>53.828957</td>\n",
       "      <td>35.225487</td>\n",
       "      <td>20.957855</td>\n",
       "      <td>43.673752</td>\n",
       "      <td>34.873257</td>\n",
       "      <td>44.845982</td>\n",
       "      <td>89.106674</td>\n",
       "      <td>19.548412</td>\n",
       "      <td>38.850880</td>\n",
       "    </tr>\n",
       "    <tr>\n",
       "      <th>2016-02-10</th>\n",
       "      <td>138.890244</td>\n",
       "      <td>34.482910</td>\n",
       "      <td>44.425274</td>\n",
       "      <td>72.379997</td>\n",
       "      <td>87.806473</td>\n",
       "      <td>29.336523</td>\n",
       "      <td>75.529999</td>\n",
       "      <td>1.840000</td>\n",
       "      <td>137.674210</td>\n",
       "      <td>8.159713</td>\n",
       "      <td>...</td>\n",
       "      <td>101.545631</td>\n",
       "      <td>53.543468</td>\n",
       "      <td>34.985428</td>\n",
       "      <td>21.244951</td>\n",
       "      <td>43.350033</td>\n",
       "      <td>34.607262</td>\n",
       "      <td>45.041630</td>\n",
       "      <td>90.085976</td>\n",
       "      <td>19.520180</td>\n",
       "      <td>38.334297</td>\n",
       "    </tr>\n",
       "    <tr>\n",
       "      <th>2016-02-11</th>\n",
       "      <td>137.268555</td>\n",
       "      <td>33.676670</td>\n",
       "      <td>43.970242</td>\n",
       "      <td>72.769997</td>\n",
       "      <td>87.079491</td>\n",
       "      <td>29.696539</td>\n",
       "      <td>74.940002</td>\n",
       "      <td>1.860000</td>\n",
       "      <td>137.515228</td>\n",
       "      <td>7.705921</td>\n",
       "      <td>...</td>\n",
       "      <td>101.177299</td>\n",
       "      <td>54.970921</td>\n",
       "      <td>34.665367</td>\n",
       "      <td>20.790384</td>\n",
       "      <td>43.701492</td>\n",
       "      <td>34.398277</td>\n",
       "      <td>44.016125</td>\n",
       "      <td>88.893356</td>\n",
       "      <td>18.729582</td>\n",
       "      <td>38.363533</td>\n",
       "    </tr>\n",
       "    <tr>\n",
       "      <th>2016-02-12</th>\n",
       "      <td>140.265961</td>\n",
       "      <td>34.408768</td>\n",
       "      <td>44.307308</td>\n",
       "      <td>73.029999</td>\n",
       "      <td>88.263161</td>\n",
       "      <td>27.361294</td>\n",
       "      <td>76.669998</td>\n",
       "      <td>1.830000</td>\n",
       "      <td>139.859985</td>\n",
       "      <td>7.851475</td>\n",
       "      <td>...</td>\n",
       "      <td>101.847839</td>\n",
       "      <td>63.673809</td>\n",
       "      <td>34.514221</td>\n",
       "      <td>20.981785</td>\n",
       "      <td>44.071461</td>\n",
       "      <td>35.186745</td>\n",
       "      <td>45.432949</td>\n",
       "      <td>88.990334</td>\n",
       "      <td>19.755476</td>\n",
       "      <td>39.406448</td>\n",
       "    </tr>\n",
       "    <tr>\n",
       "      <th>2016-02-16</th>\n",
       "      <td>141.696289</td>\n",
       "      <td>35.205753</td>\n",
       "      <td>45.090984</td>\n",
       "      <td>78.360001</td>\n",
       "      <td>90.322960</td>\n",
       "      <td>28.626221</td>\n",
       "      <td>78.879997</td>\n",
       "      <td>1.830000</td>\n",
       "      <td>145.056137</td>\n",
       "      <td>8.031281</td>\n",
       "      <td>...</td>\n",
       "      <td>104.615028</td>\n",
       "      <td>68.748192</td>\n",
       "      <td>34.523121</td>\n",
       "      <td>21.579891</td>\n",
       "      <td>44.469166</td>\n",
       "      <td>35.296360</td>\n",
       "      <td>46.903748</td>\n",
       "      <td>90.774384</td>\n",
       "      <td>20.463387</td>\n",
       "      <td>39.406448</td>\n",
       "    </tr>\n",
       "    <tr>\n",
       "      <th>...</th>\n",
       "      <td>...</td>\n",
       "      <td>...</td>\n",
       "      <td>...</td>\n",
       "      <td>...</td>\n",
       "      <td>...</td>\n",
       "      <td>...</td>\n",
       "      <td>...</td>\n",
       "      <td>...</td>\n",
       "      <td>...</td>\n",
       "      <td>...</td>\n",
       "      <td>...</td>\n",
       "      <td>...</td>\n",
       "      <td>...</td>\n",
       "      <td>...</td>\n",
       "      <td>...</td>\n",
       "      <td>...</td>\n",
       "      <td>...</td>\n",
       "      <td>...</td>\n",
       "      <td>...</td>\n",
       "      <td>...</td>\n",
       "      <td>...</td>\n",
       "    </tr>\n",
       "    <tr>\n",
       "      <th>2019-09-27</th>\n",
       "      <td>164.529999</td>\n",
       "      <td>81.513206</td>\n",
       "      <td>72.702156</td>\n",
       "      <td>175.889999</td>\n",
       "      <td>190.561264</td>\n",
       "      <td>52.330002</td>\n",
       "      <td>277.540009</td>\n",
       "      <td>28.719999</td>\n",
       "      <td>161.679993</td>\n",
       "      <td>16.180164</td>\n",
       "      <td>...</td>\n",
       "      <td>192.699997</td>\n",
       "      <td>108.250000</td>\n",
       "      <td>65.360001</td>\n",
       "      <td>30.330000</td>\n",
       "      <td>95.949997</td>\n",
       "      <td>79.903137</td>\n",
       "      <td>112.989998</td>\n",
       "      <td>134.130005</td>\n",
       "      <td>44.360001</td>\n",
       "      <td>123.741402</td>\n",
       "    </tr>\n",
       "    <tr>\n",
       "      <th>2019-09-30</th>\n",
       "      <td>164.399994</td>\n",
       "      <td>83.335899</td>\n",
       "      <td>73.547195</td>\n",
       "      <td>177.889999</td>\n",
       "      <td>191.527115</td>\n",
       "      <td>52.919998</td>\n",
       "      <td>276.250000</td>\n",
       "      <td>28.990000</td>\n",
       "      <td>165.399994</td>\n",
       "      <td>16.209925</td>\n",
       "      <td>...</td>\n",
       "      <td>192.970001</td>\n",
       "      <td>108.720001</td>\n",
       "      <td>64.889999</td>\n",
       "      <td>29.910000</td>\n",
       "      <td>95.900002</td>\n",
       "      <td>79.394585</td>\n",
       "      <td>113.430000</td>\n",
       "      <td>137.270004</td>\n",
       "      <td>44.520000</td>\n",
       "      <td>124.430511</td>\n",
       "    </tr>\n",
       "    <tr>\n",
       "      <th>2019-10-01</th>\n",
       "      <td>158.380005</td>\n",
       "      <td>81.513206</td>\n",
       "      <td>71.128639</td>\n",
       "      <td>170.210007</td>\n",
       "      <td>188.808792</td>\n",
       "      <td>52.900002</td>\n",
       "      <td>272.709991</td>\n",
       "      <td>28.760000</td>\n",
       "      <td>167.289993</td>\n",
       "      <td>16.110722</td>\n",
       "      <td>...</td>\n",
       "      <td>187.929993</td>\n",
       "      <td>109.919998</td>\n",
       "      <td>64.949997</td>\n",
       "      <td>29.469999</td>\n",
       "      <td>92.040001</td>\n",
       "      <td>76.612480</td>\n",
       "      <td>112.889999</td>\n",
       "      <td>133.610001</td>\n",
       "      <td>42.970001</td>\n",
       "      <td>124.959839</td>\n",
       "    </tr>\n",
       "    <tr>\n",
       "      <th>2019-10-02</th>\n",
       "      <td>155.649994</td>\n",
       "      <td>79.212433</td>\n",
       "      <td>70.060196</td>\n",
       "      <td>163.389999</td>\n",
       "      <td>184.059204</td>\n",
       "      <td>52.250000</td>\n",
       "      <td>266.660004</td>\n",
       "      <td>28.309999</td>\n",
       "      <td>162.960007</td>\n",
       "      <td>15.575020</td>\n",
       "      <td>...</td>\n",
       "      <td>184.210007</td>\n",
       "      <td>111.190002</td>\n",
       "      <td>63.340000</td>\n",
       "      <td>28.969999</td>\n",
       "      <td>92.449997</td>\n",
       "      <td>74.398766</td>\n",
       "      <td>112.669998</td>\n",
       "      <td>131.949997</td>\n",
       "      <td>42.259998</td>\n",
       "      <td>122.133461</td>\n",
       "    </tr>\n",
       "    <tr>\n",
       "      <th>2019-10-03</th>\n",
       "      <td>155.229996</td>\n",
       "      <td>80.746284</td>\n",
       "      <td>71.730843</td>\n",
       "      <td>167.029999</td>\n",
       "      <td>185.015091</td>\n",
       "      <td>54.070000</td>\n",
       "      <td>272.399994</td>\n",
       "      <td>28.680000</td>\n",
       "      <td>159.860001</td>\n",
       "      <td>15.674224</td>\n",
       "      <td>...</td>\n",
       "      <td>184.990005</td>\n",
       "      <td>109.860001</td>\n",
       "      <td>63.470001</td>\n",
       "      <td>29.330000</td>\n",
       "      <td>92.489998</td>\n",
       "      <td>74.907326</td>\n",
       "      <td>113.680000</td>\n",
       "      <td>132.940002</td>\n",
       "      <td>42.689999</td>\n",
       "      <td>124.120911</td>\n",
       "    </tr>\n",
       "    <tr>\n",
       "      <th>2019-10-04</th>\n",
       "      <td>155.820007</td>\n",
       "      <td>81.662605</td>\n",
       "      <td>72.517609</td>\n",
       "      <td>169.250000</td>\n",
       "      <td>188.828705</td>\n",
       "      <td>55.439999</td>\n",
       "      <td>276.959991</td>\n",
       "      <td>29.010000</td>\n",
       "      <td>159.940002</td>\n",
       "      <td>15.902394</td>\n",
       "      <td>...</td>\n",
       "      <td>188.649994</td>\n",
       "      <td>108.910004</td>\n",
       "      <td>64.629997</td>\n",
       "      <td>29.590000</td>\n",
       "      <td>94.239998</td>\n",
       "      <td>75.754921</td>\n",
       "      <td>114.660004</td>\n",
       "      <td>134.449997</td>\n",
       "      <td>43.200001</td>\n",
       "      <td>126.887367</td>\n",
       "    </tr>\n",
       "    <tr>\n",
       "      <th>2019-10-07</th>\n",
       "      <td>153.520004</td>\n",
       "      <td>80.716408</td>\n",
       "      <td>72.197075</td>\n",
       "      <td>164.429993</td>\n",
       "      <td>186.010818</td>\n",
       "      <td>55.410000</td>\n",
       "      <td>276.899994</td>\n",
       "      <td>28.930000</td>\n",
       "      <td>158.270004</td>\n",
       "      <td>15.723826</td>\n",
       "      <td>...</td>\n",
       "      <td>187.589996</td>\n",
       "      <td>107.019997</td>\n",
       "      <td>64.279999</td>\n",
       "      <td>29.830000</td>\n",
       "      <td>92.629997</td>\n",
       "      <td>75.356049</td>\n",
       "      <td>113.690002</td>\n",
       "      <td>134.500000</td>\n",
       "      <td>43.439999</td>\n",
       "      <td>125.908623</td>\n",
       "    </tr>\n",
       "    <tr>\n",
       "      <th>2019-10-08</th>\n",
       "      <td>150.740005</td>\n",
       "      <td>78.196510</td>\n",
       "      <td>71.420029</td>\n",
       "      <td>159.490005</td>\n",
       "      <td>181.420532</td>\n",
       "      <td>54.130001</td>\n",
       "      <td>270.829987</td>\n",
       "      <td>28.230000</td>\n",
       "      <td>154.330002</td>\n",
       "      <td>15.386533</td>\n",
       "      <td>...</td>\n",
       "      <td>184.360001</td>\n",
       "      <td>102.570000</td>\n",
       "      <td>63.590000</td>\n",
       "      <td>28.309999</td>\n",
       "      <td>89.269997</td>\n",
       "      <td>73.222107</td>\n",
       "      <td>112.589996</td>\n",
       "      <td>131.220001</td>\n",
       "      <td>42.209999</td>\n",
       "      <td>125.219505</td>\n",
       "    </tr>\n",
       "    <tr>\n",
       "      <th>2019-10-09</th>\n",
       "      <td>150.990005</td>\n",
       "      <td>79.182556</td>\n",
       "      <td>71.196632</td>\n",
       "      <td>159.309998</td>\n",
       "      <td>183.551376</td>\n",
       "      <td>53.430000</td>\n",
       "      <td>274.269989</td>\n",
       "      <td>28.459999</td>\n",
       "      <td>154.410004</td>\n",
       "      <td>15.416294</td>\n",
       "      <td>...</td>\n",
       "      <td>186.199997</td>\n",
       "      <td>104.419998</td>\n",
       "      <td>63.919998</td>\n",
       "      <td>28.760000</td>\n",
       "      <td>90.480003</td>\n",
       "      <td>74.358879</td>\n",
       "      <td>113.330002</td>\n",
       "      <td>133.419998</td>\n",
       "      <td>42.419998</td>\n",
       "      <td>126.268158</td>\n",
       "    </tr>\n",
       "    <tr>\n",
       "      <th>2019-10-10</th>\n",
       "      <td>152.309998</td>\n",
       "      <td>79.820000</td>\n",
       "      <td>72.313629</td>\n",
       "      <td>162.339996</td>\n",
       "      <td>183.043564</td>\n",
       "      <td>53.689999</td>\n",
       "      <td>274.980011</td>\n",
       "      <td>28.379999</td>\n",
       "      <td>155.949997</td>\n",
       "      <td>15.694064</td>\n",
       "      <td>...</td>\n",
       "      <td>187.690002</td>\n",
       "      <td>106.059998</td>\n",
       "      <td>63.950001</td>\n",
       "      <td>28.820000</td>\n",
       "      <td>92.809998</td>\n",
       "      <td>75.216446</td>\n",
       "      <td>114.330002</td>\n",
       "      <td>134.070007</td>\n",
       "      <td>43.209999</td>\n",
       "      <td>127.246910</td>\n",
       "    </tr>\n",
       "    <tr>\n",
       "      <th>2019-10-11</th>\n",
       "      <td>158.100006</td>\n",
       "      <td>79.629997</td>\n",
       "      <td>72.559998</td>\n",
       "      <td>169.639999</td>\n",
       "      <td>184.178680</td>\n",
       "      <td>54.820000</td>\n",
       "      <td>278.290009</td>\n",
       "      <td>29.750000</td>\n",
       "      <td>158.559998</td>\n",
       "      <td>15.882553</td>\n",
       "      <td>...</td>\n",
       "      <td>188.100006</td>\n",
       "      <td>112.779999</td>\n",
       "      <td>63.330002</td>\n",
       "      <td>29.410000</td>\n",
       "      <td>96.220001</td>\n",
       "      <td>77.410217</td>\n",
       "      <td>114.449997</td>\n",
       "      <td>136.440002</td>\n",
       "      <td>44.090000</td>\n",
       "      <td>128.305557</td>\n",
       "    </tr>\n",
       "    <tr>\n",
       "      <th>2019-10-14</th>\n",
       "      <td>160.509995</td>\n",
       "      <td>79.820000</td>\n",
       "      <td>73.760002</td>\n",
       "      <td>176.509995</td>\n",
       "      <td>184.706421</td>\n",
       "      <td>55.009998</td>\n",
       "      <td>277.779999</td>\n",
       "      <td>30.530001</td>\n",
       "      <td>157.320007</td>\n",
       "      <td>15.862711</td>\n",
       "      <td>...</td>\n",
       "      <td>187.639999</td>\n",
       "      <td>112.320000</td>\n",
       "      <td>63.279999</td>\n",
       "      <td>29.260000</td>\n",
       "      <td>95.930000</td>\n",
       "      <td>76.791977</td>\n",
       "      <td>112.820000</td>\n",
       "      <td>135.240005</td>\n",
       "      <td>44.150002</td>\n",
       "      <td>126.427956</td>\n",
       "    </tr>\n",
       "    <tr>\n",
       "      <th>2019-10-15</th>\n",
       "      <td>162.979996</td>\n",
       "      <td>81.980003</td>\n",
       "      <td>74.500000</td>\n",
       "      <td>177.869995</td>\n",
       "      <td>186.199997</td>\n",
       "      <td>55.560001</td>\n",
       "      <td>279.390015</td>\n",
       "      <td>30.719999</td>\n",
       "      <td>159.729996</td>\n",
       "      <td>15.892473</td>\n",
       "      <td>...</td>\n",
       "      <td>188.000000</td>\n",
       "      <td>114.879997</td>\n",
       "      <td>63.150002</td>\n",
       "      <td>29.840000</td>\n",
       "      <td>96.970001</td>\n",
       "      <td>77.799110</td>\n",
       "      <td>111.300003</td>\n",
       "      <td>137.889999</td>\n",
       "      <td>44.759998</td>\n",
       "      <td>128.545242</td>\n",
       "    </tr>\n",
       "    <tr>\n",
       "      <th>2019-10-16</th>\n",
       "      <td>162.179993</td>\n",
       "      <td>81.779999</td>\n",
       "      <td>74.750000</td>\n",
       "      <td>178.669998</td>\n",
       "      <td>186.570007</td>\n",
       "      <td>55.590000</td>\n",
       "      <td>272.700012</td>\n",
       "      <td>30.809999</td>\n",
       "      <td>162.750000</td>\n",
       "      <td>16.001596</td>\n",
       "      <td>...</td>\n",
       "      <td>188.589996</td>\n",
       "      <td>113.830002</td>\n",
       "      <td>63.490002</td>\n",
       "      <td>29.450001</td>\n",
       "      <td>94.629997</td>\n",
       "      <td>77.958664</td>\n",
       "      <td>111.480003</td>\n",
       "      <td>136.580002</td>\n",
       "      <td>44.660000</td>\n",
       "      <td>127.766243</td>\n",
       "    </tr>\n",
       "    <tr>\n",
       "      <th>2019-10-17</th>\n",
       "      <td>163.539993</td>\n",
       "      <td>82.379997</td>\n",
       "      <td>75.139999</td>\n",
       "      <td>176.520004</td>\n",
       "      <td>186.039993</td>\n",
       "      <td>55.590000</td>\n",
       "      <td>269.239990</td>\n",
       "      <td>31.139999</td>\n",
       "      <td>163.750000</td>\n",
       "      <td>16.110722</td>\n",
       "      <td>...</td>\n",
       "      <td>187.889999</td>\n",
       "      <td>114.050003</td>\n",
       "      <td>63.669998</td>\n",
       "      <td>29.570000</td>\n",
       "      <td>94.910004</td>\n",
       "      <td>78.586876</td>\n",
       "      <td>110.370003</td>\n",
       "      <td>138.509995</td>\n",
       "      <td>44.040001</td>\n",
       "      <td>128.305557</td>\n",
       "    </tr>\n",
       "    <tr>\n",
       "      <th>2019-10-18</th>\n",
       "      <td>163.100006</td>\n",
       "      <td>82.790001</td>\n",
       "      <td>76.459999</td>\n",
       "      <td>175.300003</td>\n",
       "      <td>187.080002</td>\n",
       "      <td>54.540001</td>\n",
       "      <td>265.519989</td>\n",
       "      <td>30.969999</td>\n",
       "      <td>163.500000</td>\n",
       "      <td>16.249607</td>\n",
       "      <td>...</td>\n",
       "      <td>187.770004</td>\n",
       "      <td>113.519997</td>\n",
       "      <td>64.010002</td>\n",
       "      <td>29.799999</td>\n",
       "      <td>94.339996</td>\n",
       "      <td>79.554131</td>\n",
       "      <td>112.300003</td>\n",
       "      <td>137.610001</td>\n",
       "      <td>44.720001</td>\n",
       "      <td>127.955994</td>\n",
       "    </tr>\n",
       "    <tr>\n",
       "      <th>2019-10-21</th>\n",
       "      <td>165.940002</td>\n",
       "      <td>81.650002</td>\n",
       "      <td>77.300003</td>\n",
       "      <td>175.970001</td>\n",
       "      <td>187.339996</td>\n",
       "      <td>55.509998</td>\n",
       "      <td>266.839996</td>\n",
       "      <td>32.029999</td>\n",
       "      <td>166.029999</td>\n",
       "      <td>16.309130</td>\n",
       "      <td>...</td>\n",
       "      <td>190.050003</td>\n",
       "      <td>116.870003</td>\n",
       "      <td>64.290001</td>\n",
       "      <td>29.959999</td>\n",
       "      <td>95.059998</td>\n",
       "      <td>80.780647</td>\n",
       "      <td>112.309998</td>\n",
       "      <td>137.600006</td>\n",
       "      <td>45.669998</td>\n",
       "      <td>126.449997</td>\n",
       "    </tr>\n",
       "    <tr>\n",
       "      <th>2019-10-22</th>\n",
       "      <td>167.539993</td>\n",
       "      <td>80.540001</td>\n",
       "      <td>77.870003</td>\n",
       "      <td>170.830002</td>\n",
       "      <td>182.720001</td>\n",
       "      <td>54.520000</td>\n",
       "      <td>261.089996</td>\n",
       "      <td>31.510000</td>\n",
       "      <td>165.979996</td>\n",
       "      <td>16.765467</td>\n",
       "      <td>...</td>\n",
       "      <td>188.779999</td>\n",
       "      <td>115.699997</td>\n",
       "      <td>64.209999</td>\n",
       "      <td>30.360001</td>\n",
       "      <td>95.980003</td>\n",
       "      <td>81.039909</td>\n",
       "      <td>110.099998</td>\n",
       "      <td>134.820007</td>\n",
       "      <td>48.080002</td>\n",
       "      <td>122.809998</td>\n",
       "    </tr>\n",
       "    <tr>\n",
       "      <th>2019-10-23</th>\n",
       "      <td>168.759995</td>\n",
       "      <td>81.269997</td>\n",
       "      <td>77.750000</td>\n",
       "      <td>178.729996</td>\n",
       "      <td>184.070007</td>\n",
       "      <td>54.799999</td>\n",
       "      <td>261.320007</td>\n",
       "      <td>31.360001</td>\n",
       "      <td>165.119995</td>\n",
       "      <td>16.993635</td>\n",
       "      <td>...</td>\n",
       "      <td>184.770004</td>\n",
       "      <td>115.860001</td>\n",
       "      <td>64.440002</td>\n",
       "      <td>30.680000</td>\n",
       "      <td>93.830002</td>\n",
       "      <td>81.368973</td>\n",
       "      <td>109.269997</td>\n",
       "      <td>135.220001</td>\n",
       "      <td>47.939999</td>\n",
       "      <td>121.800003</td>\n",
       "    </tr>\n",
       "    <tr>\n",
       "      <th>2019-10-24</th>\n",
       "      <td>161.889999</td>\n",
       "      <td>81.360001</td>\n",
       "      <td>76.800003</td>\n",
       "      <td>179.960007</td>\n",
       "      <td>185.000000</td>\n",
       "      <td>55.439999</td>\n",
       "      <td>269.700012</td>\n",
       "      <td>31.719999</td>\n",
       "      <td>166.809998</td>\n",
       "      <td>16.745626</td>\n",
       "      <td>...</td>\n",
       "      <td>187.339996</td>\n",
       "      <td>117.110001</td>\n",
       "      <td>64.540001</td>\n",
       "      <td>30.379999</td>\n",
       "      <td>93.120003</td>\n",
       "      <td>81.747902</td>\n",
       "      <td>108.949997</td>\n",
       "      <td>134.889999</td>\n",
       "      <td>47.509998</td>\n",
       "      <td>122.949997</td>\n",
       "    </tr>\n",
       "    <tr>\n",
       "      <th>2019-10-25</th>\n",
       "      <td>166.089996</td>\n",
       "      <td>81.650002</td>\n",
       "      <td>76.529999</td>\n",
       "      <td>182.339996</td>\n",
       "      <td>183.070007</td>\n",
       "      <td>55.259998</td>\n",
       "      <td>270.980011</td>\n",
       "      <td>32.709999</td>\n",
       "      <td>165.559998</td>\n",
       "      <td>16.666264</td>\n",
       "      <td>...</td>\n",
       "      <td>184.979996</td>\n",
       "      <td>120.849998</td>\n",
       "      <td>63.639999</td>\n",
       "      <td>30.510000</td>\n",
       "      <td>94.900002</td>\n",
       "      <td>83.064171</td>\n",
       "      <td>109.099998</td>\n",
       "      <td>134.070007</td>\n",
       "      <td>47.950001</td>\n",
       "      <td>124.360001</td>\n",
       "    </tr>\n",
       "    <tr>\n",
       "      <th>2019-10-28</th>\n",
       "      <td>169.059998</td>\n",
       "      <td>82.660004</td>\n",
       "      <td>78.330002</td>\n",
       "      <td>183.910004</td>\n",
       "      <td>182.869995</td>\n",
       "      <td>54.560001</td>\n",
       "      <td>271.350006</td>\n",
       "      <td>33.689999</td>\n",
       "      <td>166.410004</td>\n",
       "      <td>16.844830</td>\n",
       "      <td>...</td>\n",
       "      <td>183.380005</td>\n",
       "      <td>123.000000</td>\n",
       "      <td>62.439999</td>\n",
       "      <td>30.790001</td>\n",
       "      <td>94.750000</td>\n",
       "      <td>83.792099</td>\n",
       "      <td>109.510002</td>\n",
       "      <td>135.949997</td>\n",
       "      <td>48.799999</td>\n",
       "      <td>125.129997</td>\n",
       "    </tr>\n",
       "    <tr>\n",
       "      <th>2019-10-29</th>\n",
       "      <td>168.809998</td>\n",
       "      <td>83.449997</td>\n",
       "      <td>78.470001</td>\n",
       "      <td>184.949997</td>\n",
       "      <td>184.800003</td>\n",
       "      <td>54.000000</td>\n",
       "      <td>271.450012</td>\n",
       "      <td>33.029999</td>\n",
       "      <td>164.350006</td>\n",
       "      <td>16.953955</td>\n",
       "      <td>...</td>\n",
       "      <td>185.649994</td>\n",
       "      <td>120.220001</td>\n",
       "      <td>62.580002</td>\n",
       "      <td>34.419998</td>\n",
       "      <td>92.330002</td>\n",
       "      <td>84.529999</td>\n",
       "      <td>109.720001</td>\n",
       "      <td>138.190002</td>\n",
       "      <td>49.380001</td>\n",
       "      <td>126.160004</td>\n",
       "    </tr>\n",
       "    <tr>\n",
       "      <th>2019-10-30</th>\n",
       "      <td>168.369995</td>\n",
       "      <td>84.010002</td>\n",
       "      <td>79.660004</td>\n",
       "      <td>181.770004</td>\n",
       "      <td>186.580002</td>\n",
       "      <td>55.869999</td>\n",
       "      <td>278.410004</td>\n",
       "      <td>33.130001</td>\n",
       "      <td>163.970001</td>\n",
       "      <td>17.072998</td>\n",
       "      <td>...</td>\n",
       "      <td>190.240005</td>\n",
       "      <td>123.720001</td>\n",
       "      <td>63.320000</td>\n",
       "      <td>34.119999</td>\n",
       "      <td>91.260002</td>\n",
       "      <td>84.059998</td>\n",
       "      <td>103.339996</td>\n",
       "      <td>138.070007</td>\n",
       "      <td>49.220001</td>\n",
       "      <td>127.599998</td>\n",
       "    </tr>\n",
       "    <tr>\n",
       "      <th>2019-10-31</th>\n",
       "      <td>164.990005</td>\n",
       "      <td>83.610001</td>\n",
       "      <td>79.550003</td>\n",
       "      <td>207.580002</td>\n",
       "      <td>185.419998</td>\n",
       "      <td>56.029999</td>\n",
       "      <td>277.929993</td>\n",
       "      <td>33.930000</td>\n",
       "      <td>162.479996</td>\n",
       "      <td>17.049999</td>\n",
       "      <td>...</td>\n",
       "      <td>186.899994</td>\n",
       "      <td>121.339996</td>\n",
       "      <td>63.509998</td>\n",
       "      <td>33.930000</td>\n",
       "      <td>90.739998</td>\n",
       "      <td>76.690002</td>\n",
       "      <td>101.709999</td>\n",
       "      <td>138.229996</td>\n",
       "      <td>48.470001</td>\n",
       "      <td>127.919998</td>\n",
       "    </tr>\n",
       "    <tr>\n",
       "      <th>2019-11-01</th>\n",
       "      <td>170.089996</td>\n",
       "      <td>82.660004</td>\n",
       "      <td>81.750000</td>\n",
       "      <td>216.789993</td>\n",
       "      <td>188.220001</td>\n",
       "      <td>55.820000</td>\n",
       "      <td>277.820007</td>\n",
       "      <td>34.889999</td>\n",
       "      <td>164.820007</td>\n",
       "      <td>17.510000</td>\n",
       "      <td>...</td>\n",
       "      <td>188.990005</td>\n",
       "      <td>123.190002</td>\n",
       "      <td>63.099998</td>\n",
       "      <td>33.480000</td>\n",
       "      <td>92.709999</td>\n",
       "      <td>79.120003</td>\n",
       "      <td>99.650002</td>\n",
       "      <td>138.220001</td>\n",
       "      <td>49.349998</td>\n",
       "      <td>125.339996</td>\n",
       "    </tr>\n",
       "    <tr>\n",
       "      <th>2019-11-04</th>\n",
       "      <td>174.899994</td>\n",
       "      <td>82.220001</td>\n",
       "      <td>82.989998</td>\n",
       "      <td>220.419998</td>\n",
       "      <td>187.800003</td>\n",
       "      <td>55.709999</td>\n",
       "      <td>277.500000</td>\n",
       "      <td>36.290001</td>\n",
       "      <td>166.610001</td>\n",
       "      <td>17.420000</td>\n",
       "      <td>...</td>\n",
       "      <td>186.830002</td>\n",
       "      <td>126.720001</td>\n",
       "      <td>61.650002</td>\n",
       "      <td>34.669998</td>\n",
       "      <td>96.639999</td>\n",
       "      <td>78.650002</td>\n",
       "      <td>98.449997</td>\n",
       "      <td>136.529999</td>\n",
       "      <td>50.209999</td>\n",
       "      <td>124.760002</td>\n",
       "    </tr>\n",
       "    <tr>\n",
       "      <th>2019-11-05</th>\n",
       "      <td>175.270004</td>\n",
       "      <td>82.339996</td>\n",
       "      <td>81.839996</td>\n",
       "      <td>217.539993</td>\n",
       "      <td>186.880005</td>\n",
       "      <td>55.540001</td>\n",
       "      <td>289.290009</td>\n",
       "      <td>36.150002</td>\n",
       "      <td>168.139999</td>\n",
       "      <td>17.190001</td>\n",
       "      <td>...</td>\n",
       "      <td>185.009995</td>\n",
       "      <td>126.599998</td>\n",
       "      <td>60.540001</td>\n",
       "      <td>36.369999</td>\n",
       "      <td>95.400002</td>\n",
       "      <td>79.669998</td>\n",
       "      <td>97.930000</td>\n",
       "      <td>140.309998</td>\n",
       "      <td>50.709999</td>\n",
       "      <td>120.250000</td>\n",
       "    </tr>\n",
       "    <tr>\n",
       "      <th>2019-11-06</th>\n",
       "      <td>174.000000</td>\n",
       "      <td>83.120003</td>\n",
       "      <td>82.080002</td>\n",
       "      <td>214.610001</td>\n",
       "      <td>189.229996</td>\n",
       "      <td>56.360001</td>\n",
       "      <td>287.399994</td>\n",
       "      <td>35.930000</td>\n",
       "      <td>169.699997</td>\n",
       "      <td>17.680000</td>\n",
       "      <td>...</td>\n",
       "      <td>186.669998</td>\n",
       "      <td>122.559998</td>\n",
       "      <td>61.259998</td>\n",
       "      <td>37.660000</td>\n",
       "      <td>93.769997</td>\n",
       "      <td>78.199997</td>\n",
       "      <td>100.089996</td>\n",
       "      <td>143.220001</td>\n",
       "      <td>50.369999</td>\n",
       "      <td>121.470001</td>\n",
       "    </tr>\n",
       "    <tr>\n",
       "      <th>2019-11-07</th>\n",
       "      <td>174.520004</td>\n",
       "      <td>83.389999</td>\n",
       "      <td>82.010002</td>\n",
       "      <td>219.130005</td>\n",
       "      <td>189.089996</td>\n",
       "      <td>54.549999</td>\n",
       "      <td>290.769989</td>\n",
       "      <td>36.279999</td>\n",
       "      <td>169.279999</td>\n",
       "      <td>17.570000</td>\n",
       "      <td>...</td>\n",
       "      <td>184.990005</td>\n",
       "      <td>125.489998</td>\n",
       "      <td>60.330002</td>\n",
       "      <td>37.310001</td>\n",
       "      <td>96.050003</td>\n",
       "      <td>77.320000</td>\n",
       "      <td>99.660004</td>\n",
       "      <td>141.929993</td>\n",
       "      <td>51.040001</td>\n",
       "      <td>121.029999</td>\n",
       "    </tr>\n",
       "  </tbody>\n",
       "</table>\n",
       "<p>970 rows × 503 columns</p>\n",
       "</div>"
      ],
      "text/plain": [
       "                   MMM        ABT       ABBV        ABMD         ACN  \\\n",
       "Date                                                                   \n",
       "2016-01-04  132.801498  39.534214  48.041336   85.239998   94.908531   \n",
       "2016-01-05  133.380402  39.524998  47.841198   85.000000   95.402504   \n",
       "2016-01-06  130.693954  39.193478  47.849529   85.300003   95.216103   \n",
       "2016-01-07  127.510063  38.254166  47.707767   81.919998   92.420013   \n",
       "2016-01-08  127.075912  37.452972  46.406876   84.580002   91.525261   \n",
       "2016-01-11  127.048767  37.508224  44.930874   85.000000   92.485260   \n",
       "2016-01-12  127.410568  38.180489  45.731422   88.320000   94.144272   \n",
       "2016-01-13  125.474869  37.327915  43.127583   85.809998   92.513222   \n",
       "2016-01-14  127.699997  38.087818  45.975784   87.879997   94.955132   \n",
       "2016-01-15  125.447754  37.568867  48.318394   87.410004   92.522530   \n",
       "2016-01-19  125.176384  37.466919  46.338135   86.250000   94.489113   \n",
       "2016-01-20  123.882919  37.031364  48.158287   83.169998   92.326805   \n",
       "2016-01-21  124.606537  36.586540  49.177906   82.940002   91.609154   \n",
       "2016-01-22  126.198532  37.096233  49.573963   86.680000   95.290665   \n",
       "2016-01-25  124.434715  36.753361  49.422283   89.290001   94.833969   \n",
       "2016-01-26  130.956268  37.216709  49.093651   86.620003   95.560959   \n",
       "2016-01-27  131.652756  37.503986  48.124584   83.349998   95.029709   \n",
       "2016-01-28  133.253784  34.019558  47.062824   81.769997   96.073570   \n",
       "2016-01-29  136.582382  35.076004  46.262287   85.330002   98.366348   \n",
       "2016-02-01  134.529099  35.632038  45.832535   85.459999   99.056061   \n",
       "2016-02-02  133.751221  35.103806  45.461765   84.480003   96.763268   \n",
       "2016-02-03  137.957291  35.233547  47.897060   84.809998   95.160172   \n",
       "2016-02-04  138.789413  35.224274  47.829643   92.000000   95.747360   \n",
       "2016-02-05  138.816528  34.668262  44.762348   81.529999   92.242935   \n",
       "2016-02-08  139.205444  34.714584  44.568535   71.160004   88.608017   \n",
       "2016-02-09  139.965286  34.288303  45.065708   71.000000   86.976959   \n",
       "2016-02-10  138.890244  34.482910  44.425274   72.379997   87.806473   \n",
       "2016-02-11  137.268555  33.676670  43.970242   72.769997   87.079491   \n",
       "2016-02-12  140.265961  34.408768  44.307308   73.029999   88.263161   \n",
       "2016-02-16  141.696289  35.205753  45.090984   78.360001   90.322960   \n",
       "...                ...        ...        ...         ...         ...   \n",
       "2019-09-27  164.529999  81.513206  72.702156  175.889999  190.561264   \n",
       "2019-09-30  164.399994  83.335899  73.547195  177.889999  191.527115   \n",
       "2019-10-01  158.380005  81.513206  71.128639  170.210007  188.808792   \n",
       "2019-10-02  155.649994  79.212433  70.060196  163.389999  184.059204   \n",
       "2019-10-03  155.229996  80.746284  71.730843  167.029999  185.015091   \n",
       "2019-10-04  155.820007  81.662605  72.517609  169.250000  188.828705   \n",
       "2019-10-07  153.520004  80.716408  72.197075  164.429993  186.010818   \n",
       "2019-10-08  150.740005  78.196510  71.420029  159.490005  181.420532   \n",
       "2019-10-09  150.990005  79.182556  71.196632  159.309998  183.551376   \n",
       "2019-10-10  152.309998  79.820000  72.313629  162.339996  183.043564   \n",
       "2019-10-11  158.100006  79.629997  72.559998  169.639999  184.178680   \n",
       "2019-10-14  160.509995  79.820000  73.760002  176.509995  184.706421   \n",
       "2019-10-15  162.979996  81.980003  74.500000  177.869995  186.199997   \n",
       "2019-10-16  162.179993  81.779999  74.750000  178.669998  186.570007   \n",
       "2019-10-17  163.539993  82.379997  75.139999  176.520004  186.039993   \n",
       "2019-10-18  163.100006  82.790001  76.459999  175.300003  187.080002   \n",
       "2019-10-21  165.940002  81.650002  77.300003  175.970001  187.339996   \n",
       "2019-10-22  167.539993  80.540001  77.870003  170.830002  182.720001   \n",
       "2019-10-23  168.759995  81.269997  77.750000  178.729996  184.070007   \n",
       "2019-10-24  161.889999  81.360001  76.800003  179.960007  185.000000   \n",
       "2019-10-25  166.089996  81.650002  76.529999  182.339996  183.070007   \n",
       "2019-10-28  169.059998  82.660004  78.330002  183.910004  182.869995   \n",
       "2019-10-29  168.809998  83.449997  78.470001  184.949997  184.800003   \n",
       "2019-10-30  168.369995  84.010002  79.660004  181.770004  186.580002   \n",
       "2019-10-31  164.990005  83.610001  79.550003  207.580002  185.419998   \n",
       "2019-11-01  170.089996  82.660004  81.750000  216.789993  188.220001   \n",
       "2019-11-04  174.899994  82.220001  82.989998  220.419998  187.800003   \n",
       "2019-11-05  175.270004  82.339996  81.839996  217.539993  186.880005   \n",
       "2019-11-06  174.000000  83.120003  82.080002  214.610001  189.229996   \n",
       "2019-11-07  174.520004  83.389999  82.010002  219.130005  189.089996   \n",
       "\n",
       "                 ATVI        ADBE        AMD         AAP        AES  ...  \\\n",
       "Date                                                                 ...   \n",
       "2016-01-04  36.604977   91.970001   2.770000  151.255829   7.977132  ...   \n",
       "2016-01-05  36.137928   92.339996   2.750000  150.222534   8.087104  ...   \n",
       "2016-01-06  35.797367   91.019997   2.510000  146.248398   7.807945  ...   \n",
       "2016-01-07  35.291401   89.110001   2.280000  147.867859   7.613383  ...   \n",
       "2016-01-08  34.746506   87.849998   2.140000  144.619003   7.723354  ...   \n",
       "2016-01-11  35.233021   89.379997   2.340000  146.099365   7.638759  ...   \n",
       "2016-01-12  36.118465   89.820000   2.390000  147.112762   7.401899  ...   \n",
       "2016-01-13  33.919445   88.300003   2.250000  141.240982   7.308847  ...   \n",
       "2016-01-14  34.444874   89.800003   2.210000  140.406418   7.486492  ...   \n",
       "2016-01-15  33.968090   89.169998   2.030000  143.357208   7.224254  ...   \n",
       "2016-01-19  34.201618   89.180000   1.950000  143.685059   7.376523  ...   \n",
       "2016-01-20  33.773491   87.940002   1.800000  142.462982   7.291928  ...   \n",
       "2016-01-21  33.627541   88.000000   2.090000  142.870377   7.706433  ...   \n",
       "2016-01-22  34.950840   89.629997   2.020000  143.496307   7.757191  ...   \n",
       "2016-01-25  33.792950   86.769997   2.120000  143.784424   7.393441  ...   \n",
       "2016-01-26  34.347572   86.889999   2.070000  150.490814   7.647221  ...   \n",
       "2016-01-27  33.150761   84.849998   2.130000  150.540466   7.681057  ...   \n",
       "2016-01-28  32.878311   84.519997   2.080000  147.599594   7.748732  ...   \n",
       "2016-01-29  33.880524   89.129997   2.200000  151.067047   8.134027  ...   \n",
       "2016-02-01  33.734566   89.610001   2.140000  153.888672   8.099776  ...   \n",
       "2016-02-02  32.518295   87.949997   1.990000  150.878250   7.954222  ...   \n",
       "2016-02-03  32.226387   87.989998   2.070000  146.983612   8.348081  ...   \n",
       "2016-02-04  31.078228   86.360001   2.090000  146.894196   8.390891  ...   \n",
       "2016-02-05  29.706270   79.199997   1.980000  143.009445   8.348081  ...   \n",
       "2016-02-08  27.945105   74.940002   1.930000  140.535553   8.082654  ...   \n",
       "2016-02-09  28.032679   73.849998   1.900000  140.585220   8.142591  ...   \n",
       "2016-02-10  29.336523   75.529999   1.840000  137.674210   8.159713  ...   \n",
       "2016-02-11  29.696539   74.940002   1.860000  137.515228   7.705921  ...   \n",
       "2016-02-12  27.361294   76.669998   1.830000  139.859985   7.851475  ...   \n",
       "2016-02-16  28.626221   78.879997   1.830000  145.056137   8.031281  ...   \n",
       "...               ...         ...        ...         ...        ...  ...   \n",
       "2019-09-27  52.330002  277.540009  28.719999  161.679993  16.180164  ...   \n",
       "2019-09-30  52.919998  276.250000  28.990000  165.399994  16.209925  ...   \n",
       "2019-10-01  52.900002  272.709991  28.760000  167.289993  16.110722  ...   \n",
       "2019-10-02  52.250000  266.660004  28.309999  162.960007  15.575020  ...   \n",
       "2019-10-03  54.070000  272.399994  28.680000  159.860001  15.674224  ...   \n",
       "2019-10-04  55.439999  276.959991  29.010000  159.940002  15.902394  ...   \n",
       "2019-10-07  55.410000  276.899994  28.930000  158.270004  15.723826  ...   \n",
       "2019-10-08  54.130001  270.829987  28.230000  154.330002  15.386533  ...   \n",
       "2019-10-09  53.430000  274.269989  28.459999  154.410004  15.416294  ...   \n",
       "2019-10-10  53.689999  274.980011  28.379999  155.949997  15.694064  ...   \n",
       "2019-10-11  54.820000  278.290009  29.750000  158.559998  15.882553  ...   \n",
       "2019-10-14  55.009998  277.779999  30.530001  157.320007  15.862711  ...   \n",
       "2019-10-15  55.560001  279.390015  30.719999  159.729996  15.892473  ...   \n",
       "2019-10-16  55.590000  272.700012  30.809999  162.750000  16.001596  ...   \n",
       "2019-10-17  55.590000  269.239990  31.139999  163.750000  16.110722  ...   \n",
       "2019-10-18  54.540001  265.519989  30.969999  163.500000  16.249607  ...   \n",
       "2019-10-21  55.509998  266.839996  32.029999  166.029999  16.309130  ...   \n",
       "2019-10-22  54.520000  261.089996  31.510000  165.979996  16.765467  ...   \n",
       "2019-10-23  54.799999  261.320007  31.360001  165.119995  16.993635  ...   \n",
       "2019-10-24  55.439999  269.700012  31.719999  166.809998  16.745626  ...   \n",
       "2019-10-25  55.259998  270.980011  32.709999  165.559998  16.666264  ...   \n",
       "2019-10-28  54.560001  271.350006  33.689999  166.410004  16.844830  ...   \n",
       "2019-10-29  54.000000  271.450012  33.029999  164.350006  16.953955  ...   \n",
       "2019-10-30  55.869999  278.410004  33.130001  163.970001  17.072998  ...   \n",
       "2019-10-31  56.029999  277.929993  33.930000  162.479996  17.049999  ...   \n",
       "2019-11-01  55.820000  277.820007  34.889999  164.820007  17.510000  ...   \n",
       "2019-11-04  55.709999  277.500000  36.290001  166.610001  17.420000  ...   \n",
       "2019-11-05  55.540001  289.290009  36.150002  168.139999  17.190001  ...   \n",
       "2019-11-06  56.360001  287.399994  35.930000  169.699997  17.680000  ...   \n",
       "2019-11-07  54.549999  290.769989  36.279999  169.279999  17.570000  ...   \n",
       "\n",
       "                  WLTW        WYNN        XEL        XRX       XLNX  \\\n",
       "Date                                                                  \n",
       "2016-01-04  118.035591   63.333061  31.740282  24.642227  42.360394   \n",
       "2016-01-05  118.847672   64.530273  32.060349  24.594379  42.989334   \n",
       "2016-01-06  113.313286   61.187263  32.398201  24.283361  42.203171   \n",
       "2016-01-07  108.562775   55.431393  32.522671  23.613476  40.538345   \n",
       "2016-01-08  110.139984   53.175087  32.167038  22.943588  39.705929   \n",
       "2016-01-11  108.581665   52.300198  32.424870  22.489025  39.881660   \n",
       "2016-01-12  109.129448   51.222687  32.300404  22.800041  40.103638   \n",
       "2016-01-13  106.579468   48.321732  32.104805  22.058382  38.762535   \n",
       "2016-01-14  108.024445   47.428425  32.638248  21.962685  39.224983   \n",
       "2016-01-15  106.277237   53.755280  32.451546  21.771286  39.594944   \n",
       "2016-01-19  104.246712   54.455193  33.082790  21.316721  39.576443   \n",
       "2016-01-20  103.226730   51.876556  32.558235  20.957855  39.844666   \n",
       "2016-01-21  103.887817   52.198891  32.122589  21.627743  43.266792   \n",
       "2016-01-22  105.729469   54.492031  32.567123  21.699514  44.136200   \n",
       "2016-01-25  104.001152   56.177349  32.478218  21.771286  43.932728   \n",
       "2016-01-26  104.832268   58.396816  32.691601  22.201931  44.718887   \n",
       "2016-01-27  104.558365   57.310101  32.611588  22.082306  44.524658   \n",
       "2016-01-28  106.324455   58.157379  33.402866  22.082306  44.395172   \n",
       "2016-01-29  108.109459   62.016113  33.980778  23.326380  46.494690   \n",
       "2016-02-01  108.137779   61.795082  34.283062  22.560795  46.152481   \n",
       "2016-02-02  104.416702   57.098293  34.656460  21.412415  44.857624   \n",
       "2016-02-03  107.712769   58.175785  34.896534  22.106232  44.903873   \n",
       "2016-02-04  109.280540   58.737556  34.736488  22.417250  45.653038   \n",
       "2016-02-05  107.684448   57.015404  35.145473  22.632568  44.459919   \n",
       "2016-02-08  104.983376   54.151279  34.896534  21.651667  43.821739   \n",
       "2016-02-09  104.501686   53.828957  35.225487  20.957855  43.673752   \n",
       "2016-02-10  101.545631   53.543468  34.985428  21.244951  43.350033   \n",
       "2016-02-11  101.177299   54.970921  34.665367  20.790384  43.701492   \n",
       "2016-02-12  101.847839   63.673809  34.514221  20.981785  44.071461   \n",
       "2016-02-16  104.615028   68.748192  34.523121  21.579891  44.469166   \n",
       "...                ...         ...        ...        ...        ...   \n",
       "2019-09-27  192.699997  108.250000  65.360001  30.330000  95.949997   \n",
       "2019-09-30  192.970001  108.720001  64.889999  29.910000  95.900002   \n",
       "2019-10-01  187.929993  109.919998  64.949997  29.469999  92.040001   \n",
       "2019-10-02  184.210007  111.190002  63.340000  28.969999  92.449997   \n",
       "2019-10-03  184.990005  109.860001  63.470001  29.330000  92.489998   \n",
       "2019-10-04  188.649994  108.910004  64.629997  29.590000  94.239998   \n",
       "2019-10-07  187.589996  107.019997  64.279999  29.830000  92.629997   \n",
       "2019-10-08  184.360001  102.570000  63.590000  28.309999  89.269997   \n",
       "2019-10-09  186.199997  104.419998  63.919998  28.760000  90.480003   \n",
       "2019-10-10  187.690002  106.059998  63.950001  28.820000  92.809998   \n",
       "2019-10-11  188.100006  112.779999  63.330002  29.410000  96.220001   \n",
       "2019-10-14  187.639999  112.320000  63.279999  29.260000  95.930000   \n",
       "2019-10-15  188.000000  114.879997  63.150002  29.840000  96.970001   \n",
       "2019-10-16  188.589996  113.830002  63.490002  29.450001  94.629997   \n",
       "2019-10-17  187.889999  114.050003  63.669998  29.570000  94.910004   \n",
       "2019-10-18  187.770004  113.519997  64.010002  29.799999  94.339996   \n",
       "2019-10-21  190.050003  116.870003  64.290001  29.959999  95.059998   \n",
       "2019-10-22  188.779999  115.699997  64.209999  30.360001  95.980003   \n",
       "2019-10-23  184.770004  115.860001  64.440002  30.680000  93.830002   \n",
       "2019-10-24  187.339996  117.110001  64.540001  30.379999  93.120003   \n",
       "2019-10-25  184.979996  120.849998  63.639999  30.510000  94.900002   \n",
       "2019-10-28  183.380005  123.000000  62.439999  30.790001  94.750000   \n",
       "2019-10-29  185.649994  120.220001  62.580002  34.419998  92.330002   \n",
       "2019-10-30  190.240005  123.720001  63.320000  34.119999  91.260002   \n",
       "2019-10-31  186.899994  121.339996  63.509998  33.930000  90.739998   \n",
       "2019-11-01  188.990005  123.190002  63.099998  33.480000  92.709999   \n",
       "2019-11-04  186.830002  126.720001  61.650002  34.669998  96.639999   \n",
       "2019-11-05  185.009995  126.599998  60.540001  36.369999  95.400002   \n",
       "2019-11-06  186.669998  122.559998  61.259998  37.660000  93.769997   \n",
       "2019-11-07  184.990005  125.489998  60.330002  37.310001  96.050003   \n",
       "\n",
       "                  XYL         YUM         ZBH       ZION         ZTS  \n",
       "Date                                                                  \n",
       "2016-01-04  34.274784   48.396500   98.715454  25.139048   45.972393  \n",
       "2016-01-05  34.265278   48.275864  100.771027  24.866114   46.692066  \n",
       "2016-01-06  33.837791   47.934059  101.207336  24.141399   46.701801  \n",
       "2016-01-07  32.963821   46.298714   98.880272  23.416683   45.281872  \n",
       "2016-01-08  32.650333   45.668716   98.463371  23.153151   44.620541  \n",
       "2016-01-11  32.374844   45.588284   96.766548  22.691977   43.356224  \n",
       "2016-01-12  32.555340   46.627125   99.743233  22.597857   43.735519  \n",
       "2016-01-13  31.709867   46.573158   98.123993  21.543726   42.062733  \n",
       "2016-01-14  31.890364   47.234341   99.578400  21.637846   42.918583  \n",
       "2016-01-15  31.329878   45.264271   98.007645  21.026073   42.189171  \n",
       "2016-01-19  31.310879   46.397739   96.223557  20.649601   42.096565  \n",
       "2016-01-20  31.158890   45.871490   95.292740  20.207237   42.681385  \n",
       "2016-01-21  31.567379   46.525928   95.195786  19.849590   41.989361  \n",
       "2016-01-22  32.327343   46.539413   96.136307  20.244890   42.301258  \n",
       "2016-01-25  32.051857   45.466675   96.049042  19.190763   42.106316  \n",
       "2016-01-26  32.821327   47.139885   98.647591  20.000187   42.759357  \n",
       "2016-01-27  33.144321   46.822784   98.550621  20.499010   42.057590  \n",
       "2016-01-28  33.201313   47.504215   94.584938  20.847250   41.755428  \n",
       "2016-01-29  34.151291   48.826591   96.242981  21.346081   41.960117  \n",
       "2016-02-01  33.837791   49.319099   96.019951  21.176664   41.872395  \n",
       "2016-02-02  33.115822   48.792854   95.060043  20.273125   40.663788  \n",
       "2016-02-03  33.885284   48.880566   94.303764  20.499010   40.264168  \n",
       "2016-02-04  35.224747   48.786106   94.584938  20.753130   40.488346  \n",
       "2016-02-05  34.825760   47.065674   92.122154  20.357834   39.874302  \n",
       "2016-02-08  34.407768   45.493664   89.232727  19.501358   39.172520  \n",
       "2016-02-09  34.873257   44.845982   89.106674  19.548412   38.850880  \n",
       "2016-02-10  34.607262   45.041630   90.085976  19.520180   38.334297  \n",
       "2016-02-11  34.398277   44.016125   88.893356  18.729582   38.363533  \n",
       "2016-02-12  35.186745   45.432949   88.990334  19.755476   39.406448  \n",
       "2016-02-16  35.296360   46.903748   90.774384  20.463387   39.406448  \n",
       "...               ...         ...         ...        ...         ...  \n",
       "2019-09-27  79.903137  112.989998  134.130005  44.360001  123.741402  \n",
       "2019-09-30  79.394585  113.430000  137.270004  44.520000  124.430511  \n",
       "2019-10-01  76.612480  112.889999  133.610001  42.970001  124.959839  \n",
       "2019-10-02  74.398766  112.669998  131.949997  42.259998  122.133461  \n",
       "2019-10-03  74.907326  113.680000  132.940002  42.689999  124.120911  \n",
       "2019-10-04  75.754921  114.660004  134.449997  43.200001  126.887367  \n",
       "2019-10-07  75.356049  113.690002  134.500000  43.439999  125.908623  \n",
       "2019-10-08  73.222107  112.589996  131.220001  42.209999  125.219505  \n",
       "2019-10-09  74.358879  113.330002  133.419998  42.419998  126.268158  \n",
       "2019-10-10  75.216446  114.330002  134.070007  43.209999  127.246910  \n",
       "2019-10-11  77.410217  114.449997  136.440002  44.090000  128.305557  \n",
       "2019-10-14  76.791977  112.820000  135.240005  44.150002  126.427956  \n",
       "2019-10-15  77.799110  111.300003  137.889999  44.759998  128.545242  \n",
       "2019-10-16  77.958664  111.480003  136.580002  44.660000  127.766243  \n",
       "2019-10-17  78.586876  110.370003  138.509995  44.040001  128.305557  \n",
       "2019-10-18  79.554131  112.300003  137.610001  44.720001  127.955994  \n",
       "2019-10-21  80.780647  112.309998  137.600006  45.669998  126.449997  \n",
       "2019-10-22  81.039909  110.099998  134.820007  48.080002  122.809998  \n",
       "2019-10-23  81.368973  109.269997  135.220001  47.939999  121.800003  \n",
       "2019-10-24  81.747902  108.949997  134.889999  47.509998  122.949997  \n",
       "2019-10-25  83.064171  109.099998  134.070007  47.950001  124.360001  \n",
       "2019-10-28  83.792099  109.510002  135.949997  48.799999  125.129997  \n",
       "2019-10-29  84.529999  109.720001  138.190002  49.380001  126.160004  \n",
       "2019-10-30  84.059998  103.339996  138.070007  49.220001  127.599998  \n",
       "2019-10-31  76.690002  101.709999  138.229996  48.470001  127.919998  \n",
       "2019-11-01  79.120003   99.650002  138.220001  49.349998  125.339996  \n",
       "2019-11-04  78.650002   98.449997  136.529999  50.209999  124.760002  \n",
       "2019-11-05  79.669998   97.930000  140.309998  50.709999  120.250000  \n",
       "2019-11-06  78.199997  100.089996  143.220001  50.369999  121.470001  \n",
       "2019-11-07  77.320000   99.660004  141.929993  51.040001  121.029999  \n",
       "\n",
       "[970 rows x 503 columns]"
      ]
     },
     "execution_count": 14,
     "metadata": {},
     "output_type": "execute_result"
    }
   ],
   "source": [
    "main_df =compile_data()\n",
    "main_df"
   ]
  },
  {
   "cell_type": "code",
   "execution_count": 15,
=======
   "execution_count": 5,
>>>>>>> f5732e50df470a54703b3c767973179f753873af
   "metadata": {},
   "outputs": [],
   "source": [
    "def train_all(tickers):\n",
    "    \"\"\"\n",
    "    Returns long list and short list (top 10 accuracy buys and top 10 accuracy sells)\n",
    "    \"\"\"\n",
    "    long = []\n",
    "    short = []\n",
    "    hold = []\n",
    "    for count,ticker in enumerate(tickers):\n",
    "        if count % 5 == 0:\n",
    "            print(\"training {} out of 500\".format(count))\n",
    "        bsh, acc = trainModel.train_test('AAPL')\n",
    "        if bsh == 1:\n",
    "            long.append((ticker, bsh,acc))\n",
    "        elif bsh == -1:\n",
    "            short.append((ticker,bsh,acc))\n",
    "        else:\n",
    "            hold.append((ticker,bsh,acc))\n",
    "        \n",
    "    #sorted(long,key=lambda x: x[2], reverse=True)\n",
    "    #sorted(short,key=lambda x: x[2], reverse=True)\n",
    "    #sorted(hold,key=lambda x: x[2], reverse=True)\n",
    "        \n",
    "    #return long[:10], short[:10], hold[:10]\n",
    "    return long, short, hold\n",
    "    \n",
    "    "
   ]
  },
  {
   "cell_type": "code",
<<<<<<< HEAD
   "execution_count": 16,
=======
   "execution_count": 6,
>>>>>>> f5732e50df470a54703b3c767973179f753873af
   "metadata": {
    "scrolled": true
   },
   "outputs": [
    {
     "name": "stdout",
     "output_type": "stream",
     "text": [
      "0 csvs done\n",
      "10 csvs done\n",
      "20 csvs done\n",
      "30 csvs done\n",
      "40 csvs done\n",
      "50 csvs done\n",
      "60 csvs done\n",
      "70 csvs done\n",
      "80 csvs done\n",
      "90 csvs done\n",
      "100 csvs done\n",
      "110 csvs done\n",
      "120 csvs done\n",
      "130 csvs done\n",
      "140 csvs done\n",
      "150 csvs done\n",
      "160 csvs done\n",
      "170 csvs done\n",
      "180 csvs done\n",
      "190 csvs done\n",
      "200 csvs done\n",
      "210 csvs done\n",
      "220 csvs done\n",
      "230 csvs done\n",
      "240 csvs done\n",
      "250 csvs done\n",
      "260 csvs done\n",
      "270 csvs done\n",
      "280 csvs done\n",
      "290 csvs done\n",
      "300 csvs done\n",
      "310 csvs done\n",
      "320 csvs done\n",
      "330 csvs done\n",
      "340 csvs done\n",
      "350 csvs done\n",
      "360 csvs done\n",
      "370 csvs done\n",
      "380 csvs done\n",
      "390 csvs done\n",
      "400 csvs done\n",
      "410 csvs done\n",
      "420 csvs done\n",
      "430 csvs done\n",
      "440 csvs done\n",
      "450 csvs done\n",
      "460 csvs done\n",
      "470 csvs done\n",
      "480 csvs done\n",
      "490 csvs done\n",
      "500 csvs done\n",
      "training 0 out of 500\n",
<<<<<<< HEAD
      "Data spread:  Counter({'1': 497, '0': 318, '-1': 155})\n"
=======
      "Data spread:  Counter({'1': 604, '0': 395, '-1': 225})\n"
>>>>>>> f5732e50df470a54703b3c767973179f753873af
     ]
    },
    {
     "name": "stderr",
     "output_type": "stream",
     "text": [
      "/home/seb/anaconda3/lib/python3.7/site-packages/sklearn/ensemble/forest.py:246: FutureWarning: The default value of n_estimators will change from 10 in version 0.20 to 100 in 0.22.\n",
      "  \"10 in version 0.20 to 100 in 0.22.\", FutureWarning)\n"
     ]
    },
    {
     "name": "stdout",
     "output_type": "stream",
     "text": [
<<<<<<< HEAD
      "accuracy: 0.448559670781893\n",
      "predicted class counts: Counter({1: 188, 0: 43, -1: 12})\n",
      "Data spread:  Counter({'1': 497, '0': 318, '-1': 155})\n"
=======
      "accuracy: 0.4542483660130719\n",
      "predicted class counts: Counter({1: 209, 0: 77, -1: 20})\n",
      "Data spread:  Counter({'1': 604, '0': 395, '-1': 225})\n"
>>>>>>> f5732e50df470a54703b3c767973179f753873af
     ]
    },
    {
     "name": "stderr",
     "output_type": "stream",
     "text": [
      "/home/seb/anaconda3/lib/python3.7/site-packages/sklearn/ensemble/forest.py:246: FutureWarning: The default value of n_estimators will change from 10 in version 0.20 to 100 in 0.22.\n",
      "  \"10 in version 0.20 to 100 in 0.22.\", FutureWarning)\n"
     ]
    },
    {
     "name": "stdout",
     "output_type": "stream",
     "text": [
<<<<<<< HEAD
      "accuracy: 0.4609053497942387\n",
      "predicted class counts: Counter({1: 167, 0: 63, -1: 13})\n",
      "Data spread:  Counter({'1': 497, '0': 318, '-1': 155})\n"
=======
      "accuracy: 0.3888888888888889\n",
      "predicted class counts: Counter({1: 221, 0: 63, -1: 22})\n",
      "Data spread:  Counter({'1': 604, '0': 395, '-1': 225})\n"
>>>>>>> f5732e50df470a54703b3c767973179f753873af
     ]
    },
    {
     "name": "stderr",
     "output_type": "stream",
     "text": [
      "/home/seb/anaconda3/lib/python3.7/site-packages/sklearn/ensemble/forest.py:246: FutureWarning: The default value of n_estimators will change from 10 in version 0.20 to 100 in 0.22.\n",
      "  \"10 in version 0.20 to 100 in 0.22.\", FutureWarning)\n"
     ]
    },
    {
     "name": "stdout",
     "output_type": "stream",
     "text": [
<<<<<<< HEAD
      "accuracy: 0.49794238683127573\n",
      "predicted class counts: Counter({1: 162, 0: 67, -1: 14})\n",
      "Data spread:  Counter({'1': 497, '0': 318, '-1': 155})\n"
=======
      "accuracy: 0.4215686274509804\n",
      "predicted class counts: Counter({1: 193, 0: 89, -1: 24})\n",
      "Data spread:  Counter({'1': 604, '0': 395, '-1': 225})\n"
>>>>>>> f5732e50df470a54703b3c767973179f753873af
     ]
    },
    {
     "name": "stderr",
     "output_type": "stream",
     "text": [
      "/home/seb/anaconda3/lib/python3.7/site-packages/sklearn/ensemble/forest.py:246: FutureWarning: The default value of n_estimators will change from 10 in version 0.20 to 100 in 0.22.\n",
      "  \"10 in version 0.20 to 100 in 0.22.\", FutureWarning)\n"
     ]
    },
    {
     "name": "stdout",
     "output_type": "stream",
     "text": [
<<<<<<< HEAD
      "accuracy: 0.4609053497942387\n",
      "predicted class counts: Counter({1: 153, 0: 70, -1: 20})\n",
      "Data spread:  Counter({'1': 497, '0': 318, '-1': 155})\n"
=======
      "accuracy: 0.4411764705882353\n",
      "predicted class counts: Counter({1: 214, 0: 71, -1: 21})\n",
      "Data spread:  Counter({'1': 604, '0': 395, '-1': 225})\n"
>>>>>>> f5732e50df470a54703b3c767973179f753873af
     ]
    },
    {
     "name": "stderr",
     "output_type": "stream",
     "text": [
      "/home/seb/anaconda3/lib/python3.7/site-packages/sklearn/ensemble/forest.py:246: FutureWarning: The default value of n_estimators will change from 10 in version 0.20 to 100 in 0.22.\n",
      "  \"10 in version 0.20 to 100 in 0.22.\", FutureWarning)\n"
     ]
    },
    {
     "name": "stdout",
     "output_type": "stream",
     "text": [
<<<<<<< HEAD
      "accuracy: 0.4773662551440329\n",
      "predicted class counts: Counter({1: 166, 0: 68, -1: 9})\n",
      "training 5 out of 500\n",
      "Data spread:  Counter({'1': 497, '0': 318, '-1': 155})\n"
=======
      "accuracy: 0.45751633986928103\n",
      "predicted class counts: Counter({1: 218, 0: 62, -1: 26})\n",
      "training 5 out of 500\n",
      "Data spread:  Counter({'1': 604, '0': 395, '-1': 225})\n"
>>>>>>> f5732e50df470a54703b3c767973179f753873af
     ]
    },
    {
     "name": "stderr",
     "output_type": "stream",
     "text": [
      "/home/seb/anaconda3/lib/python3.7/site-packages/sklearn/ensemble/forest.py:246: FutureWarning: The default value of n_estimators will change from 10 in version 0.20 to 100 in 0.22.\n",
      "  \"10 in version 0.20 to 100 in 0.22.\", FutureWarning)\n"
     ]
    },
    {
     "name": "stdout",
     "output_type": "stream",
     "text": [
<<<<<<< HEAD
      "accuracy: 0.46502057613168724\n",
      "predicted class counts: Counter({1: 183, 0: 45, -1: 15})\n",
      "Data spread:  Counter({'1': 497, '0': 318, '-1': 155})\n"
=======
      "accuracy: 0.477124183006536\n",
      "predicted class counts: Counter({1: 217, 0: 65, -1: 24})\n",
      "Data spread:  Counter({'1': 604, '0': 395, '-1': 225})\n"
>>>>>>> f5732e50df470a54703b3c767973179f753873af
     ]
    },
    {
     "name": "stderr",
     "output_type": "stream",
     "text": [
      "/home/seb/anaconda3/lib/python3.7/site-packages/sklearn/ensemble/forest.py:246: FutureWarning: The default value of n_estimators will change from 10 in version 0.20 to 100 in 0.22.\n",
      "  \"10 in version 0.20 to 100 in 0.22.\", FutureWarning)\n"
     ]
    },
    {
     "name": "stdout",
     "output_type": "stream",
     "text": [
<<<<<<< HEAD
      "accuracy: 0.43621399176954734\n",
      "predicted class counts: Counter({1: 159, 0: 67, -1: 17})\n",
      "Data spread:  Counter({'1': 497, '0': 318, '-1': 155})\n"
=======
      "accuracy: 0.45751633986928103\n",
      "predicted class counts: Counter({1: 187, 0: 100, -1: 19})\n",
      "Data spread:  Counter({'1': 604, '0': 395, '-1': 225})\n"
>>>>>>> f5732e50df470a54703b3c767973179f753873af
     ]
    },
    {
     "name": "stderr",
     "output_type": "stream",
     "text": [
      "/home/seb/anaconda3/lib/python3.7/site-packages/sklearn/ensemble/forest.py:246: FutureWarning: The default value of n_estimators will change from 10 in version 0.20 to 100 in 0.22.\n",
      "  \"10 in version 0.20 to 100 in 0.22.\", FutureWarning)\n"
     ]
    },
    {
     "name": "stdout",
     "output_type": "stream",
     "text": [
<<<<<<< HEAD
      "accuracy: 0.4156378600823045\n",
      "predicted class counts: Counter({1: 151, 0: 80, -1: 12})\n",
      "Data spread:  Counter({'1': 497, '0': 318, '-1': 155})\n"
=======
      "accuracy: 0.46078431372549017\n",
      "predicted class counts: Counter({1: 154, 0: 116, -1: 36})\n",
      "Data spread:  Counter({'1': 604, '0': 395, '-1': 225})\n"
>>>>>>> f5732e50df470a54703b3c767973179f753873af
     ]
    },
    {
     "name": "stderr",
     "output_type": "stream",
     "text": [
      "/home/seb/anaconda3/lib/python3.7/site-packages/sklearn/ensemble/forest.py:246: FutureWarning: The default value of n_estimators will change from 10 in version 0.20 to 100 in 0.22.\n",
      "  \"10 in version 0.20 to 100 in 0.22.\", FutureWarning)\n"
     ]
    },
    {
     "name": "stdout",
     "output_type": "stream",
     "text": [
<<<<<<< HEAD
      "accuracy: 0.39094650205761317\n",
      "predicted class counts: Counter({1: 141, 0: 72, -1: 30})\n",
      "Data spread:  Counter({'1': 497, '0': 318, '-1': 155})\n"
=======
      "accuracy: 0.4411764705882353\n",
      "predicted class counts: Counter({1: 197, 0: 91, -1: 18})\n",
      "Data spread:  Counter({'1': 604, '0': 395, '-1': 225})\n"
>>>>>>> f5732e50df470a54703b3c767973179f753873af
     ]
    },
    {
     "name": "stderr",
     "output_type": "stream",
     "text": [
      "/home/seb/anaconda3/lib/python3.7/site-packages/sklearn/ensemble/forest.py:246: FutureWarning: The default value of n_estimators will change from 10 in version 0.20 to 100 in 0.22.\n",
      "  \"10 in version 0.20 to 100 in 0.22.\", FutureWarning)\n"
     ]
    },
    {
     "name": "stdout",
     "output_type": "stream",
     "text": [
<<<<<<< HEAD
      "accuracy: 0.4444444444444444\n",
      "predicted class counts: Counter({1: 161, 0: 68, -1: 14})\n",
      "training 10 out of 500\n",
      "Data spread:  Counter({'1': 497, '0': 318, '-1': 155})\n"
=======
      "accuracy: 0.4673202614379085\n",
      "predicted class counts: Counter({1: 190, 0: 91, -1: 25})\n",
      "training 10 out of 500\n",
      "Data spread:  Counter({'1': 604, '0': 395, '-1': 225})\n"
>>>>>>> f5732e50df470a54703b3c767973179f753873af
     ]
    },
    {
     "name": "stderr",
     "output_type": "stream",
     "text": [
      "/home/seb/anaconda3/lib/python3.7/site-packages/sklearn/ensemble/forest.py:246: FutureWarning: The default value of n_estimators will change from 10 in version 0.20 to 100 in 0.22.\n",
      "  \"10 in version 0.20 to 100 in 0.22.\", FutureWarning)\n"
     ]
    },
    {
     "name": "stdout",
     "output_type": "stream",
     "text": [
<<<<<<< HEAD
      "accuracy: 0.3950617283950617\n",
      "predicted class counts: Counter({1: 157, 0: 65, -1: 21})\n",
      "Data spread:  Counter({'1': 497, '0': 318, '-1': 155})\n"
=======
      "accuracy: 0.43137254901960786\n",
      "predicted class counts: Counter({1: 220, 0: 58, -1: 28})\n",
      "Data spread:  Counter({'1': 604, '0': 395, '-1': 225})\n"
>>>>>>> f5732e50df470a54703b3c767973179f753873af
     ]
    },
    {
     "name": "stderr",
     "output_type": "stream",
     "text": [
      "/home/seb/anaconda3/lib/python3.7/site-packages/sklearn/ensemble/forest.py:246: FutureWarning: The default value of n_estimators will change from 10 in version 0.20 to 100 in 0.22.\n",
      "  \"10 in version 0.20 to 100 in 0.22.\", FutureWarning)\n"
     ]
    },
    {
     "name": "stdout",
     "output_type": "stream",
     "text": [
<<<<<<< HEAD
      "accuracy: 0.43209876543209874\n",
      "predicted class counts: Counter({1: 146, 0: 87, -1: 10})\n",
      "Data spread:  Counter({'1': 497, '0': 318, '-1': 155})\n"
=======
      "accuracy: 0.4411764705882353\n",
      "predicted class counts: Counter({1: 156, 0: 112, -1: 38})\n",
      "Data spread:  Counter({'1': 604, '0': 395, '-1': 225})\n"
>>>>>>> f5732e50df470a54703b3c767973179f753873af
     ]
    },
    {
     "name": "stderr",
     "output_type": "stream",
     "text": [
      "/home/seb/anaconda3/lib/python3.7/site-packages/sklearn/ensemble/forest.py:246: FutureWarning: The default value of n_estimators will change from 10 in version 0.20 to 100 in 0.22.\n",
      "  \"10 in version 0.20 to 100 in 0.22.\", FutureWarning)\n"
     ]
    },
    {
     "name": "stdout",
     "output_type": "stream",
     "text": [
<<<<<<< HEAD
      "accuracy: 0.4279835390946502\n",
      "predicted class counts: Counter({1: 140, 0: 94, -1: 9})\n",
      "Data spread:  Counter({'1': 497, '0': 318, '-1': 155})\n"
=======
      "accuracy: 0.4215686274509804\n",
      "predicted class counts: Counter({1: 196, 0: 84, -1: 26})\n",
      "Data spread:  Counter({'1': 604, '0': 395, '-1': 225})\n"
>>>>>>> f5732e50df470a54703b3c767973179f753873af
     ]
    },
    {
     "name": "stderr",
     "output_type": "stream",
     "text": [
      "/home/seb/anaconda3/lib/python3.7/site-packages/sklearn/ensemble/forest.py:246: FutureWarning: The default value of n_estimators will change from 10 in version 0.20 to 100 in 0.22.\n",
      "  \"10 in version 0.20 to 100 in 0.22.\", FutureWarning)\n"
     ]
    },
    {
     "name": "stdout",
     "output_type": "stream",
     "text": [
<<<<<<< HEAD
      "accuracy: 0.48148148148148145\n",
      "predicted class counts: Counter({1: 127, 0: 97, -1: 19})\n",
      "Data spread:  Counter({'1': 497, '0': 318, '-1': 155})\n"
=======
      "accuracy: 0.4215686274509804\n",
      "predicted class counts: Counter({1: 217, 0: 65, -1: 24})\n",
      "Data spread:  Counter({'1': 604, '0': 395, '-1': 225})\n"
>>>>>>> f5732e50df470a54703b3c767973179f753873af
     ]
    },
    {
     "name": "stderr",
     "output_type": "stream",
     "text": [
      "/home/seb/anaconda3/lib/python3.7/site-packages/sklearn/ensemble/forest.py:246: FutureWarning: The default value of n_estimators will change from 10 in version 0.20 to 100 in 0.22.\n",
      "  \"10 in version 0.20 to 100 in 0.22.\", FutureWarning)\n"
     ]
    },
    {
     "name": "stdout",
     "output_type": "stream",
     "text": [
<<<<<<< HEAD
      "accuracy: 0.48559670781893005\n",
      "predicted class counts: Counter({1: 162, 0: 68, -1: 13})\n",
      "training 15 out of 500\n",
      "Data spread:  Counter({'1': 497, '0': 318, '-1': 155})\n"
=======
      "accuracy: 0.46078431372549017\n",
      "predicted class counts: Counter({1: 233, 0: 60, -1: 13})\n",
      "training 15 out of 500\n",
      "Data spread:  Counter({'1': 604, '0': 395, '-1': 225})\n"
>>>>>>> f5732e50df470a54703b3c767973179f753873af
     ]
    },
    {
     "name": "stderr",
     "output_type": "stream",
     "text": [
      "/home/seb/anaconda3/lib/python3.7/site-packages/sklearn/ensemble/forest.py:246: FutureWarning: The default value of n_estimators will change from 10 in version 0.20 to 100 in 0.22.\n",
      "  \"10 in version 0.20 to 100 in 0.22.\", FutureWarning)\n"
     ]
    },
    {
     "name": "stdout",
     "output_type": "stream",
     "text": [
<<<<<<< HEAD
      "accuracy: 0.448559670781893\n",
      "predicted class counts: Counter({1: 178, 0: 58, -1: 7})\n",
      "Data spread:  Counter({'1': 497, '0': 318, '-1': 155})\n"
=======
      "accuracy: 0.45098039215686275\n",
      "predicted class counts: Counter({1: 197, 0: 87, -1: 22})\n",
      "Data spread:  Counter({'1': 604, '0': 395, '-1': 225})\n"
>>>>>>> f5732e50df470a54703b3c767973179f753873af
     ]
    },
    {
     "name": "stderr",
     "output_type": "stream",
     "text": [
      "/home/seb/anaconda3/lib/python3.7/site-packages/sklearn/ensemble/forest.py:246: FutureWarning: The default value of n_estimators will change from 10 in version 0.20 to 100 in 0.22.\n",
      "  \"10 in version 0.20 to 100 in 0.22.\", FutureWarning)\n"
     ]
    },
    {
     "name": "stdout",
     "output_type": "stream",
     "text": [
<<<<<<< HEAD
      "accuracy: 0.4609053497942387\n",
      "predicted class counts: Counter({1: 170, 0: 65, -1: 8})\n",
      "Data spread:  Counter({'1': 497, '0': 318, '-1': 155})\n"
=======
      "accuracy: 0.43790849673202614\n",
      "predicted class counts: Counter({1: 167, 0: 112, -1: 27})\n",
      "Data spread:  Counter({'1': 604, '0': 395, '-1': 225})\n"
>>>>>>> f5732e50df470a54703b3c767973179f753873af
     ]
    },
    {
     "name": "stderr",
     "output_type": "stream",
     "text": [
      "/home/seb/anaconda3/lib/python3.7/site-packages/sklearn/ensemble/forest.py:246: FutureWarning: The default value of n_estimators will change from 10 in version 0.20 to 100 in 0.22.\n",
      "  \"10 in version 0.20 to 100 in 0.22.\", FutureWarning)\n"
     ]
    },
    {
     "name": "stdout",
     "output_type": "stream",
     "text": [
<<<<<<< HEAD
      "accuracy: 0.43621399176954734\n",
      "predicted class counts: Counter({1: 155, 0: 70, -1: 18})\n",
      "Data spread:  Counter({'1': 497, '0': 318, '-1': 155})\n"
=======
      "accuracy: 0.4444444444444444\n",
      "predicted class counts: Counter({1: 196, 0: 88, -1: 22})\n",
      "Data spread:  Counter({'1': 604, '0': 395, '-1': 225})\n"
>>>>>>> f5732e50df470a54703b3c767973179f753873af
     ]
    },
    {
     "name": "stderr",
     "output_type": "stream",
     "text": [
      "/home/seb/anaconda3/lib/python3.7/site-packages/sklearn/ensemble/forest.py:246: FutureWarning: The default value of n_estimators will change from 10 in version 0.20 to 100 in 0.22.\n",
      "  \"10 in version 0.20 to 100 in 0.22.\", FutureWarning)\n"
     ]
    },
    {
     "name": "stdout",
     "output_type": "stream",
     "text": [
<<<<<<< HEAD
      "accuracy: 0.49382716049382713\n",
      "predicted class counts: Counter({1: 162, 0: 72, -1: 9})\n",
      "Data spread:  Counter({'1': 497, '0': 318, '-1': 155})\n"
=======
      "accuracy: 0.46078431372549017\n",
      "predicted class counts: Counter({1: 215, 0: 73, -1: 18})\n",
      "Data spread:  Counter({'1': 604, '0': 395, '-1': 225})\n"
>>>>>>> f5732e50df470a54703b3c767973179f753873af
     ]
    },
    {
     "name": "stderr",
     "output_type": "stream",
     "text": [
      "/home/seb/anaconda3/lib/python3.7/site-packages/sklearn/ensemble/forest.py:246: FutureWarning: The default value of n_estimators will change from 10 in version 0.20 to 100 in 0.22.\n",
      "  \"10 in version 0.20 to 100 in 0.22.\", FutureWarning)\n"
     ]
    },
    {
     "name": "stdout",
     "output_type": "stream",
     "text": [
<<<<<<< HEAD
      "accuracy: 0.42386831275720166\n",
      "predicted class counts: Counter({1: 146, 0: 82, -1: 15})\n",
      "training 20 out of 500\n",
      "Data spread:  Counter({'1': 497, '0': 318, '-1': 155})\n"
=======
      "accuracy: 0.3790849673202614\n",
      "predicted class counts: Counter({1: 179, 0: 96, -1: 31})\n",
      "training 20 out of 500\n",
      "Data spread:  Counter({'1': 604, '0': 395, '-1': 225})\n"
>>>>>>> f5732e50df470a54703b3c767973179f753873af
     ]
    },
    {
     "name": "stderr",
     "output_type": "stream",
     "text": [
      "/home/seb/anaconda3/lib/python3.7/site-packages/sklearn/ensemble/forest.py:246: FutureWarning: The default value of n_estimators will change from 10 in version 0.20 to 100 in 0.22.\n",
      "  \"10 in version 0.20 to 100 in 0.22.\", FutureWarning)\n"
     ]
    },
    {
     "name": "stdout",
     "output_type": "stream",
     "text": [
<<<<<<< HEAD
      "accuracy: 0.42386831275720166\n",
      "predicted class counts: Counter({1: 144, 0: 76, -1: 23})\n",
      "Data spread:  Counter({'1': 497, '0': 318, '-1': 155})\n"
=======
      "accuracy: 0.43137254901960786\n",
      "predicted class counts: Counter({1: 199, 0: 77, -1: 30})\n",
      "Data spread:  Counter({'1': 604, '0': 395, '-1': 225})\n"
>>>>>>> f5732e50df470a54703b3c767973179f753873af
     ]
    },
    {
     "name": "stderr",
     "output_type": "stream",
     "text": [
      "/home/seb/anaconda3/lib/python3.7/site-packages/sklearn/ensemble/forest.py:246: FutureWarning: The default value of n_estimators will change from 10 in version 0.20 to 100 in 0.22.\n",
      "  \"10 in version 0.20 to 100 in 0.22.\", FutureWarning)\n"
     ]
    },
    {
     "name": "stdout",
     "output_type": "stream",
     "text": [
<<<<<<< HEAD
      "accuracy: 0.4444444444444444\n",
      "predicted class counts: Counter({1: 149, 0: 81, -1: 13})\n",
      "Data spread:  Counter({'1': 497, '0': 318, '-1': 155})\n"
=======
      "accuracy: 0.4477124183006536\n",
      "predicted class counts: Counter({1: 174, 0: 99, -1: 33})\n",
      "Data spread:  Counter({'1': 604, '0': 395, '-1': 225})\n"
>>>>>>> f5732e50df470a54703b3c767973179f753873af
     ]
    },
    {
     "name": "stderr",
     "output_type": "stream",
     "text": [
      "/home/seb/anaconda3/lib/python3.7/site-packages/sklearn/ensemble/forest.py:246: FutureWarning: The default value of n_estimators will change from 10 in version 0.20 to 100 in 0.22.\n",
      "  \"10 in version 0.20 to 100 in 0.22.\", FutureWarning)\n"
     ]
    },
    {
     "name": "stdout",
     "output_type": "stream",
     "text": [
<<<<<<< HEAD
      "accuracy: 0.448559670781893\n",
      "predicted class counts: Counter({1: 158, 0: 62, -1: 23})\n",
      "Data spread:  Counter({'1': 497, '0': 318, '-1': 155})\n"
=======
      "accuracy: 0.45098039215686275\n",
      "predicted class counts: Counter({1: 205, 0: 78, -1: 23})\n",
      "Data spread:  Counter({'1': 604, '0': 395, '-1': 225})\n"
>>>>>>> f5732e50df470a54703b3c767973179f753873af
     ]
    },
    {
     "name": "stderr",
     "output_type": "stream",
     "text": [
      "/home/seb/anaconda3/lib/python3.7/site-packages/sklearn/ensemble/forest.py:246: FutureWarning: The default value of n_estimators will change from 10 in version 0.20 to 100 in 0.22.\n",
      "  \"10 in version 0.20 to 100 in 0.22.\", FutureWarning)\n"
     ]
    },
    {
     "name": "stdout",
     "output_type": "stream",
     "text": [
<<<<<<< HEAD
      "accuracy: 0.4567901234567901\n",
      "predicted class counts: Counter({1: 137, 0: 96, -1: 10})\n",
      "Data spread:  Counter({'1': 497, '0': 318, '-1': 155})\n"
=======
      "accuracy: 0.4477124183006536\n",
      "predicted class counts: Counter({1: 209, 0: 75, -1: 22})\n",
      "Data spread:  Counter({'1': 604, '0': 395, '-1': 225})\n"
>>>>>>> f5732e50df470a54703b3c767973179f753873af
     ]
    },
    {
     "name": "stderr",
     "output_type": "stream",
     "text": [
      "/home/seb/anaconda3/lib/python3.7/site-packages/sklearn/ensemble/forest.py:246: FutureWarning: The default value of n_estimators will change from 10 in version 0.20 to 100 in 0.22.\n",
      "  \"10 in version 0.20 to 100 in 0.22.\", FutureWarning)\n"
     ]
    },
    {
     "name": "stdout",
     "output_type": "stream",
     "text": [
<<<<<<< HEAD
      "accuracy: 0.411522633744856\n",
      "predicted class counts: Counter({1: 157, 0: 76, -1: 10})\n",
      "training 25 out of 500\n",
      "Data spread:  Counter({'1': 497, '0': 318, '-1': 155})\n"
=======
      "accuracy: 0.4215686274509804\n",
      "predicted class counts: Counter({1: 169, 0: 102, -1: 35})\n",
      "training 25 out of 500\n",
      "Data spread:  Counter({'1': 604, '0': 395, '-1': 225})\n"
>>>>>>> f5732e50df470a54703b3c767973179f753873af
     ]
    },
    {
     "name": "stderr",
     "output_type": "stream",
     "text": [
      "/home/seb/anaconda3/lib/python3.7/site-packages/sklearn/ensemble/forest.py:246: FutureWarning: The default value of n_estimators will change from 10 in version 0.20 to 100 in 0.22.\n",
      "  \"10 in version 0.20 to 100 in 0.22.\", FutureWarning)\n"
     ]
    },
    {
     "name": "stdout",
     "output_type": "stream",
     "text": [
<<<<<<< HEAD
      "accuracy: 0.4444444444444444\n",
      "predicted class counts: Counter({1: 149, 0: 74, -1: 20})\n",
      "Data spread:  Counter({'1': 497, '0': 318, '-1': 155})\n"
=======
      "accuracy: 0.434640522875817\n",
      "predicted class counts: Counter({1: 221, 0: 69, -1: 16})\n",
      "Data spread:  Counter({'1': 604, '0': 395, '-1': 225})\n"
>>>>>>> f5732e50df470a54703b3c767973179f753873af
     ]
    },
    {
     "name": "stderr",
     "output_type": "stream",
     "text": [
      "/home/seb/anaconda3/lib/python3.7/site-packages/sklearn/ensemble/forest.py:246: FutureWarning: The default value of n_estimators will change from 10 in version 0.20 to 100 in 0.22.\n",
      "  \"10 in version 0.20 to 100 in 0.22.\", FutureWarning)\n"
     ]
    },
    {
     "name": "stdout",
     "output_type": "stream",
     "text": [
<<<<<<< HEAD
      "accuracy: 0.3991769547325103\n",
      "predicted class counts: Counter({1: 134, 0: 85, -1: 24})\n",
      "Data spread:  Counter({'1': 497, '0': 318, '-1': 155})\n"
=======
      "accuracy: 0.4215686274509804\n",
      "predicted class counts: Counter({1: 217, 0: 55, -1: 34})\n",
      "Data spread:  Counter({'1': 604, '0': 395, '-1': 225})\n"
>>>>>>> f5732e50df470a54703b3c767973179f753873af
     ]
    },
    {
     "name": "stderr",
     "output_type": "stream",
     "text": [
      "/home/seb/anaconda3/lib/python3.7/site-packages/sklearn/ensemble/forest.py:246: FutureWarning: The default value of n_estimators will change from 10 in version 0.20 to 100 in 0.22.\n",
      "  \"10 in version 0.20 to 100 in 0.22.\", FutureWarning)\n"
     ]
    },
    {
     "name": "stdout",
     "output_type": "stream",
     "text": [
<<<<<<< HEAD
      "accuracy: 0.43621399176954734\n",
      "predicted class counts: Counter({1: 153, 0: 66, -1: 24})\n",
      "Data spread:  Counter({'1': 497, '0': 318, '-1': 155})\n"
=======
      "accuracy: 0.45098039215686275\n",
      "predicted class counts: Counter({1: 203, 0: 80, -1: 23})\n",
      "Data spread:  Counter({'1': 604, '0': 395, '-1': 225})\n"
>>>>>>> f5732e50df470a54703b3c767973179f753873af
     ]
    },
    {
     "name": "stderr",
     "output_type": "stream",
     "text": [
      "/home/seb/anaconda3/lib/python3.7/site-packages/sklearn/ensemble/forest.py:246: FutureWarning: The default value of n_estimators will change from 10 in version 0.20 to 100 in 0.22.\n",
      "  \"10 in version 0.20 to 100 in 0.22.\", FutureWarning)\n"
     ]
    },
    {
     "name": "stdout",
     "output_type": "stream",
     "text": [
<<<<<<< HEAD
      "accuracy: 0.43209876543209874\n",
      "predicted class counts: Counter({1: 155, 0: 72, -1: 16})\n",
      "Data spread:  Counter({'1': 497, '0': 318, '-1': 155})\n"
=======
      "accuracy: 0.4411764705882353\n",
      "predicted class counts: Counter({1: 173, 0: 101, -1: 32})\n",
      "Data spread:  Counter({'1': 604, '0': 395, '-1': 225})\n"
>>>>>>> f5732e50df470a54703b3c767973179f753873af
     ]
    },
    {
     "name": "stderr",
     "output_type": "stream",
     "text": [
      "/home/seb/anaconda3/lib/python3.7/site-packages/sklearn/ensemble/forest.py:246: FutureWarning: The default value of n_estimators will change from 10 in version 0.20 to 100 in 0.22.\n",
      "  \"10 in version 0.20 to 100 in 0.22.\", FutureWarning)\n"
     ]
    },
    {
     "name": "stdout",
     "output_type": "stream",
     "text": [
<<<<<<< HEAD
      "accuracy: 0.46502057613168724\n",
      "predicted class counts: Counter({1: 172, 0: 59, -1: 12})\n",
      "training 30 out of 500\n",
      "Data spread:  Counter({'1': 497, '0': 318, '-1': 155})\n"
=======
      "accuracy: 0.4869281045751634\n",
      "predicted class counts: Counter({1: 177, 0: 85, -1: 44})\n",
      "training 30 out of 500\n",
      "Data spread:  Counter({'1': 604, '0': 395, '-1': 225})\n"
>>>>>>> f5732e50df470a54703b3c767973179f753873af
     ]
    },
    {
     "name": "stderr",
     "output_type": "stream",
     "text": [
      "/home/seb/anaconda3/lib/python3.7/site-packages/sklearn/ensemble/forest.py:246: FutureWarning: The default value of n_estimators will change from 10 in version 0.20 to 100 in 0.22.\n",
      "  \"10 in version 0.20 to 100 in 0.22.\", FutureWarning)\n"
     ]
    },
    {
     "name": "stdout",
     "output_type": "stream",
     "text": [
<<<<<<< HEAD
      "accuracy: 0.42386831275720166\n",
      "predicted class counts: Counter({1: 142, 0: 86, -1: 15})\n",
      "Data spread:  Counter({'1': 497, '0': 318, '-1': 155})\n"
=======
      "accuracy: 0.45098039215686275\n",
      "predicted class counts: Counter({1: 184, 0: 92, -1: 30})\n",
      "Data spread:  Counter({'1': 604, '0': 395, '-1': 225})\n"
>>>>>>> f5732e50df470a54703b3c767973179f753873af
     ]
    },
    {
     "name": "stderr",
     "output_type": "stream",
     "text": [
      "/home/seb/anaconda3/lib/python3.7/site-packages/sklearn/ensemble/forest.py:246: FutureWarning: The default value of n_estimators will change from 10 in version 0.20 to 100 in 0.22.\n",
      "  \"10 in version 0.20 to 100 in 0.22.\", FutureWarning)\n"
     ]
    },
    {
     "name": "stdout",
     "output_type": "stream",
     "text": [
<<<<<<< HEAD
      "accuracy: 0.448559670781893\n",
      "predicted class counts: Counter({1: 154, 0: 78, -1: 11})\n",
      "Data spread:  Counter({'1': 497, '0': 318, '-1': 155})\n"
=======
      "accuracy: 0.43790849673202614\n",
      "predicted class counts: Counter({1: 219, 0: 66, -1: 21})\n",
      "Data spread:  Counter({'1': 604, '0': 395, '-1': 225})\n"
>>>>>>> f5732e50df470a54703b3c767973179f753873af
     ]
    },
    {
     "name": "stderr",
     "output_type": "stream",
     "text": [
      "/home/seb/anaconda3/lib/python3.7/site-packages/sklearn/ensemble/forest.py:246: FutureWarning: The default value of n_estimators will change from 10 in version 0.20 to 100 in 0.22.\n",
      "  \"10 in version 0.20 to 100 in 0.22.\", FutureWarning)\n"
     ]
    },
    {
     "name": "stdout",
     "output_type": "stream",
     "text": [
<<<<<<< HEAD
      "accuracy: 0.4279835390946502\n",
      "predicted class counts: Counter({1: 147, 0: 79, -1: 17})\n",
      "Data spread:  Counter({'1': 497, '0': 318, '-1': 155})\n"
=======
      "accuracy: 0.4411764705882353\n",
      "predicted class counts: Counter({1: 161, 0: 116, -1: 29})\n",
      "Data spread:  Counter({'1': 604, '0': 395, '-1': 225})\n"
>>>>>>> f5732e50df470a54703b3c767973179f753873af
     ]
    },
    {
     "name": "stderr",
     "output_type": "stream",
     "text": [
      "/home/seb/anaconda3/lib/python3.7/site-packages/sklearn/ensemble/forest.py:246: FutureWarning: The default value of n_estimators will change from 10 in version 0.20 to 100 in 0.22.\n",
      "  \"10 in version 0.20 to 100 in 0.22.\", FutureWarning)\n"
     ]
    },
    {
     "name": "stdout",
     "output_type": "stream",
     "text": [
<<<<<<< HEAD
      "accuracy: 0.46502057613168724\n",
      "predicted class counts: Counter({1: 132, 0: 100, -1: 11})\n",
      "Data spread:  Counter({'1': 497, '0': 318, '-1': 155})\n"
=======
      "accuracy: 0.45098039215686275\n",
      "predicted class counts: Counter({1: 171, 0: 101, -1: 34})\n",
      "Data spread:  Counter({'1': 604, '0': 395, '-1': 225})\n"
>>>>>>> f5732e50df470a54703b3c767973179f753873af
     ]
    },
    {
     "name": "stderr",
     "output_type": "stream",
     "text": [
      "/home/seb/anaconda3/lib/python3.7/site-packages/sklearn/ensemble/forest.py:246: FutureWarning: The default value of n_estimators will change from 10 in version 0.20 to 100 in 0.22.\n",
      "  \"10 in version 0.20 to 100 in 0.22.\", FutureWarning)\n"
     ]
    },
    {
     "name": "stdout",
     "output_type": "stream",
     "text": [
<<<<<<< HEAD
      "accuracy: 0.46502057613168724\n",
      "predicted class counts: Counter({1: 163, 0: 61, -1: 19})\n",
      "training 35 out of 500\n",
      "Data spread:  Counter({'1': 497, '0': 318, '-1': 155})\n"
=======
      "accuracy: 0.46078431372549017\n",
      "predicted class counts: Counter({1: 184, 0: 87, -1: 35})\n",
      "training 35 out of 500\n",
      "Data spread:  Counter({'1': 604, '0': 395, '-1': 225})\n"
>>>>>>> f5732e50df470a54703b3c767973179f753873af
     ]
    },
    {
     "name": "stderr",
     "output_type": "stream",
     "text": [
      "/home/seb/anaconda3/lib/python3.7/site-packages/sklearn/ensemble/forest.py:246: FutureWarning: The default value of n_estimators will change from 10 in version 0.20 to 100 in 0.22.\n",
      "  \"10 in version 0.20 to 100 in 0.22.\", FutureWarning)\n"
     ]
    },
    {
     "name": "stdout",
     "output_type": "stream",
     "text": [
<<<<<<< HEAD
      "accuracy: 0.4279835390946502\n",
      "predicted class counts: Counter({1: 149, 0: 72, -1: 22})\n",
      "Data spread:  Counter({'1': 497, '0': 318, '-1': 155})\n"
=======
      "accuracy: 0.48366013071895425\n",
      "predicted class counts: Counter({1: 223, 0: 57, -1: 26})\n",
      "Data spread:  Counter({'1': 604, '0': 395, '-1': 225})\n"
>>>>>>> f5732e50df470a54703b3c767973179f753873af
     ]
    },
    {
     "name": "stderr",
     "output_type": "stream",
     "text": [
      "/home/seb/anaconda3/lib/python3.7/site-packages/sklearn/ensemble/forest.py:246: FutureWarning: The default value of n_estimators will change from 10 in version 0.20 to 100 in 0.22.\n",
      "  \"10 in version 0.20 to 100 in 0.22.\", FutureWarning)\n"
     ]
    },
    {
     "name": "stdout",
     "output_type": "stream",
     "text": [
<<<<<<< HEAD
      "accuracy: 0.4403292181069959\n",
      "predicted class counts: Counter({1: 157, 0: 73, -1: 13})\n",
      "Data spread:  Counter({'1': 497, '0': 318, '-1': 155})\n"
=======
      "accuracy: 0.4215686274509804\n",
      "predicted class counts: Counter({1: 213, 0: 61, -1: 32})\n",
      "Data spread:  Counter({'1': 604, '0': 395, '-1': 225})\n"
>>>>>>> f5732e50df470a54703b3c767973179f753873af
     ]
    },
    {
     "name": "stderr",
     "output_type": "stream",
     "text": [
      "/home/seb/anaconda3/lib/python3.7/site-packages/sklearn/ensemble/forest.py:246: FutureWarning: The default value of n_estimators will change from 10 in version 0.20 to 100 in 0.22.\n",
      "  \"10 in version 0.20 to 100 in 0.22.\", FutureWarning)\n"
     ]
    },
    {
     "name": "stdout",
     "output_type": "stream",
     "text": [
<<<<<<< HEAD
      "accuracy: 0.4732510288065844\n",
      "predicted class counts: Counter({1: 151, 0: 72, -1: 20})\n",
      "Data spread:  Counter({'1': 497, '0': 318, '-1': 155})\n"
=======
      "accuracy: 0.4673202614379085\n",
      "predicted class counts: Counter({1: 205, 0: 66, -1: 35})\n",
      "Data spread:  Counter({'1': 604, '0': 395, '-1': 225})\n"
>>>>>>> f5732e50df470a54703b3c767973179f753873af
     ]
    },
    {
     "name": "stderr",
     "output_type": "stream",
     "text": [
      "/home/seb/anaconda3/lib/python3.7/site-packages/sklearn/ensemble/forest.py:246: FutureWarning: The default value of n_estimators will change from 10 in version 0.20 to 100 in 0.22.\n",
      "  \"10 in version 0.20 to 100 in 0.22.\", FutureWarning)\n"
     ]
    },
    {
     "name": "stdout",
     "output_type": "stream",
     "text": [
<<<<<<< HEAD
      "accuracy: 0.41975308641975306\n",
      "predicted class counts: Counter({1: 146, 0: 80, -1: 17})\n",
      "Data spread:  Counter({'1': 497, '0': 318, '-1': 155})\n"
=======
      "accuracy: 0.4738562091503268\n",
      "predicted class counts: Counter({1: 208, 0: 71, -1: 27})\n",
      "Data spread:  Counter({'1': 604, '0': 395, '-1': 225})\n"
>>>>>>> f5732e50df470a54703b3c767973179f753873af
     ]
    },
    {
     "name": "stderr",
     "output_type": "stream",
     "text": [
      "/home/seb/anaconda3/lib/python3.7/site-packages/sklearn/ensemble/forest.py:246: FutureWarning: The default value of n_estimators will change from 10 in version 0.20 to 100 in 0.22.\n",
      "  \"10 in version 0.20 to 100 in 0.22.\", FutureWarning)\n"
     ]
    },
    {
     "name": "stdout",
     "output_type": "stream",
     "text": [
<<<<<<< HEAD
      "accuracy: 0.4609053497942387\n",
      "predicted class counts: Counter({1: 134, 0: 94, -1: 15})\n",
      "training 40 out of 500\n",
      "Data spread:  Counter({'1': 497, '0': 318, '-1': 155})\n"
=======
      "accuracy: 0.43137254901960786\n",
      "predicted class counts: Counter({1: 214, 0: 70, -1: 22})\n",
      "training 40 out of 500\n",
      "Data spread:  Counter({'1': 604, '0': 395, '-1': 225})\n"
>>>>>>> f5732e50df470a54703b3c767973179f753873af
     ]
    },
    {
     "name": "stderr",
     "output_type": "stream",
     "text": [
      "/home/seb/anaconda3/lib/python3.7/site-packages/sklearn/ensemble/forest.py:246: FutureWarning: The default value of n_estimators will change from 10 in version 0.20 to 100 in 0.22.\n",
      "  \"10 in version 0.20 to 100 in 0.22.\", FutureWarning)\n"
     ]
    },
    {
     "name": "stdout",
     "output_type": "stream",
     "text": [
<<<<<<< HEAD
      "accuracy: 0.4732510288065844\n",
      "predicted class counts: Counter({1: 167, 0: 54, -1: 22})\n",
      "Data spread:  Counter({'1': 497, '0': 318, '-1': 155})\n"
=======
      "accuracy: 0.39869281045751637\n",
      "predicted class counts: Counter({1: 220, 0: 58, -1: 28})\n",
      "Data spread:  Counter({'1': 604, '0': 395, '-1': 225})\n"
>>>>>>> f5732e50df470a54703b3c767973179f753873af
     ]
    },
    {
     "name": "stderr",
     "output_type": "stream",
     "text": [
      "/home/seb/anaconda3/lib/python3.7/site-packages/sklearn/ensemble/forest.py:246: FutureWarning: The default value of n_estimators will change from 10 in version 0.20 to 100 in 0.22.\n",
      "  \"10 in version 0.20 to 100 in 0.22.\", FutureWarning)\n"
     ]
    },
    {
     "name": "stdout",
     "output_type": "stream",
     "text": [
<<<<<<< HEAD
      "accuracy: 0.4279835390946502\n",
      "predicted class counts: Counter({1: 161, 0: 64, -1: 18})\n",
      "Data spread:  Counter({'1': 497, '0': 318, '-1': 155})\n"
=======
      "accuracy: 0.45098039215686275\n",
      "predicted class counts: Counter({1: 216, 0: 75, -1: 15})\n",
      "Data spread:  Counter({'1': 604, '0': 395, '-1': 225})\n"
>>>>>>> f5732e50df470a54703b3c767973179f753873af
     ]
    },
    {
     "name": "stderr",
     "output_type": "stream",
     "text": [
      "/home/seb/anaconda3/lib/python3.7/site-packages/sklearn/ensemble/forest.py:246: FutureWarning: The default value of n_estimators will change from 10 in version 0.20 to 100 in 0.22.\n",
      "  \"10 in version 0.20 to 100 in 0.22.\", FutureWarning)\n"
     ]
    },
    {
     "name": "stdout",
     "output_type": "stream",
     "text": [
<<<<<<< HEAD
      "accuracy: 0.5061728395061729\n",
      "predicted class counts: Counter({1: 150, 0: 74, -1: 19})\n",
      "Data spread:  Counter({'1': 497, '0': 318, '-1': 155})\n"
=======
      "accuracy: 0.477124183006536\n",
      "predicted class counts: Counter({1: 162, 0: 110, -1: 34})\n",
      "Data spread:  Counter({'1': 604, '0': 395, '-1': 225})\n"
>>>>>>> f5732e50df470a54703b3c767973179f753873af
     ]
    },
    {
     "name": "stderr",
     "output_type": "stream",
     "text": [
      "/home/seb/anaconda3/lib/python3.7/site-packages/sklearn/ensemble/forest.py:246: FutureWarning: The default value of n_estimators will change from 10 in version 0.20 to 100 in 0.22.\n",
      "  \"10 in version 0.20 to 100 in 0.22.\", FutureWarning)\n"
     ]
    },
    {
     "name": "stdout",
     "output_type": "stream",
     "text": [
<<<<<<< HEAD
      "accuracy: 0.3868312757201646\n",
      "predicted class counts: Counter({1: 161, 0: 68, -1: 14})\n",
      "Data spread:  Counter({'1': 497, '0': 318, '-1': 155})\n"
=======
      "accuracy: 0.4215686274509804\n",
      "predicted class counts: Counter({1: 199, 0: 80, -1: 27})\n",
      "Data spread:  Counter({'1': 604, '0': 395, '-1': 225})\n"
>>>>>>> f5732e50df470a54703b3c767973179f753873af
     ]
    },
    {
     "name": "stderr",
     "output_type": "stream",
     "text": [
      "/home/seb/anaconda3/lib/python3.7/site-packages/sklearn/ensemble/forest.py:246: FutureWarning: The default value of n_estimators will change from 10 in version 0.20 to 100 in 0.22.\n",
      "  \"10 in version 0.20 to 100 in 0.22.\", FutureWarning)\n"
     ]
    },
    {
     "name": "stdout",
     "output_type": "stream",
     "text": [
<<<<<<< HEAD
      "accuracy: 0.48148148148148145\n",
      "predicted class counts: Counter({1: 157, 0: 73, -1: 13})\n",
      "training 45 out of 500\n",
      "Data spread:  Counter({'1': 497, '0': 318, '-1': 155})\n"
=======
      "accuracy: 0.434640522875817\n",
      "predicted class counts: Counter({1: 187, 0: 92, -1: 27})\n",
      "training 45 out of 500\n",
      "Data spread:  Counter({'1': 604, '0': 395, '-1': 225})\n"
>>>>>>> f5732e50df470a54703b3c767973179f753873af
     ]
    },
    {
     "name": "stderr",
     "output_type": "stream",
     "text": [
      "/home/seb/anaconda3/lib/python3.7/site-packages/sklearn/ensemble/forest.py:246: FutureWarning: The default value of n_estimators will change from 10 in version 0.20 to 100 in 0.22.\n",
      "  \"10 in version 0.20 to 100 in 0.22.\", FutureWarning)\n"
     ]
    },
    {
     "name": "stdout",
     "output_type": "stream",
     "text": [
<<<<<<< HEAD
      "accuracy: 0.5185185185185185\n",
      "predicted class counts: Counter({1: 147, 0: 79, -1: 17})\n",
      "Data spread:  Counter({'1': 497, '0': 318, '-1': 155})\n"
=======
      "accuracy: 0.45098039215686275\n",
      "predicted class counts: Counter({1: 225, 0: 67, -1: 14})\n",
      "Data spread:  Counter({'1': 604, '0': 395, '-1': 225})\n"
>>>>>>> f5732e50df470a54703b3c767973179f753873af
     ]
    },
    {
     "name": "stderr",
     "output_type": "stream",
     "text": [
      "/home/seb/anaconda3/lib/python3.7/site-packages/sklearn/ensemble/forest.py:246: FutureWarning: The default value of n_estimators will change from 10 in version 0.20 to 100 in 0.22.\n",
      "  \"10 in version 0.20 to 100 in 0.22.\", FutureWarning)\n"
     ]
    },
    {
     "name": "stdout",
     "output_type": "stream",
     "text": [
<<<<<<< HEAD
      "accuracy: 0.49794238683127573\n",
      "predicted class counts: Counter({1: 151, 0: 83, -1: 9})\n",
      "Data spread:  Counter({'1': 497, '0': 318, '-1': 155})\n"
=======
      "accuracy: 0.42483660130718953\n",
      "predicted class counts: Counter({1: 194, 0: 90, -1: 22})\n",
      "Data spread:  Counter({'1': 604, '0': 395, '-1': 225})\n"
>>>>>>> f5732e50df470a54703b3c767973179f753873af
     ]
    },
    {
     "name": "stderr",
     "output_type": "stream",
     "text": [
      "/home/seb/anaconda3/lib/python3.7/site-packages/sklearn/ensemble/forest.py:246: FutureWarning: The default value of n_estimators will change from 10 in version 0.20 to 100 in 0.22.\n",
      "  \"10 in version 0.20 to 100 in 0.22.\", FutureWarning)\n"
     ]
    },
    {
     "name": "stdout",
     "output_type": "stream",
     "text": [
<<<<<<< HEAD
      "accuracy: 0.4403292181069959\n",
      "predicted class counts: Counter({1: 165, 0: 63, -1: 15})\n",
      "Data spread:  Counter({'1': 497, '0': 318, '-1': 155})\n"
=======
      "accuracy: 0.4215686274509804\n",
      "predicted class counts: Counter({1: 197, 0: 86, -1: 23})\n",
      "Data spread:  Counter({'1': 604, '0': 395, '-1': 225})\n"
>>>>>>> f5732e50df470a54703b3c767973179f753873af
     ]
    },
    {
     "name": "stderr",
     "output_type": "stream",
     "text": [
      "/home/seb/anaconda3/lib/python3.7/site-packages/sklearn/ensemble/forest.py:246: FutureWarning: The default value of n_estimators will change from 10 in version 0.20 to 100 in 0.22.\n",
      "  \"10 in version 0.20 to 100 in 0.22.\", FutureWarning)\n"
     ]
    },
    {
     "name": "stdout",
     "output_type": "stream",
     "text": [
<<<<<<< HEAD
      "accuracy: 0.49382716049382713\n",
      "predicted class counts: Counter({1: 187, 0: 49, -1: 7})\n",
      "Data spread:  Counter({'1': 497, '0': 318, '-1': 155})\n"
=======
      "accuracy: 0.3954248366013072\n",
      "predicted class counts: Counter({1: 187, 0: 78, -1: 41})\n",
      "Data spread:  Counter({'1': 604, '0': 395, '-1': 225})\n"
>>>>>>> f5732e50df470a54703b3c767973179f753873af
     ]
    },
    {
     "name": "stderr",
     "output_type": "stream",
     "text": [
      "/home/seb/anaconda3/lib/python3.7/site-packages/sklearn/ensemble/forest.py:246: FutureWarning: The default value of n_estimators will change from 10 in version 0.20 to 100 in 0.22.\n",
      "  \"10 in version 0.20 to 100 in 0.22.\", FutureWarning)\n"
     ]
    },
    {
     "name": "stdout",
     "output_type": "stream",
     "text": [
<<<<<<< HEAD
      "accuracy: 0.49382716049382713\n",
      "predicted class counts: Counter({1: 133, 0: 94, -1: 16})\n",
      "training 50 out of 500\n",
      "Data spread:  Counter({'1': 497, '0': 318, '-1': 155})\n"
=======
      "accuracy: 0.5196078431372549\n",
      "predicted class counts: Counter({1: 193, 0: 87, -1: 26})\n",
      "training 50 out of 500\n",
      "Data spread:  Counter({'1': 604, '0': 395, '-1': 225})\n"
>>>>>>> f5732e50df470a54703b3c767973179f753873af
     ]
    },
    {
     "name": "stderr",
     "output_type": "stream",
     "text": [
      "/home/seb/anaconda3/lib/python3.7/site-packages/sklearn/ensemble/forest.py:246: FutureWarning: The default value of n_estimators will change from 10 in version 0.20 to 100 in 0.22.\n",
      "  \"10 in version 0.20 to 100 in 0.22.\", FutureWarning)\n"
     ]
    },
    {
     "name": "stdout",
     "output_type": "stream",
     "text": [
<<<<<<< HEAD
      "accuracy: 0.48559670781893005\n",
      "predicted class counts: Counter({1: 133, 0: 98, -1: 12})\n",
      "Data spread:  Counter({'1': 497, '0': 318, '-1': 155})\n"
=======
      "accuracy: 0.3954248366013072\n",
      "predicted class counts: Counter({1: 148, 0: 128, -1: 30})\n",
      "Data spread:  Counter({'1': 604, '0': 395, '-1': 225})\n"
>>>>>>> f5732e50df470a54703b3c767973179f753873af
     ]
    },
    {
     "name": "stderr",
     "output_type": "stream",
     "text": [
      "/home/seb/anaconda3/lib/python3.7/site-packages/sklearn/ensemble/forest.py:246: FutureWarning: The default value of n_estimators will change from 10 in version 0.20 to 100 in 0.22.\n",
      "  \"10 in version 0.20 to 100 in 0.22.\", FutureWarning)\n"
     ]
    },
    {
     "name": "stdout",
     "output_type": "stream",
     "text": [
<<<<<<< HEAD
      "accuracy: 0.4691358024691358\n",
      "predicted class counts: Counter({1: 128, 0: 90, -1: 25})\n",
      "Data spread:  Counter({'1': 497, '0': 318, '-1': 155})\n"
=======
      "accuracy: 0.4117647058823529\n",
      "predicted class counts: Counter({1: 190, 0: 85, -1: 31})\n",
      "Data spread:  Counter({'1': 604, '0': 395, '-1': 225})\n"
>>>>>>> f5732e50df470a54703b3c767973179f753873af
     ]
    },
    {
     "name": "stderr",
     "output_type": "stream",
     "text": [
      "/home/seb/anaconda3/lib/python3.7/site-packages/sklearn/ensemble/forest.py:246: FutureWarning: The default value of n_estimators will change from 10 in version 0.20 to 100 in 0.22.\n",
      "  \"10 in version 0.20 to 100 in 0.22.\", FutureWarning)\n"
     ]
    },
    {
     "name": "stdout",
     "output_type": "stream",
     "text": [
<<<<<<< HEAD
      "accuracy: 0.40329218106995884\n",
      "predicted class counts: Counter({1: 145, 0: 74, -1: 24})\n",
      "Data spread:  Counter({'1': 497, '0': 318, '-1': 155})\n"
=======
      "accuracy: 0.41830065359477125\n",
      "predicted class counts: Counter({1: 215, 0: 81, -1: 10})\n",
      "Data spread:  Counter({'1': 604, '0': 395, '-1': 225})\n"
>>>>>>> f5732e50df470a54703b3c767973179f753873af
     ]
    },
    {
     "name": "stderr",
     "output_type": "stream",
     "text": [
      "/home/seb/anaconda3/lib/python3.7/site-packages/sklearn/ensemble/forest.py:246: FutureWarning: The default value of n_estimators will change from 10 in version 0.20 to 100 in 0.22.\n",
      "  \"10 in version 0.20 to 100 in 0.22.\", FutureWarning)\n"
     ]
    },
    {
     "name": "stdout",
     "output_type": "stream",
     "text": [
<<<<<<< HEAD
      "accuracy: 0.43621399176954734\n",
      "predicted class counts: Counter({1: 152, 0: 78, -1: 13})\n",
      "Data spread:  Counter({'1': 497, '0': 318, '-1': 155})\n"
=======
      "accuracy: 0.43790849673202614\n",
      "predicted class counts: Counter({1: 183, 0: 92, -1: 31})\n",
      "Data spread:  Counter({'1': 604, '0': 395, '-1': 225})\n"
>>>>>>> f5732e50df470a54703b3c767973179f753873af
     ]
    },
    {
     "name": "stderr",
     "output_type": "stream",
     "text": [
      "/home/seb/anaconda3/lib/python3.7/site-packages/sklearn/ensemble/forest.py:246: FutureWarning: The default value of n_estimators will change from 10 in version 0.20 to 100 in 0.22.\n",
      "  \"10 in version 0.20 to 100 in 0.22.\", FutureWarning)\n"
     ]
    },
    {
     "name": "stdout",
     "output_type": "stream",
     "text": [
<<<<<<< HEAD
      "accuracy: 0.4691358024691358\n",
      "predicted class counts: Counter({1: 140, 0: 75, -1: 28})\n",
      "training 55 out of 500\n",
      "Data spread:  Counter({'1': 497, '0': 318, '-1': 155})\n"
=======
      "accuracy: 0.42483660130718953\n",
      "predicted class counts: Counter({1: 219, 0: 64, -1: 23})\n",
      "training 55 out of 500\n",
      "Data spread:  Counter({'1': 604, '0': 395, '-1': 225})\n"
>>>>>>> f5732e50df470a54703b3c767973179f753873af
     ]
    },
    {
     "name": "stderr",
     "output_type": "stream",
     "text": [
      "/home/seb/anaconda3/lib/python3.7/site-packages/sklearn/ensemble/forest.py:246: FutureWarning: The default value of n_estimators will change from 10 in version 0.20 to 100 in 0.22.\n",
      "  \"10 in version 0.20 to 100 in 0.22.\", FutureWarning)\n"
     ]
    },
    {
     "name": "stdout",
     "output_type": "stream",
     "text": [
<<<<<<< HEAD
      "accuracy: 0.48148148148148145\n",
      "predicted class counts: Counter({1: 154, 0: 72, -1: 17})\n",
      "Data spread:  Counter({'1': 497, '0': 318, '-1': 155})\n"
=======
      "accuracy: 0.46078431372549017\n",
      "predicted class counts: Counter({1: 185, 0: 93, -1: 28})\n",
      "Data spread:  Counter({'1': 604, '0': 395, '-1': 225})\n"
>>>>>>> f5732e50df470a54703b3c767973179f753873af
     ]
    },
    {
     "name": "stderr",
     "output_type": "stream",
     "text": [
      "/home/seb/anaconda3/lib/python3.7/site-packages/sklearn/ensemble/forest.py:246: FutureWarning: The default value of n_estimators will change from 10 in version 0.20 to 100 in 0.22.\n",
      "  \"10 in version 0.20 to 100 in 0.22.\", FutureWarning)\n"
     ]
    },
    {
     "name": "stdout",
     "output_type": "stream",
     "text": [
<<<<<<< HEAD
      "accuracy: 0.46502057613168724\n",
      "predicted class counts: Counter({1: 155, 0: 74, -1: 14})\n",
      "Data spread:  Counter({'1': 497, '0': 318, '-1': 155})\n"
=======
      "accuracy: 0.4117647058823529\n",
      "predicted class counts: Counter({1: 211, 0: 68, -1: 27})\n",
      "Data spread:  Counter({'1': 604, '0': 395, '-1': 225})\n"
>>>>>>> f5732e50df470a54703b3c767973179f753873af
     ]
    },
    {
     "name": "stderr",
     "output_type": "stream",
     "text": [
      "/home/seb/anaconda3/lib/python3.7/site-packages/sklearn/ensemble/forest.py:246: FutureWarning: The default value of n_estimators will change from 10 in version 0.20 to 100 in 0.22.\n",
      "  \"10 in version 0.20 to 100 in 0.22.\", FutureWarning)\n"
     ]
    },
    {
     "name": "stdout",
     "output_type": "stream",
     "text": [
<<<<<<< HEAD
      "accuracy: 0.48148148148148145\n",
      "predicted class counts: Counter({1: 149, 0: 69, -1: 25})\n",
      "Data spread:  Counter({'1': 497, '0': 318, '-1': 155})\n"
=======
      "accuracy: 0.4542483660130719\n",
      "predicted class counts: Counter({1: 196, 0: 86, -1: 24})\n",
      "Data spread:  Counter({'1': 604, '0': 395, '-1': 225})\n"
>>>>>>> f5732e50df470a54703b3c767973179f753873af
     ]
    },
    {
     "name": "stderr",
     "output_type": "stream",
     "text": [
      "/home/seb/anaconda3/lib/python3.7/site-packages/sklearn/ensemble/forest.py:246: FutureWarning: The default value of n_estimators will change from 10 in version 0.20 to 100 in 0.22.\n",
      "  \"10 in version 0.20 to 100 in 0.22.\", FutureWarning)\n"
     ]
    },
    {
     "name": "stdout",
     "output_type": "stream",
     "text": [
<<<<<<< HEAD
      "accuracy: 0.4279835390946502\n",
      "predicted class counts: Counter({1: 140, 0: 87, -1: 16})\n",
      "Data spread:  Counter({'1': 497, '0': 318, '-1': 155})\n"
=======
      "accuracy: 0.45098039215686275\n",
      "predicted class counts: Counter({1: 200, 0: 82, -1: 24})\n",
      "Data spread:  Counter({'1': 604, '0': 395, '-1': 225})\n"
>>>>>>> f5732e50df470a54703b3c767973179f753873af
     ]
    },
    {
     "name": "stderr",
     "output_type": "stream",
     "text": [
      "/home/seb/anaconda3/lib/python3.7/site-packages/sklearn/ensemble/forest.py:246: FutureWarning: The default value of n_estimators will change from 10 in version 0.20 to 100 in 0.22.\n",
      "  \"10 in version 0.20 to 100 in 0.22.\", FutureWarning)\n"
     ]
    },
    {
     "name": "stdout",
     "output_type": "stream",
     "text": [
<<<<<<< HEAD
      "accuracy: 0.43209876543209874\n",
      "predicted class counts: Counter({1: 146, 0: 78, -1: 19})\n",
      "training 60 out of 500\n",
      "Data spread:  Counter({'1': 497, '0': 318, '-1': 155})\n"
=======
      "accuracy: 0.45098039215686275\n",
      "predicted class counts: Counter({1: 184, 0: 86, -1: 36})\n",
      "training 60 out of 500\n",
      "Data spread:  Counter({'1': 604, '0': 395, '-1': 225})\n"
>>>>>>> f5732e50df470a54703b3c767973179f753873af
     ]
    },
    {
     "name": "stderr",
     "output_type": "stream",
     "text": [
      "/home/seb/anaconda3/lib/python3.7/site-packages/sklearn/ensemble/forest.py:246: FutureWarning: The default value of n_estimators will change from 10 in version 0.20 to 100 in 0.22.\n",
      "  \"10 in version 0.20 to 100 in 0.22.\", FutureWarning)\n"
     ]
    },
    {
     "name": "stdout",
     "output_type": "stream",
     "text": [
<<<<<<< HEAD
      "accuracy: 0.4609053497942387\n",
      "predicted class counts: Counter({1: 127, 0: 96, -1: 20})\n",
      "Data spread:  Counter({'1': 497, '0': 318, '-1': 155})\n"
=======
      "accuracy: 0.42483660130718953\n",
      "predicted class counts: Counter({1: 180, 0: 88, -1: 38})\n",
      "Data spread:  Counter({'1': 604, '0': 395, '-1': 225})\n"
>>>>>>> f5732e50df470a54703b3c767973179f753873af
     ]
    },
    {
     "name": "stderr",
     "output_type": "stream",
     "text": [
      "/home/seb/anaconda3/lib/python3.7/site-packages/sklearn/ensemble/forest.py:246: FutureWarning: The default value of n_estimators will change from 10 in version 0.20 to 100 in 0.22.\n",
      "  \"10 in version 0.20 to 100 in 0.22.\", FutureWarning)\n"
     ]
    },
    {
     "name": "stdout",
     "output_type": "stream",
     "text": [
<<<<<<< HEAD
      "accuracy: 0.49794238683127573\n",
      "predicted class counts: Counter({1: 155, 0: 71, -1: 17})\n",
      "Data spread:  Counter({'1': 497, '0': 318, '-1': 155})\n"
=======
      "accuracy: 0.46078431372549017\n",
      "predicted class counts: Counter({1: 206, 0: 84, -1: 16})\n",
      "Data spread:  Counter({'1': 604, '0': 395, '-1': 225})\n"
>>>>>>> f5732e50df470a54703b3c767973179f753873af
     ]
    },
    {
     "name": "stderr",
     "output_type": "stream",
     "text": [
      "/home/seb/anaconda3/lib/python3.7/site-packages/sklearn/ensemble/forest.py:246: FutureWarning: The default value of n_estimators will change from 10 in version 0.20 to 100 in 0.22.\n",
      "  \"10 in version 0.20 to 100 in 0.22.\", FutureWarning)\n"
     ]
    },
    {
     "name": "stdout",
     "output_type": "stream",
     "text": [
<<<<<<< HEAD
      "accuracy: 0.4773662551440329\n",
      "predicted class counts: Counter({1: 142, 0: 77, -1: 24})\n",
      "Data spread:  Counter({'1': 497, '0': 318, '-1': 155})\n"
=======
      "accuracy: 0.41830065359477125\n",
      "predicted class counts: Counter({1: 210, 0: 71, -1: 25})\n",
      "Data spread:  Counter({'1': 604, '0': 395, '-1': 225})\n"
>>>>>>> f5732e50df470a54703b3c767973179f753873af
     ]
    },
    {
     "name": "stderr",
     "output_type": "stream",
     "text": [
      "/home/seb/anaconda3/lib/python3.7/site-packages/sklearn/ensemble/forest.py:246: FutureWarning: The default value of n_estimators will change from 10 in version 0.20 to 100 in 0.22.\n",
      "  \"10 in version 0.20 to 100 in 0.22.\", FutureWarning)\n"
     ]
    },
    {
     "name": "stdout",
     "output_type": "stream",
     "text": [
<<<<<<< HEAD
      "accuracy: 0.46502057613168724\n",
      "predicted class counts: Counter({1: 152, 0: 70, -1: 21})\n",
      "Data spread:  Counter({'1': 497, '0': 318, '-1': 155})\n"
=======
      "accuracy: 0.46078431372549017\n",
      "predicted class counts: Counter({1: 231, 0: 52, -1: 23})\n",
      "Data spread:  Counter({'1': 604, '0': 395, '-1': 225})\n"
>>>>>>> f5732e50df470a54703b3c767973179f753873af
     ]
    },
    {
     "name": "stderr",
     "output_type": "stream",
     "text": [
      "/home/seb/anaconda3/lib/python3.7/site-packages/sklearn/ensemble/forest.py:246: FutureWarning: The default value of n_estimators will change from 10 in version 0.20 to 100 in 0.22.\n",
      "  \"10 in version 0.20 to 100 in 0.22.\", FutureWarning)\n"
     ]
    },
    {
     "name": "stdout",
     "output_type": "stream",
     "text": [
<<<<<<< HEAD
      "accuracy: 0.4403292181069959\n",
      "predicted class counts: Counter({1: 160, 0: 57, -1: 26})\n",
      "training 65 out of 500\n",
      "Data spread:  Counter({'1': 497, '0': 318, '-1': 155})\n"
=======
      "accuracy: 0.477124183006536\n",
      "predicted class counts: Counter({1: 201, 0: 86, -1: 19})\n",
      "training 65 out of 500\n",
      "Data spread:  Counter({'1': 604, '0': 395, '-1': 225})\n"
>>>>>>> f5732e50df470a54703b3c767973179f753873af
     ]
    },
    {
     "name": "stderr",
     "output_type": "stream",
     "text": [
      "/home/seb/anaconda3/lib/python3.7/site-packages/sklearn/ensemble/forest.py:246: FutureWarning: The default value of n_estimators will change from 10 in version 0.20 to 100 in 0.22.\n",
      "  \"10 in version 0.20 to 100 in 0.22.\", FutureWarning)\n"
     ]
    },
    {
     "name": "stdout",
     "output_type": "stream",
     "text": [
<<<<<<< HEAD
      "accuracy: 0.45267489711934156\n",
      "predicted class counts: Counter({1: 161, 0: 71, -1: 11})\n",
      "Data spread:  Counter({'1': 497, '0': 318, '-1': 155})\n"
=======
      "accuracy: 0.4215686274509804\n",
      "predicted class counts: Counter({1: 189, 0: 94, -1: 23})\n",
      "Data spread:  Counter({'1': 604, '0': 395, '-1': 225})\n"
>>>>>>> f5732e50df470a54703b3c767973179f753873af
     ]
    },
    {
     "name": "stderr",
     "output_type": "stream",
     "text": [
      "/home/seb/anaconda3/lib/python3.7/site-packages/sklearn/ensemble/forest.py:246: FutureWarning: The default value of n_estimators will change from 10 in version 0.20 to 100 in 0.22.\n",
      "  \"10 in version 0.20 to 100 in 0.22.\", FutureWarning)\n"
     ]
    },
    {
     "name": "stdout",
     "output_type": "stream",
     "text": [
<<<<<<< HEAD
      "accuracy: 0.4567901234567901\n",
      "predicted class counts: Counter({1: 157, 0: 65, -1: 21})\n",
      "Data spread:  Counter({'1': 497, '0': 318, '-1': 155})\n"
=======
      "accuracy: 0.4411764705882353\n",
      "predicted class counts: Counter({1: 232, 0: 55, -1: 19})\n",
      "Data spread:  Counter({'1': 604, '0': 395, '-1': 225})\n"
>>>>>>> f5732e50df470a54703b3c767973179f753873af
     ]
    },
    {
     "name": "stderr",
     "output_type": "stream",
     "text": [
      "/home/seb/anaconda3/lib/python3.7/site-packages/sklearn/ensemble/forest.py:246: FutureWarning: The default value of n_estimators will change from 10 in version 0.20 to 100 in 0.22.\n",
      "  \"10 in version 0.20 to 100 in 0.22.\", FutureWarning)\n"
     ]
    },
    {
     "name": "stdout",
     "output_type": "stream",
     "text": [
<<<<<<< HEAD
      "accuracy: 0.5020576131687243\n",
      "predicted class counts: Counter({1: 163, 0: 62, -1: 18})\n",
      "Data spread:  Counter({'1': 497, '0': 318, '-1': 155})\n"
=======
      "accuracy: 0.45751633986928103\n",
      "predicted class counts: Counter({1: 183, 0: 77, -1: 46})\n",
      "Data spread:  Counter({'1': 604, '0': 395, '-1': 225})\n"
>>>>>>> f5732e50df470a54703b3c767973179f753873af
     ]
    },
    {
     "name": "stderr",
     "output_type": "stream",
     "text": [
      "/home/seb/anaconda3/lib/python3.7/site-packages/sklearn/ensemble/forest.py:246: FutureWarning: The default value of n_estimators will change from 10 in version 0.20 to 100 in 0.22.\n",
      "  \"10 in version 0.20 to 100 in 0.22.\", FutureWarning)\n"
     ]
    },
    {
     "name": "stdout",
     "output_type": "stream",
     "text": [
<<<<<<< HEAD
      "accuracy: 0.4156378600823045\n",
      "predicted class counts: Counter({1: 145, 0: 72, -1: 26})\n",
      "Data spread:  Counter({'1': 497, '0': 318, '-1': 155})\n"
=======
      "accuracy: 0.47058823529411764\n",
      "predicted class counts: Counter({1: 203, 0: 73, -1: 30})\n",
      "Data spread:  Counter({'1': 604, '0': 395, '-1': 225})\n"
>>>>>>> f5732e50df470a54703b3c767973179f753873af
     ]
    },
    {
     "name": "stderr",
     "output_type": "stream",
     "text": [
      "/home/seb/anaconda3/lib/python3.7/site-packages/sklearn/ensemble/forest.py:246: FutureWarning: The default value of n_estimators will change from 10 in version 0.20 to 100 in 0.22.\n",
      "  \"10 in version 0.20 to 100 in 0.22.\", FutureWarning)\n"
     ]
    },
    {
     "name": "stdout",
     "output_type": "stream",
     "text": [
<<<<<<< HEAD
      "accuracy: 0.3868312757201646\n",
      "predicted class counts: Counter({1: 141, 0: 83, -1: 19})\n",
      "training 70 out of 500\n",
      "Data spread:  Counter({'1': 497, '0': 318, '-1': 155})\n"
=======
      "accuracy: 0.4215686274509804\n",
      "predicted class counts: Counter({1: 233, 0: 53, -1: 20})\n",
      "training 70 out of 500\n",
      "Data spread:  Counter({'1': 604, '0': 395, '-1': 225})\n"
>>>>>>> f5732e50df470a54703b3c767973179f753873af
     ]
    },
    {
     "name": "stderr",
     "output_type": "stream",
     "text": [
      "/home/seb/anaconda3/lib/python3.7/site-packages/sklearn/ensemble/forest.py:246: FutureWarning: The default value of n_estimators will change from 10 in version 0.20 to 100 in 0.22.\n",
      "  \"10 in version 0.20 to 100 in 0.22.\", FutureWarning)\n"
     ]
    },
    {
     "name": "stdout",
     "output_type": "stream",
     "text": [
<<<<<<< HEAD
      "accuracy: 0.48559670781893005\n",
      "predicted class counts: Counter({1: 179, 0: 61, -1: 3})\n",
      "Data spread:  Counter({'1': 497, '0': 318, '-1': 155})\n"
=======
      "accuracy: 0.4477124183006536\n",
      "predicted class counts: Counter({1: 217, 0: 64, -1: 25})\n",
      "Data spread:  Counter({'1': 604, '0': 395, '-1': 225})\n"
>>>>>>> f5732e50df470a54703b3c767973179f753873af
     ]
    },
    {
     "name": "stderr",
     "output_type": "stream",
     "text": [
      "/home/seb/anaconda3/lib/python3.7/site-packages/sklearn/ensemble/forest.py:246: FutureWarning: The default value of n_estimators will change from 10 in version 0.20 to 100 in 0.22.\n",
      "  \"10 in version 0.20 to 100 in 0.22.\", FutureWarning)\n"
     ]
    },
    {
     "name": "stdout",
     "output_type": "stream",
     "text": [
<<<<<<< HEAD
      "accuracy: 0.46502057613168724\n",
      "predicted class counts: Counter({1: 157, 0: 68, -1: 18})\n",
      "Data spread:  Counter({'1': 497, '0': 318, '-1': 155})\n"
=======
      "accuracy: 0.4934640522875817\n",
      "predicted class counts: Counter({1: 217, 0: 70, -1: 19})\n",
      "Data spread:  Counter({'1': 604, '0': 395, '-1': 225})\n"
>>>>>>> f5732e50df470a54703b3c767973179f753873af
     ]
    },
    {
     "name": "stderr",
     "output_type": "stream",
     "text": [
      "/home/seb/anaconda3/lib/python3.7/site-packages/sklearn/ensemble/forest.py:246: FutureWarning: The default value of n_estimators will change from 10 in version 0.20 to 100 in 0.22.\n",
      "  \"10 in version 0.20 to 100 in 0.22.\", FutureWarning)\n"
     ]
    },
    {
     "name": "stdout",
     "output_type": "stream",
     "text": [
<<<<<<< HEAD
      "accuracy: 0.4609053497942387\n",
      "predicted class counts: Counter({1: 135, 0: 89, -1: 19})\n",
      "Data spread:  Counter({'1': 497, '0': 318, '-1': 155})\n"
=======
      "accuracy: 0.4673202614379085\n",
      "predicted class counts: Counter({1: 185, 0: 80, -1: 41})\n",
      "Data spread:  Counter({'1': 604, '0': 395, '-1': 225})\n"
>>>>>>> f5732e50df470a54703b3c767973179f753873af
     ]
    },
    {
     "name": "stderr",
     "output_type": "stream",
     "text": [
      "/home/seb/anaconda3/lib/python3.7/site-packages/sklearn/ensemble/forest.py:246: FutureWarning: The default value of n_estimators will change from 10 in version 0.20 to 100 in 0.22.\n",
      "  \"10 in version 0.20 to 100 in 0.22.\", FutureWarning)\n"
     ]
    },
    {
     "name": "stdout",
     "output_type": "stream",
     "text": [
<<<<<<< HEAD
      "accuracy: 0.4691358024691358\n",
      "predicted class counts: Counter({1: 152, 0: 71, -1: 20})\n",
      "Data spread:  Counter({'1': 497, '0': 318, '-1': 155})\n"
=======
      "accuracy: 0.4411764705882353\n",
      "predicted class counts: Counter({1: 223, 0: 70, -1: 13})\n",
      "Data spread:  Counter({'1': 604, '0': 395, '-1': 225})\n"
>>>>>>> f5732e50df470a54703b3c767973179f753873af
     ]
    },
    {
     "name": "stderr",
     "output_type": "stream",
     "text": [
      "/home/seb/anaconda3/lib/python3.7/site-packages/sklearn/ensemble/forest.py:246: FutureWarning: The default value of n_estimators will change from 10 in version 0.20 to 100 in 0.22.\n",
      "  \"10 in version 0.20 to 100 in 0.22.\", FutureWarning)\n"
     ]
    },
    {
     "name": "stdout",
     "output_type": "stream",
     "text": [
<<<<<<< HEAD
      "accuracy: 0.4279835390946502\n",
      "predicted class counts: Counter({1: 148, 0: 78, -1: 17})\n",
      "training 75 out of 500\n",
      "Data spread:  Counter({'1': 497, '0': 318, '-1': 155})\n"
=======
      "accuracy: 0.45098039215686275\n",
      "predicted class counts: Counter({1: 204, 0: 80, -1: 22})\n",
      "training 75 out of 500\n",
      "Data spread:  Counter({'1': 604, '0': 395, '-1': 225})\n"
>>>>>>> f5732e50df470a54703b3c767973179f753873af
     ]
    },
    {
     "name": "stderr",
     "output_type": "stream",
     "text": [
      "/home/seb/anaconda3/lib/python3.7/site-packages/sklearn/ensemble/forest.py:246: FutureWarning: The default value of n_estimators will change from 10 in version 0.20 to 100 in 0.22.\n",
      "  \"10 in version 0.20 to 100 in 0.22.\", FutureWarning)\n"
     ]
    },
    {
     "name": "stdout",
     "output_type": "stream",
     "text": [
<<<<<<< HEAD
      "accuracy: 0.4773662551440329\n",
      "predicted class counts: Counter({1: 151, 0: 72, -1: 20})\n",
      "Data spread:  Counter({'1': 497, '0': 318, '-1': 155})\n"
=======
      "accuracy: 0.43137254901960786\n",
      "predicted class counts: Counter({1: 212, 0: 71, -1: 23})\n",
      "Data spread:  Counter({'1': 604, '0': 395, '-1': 225})\n"
>>>>>>> f5732e50df470a54703b3c767973179f753873af
     ]
    },
    {
     "name": "stderr",
     "output_type": "stream",
     "text": [
      "/home/seb/anaconda3/lib/python3.7/site-packages/sklearn/ensemble/forest.py:246: FutureWarning: The default value of n_estimators will change from 10 in version 0.20 to 100 in 0.22.\n",
      "  \"10 in version 0.20 to 100 in 0.22.\", FutureWarning)\n"
     ]
    },
    {
     "name": "stdout",
     "output_type": "stream",
     "text": [
<<<<<<< HEAD
      "accuracy: 0.4156378600823045\n",
      "predicted class counts: Counter({1: 139, 0: 80, -1: 24})\n",
      "Data spread:  Counter({'1': 497, '0': 318, '-1': 155})\n"
=======
      "accuracy: 0.49673202614379086\n",
      "predicted class counts: Counter({1: 202, 0: 73, -1: 31})\n",
      "Data spread:  Counter({'1': 604, '0': 395, '-1': 225})\n"
>>>>>>> f5732e50df470a54703b3c767973179f753873af
     ]
    },
    {
     "name": "stderr",
     "output_type": "stream",
     "text": [
      "/home/seb/anaconda3/lib/python3.7/site-packages/sklearn/ensemble/forest.py:246: FutureWarning: The default value of n_estimators will change from 10 in version 0.20 to 100 in 0.22.\n",
      "  \"10 in version 0.20 to 100 in 0.22.\", FutureWarning)\n"
     ]
    },
    {
     "name": "stdout",
     "output_type": "stream",
     "text": [
<<<<<<< HEAD
      "accuracy: 0.4609053497942387\n",
      "predicted class counts: Counter({1: 146, 0: 83, -1: 14})\n",
      "Data spread:  Counter({'1': 497, '0': 318, '-1': 155})\n"
=======
      "accuracy: 0.434640522875817\n",
      "predicted class counts: Counter({1: 188, 0: 96, -1: 22})\n",
      "Data spread:  Counter({'1': 604, '0': 395, '-1': 225})\n"
>>>>>>> f5732e50df470a54703b3c767973179f753873af
     ]
    },
    {
     "name": "stderr",
     "output_type": "stream",
     "text": [
      "/home/seb/anaconda3/lib/python3.7/site-packages/sklearn/ensemble/forest.py:246: FutureWarning: The default value of n_estimators will change from 10 in version 0.20 to 100 in 0.22.\n",
      "  \"10 in version 0.20 to 100 in 0.22.\", FutureWarning)\n"
     ]
    },
    {
     "name": "stdout",
     "output_type": "stream",
     "text": [
<<<<<<< HEAD
      "accuracy: 0.46502057613168724\n",
      "predicted class counts: Counter({1: 139, 0: 95, -1: 9})\n",
      "Data spread:  Counter({'1': 497, '0': 318, '-1': 155})\n"
=======
      "accuracy: 0.4542483660130719\n",
      "predicted class counts: Counter({1: 209, 0: 79, -1: 18})\n",
      "Data spread:  Counter({'1': 604, '0': 395, '-1': 225})\n"
>>>>>>> f5732e50df470a54703b3c767973179f753873af
     ]
    },
    {
     "name": "stderr",
     "output_type": "stream",
     "text": [
      "/home/seb/anaconda3/lib/python3.7/site-packages/sklearn/ensemble/forest.py:246: FutureWarning: The default value of n_estimators will change from 10 in version 0.20 to 100 in 0.22.\n",
      "  \"10 in version 0.20 to 100 in 0.22.\", FutureWarning)\n"
     ]
    },
    {
     "name": "stdout",
     "output_type": "stream",
     "text": [
<<<<<<< HEAD
      "accuracy: 0.5020576131687243\n",
      "predicted class counts: Counter({1: 153, 0: 66, -1: 24})\n",
      "training 80 out of 500\n",
      "Data spread:  Counter({'1': 497, '0': 318, '-1': 155})\n"
=======
      "accuracy: 0.41830065359477125\n",
      "predicted class counts: Counter({1: 209, 0: 75, -1: 22})\n",
      "training 80 out of 500\n",
      "Data spread:  Counter({'1': 604, '0': 395, '-1': 225})\n"
>>>>>>> f5732e50df470a54703b3c767973179f753873af
     ]
    },
    {
     "name": "stderr",
     "output_type": "stream",
     "text": [
      "/home/seb/anaconda3/lib/python3.7/site-packages/sklearn/ensemble/forest.py:246: FutureWarning: The default value of n_estimators will change from 10 in version 0.20 to 100 in 0.22.\n",
      "  \"10 in version 0.20 to 100 in 0.22.\", FutureWarning)\n"
     ]
    },
    {
     "name": "stdout",
     "output_type": "stream",
     "text": [
<<<<<<< HEAD
      "accuracy: 0.5020576131687243\n",
      "predicted class counts: Counter({1: 165, 0: 66, -1: 12})\n",
      "Data spread:  Counter({'1': 497, '0': 318, '-1': 155})\n"
=======
      "accuracy: 0.4019607843137255\n",
      "predicted class counts: Counter({1: 192, 0: 80, -1: 34})\n",
      "Data spread:  Counter({'1': 604, '0': 395, '-1': 225})\n"
>>>>>>> f5732e50df470a54703b3c767973179f753873af
     ]
    },
    {
     "name": "stderr",
     "output_type": "stream",
     "text": [
      "/home/seb/anaconda3/lib/python3.7/site-packages/sklearn/ensemble/forest.py:246: FutureWarning: The default value of n_estimators will change from 10 in version 0.20 to 100 in 0.22.\n",
      "  \"10 in version 0.20 to 100 in 0.22.\", FutureWarning)\n"
     ]
    },
    {
     "name": "stdout",
     "output_type": "stream",
     "text": [
<<<<<<< HEAD
      "accuracy: 0.46502057613168724\n",
      "predicted class counts: Counter({1: 154, 0: 65, -1: 24})\n",
      "Data spread:  Counter({'1': 497, '0': 318, '-1': 155})\n"
=======
      "accuracy: 0.39215686274509803\n",
      "predicted class counts: Counter({1: 204, 0: 74, -1: 28})\n",
      "Data spread:  Counter({'1': 604, '0': 395, '-1': 225})\n"
>>>>>>> f5732e50df470a54703b3c767973179f753873af
     ]
    },
    {
     "name": "stderr",
     "output_type": "stream",
     "text": [
      "/home/seb/anaconda3/lib/python3.7/site-packages/sklearn/ensemble/forest.py:246: FutureWarning: The default value of n_estimators will change from 10 in version 0.20 to 100 in 0.22.\n",
      "  \"10 in version 0.20 to 100 in 0.22.\", FutureWarning)\n"
     ]
    },
    {
     "name": "stdout",
     "output_type": "stream",
     "text": [
<<<<<<< HEAD
      "accuracy: 0.45267489711934156\n",
      "predicted class counts: Counter({1: 149, 0: 73, -1: 21})\n",
      "Data spread:  Counter({'1': 497, '0': 318, '-1': 155})\n"
=======
      "accuracy: 0.45098039215686275\n",
      "predicted class counts: Counter({1: 207, 0: 73, -1: 26})\n",
      "Data spread:  Counter({'1': 604, '0': 395, '-1': 225})\n"
>>>>>>> f5732e50df470a54703b3c767973179f753873af
     ]
    },
    {
     "name": "stderr",
     "output_type": "stream",
     "text": [
      "/home/seb/anaconda3/lib/python3.7/site-packages/sklearn/ensemble/forest.py:246: FutureWarning: The default value of n_estimators will change from 10 in version 0.20 to 100 in 0.22.\n",
      "  \"10 in version 0.20 to 100 in 0.22.\", FutureWarning)\n"
     ]
    },
    {
     "name": "stdout",
     "output_type": "stream",
     "text": [
<<<<<<< HEAD
      "accuracy: 0.49794238683127573\n",
      "predicted class counts: Counter({1: 157, 0: 70, -1: 16})\n",
      "Data spread:  Counter({'1': 497, '0': 318, '-1': 155})\n"
=======
      "accuracy: 0.42483660130718953\n",
      "predicted class counts: Counter({1: 185, 0: 99, -1: 22})\n",
      "Data spread:  Counter({'1': 604, '0': 395, '-1': 225})\n"
>>>>>>> f5732e50df470a54703b3c767973179f753873af
     ]
    },
    {
     "name": "stderr",
     "output_type": "stream",
     "text": [
      "/home/seb/anaconda3/lib/python3.7/site-packages/sklearn/ensemble/forest.py:246: FutureWarning: The default value of n_estimators will change from 10 in version 0.20 to 100 in 0.22.\n",
      "  \"10 in version 0.20 to 100 in 0.22.\", FutureWarning)\n"
     ]
    },
    {
     "name": "stdout",
     "output_type": "stream",
     "text": [
<<<<<<< HEAD
      "accuracy: 0.4691358024691358\n",
      "predicted class counts: Counter({1: 163, 0: 61, -1: 19})\n",
      "training 85 out of 500\n",
      "Data spread:  Counter({'1': 497, '0': 318, '-1': 155})\n"
=======
      "accuracy: 0.46078431372549017\n",
      "predicted class counts: Counter({1: 171, 0: 114, -1: 21})\n",
      "training 85 out of 500\n",
      "Data spread:  Counter({'1': 604, '0': 395, '-1': 225})\n"
>>>>>>> f5732e50df470a54703b3c767973179f753873af
     ]
    },
    {
     "name": "stderr",
     "output_type": "stream",
     "text": [
      "/home/seb/anaconda3/lib/python3.7/site-packages/sklearn/ensemble/forest.py:246: FutureWarning: The default value of n_estimators will change from 10 in version 0.20 to 100 in 0.22.\n",
      "  \"10 in version 0.20 to 100 in 0.22.\", FutureWarning)\n"
     ]
    },
    {
     "name": "stdout",
     "output_type": "stream",
     "text": [
<<<<<<< HEAD
      "accuracy: 0.448559670781893\n",
      "predicted class counts: Counter({1: 168, 0: 64, -1: 11})\n",
      "Data spread:  Counter({'1': 497, '0': 318, '-1': 155})\n"
=======
      "accuracy: 0.4411764705882353\n",
      "predicted class counts: Counter({1: 187, 0: 70, -1: 49})\n",
      "Data spread:  Counter({'1': 604, '0': 395, '-1': 225})\n"
>>>>>>> f5732e50df470a54703b3c767973179f753873af
     ]
    },
    {
     "name": "stderr",
     "output_type": "stream",
     "text": [
      "/home/seb/anaconda3/lib/python3.7/site-packages/sklearn/ensemble/forest.py:246: FutureWarning: The default value of n_estimators will change from 10 in version 0.20 to 100 in 0.22.\n",
      "  \"10 in version 0.20 to 100 in 0.22.\", FutureWarning)\n"
     ]
    },
    {
     "name": "stdout",
     "output_type": "stream",
     "text": [
<<<<<<< HEAD
      "accuracy: 0.4403292181069959\n",
      "predicted class counts: Counter({1: 133, 0: 89, -1: 21})\n",
      "Data spread:  Counter({'1': 497, '0': 318, '-1': 155})\n"
=======
      "accuracy: 0.43790849673202614\n",
      "predicted class counts: Counter({1: 188, 0: 88, -1: 30})\n",
      "Data spread:  Counter({'1': 604, '0': 395, '-1': 225})\n"
>>>>>>> f5732e50df470a54703b3c767973179f753873af
     ]
    },
    {
     "name": "stderr",
     "output_type": "stream",
     "text": [
      "/home/seb/anaconda3/lib/python3.7/site-packages/sklearn/ensemble/forest.py:246: FutureWarning: The default value of n_estimators will change from 10 in version 0.20 to 100 in 0.22.\n",
      "  \"10 in version 0.20 to 100 in 0.22.\", FutureWarning)\n"
     ]
    },
    {
     "name": "stdout",
     "output_type": "stream",
     "text": [
<<<<<<< HEAD
      "accuracy: 0.43621399176954734\n",
      "predicted class counts: Counter({1: 168, 0: 63, -1: 12})\n",
      "Data spread:  Counter({'1': 497, '0': 318, '-1': 155})\n"
=======
      "accuracy: 0.43790849673202614\n",
      "predicted class counts: Counter({1: 163, 0: 105, -1: 38})\n",
      "Data spread:  Counter({'1': 604, '0': 395, '-1': 225})\n"
>>>>>>> f5732e50df470a54703b3c767973179f753873af
     ]
    },
    {
     "name": "stderr",
     "output_type": "stream",
     "text": [
      "/home/seb/anaconda3/lib/python3.7/site-packages/sklearn/ensemble/forest.py:246: FutureWarning: The default value of n_estimators will change from 10 in version 0.20 to 100 in 0.22.\n",
      "  \"10 in version 0.20 to 100 in 0.22.\", FutureWarning)\n"
     ]
    },
    {
     "name": "stdout",
     "output_type": "stream",
     "text": [
<<<<<<< HEAD
      "accuracy: 0.411522633744856\n",
      "predicted class counts: Counter({1: 161, 0: 71, -1: 11})\n",
      "Data spread:  Counter({'1': 497, '0': 318, '-1': 155})\n"
=======
      "accuracy: 0.42483660130718953\n",
      "predicted class counts: Counter({1: 198, 0: 77, -1: 31})\n",
      "Data spread:  Counter({'1': 604, '0': 395, '-1': 225})\n"
>>>>>>> f5732e50df470a54703b3c767973179f753873af
     ]
    },
    {
     "name": "stderr",
     "output_type": "stream",
     "text": [
      "/home/seb/anaconda3/lib/python3.7/site-packages/sklearn/ensemble/forest.py:246: FutureWarning: The default value of n_estimators will change from 10 in version 0.20 to 100 in 0.22.\n",
      "  \"10 in version 0.20 to 100 in 0.22.\", FutureWarning)\n"
     ]
    },
    {
     "name": "stdout",
     "output_type": "stream",
     "text": [
<<<<<<< HEAD
      "accuracy: 0.4403292181069959\n",
      "predicted class counts: Counter({1: 143, 0: 80, -1: 20})\n",
      "training 90 out of 500\n",
      "Data spread:  Counter({'1': 497, '0': 318, '-1': 155})\n"
=======
      "accuracy: 0.45751633986928103\n",
      "predicted class counts: Counter({1: 197, 0: 86, -1: 23})\n",
      "training 90 out of 500\n",
      "Data spread:  Counter({'1': 604, '0': 395, '-1': 225})\n"
>>>>>>> f5732e50df470a54703b3c767973179f753873af
     ]
    },
    {
     "name": "stderr",
     "output_type": "stream",
     "text": [
      "/home/seb/anaconda3/lib/python3.7/site-packages/sklearn/ensemble/forest.py:246: FutureWarning: The default value of n_estimators will change from 10 in version 0.20 to 100 in 0.22.\n",
      "  \"10 in version 0.20 to 100 in 0.22.\", FutureWarning)\n"
     ]
    },
    {
     "name": "stdout",
     "output_type": "stream",
     "text": [
<<<<<<< HEAD
      "accuracy: 0.4609053497942387\n",
      "predicted class counts: Counter({1: 162, 0: 59, -1: 22})\n",
      "Data spread:  Counter({'1': 497, '0': 318, '-1': 155})\n"
=======
      "accuracy: 0.4117647058823529\n",
      "predicted class counts: Counter({1: 230, 0: 57, -1: 19})\n",
      "Data spread:  Counter({'1': 604, '0': 395, '-1': 225})\n"
>>>>>>> f5732e50df470a54703b3c767973179f753873af
     ]
    },
    {
     "name": "stderr",
     "output_type": "stream",
     "text": [
      "/home/seb/anaconda3/lib/python3.7/site-packages/sklearn/ensemble/forest.py:246: FutureWarning: The default value of n_estimators will change from 10 in version 0.20 to 100 in 0.22.\n",
      "  \"10 in version 0.20 to 100 in 0.22.\", FutureWarning)\n"
     ]
    },
    {
     "name": "stdout",
     "output_type": "stream",
     "text": [
<<<<<<< HEAD
      "accuracy: 0.35802469135802467\n",
      "predicted class counts: Counter({1: 153, 0: 56, -1: 34})\n",
      "Data spread:  Counter({'1': 497, '0': 318, '-1': 155})\n"
=======
      "accuracy: 0.4477124183006536\n",
      "predicted class counts: Counter({1: 196, 0: 80, -1: 30})\n",
      "Data spread:  Counter({'1': 604, '0': 395, '-1': 225})\n"
>>>>>>> f5732e50df470a54703b3c767973179f753873af
     ]
    },
    {
     "name": "stderr",
     "output_type": "stream",
     "text": [
      "/home/seb/anaconda3/lib/python3.7/site-packages/sklearn/ensemble/forest.py:246: FutureWarning: The default value of n_estimators will change from 10 in version 0.20 to 100 in 0.22.\n",
      "  \"10 in version 0.20 to 100 in 0.22.\", FutureWarning)\n"
     ]
    },
    {
     "name": "stdout",
     "output_type": "stream",
     "text": [
<<<<<<< HEAD
      "accuracy: 0.4074074074074074\n",
      "predicted class counts: Counter({1: 164, 0: 61, -1: 18})\n",
      "Data spread:  Counter({'1': 497, '0': 318, '-1': 155})\n"
=======
      "accuracy: 0.434640522875817\n",
      "predicted class counts: Counter({1: 228, 0: 55, -1: 23})\n",
      "Data spread:  Counter({'1': 604, '0': 395, '-1': 225})\n"
>>>>>>> f5732e50df470a54703b3c767973179f753873af
     ]
    },
    {
     "name": "stderr",
     "output_type": "stream",
     "text": [
      "/home/seb/anaconda3/lib/python3.7/site-packages/sklearn/ensemble/forest.py:246: FutureWarning: The default value of n_estimators will change from 10 in version 0.20 to 100 in 0.22.\n",
      "  \"10 in version 0.20 to 100 in 0.22.\", FutureWarning)\n"
     ]
    },
    {
     "name": "stdout",
     "output_type": "stream",
     "text": [
<<<<<<< HEAD
      "accuracy: 0.46502057613168724\n",
      "predicted class counts: Counter({1: 188, 0: 43, -1: 12})\n",
      "Data spread:  Counter({'1': 497, '0': 318, '-1': 155})\n"
=======
      "accuracy: 0.4411764705882353\n",
      "predicted class counts: Counter({1: 190, 0: 79, -1: 37})\n",
      "Data spread:  Counter({'1': 604, '0': 395, '-1': 225})\n"
>>>>>>> f5732e50df470a54703b3c767973179f753873af
     ]
    },
    {
     "name": "stderr",
     "output_type": "stream",
     "text": [
      "/home/seb/anaconda3/lib/python3.7/site-packages/sklearn/ensemble/forest.py:246: FutureWarning: The default value of n_estimators will change from 10 in version 0.20 to 100 in 0.22.\n",
      "  \"10 in version 0.20 to 100 in 0.22.\", FutureWarning)\n"
     ]
    },
    {
     "name": "stdout",
     "output_type": "stream",
     "text": [
<<<<<<< HEAD
      "accuracy: 0.45267489711934156\n",
      "predicted class counts: Counter({1: 139, 0: 85, -1: 19})\n",
      "training 95 out of 500\n",
      "Data spread:  Counter({'1': 497, '0': 318, '-1': 155})\n"
=======
      "accuracy: 0.41830065359477125\n",
      "predicted class counts: Counter({1: 189, 0: 80, -1: 37})\n",
      "training 95 out of 500\n",
      "Data spread:  Counter({'1': 604, '0': 395, '-1': 225})\n"
>>>>>>> f5732e50df470a54703b3c767973179f753873af
     ]
    },
    {
     "name": "stderr",
     "output_type": "stream",
     "text": [
      "/home/seb/anaconda3/lib/python3.7/site-packages/sklearn/ensemble/forest.py:246: FutureWarning: The default value of n_estimators will change from 10 in version 0.20 to 100 in 0.22.\n",
      "  \"10 in version 0.20 to 100 in 0.22.\", FutureWarning)\n"
     ]
    },
    {
     "name": "stdout",
     "output_type": "stream",
     "text": [
<<<<<<< HEAD
      "accuracy: 0.4691358024691358\n",
      "predicted class counts: Counter({1: 158, 0: 74, -1: 11})\n",
      "Data spread:  Counter({'1': 497, '0': 318, '-1': 155})\n"
=======
      "accuracy: 0.4411764705882353\n",
      "predicted class counts: Counter({1: 185, 0: 91, -1: 30})\n",
      "Data spread:  Counter({'1': 604, '0': 395, '-1': 225})\n"
>>>>>>> f5732e50df470a54703b3c767973179f753873af
     ]
    },
    {
     "name": "stderr",
     "output_type": "stream",
     "text": [
      "/home/seb/anaconda3/lib/python3.7/site-packages/sklearn/ensemble/forest.py:246: FutureWarning: The default value of n_estimators will change from 10 in version 0.20 to 100 in 0.22.\n",
      "  \"10 in version 0.20 to 100 in 0.22.\", FutureWarning)\n"
     ]
    },
    {
     "name": "stdout",
     "output_type": "stream",
     "text": [
<<<<<<< HEAD
      "accuracy: 0.448559670781893\n",
      "predicted class counts: Counter({1: 134, 0: 81, -1: 28})\n",
      "Data spread:  Counter({'1': 497, '0': 318, '-1': 155})\n"
=======
      "accuracy: 0.41830065359477125\n",
      "predicted class counts: Counter({1: 222, 0: 64, -1: 20})\n",
      "Data spread:  Counter({'1': 604, '0': 395, '-1': 225})\n"
>>>>>>> f5732e50df470a54703b3c767973179f753873af
     ]
    },
    {
     "name": "stderr",
     "output_type": "stream",
     "text": [
      "/home/seb/anaconda3/lib/python3.7/site-packages/sklearn/ensemble/forest.py:246: FutureWarning: The default value of n_estimators will change from 10 in version 0.20 to 100 in 0.22.\n",
      "  \"10 in version 0.20 to 100 in 0.22.\", FutureWarning)\n"
     ]
    },
    {
     "name": "stdout",
     "output_type": "stream",
     "text": [
<<<<<<< HEAD
      "accuracy: 0.4279835390946502\n",
      "predicted class counts: Counter({1: 128, 0: 95, -1: 20})\n",
      "Data spread:  Counter({'1': 497, '0': 318, '-1': 155})\n"
=======
      "accuracy: 0.43790849673202614\n",
      "predicted class counts: Counter({1: 180, 0: 103, -1: 23})\n",
      "Data spread:  Counter({'1': 604, '0': 395, '-1': 225})\n"
>>>>>>> f5732e50df470a54703b3c767973179f753873af
     ]
    },
    {
     "name": "stderr",
     "output_type": "stream",
     "text": [
      "/home/seb/anaconda3/lib/python3.7/site-packages/sklearn/ensemble/forest.py:246: FutureWarning: The default value of n_estimators will change from 10 in version 0.20 to 100 in 0.22.\n",
      "  \"10 in version 0.20 to 100 in 0.22.\", FutureWarning)\n"
     ]
    },
    {
     "name": "stdout",
     "output_type": "stream",
     "text": [
<<<<<<< HEAD
      "accuracy: 0.4444444444444444\n",
      "predicted class counts: Counter({1: 148, 0: 74, -1: 21})\n",
      "Data spread:  Counter({'1': 497, '0': 318, '-1': 155})\n"
=======
      "accuracy: 0.4803921568627451\n",
      "predicted class counts: Counter({1: 203, 0: 73, -1: 30})\n",
      "Data spread:  Counter({'1': 604, '0': 395, '-1': 225})\n"
>>>>>>> f5732e50df470a54703b3c767973179f753873af
     ]
    },
    {
     "name": "stderr",
     "output_type": "stream",
     "text": [
      "/home/seb/anaconda3/lib/python3.7/site-packages/sklearn/ensemble/forest.py:246: FutureWarning: The default value of n_estimators will change from 10 in version 0.20 to 100 in 0.22.\n",
      "  \"10 in version 0.20 to 100 in 0.22.\", FutureWarning)\n"
     ]
    },
    {
     "name": "stdout",
     "output_type": "stream",
     "text": [
<<<<<<< HEAD
      "accuracy: 0.4403292181069959\n",
      "predicted class counts: Counter({1: 133, 0: 87, -1: 23})\n",
      "training 100 out of 500\n",
      "Data spread:  Counter({'1': 497, '0': 318, '-1': 155})\n"
=======
      "accuracy: 0.47058823529411764\n",
      "predicted class counts: Counter({1: 191, 0: 92, -1: 23})\n",
      "training 100 out of 500\n",
      "Data spread:  Counter({'1': 604, '0': 395, '-1': 225})\n"
>>>>>>> f5732e50df470a54703b3c767973179f753873af
     ]
    },
    {
     "name": "stderr",
     "output_type": "stream",
     "text": [
      "/home/seb/anaconda3/lib/python3.7/site-packages/sklearn/ensemble/forest.py:246: FutureWarning: The default value of n_estimators will change from 10 in version 0.20 to 100 in 0.22.\n",
      "  \"10 in version 0.20 to 100 in 0.22.\", FutureWarning)\n"
     ]
    },
    {
     "name": "stdout",
     "output_type": "stream",
     "text": [
<<<<<<< HEAD
      "accuracy: 0.4732510288065844\n",
      "predicted class counts: Counter({1: 152, 0: 69, -1: 22})\n",
      "Data spread:  Counter({'1': 497, '0': 318, '-1': 155})\n"
=======
      "accuracy: 0.4117647058823529\n",
      "predicted class counts: Counter({1: 175, 0: 92, -1: 39})\n",
      "Data spread:  Counter({'1': 604, '0': 395, '-1': 225})\n"
>>>>>>> f5732e50df470a54703b3c767973179f753873af
     ]
    },
    {
     "name": "stderr",
     "output_type": "stream",
     "text": [
      "/home/seb/anaconda3/lib/python3.7/site-packages/sklearn/ensemble/forest.py:246: FutureWarning: The default value of n_estimators will change from 10 in version 0.20 to 100 in 0.22.\n",
      "  \"10 in version 0.20 to 100 in 0.22.\", FutureWarning)\n"
     ]
    },
    {
     "name": "stdout",
     "output_type": "stream",
     "text": [
<<<<<<< HEAD
      "accuracy: 0.4403292181069959\n",
      "predicted class counts: Counter({1: 147, 0: 75, -1: 21})\n",
      "Data spread:  Counter({'1': 497, '0': 318, '-1': 155})\n"
=======
      "accuracy: 0.46405228758169936\n",
      "predicted class counts: Counter({1: 202, 0: 85, -1: 19})\n",
      "Data spread:  Counter({'1': 604, '0': 395, '-1': 225})\n"
>>>>>>> f5732e50df470a54703b3c767973179f753873af
     ]
    },
    {
     "name": "stderr",
     "output_type": "stream",
     "text": [
      "/home/seb/anaconda3/lib/python3.7/site-packages/sklearn/ensemble/forest.py:246: FutureWarning: The default value of n_estimators will change from 10 in version 0.20 to 100 in 0.22.\n",
      "  \"10 in version 0.20 to 100 in 0.22.\", FutureWarning)\n"
     ]
    },
    {
     "name": "stdout",
     "output_type": "stream",
     "text": [
<<<<<<< HEAD
      "accuracy: 0.49382716049382713\n",
      "predicted class counts: Counter({1: 158, 0: 67, -1: 18})\n",
      "Data spread:  Counter({'1': 497, '0': 318, '-1': 155})\n"
=======
      "accuracy: 0.46405228758169936\n",
      "predicted class counts: Counter({1: 199, 0: 74, -1: 33})\n",
      "Data spread:  Counter({'1': 604, '0': 395, '-1': 225})\n"
>>>>>>> f5732e50df470a54703b3c767973179f753873af
     ]
    },
    {
     "name": "stderr",
     "output_type": "stream",
     "text": [
      "/home/seb/anaconda3/lib/python3.7/site-packages/sklearn/ensemble/forest.py:246: FutureWarning: The default value of n_estimators will change from 10 in version 0.20 to 100 in 0.22.\n",
      "  \"10 in version 0.20 to 100 in 0.22.\", FutureWarning)\n"
     ]
    },
    {
     "name": "stdout",
     "output_type": "stream",
     "text": [
<<<<<<< HEAD
      "accuracy: 0.4732510288065844\n",
      "predicted class counts: Counter({1: 137, 0: 90, -1: 16})\n",
      "Data spread:  Counter({'1': 497, '0': 318, '-1': 155})\n"
=======
      "accuracy: 0.477124183006536\n",
      "predicted class counts: Counter({1: 179, 0: 95, -1: 32})\n",
      "Data spread:  Counter({'1': 604, '0': 395, '-1': 225})\n"
>>>>>>> f5732e50df470a54703b3c767973179f753873af
     ]
    },
    {
     "name": "stderr",
     "output_type": "stream",
     "text": [
      "/home/seb/anaconda3/lib/python3.7/site-packages/sklearn/ensemble/forest.py:246: FutureWarning: The default value of n_estimators will change from 10 in version 0.20 to 100 in 0.22.\n",
      "  \"10 in version 0.20 to 100 in 0.22.\", FutureWarning)\n"
     ]
    },
    {
     "name": "stdout",
     "output_type": "stream",
     "text": [
<<<<<<< HEAD
      "accuracy: 0.41975308641975306\n",
      "predicted class counts: Counter({1: 149, 0: 82, -1: 12})\n",
      "training 105 out of 500\n",
      "Data spread:  Counter({'1': 497, '0': 318, '-1': 155})\n"
=======
      "accuracy: 0.4084967320261438\n",
      "predicted class counts: Counter({1: 186, 0: 96, -1: 24})\n",
      "training 105 out of 500\n",
      "Data spread:  Counter({'1': 604, '0': 395, '-1': 225})\n"
>>>>>>> f5732e50df470a54703b3c767973179f753873af
     ]
    },
    {
     "name": "stderr",
     "output_type": "stream",
     "text": [
      "/home/seb/anaconda3/lib/python3.7/site-packages/sklearn/ensemble/forest.py:246: FutureWarning: The default value of n_estimators will change from 10 in version 0.20 to 100 in 0.22.\n",
      "  \"10 in version 0.20 to 100 in 0.22.\", FutureWarning)\n"
     ]
    },
    {
     "name": "stdout",
     "output_type": "stream",
     "text": [
<<<<<<< HEAD
      "accuracy: 0.4773662551440329\n",
      "predicted class counts: Counter({1: 161, 0: 72, -1: 10})\n",
      "Data spread:  Counter({'1': 497, '0': 318, '-1': 155})\n"
=======
      "accuracy: 0.39869281045751637\n",
      "predicted class counts: Counter({1: 210, 0: 75, -1: 21})\n",
      "Data spread:  Counter({'1': 604, '0': 395, '-1': 225})\n"
>>>>>>> f5732e50df470a54703b3c767973179f753873af
     ]
    },
    {
     "name": "stderr",
     "output_type": "stream",
     "text": [
      "/home/seb/anaconda3/lib/python3.7/site-packages/sklearn/ensemble/forest.py:246: FutureWarning: The default value of n_estimators will change from 10 in version 0.20 to 100 in 0.22.\n",
      "  \"10 in version 0.20 to 100 in 0.22.\", FutureWarning)\n"
     ]
    },
    {
     "name": "stdout",
     "output_type": "stream",
     "text": [
<<<<<<< HEAD
      "accuracy: 0.4609053497942387\n",
      "predicted class counts: Counter({1: 123, 0: 99, -1: 21})\n",
      "Data spread:  Counter({'1': 497, '0': 318, '-1': 155})\n"
=======
      "accuracy: 0.40522875816993464\n",
      "predicted class counts: Counter({1: 200, 0: 78, -1: 28})\n",
      "Data spread:  Counter({'1': 604, '0': 395, '-1': 225})\n"
>>>>>>> f5732e50df470a54703b3c767973179f753873af
     ]
    },
    {
     "name": "stderr",
     "output_type": "stream",
     "text": [
      "/home/seb/anaconda3/lib/python3.7/site-packages/sklearn/ensemble/forest.py:246: FutureWarning: The default value of n_estimators will change from 10 in version 0.20 to 100 in 0.22.\n",
      "  \"10 in version 0.20 to 100 in 0.22.\", FutureWarning)\n"
     ]
    },
    {
     "name": "stdout",
     "output_type": "stream",
     "text": [
<<<<<<< HEAD
      "accuracy: 0.4156378600823045\n",
      "predicted class counts: Counter({1: 166, 0: 66, -1: 11})\n",
      "Data spread:  Counter({'1': 497, '0': 318, '-1': 155})\n"
=======
      "accuracy: 0.4673202614379085\n",
      "predicted class counts: Counter({1: 219, 0: 65, -1: 22})\n",
      "Data spread:  Counter({'1': 604, '0': 395, '-1': 225})\n"
>>>>>>> f5732e50df470a54703b3c767973179f753873af
     ]
    },
    {
     "name": "stderr",
     "output_type": "stream",
     "text": [
      "/home/seb/anaconda3/lib/python3.7/site-packages/sklearn/ensemble/forest.py:246: FutureWarning: The default value of n_estimators will change from 10 in version 0.20 to 100 in 0.22.\n",
      "  \"10 in version 0.20 to 100 in 0.22.\", FutureWarning)\n"
     ]
    },
    {
     "name": "stdout",
     "output_type": "stream",
     "text": [
<<<<<<< HEAD
      "accuracy: 0.4279835390946502\n",
      "predicted class counts: Counter({1: 143, 0: 85, -1: 15})\n",
      "Data spread:  Counter({'1': 497, '0': 318, '-1': 155})\n"
=======
      "accuracy: 0.4477124183006536\n",
      "predicted class counts: Counter({1: 223, 0: 70, -1: 13})\n",
      "Data spread:  Counter({'1': 604, '0': 395, '-1': 225})\n"
>>>>>>> f5732e50df470a54703b3c767973179f753873af
     ]
    },
    {
     "name": "stderr",
     "output_type": "stream",
     "text": [
      "/home/seb/anaconda3/lib/python3.7/site-packages/sklearn/ensemble/forest.py:246: FutureWarning: The default value of n_estimators will change from 10 in version 0.20 to 100 in 0.22.\n",
      "  \"10 in version 0.20 to 100 in 0.22.\", FutureWarning)\n"
     ]
    },
    {
     "name": "stdout",
     "output_type": "stream",
     "text": [
<<<<<<< HEAD
      "accuracy: 0.43621399176954734\n",
      "predicted class counts: Counter({1: 170, 0: 60, -1: 13})\n",
      "training 110 out of 500\n",
      "Data spread:  Counter({'1': 497, '0': 318, '-1': 155})\n"
=======
      "accuracy: 0.4477124183006536\n",
      "predicted class counts: Counter({1: 234, 0: 48, -1: 24})\n",
      "training 110 out of 500\n",
      "Data spread:  Counter({'1': 604, '0': 395, '-1': 225})\n"
>>>>>>> f5732e50df470a54703b3c767973179f753873af
     ]
    },
    {
     "name": "stderr",
     "output_type": "stream",
     "text": [
      "/home/seb/anaconda3/lib/python3.7/site-packages/sklearn/ensemble/forest.py:246: FutureWarning: The default value of n_estimators will change from 10 in version 0.20 to 100 in 0.22.\n",
      "  \"10 in version 0.20 to 100 in 0.22.\", FutureWarning)\n"
     ]
    },
    {
     "name": "stdout",
     "output_type": "stream",
     "text": [
<<<<<<< HEAD
      "accuracy: 0.4403292181069959\n",
      "predicted class counts: Counter({1: 147, 0: 73, -1: 23})\n",
      "Data spread:  Counter({'1': 497, '0': 318, '-1': 155})\n"
=======
      "accuracy: 0.4444444444444444\n",
      "predicted class counts: Counter({1: 208, 0: 68, -1: 30})\n",
      "Data spread:  Counter({'1': 604, '0': 395, '-1': 225})\n"
>>>>>>> f5732e50df470a54703b3c767973179f753873af
     ]
    },
    {
     "name": "stderr",
     "output_type": "stream",
     "text": [
      "/home/seb/anaconda3/lib/python3.7/site-packages/sklearn/ensemble/forest.py:246: FutureWarning: The default value of n_estimators will change from 10 in version 0.20 to 100 in 0.22.\n",
      "  \"10 in version 0.20 to 100 in 0.22.\", FutureWarning)\n"
     ]
    },
    {
     "name": "stdout",
     "output_type": "stream",
     "text": [
<<<<<<< HEAD
      "accuracy: 0.42386831275720166\n",
      "predicted class counts: Counter({1: 132, 0: 83, -1: 28})\n",
      "Data spread:  Counter({'1': 497, '0': 318, '-1': 155})\n"
=======
      "accuracy: 0.46078431372549017\n",
      "predicted class counts: Counter({1: 226, 0: 63, -1: 17})\n",
      "Data spread:  Counter({'1': 604, '0': 395, '-1': 225})\n"
>>>>>>> f5732e50df470a54703b3c767973179f753873af
     ]
    },
    {
     "name": "stderr",
     "output_type": "stream",
     "text": [
      "/home/seb/anaconda3/lib/python3.7/site-packages/sklearn/ensemble/forest.py:246: FutureWarning: The default value of n_estimators will change from 10 in version 0.20 to 100 in 0.22.\n",
      "  \"10 in version 0.20 to 100 in 0.22.\", FutureWarning)\n"
     ]
    },
    {
     "name": "stdout",
     "output_type": "stream",
     "text": [
<<<<<<< HEAD
      "accuracy: 0.4567901234567901\n",
      "predicted class counts: Counter({1: 167, 0: 56, -1: 20})\n",
      "Data spread:  Counter({'1': 497, '0': 318, '-1': 155})\n"
=======
      "accuracy: 0.477124183006536\n",
      "predicted class counts: Counter({1: 198, 0: 75, -1: 33})\n",
      "Data spread:  Counter({'1': 604, '0': 395, '-1': 225})\n"
>>>>>>> f5732e50df470a54703b3c767973179f753873af
     ]
    },
    {
     "name": "stderr",
     "output_type": "stream",
     "text": [
      "/home/seb/anaconda3/lib/python3.7/site-packages/sklearn/ensemble/forest.py:246: FutureWarning: The default value of n_estimators will change from 10 in version 0.20 to 100 in 0.22.\n",
      "  \"10 in version 0.20 to 100 in 0.22.\", FutureWarning)\n"
     ]
    },
    {
     "name": "stdout",
     "output_type": "stream",
     "text": [
<<<<<<< HEAD
      "accuracy: 0.4279835390946502\n",
      "predicted class counts: Counter({1: 158, 0: 68, -1: 17})\n",
      "Data spread:  Counter({'1': 497, '0': 318, '-1': 155})\n"
=======
      "accuracy: 0.4738562091503268\n",
      "predicted class counts: Counter({1: 181, 0: 94, -1: 31})\n",
      "Data spread:  Counter({'1': 604, '0': 395, '-1': 225})\n"
>>>>>>> f5732e50df470a54703b3c767973179f753873af
     ]
    },
    {
     "name": "stderr",
     "output_type": "stream",
     "text": [
      "/home/seb/anaconda3/lib/python3.7/site-packages/sklearn/ensemble/forest.py:246: FutureWarning: The default value of n_estimators will change from 10 in version 0.20 to 100 in 0.22.\n",
      "  \"10 in version 0.20 to 100 in 0.22.\", FutureWarning)\n"
     ]
    },
    {
     "name": "stdout",
     "output_type": "stream",
     "text": [
<<<<<<< HEAD
      "accuracy: 0.43621399176954734\n",
      "predicted class counts: Counter({1: 158, 0: 71, -1: 14})\n",
      "training 115 out of 500\n",
      "Data spread:  Counter({'1': 497, '0': 318, '-1': 155})\n"
=======
      "accuracy: 0.40522875816993464\n",
      "predicted class counts: Counter({1: 217, 0: 63, -1: 26})\n",
      "training 115 out of 500\n",
      "Data spread:  Counter({'1': 604, '0': 395, '-1': 225})\n"
>>>>>>> f5732e50df470a54703b3c767973179f753873af
     ]
    },
    {
     "name": "stderr",
     "output_type": "stream",
     "text": [
      "/home/seb/anaconda3/lib/python3.7/site-packages/sklearn/ensemble/forest.py:246: FutureWarning: The default value of n_estimators will change from 10 in version 0.20 to 100 in 0.22.\n",
      "  \"10 in version 0.20 to 100 in 0.22.\", FutureWarning)\n"
     ]
    },
    {
     "name": "stdout",
     "output_type": "stream",
     "text": [
<<<<<<< HEAD
      "accuracy: 0.43621399176954734\n",
      "predicted class counts: Counter({1: 151, 0: 78, -1: 14})\n",
      "Data spread:  Counter({'1': 497, '0': 318, '-1': 155})\n"
=======
      "accuracy: 0.4215686274509804\n",
      "predicted class counts: Counter({1: 159, 0: 117, -1: 30})\n",
      "Data spread:  Counter({'1': 604, '0': 395, '-1': 225})\n"
>>>>>>> f5732e50df470a54703b3c767973179f753873af
     ]
    },
    {
     "name": "stderr",
     "output_type": "stream",
     "text": [
      "/home/seb/anaconda3/lib/python3.7/site-packages/sklearn/ensemble/forest.py:246: FutureWarning: The default value of n_estimators will change from 10 in version 0.20 to 100 in 0.22.\n",
      "  \"10 in version 0.20 to 100 in 0.22.\", FutureWarning)\n"
     ]
    },
    {
     "name": "stdout",
     "output_type": "stream",
     "text": [
<<<<<<< HEAD
      "accuracy: 0.4279835390946502\n",
      "predicted class counts: Counter({1: 149, 0: 82, -1: 12})\n",
      "Data spread:  Counter({'1': 497, '0': 318, '-1': 155})\n"
=======
      "accuracy: 0.4542483660130719\n",
      "predicted class counts: Counter({1: 178, 0: 96, -1: 32})\n",
      "Data spread:  Counter({'1': 604, '0': 395, '-1': 225})\n"
>>>>>>> f5732e50df470a54703b3c767973179f753873af
     ]
    },
    {
     "name": "stderr",
     "output_type": "stream",
     "text": [
      "/home/seb/anaconda3/lib/python3.7/site-packages/sklearn/ensemble/forest.py:246: FutureWarning: The default value of n_estimators will change from 10 in version 0.20 to 100 in 0.22.\n",
      "  \"10 in version 0.20 to 100 in 0.22.\", FutureWarning)\n"
     ]
    },
    {
     "name": "stdout",
     "output_type": "stream",
     "text": [
<<<<<<< HEAD
      "accuracy: 0.4609053497942387\n",
      "predicted class counts: Counter({1: 168, 0: 52, -1: 23})\n",
      "Data spread:  Counter({'1': 497, '0': 318, '-1': 155})\n"
=======
      "accuracy: 0.4444444444444444\n",
      "predicted class counts: Counter({1: 175, 0: 85, -1: 46})\n",
      "Data spread:  Counter({'1': 604, '0': 395, '-1': 225})\n"
>>>>>>> f5732e50df470a54703b3c767973179f753873af
     ]
    },
    {
     "name": "stderr",
     "output_type": "stream",
     "text": [
      "/home/seb/anaconda3/lib/python3.7/site-packages/sklearn/ensemble/forest.py:246: FutureWarning: The default value of n_estimators will change from 10 in version 0.20 to 100 in 0.22.\n",
      "  \"10 in version 0.20 to 100 in 0.22.\", FutureWarning)\n"
     ]
    },
    {
     "name": "stdout",
     "output_type": "stream",
     "text": [
<<<<<<< HEAD
      "accuracy: 0.4567901234567901\n",
      "predicted class counts: Counter({1: 164, 0: 64, -1: 15})\n",
      "Data spread:  Counter({'1': 497, '0': 318, '-1': 155})\n"
=======
      "accuracy: 0.4934640522875817\n",
      "predicted class counts: Counter({1: 188, 0: 87, -1: 31})\n",
      "Data spread:  Counter({'1': 604, '0': 395, '-1': 225})\n"
>>>>>>> f5732e50df470a54703b3c767973179f753873af
     ]
    },
    {
     "name": "stderr",
     "output_type": "stream",
     "text": [
      "/home/seb/anaconda3/lib/python3.7/site-packages/sklearn/ensemble/forest.py:246: FutureWarning: The default value of n_estimators will change from 10 in version 0.20 to 100 in 0.22.\n",
      "  \"10 in version 0.20 to 100 in 0.22.\", FutureWarning)\n"
     ]
    },
    {
     "name": "stdout",
     "output_type": "stream",
     "text": [
<<<<<<< HEAD
      "accuracy: 0.4609053497942387\n",
      "predicted class counts: Counter({1: 130, 0: 96, -1: 17})\n",
      "training 120 out of 500\n",
      "Data spread:  Counter({'1': 497, '0': 318, '-1': 155})\n"
=======
      "accuracy: 0.4542483660130719\n",
      "predicted class counts: Counter({1: 185, 0: 91, -1: 30})\n",
      "training 120 out of 500\n",
      "Data spread:  Counter({'1': 604, '0': 395, '-1': 225})\n"
>>>>>>> f5732e50df470a54703b3c767973179f753873af
     ]
    },
    {
     "name": "stderr",
     "output_type": "stream",
     "text": [
      "/home/seb/anaconda3/lib/python3.7/site-packages/sklearn/ensemble/forest.py:246: FutureWarning: The default value of n_estimators will change from 10 in version 0.20 to 100 in 0.22.\n",
      "  \"10 in version 0.20 to 100 in 0.22.\", FutureWarning)\n"
     ]
    },
    {
     "name": "stdout",
     "output_type": "stream",
     "text": [
<<<<<<< HEAD
      "accuracy: 0.4609053497942387\n",
      "predicted class counts: Counter({1: 166, 0: 59, -1: 18})\n",
      "Data spread:  Counter({'1': 497, '0': 318, '-1': 155})\n"
=======
      "accuracy: 0.42483660130718953\n",
      "predicted class counts: Counter({1: 214, 0: 77, -1: 15})\n",
      "Data spread:  Counter({'1': 604, '0': 395, '-1': 225})\n"
>>>>>>> f5732e50df470a54703b3c767973179f753873af
     ]
    },
    {
     "name": "stderr",
     "output_type": "stream",
     "text": [
      "/home/seb/anaconda3/lib/python3.7/site-packages/sklearn/ensemble/forest.py:246: FutureWarning: The default value of n_estimators will change from 10 in version 0.20 to 100 in 0.22.\n",
      "  \"10 in version 0.20 to 100 in 0.22.\", FutureWarning)\n"
     ]
    },
    {
     "name": "stdout",
     "output_type": "stream",
     "text": [
<<<<<<< HEAD
      "accuracy: 0.39094650205761317\n",
      "predicted class counts: Counter({1: 135, 0: 88, -1: 20})\n",
      "Data spread:  Counter({'1': 497, '0': 318, '-1': 155})\n"
=======
      "accuracy: 0.42810457516339867\n",
      "predicted class counts: Counter({1: 196, 0: 86, -1: 24})\n",
      "Data spread:  Counter({'1': 604, '0': 395, '-1': 225})\n"
>>>>>>> f5732e50df470a54703b3c767973179f753873af
     ]
    },
    {
     "name": "stderr",
     "output_type": "stream",
     "text": [
      "/home/seb/anaconda3/lib/python3.7/site-packages/sklearn/ensemble/forest.py:246: FutureWarning: The default value of n_estimators will change from 10 in version 0.20 to 100 in 0.22.\n",
      "  \"10 in version 0.20 to 100 in 0.22.\", FutureWarning)\n"
     ]
    },
    {
     "name": "stdout",
     "output_type": "stream",
     "text": [
<<<<<<< HEAD
      "accuracy: 0.43621399176954734\n",
      "predicted class counts: Counter({1: 171, 0: 50, -1: 22})\n",
      "Data spread:  Counter({'1': 497, '0': 318, '-1': 155})\n"
=======
      "accuracy: 0.4084967320261438\n",
      "predicted class counts: Counter({1: 208, 0: 77, -1: 21})\n",
      "Data spread:  Counter({'1': 604, '0': 395, '-1': 225})\n"
>>>>>>> f5732e50df470a54703b3c767973179f753873af
     ]
    },
    {
     "name": "stderr",
     "output_type": "stream",
     "text": [
      "/home/seb/anaconda3/lib/python3.7/site-packages/sklearn/ensemble/forest.py:246: FutureWarning: The default value of n_estimators will change from 10 in version 0.20 to 100 in 0.22.\n",
      "  \"10 in version 0.20 to 100 in 0.22.\", FutureWarning)\n"
     ]
    },
    {
     "name": "stdout",
     "output_type": "stream",
     "text": [
<<<<<<< HEAD
      "accuracy: 0.43209876543209874\n",
      "predicted class counts: Counter({1: 154, 0: 70, -1: 19})\n",
      "Data spread:  Counter({'1': 497, '0': 318, '-1': 155})\n"
=======
      "accuracy: 0.4934640522875817\n",
      "predicted class counts: Counter({1: 224, 0: 67, -1: 15})\n",
      "Data spread:  Counter({'1': 604, '0': 395, '-1': 225})\n"
>>>>>>> f5732e50df470a54703b3c767973179f753873af
     ]
    },
    {
     "name": "stderr",
     "output_type": "stream",
     "text": [
      "/home/seb/anaconda3/lib/python3.7/site-packages/sklearn/ensemble/forest.py:246: FutureWarning: The default value of n_estimators will change from 10 in version 0.20 to 100 in 0.22.\n",
      "  \"10 in version 0.20 to 100 in 0.22.\", FutureWarning)\n"
     ]
    },
    {
     "name": "stdout",
     "output_type": "stream",
     "text": [
<<<<<<< HEAD
      "accuracy: 0.5020576131687243\n",
      "predicted class counts: Counter({1: 155, 0: 68, -1: 20})\n",
      "training 125 out of 500\n",
      "Data spread:  Counter({'1': 497, '0': 318, '-1': 155})\n"
=======
      "accuracy: 0.4215686274509804\n",
      "predicted class counts: Counter({1: 161, 0: 110, -1: 35})\n",
      "training 125 out of 500\n",
      "Data spread:  Counter({'1': 604, '0': 395, '-1': 225})\n"
>>>>>>> f5732e50df470a54703b3c767973179f753873af
     ]
    },
    {
     "name": "stderr",
     "output_type": "stream",
     "text": [
      "/home/seb/anaconda3/lib/python3.7/site-packages/sklearn/ensemble/forest.py:246: FutureWarning: The default value of n_estimators will change from 10 in version 0.20 to 100 in 0.22.\n",
      "  \"10 in version 0.20 to 100 in 0.22.\", FutureWarning)\n"
     ]
    },
    {
     "name": "stdout",
     "output_type": "stream",
     "text": [
<<<<<<< HEAD
      "accuracy: 0.3991769547325103\n",
      "predicted class counts: Counter({1: 167, 0: 58, -1: 18})\n",
      "Data spread:  Counter({'1': 497, '0': 318, '-1': 155})\n"
=======
      "accuracy: 0.47058823529411764\n",
      "predicted class counts: Counter({1: 187, 0: 87, -1: 32})\n",
      "Data spread:  Counter({'1': 604, '0': 395, '-1': 225})\n"
>>>>>>> f5732e50df470a54703b3c767973179f753873af
     ]
    },
    {
     "name": "stderr",
     "output_type": "stream",
     "text": [
      "/home/seb/anaconda3/lib/python3.7/site-packages/sklearn/ensemble/forest.py:246: FutureWarning: The default value of n_estimators will change from 10 in version 0.20 to 100 in 0.22.\n",
      "  \"10 in version 0.20 to 100 in 0.22.\", FutureWarning)\n"
     ]
    },
    {
     "name": "stdout",
     "output_type": "stream",
     "text": [
<<<<<<< HEAD
      "accuracy: 0.4691358024691358\n",
      "predicted class counts: Counter({1: 135, 0: 92, -1: 16})\n",
      "Data spread:  Counter({'1': 497, '0': 318, '-1': 155})\n"
=======
      "accuracy: 0.4477124183006536\n",
      "predicted class counts: Counter({1: 197, 0: 82, -1: 27})\n",
      "Data spread:  Counter({'1': 604, '0': 395, '-1': 225})\n"
>>>>>>> f5732e50df470a54703b3c767973179f753873af
     ]
    },
    {
     "name": "stderr",
     "output_type": "stream",
     "text": [
      "/home/seb/anaconda3/lib/python3.7/site-packages/sklearn/ensemble/forest.py:246: FutureWarning: The default value of n_estimators will change from 10 in version 0.20 to 100 in 0.22.\n",
      "  \"10 in version 0.20 to 100 in 0.22.\", FutureWarning)\n"
     ]
    },
    {
     "name": "stdout",
     "output_type": "stream",
     "text": [
<<<<<<< HEAD
      "accuracy: 0.41975308641975306\n",
      "predicted class counts: Counter({1: 150, 0: 82, -1: 11})\n",
      "Data spread:  Counter({'1': 497, '0': 318, '-1': 155})\n"
=======
      "accuracy: 0.4150326797385621\n",
      "predicted class counts: Counter({1: 175, 0: 99, -1: 32})\n",
      "Data spread:  Counter({'1': 604, '0': 395, '-1': 225})\n"
>>>>>>> f5732e50df470a54703b3c767973179f753873af
     ]
    },
    {
     "name": "stderr",
     "output_type": "stream",
     "text": [
      "/home/seb/anaconda3/lib/python3.7/site-packages/sklearn/ensemble/forest.py:246: FutureWarning: The default value of n_estimators will change from 10 in version 0.20 to 100 in 0.22.\n",
      "  \"10 in version 0.20 to 100 in 0.22.\", FutureWarning)\n"
     ]
    },
    {
     "name": "stdout",
     "output_type": "stream",
     "text": [
<<<<<<< HEAD
      "accuracy: 0.4897119341563786\n",
      "predicted class counts: Counter({1: 160, 0: 71, -1: 12})\n",
      "Data spread:  Counter({'1': 497, '0': 318, '-1': 155})\n"
=======
      "accuracy: 0.4117647058823529\n",
      "predicted class counts: Counter({1: 235, 0: 53, -1: 18})\n",
      "Data spread:  Counter({'1': 604, '0': 395, '-1': 225})\n"
>>>>>>> f5732e50df470a54703b3c767973179f753873af
     ]
    },
    {
     "name": "stderr",
     "output_type": "stream",
     "text": [
      "/home/seb/anaconda3/lib/python3.7/site-packages/sklearn/ensemble/forest.py:246: FutureWarning: The default value of n_estimators will change from 10 in version 0.20 to 100 in 0.22.\n",
      "  \"10 in version 0.20 to 100 in 0.22.\", FutureWarning)\n"
     ]
    },
    {
     "name": "stdout",
     "output_type": "stream",
     "text": [
<<<<<<< HEAD
      "accuracy: 0.4444444444444444\n",
      "predicted class counts: Counter({1: 151, 0: 83, -1: 9})\n",
      "training 130 out of 500\n",
      "Data spread:  Counter({'1': 497, '0': 318, '-1': 155})\n"
=======
      "accuracy: 0.4019607843137255\n",
      "predicted class counts: Counter({1: 167, 0: 106, -1: 33})\n",
      "training 130 out of 500\n",
      "Data spread:  Counter({'1': 604, '0': 395, '-1': 225})\n"
>>>>>>> f5732e50df470a54703b3c767973179f753873af
     ]
    },
    {
     "name": "stderr",
     "output_type": "stream",
     "text": [
      "/home/seb/anaconda3/lib/python3.7/site-packages/sklearn/ensemble/forest.py:246: FutureWarning: The default value of n_estimators will change from 10 in version 0.20 to 100 in 0.22.\n",
      "  \"10 in version 0.20 to 100 in 0.22.\", FutureWarning)\n"
     ]
    },
    {
     "name": "stdout",
     "output_type": "stream",
     "text": [
<<<<<<< HEAD
      "accuracy: 0.5020576131687243\n",
      "predicted class counts: Counter({1: 172, 0: 58, -1: 13})\n",
      "Data spread:  Counter({'1': 497, '0': 318, '-1': 155})\n"
=======
      "accuracy: 0.4477124183006536\n",
      "predicted class counts: Counter({1: 202, 0: 84, -1: 20})\n",
      "Data spread:  Counter({'1': 604, '0': 395, '-1': 225})\n"
>>>>>>> f5732e50df470a54703b3c767973179f753873af
     ]
    },
    {
     "name": "stderr",
     "output_type": "stream",
     "text": [
      "/home/seb/anaconda3/lib/python3.7/site-packages/sklearn/ensemble/forest.py:246: FutureWarning: The default value of n_estimators will change from 10 in version 0.20 to 100 in 0.22.\n",
      "  \"10 in version 0.20 to 100 in 0.22.\", FutureWarning)\n"
     ]
    },
    {
     "name": "stdout",
     "output_type": "stream",
     "text": [
<<<<<<< HEAD
      "accuracy: 0.4732510288065844\n",
      "predicted class counts: Counter({1: 146, 0: 75, -1: 22})\n",
      "Data spread:  Counter({'1': 497, '0': 318, '-1': 155})\n"
=======
      "accuracy: 0.5130718954248366\n",
      "predicted class counts: Counter({1: 198, 0: 95, -1: 13})\n",
      "Data spread:  Counter({'1': 604, '0': 395, '-1': 225})\n"
>>>>>>> f5732e50df470a54703b3c767973179f753873af
     ]
    },
    {
     "name": "stderr",
     "output_type": "stream",
     "text": [
      "/home/seb/anaconda3/lib/python3.7/site-packages/sklearn/ensemble/forest.py:246: FutureWarning: The default value of n_estimators will change from 10 in version 0.20 to 100 in 0.22.\n",
      "  \"10 in version 0.20 to 100 in 0.22.\", FutureWarning)\n"
     ]
    },
    {
     "name": "stdout",
     "output_type": "stream",
     "text": [
<<<<<<< HEAD
      "accuracy: 0.37037037037037035\n",
      "predicted class counts: Counter({1: 138, 0: 83, -1: 22})\n",
      "Data spread:  Counter({'1': 497, '0': 318, '-1': 155})\n"
=======
      "accuracy: 0.477124183006536\n",
      "predicted class counts: Counter({1: 171, 0: 101, -1: 34})\n",
      "Data spread:  Counter({'1': 604, '0': 395, '-1': 225})\n"
>>>>>>> f5732e50df470a54703b3c767973179f753873af
     ]
    },
    {
     "name": "stderr",
     "output_type": "stream",
     "text": [
      "/home/seb/anaconda3/lib/python3.7/site-packages/sklearn/ensemble/forest.py:246: FutureWarning: The default value of n_estimators will change from 10 in version 0.20 to 100 in 0.22.\n",
      "  \"10 in version 0.20 to 100 in 0.22.\", FutureWarning)\n"
     ]
    },
    {
     "name": "stdout",
     "output_type": "stream",
     "text": [
<<<<<<< HEAD
      "accuracy: 0.4691358024691358\n",
      "predicted class counts: Counter({1: 131, 0: 92, -1: 20})\n",
      "Data spread:  Counter({'1': 497, '0': 318, '-1': 155})\n"
=======
      "accuracy: 0.4444444444444444\n",
      "predicted class counts: Counter({1: 173, 0: 110, -1: 23})\n",
      "Data spread:  Counter({'1': 604, '0': 395, '-1': 225})\n"
>>>>>>> f5732e50df470a54703b3c767973179f753873af
     ]
    },
    {
     "name": "stderr",
     "output_type": "stream",
     "text": [
      "/home/seb/anaconda3/lib/python3.7/site-packages/sklearn/ensemble/forest.py:246: FutureWarning: The default value of n_estimators will change from 10 in version 0.20 to 100 in 0.22.\n",
      "  \"10 in version 0.20 to 100 in 0.22.\", FutureWarning)\n"
     ]
    },
    {
     "name": "stdout",
     "output_type": "stream",
     "text": [
<<<<<<< HEAD
      "accuracy: 0.45267489711934156\n",
      "predicted class counts: Counter({1: 163, 0: 51, -1: 29})\n",
      "training 135 out of 500\n",
      "Data spread:  Counter({'1': 497, '0': 318, '-1': 155})\n"
=======
      "accuracy: 0.4215686274509804\n",
      "predicted class counts: Counter({1: 203, 0: 80, -1: 23})\n",
      "training 135 out of 500\n",
      "Data spread:  Counter({'1': 604, '0': 395, '-1': 225})\n"
>>>>>>> f5732e50df470a54703b3c767973179f753873af
     ]
    },
    {
     "name": "stderr",
     "output_type": "stream",
     "text": [
      "/home/seb/anaconda3/lib/python3.7/site-packages/sklearn/ensemble/forest.py:246: FutureWarning: The default value of n_estimators will change from 10 in version 0.20 to 100 in 0.22.\n",
      "  \"10 in version 0.20 to 100 in 0.22.\", FutureWarning)\n"
     ]
    },
    {
     "name": "stdout",
     "output_type": "stream",
     "text": [
<<<<<<< HEAD
      "accuracy: 0.4773662551440329\n",
      "predicted class counts: Counter({1: 166, 0: 69, -1: 8})\n",
      "Data spread:  Counter({'1': 497, '0': 318, '-1': 155})\n"
=======
      "accuracy: 0.42810457516339867\n",
      "predicted class counts: Counter({1: 206, 0: 75, -1: 25})\n",
      "Data spread:  Counter({'1': 604, '0': 395, '-1': 225})\n"
>>>>>>> f5732e50df470a54703b3c767973179f753873af
     ]
    },
    {
     "name": "stderr",
     "output_type": "stream",
     "text": [
      "/home/seb/anaconda3/lib/python3.7/site-packages/sklearn/ensemble/forest.py:246: FutureWarning: The default value of n_estimators will change from 10 in version 0.20 to 100 in 0.22.\n",
      "  \"10 in version 0.20 to 100 in 0.22.\", FutureWarning)\n"
     ]
    },
    {
     "name": "stdout",
     "output_type": "stream",
     "text": [
<<<<<<< HEAD
      "accuracy: 0.4691358024691358\n",
      "predicted class counts: Counter({1: 152, 0: 78, -1: 13})\n",
      "Data spread:  Counter({'1': 497, '0': 318, '-1': 155})\n"
=======
      "accuracy: 0.4411764705882353\n",
      "predicted class counts: Counter({1: 205, 0: 73, -1: 28})\n",
      "Data spread:  Counter({'1': 604, '0': 395, '-1': 225})\n"
>>>>>>> f5732e50df470a54703b3c767973179f753873af
     ]
    },
    {
     "name": "stderr",
     "output_type": "stream",
     "text": [
      "/home/seb/anaconda3/lib/python3.7/site-packages/sklearn/ensemble/forest.py:246: FutureWarning: The default value of n_estimators will change from 10 in version 0.20 to 100 in 0.22.\n",
      "  \"10 in version 0.20 to 100 in 0.22.\", FutureWarning)\n"
     ]
    },
    {
     "name": "stdout",
     "output_type": "stream",
     "text": [
<<<<<<< HEAD
      "accuracy: 0.49382716049382713\n",
      "predicted class counts: Counter({1: 161, 0: 55, -1: 27})\n",
      "Data spread:  Counter({'1': 497, '0': 318, '-1': 155})\n"
=======
      "accuracy: 0.4673202614379085\n",
      "predicted class counts: Counter({1: 191, 0: 88, -1: 27})\n",
      "Data spread:  Counter({'1': 604, '0': 395, '-1': 225})\n"
>>>>>>> f5732e50df470a54703b3c767973179f753873af
     ]
    },
    {
     "name": "stderr",
     "output_type": "stream",
     "text": [
      "/home/seb/anaconda3/lib/python3.7/site-packages/sklearn/ensemble/forest.py:246: FutureWarning: The default value of n_estimators will change from 10 in version 0.20 to 100 in 0.22.\n",
      "  \"10 in version 0.20 to 100 in 0.22.\", FutureWarning)\n"
     ]
    },
    {
     "name": "stdout",
     "output_type": "stream",
     "text": [
<<<<<<< HEAD
      "accuracy: 0.40329218106995884\n",
      "predicted class counts: Counter({1: 128, 0: 93, -1: 22})\n",
      "Data spread:  Counter({'1': 497, '0': 318, '-1': 155})\n"
=======
      "accuracy: 0.43790849673202614\n",
      "predicted class counts: Counter({1: 183, 0: 97, -1: 26})\n",
      "Data spread:  Counter({'1': 604, '0': 395, '-1': 225})\n"
>>>>>>> f5732e50df470a54703b3c767973179f753873af
     ]
    },
    {
     "name": "stderr",
     "output_type": "stream",
     "text": [
      "/home/seb/anaconda3/lib/python3.7/site-packages/sklearn/ensemble/forest.py:246: FutureWarning: The default value of n_estimators will change from 10 in version 0.20 to 100 in 0.22.\n",
      "  \"10 in version 0.20 to 100 in 0.22.\", FutureWarning)\n"
     ]
    },
    {
     "name": "stdout",
     "output_type": "stream",
     "text": [
<<<<<<< HEAD
      "accuracy: 0.3786008230452675\n",
      "predicted class counts: Counter({1: 157, 0: 70, -1: 16})\n",
      "training 140 out of 500\n",
      "Data spread:  Counter({'1': 497, '0': 318, '-1': 155})\n"
=======
      "accuracy: 0.477124183006536\n",
      "predicted class counts: Counter({1: 203, 0: 67, -1: 36})\n",
      "training 140 out of 500\n",
      "Data spread:  Counter({'1': 604, '0': 395, '-1': 225})\n"
>>>>>>> f5732e50df470a54703b3c767973179f753873af
     ]
    },
    {
     "name": "stderr",
     "output_type": "stream",
     "text": [
      "/home/seb/anaconda3/lib/python3.7/site-packages/sklearn/ensemble/forest.py:246: FutureWarning: The default value of n_estimators will change from 10 in version 0.20 to 100 in 0.22.\n",
      "  \"10 in version 0.20 to 100 in 0.22.\", FutureWarning)\n"
     ]
    },
    {
     "name": "stdout",
     "output_type": "stream",
     "text": [
<<<<<<< HEAD
      "accuracy: 0.4567901234567901\n",
      "predicted class counts: Counter({1: 150, 0: 82, -1: 11})\n",
      "Data spread:  Counter({'1': 497, '0': 318, '-1': 155})\n"
=======
      "accuracy: 0.4444444444444444\n",
      "predicted class counts: Counter({1: 223, 0: 60, -1: 23})\n",
      "Data spread:  Counter({'1': 604, '0': 395, '-1': 225})\n"
>>>>>>> f5732e50df470a54703b3c767973179f753873af
     ]
    },
    {
     "name": "stderr",
     "output_type": "stream",
     "text": [
      "/home/seb/anaconda3/lib/python3.7/site-packages/sklearn/ensemble/forest.py:246: FutureWarning: The default value of n_estimators will change from 10 in version 0.20 to 100 in 0.22.\n",
      "  \"10 in version 0.20 to 100 in 0.22.\", FutureWarning)\n"
     ]
    },
    {
     "name": "stdout",
     "output_type": "stream",
     "text": [
<<<<<<< HEAD
      "accuracy: 0.4156378600823045\n",
      "predicted class counts: Counter({1: 153, 0: 75, -1: 15})\n",
      "Data spread:  Counter({'1': 497, '0': 318, '-1': 155})\n"
=======
      "accuracy: 0.46078431372549017\n",
      "predicted class counts: Counter({1: 185, 0: 91, -1: 30})\n",
      "Data spread:  Counter({'1': 604, '0': 395, '-1': 225})\n"
>>>>>>> f5732e50df470a54703b3c767973179f753873af
     ]
    },
    {
     "name": "stderr",
     "output_type": "stream",
     "text": [
      "/home/seb/anaconda3/lib/python3.7/site-packages/sklearn/ensemble/forest.py:246: FutureWarning: The default value of n_estimators will change from 10 in version 0.20 to 100 in 0.22.\n",
      "  \"10 in version 0.20 to 100 in 0.22.\", FutureWarning)\n"
     ]
    },
    {
     "name": "stdout",
     "output_type": "stream",
     "text": [
<<<<<<< HEAD
      "accuracy: 0.48559670781893005\n",
      "predicted class counts: Counter({1: 165, 0: 66, -1: 12})\n",
      "Data spread:  Counter({'1': 497, '0': 318, '-1': 155})\n"
=======
      "accuracy: 0.477124183006536\n",
      "predicted class counts: Counter({1: 201, 0: 76, -1: 29})\n",
      "Data spread:  Counter({'1': 604, '0': 395, '-1': 225})\n"
>>>>>>> f5732e50df470a54703b3c767973179f753873af
     ]
    },
    {
     "name": "stderr",
     "output_type": "stream",
     "text": [
      "/home/seb/anaconda3/lib/python3.7/site-packages/sklearn/ensemble/forest.py:246: FutureWarning: The default value of n_estimators will change from 10 in version 0.20 to 100 in 0.22.\n",
      "  \"10 in version 0.20 to 100 in 0.22.\", FutureWarning)\n"
     ]
    },
    {
     "name": "stdout",
     "output_type": "stream",
     "text": [
<<<<<<< HEAD
      "accuracy: 0.41975308641975306\n",
      "predicted class counts: Counter({1: 147, 0: 86, -1: 10})\n",
      "Data spread:  Counter({'1': 497, '0': 318, '-1': 155})\n"
=======
      "accuracy: 0.42810457516339867\n",
      "predicted class counts: Counter({1: 209, 0: 73, -1: 24})\n",
      "Data spread:  Counter({'1': 604, '0': 395, '-1': 225})\n"
>>>>>>> f5732e50df470a54703b3c767973179f753873af
     ]
    },
    {
     "name": "stderr",
     "output_type": "stream",
     "text": [
      "/home/seb/anaconda3/lib/python3.7/site-packages/sklearn/ensemble/forest.py:246: FutureWarning: The default value of n_estimators will change from 10 in version 0.20 to 100 in 0.22.\n",
      "  \"10 in version 0.20 to 100 in 0.22.\", FutureWarning)\n"
     ]
    },
    {
     "name": "stdout",
     "output_type": "stream",
     "text": [
<<<<<<< HEAD
      "accuracy: 0.4403292181069959\n",
      "predicted class counts: Counter({1: 145, 0: 86, -1: 12})\n",
      "training 145 out of 500\n",
      "Data spread:  Counter({'1': 497, '0': 318, '-1': 155})\n"
=======
      "accuracy: 0.4542483660130719\n",
      "predicted class counts: Counter({1: 163, 0: 114, -1: 29})\n",
      "training 145 out of 500\n",
      "Data spread:  Counter({'1': 604, '0': 395, '-1': 225})\n"
>>>>>>> f5732e50df470a54703b3c767973179f753873af
     ]
    },
    {
     "name": "stderr",
     "output_type": "stream",
     "text": [
      "/home/seb/anaconda3/lib/python3.7/site-packages/sklearn/ensemble/forest.py:246: FutureWarning: The default value of n_estimators will change from 10 in version 0.20 to 100 in 0.22.\n",
      "  \"10 in version 0.20 to 100 in 0.22.\", FutureWarning)\n"
     ]
    },
    {
     "name": "stdout",
     "output_type": "stream",
     "text": [
<<<<<<< HEAD
      "accuracy: 0.4403292181069959\n",
      "predicted class counts: Counter({1: 176, 0: 51, -1: 16})\n",
      "Data spread:  Counter({'1': 497, '0': 318, '-1': 155})\n"
=======
      "accuracy: 0.42810457516339867\n",
      "predicted class counts: Counter({1: 214, 0: 68, -1: 24})\n",
      "Data spread:  Counter({'1': 604, '0': 395, '-1': 225})\n"
>>>>>>> f5732e50df470a54703b3c767973179f753873af
     ]
    },
    {
     "name": "stderr",
     "output_type": "stream",
     "text": [
      "/home/seb/anaconda3/lib/python3.7/site-packages/sklearn/ensemble/forest.py:246: FutureWarning: The default value of n_estimators will change from 10 in version 0.20 to 100 in 0.22.\n",
      "  \"10 in version 0.20 to 100 in 0.22.\", FutureWarning)\n"
     ]
    },
    {
     "name": "stdout",
     "output_type": "stream",
     "text": [
<<<<<<< HEAD
      "accuracy: 0.41975308641975306\n",
      "predicted class counts: Counter({1: 154, 0: 74, -1: 15})\n",
      "Data spread:  Counter({'1': 497, '0': 318, '-1': 155})\n"
=======
      "accuracy: 0.4019607843137255\n",
      "predicted class counts: Counter({1: 201, 0: 83, -1: 22})\n",
      "Data spread:  Counter({'1': 604, '0': 395, '-1': 225})\n"
>>>>>>> f5732e50df470a54703b3c767973179f753873af
     ]
    },
    {
     "name": "stderr",
     "output_type": "stream",
     "text": [
      "/home/seb/anaconda3/lib/python3.7/site-packages/sklearn/ensemble/forest.py:246: FutureWarning: The default value of n_estimators will change from 10 in version 0.20 to 100 in 0.22.\n",
      "  \"10 in version 0.20 to 100 in 0.22.\", FutureWarning)\n"
     ]
    },
    {
     "name": "stdout",
     "output_type": "stream",
     "text": [
<<<<<<< HEAD
      "accuracy: 0.48148148148148145\n",
      "predicted class counts: Counter({1: 165, 0: 71, -1: 7})\n",
      "Data spread:  Counter({'1': 497, '0': 318, '-1': 155})\n"
=======
      "accuracy: 0.434640522875817\n",
      "predicted class counts: Counter({1: 199, 0: 81, -1: 26})\n",
      "Data spread:  Counter({'1': 604, '0': 395, '-1': 225})\n"
>>>>>>> f5732e50df470a54703b3c767973179f753873af
     ]
    },
    {
     "name": "stderr",
     "output_type": "stream",
     "text": [
      "/home/seb/anaconda3/lib/python3.7/site-packages/sklearn/ensemble/forest.py:246: FutureWarning: The default value of n_estimators will change from 10 in version 0.20 to 100 in 0.22.\n",
      "  \"10 in version 0.20 to 100 in 0.22.\", FutureWarning)\n"
     ]
    },
    {
     "name": "stdout",
     "output_type": "stream",
     "text": [
<<<<<<< HEAD
      "accuracy: 0.43209876543209874\n",
      "predicted class counts: Counter({1: 150, 0: 71, -1: 22})\n",
      "Data spread:  Counter({'1': 497, '0': 318, '-1': 155})\n"
=======
      "accuracy: 0.43790849673202614\n",
      "predicted class counts: Counter({1: 209, 0: 69, -1: 28})\n",
      "Data spread:  Counter({'1': 604, '0': 395, '-1': 225})\n"
>>>>>>> f5732e50df470a54703b3c767973179f753873af
     ]
    },
    {
     "name": "stderr",
     "output_type": "stream",
     "text": [
      "/home/seb/anaconda3/lib/python3.7/site-packages/sklearn/ensemble/forest.py:246: FutureWarning: The default value of n_estimators will change from 10 in version 0.20 to 100 in 0.22.\n",
      "  \"10 in version 0.20 to 100 in 0.22.\", FutureWarning)\n"
     ]
    },
    {
     "name": "stdout",
     "output_type": "stream",
     "text": [
<<<<<<< HEAD
      "accuracy: 0.43621399176954734\n",
      "predicted class counts: Counter({1: 154, 0: 70, -1: 19})\n",
      "training 150 out of 500\n",
      "Data spread:  Counter({'1': 497, '0': 318, '-1': 155})\n"
=======
      "accuracy: 0.4411764705882353\n",
      "predicted class counts: Counter({1: 188, 0: 86, -1: 32})\n",
      "training 150 out of 500\n",
      "Data spread:  Counter({'1': 604, '0': 395, '-1': 225})\n"
>>>>>>> f5732e50df470a54703b3c767973179f753873af
     ]
    },
    {
     "name": "stderr",
     "output_type": "stream",
     "text": [
      "/home/seb/anaconda3/lib/python3.7/site-packages/sklearn/ensemble/forest.py:246: FutureWarning: The default value of n_estimators will change from 10 in version 0.20 to 100 in 0.22.\n",
      "  \"10 in version 0.20 to 100 in 0.22.\", FutureWarning)\n"
     ]
    },
    {
     "name": "stdout",
     "output_type": "stream",
     "text": [
<<<<<<< HEAD
      "accuracy: 0.45267489711934156\n",
      "predicted class counts: Counter({1: 147, 0: 80, -1: 16})\n",
      "Data spread:  Counter({'1': 497, '0': 318, '-1': 155})\n"
=======
      "accuracy: 0.4444444444444444\n",
      "predicted class counts: Counter({1: 205, 0: 66, -1: 35})\n",
      "Data spread:  Counter({'1': 604, '0': 395, '-1': 225})\n"
>>>>>>> f5732e50df470a54703b3c767973179f753873af
     ]
    },
    {
     "name": "stderr",
     "output_type": "stream",
     "text": [
      "/home/seb/anaconda3/lib/python3.7/site-packages/sklearn/ensemble/forest.py:246: FutureWarning: The default value of n_estimators will change from 10 in version 0.20 to 100 in 0.22.\n",
      "  \"10 in version 0.20 to 100 in 0.22.\", FutureWarning)\n"
     ]
    },
    {
     "name": "stdout",
     "output_type": "stream",
     "text": [
<<<<<<< HEAD
      "accuracy: 0.43621399176954734\n",
      "predicted class counts: Counter({1: 173, 0: 59, -1: 11})\n",
      "Data spread:  Counter({'1': 497, '0': 318, '-1': 155})\n"
=======
      "accuracy: 0.45751633986928103\n",
      "predicted class counts: Counter({1: 177, 0: 97, -1: 32})\n",
      "Data spread:  Counter({'1': 604, '0': 395, '-1': 225})\n"
>>>>>>> f5732e50df470a54703b3c767973179f753873af
     ]
    },
    {
     "name": "stderr",
     "output_type": "stream",
     "text": [
      "/home/seb/anaconda3/lib/python3.7/site-packages/sklearn/ensemble/forest.py:246: FutureWarning: The default value of n_estimators will change from 10 in version 0.20 to 100 in 0.22.\n",
      "  \"10 in version 0.20 to 100 in 0.22.\", FutureWarning)\n"
     ]
    },
    {
     "name": "stdout",
     "output_type": "stream",
     "text": [
<<<<<<< HEAD
      "accuracy: 0.4897119341563786\n",
      "predicted class counts: Counter({1: 155, 0: 69, -1: 19})\n",
      "Data spread:  Counter({'1': 497, '0': 318, '-1': 155})\n"
=======
      "accuracy: 0.43137254901960786\n",
      "predicted class counts: Counter({1: 186, 0: 100, -1: 20})\n",
      "Data spread:  Counter({'1': 604, '0': 395, '-1': 225})\n"
>>>>>>> f5732e50df470a54703b3c767973179f753873af
     ]
    },
    {
     "name": "stderr",
     "output_type": "stream",
     "text": [
      "/home/seb/anaconda3/lib/python3.7/site-packages/sklearn/ensemble/forest.py:246: FutureWarning: The default value of n_estimators will change from 10 in version 0.20 to 100 in 0.22.\n",
      "  \"10 in version 0.20 to 100 in 0.22.\", FutureWarning)\n"
     ]
    },
    {
     "name": "stdout",
     "output_type": "stream",
     "text": [
<<<<<<< HEAD
      "accuracy: 0.42386831275720166\n",
      "predicted class counts: Counter({1: 153, 0: 75, -1: 15})\n",
      "Data spread:  Counter({'1': 497, '0': 318, '-1': 155})\n"
=======
      "accuracy: 0.49673202614379086\n",
      "predicted class counts: Counter({1: 222, 0: 67, -1: 17})\n",
      "Data spread:  Counter({'1': 604, '0': 395, '-1': 225})\n"
>>>>>>> f5732e50df470a54703b3c767973179f753873af
     ]
    },
    {
     "name": "stderr",
     "output_type": "stream",
     "text": [
      "/home/seb/anaconda3/lib/python3.7/site-packages/sklearn/ensemble/forest.py:246: FutureWarning: The default value of n_estimators will change from 10 in version 0.20 to 100 in 0.22.\n",
      "  \"10 in version 0.20 to 100 in 0.22.\", FutureWarning)\n"
     ]
    },
    {
     "name": "stdout",
     "output_type": "stream",
     "text": [
<<<<<<< HEAD
      "accuracy: 0.4773662551440329\n",
      "predicted class counts: Counter({1: 145, 0: 84, -1: 14})\n",
      "training 155 out of 500\n",
      "Data spread:  Counter({'1': 497, '0': 318, '-1': 155})\n"
=======
      "accuracy: 0.49673202614379086\n",
      "predicted class counts: Counter({1: 222, 0: 57, -1: 27})\n",
      "training 155 out of 500\n",
      "Data spread:  Counter({'1': 604, '0': 395, '-1': 225})\n"
>>>>>>> f5732e50df470a54703b3c767973179f753873af
     ]
    },
    {
     "name": "stderr",
     "output_type": "stream",
     "text": [
      "/home/seb/anaconda3/lib/python3.7/site-packages/sklearn/ensemble/forest.py:246: FutureWarning: The default value of n_estimators will change from 10 in version 0.20 to 100 in 0.22.\n",
      "  \"10 in version 0.20 to 100 in 0.22.\", FutureWarning)\n"
     ]
    },
    {
     "name": "stdout",
     "output_type": "stream",
     "text": [
<<<<<<< HEAD
      "accuracy: 0.448559670781893\n",
      "predicted class counts: Counter({1: 147, 0: 74, -1: 22})\n",
      "Data spread:  Counter({'1': 497, '0': 318, '-1': 155})\n"
=======
      "accuracy: 0.43790849673202614\n",
      "predicted class counts: Counter({1: 195, 0: 86, -1: 25})\n",
      "Data spread:  Counter({'1': 604, '0': 395, '-1': 225})\n"
>>>>>>> f5732e50df470a54703b3c767973179f753873af
     ]
    },
    {
     "name": "stderr",
     "output_type": "stream",
     "text": [
      "/home/seb/anaconda3/lib/python3.7/site-packages/sklearn/ensemble/forest.py:246: FutureWarning: The default value of n_estimators will change from 10 in version 0.20 to 100 in 0.22.\n",
      "  \"10 in version 0.20 to 100 in 0.22.\", FutureWarning)\n"
     ]
    },
    {
     "name": "stdout",
     "output_type": "stream",
     "text": [
<<<<<<< HEAD
      "accuracy: 0.43621399176954734\n",
      "predicted class counts: Counter({1: 156, 0: 76, -1: 11})\n",
      "Data spread:  Counter({'1': 497, '0': 318, '-1': 155})\n"
=======
      "accuracy: 0.41830065359477125\n",
      "predicted class counts: Counter({1: 181, 0: 92, -1: 33})\n",
      "Data spread:  Counter({'1': 604, '0': 395, '-1': 225})\n"
>>>>>>> f5732e50df470a54703b3c767973179f753873af
     ]
    },
    {
     "name": "stderr",
     "output_type": "stream",
     "text": [
      "/home/seb/anaconda3/lib/python3.7/site-packages/sklearn/ensemble/forest.py:246: FutureWarning: The default value of n_estimators will change from 10 in version 0.20 to 100 in 0.22.\n",
      "  \"10 in version 0.20 to 100 in 0.22.\", FutureWarning)\n"
     ]
    },
    {
     "name": "stdout",
     "output_type": "stream",
     "text": [
<<<<<<< HEAD
      "accuracy: 0.4609053497942387\n",
      "predicted class counts: Counter({1: 144, 0: 88, -1: 11})\n",
      "Data spread:  Counter({'1': 497, '0': 318, '-1': 155})\n"
=======
      "accuracy: 0.42810457516339867\n",
      "predicted class counts: Counter({1: 204, 0: 80, -1: 22})\n",
      "Data spread:  Counter({'1': 604, '0': 395, '-1': 225})\n"
>>>>>>> f5732e50df470a54703b3c767973179f753873af
     ]
    },
    {
     "name": "stderr",
     "output_type": "stream",
     "text": [
      "/home/seb/anaconda3/lib/python3.7/site-packages/sklearn/ensemble/forest.py:246: FutureWarning: The default value of n_estimators will change from 10 in version 0.20 to 100 in 0.22.\n",
      "  \"10 in version 0.20 to 100 in 0.22.\", FutureWarning)\n"
     ]
    },
    {
     "name": "stdout",
     "output_type": "stream",
     "text": [
<<<<<<< HEAD
      "accuracy: 0.4609053497942387\n",
      "predicted class counts: Counter({1: 172, 0: 65, -1: 6})\n",
      "Data spread:  Counter({'1': 497, '0': 318, '-1': 155})\n"
=======
      "accuracy: 0.4411764705882353\n",
      "predicted class counts: Counter({1: 188, 0: 87, -1: 31})\n",
      "Data spread:  Counter({'1': 604, '0': 395, '-1': 225})\n"
>>>>>>> f5732e50df470a54703b3c767973179f753873af
     ]
    },
    {
     "name": "stderr",
     "output_type": "stream",
     "text": [
      "/home/seb/anaconda3/lib/python3.7/site-packages/sklearn/ensemble/forest.py:246: FutureWarning: The default value of n_estimators will change from 10 in version 0.20 to 100 in 0.22.\n",
      "  \"10 in version 0.20 to 100 in 0.22.\", FutureWarning)\n"
     ]
    },
    {
     "name": "stdout",
     "output_type": "stream",
     "text": [
<<<<<<< HEAD
      "accuracy: 0.45267489711934156\n",
      "predicted class counts: Counter({1: 133, 0: 89, -1: 21})\n",
      "training 160 out of 500\n",
      "Data spread:  Counter({'1': 497, '0': 318, '-1': 155})\n"
=======
      "accuracy: 0.42483660130718953\n",
      "predicted class counts: Counter({1: 229, 0: 49, -1: 28})\n",
      "training 160 out of 500\n",
      "Data spread:  Counter({'1': 604, '0': 395, '-1': 225})\n"
>>>>>>> f5732e50df470a54703b3c767973179f753873af
     ]
    },
    {
     "name": "stderr",
     "output_type": "stream",
     "text": [
      "/home/seb/anaconda3/lib/python3.7/site-packages/sklearn/ensemble/forest.py:246: FutureWarning: The default value of n_estimators will change from 10 in version 0.20 to 100 in 0.22.\n",
      "  \"10 in version 0.20 to 100 in 0.22.\", FutureWarning)\n"
     ]
    },
    {
     "name": "stdout",
     "output_type": "stream",
     "text": [
<<<<<<< HEAD
      "accuracy: 0.5308641975308642\n",
      "predicted class counts: Counter({1: 159, 0: 75, -1: 9})\n",
      "Data spread:  Counter({'1': 497, '0': 318, '-1': 155})\n"
=======
      "accuracy: 0.4019607843137255\n",
      "predicted class counts: Counter({1: 184, 0: 85, -1: 37})\n",
      "Data spread:  Counter({'1': 604, '0': 395, '-1': 225})\n"
>>>>>>> f5732e50df470a54703b3c767973179f753873af
     ]
    },
    {
     "name": "stderr",
     "output_type": "stream",
     "text": [
      "/home/seb/anaconda3/lib/python3.7/site-packages/sklearn/ensemble/forest.py:246: FutureWarning: The default value of n_estimators will change from 10 in version 0.20 to 100 in 0.22.\n",
      "  \"10 in version 0.20 to 100 in 0.22.\", FutureWarning)\n"
     ]
    },
    {
     "name": "stdout",
     "output_type": "stream",
     "text": [
<<<<<<< HEAD
      "accuracy: 0.4156378600823045\n",
      "predicted class counts: Counter({1: 146, 0: 68, -1: 29})\n",
      "Data spread:  Counter({'1': 497, '0': 318, '-1': 155})\n"
=======
      "accuracy: 0.41830065359477125\n",
      "predicted class counts: Counter({1: 171, 0: 116, -1: 19})\n",
      "Data spread:  Counter({'1': 604, '0': 395, '-1': 225})\n"
>>>>>>> f5732e50df470a54703b3c767973179f753873af
     ]
    },
    {
     "name": "stderr",
     "output_type": "stream",
     "text": [
      "/home/seb/anaconda3/lib/python3.7/site-packages/sklearn/ensemble/forest.py:246: FutureWarning: The default value of n_estimators will change from 10 in version 0.20 to 100 in 0.22.\n",
      "  \"10 in version 0.20 to 100 in 0.22.\", FutureWarning)\n"
     ]
    },
    {
     "name": "stdout",
     "output_type": "stream",
     "text": [
<<<<<<< HEAD
      "accuracy: 0.4732510288065844\n",
      "predicted class counts: Counter({1: 174, 0: 56, -1: 13})\n",
      "Data spread:  Counter({'1': 497, '0': 318, '-1': 155})\n"
=======
      "accuracy: 0.4411764705882353\n",
      "predicted class counts: Counter({1: 213, 0: 65, -1: 28})\n",
      "Data spread:  Counter({'1': 604, '0': 395, '-1': 225})\n"
>>>>>>> f5732e50df470a54703b3c767973179f753873af
     ]
    },
    {
     "name": "stderr",
     "output_type": "stream",
     "text": [
      "/home/seb/anaconda3/lib/python3.7/site-packages/sklearn/ensemble/forest.py:246: FutureWarning: The default value of n_estimators will change from 10 in version 0.20 to 100 in 0.22.\n",
      "  \"10 in version 0.20 to 100 in 0.22.\", FutureWarning)\n"
     ]
    },
    {
     "name": "stdout",
     "output_type": "stream",
     "text": [
<<<<<<< HEAD
      "accuracy: 0.4403292181069959\n",
      "predicted class counts: Counter({1: 136, 0: 101, -1: 6})\n",
      "Data spread:  Counter({'1': 497, '0': 318, '-1': 155})\n"
=======
      "accuracy: 0.4150326797385621\n",
      "predicted class counts: Counter({1: 178, 0: 99, -1: 29})\n",
      "Data spread:  Counter({'1': 604, '0': 395, '-1': 225})\n"
>>>>>>> f5732e50df470a54703b3c767973179f753873af
     ]
    },
    {
     "name": "stderr",
     "output_type": "stream",
     "text": [
      "/home/seb/anaconda3/lib/python3.7/site-packages/sklearn/ensemble/forest.py:246: FutureWarning: The default value of n_estimators will change from 10 in version 0.20 to 100 in 0.22.\n",
      "  \"10 in version 0.20 to 100 in 0.22.\", FutureWarning)\n"
     ]
    },
    {
     "name": "stdout",
     "output_type": "stream",
     "text": [
<<<<<<< HEAD
      "accuracy: 0.4609053497942387\n",
      "predicted class counts: Counter({1: 177, 0: 53, -1: 13})\n",
      "training 165 out of 500\n",
      "Data spread:  Counter({'1': 497, '0': 318, '-1': 155})\n"
=======
      "accuracy: 0.39869281045751637\n",
      "predicted class counts: Counter({1: 192, 0: 89, -1: 25})\n",
      "training 165 out of 500\n",
      "Data spread:  Counter({'1': 604, '0': 395, '-1': 225})\n"
>>>>>>> f5732e50df470a54703b3c767973179f753873af
     ]
    },
    {
     "name": "stderr",
     "output_type": "stream",
     "text": [
      "/home/seb/anaconda3/lib/python3.7/site-packages/sklearn/ensemble/forest.py:246: FutureWarning: The default value of n_estimators will change from 10 in version 0.20 to 100 in 0.22.\n",
      "  \"10 in version 0.20 to 100 in 0.22.\", FutureWarning)\n"
     ]
    },
    {
     "name": "stdout",
     "output_type": "stream",
     "text": [
<<<<<<< HEAD
      "accuracy: 0.41975308641975306\n",
      "predicted class counts: Counter({1: 150, 0: 81, -1: 12})\n",
      "Data spread:  Counter({'1': 497, '0': 318, '-1': 155})\n"
=======
      "accuracy: 0.46405228758169936\n",
      "predicted class counts: Counter({1: 197, 0: 75, -1: 34})\n",
      "Data spread:  Counter({'1': 604, '0': 395, '-1': 225})\n"
>>>>>>> f5732e50df470a54703b3c767973179f753873af
     ]
    },
    {
     "name": "stderr",
     "output_type": "stream",
     "text": [
      "/home/seb/anaconda3/lib/python3.7/site-packages/sklearn/ensemble/forest.py:246: FutureWarning: The default value of n_estimators will change from 10 in version 0.20 to 100 in 0.22.\n",
      "  \"10 in version 0.20 to 100 in 0.22.\", FutureWarning)\n"
     ]
    },
    {
     "name": "stdout",
     "output_type": "stream",
     "text": [
<<<<<<< HEAD
      "accuracy: 0.41975308641975306\n",
      "predicted class counts: Counter({1: 144, 0: 81, -1: 18})\n",
      "Data spread:  Counter({'1': 497, '0': 318, '-1': 155})\n"
=======
      "accuracy: 0.4150326797385621\n",
      "predicted class counts: Counter({1: 166, 0: 107, -1: 33})\n",
      "Data spread:  Counter({'1': 604, '0': 395, '-1': 225})\n"
>>>>>>> f5732e50df470a54703b3c767973179f753873af
     ]
    },
    {
     "name": "stderr",
     "output_type": "stream",
     "text": [
      "/home/seb/anaconda3/lib/python3.7/site-packages/sklearn/ensemble/forest.py:246: FutureWarning: The default value of n_estimators will change from 10 in version 0.20 to 100 in 0.22.\n",
      "  \"10 in version 0.20 to 100 in 0.22.\", FutureWarning)\n"
     ]
    },
    {
     "name": "stdout",
     "output_type": "stream",
     "text": [
<<<<<<< HEAD
      "accuracy: 0.4279835390946502\n",
      "predicted class counts: Counter({1: 170, 0: 56, -1: 17})\n",
      "Data spread:  Counter({'1': 497, '0': 318, '-1': 155})\n"
=======
      "accuracy: 0.3954248366013072\n",
      "predicted class counts: Counter({1: 165, 0: 109, -1: 32})\n",
      "Data spread:  Counter({'1': 604, '0': 395, '-1': 225})\n"
>>>>>>> f5732e50df470a54703b3c767973179f753873af
     ]
    },
    {
     "name": "stderr",
     "output_type": "stream",
     "text": [
      "/home/seb/anaconda3/lib/python3.7/site-packages/sklearn/ensemble/forest.py:246: FutureWarning: The default value of n_estimators will change from 10 in version 0.20 to 100 in 0.22.\n",
      "  \"10 in version 0.20 to 100 in 0.22.\", FutureWarning)\n"
     ]
    },
    {
     "name": "stdout",
     "output_type": "stream",
     "text": [
<<<<<<< HEAD
      "accuracy: 0.41975308641975306\n",
      "predicted class counts: Counter({1: 161, 0: 64, -1: 18})\n",
      "Data spread:  Counter({'1': 497, '0': 318, '-1': 155})\n"
=======
      "accuracy: 0.45751633986928103\n",
      "predicted class counts: Counter({1: 207, 0: 80, -1: 19})\n",
      "Data spread:  Counter({'1': 604, '0': 395, '-1': 225})\n"
>>>>>>> f5732e50df470a54703b3c767973179f753873af
     ]
    },
    {
     "name": "stderr",
     "output_type": "stream",
     "text": [
      "/home/seb/anaconda3/lib/python3.7/site-packages/sklearn/ensemble/forest.py:246: FutureWarning: The default value of n_estimators will change from 10 in version 0.20 to 100 in 0.22.\n",
      "  \"10 in version 0.20 to 100 in 0.22.\", FutureWarning)\n"
     ]
    },
    {
     "name": "stdout",
     "output_type": "stream",
     "text": [
<<<<<<< HEAD
      "accuracy: 0.4403292181069959\n",
      "predicted class counts: Counter({1: 156, 0: 71, -1: 16})\n",
      "training 170 out of 500\n",
      "Data spread:  Counter({'1': 497, '0': 318, '-1': 155})\n"
=======
      "accuracy: 0.43137254901960786\n",
      "predicted class counts: Counter({1: 200, 0: 77, -1: 29})\n",
      "training 170 out of 500\n",
      "Data spread:  Counter({'1': 604, '0': 395, '-1': 225})\n"
>>>>>>> f5732e50df470a54703b3c767973179f753873af
     ]
    },
    {
     "name": "stderr",
     "output_type": "stream",
     "text": [
      "/home/seb/anaconda3/lib/python3.7/site-packages/sklearn/ensemble/forest.py:246: FutureWarning: The default value of n_estimators will change from 10 in version 0.20 to 100 in 0.22.\n",
      "  \"10 in version 0.20 to 100 in 0.22.\", FutureWarning)\n"
     ]
    },
    {
     "name": "stdout",
     "output_type": "stream",
     "text": [
<<<<<<< HEAD
      "accuracy: 0.49382716049382713\n",
      "predicted class counts: Counter({1: 157, 0: 73, -1: 13})\n",
      "Data spread:  Counter({'1': 497, '0': 318, '-1': 155})\n"
=======
      "accuracy: 0.4084967320261438\n",
      "predicted class counts: Counter({1: 191, 0: 81, -1: 34})\n",
      "Data spread:  Counter({'1': 604, '0': 395, '-1': 225})\n"
>>>>>>> f5732e50df470a54703b3c767973179f753873af
     ]
    },
    {
     "name": "stderr",
     "output_type": "stream",
     "text": [
      "/home/seb/anaconda3/lib/python3.7/site-packages/sklearn/ensemble/forest.py:246: FutureWarning: The default value of n_estimators will change from 10 in version 0.20 to 100 in 0.22.\n",
      "  \"10 in version 0.20 to 100 in 0.22.\", FutureWarning)\n"
     ]
    },
    {
     "name": "stdout",
     "output_type": "stream",
     "text": [
<<<<<<< HEAD
      "accuracy: 0.4609053497942387\n",
      "predicted class counts: Counter({1: 142, 0: 88, -1: 13})\n",
      "Data spread:  Counter({'1': 497, '0': 318, '-1': 155})\n"
=======
      "accuracy: 0.45098039215686275\n",
      "predicted class counts: Counter({1: 206, 0: 84, -1: 16})\n",
      "Data spread:  Counter({'1': 604, '0': 395, '-1': 225})\n"
>>>>>>> f5732e50df470a54703b3c767973179f753873af
     ]
    },
    {
     "name": "stderr",
     "output_type": "stream",
     "text": [
      "/home/seb/anaconda3/lib/python3.7/site-packages/sklearn/ensemble/forest.py:246: FutureWarning: The default value of n_estimators will change from 10 in version 0.20 to 100 in 0.22.\n",
      "  \"10 in version 0.20 to 100 in 0.22.\", FutureWarning)\n"
     ]
    },
    {
     "name": "stdout",
     "output_type": "stream",
     "text": [
<<<<<<< HEAD
      "accuracy: 0.4444444444444444\n",
      "predicted class counts: Counter({1: 153, 0: 66, -1: 24})\n",
      "Data spread:  Counter({'1': 497, '0': 318, '-1': 155})\n"
=======
      "accuracy: 0.46405228758169936\n",
      "predicted class counts: Counter({1: 181, 0: 88, -1: 37})\n",
      "Data spread:  Counter({'1': 604, '0': 395, '-1': 225})\n"
>>>>>>> f5732e50df470a54703b3c767973179f753873af
     ]
    },
    {
     "name": "stderr",
     "output_type": "stream",
     "text": [
      "/home/seb/anaconda3/lib/python3.7/site-packages/sklearn/ensemble/forest.py:246: FutureWarning: The default value of n_estimators will change from 10 in version 0.20 to 100 in 0.22.\n",
      "  \"10 in version 0.20 to 100 in 0.22.\", FutureWarning)\n"
     ]
    },
    {
     "name": "stdout",
     "output_type": "stream",
     "text": [
<<<<<<< HEAD
      "accuracy: 0.41975308641975306\n",
      "predicted class counts: Counter({1: 185, 0: 42, -1: 16})\n",
      "Data spread:  Counter({'1': 497, '0': 318, '-1': 155})\n"
=======
      "accuracy: 0.434640522875817\n",
      "predicted class counts: Counter({1: 154, 0: 119, -1: 33})\n",
      "Data spread:  Counter({'1': 604, '0': 395, '-1': 225})\n"
>>>>>>> f5732e50df470a54703b3c767973179f753873af
     ]
    },
    {
     "name": "stderr",
     "output_type": "stream",
     "text": [
      "/home/seb/anaconda3/lib/python3.7/site-packages/sklearn/ensemble/forest.py:246: FutureWarning: The default value of n_estimators will change from 10 in version 0.20 to 100 in 0.22.\n",
      "  \"10 in version 0.20 to 100 in 0.22.\", FutureWarning)\n"
     ]
    },
    {
     "name": "stdout",
     "output_type": "stream",
     "text": [
<<<<<<< HEAD
      "accuracy: 0.4279835390946502\n",
      "predicted class counts: Counter({1: 152, 0: 76, -1: 15})\n",
      "training 175 out of 500\n",
      "Data spread:  Counter({'1': 497, '0': 318, '-1': 155})\n"
=======
      "accuracy: 0.4477124183006536\n",
      "predicted class counts: Counter({1: 219, 0: 69, -1: 18})\n",
      "training 175 out of 500\n",
      "Data spread:  Counter({'1': 604, '0': 395, '-1': 225})\n"
>>>>>>> f5732e50df470a54703b3c767973179f753873af
     ]
    },
    {
     "name": "stderr",
     "output_type": "stream",
     "text": [
      "/home/seb/anaconda3/lib/python3.7/site-packages/sklearn/ensemble/forest.py:246: FutureWarning: The default value of n_estimators will change from 10 in version 0.20 to 100 in 0.22.\n",
      "  \"10 in version 0.20 to 100 in 0.22.\", FutureWarning)\n"
     ]
    },
    {
     "name": "stdout",
     "output_type": "stream",
     "text": [
<<<<<<< HEAD
      "accuracy: 0.4444444444444444\n",
      "predicted class counts: Counter({1: 159, 0: 63, -1: 21})\n",
      "Data spread:  Counter({'1': 497, '0': 318, '-1': 155})\n"
=======
      "accuracy: 0.4542483660130719\n",
      "predicted class counts: Counter({1: 205, 0: 76, -1: 25})\n",
      "Data spread:  Counter({'1': 604, '0': 395, '-1': 225})\n"
>>>>>>> f5732e50df470a54703b3c767973179f753873af
     ]
    },
    {
     "name": "stderr",
     "output_type": "stream",
     "text": [
      "/home/seb/anaconda3/lib/python3.7/site-packages/sklearn/ensemble/forest.py:246: FutureWarning: The default value of n_estimators will change from 10 in version 0.20 to 100 in 0.22.\n",
      "  \"10 in version 0.20 to 100 in 0.22.\", FutureWarning)\n"
     ]
    },
    {
     "name": "stdout",
     "output_type": "stream",
     "text": [
<<<<<<< HEAD
      "accuracy: 0.448559670781893\n",
      "predicted class counts: Counter({1: 153, 0: 78, -1: 12})\n",
      "Data spread:  Counter({'1': 497, '0': 318, '-1': 155})\n"
=======
      "accuracy: 0.42483660130718953\n",
      "predicted class counts: Counter({1: 181, 0: 88, -1: 37})\n",
      "Data spread:  Counter({'1': 604, '0': 395, '-1': 225})\n"
>>>>>>> f5732e50df470a54703b3c767973179f753873af
     ]
    },
    {
     "name": "stderr",
     "output_type": "stream",
     "text": [
      "/home/seb/anaconda3/lib/python3.7/site-packages/sklearn/ensemble/forest.py:246: FutureWarning: The default value of n_estimators will change from 10 in version 0.20 to 100 in 0.22.\n",
      "  \"10 in version 0.20 to 100 in 0.22.\", FutureWarning)\n"
     ]
    },
    {
     "name": "stdout",
     "output_type": "stream",
     "text": [
<<<<<<< HEAD
      "accuracy: 0.42386831275720166\n",
      "predicted class counts: Counter({1: 136, 0: 82, -1: 25})\n",
      "Data spread:  Counter({'1': 497, '0': 318, '-1': 155})\n"
=======
      "accuracy: 0.4215686274509804\n",
      "predicted class counts: Counter({1: 191, 0: 88, -1: 27})\n",
      "Data spread:  Counter({'1': 604, '0': 395, '-1': 225})\n"
>>>>>>> f5732e50df470a54703b3c767973179f753873af
     ]
    },
    {
     "name": "stderr",
     "output_type": "stream",
     "text": [
      "/home/seb/anaconda3/lib/python3.7/site-packages/sklearn/ensemble/forest.py:246: FutureWarning: The default value of n_estimators will change from 10 in version 0.20 to 100 in 0.22.\n",
      "  \"10 in version 0.20 to 100 in 0.22.\", FutureWarning)\n"
     ]
    },
    {
     "name": "stdout",
     "output_type": "stream",
     "text": [
<<<<<<< HEAD
      "accuracy: 0.42386831275720166\n",
      "predicted class counts: Counter({1: 151, 0: 77, -1: 15})\n",
      "Data spread:  Counter({'1': 497, '0': 318, '-1': 155})\n"
=======
      "accuracy: 0.4215686274509804\n",
      "predicted class counts: Counter({1: 165, 0: 95, -1: 46})\n",
      "Data spread:  Counter({'1': 604, '0': 395, '-1': 225})\n"
>>>>>>> f5732e50df470a54703b3c767973179f753873af
     ]
    },
    {
     "name": "stderr",
     "output_type": "stream",
     "text": [
      "/home/seb/anaconda3/lib/python3.7/site-packages/sklearn/ensemble/forest.py:246: FutureWarning: The default value of n_estimators will change from 10 in version 0.20 to 100 in 0.22.\n",
      "  \"10 in version 0.20 to 100 in 0.22.\", FutureWarning)\n"
     ]
    },
    {
     "name": "stdout",
     "output_type": "stream",
     "text": [
<<<<<<< HEAD
      "accuracy: 0.3991769547325103\n",
      "predicted class counts: Counter({1: 164, 0: 66, -1: 13})\n",
      "training 180 out of 500\n",
      "Data spread:  Counter({'1': 497, '0': 318, '-1': 155})\n"
=======
      "accuracy: 0.4477124183006536\n",
      "predicted class counts: Counter({1: 199, 0: 75, -1: 32})\n",
      "training 180 out of 500\n",
      "Data spread:  Counter({'1': 604, '0': 395, '-1': 225})\n"
>>>>>>> f5732e50df470a54703b3c767973179f753873af
     ]
    },
    {
     "name": "stderr",
     "output_type": "stream",
     "text": [
      "/home/seb/anaconda3/lib/python3.7/site-packages/sklearn/ensemble/forest.py:246: FutureWarning: The default value of n_estimators will change from 10 in version 0.20 to 100 in 0.22.\n",
      "  \"10 in version 0.20 to 100 in 0.22.\", FutureWarning)\n"
     ]
    },
    {
     "name": "stdout",
     "output_type": "stream",
     "text": [
<<<<<<< HEAD
      "accuracy: 0.4403292181069959\n",
      "predicted class counts: Counter({1: 170, 0: 51, -1: 22})\n",
      "Data spread:  Counter({'1': 497, '0': 318, '-1': 155})\n"
=======
      "accuracy: 0.42483660130718953\n",
      "predicted class counts: Counter({1: 185, 0: 85, -1: 36})\n",
      "Data spread:  Counter({'1': 604, '0': 395, '-1': 225})\n"
>>>>>>> f5732e50df470a54703b3c767973179f753873af
     ]
    },
    {
     "name": "stderr",
     "output_type": "stream",
     "text": [
      "/home/seb/anaconda3/lib/python3.7/site-packages/sklearn/ensemble/forest.py:246: FutureWarning: The default value of n_estimators will change from 10 in version 0.20 to 100 in 0.22.\n",
      "  \"10 in version 0.20 to 100 in 0.22.\", FutureWarning)\n"
     ]
    },
    {
     "name": "stdout",
     "output_type": "stream",
     "text": [
<<<<<<< HEAD
      "accuracy: 0.46502057613168724\n",
      "predicted class counts: Counter({1: 169, 0: 57, -1: 17})\n",
      "Data spread:  Counter({'1': 497, '0': 318, '-1': 155})\n"
=======
      "accuracy: 0.46078431372549017\n",
      "predicted class counts: Counter({1: 173, 0: 101, -1: 32})\n",
      "Data spread:  Counter({'1': 604, '0': 395, '-1': 225})\n"
>>>>>>> f5732e50df470a54703b3c767973179f753873af
     ]
    },
    {
     "name": "stderr",
     "output_type": "stream",
     "text": [
      "/home/seb/anaconda3/lib/python3.7/site-packages/sklearn/ensemble/forest.py:246: FutureWarning: The default value of n_estimators will change from 10 in version 0.20 to 100 in 0.22.\n",
      "  \"10 in version 0.20 to 100 in 0.22.\", FutureWarning)\n"
     ]
    },
    {
     "name": "stdout",
     "output_type": "stream",
     "text": [
<<<<<<< HEAD
      "accuracy: 0.49794238683127573\n",
      "predicted class counts: Counter({1: 150, 0: 80, -1: 13})\n",
      "Data spread:  Counter({'1': 497, '0': 318, '-1': 155})\n"
=======
      "accuracy: 0.4411764705882353\n",
      "predicted class counts: Counter({1: 150, 0: 111, -1: 45})\n",
      "Data spread:  Counter({'1': 604, '0': 395, '-1': 225})\n"
>>>>>>> f5732e50df470a54703b3c767973179f753873af
     ]
    },
    {
     "name": "stderr",
     "output_type": "stream",
     "text": [
      "/home/seb/anaconda3/lib/python3.7/site-packages/sklearn/ensemble/forest.py:246: FutureWarning: The default value of n_estimators will change from 10 in version 0.20 to 100 in 0.22.\n",
      "  \"10 in version 0.20 to 100 in 0.22.\", FutureWarning)\n"
     ]
    },
    {
     "name": "stdout",
     "output_type": "stream",
     "text": [
<<<<<<< HEAD
      "accuracy: 0.43209876543209874\n",
      "predicted class counts: Counter({1: 182, 0: 55, -1: 6})\n",
      "Data spread:  Counter({'1': 497, '0': 318, '-1': 155})\n"
=======
      "accuracy: 0.4542483660130719\n",
      "predicted class counts: Counter({1: 179, 0: 88, -1: 39})\n",
      "Data spread:  Counter({'1': 604, '0': 395, '-1': 225})\n"
>>>>>>> f5732e50df470a54703b3c767973179f753873af
     ]
    },
    {
     "name": "stderr",
     "output_type": "stream",
     "text": [
      "/home/seb/anaconda3/lib/python3.7/site-packages/sklearn/ensemble/forest.py:246: FutureWarning: The default value of n_estimators will change from 10 in version 0.20 to 100 in 0.22.\n",
      "  \"10 in version 0.20 to 100 in 0.22.\", FutureWarning)\n"
     ]
    },
    {
     "name": "stdout",
     "output_type": "stream",
     "text": [
<<<<<<< HEAD
      "accuracy: 0.4279835390946502\n",
      "predicted class counts: Counter({1: 128, 0: 83, -1: 32})\n",
      "training 185 out of 500\n",
      "Data spread:  Counter({'1': 497, '0': 318, '-1': 155})\n"
=======
      "accuracy: 0.5065359477124183\n",
      "predicted class counts: Counter({1: 217, 0: 63, -1: 26})\n",
      "training 185 out of 500\n",
      "Data spread:  Counter({'1': 604, '0': 395, '-1': 225})\n"
>>>>>>> f5732e50df470a54703b3c767973179f753873af
     ]
    },
    {
     "name": "stderr",
     "output_type": "stream",
     "text": [
      "/home/seb/anaconda3/lib/python3.7/site-packages/sklearn/ensemble/forest.py:246: FutureWarning: The default value of n_estimators will change from 10 in version 0.20 to 100 in 0.22.\n",
      "  \"10 in version 0.20 to 100 in 0.22.\", FutureWarning)\n"
     ]
    },
    {
     "name": "stdout",
     "output_type": "stream",
     "text": [
<<<<<<< HEAD
      "accuracy: 0.4567901234567901\n",
      "predicted class counts: Counter({1: 147, 0: 82, -1: 14})\n",
      "Data spread:  Counter({'1': 497, '0': 318, '-1': 155})\n"
=======
      "accuracy: 0.4444444444444444\n",
      "predicted class counts: Counter({1: 173, 0: 98, -1: 35})\n",
      "Data spread:  Counter({'1': 604, '0': 395, '-1': 225})\n"
>>>>>>> f5732e50df470a54703b3c767973179f753873af
     ]
    },
    {
     "name": "stderr",
     "output_type": "stream",
     "text": [
      "/home/seb/anaconda3/lib/python3.7/site-packages/sklearn/ensemble/forest.py:246: FutureWarning: The default value of n_estimators will change from 10 in version 0.20 to 100 in 0.22.\n",
      "  \"10 in version 0.20 to 100 in 0.22.\", FutureWarning)\n"
     ]
    },
    {
     "name": "stdout",
     "output_type": "stream",
     "text": [
<<<<<<< HEAD
      "accuracy: 0.4773662551440329\n",
      "predicted class counts: Counter({1: 149, 0: 82, -1: 12})\n",
      "Data spread:  Counter({'1': 497, '0': 318, '-1': 155})\n"
=======
      "accuracy: 0.4803921568627451\n",
      "predicted class counts: Counter({1: 175, 0: 101, -1: 30})\n",
      "Data spread:  Counter({'1': 604, '0': 395, '-1': 225})\n"
>>>>>>> f5732e50df470a54703b3c767973179f753873af
     ]
    },
    {
     "name": "stderr",
     "output_type": "stream",
     "text": [
      "/home/seb/anaconda3/lib/python3.7/site-packages/sklearn/ensemble/forest.py:246: FutureWarning: The default value of n_estimators will change from 10 in version 0.20 to 100 in 0.22.\n",
      "  \"10 in version 0.20 to 100 in 0.22.\", FutureWarning)\n"
     ]
    },
    {
     "name": "stdout",
     "output_type": "stream",
     "text": [
<<<<<<< HEAD
      "accuracy: 0.448559670781893\n",
      "predicted class counts: Counter({1: 154, 0: 78, -1: 11})\n",
      "Data spread:  Counter({'1': 497, '0': 318, '-1': 155})\n"
=======
      "accuracy: 0.4803921568627451\n",
      "predicted class counts: Counter({1: 159, 0: 112, -1: 35})\n",
      "Data spread:  Counter({'1': 604, '0': 395, '-1': 225})\n"
>>>>>>> f5732e50df470a54703b3c767973179f753873af
     ]
    },
    {
     "name": "stderr",
     "output_type": "stream",
     "text": [
      "/home/seb/anaconda3/lib/python3.7/site-packages/sklearn/ensemble/forest.py:246: FutureWarning: The default value of n_estimators will change from 10 in version 0.20 to 100 in 0.22.\n",
      "  \"10 in version 0.20 to 100 in 0.22.\", FutureWarning)\n"
     ]
    },
    {
     "name": "stdout",
     "output_type": "stream",
     "text": [
<<<<<<< HEAD
      "accuracy: 0.4444444444444444\n",
      "predicted class counts: Counter({1: 151, 0: 81, -1: 11})\n",
      "Data spread:  Counter({'1': 497, '0': 318, '-1': 155})\n"
=======
      "accuracy: 0.48366013071895425\n",
      "predicted class counts: Counter({1: 180, 0: 103, -1: 23})\n",
      "Data spread:  Counter({'1': 604, '0': 395, '-1': 225})\n"
>>>>>>> f5732e50df470a54703b3c767973179f753873af
     ]
    },
    {
     "name": "stderr",
     "output_type": "stream",
     "text": [
      "/home/seb/anaconda3/lib/python3.7/site-packages/sklearn/ensemble/forest.py:246: FutureWarning: The default value of n_estimators will change from 10 in version 0.20 to 100 in 0.22.\n",
      "  \"10 in version 0.20 to 100 in 0.22.\", FutureWarning)\n"
     ]
    },
    {
     "name": "stdout",
     "output_type": "stream",
     "text": [
<<<<<<< HEAD
      "accuracy: 0.4444444444444444\n",
      "predicted class counts: Counter({1: 143, 0: 78, -1: 22})\n",
      "training 190 out of 500\n",
      "Data spread:  Counter({'1': 497, '0': 318, '-1': 155})\n"
=======
      "accuracy: 0.41830065359477125\n",
      "predicted class counts: Counter({1: 223, 0: 65, -1: 18})\n",
      "training 190 out of 500\n",
      "Data spread:  Counter({'1': 604, '0': 395, '-1': 225})\n"
>>>>>>> f5732e50df470a54703b3c767973179f753873af
     ]
    },
    {
     "name": "stderr",
     "output_type": "stream",
     "text": [
      "/home/seb/anaconda3/lib/python3.7/site-packages/sklearn/ensemble/forest.py:246: FutureWarning: The default value of n_estimators will change from 10 in version 0.20 to 100 in 0.22.\n",
      "  \"10 in version 0.20 to 100 in 0.22.\", FutureWarning)\n"
     ]
    },
    {
     "name": "stdout",
     "output_type": "stream",
     "text": [
<<<<<<< HEAD
      "accuracy: 0.4609053497942387\n",
      "predicted class counts: Counter({1: 153, 0: 74, -1: 16})\n",
      "Data spread:  Counter({'1': 497, '0': 318, '-1': 155})\n"
=======
      "accuracy: 0.45098039215686275\n",
      "predicted class counts: Counter({1: 217, 0: 63, -1: 26})\n",
      "Data spread:  Counter({'1': 604, '0': 395, '-1': 225})\n"
>>>>>>> f5732e50df470a54703b3c767973179f753873af
     ]
    },
    {
     "name": "stderr",
     "output_type": "stream",
     "text": [
      "/home/seb/anaconda3/lib/python3.7/site-packages/sklearn/ensemble/forest.py:246: FutureWarning: The default value of n_estimators will change from 10 in version 0.20 to 100 in 0.22.\n",
      "  \"10 in version 0.20 to 100 in 0.22.\", FutureWarning)\n"
     ]
    },
    {
     "name": "stdout",
     "output_type": "stream",
     "text": [
<<<<<<< HEAD
      "accuracy: 0.5020576131687243\n",
      "predicted class counts: Counter({1: 158, 0: 65, -1: 20})\n",
      "Data spread:  Counter({'1': 497, '0': 318, '-1': 155})\n"
=======
      "accuracy: 0.45751633986928103\n",
      "predicted class counts: Counter({1: 166, 0: 100, -1: 40})\n",
      "Data spread:  Counter({'1': 604, '0': 395, '-1': 225})\n"
>>>>>>> f5732e50df470a54703b3c767973179f753873af
     ]
    },
    {
     "name": "stderr",
     "output_type": "stream",
     "text": [
      "/home/seb/anaconda3/lib/python3.7/site-packages/sklearn/ensemble/forest.py:246: FutureWarning: The default value of n_estimators will change from 10 in version 0.20 to 100 in 0.22.\n",
      "  \"10 in version 0.20 to 100 in 0.22.\", FutureWarning)\n"
     ]
    },
    {
     "name": "stdout",
     "output_type": "stream",
     "text": [
<<<<<<< HEAD
      "accuracy: 0.45267489711934156\n",
      "predicted class counts: Counter({1: 150, 0: 70, -1: 23})\n",
      "Data spread:  Counter({'1': 497, '0': 318, '-1': 155})\n"
=======
      "accuracy: 0.477124183006536\n",
      "predicted class counts: Counter({1: 170, 0: 109, -1: 27})\n",
      "Data spread:  Counter({'1': 604, '0': 395, '-1': 225})\n"
>>>>>>> f5732e50df470a54703b3c767973179f753873af
     ]
    },
    {
     "name": "stderr",
     "output_type": "stream",
     "text": [
      "/home/seb/anaconda3/lib/python3.7/site-packages/sklearn/ensemble/forest.py:246: FutureWarning: The default value of n_estimators will change from 10 in version 0.20 to 100 in 0.22.\n",
      "  \"10 in version 0.20 to 100 in 0.22.\", FutureWarning)\n"
     ]
    },
    {
     "name": "stdout",
     "output_type": "stream",
     "text": [
<<<<<<< HEAD
      "accuracy: 0.4403292181069959\n",
      "predicted class counts: Counter({1: 174, 0: 58, -1: 11})\n",
      "Data spread:  Counter({'1': 497, '0': 318, '-1': 155})\n"
=======
      "accuracy: 0.40522875816993464\n",
      "predicted class counts: Counter({1: 191, 0: 82, -1: 33})\n",
      "Data spread:  Counter({'1': 604, '0': 395, '-1': 225})\n"
>>>>>>> f5732e50df470a54703b3c767973179f753873af
     ]
    },
    {
     "name": "stderr",
     "output_type": "stream",
     "text": [
      "/home/seb/anaconda3/lib/python3.7/site-packages/sklearn/ensemble/forest.py:246: FutureWarning: The default value of n_estimators will change from 10 in version 0.20 to 100 in 0.22.\n",
      "  \"10 in version 0.20 to 100 in 0.22.\", FutureWarning)\n"
     ]
    },
    {
     "name": "stdout",
     "output_type": "stream",
     "text": [
<<<<<<< HEAD
      "accuracy: 0.4691358024691358\n",
      "predicted class counts: Counter({1: 144, 0: 67, -1: 32})\n",
      "training 195 out of 500\n",
      "Data spread:  Counter({'1': 497, '0': 318, '-1': 155})\n"
=======
      "accuracy: 0.45751633986928103\n",
      "predicted class counts: Counter({1: 199, 0: 77, -1: 30})\n",
      "training 195 out of 500\n",
      "Data spread:  Counter({'1': 604, '0': 395, '-1': 225})\n"
>>>>>>> f5732e50df470a54703b3c767973179f753873af
     ]
    },
    {
     "name": "stderr",
     "output_type": "stream",
     "text": [
      "/home/seb/anaconda3/lib/python3.7/site-packages/sklearn/ensemble/forest.py:246: FutureWarning: The default value of n_estimators will change from 10 in version 0.20 to 100 in 0.22.\n",
      "  \"10 in version 0.20 to 100 in 0.22.\", FutureWarning)\n"
     ]
    },
    {
     "name": "stdout",
     "output_type": "stream",
     "text": [
<<<<<<< HEAD
      "accuracy: 0.4156378600823045\n",
      "predicted class counts: Counter({1: 142, 0: 81, -1: 20})\n",
      "Data spread:  Counter({'1': 497, '0': 318, '-1': 155})\n"
=======
      "accuracy: 0.4477124183006536\n",
      "predicted class counts: Counter({1: 214, 0: 70, -1: 22})\n",
      "Data spread:  Counter({'1': 604, '0': 395, '-1': 225})\n"
>>>>>>> f5732e50df470a54703b3c767973179f753873af
     ]
    },
    {
     "name": "stderr",
     "output_type": "stream",
     "text": [
      "/home/seb/anaconda3/lib/python3.7/site-packages/sklearn/ensemble/forest.py:246: FutureWarning: The default value of n_estimators will change from 10 in version 0.20 to 100 in 0.22.\n",
      "  \"10 in version 0.20 to 100 in 0.22.\", FutureWarning)\n"
     ]
    },
    {
     "name": "stdout",
     "output_type": "stream",
     "text": [
<<<<<<< HEAD
      "accuracy: 0.48559670781893005\n",
      "predicted class counts: Counter({1: 178, 0: 46, -1: 19})\n",
      "Data spread:  Counter({'1': 497, '0': 318, '-1': 155})\n"
=======
      "accuracy: 0.4215686274509804\n",
      "predicted class counts: Counter({1: 218, 0: 61, -1: 27})\n",
      "Data spread:  Counter({'1': 604, '0': 395, '-1': 225})\n"
>>>>>>> f5732e50df470a54703b3c767973179f753873af
     ]
    },
    {
     "name": "stderr",
     "output_type": "stream",
     "text": [
      "/home/seb/anaconda3/lib/python3.7/site-packages/sklearn/ensemble/forest.py:246: FutureWarning: The default value of n_estimators will change from 10 in version 0.20 to 100 in 0.22.\n",
      "  \"10 in version 0.20 to 100 in 0.22.\", FutureWarning)\n"
     ]
    },
    {
     "name": "stdout",
     "output_type": "stream",
     "text": [
<<<<<<< HEAD
      "accuracy: 0.4444444444444444\n",
      "predicted class counts: Counter({1: 148, 0: 81, -1: 14})\n",
      "Data spread:  Counter({'1': 497, '0': 318, '-1': 155})\n"
=======
      "accuracy: 0.4215686274509804\n",
      "predicted class counts: Counter({1: 150, 0: 122, -1: 34})\n",
      "Data spread:  Counter({'1': 604, '0': 395, '-1': 225})\n"
>>>>>>> f5732e50df470a54703b3c767973179f753873af
     ]
    },
    {
     "name": "stderr",
     "output_type": "stream",
     "text": [
      "/home/seb/anaconda3/lib/python3.7/site-packages/sklearn/ensemble/forest.py:246: FutureWarning: The default value of n_estimators will change from 10 in version 0.20 to 100 in 0.22.\n",
      "  \"10 in version 0.20 to 100 in 0.22.\", FutureWarning)\n"
     ]
    },
    {
     "name": "stdout",
     "output_type": "stream",
     "text": [
<<<<<<< HEAD
      "accuracy: 0.4403292181069959\n",
      "predicted class counts: Counter({1: 146, 0: 80, -1: 17})\n",
      "Data spread:  Counter({'1': 497, '0': 318, '-1': 155})\n"
=======
      "accuracy: 0.39869281045751637\n",
      "predicted class counts: Counter({1: 193, 0: 93, -1: 20})\n",
      "Data spread:  Counter({'1': 604, '0': 395, '-1': 225})\n"
>>>>>>> f5732e50df470a54703b3c767973179f753873af
     ]
    },
    {
     "name": "stderr",
     "output_type": "stream",
     "text": [
      "/home/seb/anaconda3/lib/python3.7/site-packages/sklearn/ensemble/forest.py:246: FutureWarning: The default value of n_estimators will change from 10 in version 0.20 to 100 in 0.22.\n",
      "  \"10 in version 0.20 to 100 in 0.22.\", FutureWarning)\n"
     ]
    },
    {
     "name": "stdout",
     "output_type": "stream",
     "text": [
<<<<<<< HEAD
      "accuracy: 0.4567901234567901\n",
      "predicted class counts: Counter({1: 155, 0: 65, -1: 23})\n",
      "training 200 out of 500\n",
      "Data spread:  Counter({'1': 497, '0': 318, '-1': 155})\n"
=======
      "accuracy: 0.41830065359477125\n",
      "predicted class counts: Counter({1: 195, 0: 79, -1: 32})\n",
      "training 200 out of 500\n",
      "Data spread:  Counter({'1': 604, '0': 395, '-1': 225})\n"
>>>>>>> f5732e50df470a54703b3c767973179f753873af
     ]
    },
    {
     "name": "stderr",
     "output_type": "stream",
     "text": [
      "/home/seb/anaconda3/lib/python3.7/site-packages/sklearn/ensemble/forest.py:246: FutureWarning: The default value of n_estimators will change from 10 in version 0.20 to 100 in 0.22.\n",
      "  \"10 in version 0.20 to 100 in 0.22.\", FutureWarning)\n"
     ]
    },
    {
     "name": "stdout",
     "output_type": "stream",
     "text": [
<<<<<<< HEAD
      "accuracy: 0.4732510288065844\n",
      "predicted class counts: Counter({1: 162, 0: 65, -1: 16})\n",
      "Data spread:  Counter({'1': 497, '0': 318, '-1': 155})\n"
=======
      "accuracy: 0.45751633986928103\n",
      "predicted class counts: Counter({1: 182, 0: 88, -1: 36})\n",
      "Data spread:  Counter({'1': 604, '0': 395, '-1': 225})\n"
>>>>>>> f5732e50df470a54703b3c767973179f753873af
     ]
    },
    {
     "name": "stderr",
     "output_type": "stream",
     "text": [
      "/home/seb/anaconda3/lib/python3.7/site-packages/sklearn/ensemble/forest.py:246: FutureWarning: The default value of n_estimators will change from 10 in version 0.20 to 100 in 0.22.\n",
      "  \"10 in version 0.20 to 100 in 0.22.\", FutureWarning)\n"
     ]
    },
    {
     "name": "stdout",
     "output_type": "stream",
     "text": [
<<<<<<< HEAD
      "accuracy: 0.4403292181069959\n",
      "predicted class counts: Counter({1: 155, 0: 57, -1: 31})\n",
      "Data spread:  Counter({'1': 497, '0': 318, '-1': 155})\n"
=======
      "accuracy: 0.38562091503267976\n",
      "predicted class counts: Counter({1: 140, 0: 136, -1: 30})\n",
      "Data spread:  Counter({'1': 604, '0': 395, '-1': 225})\n"
>>>>>>> f5732e50df470a54703b3c767973179f753873af
     ]
    },
    {
     "name": "stderr",
     "output_type": "stream",
     "text": [
      "/home/seb/anaconda3/lib/python3.7/site-packages/sklearn/ensemble/forest.py:246: FutureWarning: The default value of n_estimators will change from 10 in version 0.20 to 100 in 0.22.\n",
      "  \"10 in version 0.20 to 100 in 0.22.\", FutureWarning)\n"
     ]
    },
    {
     "name": "stdout",
     "output_type": "stream",
     "text": [
<<<<<<< HEAD
      "accuracy: 0.49382716049382713\n",
      "predicted class counts: Counter({1: 158, 0: 71, -1: 14})\n",
      "Data spread:  Counter({'1': 497, '0': 318, '-1': 155})\n"
=======
      "accuracy: 0.4542483660130719\n",
      "predicted class counts: Counter({1: 198, 0: 72, -1: 36})\n",
      "Data spread:  Counter({'1': 604, '0': 395, '-1': 225})\n"
>>>>>>> f5732e50df470a54703b3c767973179f753873af
     ]
    },
    {
     "name": "stderr",
     "output_type": "stream",
     "text": [
      "/home/seb/anaconda3/lib/python3.7/site-packages/sklearn/ensemble/forest.py:246: FutureWarning: The default value of n_estimators will change from 10 in version 0.20 to 100 in 0.22.\n",
      "  \"10 in version 0.20 to 100 in 0.22.\", FutureWarning)\n"
     ]
    },
    {
     "name": "stdout",
     "output_type": "stream",
     "text": [
<<<<<<< HEAD
      "accuracy: 0.3991769547325103\n",
      "predicted class counts: Counter({1: 140, 0: 75, -1: 28})\n",
      "Data spread:  Counter({'1': 497, '0': 318, '-1': 155})\n"
=======
      "accuracy: 0.42810457516339867\n",
      "predicted class counts: Counter({1: 184, 0: 97, -1: 25})\n",
      "Data spread:  Counter({'1': 604, '0': 395, '-1': 225})\n"
>>>>>>> f5732e50df470a54703b3c767973179f753873af
     ]
    },
    {
     "name": "stderr",
     "output_type": "stream",
     "text": [
      "/home/seb/anaconda3/lib/python3.7/site-packages/sklearn/ensemble/forest.py:246: FutureWarning: The default value of n_estimators will change from 10 in version 0.20 to 100 in 0.22.\n",
      "  \"10 in version 0.20 to 100 in 0.22.\", FutureWarning)\n"
     ]
    },
    {
     "name": "stdout",
     "output_type": "stream",
     "text": [
<<<<<<< HEAD
      "accuracy: 0.49382716049382713\n",
      "predicted class counts: Counter({1: 142, 0: 82, -1: 19})\n",
      "training 205 out of 500\n",
      "Data spread:  Counter({'1': 497, '0': 318, '-1': 155})\n"
=======
      "accuracy: 0.43790849673202614\n",
      "predicted class counts: Counter({1: 181, 0: 96, -1: 29})\n",
      "training 205 out of 500\n",
      "Data spread:  Counter({'1': 604, '0': 395, '-1': 225})\n"
>>>>>>> f5732e50df470a54703b3c767973179f753873af
     ]
    },
    {
     "name": "stderr",
     "output_type": "stream",
     "text": [
      "/home/seb/anaconda3/lib/python3.7/site-packages/sklearn/ensemble/forest.py:246: FutureWarning: The default value of n_estimators will change from 10 in version 0.20 to 100 in 0.22.\n",
      "  \"10 in version 0.20 to 100 in 0.22.\", FutureWarning)\n"
     ]
    },
    {
     "name": "stdout",
     "output_type": "stream",
     "text": [
<<<<<<< HEAD
      "accuracy: 0.4444444444444444\n",
      "predicted class counts: Counter({1: 150, 0: 75, -1: 18})\n",
      "Data spread:  Counter({'1': 497, '0': 318, '-1': 155})\n"
=======
      "accuracy: 0.39869281045751637\n",
      "predicted class counts: Counter({1: 207, 0: 81, -1: 18})\n",
      "Data spread:  Counter({'1': 604, '0': 395, '-1': 225})\n"
>>>>>>> f5732e50df470a54703b3c767973179f753873af
     ]
    },
    {
     "name": "stderr",
     "output_type": "stream",
     "text": [
      "/home/seb/anaconda3/lib/python3.7/site-packages/sklearn/ensemble/forest.py:246: FutureWarning: The default value of n_estimators will change from 10 in version 0.20 to 100 in 0.22.\n",
      "  \"10 in version 0.20 to 100 in 0.22.\", FutureWarning)\n"
     ]
    },
    {
     "name": "stdout",
     "output_type": "stream",
     "text": [
<<<<<<< HEAD
      "accuracy: 0.4403292181069959\n",
      "predicted class counts: Counter({1: 164, 0: 50, -1: 29})\n",
      "Data spread:  Counter({'1': 497, '0': 318, '-1': 155})\n"
=======
      "accuracy: 0.4150326797385621\n",
      "predicted class counts: Counter({1: 193, 0: 89, -1: 24})\n",
      "Data spread:  Counter({'1': 604, '0': 395, '-1': 225})\n"
>>>>>>> f5732e50df470a54703b3c767973179f753873af
     ]
    },
    {
     "name": "stderr",
     "output_type": "stream",
     "text": [
      "/home/seb/anaconda3/lib/python3.7/site-packages/sklearn/ensemble/forest.py:246: FutureWarning: The default value of n_estimators will change from 10 in version 0.20 to 100 in 0.22.\n",
      "  \"10 in version 0.20 to 100 in 0.22.\", FutureWarning)\n"
     ]
    },
    {
     "name": "stdout",
     "output_type": "stream",
     "text": [
<<<<<<< HEAD
      "accuracy: 0.448559670781893\n",
      "predicted class counts: Counter({1: 142, 0: 82, -1: 19})\n",
      "Data spread:  Counter({'1': 497, '0': 318, '-1': 155})\n"
=======
      "accuracy: 0.4117647058823529\n",
      "predicted class counts: Counter({1: 161, 0: 122, -1: 23})\n",
      "Data spread:  Counter({'1': 604, '0': 395, '-1': 225})\n"
>>>>>>> f5732e50df470a54703b3c767973179f753873af
     ]
    },
    {
     "name": "stderr",
     "output_type": "stream",
     "text": [
      "/home/seb/anaconda3/lib/python3.7/site-packages/sklearn/ensemble/forest.py:246: FutureWarning: The default value of n_estimators will change from 10 in version 0.20 to 100 in 0.22.\n",
      "  \"10 in version 0.20 to 100 in 0.22.\", FutureWarning)\n"
     ]
    },
    {
     "name": "stdout",
     "output_type": "stream",
     "text": [
<<<<<<< HEAD
      "accuracy: 0.3950617283950617\n",
      "predicted class counts: Counter({1: 140, 0: 80, -1: 23})\n",
      "Data spread:  Counter({'1': 497, '0': 318, '-1': 155})\n"
=======
      "accuracy: 0.4150326797385621\n",
      "predicted class counts: Counter({1: 202, 0: 79, -1: 25})\n",
      "Data spread:  Counter({'1': 604, '0': 395, '-1': 225})\n"
>>>>>>> f5732e50df470a54703b3c767973179f753873af
     ]
    },
    {
     "name": "stderr",
     "output_type": "stream",
     "text": [
      "/home/seb/anaconda3/lib/python3.7/site-packages/sklearn/ensemble/forest.py:246: FutureWarning: The default value of n_estimators will change from 10 in version 0.20 to 100 in 0.22.\n",
      "  \"10 in version 0.20 to 100 in 0.22.\", FutureWarning)\n"
     ]
    },
    {
     "name": "stdout",
     "output_type": "stream",
     "text": [
<<<<<<< HEAD
      "accuracy: 0.4732510288065844\n",
      "predicted class counts: Counter({1: 162, 0: 70, -1: 11})\n",
      "training 210 out of 500\n",
      "Data spread:  Counter({'1': 497, '0': 318, '-1': 155})\n"
=======
      "accuracy: 0.42483660130718953\n",
      "predicted class counts: Counter({1: 162, 0: 118, -1: 26})\n",
      "training 210 out of 500\n",
      "Data spread:  Counter({'1': 604, '0': 395, '-1': 225})\n"
>>>>>>> f5732e50df470a54703b3c767973179f753873af
     ]
    },
    {
     "name": "stderr",
     "output_type": "stream",
     "text": [
      "/home/seb/anaconda3/lib/python3.7/site-packages/sklearn/ensemble/forest.py:246: FutureWarning: The default value of n_estimators will change from 10 in version 0.20 to 100 in 0.22.\n",
      "  \"10 in version 0.20 to 100 in 0.22.\", FutureWarning)\n"
     ]
    },
    {
     "name": "stdout",
     "output_type": "stream",
     "text": [
<<<<<<< HEAD
      "accuracy: 0.43621399176954734\n",
      "predicted class counts: Counter({1: 159, 0: 73, -1: 11})\n",
      "Data spread:  Counter({'1': 497, '0': 318, '-1': 155})\n"
=======
      "accuracy: 0.4869281045751634\n",
      "predicted class counts: Counter({1: 192, 0: 86, -1: 28})\n",
      "Data spread:  Counter({'1': 604, '0': 395, '-1': 225})\n"
>>>>>>> f5732e50df470a54703b3c767973179f753873af
     ]
    },
    {
     "name": "stderr",
     "output_type": "stream",
     "text": [
      "/home/seb/anaconda3/lib/python3.7/site-packages/sklearn/ensemble/forest.py:246: FutureWarning: The default value of n_estimators will change from 10 in version 0.20 to 100 in 0.22.\n",
      "  \"10 in version 0.20 to 100 in 0.22.\", FutureWarning)\n"
     ]
    },
    {
     "name": "stdout",
     "output_type": "stream",
     "text": [
<<<<<<< HEAD
      "accuracy: 0.4444444444444444\n",
      "predicted class counts: Counter({1: 154, 0: 70, -1: 19})\n",
      "Data spread:  Counter({'1': 497, '0': 318, '-1': 155})\n"
=======
      "accuracy: 0.40522875816993464\n",
      "predicted class counts: Counter({1: 189, 0: 85, -1: 32})\n",
      "Data spread:  Counter({'1': 604, '0': 395, '-1': 225})\n"
>>>>>>> f5732e50df470a54703b3c767973179f753873af
     ]
    },
    {
     "name": "stderr",
     "output_type": "stream",
     "text": [
      "/home/seb/anaconda3/lib/python3.7/site-packages/sklearn/ensemble/forest.py:246: FutureWarning: The default value of n_estimators will change from 10 in version 0.20 to 100 in 0.22.\n",
      "  \"10 in version 0.20 to 100 in 0.22.\", FutureWarning)\n"
     ]
    },
    {
     "name": "stdout",
     "output_type": "stream",
     "text": [
<<<<<<< HEAD
      "accuracy: 0.43209876543209874\n",
      "predicted class counts: Counter({1: 159, 0: 63, -1: 21})\n",
      "Data spread:  Counter({'1': 497, '0': 318, '-1': 155})\n"
=======
      "accuracy: 0.4215686274509804\n",
      "predicted class counts: Counter({1: 171, 0: 109, -1: 26})\n",
      "Data spread:  Counter({'1': 604, '0': 395, '-1': 225})\n"
>>>>>>> f5732e50df470a54703b3c767973179f753873af
     ]
    },
    {
     "name": "stderr",
     "output_type": "stream",
     "text": [
      "/home/seb/anaconda3/lib/python3.7/site-packages/sklearn/ensemble/forest.py:246: FutureWarning: The default value of n_estimators will change from 10 in version 0.20 to 100 in 0.22.\n",
      "  \"10 in version 0.20 to 100 in 0.22.\", FutureWarning)\n"
     ]
    },
    {
     "name": "stdout",
     "output_type": "stream",
     "text": [
<<<<<<< HEAD
      "accuracy: 0.42386831275720166\n",
      "predicted class counts: Counter({1: 143, 0: 86, -1: 14})\n",
      "Data spread:  Counter({'1': 497, '0': 318, '-1': 155})\n"
=======
      "accuracy: 0.4934640522875817\n",
      "predicted class counts: Counter({1: 169, 0: 98, -1: 39})\n",
      "Data spread:  Counter({'1': 604, '0': 395, '-1': 225})\n"
>>>>>>> f5732e50df470a54703b3c767973179f753873af
     ]
    },
    {
     "name": "stderr",
     "output_type": "stream",
     "text": [
      "/home/seb/anaconda3/lib/python3.7/site-packages/sklearn/ensemble/forest.py:246: FutureWarning: The default value of n_estimators will change from 10 in version 0.20 to 100 in 0.22.\n",
      "  \"10 in version 0.20 to 100 in 0.22.\", FutureWarning)\n"
     ]
    },
    {
     "name": "stdout",
     "output_type": "stream",
     "text": [
<<<<<<< HEAD
      "accuracy: 0.4691358024691358\n",
      "predicted class counts: Counter({1: 142, 0: 82, -1: 19})\n",
      "training 215 out of 500\n",
      "Data spread:  Counter({'1': 497, '0': 318, '-1': 155})\n"
=======
      "accuracy: 0.4150326797385621\n",
      "predicted class counts: Counter({1: 172, 0: 85, -1: 49})\n",
      "training 215 out of 500\n",
      "Data spread:  Counter({'1': 604, '0': 395, '-1': 225})\n"
>>>>>>> f5732e50df470a54703b3c767973179f753873af
     ]
    },
    {
     "name": "stderr",
     "output_type": "stream",
     "text": [
      "/home/seb/anaconda3/lib/python3.7/site-packages/sklearn/ensemble/forest.py:246: FutureWarning: The default value of n_estimators will change from 10 in version 0.20 to 100 in 0.22.\n",
      "  \"10 in version 0.20 to 100 in 0.22.\", FutureWarning)\n"
     ]
    },
    {
     "name": "stdout",
     "output_type": "stream",
     "text": [
<<<<<<< HEAD
      "accuracy: 0.4773662551440329\n",
      "predicted class counts: Counter({1: 171, 0: 65, -1: 7})\n",
      "Data spread:  Counter({'1': 497, '0': 318, '-1': 155})\n"
=======
      "accuracy: 0.47058823529411764\n",
      "predicted class counts: Counter({1: 195, 0: 84, -1: 27})\n",
      "Data spread:  Counter({'1': 604, '0': 395, '-1': 225})\n"
>>>>>>> f5732e50df470a54703b3c767973179f753873af
     ]
    },
    {
     "name": "stderr",
     "output_type": "stream",
     "text": [
      "/home/seb/anaconda3/lib/python3.7/site-packages/sklearn/ensemble/forest.py:246: FutureWarning: The default value of n_estimators will change from 10 in version 0.20 to 100 in 0.22.\n",
      "  \"10 in version 0.20 to 100 in 0.22.\", FutureWarning)\n"
     ]
    },
    {
     "name": "stdout",
     "output_type": "stream",
     "text": [
<<<<<<< HEAD
      "accuracy: 0.411522633744856\n",
      "predicted class counts: Counter({1: 142, 0: 77, -1: 24})\n",
      "Data spread:  Counter({'1': 497, '0': 318, '-1': 155})\n"
=======
      "accuracy: 0.3888888888888889\n",
      "predicted class counts: Counter({1: 170, 0: 101, -1: 35})\n",
      "Data spread:  Counter({'1': 604, '0': 395, '-1': 225})\n"
>>>>>>> f5732e50df470a54703b3c767973179f753873af
     ]
    },
    {
     "name": "stderr",
     "output_type": "stream",
     "text": [
      "/home/seb/anaconda3/lib/python3.7/site-packages/sklearn/ensemble/forest.py:246: FutureWarning: The default value of n_estimators will change from 10 in version 0.20 to 100 in 0.22.\n",
      "  \"10 in version 0.20 to 100 in 0.22.\", FutureWarning)\n"
     ]
    },
    {
     "name": "stdout",
     "output_type": "stream",
     "text": [
<<<<<<< HEAD
      "accuracy: 0.46502057613168724\n",
      "predicted class counts: Counter({1: 145, 0: 80, -1: 18})\n",
      "Data spread:  Counter({'1': 497, '0': 318, '-1': 155})\n"
=======
      "accuracy: 0.43137254901960786\n",
      "predicted class counts: Counter({1: 178, 0: 105, -1: 23})\n",
      "Data spread:  Counter({'1': 604, '0': 395, '-1': 225})\n"
>>>>>>> f5732e50df470a54703b3c767973179f753873af
     ]
    },
    {
     "name": "stderr",
     "output_type": "stream",
     "text": [
      "/home/seb/anaconda3/lib/python3.7/site-packages/sklearn/ensemble/forest.py:246: FutureWarning: The default value of n_estimators will change from 10 in version 0.20 to 100 in 0.22.\n",
      "  \"10 in version 0.20 to 100 in 0.22.\", FutureWarning)\n"
     ]
    },
    {
     "name": "stdout",
     "output_type": "stream",
     "text": [
<<<<<<< HEAD
      "accuracy: 0.4279835390946502\n",
      "predicted class counts: Counter({1: 158, 0: 59, -1: 26})\n",
      "Data spread:  Counter({'1': 497, '0': 318, '-1': 155})\n"
=======
      "accuracy: 0.42810457516339867\n",
      "predicted class counts: Counter({1: 202, 0: 82, -1: 22})\n",
      "Data spread:  Counter({'1': 604, '0': 395, '-1': 225})\n"
>>>>>>> f5732e50df470a54703b3c767973179f753873af
     ]
    },
    {
     "name": "stderr",
     "output_type": "stream",
     "text": [
      "/home/seb/anaconda3/lib/python3.7/site-packages/sklearn/ensemble/forest.py:246: FutureWarning: The default value of n_estimators will change from 10 in version 0.20 to 100 in 0.22.\n",
      "  \"10 in version 0.20 to 100 in 0.22.\", FutureWarning)\n"
     ]
    },
    {
     "name": "stdout",
     "output_type": "stream",
     "text": [
<<<<<<< HEAD
      "accuracy: 0.4609053497942387\n",
      "predicted class counts: Counter({1: 152, 0: 76, -1: 15})\n",
      "training 220 out of 500\n",
      "Data spread:  Counter({'1': 497, '0': 318, '-1': 155})\n"
=======
      "accuracy: 0.41830065359477125\n",
      "predicted class counts: Counter({1: 209, 0: 67, -1: 30})\n",
      "training 220 out of 500\n",
      "Data spread:  Counter({'1': 604, '0': 395, '-1': 225})\n"
>>>>>>> f5732e50df470a54703b3c767973179f753873af
     ]
    },
    {
     "name": "stderr",
     "output_type": "stream",
     "text": [
      "/home/seb/anaconda3/lib/python3.7/site-packages/sklearn/ensemble/forest.py:246: FutureWarning: The default value of n_estimators will change from 10 in version 0.20 to 100 in 0.22.\n",
      "  \"10 in version 0.20 to 100 in 0.22.\", FutureWarning)\n"
     ]
    },
    {
     "name": "stdout",
     "output_type": "stream",
     "text": [
<<<<<<< HEAD
      "accuracy: 0.4156378600823045\n",
      "predicted class counts: Counter({1: 134, 0: 81, -1: 28})\n",
      "Data spread:  Counter({'1': 497, '0': 318, '-1': 155})\n"
=======
      "accuracy: 0.434640522875817\n",
      "predicted class counts: Counter({0: 138, 1: 136, -1: 32})\n",
      "Data spread:  Counter({'1': 604, '0': 395, '-1': 225})\n"
>>>>>>> f5732e50df470a54703b3c767973179f753873af
     ]
    },
    {
     "name": "stderr",
     "output_type": "stream",
     "text": [
      "/home/seb/anaconda3/lib/python3.7/site-packages/sklearn/ensemble/forest.py:246: FutureWarning: The default value of n_estimators will change from 10 in version 0.20 to 100 in 0.22.\n",
      "  \"10 in version 0.20 to 100 in 0.22.\", FutureWarning)\n"
     ]
    },
    {
     "name": "stdout",
     "output_type": "stream",
     "text": [
<<<<<<< HEAD
      "accuracy: 0.45267489711934156\n",
      "predicted class counts: Counter({1: 144, 0: 91, -1: 8})\n",
      "Data spread:  Counter({'1': 497, '0': 318, '-1': 155})\n"
=======
      "accuracy: 0.42810457516339867\n",
      "predicted class counts: Counter({1: 167, 0: 113, -1: 26})\n",
      "Data spread:  Counter({'1': 604, '0': 395, '-1': 225})\n"
>>>>>>> f5732e50df470a54703b3c767973179f753873af
     ]
    },
    {
     "name": "stderr",
     "output_type": "stream",
     "text": [
      "/home/seb/anaconda3/lib/python3.7/site-packages/sklearn/ensemble/forest.py:246: FutureWarning: The default value of n_estimators will change from 10 in version 0.20 to 100 in 0.22.\n",
      "  \"10 in version 0.20 to 100 in 0.22.\", FutureWarning)\n"
     ]
    },
    {
     "name": "stdout",
     "output_type": "stream",
     "text": [
<<<<<<< HEAD
      "accuracy: 0.4403292181069959\n",
      "predicted class counts: Counter({1: 135, 0: 86, -1: 22})\n",
      "Data spread:  Counter({'1': 497, '0': 318, '-1': 155})\n"
=======
      "accuracy: 0.3954248366013072\n",
      "predicted class counts: Counter({1: 184, 0: 95, -1: 27})\n",
      "Data spread:  Counter({'1': 604, '0': 395, '-1': 225})\n"
>>>>>>> f5732e50df470a54703b3c767973179f753873af
     ]
    },
    {
     "name": "stderr",
     "output_type": "stream",
     "text": [
      "/home/seb/anaconda3/lib/python3.7/site-packages/sklearn/ensemble/forest.py:246: FutureWarning: The default value of n_estimators will change from 10 in version 0.20 to 100 in 0.22.\n",
      "  \"10 in version 0.20 to 100 in 0.22.\", FutureWarning)\n"
     ]
    },
    {
     "name": "stdout",
     "output_type": "stream",
     "text": [
<<<<<<< HEAD
      "accuracy: 0.4403292181069959\n",
      "predicted class counts: Counter({1: 152, 0: 70, -1: 21})\n",
      "Data spread:  Counter({'1': 497, '0': 318, '-1': 155})\n"
=======
      "accuracy: 0.43137254901960786\n",
      "predicted class counts: Counter({1: 197, 0: 80, -1: 29})\n",
      "Data spread:  Counter({'1': 604, '0': 395, '-1': 225})\n"
>>>>>>> f5732e50df470a54703b3c767973179f753873af
     ]
    },
    {
     "name": "stderr",
     "output_type": "stream",
     "text": [
      "/home/seb/anaconda3/lib/python3.7/site-packages/sklearn/ensemble/forest.py:246: FutureWarning: The default value of n_estimators will change from 10 in version 0.20 to 100 in 0.22.\n",
      "  \"10 in version 0.20 to 100 in 0.22.\", FutureWarning)\n"
     ]
    },
    {
     "name": "stdout",
     "output_type": "stream",
     "text": [
<<<<<<< HEAD
      "accuracy: 0.4156378600823045\n",
      "predicted class counts: Counter({1: 162, 0: 69, -1: 12})\n",
      "training 225 out of 500\n",
      "Data spread:  Counter({'1': 497, '0': 318, '-1': 155})\n"
=======
      "accuracy: 0.46078431372549017\n",
      "predicted class counts: Counter({1: 218, 0: 64, -1: 24})\n",
      "training 225 out of 500\n",
      "Data spread:  Counter({'1': 604, '0': 395, '-1': 225})\n"
>>>>>>> f5732e50df470a54703b3c767973179f753873af
     ]
    },
    {
     "name": "stderr",
     "output_type": "stream",
     "text": [
      "/home/seb/anaconda3/lib/python3.7/site-packages/sklearn/ensemble/forest.py:246: FutureWarning: The default value of n_estimators will change from 10 in version 0.20 to 100 in 0.22.\n",
      "  \"10 in version 0.20 to 100 in 0.22.\", FutureWarning)\n"
     ]
    },
    {
     "name": "stdout",
     "output_type": "stream",
     "text": [
<<<<<<< HEAD
      "accuracy: 0.448559670781893\n",
      "predicted class counts: Counter({1: 156, 0: 70, -1: 17})\n",
      "Data spread:  Counter({'1': 497, '0': 318, '-1': 155})\n"
=======
      "accuracy: 0.41830065359477125\n",
      "predicted class counts: Counter({1: 166, 0: 108, -1: 32})\n",
      "Data spread:  Counter({'1': 604, '0': 395, '-1': 225})\n"
>>>>>>> f5732e50df470a54703b3c767973179f753873af
     ]
    },
    {
     "name": "stderr",
     "output_type": "stream",
     "text": [
      "/home/seb/anaconda3/lib/python3.7/site-packages/sklearn/ensemble/forest.py:246: FutureWarning: The default value of n_estimators will change from 10 in version 0.20 to 100 in 0.22.\n",
      "  \"10 in version 0.20 to 100 in 0.22.\", FutureWarning)\n"
     ]
    },
    {
     "name": "stdout",
     "output_type": "stream",
     "text": [
<<<<<<< HEAD
      "accuracy: 0.4773662551440329\n",
      "predicted class counts: Counter({1: 130, 0: 93, -1: 20})\n",
      "Data spread:  Counter({'1': 497, '0': 318, '-1': 155})\n"
=======
      "accuracy: 0.434640522875817\n",
      "predicted class counts: Counter({1: 199, 0: 74, -1: 33})\n",
      "Data spread:  Counter({'1': 604, '0': 395, '-1': 225})\n"
>>>>>>> f5732e50df470a54703b3c767973179f753873af
     ]
    },
    {
     "name": "stderr",
     "output_type": "stream",
     "text": [
      "/home/seb/anaconda3/lib/python3.7/site-packages/sklearn/ensemble/forest.py:246: FutureWarning: The default value of n_estimators will change from 10 in version 0.20 to 100 in 0.22.\n",
      "  \"10 in version 0.20 to 100 in 0.22.\", FutureWarning)\n"
     ]
    },
    {
     "name": "stdout",
     "output_type": "stream",
     "text": [
<<<<<<< HEAD
      "accuracy: 0.4444444444444444\n",
      "predicted class counts: Counter({1: 145, 0: 89, -1: 9})\n",
      "Data spread:  Counter({'1': 497, '0': 318, '-1': 155})\n"
=======
      "accuracy: 0.43137254901960786\n",
      "predicted class counts: Counter({1: 230, 0: 56, -1: 20})\n",
      "Data spread:  Counter({'1': 604, '0': 395, '-1': 225})\n"
>>>>>>> f5732e50df470a54703b3c767973179f753873af
     ]
    },
    {
     "name": "stderr",
     "output_type": "stream",
     "text": [
      "/home/seb/anaconda3/lib/python3.7/site-packages/sklearn/ensemble/forest.py:246: FutureWarning: The default value of n_estimators will change from 10 in version 0.20 to 100 in 0.22.\n",
      "  \"10 in version 0.20 to 100 in 0.22.\", FutureWarning)\n"
     ]
    },
    {
     "name": "stdout",
     "output_type": "stream",
     "text": [
<<<<<<< HEAD
      "accuracy: 0.4897119341563786\n",
      "predicted class counts: Counter({1: 148, 0: 76, -1: 19})\n",
      "Data spread:  Counter({'1': 497, '0': 318, '-1': 155})\n"
=======
      "accuracy: 0.42810457516339867\n",
      "predicted class counts: Counter({1: 168, 0: 102, -1: 36})\n",
      "Data spread:  Counter({'1': 604, '0': 395, '-1': 225})\n"
>>>>>>> f5732e50df470a54703b3c767973179f753873af
     ]
    },
    {
     "name": "stderr",
     "output_type": "stream",
     "text": [
      "/home/seb/anaconda3/lib/python3.7/site-packages/sklearn/ensemble/forest.py:246: FutureWarning: The default value of n_estimators will change from 10 in version 0.20 to 100 in 0.22.\n",
      "  \"10 in version 0.20 to 100 in 0.22.\", FutureWarning)\n"
     ]
    },
    {
     "name": "stdout",
     "output_type": "stream",
     "text": [
<<<<<<< HEAD
      "accuracy: 0.4609053497942387\n",
      "predicted class counts: Counter({1: 170, 0: 53, -1: 20})\n",
      "training 230 out of 500\n",
      "Data spread:  Counter({'1': 497, '0': 318, '-1': 155})\n"
=======
      "accuracy: 0.477124183006536\n",
      "predicted class counts: Counter({1: 177, 0: 101, -1: 28})\n",
      "training 230 out of 500\n",
      "Data spread:  Counter({'1': 604, '0': 395, '-1': 225})\n"
>>>>>>> f5732e50df470a54703b3c767973179f753873af
     ]
    },
    {
     "name": "stderr",
     "output_type": "stream",
     "text": [
      "/home/seb/anaconda3/lib/python3.7/site-packages/sklearn/ensemble/forest.py:246: FutureWarning: The default value of n_estimators will change from 10 in version 0.20 to 100 in 0.22.\n",
      "  \"10 in version 0.20 to 100 in 0.22.\", FutureWarning)\n"
     ]
    },
    {
     "name": "stdout",
     "output_type": "stream",
     "text": [
<<<<<<< HEAD
      "accuracy: 0.46502057613168724\n",
      "predicted class counts: Counter({1: 175, 0: 60, -1: 8})\n",
      "Data spread:  Counter({'1': 497, '0': 318, '-1': 155})\n"
=======
      "accuracy: 0.48366013071895425\n",
      "predicted class counts: Counter({1: 181, 0: 99, -1: 26})\n",
      "Data spread:  Counter({'1': 604, '0': 395, '-1': 225})\n"
>>>>>>> f5732e50df470a54703b3c767973179f753873af
     ]
    },
    {
     "name": "stderr",
     "output_type": "stream",
     "text": [
      "/home/seb/anaconda3/lib/python3.7/site-packages/sklearn/ensemble/forest.py:246: FutureWarning: The default value of n_estimators will change from 10 in version 0.20 to 100 in 0.22.\n",
      "  \"10 in version 0.20 to 100 in 0.22.\", FutureWarning)\n"
     ]
    },
    {
     "name": "stdout",
     "output_type": "stream",
     "text": [
<<<<<<< HEAD
      "accuracy: 0.5185185185185185\n",
      "predicted class counts: Counter({1: 170, 0: 56, -1: 17})\n",
      "Data spread:  Counter({'1': 497, '0': 318, '-1': 155})\n"
=======
      "accuracy: 0.40522875816993464\n",
      "predicted class counts: Counter({1: 205, 0: 76, -1: 25})\n",
      "Data spread:  Counter({'1': 604, '0': 395, '-1': 225})\n"
>>>>>>> f5732e50df470a54703b3c767973179f753873af
     ]
    },
    {
     "name": "stderr",
     "output_type": "stream",
     "text": [
      "/home/seb/anaconda3/lib/python3.7/site-packages/sklearn/ensemble/forest.py:246: FutureWarning: The default value of n_estimators will change from 10 in version 0.20 to 100 in 0.22.\n",
      "  \"10 in version 0.20 to 100 in 0.22.\", FutureWarning)\n"
     ]
    },
    {
     "name": "stdout",
     "output_type": "stream",
     "text": [
<<<<<<< HEAD
      "accuracy: 0.43621399176954734\n",
      "predicted class counts: Counter({1: 166, 0: 61, -1: 16})\n",
      "Data spread:  Counter({'1': 497, '0': 318, '-1': 155})\n"
=======
      "accuracy: 0.4411764705882353\n",
      "predicted class counts: Counter({1: 212, 0: 65, -1: 29})\n",
      "Data spread:  Counter({'1': 604, '0': 395, '-1': 225})\n"
>>>>>>> f5732e50df470a54703b3c767973179f753873af
     ]
    },
    {
     "name": "stderr",
     "output_type": "stream",
     "text": [
      "/home/seb/anaconda3/lib/python3.7/site-packages/sklearn/ensemble/forest.py:246: FutureWarning: The default value of n_estimators will change from 10 in version 0.20 to 100 in 0.22.\n",
      "  \"10 in version 0.20 to 100 in 0.22.\", FutureWarning)\n"
     ]
    },
    {
     "name": "stdout",
     "output_type": "stream",
     "text": [
<<<<<<< HEAD
      "accuracy: 0.3950617283950617\n",
      "predicted class counts: Counter({1: 158, 0: 70, -1: 15})\n",
      "Data spread:  Counter({'1': 497, '0': 318, '-1': 155})\n"
=======
      "accuracy: 0.40522875816993464\n",
      "predicted class counts: Counter({1: 193, 0: 80, -1: 33})\n",
      "Data spread:  Counter({'1': 604, '0': 395, '-1': 225})\n"
>>>>>>> f5732e50df470a54703b3c767973179f753873af
     ]
    },
    {
     "name": "stderr",
     "output_type": "stream",
     "text": [
      "/home/seb/anaconda3/lib/python3.7/site-packages/sklearn/ensemble/forest.py:246: FutureWarning: The default value of n_estimators will change from 10 in version 0.20 to 100 in 0.22.\n",
      "  \"10 in version 0.20 to 100 in 0.22.\", FutureWarning)\n"
     ]
    },
    {
     "name": "stdout",
     "output_type": "stream",
     "text": [
<<<<<<< HEAD
      "accuracy: 0.4732510288065844\n",
      "predicted class counts: Counter({1: 164, 0: 68, -1: 11})\n",
      "training 235 out of 500\n",
      "Data spread:  Counter({'1': 497, '0': 318, '-1': 155})\n"
=======
      "accuracy: 0.4150326797385621\n",
      "predicted class counts: Counter({1: 213, 0: 65, -1: 28})\n",
      "training 235 out of 500\n",
      "Data spread:  Counter({'1': 604, '0': 395, '-1': 225})\n"
>>>>>>> f5732e50df470a54703b3c767973179f753873af
     ]
    },
    {
     "name": "stderr",
     "output_type": "stream",
     "text": [
      "/home/seb/anaconda3/lib/python3.7/site-packages/sklearn/ensemble/forest.py:246: FutureWarning: The default value of n_estimators will change from 10 in version 0.20 to 100 in 0.22.\n",
      "  \"10 in version 0.20 to 100 in 0.22.\", FutureWarning)\n"
     ]
    },
    {
     "name": "stdout",
     "output_type": "stream",
     "text": [
<<<<<<< HEAD
      "accuracy: 0.46502057613168724\n",
      "predicted class counts: Counter({1: 142, 0: 80, -1: 21})\n",
      "Data spread:  Counter({'1': 497, '0': 318, '-1': 155})\n"
=======
      "accuracy: 0.4215686274509804\n",
      "predicted class counts: Counter({1: 192, 0: 91, -1: 23})\n",
      "Data spread:  Counter({'1': 604, '0': 395, '-1': 225})\n"
>>>>>>> f5732e50df470a54703b3c767973179f753873af
     ]
    },
    {
     "name": "stderr",
     "output_type": "stream",
     "text": [
      "/home/seb/anaconda3/lib/python3.7/site-packages/sklearn/ensemble/forest.py:246: FutureWarning: The default value of n_estimators will change from 10 in version 0.20 to 100 in 0.22.\n",
      "  \"10 in version 0.20 to 100 in 0.22.\", FutureWarning)\n"
     ]
    },
    {
     "name": "stdout",
     "output_type": "stream",
     "text": [
<<<<<<< HEAD
      "accuracy: 0.48148148148148145\n",
      "predicted class counts: Counter({1: 174, 0: 56, -1: 13})\n",
      "Data spread:  Counter({'1': 497, '0': 318, '-1': 155})\n"
=======
      "accuracy: 0.42483660130718953\n",
      "predicted class counts: Counter({1: 189, 0: 94, -1: 23})\n",
      "Data spread:  Counter({'1': 604, '0': 395, '-1': 225})\n"
>>>>>>> f5732e50df470a54703b3c767973179f753873af
     ]
    },
    {
     "name": "stderr",
     "output_type": "stream",
     "text": [
      "/home/seb/anaconda3/lib/python3.7/site-packages/sklearn/ensemble/forest.py:246: FutureWarning: The default value of n_estimators will change from 10 in version 0.20 to 100 in 0.22.\n",
      "  \"10 in version 0.20 to 100 in 0.22.\", FutureWarning)\n"
     ]
    },
    {
     "name": "stdout",
     "output_type": "stream",
     "text": [
<<<<<<< HEAD
      "accuracy: 0.3868312757201646\n",
      "predicted class counts: Counter({1: 139, 0: 87, -1: 17})\n",
      "Data spread:  Counter({'1': 497, '0': 318, '-1': 155})\n"
=======
      "accuracy: 0.46078431372549017\n",
      "predicted class counts: Counter({1: 187, 0: 97, -1: 22})\n",
      "Data spread:  Counter({'1': 604, '0': 395, '-1': 225})\n"
>>>>>>> f5732e50df470a54703b3c767973179f753873af
     ]
    },
    {
     "name": "stderr",
     "output_type": "stream",
     "text": [
      "/home/seb/anaconda3/lib/python3.7/site-packages/sklearn/ensemble/forest.py:246: FutureWarning: The default value of n_estimators will change from 10 in version 0.20 to 100 in 0.22.\n",
      "  \"10 in version 0.20 to 100 in 0.22.\", FutureWarning)\n"
     ]
    },
    {
     "name": "stdout",
     "output_type": "stream",
     "text": [
<<<<<<< HEAD
      "accuracy: 0.43621399176954734\n",
      "predicted class counts: Counter({1: 146, 0: 80, -1: 17})\n",
      "Data spread:  Counter({'1': 497, '0': 318, '-1': 155})\n"
=======
      "accuracy: 0.45098039215686275\n",
      "predicted class counts: Counter({1: 230, 0: 59, -1: 17})\n",
      "Data spread:  Counter({'1': 604, '0': 395, '-1': 225})\n"
>>>>>>> f5732e50df470a54703b3c767973179f753873af
     ]
    },
    {
     "name": "stderr",
     "output_type": "stream",
     "text": [
      "/home/seb/anaconda3/lib/python3.7/site-packages/sklearn/ensemble/forest.py:246: FutureWarning: The default value of n_estimators will change from 10 in version 0.20 to 100 in 0.22.\n",
      "  \"10 in version 0.20 to 100 in 0.22.\", FutureWarning)\n"
     ]
    },
    {
     "name": "stdout",
     "output_type": "stream",
     "text": [
<<<<<<< HEAD
      "accuracy: 0.5102880658436214\n",
      "predicted class counts: Counter({1: 163, 0: 70, -1: 10})\n",
      "training 240 out of 500\n",
      "Data spread:  Counter({'1': 497, '0': 318, '-1': 155})\n"
=======
      "accuracy: 0.4411764705882353\n",
      "predicted class counts: Counter({1: 167, 0: 104, -1: 35})\n",
      "training 240 out of 500\n",
      "Data spread:  Counter({'1': 604, '0': 395, '-1': 225})\n"
>>>>>>> f5732e50df470a54703b3c767973179f753873af
     ]
    },
    {
     "name": "stderr",
     "output_type": "stream",
     "text": [
      "/home/seb/anaconda3/lib/python3.7/site-packages/sklearn/ensemble/forest.py:246: FutureWarning: The default value of n_estimators will change from 10 in version 0.20 to 100 in 0.22.\n",
      "  \"10 in version 0.20 to 100 in 0.22.\", FutureWarning)\n"
     ]
    },
    {
     "name": "stdout",
     "output_type": "stream",
     "text": [
<<<<<<< HEAD
      "accuracy: 0.40329218106995884\n",
      "predicted class counts: Counter({1: 140, 0: 81, -1: 22})\n",
      "Data spread:  Counter({'1': 497, '0': 318, '-1': 155})\n"
=======
      "accuracy: 0.3790849673202614\n",
      "predicted class counts: Counter({1: 196, 0: 77, -1: 33})\n",
      "Data spread:  Counter({'1': 604, '0': 395, '-1': 225})\n"
>>>>>>> f5732e50df470a54703b3c767973179f753873af
     ]
    },
    {
     "name": "stderr",
     "output_type": "stream",
     "text": [
      "/home/seb/anaconda3/lib/python3.7/site-packages/sklearn/ensemble/forest.py:246: FutureWarning: The default value of n_estimators will change from 10 in version 0.20 to 100 in 0.22.\n",
      "  \"10 in version 0.20 to 100 in 0.22.\", FutureWarning)\n"
     ]
    },
    {
     "name": "stdout",
     "output_type": "stream",
     "text": [
<<<<<<< HEAD
      "accuracy: 0.4773662551440329\n",
      "predicted class counts: Counter({1: 151, 0: 74, -1: 18})\n",
      "Data spread:  Counter({'1': 497, '0': 318, '-1': 155})\n"
=======
      "accuracy: 0.3790849673202614\n",
      "predicted class counts: Counter({1: 173, 0: 87, -1: 46})\n",
      "Data spread:  Counter({'1': 604, '0': 395, '-1': 225})\n"
>>>>>>> f5732e50df470a54703b3c767973179f753873af
     ]
    },
    {
     "name": "stderr",
     "output_type": "stream",
     "text": [
      "/home/seb/anaconda3/lib/python3.7/site-packages/sklearn/ensemble/forest.py:246: FutureWarning: The default value of n_estimators will change from 10 in version 0.20 to 100 in 0.22.\n",
      "  \"10 in version 0.20 to 100 in 0.22.\", FutureWarning)\n"
     ]
    },
    {
     "name": "stdout",
     "output_type": "stream",
     "text": [
<<<<<<< HEAD
      "accuracy: 0.4609053497942387\n",
      "predicted class counts: Counter({1: 140, 0: 79, -1: 24})\n",
      "Data spread:  Counter({'1': 497, '0': 318, '-1': 155})\n"
=======
      "accuracy: 0.42810457516339867\n",
      "predicted class counts: Counter({1: 207, 0: 82, -1: 17})\n",
      "Data spread:  Counter({'1': 604, '0': 395, '-1': 225})\n"
>>>>>>> f5732e50df470a54703b3c767973179f753873af
     ]
    },
    {
     "name": "stderr",
     "output_type": "stream",
     "text": [
      "/home/seb/anaconda3/lib/python3.7/site-packages/sklearn/ensemble/forest.py:246: FutureWarning: The default value of n_estimators will change from 10 in version 0.20 to 100 in 0.22.\n",
      "  \"10 in version 0.20 to 100 in 0.22.\", FutureWarning)\n"
     ]
    },
    {
     "name": "stdout",
     "output_type": "stream",
     "text": [
<<<<<<< HEAD
      "accuracy: 0.4444444444444444\n",
      "predicted class counts: Counter({1: 144, 0: 76, -1: 23})\n",
      "Data spread:  Counter({'1': 497, '0': 318, '-1': 155})\n"
=======
      "accuracy: 0.40522875816993464\n",
      "predicted class counts: Counter({1: 223, 0: 65, -1: 18})\n",
      "Data spread:  Counter({'1': 604, '0': 395, '-1': 225})\n"
>>>>>>> f5732e50df470a54703b3c767973179f753873af
     ]
    },
    {
     "name": "stderr",
     "output_type": "stream",
     "text": [
      "/home/seb/anaconda3/lib/python3.7/site-packages/sklearn/ensemble/forest.py:246: FutureWarning: The default value of n_estimators will change from 10 in version 0.20 to 100 in 0.22.\n",
      "  \"10 in version 0.20 to 100 in 0.22.\", FutureWarning)\n"
     ]
    },
    {
     "name": "stdout",
     "output_type": "stream",
     "text": [
<<<<<<< HEAD
      "accuracy: 0.45267489711934156\n",
      "predicted class counts: Counter({1: 146, 0: 86, -1: 11})\n",
      "training 245 out of 500\n",
      "Data spread:  Counter({'1': 497, '0': 318, '-1': 155})\n"
=======
      "accuracy: 0.4934640522875817\n",
      "predicted class counts: Counter({1: 209, 0: 80, -1: 17})\n",
      "training 245 out of 500\n",
      "Data spread:  Counter({'1': 604, '0': 395, '-1': 225})\n"
>>>>>>> f5732e50df470a54703b3c767973179f753873af
     ]
    },
    {
     "name": "stderr",
     "output_type": "stream",
     "text": [
      "/home/seb/anaconda3/lib/python3.7/site-packages/sklearn/ensemble/forest.py:246: FutureWarning: The default value of n_estimators will change from 10 in version 0.20 to 100 in 0.22.\n",
      "  \"10 in version 0.20 to 100 in 0.22.\", FutureWarning)\n"
     ]
    },
    {
     "name": "stdout",
     "output_type": "stream",
     "text": [
<<<<<<< HEAD
      "accuracy: 0.4897119341563786\n",
      "predicted class counts: Counter({1: 171, 0: 57, -1: 15})\n",
      "Data spread:  Counter({'1': 497, '0': 318, '-1': 155})\n"
=======
      "accuracy: 0.4673202614379085\n",
      "predicted class counts: Counter({1: 216, 0: 73, -1: 17})\n",
      "Data spread:  Counter({'1': 604, '0': 395, '-1': 225})\n"
>>>>>>> f5732e50df470a54703b3c767973179f753873af
     ]
    },
    {
     "name": "stderr",
     "output_type": "stream",
     "text": [
      "/home/seb/anaconda3/lib/python3.7/site-packages/sklearn/ensemble/forest.py:246: FutureWarning: The default value of n_estimators will change from 10 in version 0.20 to 100 in 0.22.\n",
      "  \"10 in version 0.20 to 100 in 0.22.\", FutureWarning)\n"
     ]
    },
    {
     "name": "stdout",
     "output_type": "stream",
     "text": [
<<<<<<< HEAD
      "accuracy: 0.4074074074074074\n",
      "predicted class counts: Counter({1: 140, 0: 72, -1: 31})\n",
      "Data spread:  Counter({'1': 497, '0': 318, '-1': 155})\n"
=======
      "accuracy: 0.48366013071895425\n",
      "predicted class counts: Counter({1: 155, 0: 119, -1: 32})\n",
      "Data spread:  Counter({'1': 604, '0': 395, '-1': 225})\n"
>>>>>>> f5732e50df470a54703b3c767973179f753873af
     ]
    },
    {
     "name": "stderr",
     "output_type": "stream",
     "text": [
      "/home/seb/anaconda3/lib/python3.7/site-packages/sklearn/ensemble/forest.py:246: FutureWarning: The default value of n_estimators will change from 10 in version 0.20 to 100 in 0.22.\n",
      "  \"10 in version 0.20 to 100 in 0.22.\", FutureWarning)\n"
     ]
    },
    {
     "name": "stdout",
     "output_type": "stream",
     "text": [
<<<<<<< HEAD
      "accuracy: 0.448559670781893\n",
      "predicted class counts: Counter({1: 162, 0: 65, -1: 16})\n",
      "Data spread:  Counter({'1': 497, '0': 318, '-1': 155})\n"
=======
      "accuracy: 0.42483660130718953\n",
      "predicted class counts: Counter({1: 158, 0: 114, -1: 34})\n",
      "Data spread:  Counter({'1': 604, '0': 395, '-1': 225})\n"
>>>>>>> f5732e50df470a54703b3c767973179f753873af
     ]
    },
    {
     "name": "stderr",
     "output_type": "stream",
     "text": [
      "/home/seb/anaconda3/lib/python3.7/site-packages/sklearn/ensemble/forest.py:246: FutureWarning: The default value of n_estimators will change from 10 in version 0.20 to 100 in 0.22.\n",
      "  \"10 in version 0.20 to 100 in 0.22.\", FutureWarning)\n"
     ]
    },
    {
     "name": "stdout",
     "output_type": "stream",
     "text": [
<<<<<<< HEAD
      "accuracy: 0.4403292181069959\n",
      "predicted class counts: Counter({1: 149, 0: 78, -1: 16})\n",
      "Data spread:  Counter({'1': 497, '0': 318, '-1': 155})\n"
=======
      "accuracy: 0.4117647058823529\n",
      "predicted class counts: Counter({1: 202, 0: 74, -1: 30})\n",
      "Data spread:  Counter({'1': 604, '0': 395, '-1': 225})\n"
>>>>>>> f5732e50df470a54703b3c767973179f753873af
     ]
    },
    {
     "name": "stderr",
     "output_type": "stream",
     "text": [
      "/home/seb/anaconda3/lib/python3.7/site-packages/sklearn/ensemble/forest.py:246: FutureWarning: The default value of n_estimators will change from 10 in version 0.20 to 100 in 0.22.\n",
      "  \"10 in version 0.20 to 100 in 0.22.\", FutureWarning)\n"
     ]
    },
    {
     "name": "stdout",
     "output_type": "stream",
     "text": [
<<<<<<< HEAD
      "accuracy: 0.4773662551440329\n",
      "predicted class counts: Counter({1: 153, 0: 85, -1: 5})\n",
      "training 250 out of 500\n",
      "Data spread:  Counter({'1': 497, '0': 318, '-1': 155})\n"
=======
      "accuracy: 0.42810457516339867\n",
      "predicted class counts: Counter({1: 188, 0: 85, -1: 33})\n",
      "training 250 out of 500\n",
      "Data spread:  Counter({'1': 604, '0': 395, '-1': 225})\n"
>>>>>>> f5732e50df470a54703b3c767973179f753873af
     ]
    },
    {
     "name": "stderr",
     "output_type": "stream",
     "text": [
      "/home/seb/anaconda3/lib/python3.7/site-packages/sklearn/ensemble/forest.py:246: FutureWarning: The default value of n_estimators will change from 10 in version 0.20 to 100 in 0.22.\n",
      "  \"10 in version 0.20 to 100 in 0.22.\", FutureWarning)\n"
     ]
    },
    {
     "name": "stdout",
     "output_type": "stream",
     "text": [
<<<<<<< HEAD
      "accuracy: 0.4691358024691358\n",
      "predicted class counts: Counter({1: 157, 0: 73, -1: 13})\n",
      "Data spread:  Counter({'1': 497, '0': 318, '-1': 155})\n"
=======
      "accuracy: 0.4477124183006536\n",
      "predicted class counts: Counter({1: 180, 0: 99, -1: 27})\n",
      "Data spread:  Counter({'1': 604, '0': 395, '-1': 225})\n"
>>>>>>> f5732e50df470a54703b3c767973179f753873af
     ]
    },
    {
     "name": "stderr",
     "output_type": "stream",
     "text": [
      "/home/seb/anaconda3/lib/python3.7/site-packages/sklearn/ensemble/forest.py:246: FutureWarning: The default value of n_estimators will change from 10 in version 0.20 to 100 in 0.22.\n",
      "  \"10 in version 0.20 to 100 in 0.22.\", FutureWarning)\n"
     ]
    },
    {
     "name": "stdout",
     "output_type": "stream",
     "text": [
<<<<<<< HEAD
      "accuracy: 0.43621399176954734\n",
      "predicted class counts: Counter({1: 141, 0: 79, -1: 23})\n",
      "Data spread:  Counter({'1': 497, '0': 318, '-1': 155})\n"
=======
      "accuracy: 0.434640522875817\n",
      "predicted class counts: Counter({1: 200, 0: 75, -1: 31})\n",
      "Data spread:  Counter({'1': 604, '0': 395, '-1': 225})\n"
>>>>>>> f5732e50df470a54703b3c767973179f753873af
     ]
    },
    {
     "name": "stderr",
     "output_type": "stream",
     "text": [
      "/home/seb/anaconda3/lib/python3.7/site-packages/sklearn/ensemble/forest.py:246: FutureWarning: The default value of n_estimators will change from 10 in version 0.20 to 100 in 0.22.\n",
      "  \"10 in version 0.20 to 100 in 0.22.\", FutureWarning)\n"
     ]
    },
    {
     "name": "stdout",
     "output_type": "stream",
     "text": [
<<<<<<< HEAD
      "accuracy: 0.43209876543209874\n",
      "predicted class counts: Counter({1: 160, 0: 60, -1: 23})\n",
      "Data spread:  Counter({'1': 497, '0': 318, '-1': 155})\n"
=======
      "accuracy: 0.45098039215686275\n",
      "predicted class counts: Counter({1: 212, 0: 69, -1: 25})\n",
      "Data spread:  Counter({'1': 604, '0': 395, '-1': 225})\n"
>>>>>>> f5732e50df470a54703b3c767973179f753873af
     ]
    },
    {
     "name": "stderr",
     "output_type": "stream",
     "text": [
      "/home/seb/anaconda3/lib/python3.7/site-packages/sklearn/ensemble/forest.py:246: FutureWarning: The default value of n_estimators will change from 10 in version 0.20 to 100 in 0.22.\n",
      "  \"10 in version 0.20 to 100 in 0.22.\", FutureWarning)\n"
     ]
    },
    {
     "name": "stdout",
     "output_type": "stream",
     "text": [
<<<<<<< HEAD
      "accuracy: 0.41975308641975306\n",
      "predicted class counts: Counter({1: 149, 0: 70, -1: 24})\n",
      "Data spread:  Counter({'1': 497, '0': 318, '-1': 155})\n"
=======
      "accuracy: 0.38562091503267976\n",
      "predicted class counts: Counter({1: 186, 0: 76, -1: 44})\n",
      "Data spread:  Counter({'1': 604, '0': 395, '-1': 225})\n"
>>>>>>> f5732e50df470a54703b3c767973179f753873af
     ]
    },
    {
     "name": "stderr",
     "output_type": "stream",
     "text": [
      "/home/seb/anaconda3/lib/python3.7/site-packages/sklearn/ensemble/forest.py:246: FutureWarning: The default value of n_estimators will change from 10 in version 0.20 to 100 in 0.22.\n",
      "  \"10 in version 0.20 to 100 in 0.22.\", FutureWarning)\n"
     ]
    },
    {
     "name": "stdout",
     "output_type": "stream",
     "text": [
<<<<<<< HEAD
      "accuracy: 0.43621399176954734\n",
      "predicted class counts: Counter({1: 142, 0: 84, -1: 17})\n",
      "training 255 out of 500\n",
      "Data spread:  Counter({'1': 497, '0': 318, '-1': 155})\n"
=======
      "accuracy: 0.4673202614379085\n",
      "predicted class counts: Counter({1: 216, 0: 65, -1: 25})\n",
      "training 255 out of 500\n",
      "Data spread:  Counter({'1': 604, '0': 395, '-1': 225})\n"
>>>>>>> f5732e50df470a54703b3c767973179f753873af
     ]
    },
    {
     "name": "stderr",
     "output_type": "stream",
     "text": [
      "/home/seb/anaconda3/lib/python3.7/site-packages/sklearn/ensemble/forest.py:246: FutureWarning: The default value of n_estimators will change from 10 in version 0.20 to 100 in 0.22.\n",
      "  \"10 in version 0.20 to 100 in 0.22.\", FutureWarning)\n"
     ]
    },
    {
     "name": "stdout",
     "output_type": "stream",
     "text": [
<<<<<<< HEAD
      "accuracy: 0.46502057613168724\n",
      "predicted class counts: Counter({1: 157, 0: 70, -1: 16})\n",
      "Data spread:  Counter({'1': 497, '0': 318, '-1': 155})\n"
=======
      "accuracy: 0.47058823529411764\n",
      "predicted class counts: Counter({1: 191, 0: 86, -1: 29})\n",
      "Data spread:  Counter({'1': 604, '0': 395, '-1': 225})\n"
>>>>>>> f5732e50df470a54703b3c767973179f753873af
     ]
    },
    {
     "name": "stderr",
     "output_type": "stream",
     "text": [
      "/home/seb/anaconda3/lib/python3.7/site-packages/sklearn/ensemble/forest.py:246: FutureWarning: The default value of n_estimators will change from 10 in version 0.20 to 100 in 0.22.\n",
      "  \"10 in version 0.20 to 100 in 0.22.\", FutureWarning)\n"
     ]
    },
    {
     "name": "stdout",
     "output_type": "stream",
     "text": [
<<<<<<< HEAD
      "accuracy: 0.43621399176954734\n",
      "predicted class counts: Counter({1: 151, 0: 76, -1: 16})\n",
      "Data spread:  Counter({'1': 497, '0': 318, '-1': 155})\n"
=======
      "accuracy: 0.45098039215686275\n",
      "predicted class counts: Counter({1: 233, 0: 54, -1: 19})\n",
      "Data spread:  Counter({'1': 604, '0': 395, '-1': 225})\n"
>>>>>>> f5732e50df470a54703b3c767973179f753873af
     ]
    },
    {
     "name": "stderr",
     "output_type": "stream",
     "text": [
      "/home/seb/anaconda3/lib/python3.7/site-packages/sklearn/ensemble/forest.py:246: FutureWarning: The default value of n_estimators will change from 10 in version 0.20 to 100 in 0.22.\n",
      "  \"10 in version 0.20 to 100 in 0.22.\", FutureWarning)\n"
     ]
    },
    {
     "name": "stdout",
     "output_type": "stream",
     "text": [
<<<<<<< HEAD
      "accuracy: 0.43621399176954734\n",
      "predicted class counts: Counter({1: 142, 0: 80, -1: 21})\n",
      "Data spread:  Counter({'1': 497, '0': 318, '-1': 155})\n"
=======
      "accuracy: 0.477124183006536\n",
      "predicted class counts: Counter({1: 183, 0: 103, -1: 20})\n",
      "Data spread:  Counter({'1': 604, '0': 395, '-1': 225})\n"
>>>>>>> f5732e50df470a54703b3c767973179f753873af
     ]
    },
    {
     "name": "stderr",
     "output_type": "stream",
     "text": [
      "/home/seb/anaconda3/lib/python3.7/site-packages/sklearn/ensemble/forest.py:246: FutureWarning: The default value of n_estimators will change from 10 in version 0.20 to 100 in 0.22.\n",
      "  \"10 in version 0.20 to 100 in 0.22.\", FutureWarning)\n"
     ]
    },
    {
     "name": "stdout",
     "output_type": "stream",
     "text": [
<<<<<<< HEAD
      "accuracy: 0.4279835390946502\n",
      "predicted class counts: Counter({1: 162, 0: 63, -1: 18})\n",
      "Data spread:  Counter({'1': 497, '0': 318, '-1': 155})\n"
=======
      "accuracy: 0.43137254901960786\n",
      "predicted class counts: Counter({1: 212, 0: 80, -1: 14})\n",
      "Data spread:  Counter({'1': 604, '0': 395, '-1': 225})\n"
>>>>>>> f5732e50df470a54703b3c767973179f753873af
     ]
    },
    {
     "name": "stderr",
     "output_type": "stream",
     "text": [
      "/home/seb/anaconda3/lib/python3.7/site-packages/sklearn/ensemble/forest.py:246: FutureWarning: The default value of n_estimators will change from 10 in version 0.20 to 100 in 0.22.\n",
      "  \"10 in version 0.20 to 100 in 0.22.\", FutureWarning)\n"
     ]
    },
    {
     "name": "stdout",
     "output_type": "stream",
     "text": [
<<<<<<< HEAD
      "accuracy: 0.46502057613168724\n",
      "predicted class counts: Counter({1: 172, 0: 61, -1: 10})\n",
      "training 260 out of 500\n",
      "Data spread:  Counter({'1': 497, '0': 318, '-1': 155})\n"
=======
      "accuracy: 0.4673202614379085\n",
      "predicted class counts: Counter({1: 170, 0: 100, -1: 36})\n",
      "training 260 out of 500\n",
      "Data spread:  Counter({'1': 604, '0': 395, '-1': 225})\n"
>>>>>>> f5732e50df470a54703b3c767973179f753873af
     ]
    },
    {
     "name": "stderr",
     "output_type": "stream",
     "text": [
      "/home/seb/anaconda3/lib/python3.7/site-packages/sklearn/ensemble/forest.py:246: FutureWarning: The default value of n_estimators will change from 10 in version 0.20 to 100 in 0.22.\n",
      "  \"10 in version 0.20 to 100 in 0.22.\", FutureWarning)\n"
     ]
    },
    {
     "name": "stdout",
     "output_type": "stream",
     "text": [
<<<<<<< HEAD
      "accuracy: 0.40329218106995884\n",
      "predicted class counts: Counter({1: 159, 0: 64, -1: 20})\n",
      "Data spread:  Counter({'1': 497, '0': 318, '-1': 155})\n"
=======
      "accuracy: 0.41830065359477125\n",
      "predicted class counts: Counter({1: 210, 0: 67, -1: 29})\n",
      "Data spread:  Counter({'1': 604, '0': 395, '-1': 225})\n"
>>>>>>> f5732e50df470a54703b3c767973179f753873af
     ]
    },
    {
     "name": "stderr",
     "output_type": "stream",
     "text": [
      "/home/seb/anaconda3/lib/python3.7/site-packages/sklearn/ensemble/forest.py:246: FutureWarning: The default value of n_estimators will change from 10 in version 0.20 to 100 in 0.22.\n",
      "  \"10 in version 0.20 to 100 in 0.22.\", FutureWarning)\n"
     ]
    },
    {
     "name": "stdout",
     "output_type": "stream",
     "text": [
<<<<<<< HEAD
      "accuracy: 0.4403292181069959\n",
      "predicted class counts: Counter({1: 140, 0: 87, -1: 16})\n",
      "Data spread:  Counter({'1': 497, '0': 318, '-1': 155})\n"
=======
      "accuracy: 0.434640522875817\n",
      "predicted class counts: Counter({1: 177, 0: 99, -1: 30})\n",
      "Data spread:  Counter({'1': 604, '0': 395, '-1': 225})\n"
>>>>>>> f5732e50df470a54703b3c767973179f753873af
     ]
    },
    {
     "name": "stderr",
     "output_type": "stream",
     "text": [
      "/home/seb/anaconda3/lib/python3.7/site-packages/sklearn/ensemble/forest.py:246: FutureWarning: The default value of n_estimators will change from 10 in version 0.20 to 100 in 0.22.\n",
      "  \"10 in version 0.20 to 100 in 0.22.\", FutureWarning)\n"
     ]
    },
    {
     "name": "stdout",
     "output_type": "stream",
     "text": [
<<<<<<< HEAD
      "accuracy: 0.46502057613168724\n",
      "predicted class counts: Counter({1: 156, 0: 76, -1: 11})\n",
      "Data spread:  Counter({'1': 497, '0': 318, '-1': 155})\n"
=======
      "accuracy: 0.39215686274509803\n",
      "predicted class counts: Counter({1: 221, 0: 61, -1: 24})\n",
      "Data spread:  Counter({'1': 604, '0': 395, '-1': 225})\n"
>>>>>>> f5732e50df470a54703b3c767973179f753873af
     ]
    },
    {
     "name": "stderr",
     "output_type": "stream",
     "text": [
      "/home/seb/anaconda3/lib/python3.7/site-packages/sklearn/ensemble/forest.py:246: FutureWarning: The default value of n_estimators will change from 10 in version 0.20 to 100 in 0.22.\n",
      "  \"10 in version 0.20 to 100 in 0.22.\", FutureWarning)\n"
     ]
    },
    {
     "name": "stdout",
     "output_type": "stream",
     "text": [
<<<<<<< HEAD
      "accuracy: 0.4691358024691358\n",
      "predicted class counts: Counter({1: 164, 0: 60, -1: 19})\n",
      "Data spread:  Counter({'1': 497, '0': 318, '-1': 155})\n"
=======
      "accuracy: 0.3954248366013072\n",
      "predicted class counts: Counter({1: 212, 0: 71, -1: 23})\n",
      "Data spread:  Counter({'1': 604, '0': 395, '-1': 225})\n"
>>>>>>> f5732e50df470a54703b3c767973179f753873af
     ]
    },
    {
     "name": "stderr",
     "output_type": "stream",
     "text": [
      "/home/seb/anaconda3/lib/python3.7/site-packages/sklearn/ensemble/forest.py:246: FutureWarning: The default value of n_estimators will change from 10 in version 0.20 to 100 in 0.22.\n",
      "  \"10 in version 0.20 to 100 in 0.22.\", FutureWarning)\n"
     ]
    },
    {
     "name": "stdout",
     "output_type": "stream",
     "text": [
<<<<<<< HEAD
      "accuracy: 0.4567901234567901\n",
      "predicted class counts: Counter({1: 150, 0: 69, -1: 24})\n",
      "training 265 out of 500\n",
      "Data spread:  Counter({'1': 497, '0': 318, '-1': 155})\n"
=======
      "accuracy: 0.4542483660130719\n",
      "predicted class counts: Counter({1: 211, 0: 78, -1: 17})\n",
      "training 265 out of 500\n",
      "Data spread:  Counter({'1': 604, '0': 395, '-1': 225})\n"
>>>>>>> f5732e50df470a54703b3c767973179f753873af
     ]
    },
    {
     "name": "stderr",
     "output_type": "stream",
     "text": [
      "/home/seb/anaconda3/lib/python3.7/site-packages/sklearn/ensemble/forest.py:246: FutureWarning: The default value of n_estimators will change from 10 in version 0.20 to 100 in 0.22.\n",
      "  \"10 in version 0.20 to 100 in 0.22.\", FutureWarning)\n"
     ]
    },
    {
     "name": "stdout",
     "output_type": "stream",
     "text": [
<<<<<<< HEAD
      "accuracy: 0.43621399176954734\n",
      "predicted class counts: Counter({1: 145, 0: 81, -1: 17})\n",
      "Data spread:  Counter({'1': 497, '0': 318, '-1': 155})\n"
=======
      "accuracy: 0.4411764705882353\n",
      "predicted class counts: Counter({1: 209, 0: 69, -1: 28})\n",
      "Data spread:  Counter({'1': 604, '0': 395, '-1': 225})\n"
>>>>>>> f5732e50df470a54703b3c767973179f753873af
     ]
    },
    {
     "name": "stderr",
     "output_type": "stream",
     "text": [
      "/home/seb/anaconda3/lib/python3.7/site-packages/sklearn/ensemble/forest.py:246: FutureWarning: The default value of n_estimators will change from 10 in version 0.20 to 100 in 0.22.\n",
      "  \"10 in version 0.20 to 100 in 0.22.\", FutureWarning)\n"
     ]
    },
    {
     "name": "stdout",
     "output_type": "stream",
     "text": [
<<<<<<< HEAD
      "accuracy: 0.45267489711934156\n",
      "predicted class counts: Counter({1: 167, 0: 55, -1: 21})\n",
      "Data spread:  Counter({'1': 497, '0': 318, '-1': 155})\n"
=======
      "accuracy: 0.4084967320261438\n",
      "predicted class counts: Counter({1: 176, 0: 96, -1: 34})\n",
      "Data spread:  Counter({'1': 604, '0': 395, '-1': 225})\n"
>>>>>>> f5732e50df470a54703b3c767973179f753873af
     ]
    },
    {
     "name": "stderr",
     "output_type": "stream",
     "text": [
      "/home/seb/anaconda3/lib/python3.7/site-packages/sklearn/ensemble/forest.py:246: FutureWarning: The default value of n_estimators will change from 10 in version 0.20 to 100 in 0.22.\n",
      "  \"10 in version 0.20 to 100 in 0.22.\", FutureWarning)\n"
     ]
    },
    {
     "name": "stdout",
     "output_type": "stream",
     "text": [
<<<<<<< HEAD
      "accuracy: 0.48148148148148145\n",
      "predicted class counts: Counter({1: 164, 0: 66, -1: 13})\n",
      "Data spread:  Counter({'1': 497, '0': 318, '-1': 155})\n"
=======
      "accuracy: 0.477124183006536\n",
      "predicted class counts: Counter({1: 205, 0: 76, -1: 25})\n",
      "Data spread:  Counter({'1': 604, '0': 395, '-1': 225})\n"
>>>>>>> f5732e50df470a54703b3c767973179f753873af
     ]
    },
    {
     "name": "stderr",
     "output_type": "stream",
     "text": [
      "/home/seb/anaconda3/lib/python3.7/site-packages/sklearn/ensemble/forest.py:246: FutureWarning: The default value of n_estimators will change from 10 in version 0.20 to 100 in 0.22.\n",
      "  \"10 in version 0.20 to 100 in 0.22.\", FutureWarning)\n"
     ]
    },
    {
     "name": "stdout",
     "output_type": "stream",
     "text": [
<<<<<<< HEAD
      "accuracy: 0.5061728395061729\n",
      "predicted class counts: Counter({1: 147, 0: 79, -1: 17})\n",
      "Data spread:  Counter({'1': 497, '0': 318, '-1': 155})\n"
=======
      "accuracy: 0.42810457516339867\n",
      "predicted class counts: Counter({1: 203, 0: 77, -1: 26})\n",
      "Data spread:  Counter({'1': 604, '0': 395, '-1': 225})\n"
>>>>>>> f5732e50df470a54703b3c767973179f753873af
     ]
    },
    {
     "name": "stderr",
     "output_type": "stream",
     "text": [
      "/home/seb/anaconda3/lib/python3.7/site-packages/sklearn/ensemble/forest.py:246: FutureWarning: The default value of n_estimators will change from 10 in version 0.20 to 100 in 0.22.\n",
      "  \"10 in version 0.20 to 100 in 0.22.\", FutureWarning)\n"
     ]
    },
    {
     "name": "stdout",
     "output_type": "stream",
     "text": [
<<<<<<< HEAD
      "accuracy: 0.4567901234567901\n",
      "predicted class counts: Counter({1: 174, 0: 56, -1: 13})\n",
      "training 270 out of 500\n",
      "Data spread:  Counter({'1': 497, '0': 318, '-1': 155})\n"
=======
      "accuracy: 0.4215686274509804\n",
      "predicted class counts: Counter({1: 184, 0: 94, -1: 28})\n",
      "training 270 out of 500\n",
      "Data spread:  Counter({'1': 604, '0': 395, '-1': 225})\n"
>>>>>>> f5732e50df470a54703b3c767973179f753873af
     ]
    },
    {
     "name": "stderr",
     "output_type": "stream",
     "text": [
      "/home/seb/anaconda3/lib/python3.7/site-packages/sklearn/ensemble/forest.py:246: FutureWarning: The default value of n_estimators will change from 10 in version 0.20 to 100 in 0.22.\n",
      "  \"10 in version 0.20 to 100 in 0.22.\", FutureWarning)\n"
     ]
    },
    {
     "name": "stdout",
     "output_type": "stream",
     "text": [
<<<<<<< HEAD
      "accuracy: 0.4444444444444444\n",
      "predicted class counts: Counter({1: 164, 0: 58, -1: 21})\n",
      "Data spread:  Counter({'1': 497, '0': 318, '-1': 155})\n"
=======
      "accuracy: 0.47058823529411764\n",
      "predicted class counts: Counter({1: 202, 0: 57, -1: 47})\n",
      "Data spread:  Counter({'1': 604, '0': 395, '-1': 225})\n"
>>>>>>> f5732e50df470a54703b3c767973179f753873af
     ]
    },
    {
     "name": "stderr",
     "output_type": "stream",
     "text": [
      "/home/seb/anaconda3/lib/python3.7/site-packages/sklearn/ensemble/forest.py:246: FutureWarning: The default value of n_estimators will change from 10 in version 0.20 to 100 in 0.22.\n",
      "  \"10 in version 0.20 to 100 in 0.22.\", FutureWarning)\n"
     ]
    },
    {
     "name": "stdout",
     "output_type": "stream",
     "text": [
<<<<<<< HEAD
      "accuracy: 0.3868312757201646\n",
      "predicted class counts: Counter({1: 147, 0: 71, -1: 25})\n",
      "Data spread:  Counter({'1': 497, '0': 318, '-1': 155})\n"
=======
      "accuracy: 0.4673202614379085\n",
      "predicted class counts: Counter({1: 177, 0: 94, -1: 35})\n",
      "Data spread:  Counter({'1': 604, '0': 395, '-1': 225})\n"
>>>>>>> f5732e50df470a54703b3c767973179f753873af
     ]
    },
    {
     "name": "stderr",
     "output_type": "stream",
     "text": [
      "/home/seb/anaconda3/lib/python3.7/site-packages/sklearn/ensemble/forest.py:246: FutureWarning: The default value of n_estimators will change from 10 in version 0.20 to 100 in 0.22.\n",
      "  \"10 in version 0.20 to 100 in 0.22.\", FutureWarning)\n"
     ]
    },
    {
     "name": "stdout",
     "output_type": "stream",
     "text": [
<<<<<<< HEAD
      "accuracy: 0.42386831275720166\n",
      "predicted class counts: Counter({1: 154, 0: 60, -1: 29})\n",
      "Data spread:  Counter({'1': 497, '0': 318, '-1': 155})\n"
=======
      "accuracy: 0.43137254901960786\n",
      "predicted class counts: Counter({1: 183, 0: 95, -1: 28})\n",
      "Data spread:  Counter({'1': 604, '0': 395, '-1': 225})\n"
>>>>>>> f5732e50df470a54703b3c767973179f753873af
     ]
    },
    {
     "name": "stderr",
     "output_type": "stream",
     "text": [
      "/home/seb/anaconda3/lib/python3.7/site-packages/sklearn/ensemble/forest.py:246: FutureWarning: The default value of n_estimators will change from 10 in version 0.20 to 100 in 0.22.\n",
      "  \"10 in version 0.20 to 100 in 0.22.\", FutureWarning)\n"
     ]
    },
    {
     "name": "stdout",
     "output_type": "stream",
     "text": [
<<<<<<< HEAD
      "accuracy: 0.5061728395061729\n",
      "predicted class counts: Counter({1: 156, 0: 71, -1: 16})\n",
      "Data spread:  Counter({'1': 497, '0': 318, '-1': 155})\n"
=======
      "accuracy: 0.45098039215686275\n",
      "predicted class counts: Counter({1: 183, 0: 88, -1: 35})\n",
      "Data spread:  Counter({'1': 604, '0': 395, '-1': 225})\n"
>>>>>>> f5732e50df470a54703b3c767973179f753873af
     ]
    },
    {
     "name": "stderr",
     "output_type": "stream",
     "text": [
      "/home/seb/anaconda3/lib/python3.7/site-packages/sklearn/ensemble/forest.py:246: FutureWarning: The default value of n_estimators will change from 10 in version 0.20 to 100 in 0.22.\n",
      "  \"10 in version 0.20 to 100 in 0.22.\", FutureWarning)\n"
     ]
    },
    {
     "name": "stdout",
     "output_type": "stream",
     "text": [
<<<<<<< HEAD
      "accuracy: 0.46502057613168724\n",
      "predicted class counts: Counter({1: 158, 0: 69, -1: 16})\n",
      "training 275 out of 500\n",
      "Data spread:  Counter({'1': 497, '0': 318, '-1': 155})\n"
=======
      "accuracy: 0.45751633986928103\n",
      "predicted class counts: Counter({1: 208, 0: 78, -1: 20})\n",
      "training 275 out of 500\n",
      "Data spread:  Counter({'1': 604, '0': 395, '-1': 225})\n"
>>>>>>> f5732e50df470a54703b3c767973179f753873af
     ]
    },
    {
     "name": "stderr",
     "output_type": "stream",
     "text": [
      "/home/seb/anaconda3/lib/python3.7/site-packages/sklearn/ensemble/forest.py:246: FutureWarning: The default value of n_estimators will change from 10 in version 0.20 to 100 in 0.22.\n",
      "  \"10 in version 0.20 to 100 in 0.22.\", FutureWarning)\n"
     ]
    },
    {
     "name": "stdout",
     "output_type": "stream",
     "text": [
<<<<<<< HEAD
      "accuracy: 0.4732510288065844\n",
      "predicted class counts: Counter({1: 161, 0: 73, -1: 9})\n",
      "Data spread:  Counter({'1': 497, '0': 318, '-1': 155})\n"
=======
      "accuracy: 0.45751633986928103\n",
      "predicted class counts: Counter({1: 211, 0: 69, -1: 26})\n",
      "Data spread:  Counter({'1': 604, '0': 395, '-1': 225})\n"
>>>>>>> f5732e50df470a54703b3c767973179f753873af
     ]
    },
    {
     "name": "stderr",
     "output_type": "stream",
     "text": [
      "/home/seb/anaconda3/lib/python3.7/site-packages/sklearn/ensemble/forest.py:246: FutureWarning: The default value of n_estimators will change from 10 in version 0.20 to 100 in 0.22.\n",
      "  \"10 in version 0.20 to 100 in 0.22.\", FutureWarning)\n"
     ]
    },
    {
     "name": "stdout",
     "output_type": "stream",
     "text": [
<<<<<<< HEAD
      "accuracy: 0.4773662551440329\n",
      "predicted class counts: Counter({1: 178, 0: 47, -1: 18})\n",
      "Data spread:  Counter({'1': 497, '0': 318, '-1': 155})\n"
=======
      "accuracy: 0.4542483660130719\n",
      "predicted class counts: Counter({1: 170, 0: 96, -1: 40})\n",
      "Data spread:  Counter({'1': 604, '0': 395, '-1': 225})\n"
>>>>>>> f5732e50df470a54703b3c767973179f753873af
     ]
    },
    {
     "name": "stderr",
     "output_type": "stream",
     "text": [
      "/home/seb/anaconda3/lib/python3.7/site-packages/sklearn/ensemble/forest.py:246: FutureWarning: The default value of n_estimators will change from 10 in version 0.20 to 100 in 0.22.\n",
      "  \"10 in version 0.20 to 100 in 0.22.\", FutureWarning)\n"
     ]
    },
    {
     "name": "stdout",
     "output_type": "stream",
     "text": [
<<<<<<< HEAD
      "accuracy: 0.4567901234567901\n",
      "predicted class counts: Counter({1: 159, 0: 66, -1: 18})\n",
      "Data spread:  Counter({'1': 497, '0': 318, '-1': 155})\n"
=======
      "accuracy: 0.4803921568627451\n",
      "predicted class counts: Counter({1: 180, 0: 102, -1: 24})\n",
      "Data spread:  Counter({'1': 604, '0': 395, '-1': 225})\n"
>>>>>>> f5732e50df470a54703b3c767973179f753873af
     ]
    },
    {
     "name": "stderr",
     "output_type": "stream",
     "text": [
      "/home/seb/anaconda3/lib/python3.7/site-packages/sklearn/ensemble/forest.py:246: FutureWarning: The default value of n_estimators will change from 10 in version 0.20 to 100 in 0.22.\n",
      "  \"10 in version 0.20 to 100 in 0.22.\", FutureWarning)\n"
     ]
    },
    {
     "name": "stdout",
     "output_type": "stream",
     "text": [
<<<<<<< HEAD
      "accuracy: 0.4691358024691358\n",
      "predicted class counts: Counter({1: 143, 0: 74, -1: 26})\n",
      "Data spread:  Counter({'1': 497, '0': 318, '-1': 155})\n"
=======
      "accuracy: 0.45098039215686275\n",
      "predicted class counts: Counter({1: 193, 0: 76, -1: 37})\n",
      "Data spread:  Counter({'1': 604, '0': 395, '-1': 225})\n"
>>>>>>> f5732e50df470a54703b3c767973179f753873af
     ]
    },
    {
     "name": "stderr",
     "output_type": "stream",
     "text": [
      "/home/seb/anaconda3/lib/python3.7/site-packages/sklearn/ensemble/forest.py:246: FutureWarning: The default value of n_estimators will change from 10 in version 0.20 to 100 in 0.22.\n",
      "  \"10 in version 0.20 to 100 in 0.22.\", FutureWarning)\n"
     ]
    },
    {
     "name": "stdout",
     "output_type": "stream",
     "text": [
<<<<<<< HEAD
      "accuracy: 0.4567901234567901\n",
      "predicted class counts: Counter({1: 153, 0: 77, -1: 13})\n",
      "training 280 out of 500\n",
      "Data spread:  Counter({'1': 497, '0': 318, '-1': 155})\n"
=======
      "accuracy: 0.4444444444444444\n",
      "predicted class counts: Counter({1: 192, 0: 73, -1: 41})\n",
      "training 280 out of 500\n",
      "Data spread:  Counter({'1': 604, '0': 395, '-1': 225})\n"
>>>>>>> f5732e50df470a54703b3c767973179f753873af
     ]
    },
    {
     "name": "stderr",
     "output_type": "stream",
     "text": [
      "/home/seb/anaconda3/lib/python3.7/site-packages/sklearn/ensemble/forest.py:246: FutureWarning: The default value of n_estimators will change from 10 in version 0.20 to 100 in 0.22.\n",
      "  \"10 in version 0.20 to 100 in 0.22.\", FutureWarning)\n"
     ]
    },
    {
     "name": "stdout",
     "output_type": "stream",
     "text": [
<<<<<<< HEAD
      "accuracy: 0.43209876543209874\n",
      "predicted class counts: Counter({1: 161, 0: 67, -1: 15})\n",
      "Data spread:  Counter({'1': 497, '0': 318, '-1': 155})\n"
=======
      "accuracy: 0.40522875816993464\n",
      "predicted class counts: Counter({1: 155, 0: 120, -1: 31})\n",
      "Data spread:  Counter({'1': 604, '0': 395, '-1': 225})\n"
>>>>>>> f5732e50df470a54703b3c767973179f753873af
     ]
    },
    {
     "name": "stderr",
     "output_type": "stream",
     "text": [
      "/home/seb/anaconda3/lib/python3.7/site-packages/sklearn/ensemble/forest.py:246: FutureWarning: The default value of n_estimators will change from 10 in version 0.20 to 100 in 0.22.\n",
      "  \"10 in version 0.20 to 100 in 0.22.\", FutureWarning)\n"
     ]
    },
    {
     "name": "stdout",
     "output_type": "stream",
     "text": [
<<<<<<< HEAD
      "accuracy: 0.4156378600823045\n",
      "predicted class counts: Counter({1: 156, 0: 67, -1: 20})\n",
      "Data spread:  Counter({'1': 497, '0': 318, '-1': 155})\n"
=======
      "accuracy: 0.41830065359477125\n",
      "predicted class counts: Counter({1: 212, 0: 73, -1: 21})\n",
      "Data spread:  Counter({'1': 604, '0': 395, '-1': 225})\n"
>>>>>>> f5732e50df470a54703b3c767973179f753873af
     ]
    },
    {
     "name": "stderr",
     "output_type": "stream",
     "text": [
      "/home/seb/anaconda3/lib/python3.7/site-packages/sklearn/ensemble/forest.py:246: FutureWarning: The default value of n_estimators will change from 10 in version 0.20 to 100 in 0.22.\n",
      "  \"10 in version 0.20 to 100 in 0.22.\", FutureWarning)\n"
     ]
    },
    {
     "name": "stdout",
     "output_type": "stream",
     "text": [
<<<<<<< HEAD
      "accuracy: 0.448559670781893\n",
      "predicted class counts: Counter({1: 173, 0: 56, -1: 14})\n",
      "Data spread:  Counter({'1': 497, '0': 318, '-1': 155})\n"
=======
      "accuracy: 0.40522875816993464\n",
      "predicted class counts: Counter({1: 227, 0: 51, -1: 28})\n",
      "Data spread:  Counter({'1': 604, '0': 395, '-1': 225})\n"
>>>>>>> f5732e50df470a54703b3c767973179f753873af
     ]
    },
    {
     "name": "stderr",
     "output_type": "stream",
     "text": [
      "/home/seb/anaconda3/lib/python3.7/site-packages/sklearn/ensemble/forest.py:246: FutureWarning: The default value of n_estimators will change from 10 in version 0.20 to 100 in 0.22.\n",
      "  \"10 in version 0.20 to 100 in 0.22.\", FutureWarning)\n"
     ]
    },
    {
     "name": "stdout",
     "output_type": "stream",
     "text": [
<<<<<<< HEAD
      "accuracy: 0.3868312757201646\n",
      "predicted class counts: Counter({1: 158, 0: 70, -1: 15})\n",
      "Data spread:  Counter({'1': 497, '0': 318, '-1': 155})\n"
=======
      "accuracy: 0.39869281045751637\n",
      "predicted class counts: Counter({1: 201, 0: 80, -1: 25})\n",
      "Data spread:  Counter({'1': 604, '0': 395, '-1': 225})\n"
>>>>>>> f5732e50df470a54703b3c767973179f753873af
     ]
    },
    {
     "name": "stderr",
     "output_type": "stream",
     "text": [
      "/home/seb/anaconda3/lib/python3.7/site-packages/sklearn/ensemble/forest.py:246: FutureWarning: The default value of n_estimators will change from 10 in version 0.20 to 100 in 0.22.\n",
      "  \"10 in version 0.20 to 100 in 0.22.\", FutureWarning)\n"
     ]
    },
    {
     "name": "stdout",
     "output_type": "stream",
     "text": [
<<<<<<< HEAD
      "accuracy: 0.4567901234567901\n",
      "predicted class counts: Counter({1: 164, 0: 69, -1: 10})\n",
      "training 285 out of 500\n",
      "Data spread:  Counter({'1': 497, '0': 318, '-1': 155})\n"
=======
      "accuracy: 0.434640522875817\n",
      "predicted class counts: Counter({1: 198, 0: 90, -1: 18})\n",
      "training 285 out of 500\n",
      "Data spread:  Counter({'1': 604, '0': 395, '-1': 225})\n"
>>>>>>> f5732e50df470a54703b3c767973179f753873af
     ]
    },
    {
     "name": "stderr",
     "output_type": "stream",
     "text": [
      "/home/seb/anaconda3/lib/python3.7/site-packages/sklearn/ensemble/forest.py:246: FutureWarning: The default value of n_estimators will change from 10 in version 0.20 to 100 in 0.22.\n",
      "  \"10 in version 0.20 to 100 in 0.22.\", FutureWarning)\n"
     ]
    },
    {
     "name": "stdout",
     "output_type": "stream",
     "text": [
<<<<<<< HEAD
      "accuracy: 0.4773662551440329\n",
      "predicted class counts: Counter({1: 147, 0: 88, -1: 8})\n",
      "Data spread:  Counter({'1': 497, '0': 318, '-1': 155})\n"
=======
      "accuracy: 0.43790849673202614\n",
      "predicted class counts: Counter({1: 214, 0: 67, -1: 25})\n",
      "Data spread:  Counter({'1': 604, '0': 395, '-1': 225})\n"
>>>>>>> f5732e50df470a54703b3c767973179f753873af
     ]
    },
    {
     "name": "stderr",
     "output_type": "stream",
     "text": [
      "/home/seb/anaconda3/lib/python3.7/site-packages/sklearn/ensemble/forest.py:246: FutureWarning: The default value of n_estimators will change from 10 in version 0.20 to 100 in 0.22.\n",
      "  \"10 in version 0.20 to 100 in 0.22.\", FutureWarning)\n"
     ]
    },
    {
     "name": "stdout",
     "output_type": "stream",
     "text": [
<<<<<<< HEAD
      "accuracy: 0.4897119341563786\n",
      "predicted class counts: Counter({1: 144, 0: 82, -1: 17})\n",
      "Data spread:  Counter({'1': 497, '0': 318, '-1': 155})\n"
=======
      "accuracy: 0.4673202614379085\n",
      "predicted class counts: Counter({1: 198, 0: 83, -1: 25})\n",
      "Data spread:  Counter({'1': 604, '0': 395, '-1': 225})\n"
>>>>>>> f5732e50df470a54703b3c767973179f753873af
     ]
    },
    {
     "name": "stderr",
     "output_type": "stream",
     "text": [
      "/home/seb/anaconda3/lib/python3.7/site-packages/sklearn/ensemble/forest.py:246: FutureWarning: The default value of n_estimators will change from 10 in version 0.20 to 100 in 0.22.\n",
      "  \"10 in version 0.20 to 100 in 0.22.\", FutureWarning)\n"
     ]
    },
    {
     "name": "stdout",
     "output_type": "stream",
     "text": [
<<<<<<< HEAD
      "accuracy: 0.43209876543209874\n",
      "predicted class counts: Counter({1: 152, 0: 65, -1: 26})\n",
      "Data spread:  Counter({'1': 497, '0': 318, '-1': 155})\n"
=======
      "accuracy: 0.4411764705882353\n",
      "predicted class counts: Counter({1: 166, 0: 104, -1: 36})\n",
      "Data spread:  Counter({'1': 604, '0': 395, '-1': 225})\n"
>>>>>>> f5732e50df470a54703b3c767973179f753873af
     ]
    },
    {
     "name": "stderr",
     "output_type": "stream",
     "text": [
      "/home/seb/anaconda3/lib/python3.7/site-packages/sklearn/ensemble/forest.py:246: FutureWarning: The default value of n_estimators will change from 10 in version 0.20 to 100 in 0.22.\n",
      "  \"10 in version 0.20 to 100 in 0.22.\", FutureWarning)\n"
     ]
    },
    {
     "name": "stdout",
     "output_type": "stream",
     "text": [
<<<<<<< HEAD
      "accuracy: 0.4773662551440329\n",
      "predicted class counts: Counter({1: 151, 0: 71, -1: 21})\n",
      "Data spread:  Counter({'1': 497, '0': 318, '-1': 155})\n"
=======
      "accuracy: 0.4477124183006536\n",
      "predicted class counts: Counter({1: 229, 0: 58, -1: 19})\n",
      "Data spread:  Counter({'1': 604, '0': 395, '-1': 225})\n"
>>>>>>> f5732e50df470a54703b3c767973179f753873af
     ]
    },
    {
     "name": "stderr",
     "output_type": "stream",
     "text": [
      "/home/seb/anaconda3/lib/python3.7/site-packages/sklearn/ensemble/forest.py:246: FutureWarning: The default value of n_estimators will change from 10 in version 0.20 to 100 in 0.22.\n",
      "  \"10 in version 0.20 to 100 in 0.22.\", FutureWarning)\n"
     ]
    },
    {
     "name": "stdout",
     "output_type": "stream",
     "text": [
<<<<<<< HEAD
      "accuracy: 0.4444444444444444\n",
      "predicted class counts: Counter({1: 172, 0: 55, -1: 16})\n",
      "training 290 out of 500\n",
      "Data spread:  Counter({'1': 497, '0': 318, '-1': 155})\n"
=======
      "accuracy: 0.3627450980392157\n",
      "predicted class counts: Counter({1: 152, 0: 109, -1: 45})\n",
      "training 290 out of 500\n",
      "Data spread:  Counter({'1': 604, '0': 395, '-1': 225})\n"
>>>>>>> f5732e50df470a54703b3c767973179f753873af
     ]
    },
    {
     "name": "stderr",
     "output_type": "stream",
     "text": [
      "/home/seb/anaconda3/lib/python3.7/site-packages/sklearn/ensemble/forest.py:246: FutureWarning: The default value of n_estimators will change from 10 in version 0.20 to 100 in 0.22.\n",
      "  \"10 in version 0.20 to 100 in 0.22.\", FutureWarning)\n"
     ]
    },
    {
     "name": "stdout",
     "output_type": "stream",
     "text": [
<<<<<<< HEAD
      "accuracy: 0.48559670781893005\n",
      "predicted class counts: Counter({1: 163, 0: 62, -1: 18})\n",
      "Data spread:  Counter({'1': 497, '0': 318, '-1': 155})\n"
=======
      "accuracy: 0.42810457516339867\n",
      "predicted class counts: Counter({1: 176, 0: 82, -1: 48})\n",
      "Data spread:  Counter({'1': 604, '0': 395, '-1': 225})\n"
>>>>>>> f5732e50df470a54703b3c767973179f753873af
     ]
    },
    {
     "name": "stderr",
     "output_type": "stream",
     "text": [
      "/home/seb/anaconda3/lib/python3.7/site-packages/sklearn/ensemble/forest.py:246: FutureWarning: The default value of n_estimators will change from 10 in version 0.20 to 100 in 0.22.\n",
      "  \"10 in version 0.20 to 100 in 0.22.\", FutureWarning)\n"
     ]
    },
    {
     "name": "stdout",
     "output_type": "stream",
     "text": [
<<<<<<< HEAD
      "accuracy: 0.48559670781893005\n",
      "predicted class counts: Counter({1: 147, 0: 79, -1: 17})\n",
      "Data spread:  Counter({'1': 497, '0': 318, '-1': 155})\n"
=======
      "accuracy: 0.43790849673202614\n",
      "predicted class counts: Counter({1: 215, 0: 70, -1: 21})\n",
      "Data spread:  Counter({'1': 604, '0': 395, '-1': 225})\n"
>>>>>>> f5732e50df470a54703b3c767973179f753873af
     ]
    },
    {
     "name": "stderr",
     "output_type": "stream",
     "text": [
      "/home/seb/anaconda3/lib/python3.7/site-packages/sklearn/ensemble/forest.py:246: FutureWarning: The default value of n_estimators will change from 10 in version 0.20 to 100 in 0.22.\n",
      "  \"10 in version 0.20 to 100 in 0.22.\", FutureWarning)\n"
     ]
    },
    {
     "name": "stdout",
     "output_type": "stream",
     "text": [
<<<<<<< HEAD
      "accuracy: 0.5061728395061729\n",
      "predicted class counts: Counter({1: 151, 0: 76, -1: 16})\n",
      "Data spread:  Counter({'1': 497, '0': 318, '-1': 155})\n"
=======
      "accuracy: 0.43137254901960786\n",
      "predicted class counts: Counter({1: 175, 0: 103, -1: 28})\n",
      "Data spread:  Counter({'1': 604, '0': 395, '-1': 225})\n"
>>>>>>> f5732e50df470a54703b3c767973179f753873af
     ]
    },
    {
     "name": "stderr",
     "output_type": "stream",
     "text": [
      "/home/seb/anaconda3/lib/python3.7/site-packages/sklearn/ensemble/forest.py:246: FutureWarning: The default value of n_estimators will change from 10 in version 0.20 to 100 in 0.22.\n",
      "  \"10 in version 0.20 to 100 in 0.22.\", FutureWarning)\n"
     ]
    },
    {
     "name": "stdout",
     "output_type": "stream",
     "text": [
<<<<<<< HEAD
      "accuracy: 0.46502057613168724\n",
      "predicted class counts: Counter({1: 147, 0: 78, -1: 18})\n",
      "Data spread:  Counter({'1': 497, '0': 318, '-1': 155})\n"
=======
      "accuracy: 0.39869281045751637\n",
      "predicted class counts: Counter({1: 208, 0: 71, -1: 27})\n",
      "Data spread:  Counter({'1': 604, '0': 395, '-1': 225})\n"
>>>>>>> f5732e50df470a54703b3c767973179f753873af
     ]
    },
    {
     "name": "stderr",
     "output_type": "stream",
     "text": [
      "/home/seb/anaconda3/lib/python3.7/site-packages/sklearn/ensemble/forest.py:246: FutureWarning: The default value of n_estimators will change from 10 in version 0.20 to 100 in 0.22.\n",
      "  \"10 in version 0.20 to 100 in 0.22.\", FutureWarning)\n"
     ]
    },
    {
     "name": "stdout",
     "output_type": "stream",
     "text": [
<<<<<<< HEAD
      "accuracy: 0.43621399176954734\n",
      "predicted class counts: Counter({1: 151, 0: 76, -1: 16})\n",
      "training 295 out of 500\n",
      "Data spread:  Counter({'1': 497, '0': 318, '-1': 155})\n"
=======
      "accuracy: 0.47058823529411764\n",
      "predicted class counts: Counter({1: 196, 0: 79, -1: 31})\n",
      "training 295 out of 500\n",
      "Data spread:  Counter({'1': 604, '0': 395, '-1': 225})\n"
>>>>>>> f5732e50df470a54703b3c767973179f753873af
     ]
    },
    {
     "name": "stderr",
     "output_type": "stream",
     "text": [
      "/home/seb/anaconda3/lib/python3.7/site-packages/sklearn/ensemble/forest.py:246: FutureWarning: The default value of n_estimators will change from 10 in version 0.20 to 100 in 0.22.\n",
      "  \"10 in version 0.20 to 100 in 0.22.\", FutureWarning)\n"
     ]
    },
    {
     "name": "stdout",
     "output_type": "stream",
     "text": [
<<<<<<< HEAD
      "accuracy: 0.42386831275720166\n",
      "predicted class counts: Counter({1: 164, 0: 72, -1: 7})\n",
      "Data spread:  Counter({'1': 497, '0': 318, '-1': 155})\n"
=======
      "accuracy: 0.4477124183006536\n",
      "predicted class counts: Counter({1: 202, 0: 80, -1: 24})\n",
      "Data spread:  Counter({'1': 604, '0': 395, '-1': 225})\n"
>>>>>>> f5732e50df470a54703b3c767973179f753873af
     ]
    },
    {
     "name": "stderr",
     "output_type": "stream",
     "text": [
      "/home/seb/anaconda3/lib/python3.7/site-packages/sklearn/ensemble/forest.py:246: FutureWarning: The default value of n_estimators will change from 10 in version 0.20 to 100 in 0.22.\n",
      "  \"10 in version 0.20 to 100 in 0.22.\", FutureWarning)\n"
     ]
    },
    {
     "name": "stdout",
     "output_type": "stream",
     "text": [
<<<<<<< HEAD
      "accuracy: 0.4897119341563786\n",
      "predicted class counts: Counter({1: 144, 0: 84, -1: 15})\n",
      "Data spread:  Counter({'1': 497, '0': 318, '-1': 155})\n"
=======
      "accuracy: 0.434640522875817\n",
      "predicted class counts: Counter({1: 189, 0: 96, -1: 21})\n",
      "Data spread:  Counter({'1': 604, '0': 395, '-1': 225})\n"
>>>>>>> f5732e50df470a54703b3c767973179f753873af
     ]
    },
    {
     "name": "stderr",
     "output_type": "stream",
     "text": [
      "/home/seb/anaconda3/lib/python3.7/site-packages/sklearn/ensemble/forest.py:246: FutureWarning: The default value of n_estimators will change from 10 in version 0.20 to 100 in 0.22.\n",
      "  \"10 in version 0.20 to 100 in 0.22.\", FutureWarning)\n"
     ]
    },
    {
     "name": "stdout",
     "output_type": "stream",
     "text": [
<<<<<<< HEAD
      "accuracy: 0.4691358024691358\n",
      "predicted class counts: Counter({1: 129, 0: 101, -1: 13})\n",
      "Data spread:  Counter({'1': 497, '0': 318, '-1': 155})\n"
=======
      "accuracy: 0.4738562091503268\n",
      "predicted class counts: Counter({1: 204, 0: 76, -1: 26})\n",
      "Data spread:  Counter({'1': 604, '0': 395, '-1': 225})\n"
>>>>>>> f5732e50df470a54703b3c767973179f753873af
     ]
    },
    {
     "name": "stderr",
     "output_type": "stream",
     "text": [
      "/home/seb/anaconda3/lib/python3.7/site-packages/sklearn/ensemble/forest.py:246: FutureWarning: The default value of n_estimators will change from 10 in version 0.20 to 100 in 0.22.\n",
      "  \"10 in version 0.20 to 100 in 0.22.\", FutureWarning)\n"
     ]
    },
    {
     "name": "stdout",
     "output_type": "stream",
     "text": [
<<<<<<< HEAD
      "accuracy: 0.448559670781893\n",
      "predicted class counts: Counter({1: 153, 0: 70, -1: 20})\n",
      "Data spread:  Counter({'1': 497, '0': 318, '-1': 155})\n"
=======
      "accuracy: 0.4444444444444444\n",
      "predicted class counts: Counter({1: 204, 0: 89, -1: 13})\n",
      "Data spread:  Counter({'1': 604, '0': 395, '-1': 225})\n"
>>>>>>> f5732e50df470a54703b3c767973179f753873af
     ]
    },
    {
     "name": "stderr",
     "output_type": "stream",
     "text": [
      "/home/seb/anaconda3/lib/python3.7/site-packages/sklearn/ensemble/forest.py:246: FutureWarning: The default value of n_estimators will change from 10 in version 0.20 to 100 in 0.22.\n",
      "  \"10 in version 0.20 to 100 in 0.22.\", FutureWarning)\n"
     ]
    },
    {
     "name": "stdout",
     "output_type": "stream",
     "text": [
<<<<<<< HEAD
      "accuracy: 0.4279835390946502\n",
      "predicted class counts: Counter({1: 141, 0: 81, -1: 21})\n",
      "training 300 out of 500\n",
      "Data spread:  Counter({'1': 497, '0': 318, '-1': 155})\n"
=======
      "accuracy: 0.43790849673202614\n",
      "predicted class counts: Counter({1: 221, 0: 60, -1: 25})\n",
      "training 300 out of 500\n",
      "Data spread:  Counter({'1': 604, '0': 395, '-1': 225})\n"
>>>>>>> f5732e50df470a54703b3c767973179f753873af
     ]
    },
    {
     "name": "stderr",
     "output_type": "stream",
     "text": [
      "/home/seb/anaconda3/lib/python3.7/site-packages/sklearn/ensemble/forest.py:246: FutureWarning: The default value of n_estimators will change from 10 in version 0.20 to 100 in 0.22.\n",
      "  \"10 in version 0.20 to 100 in 0.22.\", FutureWarning)\n"
     ]
    },
    {
     "name": "stdout",
     "output_type": "stream",
     "text": [
<<<<<<< HEAD
      "accuracy: 0.4156378600823045\n",
      "predicted class counts: Counter({1: 134, 0: 84, -1: 25})\n",
      "Data spread:  Counter({'1': 497, '0': 318, '-1': 155})\n"
=======
      "accuracy: 0.434640522875817\n",
      "predicted class counts: Counter({1: 189, 0: 81, -1: 36})\n",
      "Data spread:  Counter({'1': 604, '0': 395, '-1': 225})\n"
>>>>>>> f5732e50df470a54703b3c767973179f753873af
     ]
    },
    {
     "name": "stderr",
     "output_type": "stream",
     "text": [
      "/home/seb/anaconda3/lib/python3.7/site-packages/sklearn/ensemble/forest.py:246: FutureWarning: The default value of n_estimators will change from 10 in version 0.20 to 100 in 0.22.\n",
      "  \"10 in version 0.20 to 100 in 0.22.\", FutureWarning)\n"
     ]
    },
    {
     "name": "stdout",
     "output_type": "stream",
     "text": [
<<<<<<< HEAD
      "accuracy: 0.4567901234567901\n",
      "predicted class counts: Counter({1: 145, 0: 69, -1: 29})\n",
      "Data spread:  Counter({'1': 497, '0': 318, '-1': 155})\n"
=======
      "accuracy: 0.4117647058823529\n",
      "predicted class counts: Counter({1: 181, 0: 91, -1: 34})\n",
      "Data spread:  Counter({'1': 604, '0': 395, '-1': 225})\n"
>>>>>>> f5732e50df470a54703b3c767973179f753873af
     ]
    },
    {
     "name": "stderr",
     "output_type": "stream",
     "text": [
      "/home/seb/anaconda3/lib/python3.7/site-packages/sklearn/ensemble/forest.py:246: FutureWarning: The default value of n_estimators will change from 10 in version 0.20 to 100 in 0.22.\n",
      "  \"10 in version 0.20 to 100 in 0.22.\", FutureWarning)\n"
     ]
    },
    {
     "name": "stdout",
     "output_type": "stream",
     "text": [
<<<<<<< HEAD
      "accuracy: 0.48559670781893005\n",
      "predicted class counts: Counter({1: 151, 0: 74, -1: 18})\n",
      "Data spread:  Counter({'1': 497, '0': 318, '-1': 155})\n"
=======
      "accuracy: 0.4542483660130719\n",
      "predicted class counts: Counter({1: 199, 0: 83, -1: 24})\n",
      "Data spread:  Counter({'1': 604, '0': 395, '-1': 225})\n"
>>>>>>> f5732e50df470a54703b3c767973179f753873af
     ]
    },
    {
     "name": "stderr",
     "output_type": "stream",
     "text": [
      "/home/seb/anaconda3/lib/python3.7/site-packages/sklearn/ensemble/forest.py:246: FutureWarning: The default value of n_estimators will change from 10 in version 0.20 to 100 in 0.22.\n",
      "  \"10 in version 0.20 to 100 in 0.22.\", FutureWarning)\n"
     ]
    },
    {
     "name": "stdout",
     "output_type": "stream",
     "text": [
<<<<<<< HEAD
      "accuracy: 0.49794238683127573\n",
      "predicted class counts: Counter({1: 152, 0: 72, -1: 19})\n",
      "Data spread:  Counter({'1': 497, '0': 318, '-1': 155})\n"
=======
      "accuracy: 0.43137254901960786\n",
      "predicted class counts: Counter({1: 207, 0: 68, -1: 31})\n",
      "Data spread:  Counter({'1': 604, '0': 395, '-1': 225})\n"
>>>>>>> f5732e50df470a54703b3c767973179f753873af
     ]
    },
    {
     "name": "stderr",
     "output_type": "stream",
     "text": [
      "/home/seb/anaconda3/lib/python3.7/site-packages/sklearn/ensemble/forest.py:246: FutureWarning: The default value of n_estimators will change from 10 in version 0.20 to 100 in 0.22.\n",
      "  \"10 in version 0.20 to 100 in 0.22.\", FutureWarning)\n"
     ]
    },
    {
     "name": "stdout",
     "output_type": "stream",
     "text": [
<<<<<<< HEAD
      "accuracy: 0.43621399176954734\n",
      "predicted class counts: Counter({1: 131, 0: 94, -1: 18})\n",
      "training 305 out of 500\n",
      "Data spread:  Counter({'1': 497, '0': 318, '-1': 155})\n"
=======
      "accuracy: 0.4738562091503268\n",
      "predicted class counts: Counter({1: 179, 0: 98, -1: 29})\n",
      "training 305 out of 500\n",
      "Data spread:  Counter({'1': 604, '0': 395, '-1': 225})\n"
>>>>>>> f5732e50df470a54703b3c767973179f753873af
     ]
    },
    {
     "name": "stderr",
     "output_type": "stream",
     "text": [
      "/home/seb/anaconda3/lib/python3.7/site-packages/sklearn/ensemble/forest.py:246: FutureWarning: The default value of n_estimators will change from 10 in version 0.20 to 100 in 0.22.\n",
      "  \"10 in version 0.20 to 100 in 0.22.\", FutureWarning)\n"
     ]
    },
    {
     "name": "stdout",
     "output_type": "stream",
     "text": [
<<<<<<< HEAD
      "accuracy: 0.5020576131687243\n",
      "predicted class counts: Counter({1: 155, 0: 70, -1: 18})\n",
      "Data spread:  Counter({'1': 497, '0': 318, '-1': 155})\n"
=======
      "accuracy: 0.45098039215686275\n",
      "predicted class counts: Counter({1: 180, 0: 97, -1: 29})\n",
      "Data spread:  Counter({'1': 604, '0': 395, '-1': 225})\n"
>>>>>>> f5732e50df470a54703b3c767973179f753873af
     ]
    },
    {
     "name": "stderr",
     "output_type": "stream",
     "text": [
      "/home/seb/anaconda3/lib/python3.7/site-packages/sklearn/ensemble/forest.py:246: FutureWarning: The default value of n_estimators will change from 10 in version 0.20 to 100 in 0.22.\n",
      "  \"10 in version 0.20 to 100 in 0.22.\", FutureWarning)\n"
     ]
    },
    {
     "name": "stdout",
     "output_type": "stream",
     "text": [
<<<<<<< HEAD
      "accuracy: 0.45267489711934156\n",
      "predicted class counts: Counter({1: 168, 0: 64, -1: 11})\n",
      "Data spread:  Counter({'1': 497, '0': 318, '-1': 155})\n"
=======
      "accuracy: 0.4542483660130719\n",
      "predicted class counts: Counter({1: 176, 0: 101, -1: 29})\n",
      "Data spread:  Counter({'1': 604, '0': 395, '-1': 225})\n"
>>>>>>> f5732e50df470a54703b3c767973179f753873af
     ]
    },
    {
     "name": "stderr",
     "output_type": "stream",
     "text": [
      "/home/seb/anaconda3/lib/python3.7/site-packages/sklearn/ensemble/forest.py:246: FutureWarning: The default value of n_estimators will change from 10 in version 0.20 to 100 in 0.22.\n",
      "  \"10 in version 0.20 to 100 in 0.22.\", FutureWarning)\n"
     ]
    },
    {
     "name": "stdout",
     "output_type": "stream",
     "text": [
<<<<<<< HEAD
      "accuracy: 0.4074074074074074\n",
      "predicted class counts: Counter({1: 167, 0: 59, -1: 17})\n",
      "Data spread:  Counter({'1': 497, '0': 318, '-1': 155})\n"
=======
      "accuracy: 0.39215686274509803\n",
      "predicted class counts: Counter({1: 198, 0: 76, -1: 32})\n",
      "Data spread:  Counter({'1': 604, '0': 395, '-1': 225})\n"
>>>>>>> f5732e50df470a54703b3c767973179f753873af
     ]
    },
    {
     "name": "stderr",
     "output_type": "stream",
     "text": [
      "/home/seb/anaconda3/lib/python3.7/site-packages/sklearn/ensemble/forest.py:246: FutureWarning: The default value of n_estimators will change from 10 in version 0.20 to 100 in 0.22.\n",
      "  \"10 in version 0.20 to 100 in 0.22.\", FutureWarning)\n"
     ]
    },
    {
     "name": "stdout",
     "output_type": "stream",
     "text": [
<<<<<<< HEAD
      "accuracy: 0.46502057613168724\n",
      "predicted class counts: Counter({1: 172, 0: 61, -1: 10})\n",
      "Data spread:  Counter({'1': 497, '0': 318, '-1': 155})\n"
=======
      "accuracy: 0.4215686274509804\n",
      "predicted class counts: Counter({1: 169, 0: 103, -1: 34})\n",
      "Data spread:  Counter({'1': 604, '0': 395, '-1': 225})\n"
>>>>>>> f5732e50df470a54703b3c767973179f753873af
     ]
    },
    {
     "name": "stderr",
     "output_type": "stream",
     "text": [
      "/home/seb/anaconda3/lib/python3.7/site-packages/sklearn/ensemble/forest.py:246: FutureWarning: The default value of n_estimators will change from 10 in version 0.20 to 100 in 0.22.\n",
      "  \"10 in version 0.20 to 100 in 0.22.\", FutureWarning)\n"
     ]
    },
    {
     "name": "stdout",
     "output_type": "stream",
     "text": [
<<<<<<< HEAD
      "accuracy: 0.46502057613168724\n",
      "predicted class counts: Counter({1: 138, 0: 88, -1: 17})\n",
      "training 310 out of 500\n",
      "Data spread:  Counter({'1': 497, '0': 318, '-1': 155})\n"
=======
      "accuracy: 0.434640522875817\n",
      "predicted class counts: Counter({1: 189, 0: 87, -1: 30})\n",
      "training 310 out of 500\n",
      "Data spread:  Counter({'1': 604, '0': 395, '-1': 225})\n"
>>>>>>> f5732e50df470a54703b3c767973179f753873af
     ]
    },
    {
     "name": "stderr",
     "output_type": "stream",
     "text": [
      "/home/seb/anaconda3/lib/python3.7/site-packages/sklearn/ensemble/forest.py:246: FutureWarning: The default value of n_estimators will change from 10 in version 0.20 to 100 in 0.22.\n",
      "  \"10 in version 0.20 to 100 in 0.22.\", FutureWarning)\n"
     ]
    },
    {
     "name": "stdout",
     "output_type": "stream",
     "text": [
<<<<<<< HEAD
      "accuracy: 0.43621399176954734\n",
      "predicted class counts: Counter({1: 157, 0: 66, -1: 20})\n",
      "Data spread:  Counter({'1': 497, '0': 318, '-1': 155})\n"
=======
      "accuracy: 0.4477124183006536\n",
      "predicted class counts: Counter({1: 192, 0: 89, -1: 25})\n",
      "Data spread:  Counter({'1': 604, '0': 395, '-1': 225})\n"
>>>>>>> f5732e50df470a54703b3c767973179f753873af
     ]
    },
    {
     "name": "stderr",
     "output_type": "stream",
     "text": [
      "/home/seb/anaconda3/lib/python3.7/site-packages/sklearn/ensemble/forest.py:246: FutureWarning: The default value of n_estimators will change from 10 in version 0.20 to 100 in 0.22.\n",
      "  \"10 in version 0.20 to 100 in 0.22.\", FutureWarning)\n"
     ]
    },
    {
     "name": "stdout",
     "output_type": "stream",
     "text": [
<<<<<<< HEAD
      "accuracy: 0.4403292181069959\n",
      "predicted class counts: Counter({1: 146, 0: 91, -1: 6})\n",
      "Data spread:  Counter({'1': 497, '0': 318, '-1': 155})\n"
=======
      "accuracy: 0.38562091503267976\n",
      "predicted class counts: Counter({1: 194, 0: 81, -1: 31})\n",
      "Data spread:  Counter({'1': 604, '0': 395, '-1': 225})\n"
>>>>>>> f5732e50df470a54703b3c767973179f753873af
     ]
    },
    {
     "name": "stderr",
     "output_type": "stream",
     "text": [
      "/home/seb/anaconda3/lib/python3.7/site-packages/sklearn/ensemble/forest.py:246: FutureWarning: The default value of n_estimators will change from 10 in version 0.20 to 100 in 0.22.\n",
      "  \"10 in version 0.20 to 100 in 0.22.\", FutureWarning)\n"
     ]
    },
    {
     "name": "stdout",
     "output_type": "stream",
     "text": [
<<<<<<< HEAD
      "accuracy: 0.4403292181069959\n",
      "predicted class counts: Counter({1: 125, 0: 103, -1: 15})\n",
      "Data spread:  Counter({'1': 497, '0': 318, '-1': 155})\n"
=======
      "accuracy: 0.43137254901960786\n",
      "predicted class counts: Counter({1: 206, 0: 72, -1: 28})\n",
      "Data spread:  Counter({'1': 604, '0': 395, '-1': 225})\n"
>>>>>>> f5732e50df470a54703b3c767973179f753873af
     ]
    },
    {
     "name": "stderr",
     "output_type": "stream",
     "text": [
      "/home/seb/anaconda3/lib/python3.7/site-packages/sklearn/ensemble/forest.py:246: FutureWarning: The default value of n_estimators will change from 10 in version 0.20 to 100 in 0.22.\n",
      "  \"10 in version 0.20 to 100 in 0.22.\", FutureWarning)\n"
     ]
    },
    {
     "name": "stdout",
     "output_type": "stream",
     "text": [
<<<<<<< HEAD
      "accuracy: 0.48148148148148145\n",
      "predicted class counts: Counter({1: 148, 0: 79, -1: 16})\n",
      "Data spread:  Counter({'1': 497, '0': 318, '-1': 155})\n"
=======
      "accuracy: 0.4444444444444444\n",
      "predicted class counts: Counter({1: 210, 0: 75, -1: 21})\n",
      "Data spread:  Counter({'1': 604, '0': 395, '-1': 225})\n"
>>>>>>> f5732e50df470a54703b3c767973179f753873af
     ]
    },
    {
     "name": "stderr",
     "output_type": "stream",
     "text": [
      "/home/seb/anaconda3/lib/python3.7/site-packages/sklearn/ensemble/forest.py:246: FutureWarning: The default value of n_estimators will change from 10 in version 0.20 to 100 in 0.22.\n",
      "  \"10 in version 0.20 to 100 in 0.22.\", FutureWarning)\n"
     ]
    },
    {
     "name": "stdout",
     "output_type": "stream",
     "text": [
<<<<<<< HEAD
      "accuracy: 0.4279835390946502\n",
      "predicted class counts: Counter({1: 157, 0: 64, -1: 22})\n",
      "training 315 out of 500\n",
      "Data spread:  Counter({'1': 497, '0': 318, '-1': 155})\n"
=======
      "accuracy: 0.4444444444444444\n",
      "predicted class counts: Counter({1: 190, 0: 83, -1: 33})\n",
      "training 315 out of 500\n",
      "Data spread:  Counter({'1': 604, '0': 395, '-1': 225})\n"
>>>>>>> f5732e50df470a54703b3c767973179f753873af
     ]
    },
    {
     "name": "stderr",
     "output_type": "stream",
     "text": [
      "/home/seb/anaconda3/lib/python3.7/site-packages/sklearn/ensemble/forest.py:246: FutureWarning: The default value of n_estimators will change from 10 in version 0.20 to 100 in 0.22.\n",
      "  \"10 in version 0.20 to 100 in 0.22.\", FutureWarning)\n"
     ]
    },
    {
     "name": "stdout",
     "output_type": "stream",
     "text": [
<<<<<<< HEAD
      "accuracy: 0.48559670781893005\n",
      "predicted class counts: Counter({1: 155, 0: 80, -1: 8})\n",
      "Data spread:  Counter({'1': 497, '0': 318, '-1': 155})\n"
=======
      "accuracy: 0.46078431372549017\n",
      "predicted class counts: Counter({1: 220, 0: 56, -1: 30})\n",
      "Data spread:  Counter({'1': 604, '0': 395, '-1': 225})\n"
>>>>>>> f5732e50df470a54703b3c767973179f753873af
     ]
    },
    {
     "name": "stderr",
     "output_type": "stream",
     "text": [
      "/home/seb/anaconda3/lib/python3.7/site-packages/sklearn/ensemble/forest.py:246: FutureWarning: The default value of n_estimators will change from 10 in version 0.20 to 100 in 0.22.\n",
      "  \"10 in version 0.20 to 100 in 0.22.\", FutureWarning)\n"
     ]
    },
    {
     "name": "stdout",
     "output_type": "stream",
     "text": [
<<<<<<< HEAD
      "accuracy: 0.42386831275720166\n",
      "predicted class counts: Counter({1: 144, 0: 79, -1: 20})\n",
      "Data spread:  Counter({'1': 497, '0': 318, '-1': 155})\n"
=======
      "accuracy: 0.4150326797385621\n",
      "predicted class counts: Counter({1: 198, 0: 83, -1: 25})\n",
      "Data spread:  Counter({'1': 604, '0': 395, '-1': 225})\n"
>>>>>>> f5732e50df470a54703b3c767973179f753873af
     ]
    },
    {
     "name": "stderr",
     "output_type": "stream",
     "text": [
      "/home/seb/anaconda3/lib/python3.7/site-packages/sklearn/ensemble/forest.py:246: FutureWarning: The default value of n_estimators will change from 10 in version 0.20 to 100 in 0.22.\n",
      "  \"10 in version 0.20 to 100 in 0.22.\", FutureWarning)\n"
     ]
    },
    {
     "name": "stdout",
     "output_type": "stream",
     "text": [
<<<<<<< HEAD
      "accuracy: 0.4773662551440329\n",
      "predicted class counts: Counter({1: 153, 0: 76, -1: 14})\n",
      "Data spread:  Counter({'1': 497, '0': 318, '-1': 155})\n"
=======
      "accuracy: 0.42483660130718953\n",
      "predicted class counts: Counter({1: 165, 0: 110, -1: 31})\n",
      "Data spread:  Counter({'1': 604, '0': 395, '-1': 225})\n"
>>>>>>> f5732e50df470a54703b3c767973179f753873af
     ]
    },
    {
     "name": "stderr",
     "output_type": "stream",
     "text": [
      "/home/seb/anaconda3/lib/python3.7/site-packages/sklearn/ensemble/forest.py:246: FutureWarning: The default value of n_estimators will change from 10 in version 0.20 to 100 in 0.22.\n",
      "  \"10 in version 0.20 to 100 in 0.22.\", FutureWarning)\n"
     ]
    },
    {
     "name": "stdout",
     "output_type": "stream",
     "text": [
<<<<<<< HEAD
      "accuracy: 0.45267489711934156\n",
      "predicted class counts: Counter({1: 157, 0: 69, -1: 17})\n",
      "Data spread:  Counter({'1': 497, '0': 318, '-1': 155})\n"
=======
      "accuracy: 0.4411764705882353\n",
      "predicted class counts: Counter({1: 194, 0: 89, -1: 23})\n",
      "Data spread:  Counter({'1': 604, '0': 395, '-1': 225})\n"
>>>>>>> f5732e50df470a54703b3c767973179f753873af
     ]
    },
    {
     "name": "stderr",
     "output_type": "stream",
     "text": [
      "/home/seb/anaconda3/lib/python3.7/site-packages/sklearn/ensemble/forest.py:246: FutureWarning: The default value of n_estimators will change from 10 in version 0.20 to 100 in 0.22.\n",
      "  \"10 in version 0.20 to 100 in 0.22.\", FutureWarning)\n"
     ]
    },
    {
     "name": "stdout",
     "output_type": "stream",
     "text": [
<<<<<<< HEAD
      "accuracy: 0.4773662551440329\n",
      "predicted class counts: Counter({1: 171, 0: 63, -1: 9})\n",
      "training 320 out of 500\n",
      "Data spread:  Counter({'1': 497, '0': 318, '-1': 155})\n"
=======
      "accuracy: 0.4215686274509804\n",
      "predicted class counts: Counter({1: 214, 0: 67, -1: 25})\n",
      "training 320 out of 500\n",
      "Data spread:  Counter({'1': 604, '0': 395, '-1': 225})\n"
>>>>>>> f5732e50df470a54703b3c767973179f753873af
     ]
    },
    {
     "name": "stderr",
     "output_type": "stream",
     "text": [
      "/home/seb/anaconda3/lib/python3.7/site-packages/sklearn/ensemble/forest.py:246: FutureWarning: The default value of n_estimators will change from 10 in version 0.20 to 100 in 0.22.\n",
      "  \"10 in version 0.20 to 100 in 0.22.\", FutureWarning)\n"
     ]
    },
    {
     "name": "stdout",
     "output_type": "stream",
     "text": [
<<<<<<< HEAD
      "accuracy: 0.4609053497942387\n",
      "predicted class counts: Counter({1: 143, 0: 79, -1: 21})\n",
      "Data spread:  Counter({'1': 497, '0': 318, '-1': 155})\n"
=======
      "accuracy: 0.3954248366013072\n",
      "predicted class counts: Counter({1: 201, 0: 74, -1: 31})\n",
      "Data spread:  Counter({'1': 604, '0': 395, '-1': 225})\n"
>>>>>>> f5732e50df470a54703b3c767973179f753873af
     ]
    },
    {
     "name": "stderr",
     "output_type": "stream",
     "text": [
      "/home/seb/anaconda3/lib/python3.7/site-packages/sklearn/ensemble/forest.py:246: FutureWarning: The default value of n_estimators will change from 10 in version 0.20 to 100 in 0.22.\n",
      "  \"10 in version 0.20 to 100 in 0.22.\", FutureWarning)\n"
     ]
    },
    {
     "name": "stdout",
     "output_type": "stream",
     "text": [
<<<<<<< HEAD
      "accuracy: 0.4403292181069959\n",
      "predicted class counts: Counter({1: 157, 0: 68, -1: 18})\n",
      "Data spread:  Counter({'1': 497, '0': 318, '-1': 155})\n"
=======
      "accuracy: 0.4411764705882353\n",
      "predicted class counts: Counter({1: 208, 0: 77, -1: 21})\n",
      "Data spread:  Counter({'1': 604, '0': 395, '-1': 225})\n"
>>>>>>> f5732e50df470a54703b3c767973179f753873af
     ]
    },
    {
     "name": "stderr",
     "output_type": "stream",
     "text": [
      "/home/seb/anaconda3/lib/python3.7/site-packages/sklearn/ensemble/forest.py:246: FutureWarning: The default value of n_estimators will change from 10 in version 0.20 to 100 in 0.22.\n",
      "  \"10 in version 0.20 to 100 in 0.22.\", FutureWarning)\n"
     ]
    },
    {
     "name": "stdout",
     "output_type": "stream",
     "text": [
<<<<<<< HEAD
      "accuracy: 0.4691358024691358\n",
      "predicted class counts: Counter({1: 133, 0: 102, -1: 8})\n",
      "Data spread:  Counter({'1': 497, '0': 318, '-1': 155})\n"
=======
      "accuracy: 0.46405228758169936\n",
      "predicted class counts: Counter({1: 179, 0: 105, -1: 22})\n",
      "Data spread:  Counter({'1': 604, '0': 395, '-1': 225})\n"
>>>>>>> f5732e50df470a54703b3c767973179f753873af
     ]
    },
    {
     "name": "stderr",
     "output_type": "stream",
     "text": [
      "/home/seb/anaconda3/lib/python3.7/site-packages/sklearn/ensemble/forest.py:246: FutureWarning: The default value of n_estimators will change from 10 in version 0.20 to 100 in 0.22.\n",
      "  \"10 in version 0.20 to 100 in 0.22.\", FutureWarning)\n"
     ]
    },
    {
     "name": "stdout",
     "output_type": "stream",
     "text": [
<<<<<<< HEAD
      "accuracy: 0.448559670781893\n",
      "predicted class counts: Counter({1: 165, 0: 63, -1: 15})\n",
      "Data spread:  Counter({'1': 497, '0': 318, '-1': 155})\n"
=======
      "accuracy: 0.4117647058823529\n",
      "predicted class counts: Counter({1: 185, 0: 96, -1: 25})\n",
      "Data spread:  Counter({'1': 604, '0': 395, '-1': 225})\n"
>>>>>>> f5732e50df470a54703b3c767973179f753873af
     ]
    },
    {
     "name": "stderr",
     "output_type": "stream",
     "text": [
      "/home/seb/anaconda3/lib/python3.7/site-packages/sklearn/ensemble/forest.py:246: FutureWarning: The default value of n_estimators will change from 10 in version 0.20 to 100 in 0.22.\n",
      "  \"10 in version 0.20 to 100 in 0.22.\", FutureWarning)\n"
     ]
    },
    {
     "name": "stdout",
     "output_type": "stream",
     "text": [
<<<<<<< HEAD
      "accuracy: 0.4403292181069959\n",
      "predicted class counts: Counter({1: 147, 0: 78, -1: 18})\n",
      "training 325 out of 500\n",
      "Data spread:  Counter({'1': 497, '0': 318, '-1': 155})\n"
=======
      "accuracy: 0.42483660130718953\n",
      "predicted class counts: Counter({1: 160, 0: 107, -1: 39})\n",
      "training 325 out of 500\n",
      "Data spread:  Counter({'1': 604, '0': 395, '-1': 225})\n"
>>>>>>> f5732e50df470a54703b3c767973179f753873af
     ]
    },
    {
     "name": "stderr",
     "output_type": "stream",
     "text": [
      "/home/seb/anaconda3/lib/python3.7/site-packages/sklearn/ensemble/forest.py:246: FutureWarning: The default value of n_estimators will change from 10 in version 0.20 to 100 in 0.22.\n",
      "  \"10 in version 0.20 to 100 in 0.22.\", FutureWarning)\n"
     ]
    },
    {
     "name": "stdout",
     "output_type": "stream",
     "text": [
<<<<<<< HEAD
      "accuracy: 0.4279835390946502\n",
      "predicted class counts: Counter({1: 149, 0: 80, -1: 14})\n",
      "Data spread:  Counter({'1': 497, '0': 318, '-1': 155})\n"
=======
      "accuracy: 0.4084967320261438\n",
      "predicted class counts: Counter({1: 177, 0: 93, -1: 36})\n",
      "Data spread:  Counter({'1': 604, '0': 395, '-1': 225})\n"
>>>>>>> f5732e50df470a54703b3c767973179f753873af
     ]
    },
    {
     "name": "stderr",
     "output_type": "stream",
     "text": [
      "/home/seb/anaconda3/lib/python3.7/site-packages/sklearn/ensemble/forest.py:246: FutureWarning: The default value of n_estimators will change from 10 in version 0.20 to 100 in 0.22.\n",
      "  \"10 in version 0.20 to 100 in 0.22.\", FutureWarning)\n"
     ]
    },
    {
     "name": "stdout",
     "output_type": "stream",
     "text": [
<<<<<<< HEAD
      "accuracy: 0.4567901234567901\n",
      "predicted class counts: Counter({1: 138, 0: 79, -1: 26})\n",
      "Data spread:  Counter({'1': 497, '0': 318, '-1': 155})\n"
=======
      "accuracy: 0.4084967320261438\n",
      "predicted class counts: Counter({1: 190, 0: 79, -1: 37})\n",
      "Data spread:  Counter({'1': 604, '0': 395, '-1': 225})\n"
>>>>>>> f5732e50df470a54703b3c767973179f753873af
     ]
    },
    {
     "name": "stderr",
     "output_type": "stream",
     "text": [
      "/home/seb/anaconda3/lib/python3.7/site-packages/sklearn/ensemble/forest.py:246: FutureWarning: The default value of n_estimators will change from 10 in version 0.20 to 100 in 0.22.\n",
      "  \"10 in version 0.20 to 100 in 0.22.\", FutureWarning)\n"
     ]
    },
    {
     "name": "stdout",
     "output_type": "stream",
     "text": [
<<<<<<< HEAD
      "accuracy: 0.48559670781893005\n",
      "predicted class counts: Counter({1: 157, 0: 66, -1: 20})\n",
      "Data spread:  Counter({'1': 497, '0': 318, '-1': 155})\n"
=======
      "accuracy: 0.45098039215686275\n",
      "predicted class counts: Counter({1: 203, 0: 80, -1: 23})\n",
      "Data spread:  Counter({'1': 604, '0': 395, '-1': 225})\n"
>>>>>>> f5732e50df470a54703b3c767973179f753873af
     ]
    },
    {
     "name": "stderr",
     "output_type": "stream",
     "text": [
      "/home/seb/anaconda3/lib/python3.7/site-packages/sklearn/ensemble/forest.py:246: FutureWarning: The default value of n_estimators will change from 10 in version 0.20 to 100 in 0.22.\n",
      "  \"10 in version 0.20 to 100 in 0.22.\", FutureWarning)\n"
     ]
    },
    {
     "name": "stdout",
     "output_type": "stream",
     "text": [
<<<<<<< HEAD
      "accuracy: 0.43209876543209874\n",
      "predicted class counts: Counter({1: 172, 0: 62, -1: 9})\n",
      "Data spread:  Counter({'1': 497, '0': 318, '-1': 155})\n"
=======
      "accuracy: 0.47058823529411764\n",
      "predicted class counts: Counter({1: 176, 0: 101, -1: 29})\n",
      "Data spread:  Counter({'1': 604, '0': 395, '-1': 225})\n"
>>>>>>> f5732e50df470a54703b3c767973179f753873af
     ]
    },
    {
     "name": "stderr",
     "output_type": "stream",
     "text": [
      "/home/seb/anaconda3/lib/python3.7/site-packages/sklearn/ensemble/forest.py:246: FutureWarning: The default value of n_estimators will change from 10 in version 0.20 to 100 in 0.22.\n",
      "  \"10 in version 0.20 to 100 in 0.22.\", FutureWarning)\n"
     ]
    },
    {
     "name": "stdout",
     "output_type": "stream",
     "text": [
<<<<<<< HEAD
      "accuracy: 0.42386831275720166\n",
      "predicted class counts: Counter({1: 152, 0: 78, -1: 13})\n",
      "training 330 out of 500\n",
      "Data spread:  Counter({'1': 497, '0': 318, '-1': 155})\n"
=======
      "accuracy: 0.4117647058823529\n",
      "predicted class counts: Counter({1: 204, 0: 79, -1: 23})\n",
      "training 330 out of 500\n",
      "Data spread:  Counter({'1': 604, '0': 395, '-1': 225})\n"
>>>>>>> f5732e50df470a54703b3c767973179f753873af
     ]
    },
    {
     "name": "stderr",
     "output_type": "stream",
     "text": [
      "/home/seb/anaconda3/lib/python3.7/site-packages/sklearn/ensemble/forest.py:246: FutureWarning: The default value of n_estimators will change from 10 in version 0.20 to 100 in 0.22.\n",
      "  \"10 in version 0.20 to 100 in 0.22.\", FutureWarning)\n"
     ]
    },
    {
     "name": "stdout",
     "output_type": "stream",
     "text": [
<<<<<<< HEAD
      "accuracy: 0.42386831275720166\n",
      "predicted class counts: Counter({1: 162, 0: 61, -1: 20})\n",
      "Data spread:  Counter({'1': 497, '0': 318, '-1': 155})\n"
=======
      "accuracy: 0.4673202614379085\n",
      "predicted class counts: Counter({1: 207, 0: 76, -1: 23})\n",
      "Data spread:  Counter({'1': 604, '0': 395, '-1': 225})\n"
>>>>>>> f5732e50df470a54703b3c767973179f753873af
     ]
    },
    {
     "name": "stderr",
     "output_type": "stream",
     "text": [
      "/home/seb/anaconda3/lib/python3.7/site-packages/sklearn/ensemble/forest.py:246: FutureWarning: The default value of n_estimators will change from 10 in version 0.20 to 100 in 0.22.\n",
      "  \"10 in version 0.20 to 100 in 0.22.\", FutureWarning)\n"
     ]
    },
    {
     "name": "stdout",
     "output_type": "stream",
     "text": [
<<<<<<< HEAD
      "accuracy: 0.4567901234567901\n",
      "predicted class counts: Counter({1: 156, 0: 62, -1: 25})\n",
      "Data spread:  Counter({'1': 497, '0': 318, '-1': 155})\n"
=======
      "accuracy: 0.4215686274509804\n",
      "predicted class counts: Counter({1: 203, 0: 78, -1: 25})\n",
      "Data spread:  Counter({'1': 604, '0': 395, '-1': 225})\n"
>>>>>>> f5732e50df470a54703b3c767973179f753873af
     ]
    },
    {
     "name": "stderr",
     "output_type": "stream",
     "text": [
      "/home/seb/anaconda3/lib/python3.7/site-packages/sklearn/ensemble/forest.py:246: FutureWarning: The default value of n_estimators will change from 10 in version 0.20 to 100 in 0.22.\n",
      "  \"10 in version 0.20 to 100 in 0.22.\", FutureWarning)\n"
     ]
    },
    {
     "name": "stdout",
     "output_type": "stream",
     "text": [
<<<<<<< HEAD
      "accuracy: 0.46502057613168724\n",
      "predicted class counts: Counter({1: 172, 0: 54, -1: 17})\n",
      "Data spread:  Counter({'1': 497, '0': 318, '-1': 155})\n"
=======
      "accuracy: 0.4411764705882353\n",
      "predicted class counts: Counter({1: 189, 0: 96, -1: 21})\n",
      "Data spread:  Counter({'1': 604, '0': 395, '-1': 225})\n"
>>>>>>> f5732e50df470a54703b3c767973179f753873af
     ]
    },
    {
     "name": "stderr",
     "output_type": "stream",
     "text": [
      "/home/seb/anaconda3/lib/python3.7/site-packages/sklearn/ensemble/forest.py:246: FutureWarning: The default value of n_estimators will change from 10 in version 0.20 to 100 in 0.22.\n",
      "  \"10 in version 0.20 to 100 in 0.22.\", FutureWarning)\n"
     ]
    },
    {
     "name": "stdout",
     "output_type": "stream",
     "text": [
<<<<<<< HEAD
      "accuracy: 0.46502057613168724\n",
      "predicted class counts: Counter({1: 181, 0: 52, -1: 10})\n",
      "Data spread:  Counter({'1': 497, '0': 318, '-1': 155})\n"
=======
      "accuracy: 0.49673202614379086\n",
      "predicted class counts: Counter({1: 202, 0: 75, -1: 29})\n",
      "Data spread:  Counter({'1': 604, '0': 395, '-1': 225})\n"
>>>>>>> f5732e50df470a54703b3c767973179f753873af
     ]
    },
    {
     "name": "stderr",
     "output_type": "stream",
     "text": [
      "/home/seb/anaconda3/lib/python3.7/site-packages/sklearn/ensemble/forest.py:246: FutureWarning: The default value of n_estimators will change from 10 in version 0.20 to 100 in 0.22.\n",
      "  \"10 in version 0.20 to 100 in 0.22.\", FutureWarning)\n"
     ]
    },
    {
     "name": "stdout",
     "output_type": "stream",
     "text": [
<<<<<<< HEAD
      "accuracy: 0.46502057613168724\n",
      "predicted class counts: Counter({1: 147, 0: 77, -1: 19})\n",
      "training 335 out of 500\n",
      "Data spread:  Counter({'1': 497, '0': 318, '-1': 155})\n"
=======
      "accuracy: 0.4542483660130719\n",
      "predicted class counts: Counter({1: 188, 0: 83, -1: 35})\n",
      "training 335 out of 500\n",
      "Data spread:  Counter({'1': 604, '0': 395, '-1': 225})\n"
>>>>>>> f5732e50df470a54703b3c767973179f753873af
     ]
    },
    {
     "name": "stderr",
     "output_type": "stream",
     "text": [
      "/home/seb/anaconda3/lib/python3.7/site-packages/sklearn/ensemble/forest.py:246: FutureWarning: The default value of n_estimators will change from 10 in version 0.20 to 100 in 0.22.\n",
      "  \"10 in version 0.20 to 100 in 0.22.\", FutureWarning)\n"
     ]
    },
    {
     "name": "stdout",
     "output_type": "stream",
     "text": [
<<<<<<< HEAD
      "accuracy: 0.4444444444444444\n",
      "predicted class counts: Counter({1: 133, 0: 91, -1: 19})\n",
      "Data spread:  Counter({'1': 497, '0': 318, '-1': 155})\n"
=======
      "accuracy: 0.45751633986928103\n",
      "predicted class counts: Counter({1: 186, 0: 100, -1: 20})\n",
      "Data spread:  Counter({'1': 604, '0': 395, '-1': 225})\n"
>>>>>>> f5732e50df470a54703b3c767973179f753873af
     ]
    },
    {
     "name": "stderr",
     "output_type": "stream",
     "text": [
      "/home/seb/anaconda3/lib/python3.7/site-packages/sklearn/ensemble/forest.py:246: FutureWarning: The default value of n_estimators will change from 10 in version 0.20 to 100 in 0.22.\n",
      "  \"10 in version 0.20 to 100 in 0.22.\", FutureWarning)\n"
     ]
    },
    {
     "name": "stdout",
     "output_type": "stream",
     "text": [
<<<<<<< HEAD
      "accuracy: 0.411522633744856\n",
      "predicted class counts: Counter({1: 153, 0: 77, -1: 13})\n",
      "Data spread:  Counter({'1': 497, '0': 318, '-1': 155})\n"
=======
      "accuracy: 0.41830065359477125\n",
      "predicted class counts: Counter({1: 216, 0: 68, -1: 22})\n",
      "Data spread:  Counter({'1': 604, '0': 395, '-1': 225})\n"
>>>>>>> f5732e50df470a54703b3c767973179f753873af
     ]
    },
    {
     "name": "stderr",
     "output_type": "stream",
     "text": [
      "/home/seb/anaconda3/lib/python3.7/site-packages/sklearn/ensemble/forest.py:246: FutureWarning: The default value of n_estimators will change from 10 in version 0.20 to 100 in 0.22.\n",
      "  \"10 in version 0.20 to 100 in 0.22.\", FutureWarning)\n"
     ]
    },
    {
     "name": "stdout",
     "output_type": "stream",
     "text": [
<<<<<<< HEAD
      "accuracy: 0.4773662551440329\n",
      "predicted class counts: Counter({1: 155, 0: 75, -1: 13})\n",
      "Data spread:  Counter({'1': 497, '0': 318, '-1': 155})\n"
=======
      "accuracy: 0.43790849673202614\n",
      "predicted class counts: Counter({1: 210, 0: 75, -1: 21})\n",
      "Data spread:  Counter({'1': 604, '0': 395, '-1': 225})\n"
>>>>>>> f5732e50df470a54703b3c767973179f753873af
     ]
    },
    {
     "name": "stderr",
     "output_type": "stream",
     "text": [
      "/home/seb/anaconda3/lib/python3.7/site-packages/sklearn/ensemble/forest.py:246: FutureWarning: The default value of n_estimators will change from 10 in version 0.20 to 100 in 0.22.\n",
      "  \"10 in version 0.20 to 100 in 0.22.\", FutureWarning)\n"
     ]
    },
    {
     "name": "stdout",
     "output_type": "stream",
     "text": [
<<<<<<< HEAD
      "accuracy: 0.43621399176954734\n",
      "predicted class counts: Counter({1: 160, 0: 64, -1: 19})\n",
      "Data spread:  Counter({'1': 497, '0': 318, '-1': 155})\n"
=======
      "accuracy: 0.4444444444444444\n",
      "predicted class counts: Counter({1: 186, 0: 91, -1: 29})\n",
      "Data spread:  Counter({'1': 604, '0': 395, '-1': 225})\n"
>>>>>>> f5732e50df470a54703b3c767973179f753873af
     ]
    },
    {
     "name": "stderr",
     "output_type": "stream",
     "text": [
      "/home/seb/anaconda3/lib/python3.7/site-packages/sklearn/ensemble/forest.py:246: FutureWarning: The default value of n_estimators will change from 10 in version 0.20 to 100 in 0.22.\n",
      "  \"10 in version 0.20 to 100 in 0.22.\", FutureWarning)\n"
     ]
    },
    {
     "name": "stdout",
     "output_type": "stream",
     "text": [
<<<<<<< HEAD
      "accuracy: 0.3991769547325103\n",
      "predicted class counts: Counter({1: 160, 0: 72, -1: 11})\n",
      "training 340 out of 500\n",
      "Data spread:  Counter({'1': 497, '0': 318, '-1': 155})\n"
=======
      "accuracy: 0.4150326797385621\n",
      "predicted class counts: Counter({1: 203, 0: 85, -1: 18})\n",
      "training 340 out of 500\n",
      "Data spread:  Counter({'1': 604, '0': 395, '-1': 225})\n"
>>>>>>> f5732e50df470a54703b3c767973179f753873af
     ]
    },
    {
     "name": "stderr",
     "output_type": "stream",
     "text": [
      "/home/seb/anaconda3/lib/python3.7/site-packages/sklearn/ensemble/forest.py:246: FutureWarning: The default value of n_estimators will change from 10 in version 0.20 to 100 in 0.22.\n",
      "  \"10 in version 0.20 to 100 in 0.22.\", FutureWarning)\n"
     ]
    },
    {
     "name": "stdout",
     "output_type": "stream",
     "text": [
<<<<<<< HEAD
      "accuracy: 0.48559670781893005\n",
      "predicted class counts: Counter({1: 123, 0: 95, -1: 25})\n",
      "Data spread:  Counter({'1': 497, '0': 318, '-1': 155})\n"
=======
      "accuracy: 0.4084967320261438\n",
      "predicted class counts: Counter({1: 181, 0: 97, -1: 28})\n",
      "Data spread:  Counter({'1': 604, '0': 395, '-1': 225})\n"
>>>>>>> f5732e50df470a54703b3c767973179f753873af
     ]
    },
    {
     "name": "stderr",
     "output_type": "stream",
     "text": [
      "/home/seb/anaconda3/lib/python3.7/site-packages/sklearn/ensemble/forest.py:246: FutureWarning: The default value of n_estimators will change from 10 in version 0.20 to 100 in 0.22.\n",
      "  \"10 in version 0.20 to 100 in 0.22.\", FutureWarning)\n"
     ]
    },
    {
     "name": "stdout",
     "output_type": "stream",
     "text": [
<<<<<<< HEAD
      "accuracy: 0.46502057613168724\n",
      "predicted class counts: Counter({1: 152, 0: 71, -1: 20})\n",
      "Data spread:  Counter({'1': 497, '0': 318, '-1': 155})\n"
=======
      "accuracy: 0.46405228758169936\n",
      "predicted class counts: Counter({1: 194, 0: 76, -1: 36})\n",
      "Data spread:  Counter({'1': 604, '0': 395, '-1': 225})\n"
>>>>>>> f5732e50df470a54703b3c767973179f753873af
     ]
    },
    {
     "name": "stderr",
     "output_type": "stream",
     "text": [
      "/home/seb/anaconda3/lib/python3.7/site-packages/sklearn/ensemble/forest.py:246: FutureWarning: The default value of n_estimators will change from 10 in version 0.20 to 100 in 0.22.\n",
      "  \"10 in version 0.20 to 100 in 0.22.\", FutureWarning)\n"
     ]
    },
    {
     "name": "stdout",
     "output_type": "stream",
     "text": [
<<<<<<< HEAD
      "accuracy: 0.48148148148148145\n",
      "predicted class counts: Counter({1: 138, 0: 74, -1: 31})\n",
      "Data spread:  Counter({'1': 497, '0': 318, '-1': 155})\n"
=======
      "accuracy: 0.4444444444444444\n",
      "predicted class counts: Counter({1: 186, 0: 95, -1: 25})\n",
      "Data spread:  Counter({'1': 604, '0': 395, '-1': 225})\n"
>>>>>>> f5732e50df470a54703b3c767973179f753873af
     ]
    },
    {
     "name": "stderr",
     "output_type": "stream",
     "text": [
      "/home/seb/anaconda3/lib/python3.7/site-packages/sklearn/ensemble/forest.py:246: FutureWarning: The default value of n_estimators will change from 10 in version 0.20 to 100 in 0.22.\n",
      "  \"10 in version 0.20 to 100 in 0.22.\", FutureWarning)\n"
     ]
    },
    {
     "name": "stdout",
     "output_type": "stream",
     "text": [
<<<<<<< HEAD
      "accuracy: 0.4156378600823045\n",
      "predicted class counts: Counter({1: 158, 0: 74, -1: 11})\n",
      "Data spread:  Counter({'1': 497, '0': 318, '-1': 155})\n"
=======
      "accuracy: 0.4477124183006536\n",
      "predicted class counts: Counter({1: 210, 0: 76, -1: 20})\n",
      "Data spread:  Counter({'1': 604, '0': 395, '-1': 225})\n"
>>>>>>> f5732e50df470a54703b3c767973179f753873af
     ]
    },
    {
     "name": "stderr",
     "output_type": "stream",
     "text": [
      "/home/seb/anaconda3/lib/python3.7/site-packages/sklearn/ensemble/forest.py:246: FutureWarning: The default value of n_estimators will change from 10 in version 0.20 to 100 in 0.22.\n",
      "  \"10 in version 0.20 to 100 in 0.22.\", FutureWarning)\n"
     ]
    },
    {
     "name": "stdout",
     "output_type": "stream",
     "text": [
<<<<<<< HEAD
      "accuracy: 0.48559670781893005\n",
      "predicted class counts: Counter({1: 154, 0: 67, -1: 22})\n",
      "training 345 out of 500\n",
      "Data spread:  Counter({'1': 497, '0': 318, '-1': 155})\n"
=======
      "accuracy: 0.4542483660130719\n",
      "predicted class counts: Counter({1: 214, 0: 66, -1: 26})\n",
      "training 345 out of 500\n",
      "Data spread:  Counter({'1': 604, '0': 395, '-1': 225})\n"
>>>>>>> f5732e50df470a54703b3c767973179f753873af
     ]
    },
    {
     "name": "stderr",
     "output_type": "stream",
     "text": [
      "/home/seb/anaconda3/lib/python3.7/site-packages/sklearn/ensemble/forest.py:246: FutureWarning: The default value of n_estimators will change from 10 in version 0.20 to 100 in 0.22.\n",
      "  \"10 in version 0.20 to 100 in 0.22.\", FutureWarning)\n"
     ]
    },
    {
     "name": "stdout",
     "output_type": "stream",
     "text": [
<<<<<<< HEAD
      "accuracy: 0.41975308641975306\n",
      "predicted class counts: Counter({1: 146, 0: 74, -1: 23})\n",
      "Data spread:  Counter({'1': 497, '0': 318, '-1': 155})\n"
=======
      "accuracy: 0.42810457516339867\n",
      "predicted class counts: Counter({1: 180, 0: 102, -1: 24})\n",
      "Data spread:  Counter({'1': 604, '0': 395, '-1': 225})\n"
>>>>>>> f5732e50df470a54703b3c767973179f753873af
     ]
    },
    {
     "name": "stderr",
     "output_type": "stream",
     "text": [
      "/home/seb/anaconda3/lib/python3.7/site-packages/sklearn/ensemble/forest.py:246: FutureWarning: The default value of n_estimators will change from 10 in version 0.20 to 100 in 0.22.\n",
      "  \"10 in version 0.20 to 100 in 0.22.\", FutureWarning)\n"
     ]
    },
    {
     "name": "stdout",
     "output_type": "stream",
     "text": [
<<<<<<< HEAD
      "accuracy: 0.448559670781893\n",
      "predicted class counts: Counter({1: 156, 0: 74, -1: 13})\n",
      "Data spread:  Counter({'1': 497, '0': 318, '-1': 155})\n"
=======
      "accuracy: 0.4411764705882353\n",
      "predicted class counts: Counter({1: 176, 0: 91, -1: 39})\n",
      "Data spread:  Counter({'1': 604, '0': 395, '-1': 225})\n"
>>>>>>> f5732e50df470a54703b3c767973179f753873af
     ]
    },
    {
     "name": "stderr",
     "output_type": "stream",
     "text": [
      "/home/seb/anaconda3/lib/python3.7/site-packages/sklearn/ensemble/forest.py:246: FutureWarning: The default value of n_estimators will change from 10 in version 0.20 to 100 in 0.22.\n",
      "  \"10 in version 0.20 to 100 in 0.22.\", FutureWarning)\n"
     ]
    },
    {
     "name": "stdout",
     "output_type": "stream",
     "text": [
<<<<<<< HEAD
      "accuracy: 0.4156378600823045\n",
      "predicted class counts: Counter({1: 143, 0: 77, -1: 23})\n",
      "Data spread:  Counter({'1': 497, '0': 318, '-1': 155})\n"
=======
      "accuracy: 0.45098039215686275\n",
      "predicted class counts: Counter({1: 203, 0: 77, -1: 26})\n",
      "Data spread:  Counter({'1': 604, '0': 395, '-1': 225})\n"
>>>>>>> f5732e50df470a54703b3c767973179f753873af
     ]
    },
    {
     "name": "stderr",
     "output_type": "stream",
     "text": [
      "/home/seb/anaconda3/lib/python3.7/site-packages/sklearn/ensemble/forest.py:246: FutureWarning: The default value of n_estimators will change from 10 in version 0.20 to 100 in 0.22.\n",
      "  \"10 in version 0.20 to 100 in 0.22.\", FutureWarning)\n"
     ]
    },
    {
     "name": "stdout",
     "output_type": "stream",
     "text": [
<<<<<<< HEAD
      "accuracy: 0.4897119341563786\n",
      "predicted class counts: Counter({1: 154, 0: 60, -1: 29})\n",
      "Data spread:  Counter({'1': 497, '0': 318, '-1': 155})\n"
=======
      "accuracy: 0.4444444444444444\n",
      "predicted class counts: Counter({1: 203, 0: 67, -1: 36})\n",
      "Data spread:  Counter({'1': 604, '0': 395, '-1': 225})\n"
>>>>>>> f5732e50df470a54703b3c767973179f753873af
     ]
    },
    {
     "name": "stderr",
     "output_type": "stream",
     "text": [
      "/home/seb/anaconda3/lib/python3.7/site-packages/sklearn/ensemble/forest.py:246: FutureWarning: The default value of n_estimators will change from 10 in version 0.20 to 100 in 0.22.\n",
      "  \"10 in version 0.20 to 100 in 0.22.\", FutureWarning)\n"
     ]
    },
    {
     "name": "stdout",
     "output_type": "stream",
     "text": [
<<<<<<< HEAD
      "accuracy: 0.43209876543209874\n",
      "predicted class counts: Counter({1: 126, 0: 99, -1: 18})\n",
      "training 350 out of 500\n",
      "Data spread:  Counter({'1': 497, '0': 318, '-1': 155})\n"
=======
      "accuracy: 0.45098039215686275\n",
      "predicted class counts: Counter({1: 210, 0: 73, -1: 23})\n",
      "training 350 out of 500\n",
      "Data spread:  Counter({'1': 604, '0': 395, '-1': 225})\n"
>>>>>>> f5732e50df470a54703b3c767973179f753873af
     ]
    },
    {
     "name": "stderr",
     "output_type": "stream",
     "text": [
      "/home/seb/anaconda3/lib/python3.7/site-packages/sklearn/ensemble/forest.py:246: FutureWarning: The default value of n_estimators will change from 10 in version 0.20 to 100 in 0.22.\n",
      "  \"10 in version 0.20 to 100 in 0.22.\", FutureWarning)\n"
     ]
    },
    {
     "name": "stdout",
     "output_type": "stream",
     "text": [
<<<<<<< HEAD
      "accuracy: 0.4403292181069959\n",
      "predicted class counts: Counter({1: 155, 0: 78, -1: 10})\n",
      "Data spread:  Counter({'1': 497, '0': 318, '-1': 155})\n"
=======
      "accuracy: 0.4019607843137255\n",
      "predicted class counts: Counter({1: 190, 0: 85, -1: 31})\n",
      "Data spread:  Counter({'1': 604, '0': 395, '-1': 225})\n"
>>>>>>> f5732e50df470a54703b3c767973179f753873af
     ]
    },
    {
     "name": "stderr",
     "output_type": "stream",
     "text": [
      "/home/seb/anaconda3/lib/python3.7/site-packages/sklearn/ensemble/forest.py:246: FutureWarning: The default value of n_estimators will change from 10 in version 0.20 to 100 in 0.22.\n",
      "  \"10 in version 0.20 to 100 in 0.22.\", FutureWarning)\n"
     ]
    },
    {
     "name": "stdout",
     "output_type": "stream",
     "text": [
<<<<<<< HEAD
      "accuracy: 0.4609053497942387\n",
      "predicted class counts: Counter({1: 152, 0: 70, -1: 21})\n",
      "Data spread:  Counter({'1': 497, '0': 318, '-1': 155})\n"
=======
      "accuracy: 0.4150326797385621\n",
      "predicted class counts: Counter({1: 200, 0: 80, -1: 26})\n",
      "Data spread:  Counter({'1': 604, '0': 395, '-1': 225})\n"
>>>>>>> f5732e50df470a54703b3c767973179f753873af
     ]
    },
    {
     "name": "stderr",
     "output_type": "stream",
     "text": [
      "/home/seb/anaconda3/lib/python3.7/site-packages/sklearn/ensemble/forest.py:246: FutureWarning: The default value of n_estimators will change from 10 in version 0.20 to 100 in 0.22.\n",
      "  \"10 in version 0.20 to 100 in 0.22.\", FutureWarning)\n"
     ]
    },
    {
     "name": "stdout",
     "output_type": "stream",
     "text": [
<<<<<<< HEAD
      "accuracy: 0.4279835390946502\n",
      "predicted class counts: Counter({1: 153, 0: 65, -1: 25})\n",
      "Data spread:  Counter({'1': 497, '0': 318, '-1': 155})\n"
=======
      "accuracy: 0.4117647058823529\n",
      "predicted class counts: Counter({1: 186, 0: 90, -1: 30})\n",
      "Data spread:  Counter({'1': 604, '0': 395, '-1': 225})\n"
>>>>>>> f5732e50df470a54703b3c767973179f753873af
     ]
    },
    {
     "name": "stderr",
     "output_type": "stream",
     "text": [
      "/home/seb/anaconda3/lib/python3.7/site-packages/sklearn/ensemble/forest.py:246: FutureWarning: The default value of n_estimators will change from 10 in version 0.20 to 100 in 0.22.\n",
      "  \"10 in version 0.20 to 100 in 0.22.\", FutureWarning)\n"
     ]
    },
    {
     "name": "stdout",
     "output_type": "stream",
     "text": [
<<<<<<< HEAD
      "accuracy: 0.4691358024691358\n",
      "predicted class counts: Counter({1: 155, 0: 79, -1: 9})\n",
      "Data spread:  Counter({'1': 497, '0': 318, '-1': 155})\n"
=======
      "accuracy: 0.4673202614379085\n",
      "predicted class counts: Counter({1: 165, 0: 107, -1: 34})\n",
      "Data spread:  Counter({'1': 604, '0': 395, '-1': 225})\n"
>>>>>>> f5732e50df470a54703b3c767973179f753873af
     ]
    },
    {
     "name": "stderr",
     "output_type": "stream",
     "text": [
      "/home/seb/anaconda3/lib/python3.7/site-packages/sklearn/ensemble/forest.py:246: FutureWarning: The default value of n_estimators will change from 10 in version 0.20 to 100 in 0.22.\n",
      "  \"10 in version 0.20 to 100 in 0.22.\", FutureWarning)\n"
     ]
    },
    {
     "name": "stdout",
     "output_type": "stream",
     "text": [
<<<<<<< HEAD
      "accuracy: 0.43621399176954734\n",
      "predicted class counts: Counter({1: 148, 0: 79, -1: 16})\n",
      "training 355 out of 500\n",
      "Data spread:  Counter({'1': 497, '0': 318, '-1': 155})\n"
=======
      "accuracy: 0.4084967320261438\n",
      "predicted class counts: Counter({1: 160, 0: 117, -1: 29})\n",
      "training 355 out of 500\n",
      "Data spread:  Counter({'1': 604, '0': 395, '-1': 225})\n"
>>>>>>> f5732e50df470a54703b3c767973179f753873af
     ]
    },
    {
     "name": "stderr",
     "output_type": "stream",
     "text": [
      "/home/seb/anaconda3/lib/python3.7/site-packages/sklearn/ensemble/forest.py:246: FutureWarning: The default value of n_estimators will change from 10 in version 0.20 to 100 in 0.22.\n",
      "  \"10 in version 0.20 to 100 in 0.22.\", FutureWarning)\n"
     ]
    },
    {
     "name": "stdout",
     "output_type": "stream",
     "text": [
<<<<<<< HEAD
      "accuracy: 0.3991769547325103\n",
      "predicted class counts: Counter({1: 134, 0: 86, -1: 23})\n",
      "Data spread:  Counter({'1': 497, '0': 318, '-1': 155})\n"
=======
      "accuracy: 0.42483660130718953\n",
      "predicted class counts: Counter({1: 163, 0: 112, -1: 31})\n",
      "Data spread:  Counter({'1': 604, '0': 395, '-1': 225})\n"
>>>>>>> f5732e50df470a54703b3c767973179f753873af
     ]
    },
    {
     "name": "stderr",
     "output_type": "stream",
     "text": [
      "/home/seb/anaconda3/lib/python3.7/site-packages/sklearn/ensemble/forest.py:246: FutureWarning: The default value of n_estimators will change from 10 in version 0.20 to 100 in 0.22.\n",
      "  \"10 in version 0.20 to 100 in 0.22.\", FutureWarning)\n"
     ]
    },
    {
     "name": "stdout",
     "output_type": "stream",
     "text": [
<<<<<<< HEAD
      "accuracy: 0.4691358024691358\n",
      "predicted class counts: Counter({1: 164, 0: 67, -1: 12})\n",
      "Data spread:  Counter({'1': 497, '0': 318, '-1': 155})\n"
=======
      "accuracy: 0.4542483660130719\n",
      "predicted class counts: Counter({1: 191, 0: 81, -1: 34})\n",
      "Data spread:  Counter({'1': 604, '0': 395, '-1': 225})\n"
>>>>>>> f5732e50df470a54703b3c767973179f753873af
     ]
    },
    {
     "name": "stderr",
     "output_type": "stream",
     "text": [
      "/home/seb/anaconda3/lib/python3.7/site-packages/sklearn/ensemble/forest.py:246: FutureWarning: The default value of n_estimators will change from 10 in version 0.20 to 100 in 0.22.\n",
      "  \"10 in version 0.20 to 100 in 0.22.\", FutureWarning)\n"
     ]
    },
    {
     "name": "stdout",
     "output_type": "stream",
     "text": [
<<<<<<< HEAD
      "accuracy: 0.448559670781893\n",
      "predicted class counts: Counter({1: 158, 0: 61, -1: 24})\n",
      "Data spread:  Counter({'1': 497, '0': 318, '-1': 155})\n"
=======
      "accuracy: 0.4019607843137255\n",
      "predicted class counts: Counter({1: 187, 0: 102, -1: 17})\n",
      "Data spread:  Counter({'1': 604, '0': 395, '-1': 225})\n"
>>>>>>> f5732e50df470a54703b3c767973179f753873af
     ]
    },
    {
     "name": "stderr",
     "output_type": "stream",
     "text": [
      "/home/seb/anaconda3/lib/python3.7/site-packages/sklearn/ensemble/forest.py:246: FutureWarning: The default value of n_estimators will change from 10 in version 0.20 to 100 in 0.22.\n",
      "  \"10 in version 0.20 to 100 in 0.22.\", FutureWarning)\n"
     ]
    },
    {
     "name": "stdout",
     "output_type": "stream",
     "text": [
<<<<<<< HEAD
      "accuracy: 0.4403292181069959\n",
      "predicted class counts: Counter({1: 176, 0: 57, -1: 10})\n",
      "Data spread:  Counter({'1': 497, '0': 318, '-1': 155})\n"
=======
      "accuracy: 0.4477124183006536\n",
      "predicted class counts: Counter({1: 209, 0: 77, -1: 20})\n",
      "Data spread:  Counter({'1': 604, '0': 395, '-1': 225})\n"
>>>>>>> f5732e50df470a54703b3c767973179f753873af
     ]
    },
    {
     "name": "stderr",
     "output_type": "stream",
     "text": [
      "/home/seb/anaconda3/lib/python3.7/site-packages/sklearn/ensemble/forest.py:246: FutureWarning: The default value of n_estimators will change from 10 in version 0.20 to 100 in 0.22.\n",
      "  \"10 in version 0.20 to 100 in 0.22.\", FutureWarning)\n"
     ]
    },
    {
     "name": "stdout",
     "output_type": "stream",
     "text": [
<<<<<<< HEAD
      "accuracy: 0.49794238683127573\n",
      "predicted class counts: Counter({1: 162, 0: 67, -1: 14})\n",
      "training 360 out of 500\n",
      "Data spread:  Counter({'1': 497, '0': 318, '-1': 155})\n"
=======
      "accuracy: 0.46405228758169936\n",
      "predicted class counts: Counter({1: 209, 0: 78, -1: 19})\n",
      "training 360 out of 500\n",
      "Data spread:  Counter({'1': 604, '0': 395, '-1': 225})\n"
>>>>>>> f5732e50df470a54703b3c767973179f753873af
     ]
    },
    {
     "name": "stderr",
     "output_type": "stream",
     "text": [
      "/home/seb/anaconda3/lib/python3.7/site-packages/sklearn/ensemble/forest.py:246: FutureWarning: The default value of n_estimators will change from 10 in version 0.20 to 100 in 0.22.\n",
      "  \"10 in version 0.20 to 100 in 0.22.\", FutureWarning)\n"
     ]
    },
    {
     "name": "stdout",
     "output_type": "stream",
     "text": [
<<<<<<< HEAD
      "accuracy: 0.3991769547325103\n",
      "predicted class counts: Counter({1: 139, 0: 81, -1: 23})\n",
      "Data spread:  Counter({'1': 497, '0': 318, '-1': 155})\n"
=======
      "accuracy: 0.49673202614379086\n",
      "predicted class counts: Counter({1: 195, 0: 84, -1: 27})\n",
      "Data spread:  Counter({'1': 604, '0': 395, '-1': 225})\n"
>>>>>>> f5732e50df470a54703b3c767973179f753873af
     ]
    },
    {
     "name": "stderr",
     "output_type": "stream",
     "text": [
      "/home/seb/anaconda3/lib/python3.7/site-packages/sklearn/ensemble/forest.py:246: FutureWarning: The default value of n_estimators will change from 10 in version 0.20 to 100 in 0.22.\n",
      "  \"10 in version 0.20 to 100 in 0.22.\", FutureWarning)\n"
     ]
    },
    {
     "name": "stdout",
     "output_type": "stream",
     "text": [
<<<<<<< HEAD
      "accuracy: 0.4444444444444444\n",
      "predicted class counts: Counter({1: 180, 0: 41, -1: 22})\n",
      "Data spread:  Counter({'1': 497, '0': 318, '-1': 155})\n"
=======
      "accuracy: 0.4117647058823529\n",
      "predicted class counts: Counter({1: 187, 0: 98, -1: 21})\n",
      "Data spread:  Counter({'1': 604, '0': 395, '-1': 225})\n"
>>>>>>> f5732e50df470a54703b3c767973179f753873af
     ]
    },
    {
     "name": "stderr",
     "output_type": "stream",
     "text": [
      "/home/seb/anaconda3/lib/python3.7/site-packages/sklearn/ensemble/forest.py:246: FutureWarning: The default value of n_estimators will change from 10 in version 0.20 to 100 in 0.22.\n",
      "  \"10 in version 0.20 to 100 in 0.22.\", FutureWarning)\n"
     ]
    },
    {
     "name": "stdout",
     "output_type": "stream",
     "text": [
<<<<<<< HEAD
      "accuracy: 0.4567901234567901\n",
      "predicted class counts: Counter({1: 131, 0: 84, -1: 28})\n",
      "Data spread:  Counter({'1': 497, '0': 318, '-1': 155})\n"
=======
      "accuracy: 0.39869281045751637\n",
      "predicted class counts: Counter({1: 198, 0: 81, -1: 27})\n",
      "Data spread:  Counter({'1': 604, '0': 395, '-1': 225})\n"
>>>>>>> f5732e50df470a54703b3c767973179f753873af
     ]
    },
    {
     "name": "stderr",
     "output_type": "stream",
     "text": [
      "/home/seb/anaconda3/lib/python3.7/site-packages/sklearn/ensemble/forest.py:246: FutureWarning: The default value of n_estimators will change from 10 in version 0.20 to 100 in 0.22.\n",
      "  \"10 in version 0.20 to 100 in 0.22.\", FutureWarning)\n"
     ]
    },
    {
     "name": "stdout",
     "output_type": "stream",
     "text": [
<<<<<<< HEAD
      "accuracy: 0.4279835390946502\n",
      "predicted class counts: Counter({1: 164, 0: 63, -1: 16})\n",
      "Data spread:  Counter({'1': 497, '0': 318, '-1': 155})\n"
=======
      "accuracy: 0.477124183006536\n",
      "predicted class counts: Counter({1: 202, 0: 66, -1: 38})\n",
      "Data spread:  Counter({'1': 604, '0': 395, '-1': 225})\n"
>>>>>>> f5732e50df470a54703b3c767973179f753873af
     ]
    },
    {
     "name": "stderr",
     "output_type": "stream",
     "text": [
      "/home/seb/anaconda3/lib/python3.7/site-packages/sklearn/ensemble/forest.py:246: FutureWarning: The default value of n_estimators will change from 10 in version 0.20 to 100 in 0.22.\n",
      "  \"10 in version 0.20 to 100 in 0.22.\", FutureWarning)\n"
     ]
    },
    {
     "name": "stdout",
     "output_type": "stream",
     "text": [
<<<<<<< HEAD
      "accuracy: 0.4074074074074074\n",
      "predicted class counts: Counter({1: 173, 0: 55, -1: 15})\n",
      "training 365 out of 500\n",
      "Data spread:  Counter({'1': 497, '0': 318, '-1': 155})\n"
=======
      "accuracy: 0.43137254901960786\n",
      "predicted class counts: Counter({1: 205, 0: 73, -1: 28})\n",
      "training 365 out of 500\n",
      "Data spread:  Counter({'1': 604, '0': 395, '-1': 225})\n"
>>>>>>> f5732e50df470a54703b3c767973179f753873af
     ]
    },
    {
     "name": "stderr",
     "output_type": "stream",
     "text": [
      "/home/seb/anaconda3/lib/python3.7/site-packages/sklearn/ensemble/forest.py:246: FutureWarning: The default value of n_estimators will change from 10 in version 0.20 to 100 in 0.22.\n",
      "  \"10 in version 0.20 to 100 in 0.22.\", FutureWarning)\n"
     ]
    },
    {
     "name": "stdout",
     "output_type": "stream",
     "text": [
<<<<<<< HEAD
      "accuracy: 0.43209876543209874\n",
      "predicted class counts: Counter({1: 164, 0: 70, -1: 9})\n",
      "Data spread:  Counter({'1': 497, '0': 318, '-1': 155})\n"
=======
      "accuracy: 0.43790849673202614\n",
      "predicted class counts: Counter({1: 190, 0: 85, -1: 31})\n",
      "Data spread:  Counter({'1': 604, '0': 395, '-1': 225})\n"
>>>>>>> f5732e50df470a54703b3c767973179f753873af
     ]
    },
    {
     "name": "stderr",
     "output_type": "stream",
     "text": [
      "/home/seb/anaconda3/lib/python3.7/site-packages/sklearn/ensemble/forest.py:246: FutureWarning: The default value of n_estimators will change from 10 in version 0.20 to 100 in 0.22.\n",
      "  \"10 in version 0.20 to 100 in 0.22.\", FutureWarning)\n"
     ]
    },
    {
     "name": "stdout",
     "output_type": "stream",
     "text": [
<<<<<<< HEAD
      "accuracy: 0.4691358024691358\n",
      "predicted class counts: Counter({1: 159, 0: 75, -1: 9})\n",
      "Data spread:  Counter({'1': 497, '0': 318, '-1': 155})\n"
=======
      "accuracy: 0.39869281045751637\n",
      "predicted class counts: Counter({1: 186, 0: 77, -1: 43})\n",
      "Data spread:  Counter({'1': 604, '0': 395, '-1': 225})\n"
>>>>>>> f5732e50df470a54703b3c767973179f753873af
     ]
    },
    {
     "name": "stderr",
     "output_type": "stream",
     "text": [
      "/home/seb/anaconda3/lib/python3.7/site-packages/sklearn/ensemble/forest.py:246: FutureWarning: The default value of n_estimators will change from 10 in version 0.20 to 100 in 0.22.\n",
      "  \"10 in version 0.20 to 100 in 0.22.\", FutureWarning)\n"
     ]
    },
    {
     "name": "stdout",
     "output_type": "stream",
     "text": [
<<<<<<< HEAD
      "accuracy: 0.4773662551440329\n",
      "predicted class counts: Counter({1: 142, 0: 83, -1: 18})\n",
      "Data spread:  Counter({'1': 497, '0': 318, '-1': 155})\n"
=======
      "accuracy: 0.4444444444444444\n",
      "predicted class counts: Counter({1: 235, 0: 54, -1: 17})\n",
      "Data spread:  Counter({'1': 604, '0': 395, '-1': 225})\n"
>>>>>>> f5732e50df470a54703b3c767973179f753873af
     ]
    },
    {
     "name": "stderr",
     "output_type": "stream",
     "text": [
      "/home/seb/anaconda3/lib/python3.7/site-packages/sklearn/ensemble/forest.py:246: FutureWarning: The default value of n_estimators will change from 10 in version 0.20 to 100 in 0.22.\n",
      "  \"10 in version 0.20 to 100 in 0.22.\", FutureWarning)\n"
     ]
    },
    {
     "name": "stdout",
     "output_type": "stream",
     "text": [
<<<<<<< HEAD
      "accuracy: 0.4609053497942387\n",
      "predicted class counts: Counter({1: 158, 0: 63, -1: 22})\n",
      "Data spread:  Counter({'1': 497, '0': 318, '-1': 155})\n"
=======
      "accuracy: 0.4673202614379085\n",
      "predicted class counts: Counter({1: 215, 0: 71, -1: 20})\n",
      "Data spread:  Counter({'1': 604, '0': 395, '-1': 225})\n"
>>>>>>> f5732e50df470a54703b3c767973179f753873af
     ]
    },
    {
     "name": "stderr",
     "output_type": "stream",
     "text": [
      "/home/seb/anaconda3/lib/python3.7/site-packages/sklearn/ensemble/forest.py:246: FutureWarning: The default value of n_estimators will change from 10 in version 0.20 to 100 in 0.22.\n",
      "  \"10 in version 0.20 to 100 in 0.22.\", FutureWarning)\n"
     ]
    },
    {
     "name": "stdout",
     "output_type": "stream",
     "text": [
<<<<<<< HEAD
      "accuracy: 0.45267489711934156\n",
      "predicted class counts: Counter({1: 154, 0: 66, -1: 23})\n",
      "training 370 out of 500\n",
      "Data spread:  Counter({'1': 497, '0': 318, '-1': 155})\n"
=======
      "accuracy: 0.434640522875817\n",
      "predicted class counts: Counter({1: 165, 0: 104, -1: 37})\n",
      "training 370 out of 500\n",
      "Data spread:  Counter({'1': 604, '0': 395, '-1': 225})\n"
>>>>>>> f5732e50df470a54703b3c767973179f753873af
     ]
    },
    {
     "name": "stderr",
     "output_type": "stream",
     "text": [
      "/home/seb/anaconda3/lib/python3.7/site-packages/sklearn/ensemble/forest.py:246: FutureWarning: The default value of n_estimators will change from 10 in version 0.20 to 100 in 0.22.\n",
      "  \"10 in version 0.20 to 100 in 0.22.\", FutureWarning)\n"
     ]
    },
    {
     "name": "stdout",
     "output_type": "stream",
     "text": [
<<<<<<< HEAD
      "accuracy: 0.43209876543209874\n",
      "predicted class counts: Counter({1: 151, 0: 78, -1: 14})\n",
      "Data spread:  Counter({'1': 497, '0': 318, '-1': 155})\n"
=======
      "accuracy: 0.4150326797385621\n",
      "predicted class counts: Counter({1: 205, 0: 74, -1: 27})\n",
      "Data spread:  Counter({'1': 604, '0': 395, '-1': 225})\n"
>>>>>>> f5732e50df470a54703b3c767973179f753873af
     ]
    },
    {
     "name": "stderr",
     "output_type": "stream",
     "text": [
      "/home/seb/anaconda3/lib/python3.7/site-packages/sklearn/ensemble/forest.py:246: FutureWarning: The default value of n_estimators will change from 10 in version 0.20 to 100 in 0.22.\n",
      "  \"10 in version 0.20 to 100 in 0.22.\", FutureWarning)\n"
     ]
    },
    {
     "name": "stdout",
     "output_type": "stream",
     "text": [
<<<<<<< HEAD
      "accuracy: 0.4773662551440329\n",
      "predicted class counts: Counter({1: 155, 0: 61, -1: 27})\n",
      "Data spread:  Counter({'1': 497, '0': 318, '-1': 155})\n"
=======
      "accuracy: 0.43790849673202614\n",
      "predicted class counts: Counter({1: 167, 0: 121, -1: 18})\n",
      "Data spread:  Counter({'1': 604, '0': 395, '-1': 225})\n"
>>>>>>> f5732e50df470a54703b3c767973179f753873af
     ]
    },
    {
     "name": "stderr",
     "output_type": "stream",
     "text": [
      "/home/seb/anaconda3/lib/python3.7/site-packages/sklearn/ensemble/forest.py:246: FutureWarning: The default value of n_estimators will change from 10 in version 0.20 to 100 in 0.22.\n",
      "  \"10 in version 0.20 to 100 in 0.22.\", FutureWarning)\n"
     ]
    },
    {
     "name": "stdout",
     "output_type": "stream",
     "text": [
<<<<<<< HEAD
      "accuracy: 0.43209876543209874\n",
      "predicted class counts: Counter({1: 136, 0: 84, -1: 23})\n",
      "Data spread:  Counter({'1': 497, '0': 318, '-1': 155})\n"
=======
      "accuracy: 0.434640522875817\n",
      "predicted class counts: Counter({1: 153, 0: 113, -1: 40})\n",
      "Data spread:  Counter({'1': 604, '0': 395, '-1': 225})\n"
>>>>>>> f5732e50df470a54703b3c767973179f753873af
     ]
    },
    {
     "name": "stderr",
     "output_type": "stream",
     "text": [
      "/home/seb/anaconda3/lib/python3.7/site-packages/sklearn/ensemble/forest.py:246: FutureWarning: The default value of n_estimators will change from 10 in version 0.20 to 100 in 0.22.\n",
      "  \"10 in version 0.20 to 100 in 0.22.\", FutureWarning)\n"
     ]
    },
    {
     "name": "stdout",
     "output_type": "stream",
     "text": [
<<<<<<< HEAD
      "accuracy: 0.3950617283950617\n",
      "predicted class counts: Counter({1: 134, 0: 96, -1: 13})\n",
      "Data spread:  Counter({'1': 497, '0': 318, '-1': 155})\n"
=======
      "accuracy: 0.4444444444444444\n",
      "predicted class counts: Counter({1: 234, 0: 51, -1: 21})\n",
      "Data spread:  Counter({'1': 604, '0': 395, '-1': 225})\n"
>>>>>>> f5732e50df470a54703b3c767973179f753873af
     ]
    },
    {
     "name": "stderr",
     "output_type": "stream",
     "text": [
      "/home/seb/anaconda3/lib/python3.7/site-packages/sklearn/ensemble/forest.py:246: FutureWarning: The default value of n_estimators will change from 10 in version 0.20 to 100 in 0.22.\n",
      "  \"10 in version 0.20 to 100 in 0.22.\", FutureWarning)\n"
     ]
    },
    {
     "name": "stdout",
     "output_type": "stream",
     "text": [
<<<<<<< HEAD
      "accuracy: 0.45267489711934156\n",
      "predicted class counts: Counter({1: 163, 0: 66, -1: 14})\n",
      "training 375 out of 500\n",
      "Data spread:  Counter({'1': 497, '0': 318, '-1': 155})\n"
=======
      "accuracy: 0.434640522875817\n",
      "predicted class counts: Counter({1: 182, 0: 88, -1: 36})\n",
      "training 375 out of 500\n",
      "Data spread:  Counter({'1': 604, '0': 395, '-1': 225})\n"
>>>>>>> f5732e50df470a54703b3c767973179f753873af
     ]
    },
    {
     "name": "stderr",
     "output_type": "stream",
     "text": [
      "/home/seb/anaconda3/lib/python3.7/site-packages/sklearn/ensemble/forest.py:246: FutureWarning: The default value of n_estimators will change from 10 in version 0.20 to 100 in 0.22.\n",
      "  \"10 in version 0.20 to 100 in 0.22.\", FutureWarning)\n"
     ]
    },
    {
     "name": "stdout",
     "output_type": "stream",
     "text": [
<<<<<<< HEAD
      "accuracy: 0.4691358024691358\n",
      "predicted class counts: Counter({1: 152, 0: 76, -1: 15})\n",
      "Data spread:  Counter({'1': 497, '0': 318, '-1': 155})\n"
=======
      "accuracy: 0.42483660130718953\n",
      "predicted class counts: Counter({1: 206, 0: 80, -1: 20})\n",
      "Data spread:  Counter({'1': 604, '0': 395, '-1': 225})\n"
>>>>>>> f5732e50df470a54703b3c767973179f753873af
     ]
    },
    {
     "name": "stderr",
     "output_type": "stream",
     "text": [
      "/home/seb/anaconda3/lib/python3.7/site-packages/sklearn/ensemble/forest.py:246: FutureWarning: The default value of n_estimators will change from 10 in version 0.20 to 100 in 0.22.\n",
      "  \"10 in version 0.20 to 100 in 0.22.\", FutureWarning)\n"
     ]
    },
    {
     "name": "stdout",
     "output_type": "stream",
     "text": [
<<<<<<< HEAD
      "accuracy: 0.4732510288065844\n",
      "predicted class counts: Counter({1: 156, 0: 73, -1: 14})\n",
      "Data spread:  Counter({'1': 497, '0': 318, '-1': 155})\n"
=======
      "accuracy: 0.4117647058823529\n",
      "predicted class counts: Counter({1: 190, 0: 98, -1: 18})\n",
      "Data spread:  Counter({'1': 604, '0': 395, '-1': 225})\n"
>>>>>>> f5732e50df470a54703b3c767973179f753873af
     ]
    },
    {
     "name": "stderr",
     "output_type": "stream",
     "text": [
      "/home/seb/anaconda3/lib/python3.7/site-packages/sklearn/ensemble/forest.py:246: FutureWarning: The default value of n_estimators will change from 10 in version 0.20 to 100 in 0.22.\n",
      "  \"10 in version 0.20 to 100 in 0.22.\", FutureWarning)\n"
     ]
    },
    {
     "name": "stdout",
     "output_type": "stream",
     "text": [
<<<<<<< HEAD
      "accuracy: 0.4156378600823045\n",
      "predicted class counts: Counter({1: 148, 0: 85, -1: 10})\n",
      "Data spread:  Counter({'1': 497, '0': 318, '-1': 155})\n"
=======
      "accuracy: 0.4738562091503268\n",
      "predicted class counts: Counter({1: 182, 0: 94, -1: 30})\n",
      "Data spread:  Counter({'1': 604, '0': 395, '-1': 225})\n"
>>>>>>> f5732e50df470a54703b3c767973179f753873af
     ]
    },
    {
     "name": "stderr",
     "output_type": "stream",
     "text": [
      "/home/seb/anaconda3/lib/python3.7/site-packages/sklearn/ensemble/forest.py:246: FutureWarning: The default value of n_estimators will change from 10 in version 0.20 to 100 in 0.22.\n",
      "  \"10 in version 0.20 to 100 in 0.22.\", FutureWarning)\n"
     ]
    },
    {
     "name": "stdout",
     "output_type": "stream",
     "text": [
<<<<<<< HEAD
      "accuracy: 0.448559670781893\n",
      "predicted class counts: Counter({1: 156, 0: 66, -1: 21})\n",
      "Data spread:  Counter({'1': 497, '0': 318, '-1': 155})\n"
=======
      "accuracy: 0.47058823529411764\n",
      "predicted class counts: Counter({1: 174, 0: 93, -1: 39})\n",
      "Data spread:  Counter({'1': 604, '0': 395, '-1': 225})\n"
>>>>>>> f5732e50df470a54703b3c767973179f753873af
     ]
    },
    {
     "name": "stderr",
     "output_type": "stream",
     "text": [
      "/home/seb/anaconda3/lib/python3.7/site-packages/sklearn/ensemble/forest.py:246: FutureWarning: The default value of n_estimators will change from 10 in version 0.20 to 100 in 0.22.\n",
      "  \"10 in version 0.20 to 100 in 0.22.\", FutureWarning)\n"
     ]
    },
    {
     "name": "stdout",
     "output_type": "stream",
     "text": [
<<<<<<< HEAD
      "accuracy: 0.48148148148148145\n",
      "predicted class counts: Counter({1: 151, 0: 78, -1: 14})\n",
      "training 380 out of 500\n",
      "Data spread:  Counter({'1': 497, '0': 318, '-1': 155})\n"
=======
      "accuracy: 0.42810457516339867\n",
      "predicted class counts: Counter({1: 197, 0: 92, -1: 17})\n",
      "training 380 out of 500\n",
      "Data spread:  Counter({'1': 604, '0': 395, '-1': 225})\n"
>>>>>>> f5732e50df470a54703b3c767973179f753873af
     ]
    },
    {
     "name": "stderr",
     "output_type": "stream",
     "text": [
      "/home/seb/anaconda3/lib/python3.7/site-packages/sklearn/ensemble/forest.py:246: FutureWarning: The default value of n_estimators will change from 10 in version 0.20 to 100 in 0.22.\n",
      "  \"10 in version 0.20 to 100 in 0.22.\", FutureWarning)\n"
     ]
    },
    {
     "name": "stdout",
     "output_type": "stream",
     "text": [
<<<<<<< HEAD
      "accuracy: 0.43621399176954734\n",
      "predicted class counts: Counter({1: 171, 0: 55, -1: 17})\n",
      "Data spread:  Counter({'1': 497, '0': 318, '-1': 155})\n"
=======
      "accuracy: 0.4869281045751634\n",
      "predicted class counts: Counter({1: 180, 0: 101, -1: 25})\n",
      "Data spread:  Counter({'1': 604, '0': 395, '-1': 225})\n"
>>>>>>> f5732e50df470a54703b3c767973179f753873af
     ]
    },
    {
     "name": "stderr",
     "output_type": "stream",
     "text": [
      "/home/seb/anaconda3/lib/python3.7/site-packages/sklearn/ensemble/forest.py:246: FutureWarning: The default value of n_estimators will change from 10 in version 0.20 to 100 in 0.22.\n",
      "  \"10 in version 0.20 to 100 in 0.22.\", FutureWarning)\n"
     ]
    },
    {
     "name": "stdout",
     "output_type": "stream",
     "text": [
<<<<<<< HEAD
      "accuracy: 0.4773662551440329\n",
      "predicted class counts: Counter({1: 138, 0: 92, -1: 13})\n",
      "Data spread:  Counter({'1': 497, '0': 318, '-1': 155})\n"
=======
      "accuracy: 0.41830065359477125\n",
      "predicted class counts: Counter({1: 213, 0: 68, -1: 25})\n",
      "Data spread:  Counter({'1': 604, '0': 395, '-1': 225})\n"
>>>>>>> f5732e50df470a54703b3c767973179f753873af
     ]
    },
    {
     "name": "stderr",
     "output_type": "stream",
     "text": [
      "/home/seb/anaconda3/lib/python3.7/site-packages/sklearn/ensemble/forest.py:246: FutureWarning: The default value of n_estimators will change from 10 in version 0.20 to 100 in 0.22.\n",
      "  \"10 in version 0.20 to 100 in 0.22.\", FutureWarning)\n"
     ]
    },
    {
     "name": "stdout",
     "output_type": "stream",
     "text": [
<<<<<<< HEAD
      "accuracy: 0.43621399176954734\n",
      "predicted class counts: Counter({1: 148, 0: 71, -1: 24})\n",
      "Data spread:  Counter({'1': 497, '0': 318, '-1': 155})\n"
=======
      "accuracy: 0.46405228758169936\n",
      "predicted class counts: Counter({1: 164, 0: 105, -1: 37})\n",
      "Data spread:  Counter({'1': 604, '0': 395, '-1': 225})\n"
>>>>>>> f5732e50df470a54703b3c767973179f753873af
     ]
    },
    {
     "name": "stderr",
     "output_type": "stream",
     "text": [
      "/home/seb/anaconda3/lib/python3.7/site-packages/sklearn/ensemble/forest.py:246: FutureWarning: The default value of n_estimators will change from 10 in version 0.20 to 100 in 0.22.\n",
      "  \"10 in version 0.20 to 100 in 0.22.\", FutureWarning)\n"
     ]
    },
    {
     "name": "stdout",
     "output_type": "stream",
     "text": [
<<<<<<< HEAD
      "accuracy: 0.4279835390946502\n",
      "predicted class counts: Counter({1: 148, 0: 83, -1: 12})\n",
      "Data spread:  Counter({'1': 497, '0': 318, '-1': 155})\n"
=======
      "accuracy: 0.4019607843137255\n",
      "predicted class counts: Counter({1: 190, 0: 90, -1: 26})\n",
      "Data spread:  Counter({'1': 604, '0': 395, '-1': 225})\n"
>>>>>>> f5732e50df470a54703b3c767973179f753873af
     ]
    },
    {
     "name": "stderr",
     "output_type": "stream",
     "text": [
      "/home/seb/anaconda3/lib/python3.7/site-packages/sklearn/ensemble/forest.py:246: FutureWarning: The default value of n_estimators will change from 10 in version 0.20 to 100 in 0.22.\n",
      "  \"10 in version 0.20 to 100 in 0.22.\", FutureWarning)\n"
     ]
    },
    {
     "name": "stdout",
     "output_type": "stream",
     "text": [
<<<<<<< HEAD
      "accuracy: 0.42386831275720166\n",
      "predicted class counts: Counter({1: 146, 0: 75, -1: 22})\n",
      "training 385 out of 500\n",
      "Data spread:  Counter({'1': 497, '0': 318, '-1': 155})\n"
=======
      "accuracy: 0.4019607843137255\n",
      "predicted class counts: Counter({1: 150, 0: 122, -1: 34})\n",
      "training 385 out of 500\n",
      "Data spread:  Counter({'1': 604, '0': 395, '-1': 225})\n"
>>>>>>> f5732e50df470a54703b3c767973179f753873af
     ]
    },
    {
     "name": "stderr",
     "output_type": "stream",
     "text": [
      "/home/seb/anaconda3/lib/python3.7/site-packages/sklearn/ensemble/forest.py:246: FutureWarning: The default value of n_estimators will change from 10 in version 0.20 to 100 in 0.22.\n",
      "  \"10 in version 0.20 to 100 in 0.22.\", FutureWarning)\n"
     ]
    },
    {
     "name": "stdout",
     "output_type": "stream",
     "text": [
<<<<<<< HEAD
      "accuracy: 0.49794238683127573\n",
      "predicted class counts: Counter({1: 161, 0: 67, -1: 15})\n",
      "Data spread:  Counter({'1': 497, '0': 318, '-1': 155})\n"
=======
      "accuracy: 0.42483660130718953\n",
      "predicted class counts: Counter({1: 223, 0: 58, -1: 25})\n",
      "Data spread:  Counter({'1': 604, '0': 395, '-1': 225})\n"
>>>>>>> f5732e50df470a54703b3c767973179f753873af
     ]
    },
    {
     "name": "stderr",
     "output_type": "stream",
     "text": [
      "/home/seb/anaconda3/lib/python3.7/site-packages/sklearn/ensemble/forest.py:246: FutureWarning: The default value of n_estimators will change from 10 in version 0.20 to 100 in 0.22.\n",
      "  \"10 in version 0.20 to 100 in 0.22.\", FutureWarning)\n"
     ]
    },
    {
     "name": "stdout",
     "output_type": "stream",
     "text": [
<<<<<<< HEAD
      "accuracy: 0.43621399176954734\n",
      "predicted class counts: Counter({1: 150, 0: 79, -1: 14})\n",
      "Data spread:  Counter({'1': 497, '0': 318, '-1': 155})\n"
=======
      "accuracy: 0.42810457516339867\n",
      "predicted class counts: Counter({1: 187, 0: 82, -1: 37})\n",
      "Data spread:  Counter({'1': 604, '0': 395, '-1': 225})\n"
>>>>>>> f5732e50df470a54703b3c767973179f753873af
     ]
    },
    {
     "name": "stderr",
     "output_type": "stream",
     "text": [
      "/home/seb/anaconda3/lib/python3.7/site-packages/sklearn/ensemble/forest.py:246: FutureWarning: The default value of n_estimators will change from 10 in version 0.20 to 100 in 0.22.\n",
      "  \"10 in version 0.20 to 100 in 0.22.\", FutureWarning)\n"
     ]
    },
    {
     "name": "stdout",
     "output_type": "stream",
     "text": [
<<<<<<< HEAD
      "accuracy: 0.4444444444444444\n",
      "predicted class counts: Counter({1: 180, 0: 53, -1: 10})\n",
      "Data spread:  Counter({'1': 497, '0': 318, '-1': 155})\n"
=======
      "accuracy: 0.4150326797385621\n",
      "predicted class counts: Counter({1: 228, 0: 57, -1: 21})\n",
      "Data spread:  Counter({'1': 604, '0': 395, '-1': 225})\n"
>>>>>>> f5732e50df470a54703b3c767973179f753873af
     ]
    },
    {
     "name": "stderr",
     "output_type": "stream",
     "text": [
      "/home/seb/anaconda3/lib/python3.7/site-packages/sklearn/ensemble/forest.py:246: FutureWarning: The default value of n_estimators will change from 10 in version 0.20 to 100 in 0.22.\n",
      "  \"10 in version 0.20 to 100 in 0.22.\", FutureWarning)\n"
     ]
    },
    {
     "name": "stdout",
     "output_type": "stream",
     "text": [
<<<<<<< HEAD
      "accuracy: 0.4567901234567901\n",
      "predicted class counts: Counter({1: 155, 0: 69, -1: 19})\n",
      "Data spread:  Counter({'1': 497, '0': 318, '-1': 155})\n"
=======
      "accuracy: 0.41830065359477125\n",
      "predicted class counts: Counter({1: 212, 0: 69, -1: 25})\n",
      "Data spread:  Counter({'1': 604, '0': 395, '-1': 225})\n"
>>>>>>> f5732e50df470a54703b3c767973179f753873af
     ]
    },
    {
     "name": "stderr",
     "output_type": "stream",
     "text": [
      "/home/seb/anaconda3/lib/python3.7/site-packages/sklearn/ensemble/forest.py:246: FutureWarning: The default value of n_estimators will change from 10 in version 0.20 to 100 in 0.22.\n",
      "  \"10 in version 0.20 to 100 in 0.22.\", FutureWarning)\n"
     ]
    },
    {
     "name": "stdout",
     "output_type": "stream",
     "text": [
<<<<<<< HEAD
      "accuracy: 0.4609053497942387\n",
      "predicted class counts: Counter({1: 155, 0: 78, -1: 10})\n",
      "training 390 out of 500\n",
      "Data spread:  Counter({'1': 497, '0': 318, '-1': 155})\n"
=======
      "accuracy: 0.4542483660130719\n",
      "predicted class counts: Counter({1: 223, 0: 59, -1: 24})\n",
      "training 390 out of 500\n",
      "Data spread:  Counter({'1': 604, '0': 395, '-1': 225})\n"
>>>>>>> f5732e50df470a54703b3c767973179f753873af
     ]
    },
    {
     "name": "stderr",
     "output_type": "stream",
     "text": [
      "/home/seb/anaconda3/lib/python3.7/site-packages/sklearn/ensemble/forest.py:246: FutureWarning: The default value of n_estimators will change from 10 in version 0.20 to 100 in 0.22.\n",
      "  \"10 in version 0.20 to 100 in 0.22.\", FutureWarning)\n"
     ]
    },
    {
     "name": "stdout",
     "output_type": "stream",
     "text": [
<<<<<<< HEAD
      "accuracy: 0.3950617283950617\n",
      "predicted class counts: Counter({1: 132, 0: 91, -1: 20})\n",
      "Data spread:  Counter({'1': 497, '0': 318, '-1': 155})\n"
=======
      "accuracy: 0.46405228758169936\n",
      "predicted class counts: Counter({1: 214, 0: 72, -1: 20})\n",
      "Data spread:  Counter({'1': 604, '0': 395, '-1': 225})\n"
>>>>>>> f5732e50df470a54703b3c767973179f753873af
     ]
    },
    {
     "name": "stderr",
     "output_type": "stream",
     "text": [
      "/home/seb/anaconda3/lib/python3.7/site-packages/sklearn/ensemble/forest.py:246: FutureWarning: The default value of n_estimators will change from 10 in version 0.20 to 100 in 0.22.\n",
      "  \"10 in version 0.20 to 100 in 0.22.\", FutureWarning)\n"
     ]
    },
    {
     "name": "stdout",
     "output_type": "stream",
     "text": [
<<<<<<< HEAD
      "accuracy: 0.4567901234567901\n",
      "predicted class counts: Counter({1: 173, 0: 44, -1: 26})\n",
      "Data spread:  Counter({'1': 497, '0': 318, '-1': 155})\n"
=======
      "accuracy: 0.4803921568627451\n",
      "predicted class counts: Counter({1: 177, 0: 103, -1: 26})\n",
      "Data spread:  Counter({'1': 604, '0': 395, '-1': 225})\n"
>>>>>>> f5732e50df470a54703b3c767973179f753873af
     ]
    },
    {
     "name": "stderr",
     "output_type": "stream",
     "text": [
      "/home/seb/anaconda3/lib/python3.7/site-packages/sklearn/ensemble/forest.py:246: FutureWarning: The default value of n_estimators will change from 10 in version 0.20 to 100 in 0.22.\n",
      "  \"10 in version 0.20 to 100 in 0.22.\", FutureWarning)\n"
     ]
    },
    {
     "name": "stdout",
     "output_type": "stream",
     "text": [
<<<<<<< HEAD
      "accuracy: 0.49382716049382713\n",
      "predicted class counts: Counter({1: 169, 0: 60, -1: 14})\n",
      "Data spread:  Counter({'1': 497, '0': 318, '-1': 155})\n"
=======
      "accuracy: 0.47058823529411764\n",
      "predicted class counts: Counter({1: 201, 0: 79, -1: 26})\n",
      "Data spread:  Counter({'1': 604, '0': 395, '-1': 225})\n"
>>>>>>> f5732e50df470a54703b3c767973179f753873af
     ]
    },
    {
     "name": "stderr",
     "output_type": "stream",
     "text": [
      "/home/seb/anaconda3/lib/python3.7/site-packages/sklearn/ensemble/forest.py:246: FutureWarning: The default value of n_estimators will change from 10 in version 0.20 to 100 in 0.22.\n",
      "  \"10 in version 0.20 to 100 in 0.22.\", FutureWarning)\n"
     ]
    },
    {
     "name": "stdout",
     "output_type": "stream",
     "text": [
<<<<<<< HEAD
      "accuracy: 0.448559670781893\n",
      "predicted class counts: Counter({1: 152, 0: 67, -1: 24})\n",
      "Data spread:  Counter({'1': 497, '0': 318, '-1': 155})\n"
=======
      "accuracy: 0.4477124183006536\n",
      "predicted class counts: Counter({1: 198, 0: 81, -1: 27})\n",
      "Data spread:  Counter({'1': 604, '0': 395, '-1': 225})\n"
>>>>>>> f5732e50df470a54703b3c767973179f753873af
     ]
    },
    {
     "name": "stderr",
     "output_type": "stream",
     "text": [
      "/home/seb/anaconda3/lib/python3.7/site-packages/sklearn/ensemble/forest.py:246: FutureWarning: The default value of n_estimators will change from 10 in version 0.20 to 100 in 0.22.\n",
      "  \"10 in version 0.20 to 100 in 0.22.\", FutureWarning)\n"
     ]
    },
    {
     "name": "stdout",
     "output_type": "stream",
     "text": [
<<<<<<< HEAD
      "accuracy: 0.4444444444444444\n",
      "predicted class counts: Counter({1: 137, 0: 85, -1: 21})\n",
      "training 395 out of 500\n",
      "Data spread:  Counter({'1': 497, '0': 318, '-1': 155})\n"
=======
      "accuracy: 0.4150326797385621\n",
      "predicted class counts: Counter({1: 145, 0: 114, -1: 47})\n",
      "training 395 out of 500\n",
      "Data spread:  Counter({'1': 604, '0': 395, '-1': 225})\n"
>>>>>>> f5732e50df470a54703b3c767973179f753873af
     ]
    },
    {
     "name": "stderr",
     "output_type": "stream",
     "text": [
      "/home/seb/anaconda3/lib/python3.7/site-packages/sklearn/ensemble/forest.py:246: FutureWarning: The default value of n_estimators will change from 10 in version 0.20 to 100 in 0.22.\n",
      "  \"10 in version 0.20 to 100 in 0.22.\", FutureWarning)\n"
     ]
    },
    {
     "name": "stdout",
     "output_type": "stream",
     "text": [
<<<<<<< HEAD
      "accuracy: 0.45267489711934156\n",
      "predicted class counts: Counter({1: 149, 0: 66, -1: 28})\n",
      "Data spread:  Counter({'1': 497, '0': 318, '-1': 155})\n"
=======
      "accuracy: 0.4738562091503268\n",
      "predicted class counts: Counter({1: 164, 0: 102, -1: 40})\n",
      "Data spread:  Counter({'1': 604, '0': 395, '-1': 225})\n"
>>>>>>> f5732e50df470a54703b3c767973179f753873af
     ]
    },
    {
     "name": "stderr",
     "output_type": "stream",
     "text": [
      "/home/seb/anaconda3/lib/python3.7/site-packages/sklearn/ensemble/forest.py:246: FutureWarning: The default value of n_estimators will change from 10 in version 0.20 to 100 in 0.22.\n",
      "  \"10 in version 0.20 to 100 in 0.22.\", FutureWarning)\n"
     ]
    },
    {
     "name": "stdout",
     "output_type": "stream",
     "text": [
<<<<<<< HEAD
      "accuracy: 0.43621399176954734\n",
      "predicted class counts: Counter({1: 156, 0: 72, -1: 15})\n",
      "Data spread:  Counter({'1': 497, '0': 318, '-1': 155})\n"
=======
      "accuracy: 0.43137254901960786\n",
      "predicted class counts: Counter({1: 183, 0: 94, -1: 29})\n",
      "Data spread:  Counter({'1': 604, '0': 395, '-1': 225})\n"
>>>>>>> f5732e50df470a54703b3c767973179f753873af
     ]
    },
    {
     "name": "stderr",
     "output_type": "stream",
     "text": [
      "/home/seb/anaconda3/lib/python3.7/site-packages/sklearn/ensemble/forest.py:246: FutureWarning: The default value of n_estimators will change from 10 in version 0.20 to 100 in 0.22.\n",
      "  \"10 in version 0.20 to 100 in 0.22.\", FutureWarning)\n"
     ]
    },
    {
     "name": "stdout",
     "output_type": "stream",
     "text": [
<<<<<<< HEAD
      "accuracy: 0.43209876543209874\n",
      "predicted class counts: Counter({1: 147, 0: 74, -1: 22})\n",
      "Data spread:  Counter({'1': 497, '0': 318, '-1': 155})\n"
=======
      "accuracy: 0.4411764705882353\n",
      "predicted class counts: Counter({1: 156, 0: 119, -1: 31})\n",
      "Data spread:  Counter({'1': 604, '0': 395, '-1': 225})\n"
>>>>>>> f5732e50df470a54703b3c767973179f753873af
     ]
    },
    {
     "name": "stderr",
     "output_type": "stream",
     "text": [
      "/home/seb/anaconda3/lib/python3.7/site-packages/sklearn/ensemble/forest.py:246: FutureWarning: The default value of n_estimators will change from 10 in version 0.20 to 100 in 0.22.\n",
      "  \"10 in version 0.20 to 100 in 0.22.\", FutureWarning)\n"
     ]
    },
    {
     "name": "stdout",
     "output_type": "stream",
     "text": [
<<<<<<< HEAD
      "accuracy: 0.4444444444444444\n",
      "predicted class counts: Counter({1: 188, 0: 43, -1: 12})\n",
      "Data spread:  Counter({'1': 497, '0': 318, '-1': 155})\n"
=======
      "accuracy: 0.4019607843137255\n",
      "predicted class counts: Counter({1: 220, 0: 59, -1: 27})\n",
      "Data spread:  Counter({'1': 604, '0': 395, '-1': 225})\n"
>>>>>>> f5732e50df470a54703b3c767973179f753873af
     ]
    },
    {
     "name": "stderr",
     "output_type": "stream",
     "text": [
      "/home/seb/anaconda3/lib/python3.7/site-packages/sklearn/ensemble/forest.py:246: FutureWarning: The default value of n_estimators will change from 10 in version 0.20 to 100 in 0.22.\n",
      "  \"10 in version 0.20 to 100 in 0.22.\", FutureWarning)\n"
     ]
    },
    {
     "name": "stdout",
     "output_type": "stream",
     "text": [
<<<<<<< HEAD
      "accuracy: 0.40329218106995884\n",
      "predicted class counts: Counter({1: 155, 0: 71, -1: 17})\n",
      "training 400 out of 500\n",
      "Data spread:  Counter({'1': 497, '0': 318, '-1': 155})\n"
=======
      "accuracy: 0.42483660130718953\n",
      "predicted class counts: Counter({1: 210, 0: 62, -1: 34})\n",
      "training 400 out of 500\n",
      "Data spread:  Counter({'1': 604, '0': 395, '-1': 225})\n"
>>>>>>> f5732e50df470a54703b3c767973179f753873af
     ]
    },
    {
     "name": "stderr",
     "output_type": "stream",
     "text": [
      "/home/seb/anaconda3/lib/python3.7/site-packages/sklearn/ensemble/forest.py:246: FutureWarning: The default value of n_estimators will change from 10 in version 0.20 to 100 in 0.22.\n",
      "  \"10 in version 0.20 to 100 in 0.22.\", FutureWarning)\n"
     ]
    },
    {
     "name": "stdout",
     "output_type": "stream",
     "text": [
<<<<<<< HEAD
      "accuracy: 0.448559670781893\n",
      "predicted class counts: Counter({1: 167, 0: 61, -1: 15})\n",
      "Data spread:  Counter({'1': 497, '0': 318, '-1': 155})\n"
=======
      "accuracy: 0.43137254901960786\n",
      "predicted class counts: Counter({1: 217, 0: 72, -1: 17})\n",
      "Data spread:  Counter({'1': 604, '0': 395, '-1': 225})\n"
>>>>>>> f5732e50df470a54703b3c767973179f753873af
     ]
    },
    {
     "name": "stderr",
     "output_type": "stream",
     "text": [
      "/home/seb/anaconda3/lib/python3.7/site-packages/sklearn/ensemble/forest.py:246: FutureWarning: The default value of n_estimators will change from 10 in version 0.20 to 100 in 0.22.\n",
      "  \"10 in version 0.20 to 100 in 0.22.\", FutureWarning)\n"
     ]
    },
    {
     "name": "stdout",
     "output_type": "stream",
     "text": [
<<<<<<< HEAD
      "accuracy: 0.4403292181069959\n",
      "predicted class counts: Counter({1: 144, 0: 82, -1: 17})\n",
      "Data spread:  Counter({'1': 497, '0': 318, '-1': 155})\n"
=======
      "accuracy: 0.42810457516339867\n",
      "predicted class counts: Counter({1: 180, 0: 99, -1: 27})\n",
      "Data spread:  Counter({'1': 604, '0': 395, '-1': 225})\n"
>>>>>>> f5732e50df470a54703b3c767973179f753873af
     ]
    },
    {
     "name": "stderr",
     "output_type": "stream",
     "text": [
      "/home/seb/anaconda3/lib/python3.7/site-packages/sklearn/ensemble/forest.py:246: FutureWarning: The default value of n_estimators will change from 10 in version 0.20 to 100 in 0.22.\n",
      "  \"10 in version 0.20 to 100 in 0.22.\", FutureWarning)\n"
     ]
    },
    {
     "name": "stdout",
     "output_type": "stream",
     "text": [
<<<<<<< HEAD
      "accuracy: 0.48559670781893005\n",
      "predicted class counts: Counter({1: 169, 0: 66, -1: 8})\n",
      "Data spread:  Counter({'1': 497, '0': 318, '-1': 155})\n"
=======
      "accuracy: 0.4444444444444444\n",
      "predicted class counts: Counter({1: 173, 0: 110, -1: 23})\n",
      "Data spread:  Counter({'1': 604, '0': 395, '-1': 225})\n"
>>>>>>> f5732e50df470a54703b3c767973179f753873af
     ]
    },
    {
     "name": "stderr",
     "output_type": "stream",
     "text": [
      "/home/seb/anaconda3/lib/python3.7/site-packages/sklearn/ensemble/forest.py:246: FutureWarning: The default value of n_estimators will change from 10 in version 0.20 to 100 in 0.22.\n",
      "  \"10 in version 0.20 to 100 in 0.22.\", FutureWarning)\n"
     ]
    },
    {
     "name": "stdout",
     "output_type": "stream",
     "text": [
<<<<<<< HEAD
      "accuracy: 0.4609053497942387\n",
      "predicted class counts: Counter({1: 158, 0: 66, -1: 19})\n",
      "Data spread:  Counter({'1': 497, '0': 318, '-1': 155})\n"
=======
      "accuracy: 0.4444444444444444\n",
      "predicted class counts: Counter({1: 187, 0: 101, -1: 18})\n",
      "Data spread:  Counter({'1': 604, '0': 395, '-1': 225})\n"
>>>>>>> f5732e50df470a54703b3c767973179f753873af
     ]
    },
    {
     "name": "stderr",
     "output_type": "stream",
     "text": [
      "/home/seb/anaconda3/lib/python3.7/site-packages/sklearn/ensemble/forest.py:246: FutureWarning: The default value of n_estimators will change from 10 in version 0.20 to 100 in 0.22.\n",
      "  \"10 in version 0.20 to 100 in 0.22.\", FutureWarning)\n"
     ]
    },
    {
     "name": "stdout",
     "output_type": "stream",
     "text": [
<<<<<<< HEAD
      "accuracy: 0.51440329218107\n",
      "predicted class counts: Counter({1: 149, 0: 71, -1: 23})\n",
      "training 405 out of 500\n",
      "Data spread:  Counter({'1': 497, '0': 318, '-1': 155})\n"
=======
      "accuracy: 0.45751633986928103\n",
      "predicted class counts: Counter({1: 181, 0: 89, -1: 36})\n",
      "training 405 out of 500\n",
      "Data spread:  Counter({'1': 604, '0': 395, '-1': 225})\n"
>>>>>>> f5732e50df470a54703b3c767973179f753873af
     ]
    },
    {
     "name": "stderr",
     "output_type": "stream",
     "text": [
      "/home/seb/anaconda3/lib/python3.7/site-packages/sklearn/ensemble/forest.py:246: FutureWarning: The default value of n_estimators will change from 10 in version 0.20 to 100 in 0.22.\n",
      "  \"10 in version 0.20 to 100 in 0.22.\", FutureWarning)\n"
     ]
    },
    {
     "name": "stdout",
     "output_type": "stream",
     "text": [
<<<<<<< HEAD
      "accuracy: 0.4609053497942387\n",
      "predicted class counts: Counter({1: 143, 0: 83, -1: 17})\n",
      "Data spread:  Counter({'1': 497, '0': 318, '-1': 155})\n"
=======
      "accuracy: 0.4411764705882353\n",
      "predicted class counts: Counter({1: 158, 0: 122, -1: 26})\n",
      "Data spread:  Counter({'1': 604, '0': 395, '-1': 225})\n"
>>>>>>> f5732e50df470a54703b3c767973179f753873af
     ]
    },
    {
     "name": "stderr",
     "output_type": "stream",
     "text": [
      "/home/seb/anaconda3/lib/python3.7/site-packages/sklearn/ensemble/forest.py:246: FutureWarning: The default value of n_estimators will change from 10 in version 0.20 to 100 in 0.22.\n",
      "  \"10 in version 0.20 to 100 in 0.22.\", FutureWarning)\n"
     ]
    },
    {
     "name": "stdout",
     "output_type": "stream",
     "text": [
<<<<<<< HEAD
      "accuracy: 0.46502057613168724\n",
      "predicted class counts: Counter({1: 155, 0: 74, -1: 14})\n",
      "Data spread:  Counter({'1': 497, '0': 318, '-1': 155})\n"
=======
      "accuracy: 0.4444444444444444\n",
      "predicted class counts: Counter({1: 187, 0: 97, -1: 22})\n",
      "Data spread:  Counter({'1': 604, '0': 395, '-1': 225})\n"
>>>>>>> f5732e50df470a54703b3c767973179f753873af
     ]
    },
    {
     "name": "stderr",
     "output_type": "stream",
     "text": [
      "/home/seb/anaconda3/lib/python3.7/site-packages/sklearn/ensemble/forest.py:246: FutureWarning: The default value of n_estimators will change from 10 in version 0.20 to 100 in 0.22.\n",
      "  \"10 in version 0.20 to 100 in 0.22.\", FutureWarning)\n"
     ]
    },
    {
     "name": "stdout",
     "output_type": "stream",
     "text": [
<<<<<<< HEAD
      "accuracy: 0.49382716049382713\n",
      "predicted class counts: Counter({1: 132, 0: 90, -1: 21})\n",
      "Data spread:  Counter({'1': 497, '0': 318, '-1': 155})\n"
=======
      "accuracy: 0.5490196078431373\n",
      "predicted class counts: Counter({1: 194, 0: 87, -1: 25})\n",
      "Data spread:  Counter({'1': 604, '0': 395, '-1': 225})\n"
>>>>>>> f5732e50df470a54703b3c767973179f753873af
     ]
    },
    {
     "name": "stderr",
     "output_type": "stream",
     "text": [
      "/home/seb/anaconda3/lib/python3.7/site-packages/sklearn/ensemble/forest.py:246: FutureWarning: The default value of n_estimators will change from 10 in version 0.20 to 100 in 0.22.\n",
      "  \"10 in version 0.20 to 100 in 0.22.\", FutureWarning)\n"
     ]
    },
    {
     "name": "stdout",
     "output_type": "stream",
     "text": [
<<<<<<< HEAD
      "accuracy: 0.4732510288065844\n",
      "predicted class counts: Counter({1: 165, 0: 65, -1: 13})\n",
      "Data spread:  Counter({'1': 497, '0': 318, '-1': 155})\n"
=======
      "accuracy: 0.4542483660130719\n",
      "predicted class counts: Counter({1: 223, 0: 59, -1: 24})\n",
      "Data spread:  Counter({'1': 604, '0': 395, '-1': 225})\n"
>>>>>>> f5732e50df470a54703b3c767973179f753873af
     ]
    },
    {
     "name": "stderr",
     "output_type": "stream",
     "text": [
      "/home/seb/anaconda3/lib/python3.7/site-packages/sklearn/ensemble/forest.py:246: FutureWarning: The default value of n_estimators will change from 10 in version 0.20 to 100 in 0.22.\n",
      "  \"10 in version 0.20 to 100 in 0.22.\", FutureWarning)\n"
     ]
    },
    {
     "name": "stdout",
     "output_type": "stream",
     "text": [
<<<<<<< HEAD
      "accuracy: 0.4691358024691358\n",
      "predicted class counts: Counter({1: 148, 0: 69, -1: 26})\n",
      "training 410 out of 500\n",
      "Data spread:  Counter({'1': 497, '0': 318, '-1': 155})\n"
=======
      "accuracy: 0.4542483660130719\n",
      "predicted class counts: Counter({1: 213, 0: 71, -1: 22})\n",
      "training 410 out of 500\n",
      "Data spread:  Counter({'1': 604, '0': 395, '-1': 225})\n"
>>>>>>> f5732e50df470a54703b3c767973179f753873af
     ]
    },
    {
     "name": "stderr",
     "output_type": "stream",
     "text": [
      "/home/seb/anaconda3/lib/python3.7/site-packages/sklearn/ensemble/forest.py:246: FutureWarning: The default value of n_estimators will change from 10 in version 0.20 to 100 in 0.22.\n",
      "  \"10 in version 0.20 to 100 in 0.22.\", FutureWarning)\n"
     ]
    },
    {
     "name": "stdout",
     "output_type": "stream",
     "text": [
<<<<<<< HEAD
      "accuracy: 0.4444444444444444\n",
      "predicted class counts: Counter({1: 134, 0: 91, -1: 18})\n",
      "Data spread:  Counter({'1': 497, '0': 318, '-1': 155})\n"
=======
      "accuracy: 0.43790849673202614\n",
      "predicted class counts: Counter({1: 220, 0: 68, -1: 18})\n",
      "Data spread:  Counter({'1': 604, '0': 395, '-1': 225})\n"
>>>>>>> f5732e50df470a54703b3c767973179f753873af
     ]
    },
    {
     "name": "stderr",
     "output_type": "stream",
     "text": [
      "/home/seb/anaconda3/lib/python3.7/site-packages/sklearn/ensemble/forest.py:246: FutureWarning: The default value of n_estimators will change from 10 in version 0.20 to 100 in 0.22.\n",
      "  \"10 in version 0.20 to 100 in 0.22.\", FutureWarning)\n"
     ]
    },
    {
     "name": "stdout",
     "output_type": "stream",
     "text": [
<<<<<<< HEAD
      "accuracy: 0.4691358024691358\n",
      "predicted class counts: Counter({1: 158, 0: 72, -1: 13})\n",
      "Data spread:  Counter({'1': 497, '0': 318, '-1': 155})\n"
=======
      "accuracy: 0.46405228758169936\n",
      "predicted class counts: Counter({1: 194, 0: 91, -1: 21})\n",
      "Data spread:  Counter({'1': 604, '0': 395, '-1': 225})\n"
>>>>>>> f5732e50df470a54703b3c767973179f753873af
     ]
    },
    {
     "name": "stderr",
     "output_type": "stream",
     "text": [
      "/home/seb/anaconda3/lib/python3.7/site-packages/sklearn/ensemble/forest.py:246: FutureWarning: The default value of n_estimators will change from 10 in version 0.20 to 100 in 0.22.\n",
      "  \"10 in version 0.20 to 100 in 0.22.\", FutureWarning)\n"
     ]
    },
    {
     "name": "stdout",
     "output_type": "stream",
     "text": [
<<<<<<< HEAD
      "accuracy: 0.5308641975308642\n",
      "predicted class counts: Counter({1: 145, 0: 64, -1: 34})\n",
      "Data spread:  Counter({'1': 497, '0': 318, '-1': 155})\n"
=======
      "accuracy: 0.45098039215686275\n",
      "predicted class counts: Counter({1: 170, 0: 96, -1: 40})\n",
      "Data spread:  Counter({'1': 604, '0': 395, '-1': 225})\n"
>>>>>>> f5732e50df470a54703b3c767973179f753873af
     ]
    },
    {
     "name": "stderr",
     "output_type": "stream",
     "text": [
      "/home/seb/anaconda3/lib/python3.7/site-packages/sklearn/ensemble/forest.py:246: FutureWarning: The default value of n_estimators will change from 10 in version 0.20 to 100 in 0.22.\n",
      "  \"10 in version 0.20 to 100 in 0.22.\", FutureWarning)\n"
     ]
    },
    {
     "name": "stdout",
     "output_type": "stream",
     "text": [
<<<<<<< HEAD
      "accuracy: 0.448559670781893\n",
      "predicted class counts: Counter({1: 124, 0: 97, -1: 22})\n",
      "Data spread:  Counter({'1': 497, '0': 318, '-1': 155})\n"
=======
      "accuracy: 0.49673202614379086\n",
      "predicted class counts: Counter({1: 229, 0: 62, -1: 15})\n",
      "Data spread:  Counter({'1': 604, '0': 395, '-1': 225})\n"
>>>>>>> f5732e50df470a54703b3c767973179f753873af
     ]
    },
    {
     "name": "stderr",
     "output_type": "stream",
     "text": [
      "/home/seb/anaconda3/lib/python3.7/site-packages/sklearn/ensemble/forest.py:246: FutureWarning: The default value of n_estimators will change from 10 in version 0.20 to 100 in 0.22.\n",
      "  \"10 in version 0.20 to 100 in 0.22.\", FutureWarning)\n"
     ]
    },
    {
     "name": "stdout",
     "output_type": "stream",
     "text": [
<<<<<<< HEAD
      "accuracy: 0.448559670781893\n",
      "predicted class counts: Counter({1: 163, 0: 74, -1: 6})\n",
      "training 415 out of 500\n",
      "Data spread:  Counter({'1': 497, '0': 318, '-1': 155})\n"
=======
      "accuracy: 0.47058823529411764\n",
      "predicted class counts: Counter({1: 195, 0: 82, -1: 29})\n",
      "training 415 out of 500\n",
      "Data spread:  Counter({'1': 604, '0': 395, '-1': 225})\n"
>>>>>>> f5732e50df470a54703b3c767973179f753873af
     ]
    },
    {
     "name": "stderr",
     "output_type": "stream",
     "text": [
      "/home/seb/anaconda3/lib/python3.7/site-packages/sklearn/ensemble/forest.py:246: FutureWarning: The default value of n_estimators will change from 10 in version 0.20 to 100 in 0.22.\n",
      "  \"10 in version 0.20 to 100 in 0.22.\", FutureWarning)\n"
     ]
    },
    {
     "name": "stdout",
     "output_type": "stream",
     "text": [
<<<<<<< HEAD
      "accuracy: 0.48559670781893005\n",
      "predicted class counts: Counter({1: 151, 0: 74, -1: 18})\n",
      "Data spread:  Counter({'1': 497, '0': 318, '-1': 155})\n"
=======
      "accuracy: 0.47058823529411764\n",
      "predicted class counts: Counter({1: 187, 0: 88, -1: 31})\n",
      "Data spread:  Counter({'1': 604, '0': 395, '-1': 225})\n"
>>>>>>> f5732e50df470a54703b3c767973179f753873af
     ]
    },
    {
     "name": "stderr",
     "output_type": "stream",
     "text": [
      "/home/seb/anaconda3/lib/python3.7/site-packages/sklearn/ensemble/forest.py:246: FutureWarning: The default value of n_estimators will change from 10 in version 0.20 to 100 in 0.22.\n",
      "  \"10 in version 0.20 to 100 in 0.22.\", FutureWarning)\n"
     ]
    },
    {
     "name": "stdout",
     "output_type": "stream",
     "text": [
<<<<<<< HEAD
      "accuracy: 0.48148148148148145\n",
      "predicted class counts: Counter({1: 145, 0: 83, -1: 15})\n",
      "Data spread:  Counter({'1': 497, '0': 318, '-1': 155})\n"
=======
      "accuracy: 0.4117647058823529\n",
      "predicted class counts: Counter({1: 217, 0: 74, -1: 15})\n",
      "Data spread:  Counter({'1': 604, '0': 395, '-1': 225})\n"
>>>>>>> f5732e50df470a54703b3c767973179f753873af
     ]
    },
    {
     "name": "stderr",
     "output_type": "stream",
     "text": [
      "/home/seb/anaconda3/lib/python3.7/site-packages/sklearn/ensemble/forest.py:246: FutureWarning: The default value of n_estimators will change from 10 in version 0.20 to 100 in 0.22.\n",
      "  \"10 in version 0.20 to 100 in 0.22.\", FutureWarning)\n"
     ]
    },
    {
     "name": "stdout",
     "output_type": "stream",
     "text": [
<<<<<<< HEAD
      "accuracy: 0.4567901234567901\n",
      "predicted class counts: Counter({1: 182, 0: 51, -1: 10})\n",
      "Data spread:  Counter({'1': 497, '0': 318, '-1': 155})\n"
=======
      "accuracy: 0.4150326797385621\n",
      "predicted class counts: Counter({1: 180, 0: 96, -1: 30})\n",
      "Data spread:  Counter({'1': 604, '0': 395, '-1': 225})\n"
>>>>>>> f5732e50df470a54703b3c767973179f753873af
     ]
    },
    {
     "name": "stderr",
     "output_type": "stream",
     "text": [
      "/home/seb/anaconda3/lib/python3.7/site-packages/sklearn/ensemble/forest.py:246: FutureWarning: The default value of n_estimators will change from 10 in version 0.20 to 100 in 0.22.\n",
      "  \"10 in version 0.20 to 100 in 0.22.\", FutureWarning)\n"
     ]
    },
    {
     "name": "stdout",
     "output_type": "stream",
     "text": [
<<<<<<< HEAD
      "accuracy: 0.48148148148148145\n",
      "predicted class counts: Counter({1: 157, 0: 73, -1: 13})\n",
      "Data spread:  Counter({'1': 497, '0': 318, '-1': 155})\n"
=======
      "accuracy: 0.434640522875817\n",
      "predicted class counts: Counter({1: 196, 0: 83, -1: 27})\n",
      "Data spread:  Counter({'1': 604, '0': 395, '-1': 225})\n"
>>>>>>> f5732e50df470a54703b3c767973179f753873af
     ]
    },
    {
     "name": "stderr",
     "output_type": "stream",
     "text": [
      "/home/seb/anaconda3/lib/python3.7/site-packages/sklearn/ensemble/forest.py:246: FutureWarning: The default value of n_estimators will change from 10 in version 0.20 to 100 in 0.22.\n",
      "  \"10 in version 0.20 to 100 in 0.22.\", FutureWarning)\n"
     ]
    },
    {
     "name": "stdout",
     "output_type": "stream",
     "text": [
<<<<<<< HEAD
      "accuracy: 0.3991769547325103\n",
      "predicted class counts: Counter({1: 159, 0: 75, -1: 9})\n",
      "training 420 out of 500\n",
      "Data spread:  Counter({'1': 497, '0': 318, '-1': 155})\n"
=======
      "accuracy: 0.45098039215686275\n",
      "predicted class counts: Counter({1: 168, 0: 99, -1: 39})\n",
      "training 420 out of 500\n",
      "Data spread:  Counter({'1': 604, '0': 395, '-1': 225})\n"
>>>>>>> f5732e50df470a54703b3c767973179f753873af
     ]
    },
    {
     "name": "stderr",
     "output_type": "stream",
     "text": [
      "/home/seb/anaconda3/lib/python3.7/site-packages/sklearn/ensemble/forest.py:246: FutureWarning: The default value of n_estimators will change from 10 in version 0.20 to 100 in 0.22.\n",
      "  \"10 in version 0.20 to 100 in 0.22.\", FutureWarning)\n"
     ]
    },
    {
     "name": "stdout",
     "output_type": "stream",
     "text": [
<<<<<<< HEAD
      "accuracy: 0.5185185185185185\n",
      "predicted class counts: Counter({1: 180, 0: 52, -1: 11})\n",
      "Data spread:  Counter({'1': 497, '0': 318, '-1': 155})\n"
=======
      "accuracy: 0.39869281045751637\n",
      "predicted class counts: Counter({1: 203, 0: 84, -1: 19})\n",
      "Data spread:  Counter({'1': 604, '0': 395, '-1': 225})\n"
>>>>>>> f5732e50df470a54703b3c767973179f753873af
     ]
    },
    {
     "name": "stderr",
     "output_type": "stream",
     "text": [
      "/home/seb/anaconda3/lib/python3.7/site-packages/sklearn/ensemble/forest.py:246: FutureWarning: The default value of n_estimators will change from 10 in version 0.20 to 100 in 0.22.\n",
      "  \"10 in version 0.20 to 100 in 0.22.\", FutureWarning)\n"
     ]
    },
    {
     "name": "stdout",
     "output_type": "stream",
     "text": [
<<<<<<< HEAD
      "accuracy: 0.48148148148148145\n",
      "predicted class counts: Counter({1: 143, 0: 88, -1: 12})\n",
      "Data spread:  Counter({'1': 497, '0': 318, '-1': 155})\n"
=======
      "accuracy: 0.4411764705882353\n",
      "predicted class counts: Counter({1: 213, 0: 67, -1: 26})\n",
      "Data spread:  Counter({'1': 604, '0': 395, '-1': 225})\n"
>>>>>>> f5732e50df470a54703b3c767973179f753873af
     ]
    },
    {
     "name": "stderr",
     "output_type": "stream",
     "text": [
      "/home/seb/anaconda3/lib/python3.7/site-packages/sklearn/ensemble/forest.py:246: FutureWarning: The default value of n_estimators will change from 10 in version 0.20 to 100 in 0.22.\n",
      "  \"10 in version 0.20 to 100 in 0.22.\", FutureWarning)\n"
     ]
    },
    {
     "name": "stdout",
     "output_type": "stream",
     "text": [
<<<<<<< HEAD
      "accuracy: 0.4773662551440329\n",
      "predicted class counts: Counter({1: 172, 0: 51, -1: 20})\n",
      "Data spread:  Counter({'1': 497, '0': 318, '-1': 155})\n"
=======
      "accuracy: 0.4215686274509804\n",
      "predicted class counts: Counter({1: 203, 0: 69, -1: 34})\n",
      "Data spread:  Counter({'1': 604, '0': 395, '-1': 225})\n"
>>>>>>> f5732e50df470a54703b3c767973179f753873af
     ]
    },
    {
     "name": "stderr",
     "output_type": "stream",
     "text": [
      "/home/seb/anaconda3/lib/python3.7/site-packages/sklearn/ensemble/forest.py:246: FutureWarning: The default value of n_estimators will change from 10 in version 0.20 to 100 in 0.22.\n",
      "  \"10 in version 0.20 to 100 in 0.22.\", FutureWarning)\n"
     ]
    },
    {
     "name": "stdout",
     "output_type": "stream",
     "text": [
<<<<<<< HEAD
      "accuracy: 0.46502057613168724\n",
      "predicted class counts: Counter({1: 142, 0: 79, -1: 22})\n",
      "Data spread:  Counter({'1': 497, '0': 318, '-1': 155})\n"
=======
      "accuracy: 0.42483660130718953\n",
      "predicted class counts: Counter({1: 227, 0: 55, -1: 24})\n",
      "Data spread:  Counter({'1': 604, '0': 395, '-1': 225})\n"
>>>>>>> f5732e50df470a54703b3c767973179f753873af
     ]
    },
    {
     "name": "stderr",
     "output_type": "stream",
     "text": [
      "/home/seb/anaconda3/lib/python3.7/site-packages/sklearn/ensemble/forest.py:246: FutureWarning: The default value of n_estimators will change from 10 in version 0.20 to 100 in 0.22.\n",
      "  \"10 in version 0.20 to 100 in 0.22.\", FutureWarning)\n"
     ]
    },
    {
     "name": "stdout",
     "output_type": "stream",
     "text": [
<<<<<<< HEAD
      "accuracy: 0.4444444444444444\n",
      "predicted class counts: Counter({1: 156, 0: 68, -1: 19})\n",
      "training 425 out of 500\n",
      "Data spread:  Counter({'1': 497, '0': 318, '-1': 155})\n"
=======
      "accuracy: 0.43137254901960786\n",
      "predicted class counts: Counter({1: 171, 0: 105, -1: 30})\n",
      "training 425 out of 500\n",
      "Data spread:  Counter({'1': 604, '0': 395, '-1': 225})\n"
>>>>>>> f5732e50df470a54703b3c767973179f753873af
     ]
    },
    {
     "name": "stderr",
     "output_type": "stream",
     "text": [
      "/home/seb/anaconda3/lib/python3.7/site-packages/sklearn/ensemble/forest.py:246: FutureWarning: The default value of n_estimators will change from 10 in version 0.20 to 100 in 0.22.\n",
      "  \"10 in version 0.20 to 100 in 0.22.\", FutureWarning)\n"
     ]
    },
    {
     "name": "stdout",
     "output_type": "stream",
     "text": [
<<<<<<< HEAD
      "accuracy: 0.4567901234567901\n",
      "predicted class counts: Counter({1: 165, 0: 65, -1: 13})\n",
      "Data spread:  Counter({'1': 497, '0': 318, '-1': 155})\n"
=======
      "accuracy: 0.39869281045751637\n",
      "predicted class counts: Counter({1: 215, 0: 68, -1: 23})\n",
      "Data spread:  Counter({'1': 604, '0': 395, '-1': 225})\n"
>>>>>>> f5732e50df470a54703b3c767973179f753873af
     ]
    },
    {
     "name": "stderr",
     "output_type": "stream",
     "text": [
      "/home/seb/anaconda3/lib/python3.7/site-packages/sklearn/ensemble/forest.py:246: FutureWarning: The default value of n_estimators will change from 10 in version 0.20 to 100 in 0.22.\n",
      "  \"10 in version 0.20 to 100 in 0.22.\", FutureWarning)\n"
     ]
    },
    {
     "name": "stdout",
     "output_type": "stream",
     "text": [
<<<<<<< HEAD
      "accuracy: 0.42386831275720166\n",
      "predicted class counts: Counter({1: 163, 0: 58, -1: 22})\n",
      "Data spread:  Counter({'1': 497, '0': 318, '-1': 155})\n"
=======
      "accuracy: 0.41830065359477125\n",
      "predicted class counts: Counter({1: 168, 0: 99, -1: 39})\n",
      "Data spread:  Counter({'1': 604, '0': 395, '-1': 225})\n"
>>>>>>> f5732e50df470a54703b3c767973179f753873af
     ]
    },
    {
     "name": "stderr",
     "output_type": "stream",
     "text": [
      "/home/seb/anaconda3/lib/python3.7/site-packages/sklearn/ensemble/forest.py:246: FutureWarning: The default value of n_estimators will change from 10 in version 0.20 to 100 in 0.22.\n",
      "  \"10 in version 0.20 to 100 in 0.22.\", FutureWarning)\n"
     ]
    },
    {
     "name": "stdout",
     "output_type": "stream",
     "text": [
<<<<<<< HEAD
      "accuracy: 0.448559670781893\n",
      "predicted class counts: Counter({1: 133, 0: 91, -1: 19})\n",
      "Data spread:  Counter({'1': 497, '0': 318, '-1': 155})\n"
=======
      "accuracy: 0.4215686274509804\n",
      "predicted class counts: Counter({1: 163, 0: 112, -1: 31})\n",
      "Data spread:  Counter({'1': 604, '0': 395, '-1': 225})\n"
>>>>>>> f5732e50df470a54703b3c767973179f753873af
     ]
    },
    {
     "name": "stderr",
     "output_type": "stream",
     "text": [
      "/home/seb/anaconda3/lib/python3.7/site-packages/sklearn/ensemble/forest.py:246: FutureWarning: The default value of n_estimators will change from 10 in version 0.20 to 100 in 0.22.\n",
      "  \"10 in version 0.20 to 100 in 0.22.\", FutureWarning)\n"
     ]
    },
    {
     "name": "stdout",
     "output_type": "stream",
     "text": [
<<<<<<< HEAD
      "accuracy: 0.4609053497942387\n",
      "predicted class counts: Counter({1: 176, 0: 60, -1: 7})\n",
      "Data spread:  Counter({'1': 497, '0': 318, '-1': 155})\n"
=======
      "accuracy: 0.42810457516339867\n",
      "predicted class counts: Counter({1: 201, 0: 75, -1: 30})\n",
      "Data spread:  Counter({'1': 604, '0': 395, '-1': 225})\n"
>>>>>>> f5732e50df470a54703b3c767973179f753873af
     ]
    },
    {
     "name": "stderr",
     "output_type": "stream",
     "text": [
      "/home/seb/anaconda3/lib/python3.7/site-packages/sklearn/ensemble/forest.py:246: FutureWarning: The default value of n_estimators will change from 10 in version 0.20 to 100 in 0.22.\n",
      "  \"10 in version 0.20 to 100 in 0.22.\", FutureWarning)\n"
     ]
    },
    {
     "name": "stdout",
     "output_type": "stream",
     "text": [
<<<<<<< HEAD
      "accuracy: 0.4403292181069959\n",
      "predicted class counts: Counter({1: 153, 0: 71, -1: 19})\n",
      "training 430 out of 500\n",
      "Data spread:  Counter({'1': 497, '0': 318, '-1': 155})\n"
=======
      "accuracy: 0.42810457516339867\n",
      "predicted class counts: Counter({1: 201, 0: 89, -1: 16})\n",
      "training 430 out of 500\n",
      "Data spread:  Counter({'1': 604, '0': 395, '-1': 225})\n"
>>>>>>> f5732e50df470a54703b3c767973179f753873af
     ]
    },
    {
     "name": "stderr",
     "output_type": "stream",
     "text": [
      "/home/seb/anaconda3/lib/python3.7/site-packages/sklearn/ensemble/forest.py:246: FutureWarning: The default value of n_estimators will change from 10 in version 0.20 to 100 in 0.22.\n",
      "  \"10 in version 0.20 to 100 in 0.22.\", FutureWarning)\n"
     ]
    },
    {
     "name": "stdout",
     "output_type": "stream",
     "text": [
<<<<<<< HEAD
      "accuracy: 0.43209876543209874\n",
      "predicted class counts: Counter({1: 146, 0: 79, -1: 18})\n",
      "Data spread:  Counter({'1': 497, '0': 318, '-1': 155})\n"
=======
      "accuracy: 0.40522875816993464\n",
      "predicted class counts: Counter({1: 199, 0: 75, -1: 32})\n",
      "Data spread:  Counter({'1': 604, '0': 395, '-1': 225})\n"
>>>>>>> f5732e50df470a54703b3c767973179f753873af
     ]
    },
    {
     "name": "stderr",
     "output_type": "stream",
     "text": [
      "/home/seb/anaconda3/lib/python3.7/site-packages/sklearn/ensemble/forest.py:246: FutureWarning: The default value of n_estimators will change from 10 in version 0.20 to 100 in 0.22.\n",
      "  \"10 in version 0.20 to 100 in 0.22.\", FutureWarning)\n"
     ]
    },
    {
     "name": "stdout",
     "output_type": "stream",
     "text": [
<<<<<<< HEAD
      "accuracy: 0.4403292181069959\n",
      "predicted class counts: Counter({1: 147, 0: 80, -1: 16})\n",
      "Data spread:  Counter({'1': 497, '0': 318, '-1': 155})\n"
=======
      "accuracy: 0.45751633986928103\n",
      "predicted class counts: Counter({1: 208, 0: 79, -1: 19})\n",
      "Data spread:  Counter({'1': 604, '0': 395, '-1': 225})\n"
>>>>>>> f5732e50df470a54703b3c767973179f753873af
     ]
    },
    {
     "name": "stderr",
     "output_type": "stream",
     "text": [
      "/home/seb/anaconda3/lib/python3.7/site-packages/sklearn/ensemble/forest.py:246: FutureWarning: The default value of n_estimators will change from 10 in version 0.20 to 100 in 0.22.\n",
      "  \"10 in version 0.20 to 100 in 0.22.\", FutureWarning)\n"
     ]
    },
    {
     "name": "stdout",
     "output_type": "stream",
     "text": [
<<<<<<< HEAD
      "accuracy: 0.46502057613168724\n",
      "predicted class counts: Counter({1: 162, 0: 62, -1: 19})\n",
      "Data spread:  Counter({'1': 497, '0': 318, '-1': 155})\n"
=======
      "accuracy: 0.4215686274509804\n",
      "predicted class counts: Counter({1: 199, 0: 93, -1: 14})\n",
      "Data spread:  Counter({'1': 604, '0': 395, '-1': 225})\n"
>>>>>>> f5732e50df470a54703b3c767973179f753873af
     ]
    },
    {
     "name": "stderr",
     "output_type": "stream",
     "text": [
      "/home/seb/anaconda3/lib/python3.7/site-packages/sklearn/ensemble/forest.py:246: FutureWarning: The default value of n_estimators will change from 10 in version 0.20 to 100 in 0.22.\n",
      "  \"10 in version 0.20 to 100 in 0.22.\", FutureWarning)\n"
     ]
    },
    {
     "name": "stdout",
     "output_type": "stream",
     "text": [
<<<<<<< HEAD
      "accuracy: 0.4691358024691358\n",
      "predicted class counts: Counter({1: 159, 0: 67, -1: 17})\n",
      "Data spread:  Counter({'1': 497, '0': 318, '-1': 155})\n"
=======
      "accuracy: 0.434640522875817\n",
      "predicted class counts: Counter({1: 208, 0: 76, -1: 22})\n",
      "Data spread:  Counter({'1': 604, '0': 395, '-1': 225})\n"
>>>>>>> f5732e50df470a54703b3c767973179f753873af
     ]
    },
    {
     "name": "stderr",
     "output_type": "stream",
     "text": [
      "/home/seb/anaconda3/lib/python3.7/site-packages/sklearn/ensemble/forest.py:246: FutureWarning: The default value of n_estimators will change from 10 in version 0.20 to 100 in 0.22.\n",
      "  \"10 in version 0.20 to 100 in 0.22.\", FutureWarning)\n"
     ]
    },
    {
     "name": "stdout",
     "output_type": "stream",
     "text": [
<<<<<<< HEAD
      "accuracy: 0.4609053497942387\n",
      "predicted class counts: Counter({1: 197, 0: 40, -1: 6})\n",
      "training 435 out of 500\n",
      "Data spread:  Counter({'1': 497, '0': 318, '-1': 155})\n"
=======
      "accuracy: 0.4444444444444444\n",
      "predicted class counts: Counter({1: 215, 0: 74, -1: 17})\n",
      "training 435 out of 500\n",
      "Data spread:  Counter({'1': 604, '0': 395, '-1': 225})\n"
>>>>>>> f5732e50df470a54703b3c767973179f753873af
     ]
    },
    {
     "name": "stderr",
     "output_type": "stream",
     "text": [
      "/home/seb/anaconda3/lib/python3.7/site-packages/sklearn/ensemble/forest.py:246: FutureWarning: The default value of n_estimators will change from 10 in version 0.20 to 100 in 0.22.\n",
      "  \"10 in version 0.20 to 100 in 0.22.\", FutureWarning)\n"
     ]
    },
    {
     "name": "stdout",
     "output_type": "stream",
     "text": [
<<<<<<< HEAD
      "accuracy: 0.41975308641975306\n",
      "predicted class counts: Counter({1: 161, 0: 70, -1: 12})\n",
      "Data spread:  Counter({'1': 497, '0': 318, '-1': 155})\n"
=======
      "accuracy: 0.42483660130718953\n",
      "predicted class counts: Counter({1: 223, 0: 57, -1: 26})\n",
      "Data spread:  Counter({'1': 604, '0': 395, '-1': 225})\n"
>>>>>>> f5732e50df470a54703b3c767973179f753873af
     ]
    },
    {
     "name": "stderr",
     "output_type": "stream",
     "text": [
      "/home/seb/anaconda3/lib/python3.7/site-packages/sklearn/ensemble/forest.py:246: FutureWarning: The default value of n_estimators will change from 10 in version 0.20 to 100 in 0.22.\n",
      "  \"10 in version 0.20 to 100 in 0.22.\", FutureWarning)\n"
     ]
    },
    {
     "name": "stdout",
     "output_type": "stream",
     "text": [
<<<<<<< HEAD
      "accuracy: 0.45267489711934156\n",
      "predicted class counts: Counter({1: 164, 0: 73, -1: 6})\n",
      "Data spread:  Counter({'1': 497, '0': 318, '-1': 155})\n"
=======
      "accuracy: 0.46405228758169936\n",
      "predicted class counts: Counter({1: 202, 0: 80, -1: 24})\n",
      "Data spread:  Counter({'1': 604, '0': 395, '-1': 225})\n"
>>>>>>> f5732e50df470a54703b3c767973179f753873af
     ]
    },
    {
     "name": "stderr",
     "output_type": "stream",
     "text": [
      "/home/seb/anaconda3/lib/python3.7/site-packages/sklearn/ensemble/forest.py:246: FutureWarning: The default value of n_estimators will change from 10 in version 0.20 to 100 in 0.22.\n",
      "  \"10 in version 0.20 to 100 in 0.22.\", FutureWarning)\n"
     ]
    },
    {
     "name": "stdout",
     "output_type": "stream",
     "text": [
<<<<<<< HEAD
      "accuracy: 0.45267489711934156\n",
      "predicted class counts: Counter({1: 154, 0: 73, -1: 16})\n",
      "Data spread:  Counter({'1': 497, '0': 318, '-1': 155})\n"
=======
      "accuracy: 0.42810457516339867\n",
      "predicted class counts: Counter({1: 174, 0: 100, -1: 32})\n",
      "Data spread:  Counter({'1': 604, '0': 395, '-1': 225})\n"
>>>>>>> f5732e50df470a54703b3c767973179f753873af
     ]
    },
    {
     "name": "stderr",
     "output_type": "stream",
     "text": [
      "/home/seb/anaconda3/lib/python3.7/site-packages/sklearn/ensemble/forest.py:246: FutureWarning: The default value of n_estimators will change from 10 in version 0.20 to 100 in 0.22.\n",
      "  \"10 in version 0.20 to 100 in 0.22.\", FutureWarning)\n"
     ]
    },
    {
     "name": "stdout",
     "output_type": "stream",
     "text": [
<<<<<<< HEAD
      "accuracy: 0.49794238683127573\n",
      "predicted class counts: Counter({1: 148, 0: 74, -1: 21})\n",
      "Data spread:  Counter({'1': 497, '0': 318, '-1': 155})\n"
=======
      "accuracy: 0.4673202614379085\n",
      "predicted class counts: Counter({1: 218, 0: 65, -1: 23})\n",
      "Data spread:  Counter({'1': 604, '0': 395, '-1': 225})\n"
>>>>>>> f5732e50df470a54703b3c767973179f753873af
     ]
    },
    {
     "name": "stderr",
     "output_type": "stream",
     "text": [
      "/home/seb/anaconda3/lib/python3.7/site-packages/sklearn/ensemble/forest.py:246: FutureWarning: The default value of n_estimators will change from 10 in version 0.20 to 100 in 0.22.\n",
      "  \"10 in version 0.20 to 100 in 0.22.\", FutureWarning)\n"
     ]
    },
    {
     "name": "stdout",
     "output_type": "stream",
     "text": [
<<<<<<< HEAD
      "accuracy: 0.51440329218107\n",
      "predicted class counts: Counter({1: 166, 0: 54, -1: 23})\n",
      "training 440 out of 500\n",
      "Data spread:  Counter({'1': 497, '0': 318, '-1': 155})\n"
=======
      "accuracy: 0.42483660130718953\n",
      "predicted class counts: Counter({1: 214, 0: 76, -1: 16})\n",
      "training 440 out of 500\n",
      "Data spread:  Counter({'1': 604, '0': 395, '-1': 225})\n"
>>>>>>> f5732e50df470a54703b3c767973179f753873af
     ]
    },
    {
     "name": "stderr",
     "output_type": "stream",
     "text": [
      "/home/seb/anaconda3/lib/python3.7/site-packages/sklearn/ensemble/forest.py:246: FutureWarning: The default value of n_estimators will change from 10 in version 0.20 to 100 in 0.22.\n",
      "  \"10 in version 0.20 to 100 in 0.22.\", FutureWarning)\n"
     ]
    },
    {
     "name": "stdout",
     "output_type": "stream",
     "text": [
<<<<<<< HEAD
      "accuracy: 0.48559670781893005\n",
      "predicted class counts: Counter({1: 163, 0: 62, -1: 18})\n",
      "Data spread:  Counter({'1': 497, '0': 318, '-1': 155})\n"
=======
      "accuracy: 0.45751633986928103\n",
      "predicted class counts: Counter({1: 195, 0: 82, -1: 29})\n",
      "Data spread:  Counter({'1': 604, '0': 395, '-1': 225})\n"
>>>>>>> f5732e50df470a54703b3c767973179f753873af
     ]
    },
    {
     "name": "stderr",
     "output_type": "stream",
     "text": [
      "/home/seb/anaconda3/lib/python3.7/site-packages/sklearn/ensemble/forest.py:246: FutureWarning: The default value of n_estimators will change from 10 in version 0.20 to 100 in 0.22.\n",
      "  \"10 in version 0.20 to 100 in 0.22.\", FutureWarning)\n"
     ]
    },
    {
     "name": "stdout",
     "output_type": "stream",
     "text": [
<<<<<<< HEAD
      "accuracy: 0.4403292181069959\n",
      "predicted class counts: Counter({1: 155, 0: 70, -1: 18})\n",
      "Data spread:  Counter({'1': 497, '0': 318, '-1': 155})\n"
=======
      "accuracy: 0.434640522875817\n",
      "predicted class counts: Counter({1: 226, 0: 54, -1: 26})\n",
      "Data spread:  Counter({'1': 604, '0': 395, '-1': 225})\n"
>>>>>>> f5732e50df470a54703b3c767973179f753873af
     ]
    },
    {
     "name": "stderr",
     "output_type": "stream",
     "text": [
      "/home/seb/anaconda3/lib/python3.7/site-packages/sklearn/ensemble/forest.py:246: FutureWarning: The default value of n_estimators will change from 10 in version 0.20 to 100 in 0.22.\n",
      "  \"10 in version 0.20 to 100 in 0.22.\", FutureWarning)\n"
     ]
    },
    {
     "name": "stdout",
     "output_type": "stream",
     "text": [
<<<<<<< HEAD
      "accuracy: 0.4609053497942387\n",
      "predicted class counts: Counter({1: 150, 0: 71, -1: 22})\n",
      "Data spread:  Counter({'1': 497, '0': 318, '-1': 155})\n"
=======
      "accuracy: 0.4411764705882353\n",
      "predicted class counts: Counter({1: 220, 0: 72, -1: 14})\n",
      "Data spread:  Counter({'1': 604, '0': 395, '-1': 225})\n"
>>>>>>> f5732e50df470a54703b3c767973179f753873af
     ]
    },
    {
     "name": "stderr",
     "output_type": "stream",
     "text": [
      "/home/seb/anaconda3/lib/python3.7/site-packages/sklearn/ensemble/forest.py:246: FutureWarning: The default value of n_estimators will change from 10 in version 0.20 to 100 in 0.22.\n",
      "  \"10 in version 0.20 to 100 in 0.22.\", FutureWarning)\n"
     ]
    },
    {
     "name": "stdout",
     "output_type": "stream",
     "text": [
<<<<<<< HEAD
      "accuracy: 0.4403292181069959\n",
      "predicted class counts: Counter({1: 145, 0: 82, -1: 16})\n",
      "Data spread:  Counter({'1': 497, '0': 318, '-1': 155})\n"
=======
      "accuracy: 0.43137254901960786\n",
      "predicted class counts: Counter({1: 200, 0: 77, -1: 29})\n",
      "Data spread:  Counter({'1': 604, '0': 395, '-1': 225})\n"
>>>>>>> f5732e50df470a54703b3c767973179f753873af
     ]
    },
    {
     "name": "stderr",
     "output_type": "stream",
     "text": [
      "/home/seb/anaconda3/lib/python3.7/site-packages/sklearn/ensemble/forest.py:246: FutureWarning: The default value of n_estimators will change from 10 in version 0.20 to 100 in 0.22.\n",
      "  \"10 in version 0.20 to 100 in 0.22.\", FutureWarning)\n"
     ]
    },
    {
     "name": "stdout",
     "output_type": "stream",
     "text": [
<<<<<<< HEAD
      "accuracy: 0.4773662551440329\n",
      "predicted class counts: Counter({1: 145, 0: 88, -1: 10})\n",
      "training 445 out of 500\n",
      "Data spread:  Counter({'1': 497, '0': 318, '-1': 155})\n"
=======
      "accuracy: 0.41830065359477125\n",
      "predicted class counts: Counter({1: 196, 0: 86, -1: 24})\n",
      "training 445 out of 500\n",
      "Data spread:  Counter({'1': 604, '0': 395, '-1': 225})\n"
>>>>>>> f5732e50df470a54703b3c767973179f753873af
     ]
    },
    {
     "name": "stderr",
     "output_type": "stream",
     "text": [
      "/home/seb/anaconda3/lib/python3.7/site-packages/sklearn/ensemble/forest.py:246: FutureWarning: The default value of n_estimators will change from 10 in version 0.20 to 100 in 0.22.\n",
      "  \"10 in version 0.20 to 100 in 0.22.\", FutureWarning)\n"
     ]
    },
    {
     "name": "stdout",
     "output_type": "stream",
     "text": [
<<<<<<< HEAD
      "accuracy: 0.41975308641975306\n",
      "predicted class counts: Counter({1: 159, 0: 70, -1: 14})\n",
      "Data spread:  Counter({'1': 497, '0': 318, '-1': 155})\n"
=======
      "accuracy: 0.4542483660130719\n",
      "predicted class counts: Counter({1: 163, 0: 108, -1: 35})\n",
      "Data spread:  Counter({'1': 604, '0': 395, '-1': 225})\n"
>>>>>>> f5732e50df470a54703b3c767973179f753873af
     ]
    },
    {
     "name": "stderr",
     "output_type": "stream",
     "text": [
      "/home/seb/anaconda3/lib/python3.7/site-packages/sklearn/ensemble/forest.py:246: FutureWarning: The default value of n_estimators will change from 10 in version 0.20 to 100 in 0.22.\n",
      "  \"10 in version 0.20 to 100 in 0.22.\", FutureWarning)\n"
     ]
    },
    {
     "name": "stdout",
     "output_type": "stream",
     "text": [
<<<<<<< HEAD
      "accuracy: 0.4691358024691358\n",
      "predicted class counts: Counter({1: 157, 0: 57, -1: 29})\n",
      "Data spread:  Counter({'1': 497, '0': 318, '-1': 155})\n"
=======
      "accuracy: 0.45098039215686275\n",
      "predicted class counts: Counter({1: 172, 0: 104, -1: 30})\n",
      "Data spread:  Counter({'1': 604, '0': 395, '-1': 225})\n"
>>>>>>> f5732e50df470a54703b3c767973179f753873af
     ]
    },
    {
     "name": "stderr",
     "output_type": "stream",
     "text": [
      "/home/seb/anaconda3/lib/python3.7/site-packages/sklearn/ensemble/forest.py:246: FutureWarning: The default value of n_estimators will change from 10 in version 0.20 to 100 in 0.22.\n",
      "  \"10 in version 0.20 to 100 in 0.22.\", FutureWarning)\n"
     ]
    },
    {
     "name": "stdout",
     "output_type": "stream",
     "text": [
<<<<<<< HEAD
      "accuracy: 0.3991769547325103\n",
      "predicted class counts: Counter({1: 151, 0: 82, -1: 10})\n",
      "Data spread:  Counter({'1': 497, '0': 318, '-1': 155})\n"
=======
      "accuracy: 0.43137254901960786\n",
      "predicted class counts: Counter({1: 173, 0: 93, -1: 40})\n",
      "Data spread:  Counter({'1': 604, '0': 395, '-1': 225})\n"
>>>>>>> f5732e50df470a54703b3c767973179f753873af
     ]
    },
    {
     "name": "stderr",
     "output_type": "stream",
     "text": [
      "/home/seb/anaconda3/lib/python3.7/site-packages/sklearn/ensemble/forest.py:246: FutureWarning: The default value of n_estimators will change from 10 in version 0.20 to 100 in 0.22.\n",
      "  \"10 in version 0.20 to 100 in 0.22.\", FutureWarning)\n"
     ]
    },
    {
     "name": "stdout",
     "output_type": "stream",
     "text": [
<<<<<<< HEAD
      "accuracy: 0.4444444444444444\n",
      "predicted class counts: Counter({1: 190, 0: 45, -1: 8})\n",
      "Data spread:  Counter({'1': 497, '0': 318, '-1': 155})\n"
=======
      "accuracy: 0.4019607843137255\n",
      "predicted class counts: Counter({1: 224, 0: 53, -1: 29})\n",
      "Data spread:  Counter({'1': 604, '0': 395, '-1': 225})\n"
>>>>>>> f5732e50df470a54703b3c767973179f753873af
     ]
    },
    {
     "name": "stderr",
     "output_type": "stream",
     "text": [
      "/home/seb/anaconda3/lib/python3.7/site-packages/sklearn/ensemble/forest.py:246: FutureWarning: The default value of n_estimators will change from 10 in version 0.20 to 100 in 0.22.\n",
      "  \"10 in version 0.20 to 100 in 0.22.\", FutureWarning)\n"
     ]
    },
    {
     "name": "stdout",
     "output_type": "stream",
     "text": [
<<<<<<< HEAD
      "accuracy: 0.48148148148148145\n",
      "predicted class counts: Counter({1: 150, 0: 83, -1: 10})\n",
      "training 450 out of 500\n",
      "Data spread:  Counter({'1': 497, '0': 318, '-1': 155})\n"
=======
      "accuracy: 0.41830065359477125\n",
      "predicted class counts: Counter({1: 196, 0: 76, -1: 34})\n",
      "training 450 out of 500\n",
      "Data spread:  Counter({'1': 604, '0': 395, '-1': 225})\n"
>>>>>>> f5732e50df470a54703b3c767973179f753873af
     ]
    },
    {
     "name": "stderr",
     "output_type": "stream",
     "text": [
      "/home/seb/anaconda3/lib/python3.7/site-packages/sklearn/ensemble/forest.py:246: FutureWarning: The default value of n_estimators will change from 10 in version 0.20 to 100 in 0.22.\n",
      "  \"10 in version 0.20 to 100 in 0.22.\", FutureWarning)\n"
     ]
    },
    {
     "name": "stdout",
     "output_type": "stream",
     "text": [
<<<<<<< HEAD
      "accuracy: 0.43209876543209874\n",
      "predicted class counts: Counter({1: 150, 0: 79, -1: 14})\n",
      "Data spread:  Counter({'1': 497, '0': 318, '-1': 155})\n"
=======
      "accuracy: 0.4869281045751634\n",
      "predicted class counts: Counter({1: 167, 0: 110, -1: 29})\n",
      "Data spread:  Counter({'1': 604, '0': 395, '-1': 225})\n"
>>>>>>> f5732e50df470a54703b3c767973179f753873af
     ]
    },
    {
     "name": "stderr",
     "output_type": "stream",
     "text": [
      "/home/seb/anaconda3/lib/python3.7/site-packages/sklearn/ensemble/forest.py:246: FutureWarning: The default value of n_estimators will change from 10 in version 0.20 to 100 in 0.22.\n",
      "  \"10 in version 0.20 to 100 in 0.22.\", FutureWarning)\n"
     ]
    },
    {
     "name": "stdout",
     "output_type": "stream",
     "text": [
<<<<<<< HEAD
      "accuracy: 0.448559670781893\n",
      "predicted class counts: Counter({1: 165, 0: 66, -1: 12})\n",
      "Data spread:  Counter({'1': 497, '0': 318, '-1': 155})\n"
=======
      "accuracy: 0.434640522875817\n",
      "predicted class counts: Counter({1: 200, 0: 75, -1: 31})\n",
      "Data spread:  Counter({'1': 604, '0': 395, '-1': 225})\n"
>>>>>>> f5732e50df470a54703b3c767973179f753873af
     ]
    },
    {
     "name": "stderr",
     "output_type": "stream",
     "text": [
      "/home/seb/anaconda3/lib/python3.7/site-packages/sklearn/ensemble/forest.py:246: FutureWarning: The default value of n_estimators will change from 10 in version 0.20 to 100 in 0.22.\n",
      "  \"10 in version 0.20 to 100 in 0.22.\", FutureWarning)\n"
     ]
    },
    {
     "name": "stdout",
     "output_type": "stream",
     "text": [
<<<<<<< HEAD
      "accuracy: 0.4609053497942387\n",
      "predicted class counts: Counter({1: 122, 0: 104, -1: 17})\n",
      "Data spread:  Counter({'1': 497, '0': 318, '-1': 155})\n"
=======
      "accuracy: 0.4411764705882353\n",
      "predicted class counts: Counter({1: 186, 0: 96, -1: 24})\n",
      "Data spread:  Counter({'1': 604, '0': 395, '-1': 225})\n"
>>>>>>> f5732e50df470a54703b3c767973179f753873af
     ]
    },
    {
     "name": "stderr",
     "output_type": "stream",
     "text": [
      "/home/seb/anaconda3/lib/python3.7/site-packages/sklearn/ensemble/forest.py:246: FutureWarning: The default value of n_estimators will change from 10 in version 0.20 to 100 in 0.22.\n",
      "  \"10 in version 0.20 to 100 in 0.22.\", FutureWarning)\n"
     ]
    },
    {
     "name": "stdout",
     "output_type": "stream",
     "text": [
<<<<<<< HEAD
      "accuracy: 0.4279835390946502\n",
      "predicted class counts: Counter({1: 125, 0: 95, -1: 23})\n",
      "Data spread:  Counter({'1': 497, '0': 318, '-1': 155})\n"
=======
      "accuracy: 0.41830065359477125\n",
      "predicted class counts: Counter({1: 174, 0: 104, -1: 28})\n",
      "Data spread:  Counter({'1': 604, '0': 395, '-1': 225})\n"
>>>>>>> f5732e50df470a54703b3c767973179f753873af
     ]
    },
    {
     "name": "stderr",
     "output_type": "stream",
     "text": [
      "/home/seb/anaconda3/lib/python3.7/site-packages/sklearn/ensemble/forest.py:246: FutureWarning: The default value of n_estimators will change from 10 in version 0.20 to 100 in 0.22.\n",
      "  \"10 in version 0.20 to 100 in 0.22.\", FutureWarning)\n"
     ]
    },
    {
     "name": "stdout",
     "output_type": "stream",
     "text": [
<<<<<<< HEAD
      "accuracy: 0.411522633744856\n",
      "predicted class counts: Counter({1: 159, 0: 71, -1: 13})\n",
      "training 455 out of 500\n",
      "Data spread:  Counter({'1': 497, '0': 318, '-1': 155})\n"
=======
      "accuracy: 0.4019607843137255\n",
      "predicted class counts: Counter({1: 191, 0: 93, -1: 22})\n",
      "training 455 out of 500\n",
      "Data spread:  Counter({'1': 604, '0': 395, '-1': 225})\n"
>>>>>>> f5732e50df470a54703b3c767973179f753873af
     ]
    },
    {
     "name": "stderr",
     "output_type": "stream",
     "text": [
      "/home/seb/anaconda3/lib/python3.7/site-packages/sklearn/ensemble/forest.py:246: FutureWarning: The default value of n_estimators will change from 10 in version 0.20 to 100 in 0.22.\n",
      "  \"10 in version 0.20 to 100 in 0.22.\", FutureWarning)\n"
     ]
    },
    {
     "name": "stdout",
     "output_type": "stream",
     "text": [
<<<<<<< HEAD
      "accuracy: 0.4609053497942387\n",
      "predicted class counts: Counter({1: 160, 0: 71, -1: 12})\n",
      "Data spread:  Counter({'1': 497, '0': 318, '-1': 155})\n"
=======
      "accuracy: 0.4673202614379085\n",
      "predicted class counts: Counter({1: 209, 0: 71, -1: 26})\n",
      "Data spread:  Counter({'1': 604, '0': 395, '-1': 225})\n"
>>>>>>> f5732e50df470a54703b3c767973179f753873af
     ]
    },
    {
     "name": "stderr",
     "output_type": "stream",
     "text": [
      "/home/seb/anaconda3/lib/python3.7/site-packages/sklearn/ensemble/forest.py:246: FutureWarning: The default value of n_estimators will change from 10 in version 0.20 to 100 in 0.22.\n",
      "  \"10 in version 0.20 to 100 in 0.22.\", FutureWarning)\n"
     ]
    },
    {
     "name": "stdout",
     "output_type": "stream",
     "text": [
<<<<<<< HEAD
      "accuracy: 0.448559670781893\n",
      "predicted class counts: Counter({1: 142, 0: 89, -1: 12})\n",
      "Data spread:  Counter({'1': 497, '0': 318, '-1': 155})\n"
=======
      "accuracy: 0.46078431372549017\n",
      "predicted class counts: Counter({1: 174, 0: 97, -1: 35})\n",
      "Data spread:  Counter({'1': 604, '0': 395, '-1': 225})\n"
>>>>>>> f5732e50df470a54703b3c767973179f753873af
     ]
    },
    {
     "name": "stderr",
     "output_type": "stream",
     "text": [
      "/home/seb/anaconda3/lib/python3.7/site-packages/sklearn/ensemble/forest.py:246: FutureWarning: The default value of n_estimators will change from 10 in version 0.20 to 100 in 0.22.\n",
      "  \"10 in version 0.20 to 100 in 0.22.\", FutureWarning)\n"
     ]
    },
    {
     "name": "stdout",
     "output_type": "stream",
     "text": [
<<<<<<< HEAD
      "accuracy: 0.42386831275720166\n",
      "predicted class counts: Counter({1: 176, 0: 47, -1: 20})\n",
      "Data spread:  Counter({'1': 497, '0': 318, '-1': 155})\n"
=======
      "accuracy: 0.46405228758169936\n",
      "predicted class counts: Counter({1: 171, 0: 103, -1: 32})\n",
      "Data spread:  Counter({'1': 604, '0': 395, '-1': 225})\n"
>>>>>>> f5732e50df470a54703b3c767973179f753873af
     ]
    },
    {
     "name": "stderr",
     "output_type": "stream",
     "text": [
      "/home/seb/anaconda3/lib/python3.7/site-packages/sklearn/ensemble/forest.py:246: FutureWarning: The default value of n_estimators will change from 10 in version 0.20 to 100 in 0.22.\n",
      "  \"10 in version 0.20 to 100 in 0.22.\", FutureWarning)\n"
     ]
    },
    {
     "name": "stdout",
     "output_type": "stream",
     "text": [
<<<<<<< HEAD
      "accuracy: 0.4567901234567901\n",
      "predicted class counts: Counter({1: 151, 0: 70, -1: 22})\n",
      "Data spread:  Counter({'1': 497, '0': 318, '-1': 155})\n"
=======
      "accuracy: 0.45098039215686275\n",
      "predicted class counts: Counter({1: 178, 0: 105, -1: 23})\n",
      "Data spread:  Counter({'1': 604, '0': 395, '-1': 225})\n"
>>>>>>> f5732e50df470a54703b3c767973179f753873af
     ]
    },
    {
     "name": "stderr",
     "output_type": "stream",
     "text": [
      "/home/seb/anaconda3/lib/python3.7/site-packages/sklearn/ensemble/forest.py:246: FutureWarning: The default value of n_estimators will change from 10 in version 0.20 to 100 in 0.22.\n",
      "  \"10 in version 0.20 to 100 in 0.22.\", FutureWarning)\n"
     ]
    },
    {
     "name": "stdout",
     "output_type": "stream",
     "text": [
<<<<<<< HEAD
      "accuracy: 0.411522633744856\n",
      "predicted class counts: Counter({1: 156, 0: 63, -1: 24})\n",
      "training 460 out of 500\n",
      "Data spread:  Counter({'1': 497, '0': 318, '-1': 155})\n"
=======
      "accuracy: 0.41830065359477125\n",
      "predicted class counts: Counter({1: 203, 0: 68, -1: 35})\n",
      "training 460 out of 500\n",
      "Data spread:  Counter({'1': 604, '0': 395, '-1': 225})\n"
>>>>>>> f5732e50df470a54703b3c767973179f753873af
     ]
    },
    {
     "name": "stderr",
     "output_type": "stream",
     "text": [
      "/home/seb/anaconda3/lib/python3.7/site-packages/sklearn/ensemble/forest.py:246: FutureWarning: The default value of n_estimators will change from 10 in version 0.20 to 100 in 0.22.\n",
      "  \"10 in version 0.20 to 100 in 0.22.\", FutureWarning)\n"
     ]
    },
    {
     "name": "stdout",
     "output_type": "stream",
     "text": [
<<<<<<< HEAD
      "accuracy: 0.4609053497942387\n",
      "predicted class counts: Counter({1: 162, 0: 67, -1: 14})\n",
      "Data spread:  Counter({'1': 497, '0': 318, '-1': 155})\n"
=======
      "accuracy: 0.434640522875817\n",
      "predicted class counts: Counter({1: 200, 0: 91, -1: 15})\n",
      "Data spread:  Counter({'1': 604, '0': 395, '-1': 225})\n"
>>>>>>> f5732e50df470a54703b3c767973179f753873af
     ]
    },
    {
     "name": "stderr",
     "output_type": "stream",
     "text": [
      "/home/seb/anaconda3/lib/python3.7/site-packages/sklearn/ensemble/forest.py:246: FutureWarning: The default value of n_estimators will change from 10 in version 0.20 to 100 in 0.22.\n",
      "  \"10 in version 0.20 to 100 in 0.22.\", FutureWarning)\n"
     ]
    },
    {
     "name": "stdout",
     "output_type": "stream",
     "text": [
<<<<<<< HEAD
      "accuracy: 0.4609053497942387\n",
      "predicted class counts: Counter({1: 146, 0: 81, -1: 16})\n",
      "Data spread:  Counter({'1': 497, '0': 318, '-1': 155})\n"
=======
      "accuracy: 0.47058823529411764\n",
      "predicted class counts: Counter({1: 210, 0: 75, -1: 21})\n",
      "Data spread:  Counter({'1': 604, '0': 395, '-1': 225})\n"
>>>>>>> f5732e50df470a54703b3c767973179f753873af
     ]
    },
    {
     "name": "stderr",
     "output_type": "stream",
     "text": [
      "/home/seb/anaconda3/lib/python3.7/site-packages/sklearn/ensemble/forest.py:246: FutureWarning: The default value of n_estimators will change from 10 in version 0.20 to 100 in 0.22.\n",
      "  \"10 in version 0.20 to 100 in 0.22.\", FutureWarning)\n"
     ]
    },
    {
     "name": "stdout",
     "output_type": "stream",
     "text": [
<<<<<<< HEAD
      "accuracy: 0.40329218106995884\n",
      "predicted class counts: Counter({1: 160, 0: 65, -1: 18})\n",
      "Data spread:  Counter({'1': 497, '0': 318, '-1': 155})\n"
=======
      "accuracy: 0.47058823529411764\n",
      "predicted class counts: Counter({1: 221, 0: 59, -1: 26})\n",
      "Data spread:  Counter({'1': 604, '0': 395, '-1': 225})\n"
>>>>>>> f5732e50df470a54703b3c767973179f753873af
     ]
    },
    {
     "name": "stderr",
     "output_type": "stream",
     "text": [
      "/home/seb/anaconda3/lib/python3.7/site-packages/sklearn/ensemble/forest.py:246: FutureWarning: The default value of n_estimators will change from 10 in version 0.20 to 100 in 0.22.\n",
      "  \"10 in version 0.20 to 100 in 0.22.\", FutureWarning)\n"
     ]
    },
    {
     "name": "stdout",
     "output_type": "stream",
     "text": [
<<<<<<< HEAD
      "accuracy: 0.40329218106995884\n",
      "predicted class counts: Counter({1: 127, 0: 93, -1: 23})\n",
      "Data spread:  Counter({'1': 497, '0': 318, '-1': 155})\n"
=======
      "accuracy: 0.47058823529411764\n",
      "predicted class counts: Counter({1: 193, 0: 85, -1: 28})\n",
      "Data spread:  Counter({'1': 604, '0': 395, '-1': 225})\n"
>>>>>>> f5732e50df470a54703b3c767973179f753873af
     ]
    },
    {
     "name": "stderr",
     "output_type": "stream",
     "text": [
      "/home/seb/anaconda3/lib/python3.7/site-packages/sklearn/ensemble/forest.py:246: FutureWarning: The default value of n_estimators will change from 10 in version 0.20 to 100 in 0.22.\n",
      "  \"10 in version 0.20 to 100 in 0.22.\", FutureWarning)\n"
     ]
    },
    {
     "name": "stdout",
     "output_type": "stream",
     "text": [
<<<<<<< HEAD
      "accuracy: 0.4403292181069959\n",
      "predicted class counts: Counter({1: 162, 0: 70, -1: 11})\n",
      "training 465 out of 500\n",
      "Data spread:  Counter({'1': 497, '0': 318, '-1': 155})\n"
=======
      "accuracy: 0.4084967320261438\n",
      "predicted class counts: Counter({1: 190, 0: 87, -1: 29})\n",
      "training 465 out of 500\n",
      "Data spread:  Counter({'1': 604, '0': 395, '-1': 225})\n"
>>>>>>> f5732e50df470a54703b3c767973179f753873af
     ]
    },
    {
     "name": "stderr",
     "output_type": "stream",
     "text": [
      "/home/seb/anaconda3/lib/python3.7/site-packages/sklearn/ensemble/forest.py:246: FutureWarning: The default value of n_estimators will change from 10 in version 0.20 to 100 in 0.22.\n",
      "  \"10 in version 0.20 to 100 in 0.22.\", FutureWarning)\n"
     ]
    },
    {
     "name": "stdout",
     "output_type": "stream",
     "text": [
<<<<<<< HEAD
      "accuracy: 0.411522633744856\n",
      "predicted class counts: Counter({1: 158, 0: 58, -1: 27})\n",
      "Data spread:  Counter({'1': 497, '0': 318, '-1': 155})\n"
=======
      "accuracy: 0.42810457516339867\n",
      "predicted class counts: Counter({1: 200, 0: 82, -1: 24})\n",
      "Data spread:  Counter({'1': 604, '0': 395, '-1': 225})\n"
>>>>>>> f5732e50df470a54703b3c767973179f753873af
     ]
    },
    {
     "name": "stderr",
     "output_type": "stream",
     "text": [
      "/home/seb/anaconda3/lib/python3.7/site-packages/sklearn/ensemble/forest.py:246: FutureWarning: The default value of n_estimators will change from 10 in version 0.20 to 100 in 0.22.\n",
      "  \"10 in version 0.20 to 100 in 0.22.\", FutureWarning)\n"
     ]
    },
    {
     "name": "stdout",
     "output_type": "stream",
     "text": [
<<<<<<< HEAD
      "accuracy: 0.43209876543209874\n",
      "predicted class counts: Counter({1: 152, 0: 77, -1: 14})\n",
      "Data spread:  Counter({'1': 497, '0': 318, '-1': 155})\n"
=======
      "accuracy: 0.42483660130718953\n",
      "predicted class counts: Counter({1: 206, 0: 80, -1: 20})\n",
      "Data spread:  Counter({'1': 604, '0': 395, '-1': 225})\n"
>>>>>>> f5732e50df470a54703b3c767973179f753873af
     ]
    },
    {
     "name": "stderr",
     "output_type": "stream",
     "text": [
      "/home/seb/anaconda3/lib/python3.7/site-packages/sklearn/ensemble/forest.py:246: FutureWarning: The default value of n_estimators will change from 10 in version 0.20 to 100 in 0.22.\n",
      "  \"10 in version 0.20 to 100 in 0.22.\", FutureWarning)\n"
     ]
    },
    {
     "name": "stdout",
     "output_type": "stream",
     "text": [
<<<<<<< HEAD
      "accuracy: 0.448559670781893\n",
      "predicted class counts: Counter({1: 156, 0: 64, -1: 23})\n",
      "Data spread:  Counter({'1': 497, '0': 318, '-1': 155})\n"
=======
      "accuracy: 0.4477124183006536\n",
      "predicted class counts: Counter({1: 214, 0: 60, -1: 32})\n",
      "Data spread:  Counter({'1': 604, '0': 395, '-1': 225})\n"
>>>>>>> f5732e50df470a54703b3c767973179f753873af
     ]
    },
    {
     "name": "stderr",
     "output_type": "stream",
     "text": [
      "/home/seb/anaconda3/lib/python3.7/site-packages/sklearn/ensemble/forest.py:246: FutureWarning: The default value of n_estimators will change from 10 in version 0.20 to 100 in 0.22.\n",
      "  \"10 in version 0.20 to 100 in 0.22.\", FutureWarning)\n"
     ]
    },
    {
     "name": "stdout",
     "output_type": "stream",
     "text": [
<<<<<<< HEAD
      "accuracy: 0.4444444444444444\n",
      "predicted class counts: Counter({1: 175, 0: 50, -1: 18})\n",
      "Data spread:  Counter({'1': 497, '0': 318, '-1': 155})\n"
=======
      "accuracy: 0.45751633986928103\n",
      "predicted class counts: Counter({1: 246, 0: 36, -1: 24})\n",
      "Data spread:  Counter({'1': 604, '0': 395, '-1': 225})\n"
>>>>>>> f5732e50df470a54703b3c767973179f753873af
     ]
    },
    {
     "name": "stderr",
     "output_type": "stream",
     "text": [
      "/home/seb/anaconda3/lib/python3.7/site-packages/sklearn/ensemble/forest.py:246: FutureWarning: The default value of n_estimators will change from 10 in version 0.20 to 100 in 0.22.\n",
      "  \"10 in version 0.20 to 100 in 0.22.\", FutureWarning)\n"
     ]
    },
    {
     "name": "stdout",
     "output_type": "stream",
     "text": [
<<<<<<< HEAD
      "accuracy: 0.4279835390946502\n",
      "predicted class counts: Counter({1: 161, 0: 70, -1: 12})\n",
      "training 470 out of 500\n",
      "Data spread:  Counter({'1': 497, '0': 318, '-1': 155})\n"
=======
      "accuracy: 0.42810457516339867\n",
      "predicted class counts: Counter({1: 204, 0: 73, -1: 29})\n",
      "training 470 out of 500\n",
      "Data spread:  Counter({'1': 604, '0': 395, '-1': 225})\n"
>>>>>>> f5732e50df470a54703b3c767973179f753873af
     ]
    },
    {
     "name": "stderr",
     "output_type": "stream",
     "text": [
      "/home/seb/anaconda3/lib/python3.7/site-packages/sklearn/ensemble/forest.py:246: FutureWarning: The default value of n_estimators will change from 10 in version 0.20 to 100 in 0.22.\n",
      "  \"10 in version 0.20 to 100 in 0.22.\", FutureWarning)\n"
     ]
    },
    {
     "name": "stdout",
     "output_type": "stream",
     "text": [
<<<<<<< HEAD
      "accuracy: 0.4732510288065844\n",
      "predicted class counts: Counter({1: 147, 0: 82, -1: 14})\n",
      "Data spread:  Counter({'1': 497, '0': 318, '-1': 155})\n"
=======
      "accuracy: 0.4444444444444444\n",
      "predicted class counts: Counter({1: 188, 0: 87, -1: 31})\n",
      "Data spread:  Counter({'1': 604, '0': 395, '-1': 225})\n"
>>>>>>> f5732e50df470a54703b3c767973179f753873af
     ]
    },
    {
     "name": "stderr",
     "output_type": "stream",
     "text": [
      "/home/seb/anaconda3/lib/python3.7/site-packages/sklearn/ensemble/forest.py:246: FutureWarning: The default value of n_estimators will change from 10 in version 0.20 to 100 in 0.22.\n",
      "  \"10 in version 0.20 to 100 in 0.22.\", FutureWarning)\n"
     ]
    },
    {
     "name": "stdout",
     "output_type": "stream",
     "text": [
<<<<<<< HEAD
      "accuracy: 0.4279835390946502\n",
      "predicted class counts: Counter({1: 169, 0: 54, -1: 20})\n",
      "Data spread:  Counter({'1': 497, '0': 318, '-1': 155})\n"
=======
      "accuracy: 0.3790849673202614\n",
      "predicted class counts: Counter({1: 169, 0: 98, -1: 39})\n",
      "Data spread:  Counter({'1': 604, '0': 395, '-1': 225})\n"
>>>>>>> f5732e50df470a54703b3c767973179f753873af
     ]
    },
    {
     "name": "stderr",
     "output_type": "stream",
     "text": [
      "/home/seb/anaconda3/lib/python3.7/site-packages/sklearn/ensemble/forest.py:246: FutureWarning: The default value of n_estimators will change from 10 in version 0.20 to 100 in 0.22.\n",
      "  \"10 in version 0.20 to 100 in 0.22.\", FutureWarning)\n"
     ]
    },
    {
     "name": "stdout",
     "output_type": "stream",
     "text": [
<<<<<<< HEAD
      "accuracy: 0.4279835390946502\n",
      "predicted class counts: Counter({1: 134, 0: 89, -1: 20})\n",
      "Data spread:  Counter({'1': 497, '0': 318, '-1': 155})\n"
=======
      "accuracy: 0.42810457516339867\n",
      "predicted class counts: Counter({1: 203, 0: 62, -1: 41})\n",
      "Data spread:  Counter({'1': 604, '0': 395, '-1': 225})\n"
>>>>>>> f5732e50df470a54703b3c767973179f753873af
     ]
    },
    {
     "name": "stderr",
     "output_type": "stream",
     "text": [
      "/home/seb/anaconda3/lib/python3.7/site-packages/sklearn/ensemble/forest.py:246: FutureWarning: The default value of n_estimators will change from 10 in version 0.20 to 100 in 0.22.\n",
      "  \"10 in version 0.20 to 100 in 0.22.\", FutureWarning)\n"
     ]
    },
    {
     "name": "stdout",
     "output_type": "stream",
     "text": [
<<<<<<< HEAD
      "accuracy: 0.448559670781893\n",
      "predicted class counts: Counter({1: 156, 0: 73, -1: 14})\n",
      "Data spread:  Counter({'1': 497, '0': 318, '-1': 155})\n"
=======
      "accuracy: 0.4411764705882353\n",
      "predicted class counts: Counter({1: 201, 0: 84, -1: 21})\n",
      "Data spread:  Counter({'1': 604, '0': 395, '-1': 225})\n"
>>>>>>> f5732e50df470a54703b3c767973179f753873af
     ]
    },
    {
     "name": "stderr",
     "output_type": "stream",
     "text": [
      "/home/seb/anaconda3/lib/python3.7/site-packages/sklearn/ensemble/forest.py:246: FutureWarning: The default value of n_estimators will change from 10 in version 0.20 to 100 in 0.22.\n",
      "  \"10 in version 0.20 to 100 in 0.22.\", FutureWarning)\n"
     ]
    },
    {
     "name": "stdout",
     "output_type": "stream",
     "text": [
<<<<<<< HEAD
      "accuracy: 0.43621399176954734\n",
      "predicted class counts: Counter({1: 119, 0: 104, -1: 20})\n",
      "training 475 out of 500\n",
      "Data spread:  Counter({'1': 497, '0': 318, '-1': 155})\n"
=======
      "accuracy: 0.45751633986928103\n",
      "predicted class counts: Counter({1: 202, 0: 82, -1: 22})\n",
      "training 475 out of 500\n",
      "Data spread:  Counter({'1': 604, '0': 395, '-1': 225})\n"
>>>>>>> f5732e50df470a54703b3c767973179f753873af
     ]
    },
    {
     "name": "stderr",
     "output_type": "stream",
     "text": [
      "/home/seb/anaconda3/lib/python3.7/site-packages/sklearn/ensemble/forest.py:246: FutureWarning: The default value of n_estimators will change from 10 in version 0.20 to 100 in 0.22.\n",
      "  \"10 in version 0.20 to 100 in 0.22.\", FutureWarning)\n"
     ]
    },
    {
     "name": "stdout",
     "output_type": "stream",
     "text": [
<<<<<<< HEAD
      "accuracy: 0.48148148148148145\n",
      "predicted class counts: Counter({1: 158, 0: 69, -1: 16})\n",
      "Data spread:  Counter({'1': 497, '0': 318, '-1': 155})\n"
=======
      "accuracy: 0.42483660130718953\n",
      "predicted class counts: Counter({1: 197, 0: 69, -1: 40})\n",
      "Data spread:  Counter({'1': 604, '0': 395, '-1': 225})\n"
>>>>>>> f5732e50df470a54703b3c767973179f753873af
     ]
    },
    {
     "name": "stderr",
     "output_type": "stream",
     "text": [
      "/home/seb/anaconda3/lib/python3.7/site-packages/sklearn/ensemble/forest.py:246: FutureWarning: The default value of n_estimators will change from 10 in version 0.20 to 100 in 0.22.\n",
      "  \"10 in version 0.20 to 100 in 0.22.\", FutureWarning)\n"
     ]
    },
    {
     "name": "stdout",
     "output_type": "stream",
     "text": [
<<<<<<< HEAD
      "accuracy: 0.43209876543209874\n",
      "predicted class counts: Counter({1: 152, 0: 69, -1: 22})\n",
      "Data spread:  Counter({'1': 497, '0': 318, '-1': 155})\n"
=======
      "accuracy: 0.4019607843137255\n",
      "predicted class counts: Counter({1: 176, 0: 95, -1: 35})\n",
      "Data spread:  Counter({'1': 604, '0': 395, '-1': 225})\n"
>>>>>>> f5732e50df470a54703b3c767973179f753873af
     ]
    },
    {
     "name": "stderr",
     "output_type": "stream",
     "text": [
      "/home/seb/anaconda3/lib/python3.7/site-packages/sklearn/ensemble/forest.py:246: FutureWarning: The default value of n_estimators will change from 10 in version 0.20 to 100 in 0.22.\n",
      "  \"10 in version 0.20 to 100 in 0.22.\", FutureWarning)\n"
     ]
    },
    {
     "name": "stdout",
     "output_type": "stream",
     "text": [
<<<<<<< HEAD
      "accuracy: 0.4567901234567901\n",
      "predicted class counts: Counter({1: 163, 0: 61, -1: 19})\n",
      "Data spread:  Counter({'1': 497, '0': 318, '-1': 155})\n"
=======
      "accuracy: 0.4215686274509804\n",
      "predicted class counts: Counter({1: 194, 0: 90, -1: 22})\n",
      "Data spread:  Counter({'1': 604, '0': 395, '-1': 225})\n"
>>>>>>> f5732e50df470a54703b3c767973179f753873af
     ]
    },
    {
     "name": "stderr",
     "output_type": "stream",
     "text": [
      "/home/seb/anaconda3/lib/python3.7/site-packages/sklearn/ensemble/forest.py:246: FutureWarning: The default value of n_estimators will change from 10 in version 0.20 to 100 in 0.22.\n",
      "  \"10 in version 0.20 to 100 in 0.22.\", FutureWarning)\n"
     ]
    },
    {
     "name": "stdout",
     "output_type": "stream",
     "text": [
<<<<<<< HEAD
      "accuracy: 0.43209876543209874\n",
      "predicted class counts: Counter({1: 127, 0: 101, -1: 15})\n",
      "Data spread:  Counter({'1': 497, '0': 318, '-1': 155})\n"
=======
      "accuracy: 0.48366013071895425\n",
      "predicted class counts: Counter({1: 200, 0: 76, -1: 30})\n",
      "Data spread:  Counter({'1': 604, '0': 395, '-1': 225})\n"
>>>>>>> f5732e50df470a54703b3c767973179f753873af
     ]
    },
    {
     "name": "stderr",
     "output_type": "stream",
     "text": [
      "/home/seb/anaconda3/lib/python3.7/site-packages/sklearn/ensemble/forest.py:246: FutureWarning: The default value of n_estimators will change from 10 in version 0.20 to 100 in 0.22.\n",
      "  \"10 in version 0.20 to 100 in 0.22.\", FutureWarning)\n"
     ]
    },
    {
     "name": "stdout",
     "output_type": "stream",
     "text": [
<<<<<<< HEAD
      "accuracy: 0.48148148148148145\n",
      "predicted class counts: Counter({1: 174, 0: 57, -1: 12})\n",
      "training 480 out of 500\n",
      "Data spread:  Counter({'1': 497, '0': 318, '-1': 155})\n"
=======
      "accuracy: 0.46405228758169936\n",
      "predicted class counts: Counter({1: 211, 0: 74, -1: 21})\n",
      "training 480 out of 500\n",
      "Data spread:  Counter({'1': 604, '0': 395, '-1': 225})\n"
>>>>>>> f5732e50df470a54703b3c767973179f753873af
     ]
    },
    {
     "name": "stderr",
     "output_type": "stream",
     "text": [
      "/home/seb/anaconda3/lib/python3.7/site-packages/sklearn/ensemble/forest.py:246: FutureWarning: The default value of n_estimators will change from 10 in version 0.20 to 100 in 0.22.\n",
      "  \"10 in version 0.20 to 100 in 0.22.\", FutureWarning)\n"
     ]
    },
    {
     "name": "stdout",
     "output_type": "stream",
     "text": [
<<<<<<< HEAD
      "accuracy: 0.45267489711934156\n",
      "predicted class counts: Counter({1: 149, 0: 75, -1: 19})\n",
      "Data spread:  Counter({'1': 497, '0': 318, '-1': 155})\n"
=======
      "accuracy: 0.4215686274509804\n",
      "predicted class counts: Counter({1: 199, 0: 79, -1: 28})\n",
      "Data spread:  Counter({'1': 604, '0': 395, '-1': 225})\n"
>>>>>>> f5732e50df470a54703b3c767973179f753873af
     ]
    },
    {
     "name": "stderr",
     "output_type": "stream",
     "text": [
      "/home/seb/anaconda3/lib/python3.7/site-packages/sklearn/ensemble/forest.py:246: FutureWarning: The default value of n_estimators will change from 10 in version 0.20 to 100 in 0.22.\n",
      "  \"10 in version 0.20 to 100 in 0.22.\", FutureWarning)\n"
     ]
    },
    {
     "name": "stdout",
     "output_type": "stream",
     "text": [
<<<<<<< HEAD
      "accuracy: 0.4403292181069959\n",
      "predicted class counts: Counter({1: 147, 0: 80, -1: 16})\n",
      "Data spread:  Counter({'1': 497, '0': 318, '-1': 155})\n"
=======
      "accuracy: 0.4869281045751634\n",
      "predicted class counts: Counter({1: 196, 0: 92, -1: 18})\n",
      "Data spread:  Counter({'1': 604, '0': 395, '-1': 225})\n"
>>>>>>> f5732e50df470a54703b3c767973179f753873af
     ]
    },
    {
     "name": "stderr",
     "output_type": "stream",
     "text": [
      "/home/seb/anaconda3/lib/python3.7/site-packages/sklearn/ensemble/forest.py:246: FutureWarning: The default value of n_estimators will change from 10 in version 0.20 to 100 in 0.22.\n",
      "  \"10 in version 0.20 to 100 in 0.22.\", FutureWarning)\n"
     ]
    },
    {
     "name": "stdout",
     "output_type": "stream",
     "text": [
<<<<<<< HEAD
      "accuracy: 0.49794238683127573\n",
      "predicted class counts: Counter({1: 152, 0: 74, -1: 17})\n",
      "Data spread:  Counter({'1': 497, '0': 318, '-1': 155})\n"
=======
      "accuracy: 0.4477124183006536\n",
      "predicted class counts: Counter({1: 201, 0: 79, -1: 26})\n",
      "Data spread:  Counter({'1': 604, '0': 395, '-1': 225})\n"
>>>>>>> f5732e50df470a54703b3c767973179f753873af
     ]
    },
    {
     "name": "stderr",
     "output_type": "stream",
     "text": [
      "/home/seb/anaconda3/lib/python3.7/site-packages/sklearn/ensemble/forest.py:246: FutureWarning: The default value of n_estimators will change from 10 in version 0.20 to 100 in 0.22.\n",
      "  \"10 in version 0.20 to 100 in 0.22.\", FutureWarning)\n"
     ]
    },
    {
     "name": "stdout",
     "output_type": "stream",
     "text": [
<<<<<<< HEAD
      "accuracy: 0.4156378600823045\n",
      "predicted class counts: Counter({1: 168, 0: 62, -1: 13})\n",
      "Data spread:  Counter({'1': 497, '0': 318, '-1': 155})\n"
=======
      "accuracy: 0.46405228758169936\n",
      "predicted class counts: Counter({1: 197, 0: 78, -1: 31})\n",
      "Data spread:  Counter({'1': 604, '0': 395, '-1': 225})\n"
>>>>>>> f5732e50df470a54703b3c767973179f753873af
     ]
    },
    {
     "name": "stderr",
     "output_type": "stream",
     "text": [
      "/home/seb/anaconda3/lib/python3.7/site-packages/sklearn/ensemble/forest.py:246: FutureWarning: The default value of n_estimators will change from 10 in version 0.20 to 100 in 0.22.\n",
      "  \"10 in version 0.20 to 100 in 0.22.\", FutureWarning)\n"
     ]
    },
    {
     "name": "stdout",
     "output_type": "stream",
     "text": [
<<<<<<< HEAD
      "accuracy: 0.42386831275720166\n",
      "predicted class counts: Counter({1: 175, 0: 51, -1: 17})\n",
      "training 485 out of 500\n",
      "Data spread:  Counter({'1': 497, '0': 318, '-1': 155})\n"
=======
      "accuracy: 0.4150326797385621\n",
      "predicted class counts: Counter({1: 168, 0: 116, -1: 22})\n",
      "training 485 out of 500\n",
      "Data spread:  Counter({'1': 604, '0': 395, '-1': 225})\n"
>>>>>>> f5732e50df470a54703b3c767973179f753873af
     ]
    },
    {
     "name": "stderr",
     "output_type": "stream",
     "text": [
      "/home/seb/anaconda3/lib/python3.7/site-packages/sklearn/ensemble/forest.py:246: FutureWarning: The default value of n_estimators will change from 10 in version 0.20 to 100 in 0.22.\n",
      "  \"10 in version 0.20 to 100 in 0.22.\", FutureWarning)\n"
     ]
    },
    {
     "name": "stdout",
     "output_type": "stream",
     "text": [
<<<<<<< HEAD
      "accuracy: 0.4567901234567901\n",
      "predicted class counts: Counter({1: 150, 0: 72, -1: 21})\n",
      "Data spread:  Counter({'1': 497, '0': 318, '-1': 155})\n"
=======
      "accuracy: 0.4117647058823529\n",
      "predicted class counts: Counter({1: 201, 0: 81, -1: 24})\n",
      "Data spread:  Counter({'1': 604, '0': 395, '-1': 225})\n"
>>>>>>> f5732e50df470a54703b3c767973179f753873af
     ]
    },
    {
     "name": "stderr",
     "output_type": "stream",
     "text": [
      "/home/seb/anaconda3/lib/python3.7/site-packages/sklearn/ensemble/forest.py:246: FutureWarning: The default value of n_estimators will change from 10 in version 0.20 to 100 in 0.22.\n",
      "  \"10 in version 0.20 to 100 in 0.22.\", FutureWarning)\n"
     ]
    },
    {
     "name": "stdout",
     "output_type": "stream",
     "text": [
<<<<<<< HEAD
      "accuracy: 0.41975308641975306\n",
      "predicted class counts: Counter({1: 163, 0: 58, -1: 22})\n",
      "Data spread:  Counter({'1': 497, '0': 318, '-1': 155})\n"
=======
      "accuracy: 0.3888888888888889\n",
      "predicted class counts: Counter({1: 237, 0: 53, -1: 16})\n",
      "Data spread:  Counter({'1': 604, '0': 395, '-1': 225})\n"
>>>>>>> f5732e50df470a54703b3c767973179f753873af
     ]
    },
    {
     "name": "stderr",
     "output_type": "stream",
     "text": [
      "/home/seb/anaconda3/lib/python3.7/site-packages/sklearn/ensemble/forest.py:246: FutureWarning: The default value of n_estimators will change from 10 in version 0.20 to 100 in 0.22.\n",
      "  \"10 in version 0.20 to 100 in 0.22.\", FutureWarning)\n"
     ]
    },
    {
     "name": "stdout",
     "output_type": "stream",
     "text": [
<<<<<<< HEAD
      "accuracy: 0.49382716049382713\n",
      "predicted class counts: Counter({1: 148, 0: 74, -1: 21})\n",
      "Data spread:  Counter({'1': 497, '0': 318, '-1': 155})\n"
=======
      "accuracy: 0.4542483660130719\n",
      "predicted class counts: Counter({1: 189, 0: 88, -1: 29})\n",
      "Data spread:  Counter({'1': 604, '0': 395, '-1': 225})\n"
>>>>>>> f5732e50df470a54703b3c767973179f753873af
     ]
    },
    {
     "name": "stderr",
     "output_type": "stream",
     "text": [
      "/home/seb/anaconda3/lib/python3.7/site-packages/sklearn/ensemble/forest.py:246: FutureWarning: The default value of n_estimators will change from 10 in version 0.20 to 100 in 0.22.\n",
      "  \"10 in version 0.20 to 100 in 0.22.\", FutureWarning)\n"
     ]
    },
    {
     "name": "stdout",
     "output_type": "stream",
     "text": [
<<<<<<< HEAD
      "accuracy: 0.448559670781893\n",
      "predicted class counts: Counter({1: 172, 0: 60, -1: 11})\n",
      "Data spread:  Counter({'1': 497, '0': 318, '-1': 155})\n"
=======
      "accuracy: 0.4542483660130719\n",
      "predicted class counts: Counter({1: 198, 0: 68, -1: 40})\n",
      "Data spread:  Counter({'1': 604, '0': 395, '-1': 225})\n"
>>>>>>> f5732e50df470a54703b3c767973179f753873af
     ]
    },
    {
     "name": "stderr",
     "output_type": "stream",
     "text": [
      "/home/seb/anaconda3/lib/python3.7/site-packages/sklearn/ensemble/forest.py:246: FutureWarning: The default value of n_estimators will change from 10 in version 0.20 to 100 in 0.22.\n",
      "  \"10 in version 0.20 to 100 in 0.22.\", FutureWarning)\n"
     ]
    },
    {
     "name": "stdout",
     "output_type": "stream",
     "text": [
<<<<<<< HEAD
      "accuracy: 0.4279835390946502\n",
      "predicted class counts: Counter({1: 160, 0: 76, -1: 7})\n",
      "training 490 out of 500\n",
      "Data spread:  Counter({'1': 497, '0': 318, '-1': 155})\n"
=======
      "accuracy: 0.47058823529411764\n",
      "predicted class counts: Counter({1: 175, 0: 103, -1: 28})\n",
      "training 490 out of 500\n",
      "Data spread:  Counter({'1': 604, '0': 395, '-1': 225})\n"
>>>>>>> f5732e50df470a54703b3c767973179f753873af
     ]
    },
    {
     "name": "stderr",
     "output_type": "stream",
     "text": [
      "/home/seb/anaconda3/lib/python3.7/site-packages/sklearn/ensemble/forest.py:246: FutureWarning: The default value of n_estimators will change from 10 in version 0.20 to 100 in 0.22.\n",
      "  \"10 in version 0.20 to 100 in 0.22.\", FutureWarning)\n"
     ]
    },
    {
     "name": "stdout",
     "output_type": "stream",
     "text": [
<<<<<<< HEAD
      "accuracy: 0.448559670781893\n",
      "predicted class counts: Counter({1: 177, 0: 58, -1: 8})\n",
      "Data spread:  Counter({'1': 497, '0': 318, '-1': 155})\n"
=======
      "accuracy: 0.4477124183006536\n",
      "predicted class counts: Counter({1: 200, 0: 87, -1: 19})\n",
      "Data spread:  Counter({'1': 604, '0': 395, '-1': 225})\n"
>>>>>>> f5732e50df470a54703b3c767973179f753873af
     ]
    },
    {
     "name": "stderr",
     "output_type": "stream",
     "text": [
      "/home/seb/anaconda3/lib/python3.7/site-packages/sklearn/ensemble/forest.py:246: FutureWarning: The default value of n_estimators will change from 10 in version 0.20 to 100 in 0.22.\n",
      "  \"10 in version 0.20 to 100 in 0.22.\", FutureWarning)\n"
     ]
    },
    {
     "name": "stdout",
     "output_type": "stream",
     "text": [
<<<<<<< HEAD
      "accuracy: 0.4403292181069959\n",
      "predicted class counts: Counter({1: 145, 0: 77, -1: 21})\n",
      "Data spread:  Counter({'1': 497, '0': 318, '-1': 155})\n"
=======
      "accuracy: 0.4542483660130719\n",
      "predicted class counts: Counter({1: 165, 0: 112, -1: 29})\n",
      "Data spread:  Counter({'1': 604, '0': 395, '-1': 225})\n"
>>>>>>> f5732e50df470a54703b3c767973179f753873af
     ]
    },
    {
     "name": "stderr",
     "output_type": "stream",
     "text": [
      "/home/seb/anaconda3/lib/python3.7/site-packages/sklearn/ensemble/forest.py:246: FutureWarning: The default value of n_estimators will change from 10 in version 0.20 to 100 in 0.22.\n",
      "  \"10 in version 0.20 to 100 in 0.22.\", FutureWarning)\n"
     ]
    },
    {
     "name": "stdout",
     "output_type": "stream",
     "text": [
<<<<<<< HEAD
      "accuracy: 0.3991769547325103\n",
      "predicted class counts: Counter({1: 119, 0: 95, -1: 29})\n",
      "Data spread:  Counter({'1': 497, '0': 318, '-1': 155})\n"
=======
      "accuracy: 0.45751633986928103\n",
      "predicted class counts: Counter({1: 183, 0: 98, -1: 25})\n",
      "Data spread:  Counter({'1': 604, '0': 395, '-1': 225})\n"
>>>>>>> f5732e50df470a54703b3c767973179f753873af
     ]
    },
    {
     "name": "stderr",
     "output_type": "stream",
     "text": [
      "/home/seb/anaconda3/lib/python3.7/site-packages/sklearn/ensemble/forest.py:246: FutureWarning: The default value of n_estimators will change from 10 in version 0.20 to 100 in 0.22.\n",
      "  \"10 in version 0.20 to 100 in 0.22.\", FutureWarning)\n"
     ]
    },
    {
     "name": "stdout",
     "output_type": "stream",
     "text": [
<<<<<<< HEAD
      "accuracy: 0.4444444444444444\n",
      "predicted class counts: Counter({1: 144, 0: 88, -1: 11})\n",
      "Data spread:  Counter({'1': 497, '0': 318, '-1': 155})\n"
=======
      "accuracy: 0.46078431372549017\n",
      "predicted class counts: Counter({1: 200, 0: 80, -1: 26})\n",
      "Data spread:  Counter({'1': 604, '0': 395, '-1': 225})\n"
>>>>>>> f5732e50df470a54703b3c767973179f753873af
     ]
    },
    {
     "name": "stderr",
     "output_type": "stream",
     "text": [
      "/home/seb/anaconda3/lib/python3.7/site-packages/sklearn/ensemble/forest.py:246: FutureWarning: The default value of n_estimators will change from 10 in version 0.20 to 100 in 0.22.\n",
      "  \"10 in version 0.20 to 100 in 0.22.\", FutureWarning)\n"
     ]
    },
    {
     "name": "stdout",
     "output_type": "stream",
     "text": [
<<<<<<< HEAD
      "accuracy: 0.40329218106995884\n",
      "predicted class counts: Counter({1: 149, 0: 78, -1: 16})\n",
      "training 495 out of 500\n",
      "Data spread:  Counter({'1': 497, '0': 318, '-1': 155})\n"
=======
      "accuracy: 0.4542483660130719\n",
      "predicted class counts: Counter({1: 224, 0: 63, -1: 19})\n",
      "training 495 out of 500\n",
      "Data spread:  Counter({'1': 604, '0': 395, '-1': 225})\n"
>>>>>>> f5732e50df470a54703b3c767973179f753873af
     ]
    },
    {
     "name": "stderr",
     "output_type": "stream",
     "text": [
      "/home/seb/anaconda3/lib/python3.7/site-packages/sklearn/ensemble/forest.py:246: FutureWarning: The default value of n_estimators will change from 10 in version 0.20 to 100 in 0.22.\n",
      "  \"10 in version 0.20 to 100 in 0.22.\", FutureWarning)\n"
     ]
    },
    {
     "name": "stdout",
     "output_type": "stream",
     "text": [
<<<<<<< HEAD
      "accuracy: 0.4444444444444444\n",
      "predicted class counts: Counter({1: 148, 0: 77, -1: 18})\n",
      "Data spread:  Counter({'1': 497, '0': 318, '-1': 155})\n"
=======
      "accuracy: 0.42483660130718953\n",
      "predicted class counts: Counter({1: 216, 0: 67, -1: 23})\n",
      "Data spread:  Counter({'1': 604, '0': 395, '-1': 225})\n"
>>>>>>> f5732e50df470a54703b3c767973179f753873af
     ]
    },
    {
     "name": "stderr",
     "output_type": "stream",
     "text": [
      "/home/seb/anaconda3/lib/python3.7/site-packages/sklearn/ensemble/forest.py:246: FutureWarning: The default value of n_estimators will change from 10 in version 0.20 to 100 in 0.22.\n",
      "  \"10 in version 0.20 to 100 in 0.22.\", FutureWarning)\n"
     ]
    },
    {
     "name": "stdout",
     "output_type": "stream",
     "text": [
<<<<<<< HEAD
      "accuracy: 0.46502057613168724\n",
      "predicted class counts: Counter({1: 154, 0: 69, -1: 20})\n",
      "Data spread:  Counter({'1': 497, '0': 318, '-1': 155})\n"
=======
      "accuracy: 0.42810457516339867\n",
      "predicted class counts: Counter({1: 206, 0: 84, -1: 16})\n",
      "Data spread:  Counter({'1': 604, '0': 395, '-1': 225})\n"
>>>>>>> f5732e50df470a54703b3c767973179f753873af
     ]
    },
    {
     "name": "stderr",
     "output_type": "stream",
     "text": [
      "/home/seb/anaconda3/lib/python3.7/site-packages/sklearn/ensemble/forest.py:246: FutureWarning: The default value of n_estimators will change from 10 in version 0.20 to 100 in 0.22.\n",
      "  \"10 in version 0.20 to 100 in 0.22.\", FutureWarning)\n"
     ]
    },
    {
     "name": "stdout",
     "output_type": "stream",
     "text": [
<<<<<<< HEAD
      "accuracy: 0.51440329218107\n",
      "predicted class counts: Counter({1: 151, 0: 77, -1: 15})\n",
      "Data spread:  Counter({'1': 497, '0': 318, '-1': 155})\n"
=======
      "accuracy: 0.4738562091503268\n",
      "predicted class counts: Counter({1: 228, 0: 60, -1: 18})\n",
      "Data spread:  Counter({'1': 604, '0': 395, '-1': 225})\n"
>>>>>>> f5732e50df470a54703b3c767973179f753873af
     ]
    },
    {
     "name": "stderr",
     "output_type": "stream",
     "text": [
      "/home/seb/anaconda3/lib/python3.7/site-packages/sklearn/ensemble/forest.py:246: FutureWarning: The default value of n_estimators will change from 10 in version 0.20 to 100 in 0.22.\n",
      "  \"10 in version 0.20 to 100 in 0.22.\", FutureWarning)\n"
     ]
    },
    {
     "name": "stdout",
     "output_type": "stream",
     "text": [
<<<<<<< HEAD
      "accuracy: 0.40329218106995884\n",
      "predicted class counts: Counter({1: 141, 0: 83, -1: 19})\n",
      "Data spread:  Counter({'1': 497, '0': 318, '-1': 155})\n"
=======
      "accuracy: 0.46078431372549017\n",
      "predicted class counts: Counter({1: 181, 0: 92, -1: 33})\n",
      "Data spread:  Counter({'1': 604, '0': 395, '-1': 225})\n"
>>>>>>> f5732e50df470a54703b3c767973179f753873af
     ]
    },
    {
     "name": "stderr",
     "output_type": "stream",
     "text": [
      "/home/seb/anaconda3/lib/python3.7/site-packages/sklearn/ensemble/forest.py:246: FutureWarning: The default value of n_estimators will change from 10 in version 0.20 to 100 in 0.22.\n",
      "  \"10 in version 0.20 to 100 in 0.22.\", FutureWarning)\n"
     ]
    },
    {
     "name": "stdout",
     "output_type": "stream",
     "text": [
<<<<<<< HEAD
      "accuracy: 0.411522633744856\n",
      "predicted class counts: Counter({1: 141, 0: 84, -1: 18})\n",
      "training 500 out of 500\n",
      "Data spread:  Counter({'1': 497, '0': 318, '-1': 155})\n"
=======
      "accuracy: 0.4117647058823529\n",
      "predicted class counts: Counter({1: 198, 0: 78, -1: 30})\n",
      "training 500 out of 500\n",
      "Data spread:  Counter({'1': 604, '0': 395, '-1': 225})\n"
>>>>>>> f5732e50df470a54703b3c767973179f753873af
     ]
    },
    {
     "name": "stderr",
     "output_type": "stream",
     "text": [
      "/home/seb/anaconda3/lib/python3.7/site-packages/sklearn/ensemble/forest.py:246: FutureWarning: The default value of n_estimators will change from 10 in version 0.20 to 100 in 0.22.\n",
      "  \"10 in version 0.20 to 100 in 0.22.\", FutureWarning)\n"
     ]
    },
    {
     "name": "stdout",
     "output_type": "stream",
     "text": [
<<<<<<< HEAD
      "accuracy: 0.448559670781893\n",
      "predicted class counts: Counter({1: 124, 0: 95, -1: 24})\n",
      "Data spread:  Counter({'1': 497, '0': 318, '-1': 155})\n"
=======
      "accuracy: 0.43137254901960786\n",
      "predicted class counts: Counter({1: 179, 0: 93, -1: 34})\n",
      "Data spread:  Counter({'1': 604, '0': 395, '-1': 225})\n"
>>>>>>> f5732e50df470a54703b3c767973179f753873af
     ]
    },
    {
     "name": "stderr",
     "output_type": "stream",
     "text": [
      "/home/seb/anaconda3/lib/python3.7/site-packages/sklearn/ensemble/forest.py:246: FutureWarning: The default value of n_estimators will change from 10 in version 0.20 to 100 in 0.22.\n",
      "  \"10 in version 0.20 to 100 in 0.22.\", FutureWarning)\n"
     ]
    },
    {
     "name": "stdout",
     "output_type": "stream",
     "text": [
<<<<<<< HEAD
      "accuracy: 0.4156378600823045\n",
      "predicted class counts: Counter({1: 151, 0: 65, -1: 27})\n",
      "Data spread:  Counter({'1': 497, '0': 318, '-1': 155})\n"
=======
      "accuracy: 0.43790849673202614\n",
      "predicted class counts: Counter({1: 202, 0: 73, -1: 31})\n",
      "Data spread:  Counter({'1': 604, '0': 395, '-1': 225})\n"
>>>>>>> f5732e50df470a54703b3c767973179f753873af
     ]
    },
    {
     "name": "stderr",
     "output_type": "stream",
     "text": [
      "/home/seb/anaconda3/lib/python3.7/site-packages/sklearn/ensemble/forest.py:246: FutureWarning: The default value of n_estimators will change from 10 in version 0.20 to 100 in 0.22.\n",
      "  \"10 in version 0.20 to 100 in 0.22.\", FutureWarning)\n"
     ]
    },
    {
     "name": "stdout",
     "output_type": "stream",
     "text": [
<<<<<<< HEAD
      "accuracy: 0.4403292181069959\n",
      "predicted class counts: Counter({1: 174, 0: 50, -1: 19})\n",
      "Data spread:  Counter({'1': 497, '0': 318, '-1': 155})\n"
=======
      "accuracy: 0.4673202614379085\n",
      "predicted class counts: Counter({1: 208, 0: 72, -1: 26})\n",
      "Data spread:  Counter({'1': 604, '0': 395, '-1': 225})\n"
>>>>>>> f5732e50df470a54703b3c767973179f753873af
     ]
    },
    {
     "name": "stderr",
     "output_type": "stream",
     "text": [
      "/home/seb/anaconda3/lib/python3.7/site-packages/sklearn/ensemble/forest.py:246: FutureWarning: The default value of n_estimators will change from 10 in version 0.20 to 100 in 0.22.\n",
      "  \"10 in version 0.20 to 100 in 0.22.\", FutureWarning)\n"
     ]
    },
    {
     "name": "stdout",
     "output_type": "stream",
     "text": [
<<<<<<< HEAD
      "accuracy: 0.43621399176954734\n",
      "predicted class counts: Counter({1: 160, 0: 67, -1: 16})\n",
      "Data spread:  Counter({'1': 497, '0': 318, '-1': 155})\n"
=======
      "accuracy: 0.45098039215686275\n",
      "predicted class counts: Counter({1: 183, 0: 88, -1: 35})\n",
      "Data spread:  Counter({'1': 604, '0': 395, '-1': 225})\n"
>>>>>>> f5732e50df470a54703b3c767973179f753873af
     ]
    },
    {
     "name": "stderr",
     "output_type": "stream",
     "text": [
      "/home/seb/anaconda3/lib/python3.7/site-packages/sklearn/ensemble/forest.py:246: FutureWarning: The default value of n_estimators will change from 10 in version 0.20 to 100 in 0.22.\n",
      "  \"10 in version 0.20 to 100 in 0.22.\", FutureWarning)\n"
     ]
    },
    {
     "name": "stdout",
     "output_type": "stream",
     "text": [
<<<<<<< HEAD
      "accuracy: 0.4691358024691358\n",
      "predicted class counts: Counter({1: 153, 0: 68, -1: 22})\n"
=======
      "accuracy: 0.42810457516339867\n",
      "predicted class counts: Counter({1: 205, 0: 80, -1: 21})\n"
>>>>>>> f5732e50df470a54703b3c767973179f753873af
     ]
    }
   ],
   "source": [
    "tickers = get_sp500()\n",
    "compile_data()\n",
    "long, short, hold = train_all(tickers)"
   ]
  },
  {
   "cell_type": "code",
<<<<<<< HEAD
   "execution_count": 17,
=======
   "execution_count": 7,
>>>>>>> f5732e50df470a54703b3c767973179f753873af
   "metadata": {},
   "outputs": [],
   "source": [
    "long = sorted(long,key=lambda x: x[2], reverse=True)\n",
    "short = sorted(short,key=lambda x: x[2], reverse=True)\n",
    "hold = sorted(hold,key=lambda x: x[2], reverse=True)"
   ]
  },
  {
   "cell_type": "code",
<<<<<<< HEAD
   "execution_count": 26,
=======
   "execution_count": 8,
>>>>>>> f5732e50df470a54703b3c767973179f753873af
   "metadata": {
    "scrolled": true
   },
   "outputs": [
    {
     "data": {
      "text/plain": [
<<<<<<< HEAD
       "[('DOV', 1, 0.5308641975308642),\n",
       " ('AON', 1, 0.5185185185185185),\n",
       " ('SWKS', 1, 0.5185185185185185),\n",
       " ('RSG', 1, 0.51440329218107),\n",
       " ('TGT', 1, 0.51440329218107),\n",
       " ('XEL', 1, 0.51440329218107),\n",
       " ('HFC', 1, 0.5102880658436214),\n",
       " ('JCI', 1, 0.5061728395061729),\n",
       " ('BXP', 1, 0.5020576131687243),\n",
       " ('FFIV', 1, 0.5020576131687243)]"
      ]
     },
     "execution_count": 26,
=======
       "[('ROK', 1, 0.5490196078431373),\n",
       " ('AAPL', 1, 0.5196078431372549),\n",
       " ('ED', 1, 0.5130718954248366),\n",
       " ('ES', 1, 0.5065359477124183),\n",
       " ('BA', 1, 0.49673202614379086),\n",
       " ('DISCA', 1, 0.49673202614379086),\n",
       " ('MS', 1, 0.49673202614379086),\n",
       " ('SBAC', 1, 0.49673202614379086),\n",
       " ('BRK.B', 1, 0.4934640522875817),\n",
       " ('KO', 1, 0.4934640522875817)]"
      ]
     },
     "execution_count": 8,
>>>>>>> f5732e50df470a54703b3c767973179f753873af
     "metadata": {},
     "output_type": "execute_result"
    }
   ],
   "source": [
    "long[:10]"
   ]
  },
  {
   "cell_type": "code",
<<<<<<< HEAD
   "execution_count": 24,
=======
   "execution_count": 9,
>>>>>>> f5732e50df470a54703b3c767973179f753873af
   "metadata": {},
   "outputs": [
    {
     "data": {
      "text/plain": [
<<<<<<< HEAD
       "[('BK', -1, 0.5020576131687243),\n",
       " ('CTSH', -1, 0.5020576131687243),\n",
       " ('COP', -1, 0.5020576131687243),\n",
       " ('TPR', -1, 0.49794238683127573),\n",
       " ('AAPL', -1, 0.49382716049382713),\n",
       " ('ROK', -1, 0.49382716049382713),\n",
       " ('STX', -1, 0.48559670781893005),\n",
       " ('NWL', -1, 0.48148148148148145),\n",
       " ('PNW', -1, 0.48148148148148145),\n",
       " ('GLW', -1, 0.4773662551440329)]"
      ]
     },
     "execution_count": 24,
=======
       "[('NVR', -1, 0.49673202614379086),\n",
       " ('CFG', -1, 0.4934640522875817),\n",
       " ('PXD', -1, 0.4869281045751634),\n",
       " ('AMT', -1, 0.48366013071895425),\n",
       " ('EXPE', -1, 0.4803921568627451),\n",
       " ('MHK', -1, 0.47058823529411764),\n",
       " ('TPR', -1, 0.4673202614379085),\n",
       " ('PPG', -1, 0.46405228758169936),\n",
       " ('CHD', -1, 0.46078431372549017),\n",
       " ('CMI', -1, 0.46078431372549017)]"
      ]
     },
     "execution_count": 9,
>>>>>>> f5732e50df470a54703b3c767973179f753873af
     "metadata": {},
     "output_type": "execute_result"
    }
   ],
   "source": [
    "short[:10]"
   ]
  },
  {
   "cell_type": "code",
<<<<<<< HEAD
   "execution_count": 25,
=======
   "execution_count": 10,
>>>>>>> f5732e50df470a54703b3c767973179f753873af
   "metadata": {},
   "outputs": [
    {
     "data": {
      "text/plain": [
<<<<<<< HEAD
       "[('CRM', 0, 0.5308641975308642),\n",
       " ('HCA', 0, 0.5185185185185185),\n",
       " ('ADI', 0, 0.5061728395061729),\n",
       " ('JKHY', 0, 0.5061728395061729),\n",
       " ('LVS', 0, 0.5061728395061729),\n",
       " ('BSX', 0, 0.5020576131687243),\n",
       " ('ABBV', 0, 0.49794238683127573),\n",
       " ('BR', 0, 0.49794238683127573),\n",
       " ('EL', 0, 0.49794238683127573),\n",
       " ('NVDA', 0, 0.49794238683127573)]"
      ]
     },
     "execution_count": 25,
=======
       "[('DFS', 0, 0.49673202614379086),\n",
       " ('HST', 0, 0.4934640522875817),\n",
       " ('TDG', 0, 0.4869281045751634),\n",
       " ('WBA', 0, 0.4869281045751634),\n",
       " ('HUM', 0, 0.48366013071895425),\n",
       " ('ADI', 0, 0.477124183006536),\n",
       " ('CI', 0, 0.477124183006536),\n",
       " ('CCI', 0, 0.477124183006536),\n",
       " ('FB', 0, 0.477124183006536),\n",
       " ('HIG', 0, 0.477124183006536)]"
      ]
     },
     "execution_count": 10,
>>>>>>> f5732e50df470a54703b3c767973179f753873af
     "metadata": {},
     "output_type": "execute_result"
    }
   ],
   "source": [
    "hold[:10]"
   ]
  },
  {
   "cell_type": "markdown",
   "metadata": {},
   "source": [
    "# To Trade\n",
    "* Only buy if SPY is above 200 day moving avg\n",
    "* Sell stock if it is below its 100 day moving avg, or not in buy list anymore\n",
    "* Rebalance every 2 weeks with ATR values\n",
    "* Position Size = (Account Value * risk parity) / ATR20"
   ]
  },
  {
   "cell_type": "code",
   "execution_count": 12,
   "metadata": {},
   "outputs": [],
   "source": [
    "def calc_size(atr, risk_factor=0.05, val=1200):\n",
    "    return (val * risk_factor) / atr"
   ]
  },
  {
   "cell_type": "code",
<<<<<<< HEAD
   "execution_count": 22,
=======
   "execution_count": 18,
>>>>>>> f5732e50df470a54703b3c767973179f753873af
   "metadata": {},
   "outputs": [
    {
     "data": {
      "text/plain": [
       "82.19178082191782"
      ]
     },
<<<<<<< HEAD
     "execution_count": 22,
=======
     "execution_count": 18,
>>>>>>> f5732e50df470a54703b3c767973179f753873af
     "metadata": {},
     "output_type": "execute_result"
    }
   ],
   "source": [
    "calc_size(0.73)"
   ]
  },
  {
   "cell_type": "markdown",
   "metadata": {},
   "source": [
    "# Curr Portfolio (25000 ToS paper)\n",
    "* MS: 1 Share (< 63.83)\n",
    "* ES: 1 share (79)\n",
    "* ED: 1 share (88)\n",
    "* AAPL: 1 share (262)\n",
    "* DISCA: 2 shares (62)\n",
    "* SBAC: 1 share (228.62)\n",
    "* KO: 1 share (52)\n",
    "* Cheap CFG put\n",
    "\n"
   ]
  },
  {
   "cell_type": "markdown",
   "metadata": {},
   "source": [
    "#PL from Mon Oct 14th (all end of day):\n",
    "* Mon:"
   ]
  },
  {
   "cell_type": "code",
   "execution_count": null,
   "metadata": {},
   "outputs": [],
   "source": []
  }
 ],
 "metadata": {
  "kernelspec": {
   "display_name": "Python 3",
   "language": "python",
   "name": "python3"
  },
  "language_info": {
   "codemirror_mode": {
    "name": "ipython",
    "version": 3
   },
   "file_extension": ".py",
   "mimetype": "text/x-python",
   "name": "python",
   "nbconvert_exporter": "python",
   "pygments_lexer": "ipython3",
   "version": "3.7.3"
  }
 },
 "nbformat": 4,
 "nbformat_minor": 2
}
