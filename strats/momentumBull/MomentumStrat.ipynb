{
 "cells": [
  {
   "cell_type": "markdown",
   "metadata": {},
   "source": [
    "# Momentum Strategy - Weekly Rebalance"
   ]
  },
  {
   "cell_type": "markdown",
   "metadata": {},
   "source": [
    "\n",
    "1. Rank Stocks in SP500 based on momentum. Momentum: calculated by multiplying the annualized exponential regression slope of past 90 days by R^2 coeeffecient of regression calc\n",
    "2. Position Size: Calc using 20 day ATR of each stock, multiplied by 10 basis points of portfolio value\n",
    "3. Open new positions only if SP 500 is above 200 day moving avg\n",
    "4. Every week, sell stocks that are not in top 20% momentum ranking, or have fallen below their 100 day moving avg. Buy stocks in top 20% momentum rankings\n",
    "5. Every other week, rebalance exisitng positions with updated ATR values\n",
    "https://teddykoker.com/2019/05/momentum-strategy-from-stocks-on-the-move-in-python/"
   ]
  },
  {
   "cell_type": "markdown",
   "metadata": {},
   "source": [
    "DATA: \n",
    "* AlphaVantage: https://www.alphavantage.co/documentation/6a772cd25\n",
    "* QUANDL\n",
    "* Or just learn Quant Connect\n",
    "* Look into Kelly Edge"
   ]
  },
  {
   "cell_type": "code",
   "execution_count": null,
   "metadata": {},
   "outputs": [],
   "source": []
  }
 ],
 "metadata": {
  "kernelspec": {
   "display_name": "Python 3",
   "language": "python",
   "name": "python3"
  },
  "language_info": {
   "codemirror_mode": {
    "name": "ipython",
    "version": 3
   },
   "file_extension": ".py",
   "mimetype": "text/x-python",
   "name": "python",
   "nbconvert_exporter": "python",
   "pygments_lexer": "ipython3",
   "version": "3.7.3"
  }
 },
 "nbformat": 4,
 "nbformat_minor": 2
}
